{
 "cells": [
  {
   "cell_type": "code",
   "execution_count": 5,
   "metadata": {
    "slideshow": {
     "slide_type": "skip"
    }
   },
   "outputs": [],
   "source": [
    "options(jupyter.rich_display = FALSE)\n",
    "options(repr.plot.width=6, repr.plot.height=4)"
   ]
  },
  {
   "cell_type": "markdown",
   "metadata": {
    "slideshow": {
     "slide_type": "slide"
    }
   },
   "source": [
    "# CMPE 140\n",
    "# Factors and categories"
   ]
  },
  {
   "cell_type": "markdown",
   "metadata": {
    "slideshow": {
     "slide_type": "slide"
    }
   },
   "source": [
    "Consider the following data table:\n",
    "\n",
    "|Name|Gender|Month of Birth|\n",
    "|----|----|-----|\n",
    "|Can|Male|January|\n",
    "|Cem|Male|July|\n",
    "|Hande|Female|May|\n",
    "|Mehmet|Male|May|\n",
    "|Deniz|Female|February|\n",
    "|Kemal|Male|July|\n",
    "|Derya|Female|May|\n",
    "|Fatma|Female|April|\n",
    "\n",
    "* All columns are strings.\n",
    "* `Gender` and `Month of Birth` columns can be considered **categories**."
   ]
  },
  {
   "cell_type": "markdown",
   "metadata": {
    "slideshow": {
     "slide_type": "slide"
    }
   },
   "source": [
    "# Categories and levels\n",
    "\n",
    "* A _categorical variable_ (factor) can take one of predetermined, discrete values.\n",
    "    * Day of week\n",
    "    * Month of year\n",
    "    * Shirt sizes\n",
    "* A single value of a categorical variable is called a _level_\n",
    "    * Monday\n",
    "    * December\n",
    "    * XL"
   ]
  },
  {
   "cell_type": "markdown",
   "metadata": {
    "slideshow": {
     "slide_type": "slide"
    }
   },
   "source": [
    "Generate vectors to hold the relevant data."
   ]
  },
  {
   "cell_type": "code",
   "execution_count": 6,
   "metadata": {
    "slideshow": {
     "slide_type": "-"
    }
   },
   "outputs": [
    {
     "data": {
      "text/plain": [
       "[1] \"character\""
      ]
     },
     "metadata": {},
     "output_type": "display_data"
    }
   ],
   "source": [
    "name <- c(\"Can\",\"Cem\",\"Hande\",\"Mehmet\",\"Deniz\",\"Kemal\",\"Derya\",\"Fatma\")\n",
    "gender <- c(\"Male\",\"Male\",\"Female\",\"Male\",\"Female\",\"Male\",\"Female\",\"Female\")\n",
    "mode(gender)"
   ]
  },
  {
   "cell_type": "markdown",
   "metadata": {},
   "source": [
    "We can convert the `gender` vector to a factor variable using the `factor()` function."
   ]
  },
  {
   "cell_type": "code",
   "execution_count": 7,
   "metadata": {},
   "outputs": [
    {
     "data": {
      "text/plain": [
       "[1] Male   Male   Female Male   Female Male   Female Female\n",
       "Levels: Female Male"
      ]
     },
     "metadata": {},
     "output_type": "display_data"
    },
    {
     "data": {
      "text/plain": [
       "[1] \"numeric\""
      ]
     },
     "metadata": {},
     "output_type": "display_data"
    }
   ],
   "source": [
    "gender_fac <- factor(gender)\n",
    "gender_fac\n",
    "mode(gender_fac)"
   ]
  },
  {
   "cell_type": "markdown",
   "metadata": {
    "slideshow": {
     "slide_type": "slide"
    }
   },
   "source": [
    "# Getting the levels of a factor\n",
    "\n",
    "The factor vector  has an additional attribute, the _levels_ information."
   ]
  },
  {
   "cell_type": "code",
   "execution_count": 8,
   "metadata": {},
   "outputs": [
    {
     "data": {
      "text/plain": [
       "[1] \"Female\" \"Male\"  "
      ]
     },
     "metadata": {},
     "output_type": "display_data"
    }
   ],
   "source": [
    "levels(gender_fac)"
   ]
  },
  {
   "cell_type": "code",
   "execution_count": 9,
   "metadata": {},
   "outputs": [
    {
     "data": {
      "text/plain": [
       "[1] 2"
      ]
     },
     "metadata": {},
     "output_type": "display_data"
    }
   ],
   "source": [
    "nlevels(gender_fac)"
   ]
  },
  {
   "cell_type": "markdown",
   "metadata": {
    "slideshow": {
     "slide_type": "slide"
    }
   },
   "source": [
    "Also, common R functions handle factors in specialized ways."
   ]
  },
  {
   "cell_type": "code",
   "execution_count": 10,
   "metadata": {},
   "outputs": [
    {
     "data": {
      "text/plain": [
       "   Length     Class      Mode \n",
       "        8 character character "
      ]
     },
     "metadata": {},
     "output_type": "display_data"
    }
   ],
   "source": [
    "summary(gender)  # character vector"
   ]
  },
  {
   "cell_type": "code",
   "execution_count": 11,
   "metadata": {},
   "outputs": [
    {
     "data": {
      "text/plain": [
       "Female   Male \n",
       "     4      4 "
      ]
     },
     "metadata": {},
     "output_type": "display_data"
    }
   ],
   "source": [
    "summary(gender_fac) # factor"
   ]
  },
  {
   "cell_type": "markdown",
   "metadata": {},
   "source": [
    "One can change the level names easily using an assignment to the `levels()` function."
   ]
  },
  {
   "cell_type": "code",
   "execution_count": 12,
   "metadata": {},
   "outputs": [
    {
     "data": {
      "text/plain": [
       "[1] M M F M F M F F\n",
       "Levels: F M"
      ]
     },
     "metadata": {},
     "output_type": "display_data"
    }
   ],
   "source": [
    "levels(gender_fac) <- c(\"F\",\"M\")\n",
    "gender_fac"
   ]
  },
  {
   "cell_type": "markdown",
   "metadata": {},
   "source": [
    "Internally, categories are represented with integers starting at 1."
   ]
  },
  {
   "cell_type": "markdown",
   "metadata": {
    "slideshow": {
     "slide_type": "slide"
    }
   },
   "source": [
    "# Indexing and subsetting\n",
    "\n",
    "Elements of factor-valued vectors are selected in the same way as any other vector."
   ]
  },
  {
   "cell_type": "code",
   "execution_count": 13,
   "metadata": {},
   "outputs": [
    {
     "data": {
      "text/plain": [
       "[1] M F M F\n",
       "Levels: F M"
      ]
     },
     "metadata": {},
     "output_type": "display_data"
    }
   ],
   "source": [
    "gender_fac[2:5]"
   ]
  },
  {
   "cell_type": "code",
   "execution_count": 14,
   "metadata": {},
   "outputs": [
    {
     "data": {
      "text/plain": [
       "[1] F F F F\n",
       "Levels: F M"
      ]
     },
     "metadata": {},
     "output_type": "display_data"
    }
   ],
   "source": [
    "gender_fac[c(3,5,7:8)]"
   ]
  },
  {
   "cell_type": "markdown",
   "metadata": {},
   "source": [
    "Note that after subsetting a factor object, the object continues to store\n",
    "all defined levels even if some of the levels are no longer represented in the\n",
    "subsetted object."
   ]
  },
  {
   "cell_type": "markdown",
   "metadata": {
    "slideshow": {
     "slide_type": "slide"
    }
   },
   "source": [
    "# Filtering with factors"
   ]
  },
  {
   "cell_type": "code",
   "execution_count": 15,
   "metadata": {},
   "outputs": [
    {
     "data": {
      "text/plain": [
       "[1] M M F M F M F F\n",
       "Levels: F M"
      ]
     },
     "metadata": {},
     "output_type": "display_data"
    }
   ],
   "source": [
    "gender_fac"
   ]
  },
  {
   "cell_type": "code",
   "execution_count": 16,
   "metadata": {},
   "outputs": [
    {
     "data": {
      "text/plain": [
       "[1]  TRUE  TRUE FALSE  TRUE FALSE  TRUE FALSE FALSE"
      ]
     },
     "metadata": {},
     "output_type": "display_data"
    }
   ],
   "source": [
    "gender_fac==\"M\""
   ]
  },
  {
   "cell_type": "code",
   "execution_count": 17,
   "metadata": {},
   "outputs": [
    {
     "data": {
      "text/plain": [
       "[1] \"Can\"    \"Cem\"    \"Hande\"  \"Mehmet\" \"Deniz\"  \"Kemal\"  \"Derya\"  \"Fatma\" "
      ]
     },
     "metadata": {},
     "output_type": "display_data"
    }
   ],
   "source": [
    "name"
   ]
  },
  {
   "cell_type": "code",
   "execution_count": 18,
   "metadata": {},
   "outputs": [
    {
     "data": {
      "text/plain": [
       "[1] \"Can\"    \"Cem\"    \"Mehmet\" \"Kemal\" "
      ]
     },
     "metadata": {},
     "output_type": "display_data"
    }
   ],
   "source": [
    "name[gender_fac==\"M\"]"
   ]
  },
  {
   "cell_type": "markdown",
   "metadata": {
    "slideshow": {
     "slide_type": "slide"
    }
   },
   "source": [
    "# Removing categories\n",
    "\n",
    "Sometimes we may want to remove one level in a category. For example, consider the following factor, where the same level is duplicated."
   ]
  },
  {
   "cell_type": "code",
   "execution_count": 19,
   "metadata": {},
   "outputs": [
    {
     "data": {
      "text/plain": [
       "[1] Male   Male   Female Male   female Male   female Female\n",
       "Levels: female Female Male"
      ]
     },
     "metadata": {},
     "output_type": "display_data"
    }
   ],
   "source": [
    "gender_fac <- factor(c(\"Male\",\"Male\",\"Female\",\"Male\",\"female\",\"Male\",\"female\",\"Female\"))\n",
    "gender_fac"
   ]
  },
  {
   "cell_type": "markdown",
   "metadata": {
    "slideshow": {
     "slide_type": "-"
    }
   },
   "source": [
    "The factor has technically three levels, but actually `\"female\"` and `\"Female\"` are the same. Fix this by overwriting all occurrences of `\"female\"` with `\"Female\"`."
   ]
  },
  {
   "cell_type": "code",
   "execution_count": 20,
   "metadata": {},
   "outputs": [
    {
     "data": {
      "text/plain": [
       "[1] female female\n",
       "Levels: female Female Male"
      ]
     },
     "metadata": {},
     "output_type": "display_data"
    }
   ],
   "source": [
    "gender_fac[gender_fac==\"female\"]"
   ]
  },
  {
   "cell_type": "code",
   "execution_count": 21,
   "metadata": {
    "slideshow": {
     "slide_type": "slide"
    }
   },
   "outputs": [
    {
     "data": {
      "text/plain": [
       "[1] Male   Male   Female Male   Female Male   Female Female\n",
       "Levels: female Female Male"
      ]
     },
     "metadata": {},
     "output_type": "display_data"
    }
   ],
   "source": [
    "gender_fac[gender_fac==\"female\"] <- \"Female\"\n",
    "gender_fac"
   ]
  },
  {
   "cell_type": "markdown",
   "metadata": {},
   "source": [
    "However, the levels attribute still lists the invalid `\"female\"` category. To remove it, we use the `droplevels()` function. It removes all levels for which there are no entries."
   ]
  },
  {
   "cell_type": "code",
   "execution_count": 22,
   "metadata": {},
   "outputs": [
    {
     "data": {
      "text/plain": [
       "[1] Male   Male   Female Male   Female Male   Female Female\n",
       "Levels: Female Male"
      ]
     },
     "metadata": {},
     "output_type": "display_data"
    }
   ],
   "source": [
    "gender_fac <- droplevels(gender_fac)\n",
    "gender_fac"
   ]
  },
  {
   "cell_type": "markdown",
   "metadata": {
    "slideshow": {
     "slide_type": "slide"
    }
   },
   "source": [
    "# Nominal and ordinal factors\n",
    "* The _gender_ factor is an example of a *nominal factor*: There is no inherent order between levels. We cannot ask the question whether \"Male\" is greater than \"Female\" or not.\n",
    "\n",
    "* The _month of birth_ information is an *ordinal factor*: Months appear in a certain order, so it makes sense to say that \"January\" < \"February\"."
   ]
  },
  {
   "cell_type": "markdown",
   "metadata": {
    "slideshow": {
     "slide_type": "slide"
    }
   },
   "source": [
    "|Name|Gender|Month of Birth|\n",
    "|----|----|-----|\n",
    "|Can|Male|January|\n",
    "|Cem|Male|July|\n",
    "|Hande|Female|May|\n",
    "|Mehmet|Male|May|\n",
    "|Deniz|Female|February|\n",
    "|Kemal|Male|July|\n",
    "|Derya|Female|May|\n",
    "|Fatma|Female|April|\n",
    "\n",
    "Let’s store the observed month-of-birth (MOB) data as a character vector."
   ]
  },
  {
   "cell_type": "code",
   "execution_count": 23,
   "metadata": {
    "slideshow": {
     "slide_type": "slide"
    }
   },
   "outputs": [],
   "source": [
    "mob <- c(\"January\",\"July\",\"May\",\"May\",\"February\",\"July\",\"May\",\"April\")"
   ]
  },
  {
   "cell_type": "markdown",
   "metadata": {
    "slideshow": {
     "slide_type": "-"
    }
   },
   "source": [
    "Two problems with this vector:\n",
    "\n",
    "1. Only five unique months. Not all possible levels are represented.\n",
    "2. Doesn’t reflect the natural order of the months. If you compare January and February to see which is greater, you get:"
   ]
  },
  {
   "cell_type": "code",
   "execution_count": 24,
   "metadata": {},
   "outputs": [
    {
     "data": {
      "text/plain": [
       "[1] FALSE"
      ]
     },
     "metadata": {},
     "output_type": "display_data"
    }
   ],
   "source": [
    "mob[1] < mob[5]  # alphabetical ordering"
   ]
  },
  {
   "cell_type": "markdown",
   "metadata": {
    "slideshow": {
     "slide_type": "slide"
    }
   },
   "source": [
    "When we create a factor object, we can set `levels` parameter of the `factor()` function to ensure that it holds all the levels of the factor in the correct order."
   ]
  },
  {
   "cell_type": "code",
   "execution_count": 25,
   "metadata": {},
   "outputs": [],
   "source": [
    "months <- c(\"January\",\"February\",\"March\",\"April\",\"May\",\n",
    "            \"June\",\"July\",\"August\",\"September\",\"October\",\"November\",\"December\")"
   ]
  },
  {
   "cell_type": "code",
   "execution_count": 26,
   "metadata": {},
   "outputs": [
    {
     "data": {
      "text/plain": [
       "[1] January  July     May      May      February July     May      April   \n",
       "12 Levels: January < February < March < April < May < June < ... < December"
      ]
     },
     "metadata": {},
     "output_type": "display_data"
    }
   ],
   "source": [
    "mob_fac <- factor(mob, levels=months, ordered=TRUE)\n",
    "mob_fac"
   ]
  },
  {
   "cell_type": "markdown",
   "metadata": {
    "slideshow": {
     "slide_type": "slide"
    }
   },
   "source": [
    "Comparisons can be done correctly:"
   ]
  },
  {
   "cell_type": "code",
   "execution_count": 27,
   "metadata": {},
   "outputs": [
    {
     "data": {
      "text/plain": [
       "[1] TRUE"
      ]
     },
     "metadata": {},
     "output_type": "display_data"
    }
   ],
   "source": [
    "mob_fac[1] < mob_fac[5]  # January < February"
   ]
  },
  {
   "cell_type": "markdown",
   "metadata": {
    "slideshow": {
     "slide_type": "slide"
    }
   },
   "source": [
    "The `summary()` function gives a count of elements in each level."
   ]
  },
  {
   "cell_type": "code",
   "execution_count": 28,
   "metadata": {},
   "outputs": [
    {
     "data": {
      "text/plain": [
       "  January  February     March     April       May      June      July    August \n",
       "        1         1         0         1         3         0         2         0 \n",
       "September   October  November  December \n",
       "        0         0         0         0 "
      ]
     },
     "metadata": {},
     "output_type": "display_data"
    }
   ],
   "source": [
    "summary(mob_fac)"
   ]
  },
  {
   "cell_type": "markdown",
   "metadata": {
    "slideshow": {
     "slide_type": "slide"
    }
   },
   "source": [
    "# Combining two factor objects\n",
    "\n",
    "Earlier we have seen that combining two vectors into a single vector is done with the `c()` function:"
   ]
  },
  {
   "cell_type": "code",
   "execution_count": 29,
   "metadata": {},
   "outputs": [
    {
     "data": {
      "text/plain": [
       "[1] 1 2 3 4 7 8 9"
      ]
     },
     "metadata": {},
     "output_type": "display_data"
    }
   ],
   "source": [
    "x1 <- c(1,2,3,4)\n",
    "x2 <- c(7,8,9)\n",
    "c(x1, x2)"
   ]
  },
  {
   "cell_type": "markdown",
   "metadata": {
    "slideshow": {
     "slide_type": "slide"
    }
   },
   "source": [
    "However, this does not work with factor objects:"
   ]
  },
  {
   "cell_type": "code",
   "execution_count": 30,
   "metadata": {},
   "outputs": [
    {
     "data": {
      "text/plain": [
       "[1] January  July     May      May      February July     May      April   \n",
       "12 Levels: January < February < March < April < May < June < ... < December"
      ]
     },
     "metadata": {},
     "output_type": "display_data"
    }
   ],
   "source": [
    "mob_fac"
   ]
  },
  {
   "cell_type": "code",
   "execution_count": 31,
   "metadata": {},
   "outputs": [
    {
     "data": {
      "text/plain": [
       "[1] April March May  \n",
       "12 Levels: January < February < March < April < May < June < ... < December"
      ]
     },
     "metadata": {},
     "output_type": "display_data"
    }
   ],
   "source": [
    "mob2 <- factor(c(\"April\",\"March\",\"May\"), levels=months, ordered=TRUE)\n",
    "mob2"
   ]
  },
  {
   "cell_type": "code",
   "execution_count": 32,
   "metadata": {},
   "outputs": [
    {
     "data": {
      "text/plain": [
       " [1] 1 7 5 5 2 7 5 4 4 3 5"
      ]
     },
     "metadata": {},
     "output_type": "display_data"
    }
   ],
   "source": [
    "c(mob_fac, mob2)"
   ]
  },
  {
   "cell_type": "markdown",
   "metadata": {
    "slideshow": {
     "slide_type": "-"
    }
   },
   "source": [
    "`c()` combines the numeric values of levels. Not what we want."
   ]
  },
  {
   "cell_type": "markdown",
   "metadata": {
    "slideshow": {
     "slide_type": "slide"
    }
   },
   "source": [
    "Factors are combined in an indirect way: First use the result of `c()` to index the `months` vector, which holds an ordered list of all categories. This will give a character vector:"
   ]
  },
  {
   "cell_type": "code",
   "execution_count": 33,
   "metadata": {},
   "outputs": [
    {
     "data": {
      "text/plain": [
       " [1] \"January\"   \"February\"  \"March\"     \"April\"     \"May\"       \"June\"     \n",
       " [7] \"July\"      \"August\"    \"September\" \"October\"   \"November\"  \"December\" "
      ]
     },
     "metadata": {},
     "output_type": "display_data"
    }
   ],
   "source": [
    "levels(mob_fac)"
   ]
  },
  {
   "cell_type": "code",
   "execution_count": 34,
   "metadata": {},
   "outputs": [
    {
     "data": {
      "text/plain": [
       " [1] \"January\"  \"July\"     \"May\"      \"May\"      \"February\" \"July\"    \n",
       " [7] \"May\"      \"April\"    \"April\"    \"March\"    \"May\"     "
      ]
     },
     "metadata": {},
     "output_type": "display_data"
    }
   ],
   "source": [
    "levels(mob_fac)[ c(mob_fac, mob2) ]"
   ]
  },
  {
   "cell_type": "markdown",
   "metadata": {},
   "source": [
    "Then we convert this to a factor object"
   ]
  },
  {
   "cell_type": "code",
   "execution_count": 35,
   "metadata": {},
   "outputs": [
    {
     "data": {
      "text/plain": [
       " [1] January  July     May      May      February July     May      April   \n",
       " [9] April    March    May     \n",
       "12 Levels: January < February < March < April < May < June < ... < December"
      ]
     },
     "metadata": {},
     "output_type": "display_data"
    }
   ],
   "source": [
    "factor(levels(mob_fac)[ c(mob_fac, mob2) ], levels=levels(mob_fac), ordered=TRUE)"
   ]
  },
  {
   "cell_type": "markdown",
   "metadata": {
    "slideshow": {
     "slide_type": "slide"
    }
   },
   "source": [
    "If we need to use this task frequently, we can write a function for it:"
   ]
  },
  {
   "cell_type": "code",
   "execution_count": 38,
   "metadata": {},
   "outputs": [],
   "source": [
    "concat_factors <- function(f1, f2, ordered=TRUE) {\n",
    "    stopifnot( identical(levels(f1), levels(f2)) ) # ensure that the levels are the same\n",
    "    return( factor(levels(f1)[ c(f1,f2) ], levels=levels(f1), ordered=ordered) )\n",
    "}"
   ]
  },
  {
   "cell_type": "code",
   "execution_count": 39,
   "metadata": {},
   "outputs": [
    {
     "data": {
      "text/plain": [
       " [1] January  July     May      May      February July     May      April   \n",
       " [9] April    March    May     \n",
       "12 Levels: January < February < March < April < May < June < ... < December"
      ]
     },
     "metadata": {},
     "output_type": "display_data"
    }
   ],
   "source": [
    "concat_factors(mob_fac, mob2)"
   ]
  },
  {
   "cell_type": "markdown",
   "metadata": {
    "slideshow": {
     "slide_type": "slide"
    }
   },
   "source": [
    "Binning\n",
    "===\n",
    "One can create categories from continuous data, such as Small/Medium/Large, or Low/High.\n",
    "\n",
    "Example:"
   ]
  },
  {
   "cell_type": "code",
   "execution_count": 40,
   "metadata": {},
   "outputs": [],
   "source": [
    "x <- c(11, 18, 36, 74, 43, 81, 95, 64, 32, 51)"
   ]
  },
  {
   "cell_type": "markdown",
   "metadata": {},
   "source": [
    "Suppose we want to categorize this data as _small_ for values in [0, 30), _medium_ for [30, 70), and _high_ for [70, 100]. The notation [30,70) means that the value 30 belongs to this category, but 70 does not."
   ]
  },
  {
   "cell_type": "markdown",
   "metadata": {
    "slideshow": {
     "slide_type": "slide"
    }
   },
   "source": [
    "The `cut()` function generates a factor object with the interval end specified by the `breaks` parameter."
   ]
  },
  {
   "cell_type": "code",
   "execution_count": 41,
   "metadata": {},
   "outputs": [
    {
     "data": {
      "text/plain": [
       " [1] (0,30]   (0,30]   (30,70]  (70,100] (30,70]  (70,100] (70,100] (30,70] \n",
       " [9] (30,70]  (30,70] \n",
       "Levels: (0,30] (30,70] (70,100]"
      ]
     },
     "metadata": {},
     "output_type": "display_data"
    }
   ],
   "source": [
    "cut(x, breaks=c(0, 30, 70, 100))"
   ]
  },
  {
   "cell_type": "markdown",
   "metadata": {},
   "source": [
    "However, note that the ends of the intervals are not as we want. The first value of the boundary in not included in the interval, but the second value is."
   ]
  },
  {
   "cell_type": "markdown",
   "metadata": {
    "slideshow": {
     "slide_type": "slide"
    }
   },
   "source": [
    "To fix this, we set the parameter `right` to `FALSE`."
   ]
  },
  {
   "cell_type": "code",
   "execution_count": 42,
   "metadata": {},
   "outputs": [
    {
     "data": {
      "text/plain": [
       " [1] [0,30)   [0,30)   [30,70)  [70,100) [30,70)  [70,100) [70,100) [30,70) \n",
       " [9] [30,70)  [30,70) \n",
       "Levels: [0,30) [30,70) [70,100)"
      ]
     },
     "metadata": {},
     "output_type": "display_data"
    }
   ],
   "source": [
    "cut(x, breaks=c(0, 30, 70, 100), right = F)"
   ]
  },
  {
   "cell_type": "markdown",
   "metadata": {
    "slideshow": {
     "slide_type": "slide"
    }
   },
   "source": [
    "But the last value 100 is excluded now. We can include it by setting the `include.lowest` parameter to `TRUE`."
   ]
  },
  {
   "cell_type": "code",
   "execution_count": 45,
   "metadata": {},
   "outputs": [
    {
     "data": {
      "text/plain": [
       " [1] [0,30)   [0,30)   [30,70)  [70,100] [30,70)  [70,100] [70,100] [30,70) \n",
       " [9] [30,70)  [30,70) \n",
       "Levels: [0,30) [30,70) [70,100]"
      ]
     },
     "metadata": {},
     "output_type": "display_data"
    }
   ],
   "source": [
    "cut(x, breaks = c(0, 30, 70, 100),  right = F, include.lowest = T)"
   ]
  },
  {
   "cell_type": "markdown",
   "metadata": {
    "slideshow": {
     "slide_type": "slide"
    }
   },
   "source": [
    "The levels can be set with the `labels` parameter."
   ]
  },
  {
   "cell_type": "code",
   "execution_count": 47,
   "metadata": {},
   "outputs": [
    {
     "data": {
      "text/plain": [
       " [1] Low    Low    Medium High   Medium High   High   Medium Medium Medium\n",
       "Levels: Low Medium High"
      ]
     },
     "metadata": {},
     "output_type": "display_data"
    }
   ],
   "source": [
    "cut(x, breaks = c(0, 30, 70, 100), right = F, include.lowest = T,\n",
    "   labels = c(\"Low\",\"Medium\",\"High\"))"
   ]
  },
  {
   "cell_type": "code",
   "execution_count": 48,
   "metadata": {},
   "outputs": [
    {
     "data": {
      "text/plain": [
       " [1] 11 18 36 74 43 81 95 64 32 51"
      ]
     },
     "metadata": {},
     "output_type": "display_data"
    }
   ],
   "source": [
    "x"
   ]
  },
  {
   "cell_type": "markdown",
   "metadata": {
    "slideshow": {
     "slide_type": "slide"
    }
   },
   "source": [
    "# Factors and data frames\n",
    "\n",
    "Suppose that we create a data frame out of `name`, `gender`, and `mob` vectors:"
   ]
  },
  {
   "cell_type": "code",
   "execution_count": 49,
   "metadata": {},
   "outputs": [
    {
     "data": {
      "text/plain": [
       "  name   gender mob     \n",
       "1 Can    Male   January \n",
       "2 Cem    Male   July    \n",
       "3 Hande  Female May     \n",
       "4 Mehmet Male   May     \n",
       "5 Deniz  Female February\n",
       "6 Kemal  Male   July    \n",
       "7 Derya  Female May     \n",
       "8 Fatma  Female April   "
      ]
     },
     "metadata": {},
     "output_type": "display_data"
    }
   ],
   "source": [
    "name <- c(\"Can\",\"Cem\",\"Hande\",\"Mehmet\",\"Deniz\",\"Kemal\",\"Derya\",\"Fatma\")\n",
    "gender <- c(\"Male\",\"Male\",\"Female\",\"Male\",\"Female\",\"Male\",\"Female\",\"Female\")\n",
    "mob <- c(\"January\",\"July\",\"May\",\"May\",\"February\",\"July\",\"May\",\"April\")\n",
    "df <- data.frame(name, gender, mob, stringsAsFactors = F)\n",
    "df"
   ]
  },
  {
   "cell_type": "code",
   "execution_count": 50,
   "metadata": {},
   "outputs": [
    {
     "data": {
      "text/plain": [
       "     name              gender              mob           \n",
       " Length:8           Length:8           Length:8          \n",
       " Class :character   Class :character   Class :character  \n",
       " Mode  :character   Mode  :character   Mode  :character  "
      ]
     },
     "metadata": {},
     "output_type": "display_data"
    }
   ],
   "source": [
    "summary(df)"
   ]
  },
  {
   "cell_type": "code",
   "execution_count": 51,
   "metadata": {},
   "outputs": [
    {
     "data": {
      "text/plain": [
       "     name              gender        mob   \n",
       " Length:8           Female:4   May     :3  \n",
       " Class :character   Male  :4   July    :2  \n",
       " Mode  :character              January :1  \n",
       "                               February:1  \n",
       "                               April   :1  \n",
       "                               March   :0  \n",
       "                               (Other) :0  "
      ]
     },
     "metadata": {},
     "output_type": "display_data"
    }
   ],
   "source": [
    "months <- c(\"January\",\"February\",\"March\",\"April\",\"May\",\n",
    "            \"June\",\"July\",\"August\",\"September\",\"October\",\"November\",\"December\")\n",
    "df$gender <- factor(df$gender)\n",
    "df$mob <- factor(df$mob, levels=months, ordered = T)\n",
    "summary(df)"
   ]
  },
  {
   "cell_type": "markdown",
   "metadata": {
    "slideshow": {
     "slide_type": "slide"
    }
   },
   "source": [
    "What is the effect of the `stringsAsFactors` parameter?"
   ]
  },
  {
   "cell_type": "code",
   "execution_count": 52,
   "metadata": {
    "slideshow": {
     "slide_type": "-"
    }
   },
   "outputs": [
    {
     "data": {
      "text/plain": [
       "      name      gender        mob   \n",
       " Can    :1   Female:4   April   :1  \n",
       " Cem    :1   Male  :4   February:1  \n",
       " Deniz  :1              January :1  \n",
       " Derya  :1              July    :2  \n",
       " Fatma  :1              May     :3  \n",
       " Hande  :1                          \n",
       " (Other):2                          "
      ]
     },
     "metadata": {},
     "output_type": "display_data"
    }
   ],
   "source": [
    "df <- data.frame(name, gender, mob, stringsAsFactors = T)  \n",
    "summary(df)"
   ]
  },
  {
   "cell_type": "markdown",
   "metadata": {
    "slideshow": {
     "slide_type": "slide"
    }
   },
   "source": [
    "Note that all fields are interpreted as factors in `df`, including `names`. The reason is that the `stringsAsFactors`parameter is `TRUE` by default (for R versions older than 4.0.0). We can turn it off, and use the factor vectors we prepared before:"
   ]
  },
  {
   "cell_type": "code",
   "execution_count": 53,
   "metadata": {},
   "outputs": [
    {
     "data": {
      "text/plain": [
       "     name            gender_fac     mob_fac \n",
       " Length:8           Female:4    May     :3  \n",
       " Class :character   Male  :4    July    :2  \n",
       " Mode  :character               January :1  \n",
       "                                February:1  \n",
       "                                April   :1  \n",
       "                                March   :0  \n",
       "                                (Other) :0  "
      ]
     },
     "metadata": {},
     "output_type": "display_data"
    }
   ],
   "source": [
    "df <- data.frame(name, gender_fac, mob_fac, stringsAsFactors = FALSE )\n",
    "summary(df)"
   ]
  },
  {
   "cell_type": "markdown",
   "metadata": {
    "slideshow": {
     "slide_type": "slide"
    }
   },
   "source": [
    "As another example, consider the _mtcars_ data set:"
   ]
  },
  {
   "cell_type": "code",
   "execution_count": 54,
   "metadata": {},
   "outputs": [
    {
     "data": {
      "text/plain": [
       "                  mpg  cyl disp hp  drat wt    qsec  vs am gear carb\n",
       "Mazda RX4         21.0 6   160  110 3.90 2.620 16.46 0  1  4    4   \n",
       "Mazda RX4 Wag     21.0 6   160  110 3.90 2.875 17.02 0  1  4    4   \n",
       "Datsun 710        22.8 4   108   93 3.85 2.320 18.61 1  1  4    1   \n",
       "Hornet 4 Drive    21.4 6   258  110 3.08 3.215 19.44 1  0  3    1   \n",
       "Hornet Sportabout 18.7 8   360  175 3.15 3.440 17.02 0  0  3    2   \n",
       "Valiant           18.1 6   225  105 2.76 3.460 20.22 1  0  3    1   "
      ]
     },
     "metadata": {},
     "output_type": "display_data"
    }
   ],
   "source": [
    "head(mtcars)"
   ]
  },
  {
   "cell_type": "markdown",
   "metadata": {
    "slideshow": {
     "slide_type": "slide"
    }
   },
   "source": [
    "The `summary()` function returns the summary statistics for each numeric field."
   ]
  },
  {
   "cell_type": "code",
   "execution_count": 55,
   "metadata": {},
   "outputs": [
    {
     "data": {
      "text/plain": [
       "      mpg             cyl             disp             hp       \n",
       " Min.   :10.40   Min.   :4.000   Min.   : 71.1   Min.   : 52.0  \n",
       " 1st Qu.:15.43   1st Qu.:4.000   1st Qu.:120.8   1st Qu.: 96.5  \n",
       " Median :19.20   Median :6.000   Median :196.3   Median :123.0  \n",
       " Mean   :20.09   Mean   :6.188   Mean   :230.7   Mean   :146.7  \n",
       " 3rd Qu.:22.80   3rd Qu.:8.000   3rd Qu.:326.0   3rd Qu.:180.0  \n",
       " Max.   :33.90   Max.   :8.000   Max.   :472.0   Max.   :335.0  \n",
       "      drat             wt             qsec             vs        \n",
       " Min.   :2.760   Min.   :1.513   Min.   :14.50   Min.   :0.0000  \n",
       " 1st Qu.:3.080   1st Qu.:2.581   1st Qu.:16.89   1st Qu.:0.0000  \n",
       " Median :3.695   Median :3.325   Median :17.71   Median :0.0000  \n",
       " Mean   :3.597   Mean   :3.217   Mean   :17.85   Mean   :0.4375  \n",
       " 3rd Qu.:3.920   3rd Qu.:3.610   3rd Qu.:18.90   3rd Qu.:1.0000  \n",
       " Max.   :4.930   Max.   :5.424   Max.   :22.90   Max.   :1.0000  \n",
       "       am              gear            carb      \n",
       " Min.   :0.0000   Min.   :3.000   Min.   :1.000  \n",
       " 1st Qu.:0.0000   1st Qu.:3.000   1st Qu.:2.000  \n",
       " Median :0.0000   Median :4.000   Median :2.000  \n",
       " Mean   :0.4062   Mean   :3.688   Mean   :2.812  \n",
       " 3rd Qu.:1.0000   3rd Qu.:4.000   3rd Qu.:4.000  \n",
       " Max.   :1.0000   Max.   :5.000   Max.   :8.000  "
      ]
     },
     "metadata": {},
     "output_type": "display_data"
    }
   ],
   "source": [
    "summary(mtcars)"
   ]
  },
  {
   "cell_type": "markdown",
   "metadata": {
    "slideshow": {
     "slide_type": "slide"
    }
   },
   "source": [
    "However, it makes more sense to treat `\"cyl\"`, `\"vs\"`, `\"am\"`, `\"gear\"` and `\"carb\"` as categorical variables."
   ]
  },
  {
   "cell_type": "code",
   "execution_count": 56,
   "metadata": {},
   "outputs": [],
   "source": [
    "mtcars$cyl <- factor(mtcars$cyl, ordered=TRUE)\n",
    "mtcars$gear <- factor(mtcars$gear, ordered=TRUE)\n",
    "mtcars$carb <- factor(mtcars$carb, ordered=TRUE)\n",
    "mtcars$vs <- factor(mtcars$vs)\n",
    "mtcars$am <- factor(mtcars$am)"
   ]
  },
  {
   "cell_type": "markdown",
   "metadata": {},
   "source": [
    "Now we can use the `summary()` function to get the counts of categories in each factor field."
   ]
  },
  {
   "cell_type": "code",
   "execution_count": 57,
   "metadata": {},
   "outputs": [
    {
     "data": {
      "text/plain": [
       "      mpg        cyl         disp             hp             drat      \n",
       " Min.   :10.40   4:11   Min.   : 71.1   Min.   : 52.0   Min.   :2.760  \n",
       " 1st Qu.:15.43   6: 7   1st Qu.:120.8   1st Qu.: 96.5   1st Qu.:3.080  \n",
       " Median :19.20   8:14   Median :196.3   Median :123.0   Median :3.695  \n",
       " Mean   :20.09          Mean   :230.7   Mean   :146.7   Mean   :3.597  \n",
       " 3rd Qu.:22.80          3rd Qu.:326.0   3rd Qu.:180.0   3rd Qu.:3.920  \n",
       " Max.   :33.90          Max.   :472.0   Max.   :335.0   Max.   :4.930  \n",
       "       wt             qsec       vs     am     gear   carb  \n",
       " Min.   :1.513   Min.   :14.50   0:18   0:19   3:15   1: 7  \n",
       " 1st Qu.:2.581   1st Qu.:16.89   1:14   1:13   4:12   2:10  \n",
       " Median :3.325   Median :17.71                 5: 5   3: 3  \n",
       " Mean   :3.217   Mean   :17.85                        4:10  \n",
       " 3rd Qu.:3.610   3rd Qu.:18.90                        6: 1  \n",
       " Max.   :5.424   Max.   :22.90                        8: 1  "
      ]
     },
     "metadata": {},
     "output_type": "display_data"
    }
   ],
   "source": [
    "summary(mtcars)"
   ]
  },
  {
   "cell_type": "code",
   "execution_count": 58,
   "metadata": {},
   "outputs": [
    {
     "data": {
      "text/plain": [
       "[1] \"0\" \"1\""
      ]
     },
     "metadata": {},
     "output_type": "display_data"
    }
   ],
   "source": [
    "levels(mtcars$am)"
   ]
  },
  {
   "cell_type": "markdown",
   "metadata": {
    "slideshow": {
     "slide_type": "slide"
    }
   },
   "source": [
    "The `\"vs\"` (V engine or straight) and `\"am\"` (Automatic or manual transmission) fields have level values 0 or 1. Let's replace them with clearer labels."
   ]
  },
  {
   "cell_type": "code",
   "execution_count": 59,
   "metadata": {},
   "outputs": [],
   "source": [
    "levels(mtcars$vs) <- c(\"V-engine\",\"Standard\")\n",
    "levels(mtcars$am) <- c(\"Automatic\",\"Manual\")"
   ]
  },
  {
   "cell_type": "code",
   "execution_count": 60,
   "metadata": {},
   "outputs": [
    {
     "data": {
      "text/plain": [
       "      mpg        cyl         disp             hp             drat      \n",
       " Min.   :10.40   4:11   Min.   : 71.1   Min.   : 52.0   Min.   :2.760  \n",
       " 1st Qu.:15.43   6: 7   1st Qu.:120.8   1st Qu.: 96.5   1st Qu.:3.080  \n",
       " Median :19.20   8:14   Median :196.3   Median :123.0   Median :3.695  \n",
       " Mean   :20.09          Mean   :230.7   Mean   :146.7   Mean   :3.597  \n",
       " 3rd Qu.:22.80          3rd Qu.:326.0   3rd Qu.:180.0   3rd Qu.:3.920  \n",
       " Max.   :33.90          Max.   :472.0   Max.   :335.0   Max.   :4.930  \n",
       "       wt             qsec              vs             am     gear   carb  \n",
       " Min.   :1.513   Min.   :14.50   V-engine:18   Automatic:19   3:15   1: 7  \n",
       " 1st Qu.:2.581   1st Qu.:16.89   Standard:14   Manual   :13   4:12   2:10  \n",
       " Median :3.325   Median :17.71                                5: 5   3: 3  \n",
       " Mean   :3.217   Mean   :17.85                                       4:10  \n",
       " 3rd Qu.:3.610   3rd Qu.:18.90                                       6: 1  \n",
       " Max.   :5.424   Max.   :22.90                                       8: 1  "
      ]
     },
     "metadata": {},
     "output_type": "display_data"
    }
   ],
   "source": [
    "summary(mtcars)"
   ]
  },
  {
   "cell_type": "markdown",
   "metadata": {
    "slideshow": {
     "slide_type": "slide"
    }
   },
   "source": [
    "# Plotting factor variables\n",
    "When we specify a factor-type vector as data, the `plot()` function displays a bar plot."
   ]
  },
  {
   "cell_type": "code",
   "execution_count": 61,
   "metadata": {},
   "outputs": [
    {
     "data": {
      "image/png": "[encoded data removed]",
      "text/plain": [
       "plot without title"
      ]
     },
     "metadata": {},
     "output_type": "display_data"
    }
   ],
   "source": [
    "plot(mtcars$am)"
   ]
  },
  {
   "cell_type": "markdown",
   "metadata": {
    "slideshow": {
     "slide_type": "slide"
    }
   },
   "source": [
    "When the x-axis is categorical and the y-axis is numerical, a boxplot is displayed."
   ]
  },
  {
   "cell_type": "code",
   "execution_count": 62,
   "metadata": {},
   "outputs": [
    {
     "data": {
      "image/png": "[encoded data removed]",
      "text/plain": [
       "plot without title"
      ]
     },
     "metadata": {},
     "output_type": "display_data"
    }
   ],
   "source": [
    "plot(x = mtcars$vs, y=mtcars$hp, ylab=\"Horse power\")"
   ]
  },
  {
   "cell_type": "markdown",
   "metadata": {
    "slideshow": {
     "slide_type": "slide"
    }
   },
   "source": [
    "If both axes are categorical, a stacked bar plot is displayed."
   ]
  },
  {
   "cell_type": "code",
   "execution_count": 63,
   "metadata": {},
   "outputs": [
    {
     "data": {
      "image/png": "[encoded data removed]",
      "text/plain": [
       "Plot with title “”"
      ]
     },
     "metadata": {},
     "output_type": "display_data"
    }
   ],
   "source": [
    "plot(x = mtcars$vs, y=mtcars$gear, xlab=\"Engine type\",ylab=\"Gear\")"
   ]
  },
  {
   "cell_type": "markdown",
   "metadata": {
    "slideshow": {
     "slide_type": "slide"
    }
   },
   "source": [
    "# The `table()` function"
   ]
  },
  {
   "cell_type": "markdown",
   "metadata": {},
   "source": [
    "The `table()` function can be used to return counts of elements in each level of a categorical variable."
   ]
  },
  {
   "cell_type": "code",
   "execution_count": 64,
   "metadata": {},
   "outputs": [
    {
     "data": {
      "text/plain": [
       "affils\n",
       "D R U \n",
       "3 2 1 "
      ]
     },
     "metadata": {},
     "output_type": "display_data"
    }
   ],
   "source": [
    "affils <- c(\"R\",\"D\",\"D\",\"R\",\"U\",\"D\") # political party affiliations\n",
    "table(affils)"
   ]
  },
  {
   "cell_type": "markdown",
   "metadata": {
    "slideshow": {
     "slide_type": "slide"
    }
   },
   "source": [
    "It can be used to create *contingency tables*, such as *two-way tables*:"
   ]
  },
  {
   "cell_type": "code",
   "execution_count": 65,
   "metadata": {},
   "outputs": [
    {
     "data": {
      "text/plain": [
       "           \n",
       "            V-engine Standard\n",
       "  Automatic       12        7\n",
       "  Manual           6        7"
      ]
     },
     "metadata": {},
     "output_type": "display_data"
    }
   ],
   "source": [
    "table(mtcars$am, mtcars$vs)"
   ]
  },
  {
   "cell_type": "markdown",
   "metadata": {
    "slideshow": {
     "slide_type": "slide"
    }
   },
   "source": [
    "Or *three-way tables*:"
   ]
  },
  {
   "cell_type": "code",
   "execution_count": 66,
   "metadata": {
    "slideshow": {
     "slide_type": "-"
    }
   },
   "outputs": [
    {
     "data": {
      "text/plain": [
       ", , Gears = 3\n",
       "\n",
       "            Engine\n",
       "Transmission V-engine Standard\n",
       "   Automatic       12        3\n",
       "   Manual           0        0\n",
       "\n",
       ", , Gears = 4\n",
       "\n",
       "            Engine\n",
       "Transmission V-engine Standard\n",
       "   Automatic        0        4\n",
       "   Manual           2        6\n",
       "\n",
       ", , Gears = 5\n",
       "\n",
       "            Engine\n",
       "Transmission V-engine Standard\n",
       "   Automatic        0        0\n",
       "   Manual           4        1\n"
      ]
     },
     "metadata": {},
     "output_type": "display_data"
    }
   ],
   "source": [
    "table(mtcars$am, mtcars$vs, mtcars$gear,\n",
    "      dnn=c(\"Transmission\",\"Engine\",\"Gears\"))"
   ]
  },
  {
   "cell_type": "markdown",
   "metadata": {
    "slideshow": {
     "slide_type": "slide"
    }
   },
   "source": [
    "# The `tapply()` function"
   ]
  },
  {
   "cell_type": "markdown",
   "metadata": {},
   "source": [
    "* More general than `table()`.\n",
    "* The function call `tapply(x, f, func)` breaks the vector `x` by levels given in `f` and applies the function `func` on each subgroup."
   ]
  },
  {
   "cell_type": "code",
   "execution_count": 67,
   "metadata": {},
   "outputs": [
    {
     "data": {
      "text/plain": [
       " D  R  U \n",
       "41 31 21 "
      ]
     },
     "metadata": {},
     "output_type": "display_data"
    }
   ],
   "source": [
    "ages <- c(25, 26, 55, 37, 21, 42) # ages of some people\n",
    "affils <- c(\"R\",\"D\",\"D\",\"R\",\"U\",\"D\") # party affiliations of the same people\n",
    "tapply(ages, affils, mean)"
   ]
  },
  {
   "cell_type": "markdown",
   "metadata": {
    "slideshow": {
     "slide_type": "slide"
    }
   },
   "source": [
    "Look at the `iris` database."
   ]
  },
  {
   "cell_type": "code",
   "execution_count": 68,
   "metadata": {
    "slideshow": {
     "slide_type": "-"
    }
   },
   "outputs": [
    {
     "data": {
      "text/plain": [
       "  Sepal.Length Sepal.Width Petal.Length Petal.Width Species\n",
       "1 5.1          3.5         1.4          0.2         setosa \n",
       "2 4.9          3.0         1.4          0.2         setosa \n",
       "3 4.7          3.2         1.3          0.2         setosa \n",
       "4 4.6          3.1         1.5          0.2         setosa \n",
       "5 5.0          3.6         1.4          0.2         setosa \n",
       "6 5.4          3.9         1.7          0.4         setosa "
      ]
     },
     "metadata": {},
     "output_type": "display_data"
    }
   ],
   "source": [
    "head(iris)"
   ]
  },
  {
   "cell_type": "code",
   "execution_count": 69,
   "metadata": {
    "slideshow": {
     "slide_type": "-"
    }
   },
   "outputs": [
    {
     "data": {
      "text/plain": [
       "    setosa versicolor  virginica \n",
       "     5.006      5.936      6.588 "
      ]
     },
     "metadata": {},
     "output_type": "display_data"
    }
   ],
   "source": [
    "tapply(iris$Sepal.Length, iris$Species, mean)"
   ]
  },
  {
   "cell_type": "markdown",
   "metadata": {
    "slideshow": {
     "slide_type": "slide"
    }
   },
   "source": [
    "Get the mean miles-per-gallon, broken by the engine type."
   ]
  },
  {
   "cell_type": "code",
   "execution_count": 70,
   "metadata": {
    "slideshow": {
     "slide_type": "-"
    }
   },
   "outputs": [
    {
     "data": {
      "text/plain": [
       "V-engine Standard \n",
       "16.61667 24.55714 "
      ]
     },
     "metadata": {},
     "output_type": "display_data"
    }
   ],
   "source": [
    "tapply(mtcars$mpg, mtcars$vs, mean)"
   ]
  },
  {
   "cell_type": "markdown",
   "metadata": {},
   "source": [
    "Get the mean miles-per-gallon, broken by the engine type and transmission type."
   ]
  },
  {
   "cell_type": "code",
   "execution_count": 71,
   "metadata": {
    "slideshow": {
     "slide_type": "-"
    }
   },
   "outputs": [
    {
     "data": {
      "text/plain": [
       "         Automatic Manual  \n",
       "V-engine 15.05000  19.75000\n",
       "Standard 20.74286  28.37143"
      ]
     },
     "metadata": {},
     "output_type": "display_data"
    }
   ],
   "source": [
    "tapply(mtcars$mpg, list(mtcars$vs, mtcars$am), mean)"
   ]
  }
 ],
 "metadata": {
  "celltoolbar": "Slideshow",
  "kernelspec": {
   "display_name": "R",
   "language": "R",
   "name": "ir"
  },
  "language_info": {
   "codemirror_mode": "r",
   "file_extension": ".r",
   "mimetype": "text/x-r-source",
   "name": "R",
   "pygments_lexer": "r",
   "version": "3.6.1"
  },
  "toc": {
   "base_numbering": 1,
   "nav_menu": {},
   "number_sections": false,
   "sideBar": true,
   "skip_h1_title": false,
   "title_cell": "Table of Contents",
   "title_sidebar": "Contents",
   "toc_cell": false,
   "toc_position": {},
   "toc_section_display": "block",
   "toc_window_display": false
  }
 },
 "nbformat": 4,
 "nbformat_minor": 2
}
