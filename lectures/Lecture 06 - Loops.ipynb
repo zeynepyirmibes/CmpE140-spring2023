{
 "cells": [
  {
   "cell_type": "code",
   "execution_count": 1,
   "metadata": {
    "slideshow": {
     "slide_type": "skip"
    }
   },
   "outputs": [],
   "source": [
    "options(jupyter.rich_display = FALSE)"
   ]
  },
  {
   "cell_type": "markdown",
   "metadata": {
    "slideshow": {
     "slide_type": "slide"
    }
   },
   "source": [
    "# CMPE 140 - Repetition structures"
   ]
  },
  {
   "cell_type": "markdown",
   "metadata": {
    "slideshow": {
     "slide_type": "slide"
    }
   },
   "source": [
    "# Repetition structures\n",
    "* The `while` loop \n",
    "* The `for` loop\n",
    "* `break` and `next` statements\n",
    "* The `repeat` loop\n",
    "* Nested loops\n",
    "* Vectorization and loops"
   ]
  },
  {
   "attachments": {
    "image.png": {
     "image/png": "[encoded data removed]"
    }
   },
   "cell_type": "markdown",
   "metadata": {
    "slideshow": {
     "slide_type": "slide"
    }
   },
   "source": [
    "# Repetition (aka loops)\n",
    "\n",
    "* Repeating a block of code as long as a condition is true.\n",
    "* Example: Search for a book in an unordered stack.\n",
    "![image.png](attachment:image.png)"
   ]
  },
  {
   "cell_type": "markdown",
   "metadata": {
    "slideshow": {
     "slide_type": "slide"
    }
   },
   "source": [
    "# Loops in R\n",
    "\n",
    "* Loops are fundamental, all languages have them.\n",
    "* In R, loops are implicit to many common tasks (`sum()`, `mean()`, `sapply()`, etc.). Makes them faster.\n",
    "* Explicit loops are needed less often than other languages, but they _are_ needed."
   ]
  },
  {
   "cell_type": "markdown",
   "metadata": {
    "slideshow": {
     "slide_type": "slide"
    }
   },
   "source": [
    "# The while loop\n",
    "\n",
    "Simple example: Print the squares of 1, 2, ... 10."
   ]
  },
  {
   "cell_type": "markdown",
   "metadata": {},
   "source": [
    "Without loops, it would be cumbersome:"
   ]
  },
  {
   "cell_type": "code",
   "execution_count": 2,
   "metadata": {},
   "outputs": [
    {
     "name": "stdout",
     "output_type": "stream",
     "text": [
      "1 1 \n",
      "2 4 \n",
      "3 9 \n"
     ]
    }
   ],
   "source": [
    "i <- 1\n",
    "cat(i,i^2,\"\\n\")\n",
    "i <- i+1\n",
    "cat(i,i^2, \"\\n\")\n",
    "i <- i+1\n",
    "cat(i,i^2, \"\\n\")"
   ]
  },
  {
   "cell_type": "markdown",
   "metadata": {
    "slideshow": {
     "slide_type": "slide"
    }
   },
   "source": [
    "With loops, it is shorter and more flexible:"
   ]
  },
  {
   "cell_type": "code",
   "execution_count": 3,
   "metadata": {
    "slideshow": {
     "slide_type": "-"
    }
   },
   "outputs": [
    {
     "name": "stdout",
     "output_type": "stream",
     "text": [
      "1 1 \n",
      "2 4 \n",
      "3 9 \n",
      "4 16 \n",
      "5 25 \n",
      "6 36 \n",
      "7 49 \n",
      "8 64 \n",
      "9 81 \n",
      "10 100 \n"
     ]
    },
    {
     "data": {
      "text/plain": [
       "[1] \"Goodbye\""
      ]
     },
     "metadata": {},
     "output_type": "display_data"
    }
   ],
   "source": [
    "i <- 1 # initialization\n",
    "while (i<=10) {  # condition\n",
    "    cat(i,i^2,\"\\n\")\n",
    "    i <- i+1  # update\n",
    "}\n",
    "\"Goodbye\""
   ]
  },
  {
   "cell_type": "markdown",
   "metadata": {
    "slideshow": {
     "slide_type": "slide"
    }
   },
   "source": [
    "# General structure of the `while` loop\n",
    "\n",
    "    <initialization>\n",
    "    while( <condition> ) {\n",
    "        <statements>\n",
    "        <update variables>\n",
    "    }\n",
    "\n",
    "* `<condition>` is a Boolean expression, usually involving existing variables.\n",
    "* If `<condition>` is true the block is executed (this is called one _iteration_).\n",
    "* When the block is completed, the condition is reevaluated and the block is re-executed if necessary."
   ]
  },
  {
   "cell_type": "markdown",
   "metadata": {
    "slideshow": {
     "slide_type": "slide"
    }
   },
   "source": [
    "# Updating the variables\n",
    "\n",
    "* In general, we want the condition to become false eventually, otherwise the loop never ends.\n",
    "* The variables of the program must be updated within the block to ensure that."
   ]
  },
  {
   "cell_type": "code",
   "execution_count": 4,
   "metadata": {},
   "outputs": [
    {
     "name": "stdout",
     "output_type": "stream",
     "text": [
      "1 1 \n",
      "2 4 \n",
      "3 9 \n",
      "4 16 \n",
      "5 25 \n",
      "6 36 \n",
      "7 49 \n",
      "8 64 \n",
      "9 81 \n",
      "10 100 \n"
     ]
    }
   ],
   "source": [
    "i <- 1 # initialization\n",
    "while (i<=10) {  # condition\n",
    "    cat(i,i^2,\"\\n\")\n",
    "    #i <- i+1  # update\n",
    "}"
   ]
  },
  {
   "cell_type": "markdown",
   "metadata": {
    "slideshow": {
     "slide_type": "slide"
    }
   },
   "source": [
    "# Example\n",
    "\n",
    "Find the sum of elements in a vector"
   ]
  },
  {
   "cell_type": "markdown",
   "metadata": {},
   "source": [
    "Without a loop:"
   ]
  },
  {
   "cell_type": "code",
   "execution_count": null,
   "metadata": {},
   "outputs": [],
   "source": [
    "mydata <- c(-1,4,2,5,1,4,6,2,0)\n",
    "total <- 0\n",
    "i <- 1\n",
    "total <- total + mydata[i]\n",
    "i <- i+1\n",
    "total <- total + mydata[i]\n",
    "i <- i+1\n",
    "total <- total + mydata[i]\n",
    "#..."
   ]
  },
  {
   "cell_type": "markdown",
   "metadata": {
    "slideshow": {
     "slide_type": "slide"
    }
   },
   "source": [
    "With a loop"
   ]
  },
  {
   "cell_type": "code",
   "execution_count": 7,
   "metadata": {},
   "outputs": [
    {
     "name": "stdout",
     "output_type": "stream",
     "text": [
      "1 -1 -1 \n",
      "2 4 3 \n",
      "3 2 5 \n",
      "4 5 10 \n",
      "5 1 11 \n",
      "6 4 15 \n",
      "7 6 21 \n",
      "8 2 23 \n",
      "9 0 23 \n",
      "10 5 28 \n"
     ]
    },
    {
     "data": {
      "text/plain": [
       "[1] 28"
      ]
     },
     "metadata": {},
     "output_type": "display_data"
    }
   ],
   "source": [
    "mydata <- c(-1,4,2,5,1,4,6,2,0,5)\n",
    "total <- 0\n",
    "i <- 1\n",
    "while (i<=length(mydata)){\n",
    "    total <- total + mydata[i]\n",
    "    cat(i, mydata[i], total, \"\\n\")\n",
    "    i <- i + 1\n",
    "}\n",
    "total"
   ]
  },
  {
   "cell_type": "markdown",
   "metadata": {
    "slideshow": {
     "slide_type": "slide"
    }
   },
   "source": [
    "# Example\n",
    "\n",
    "Find the maximum element in a vector"
   ]
  },
  {
   "cell_type": "code",
   "execution_count": 9,
   "metadata": {},
   "outputs": [
    {
     "data": {
      "text/plain": [
       "[1] 7"
      ]
     },
     "metadata": {},
     "output_type": "display_data"
    }
   ],
   "source": [
    "mydata <- c(1,4,2,5,1,4,6,2,0,7,3,1)\n",
    "largest <- mydata[1]\n",
    "i <- 2\n",
    "while (i<=length(mydata)){\n",
    "    if(mydata[i]>largest)\n",
    "        largest <- mydata[i]\n",
    "    i <- i + 1\n",
    "}\n",
    "largest"
   ]
  },
  {
   "cell_type": "markdown",
   "metadata": {
    "slideshow": {
     "slide_type": "slide"
    }
   },
   "source": [
    "The for loop\n",
    "-----------\n",
    "* Alternative to `while` that does not take a Boolean condition.\n",
    "* The `for` statement takes elements from a vector one by one, and runs the loop body with the current element.\n",
    "* The loop terminates when the last element is used."
   ]
  },
  {
   "cell_type": "code",
   "execution_count": 11,
   "metadata": {},
   "outputs": [
    {
     "name": "stdout",
     "output_type": "stream",
     "text": [
      "2 4 \n",
      "-1 1 \n",
      "5 25 \n",
      "3 9 \n",
      "7 49 \n"
     ]
    }
   ],
   "source": [
    "for(i in c(2,-1,5,3,7)) {\n",
    "    cat(i,i^2,\"\\n\")\n",
    "}"
   ]
  },
  {
   "cell_type": "markdown",
   "metadata": {
    "slideshow": {
     "slide_type": "slide"
    }
   },
   "source": [
    "* In many cases `for` is simpler than `while`, especially when you need to iterate over the elements of a vector.\n",
    "* Example: Add up the elements in a vector with `for`:"
   ]
  },
  {
   "cell_type": "code",
   "execution_count": 12,
   "metadata": {},
   "outputs": [
    {
     "data": {
      "text/plain": [
       "[1] 23"
      ]
     },
     "metadata": {},
     "output_type": "display_data"
    }
   ],
   "source": [
    "mydata <- c(-1,4,2,5,1,4,6,2,0)\n",
    "total <- 0\n",
    "for (d in mydata)\n",
    "    total <- total + d\n",
    "total"
   ]
  },
  {
   "cell_type": "markdown",
   "metadata": {},
   "source": [
    "The line `for(d in mydata)` means that `d` first gets `mydata[1]`, then `mydata[2]`, etc, until all the elements in `mydata` are used up."
   ]
  },
  {
   "cell_type": "markdown",
   "metadata": {
    "slideshow": {
     "slide_type": "slide"
    }
   },
   "source": [
    "Find the maximum value in a vector with a `for` loop."
   ]
  },
  {
   "cell_type": "code",
   "execution_count": 13,
   "metadata": {},
   "outputs": [
    {
     "data": {
      "text/plain": [
       "[1] 6"
      ]
     },
     "metadata": {},
     "output_type": "display_data"
    }
   ],
   "source": [
    "mydata <- c(1,4,2,5,1,4,6,2,0)\n",
    "largest <- mydata[1]\n",
    "for(d in mydata) \n",
    "    if(d>largest) \n",
    "        largest <- d\n",
    "largest"
   ]
  },
  {
   "cell_type": "markdown",
   "metadata": {
    "slideshow": {
     "slide_type": "slide"
    }
   },
   "source": [
    "# Example\n",
    "Note that by using `for` you don't need to keep track of the element index. This is OK if you are interested in the element values only, but it might not work if the element's location is relevant.\n",
    "\n",
    "Example: Find the index of the maximum value in a vector."
   ]
  },
  {
   "cell_type": "code",
   "execution_count": 15,
   "metadata": {},
   "outputs": [
    {
     "name": "stdout",
     "output_type": "stream",
     "text": [
      "7 6"
     ]
    }
   ],
   "source": [
    "mydata <- c(1,4,2,5,1,4,6,2,0)\n",
    "largest <- mydata[1]\n",
    "largest_index <- 1\n",
    "i <- 2\n",
    "while (i<=length(mydata)){\n",
    "    if(mydata[i]>largest){\n",
    "        largest_index <- i\n",
    "        largest <- mydata[i]\n",
    "    }\n",
    "    i <- i + 1\n",
    "}\n",
    "\n",
    "cat(largest_index, largest)"
   ]
  },
  {
   "cell_type": "markdown",
   "metadata": {
    "slideshow": {
     "slide_type": "slide"
    }
   },
   "source": [
    "Rewrite this as a function"
   ]
  },
  {
   "cell_type": "code",
   "execution_count": 16,
   "metadata": {},
   "outputs": [
    {
     "data": {
      "text/plain": [
       "[1] 7 6"
      ]
     },
     "metadata": {},
     "output_type": "display_data"
    }
   ],
   "source": [
    "getmax <- function(x) {\n",
    "    largest <- x[1]\n",
    "    largest_index <- 1\n",
    "    i <- 2\n",
    "    while (i<=length(x)){\n",
    "        if(x[i]>largest){\n",
    "            largest_index <- i\n",
    "            largest <- x[i]\n",
    "        }\n",
    "        i <- i + 1\n",
    "    }\n",
    "    c(largest_index, largest)\n",
    "}\n",
    "getmax(mydata)"
   ]
  },
  {
   "cell_type": "markdown",
   "metadata": {
    "slideshow": {
     "slide_type": "slide"
    }
   },
   "source": [
    "The break statement\n",
    "---------------\n",
    "\n",
    "When the program encounters a `break` statement, it terminates the loop. The remainder of the block is skipped over."
   ]
  },
  {
   "cell_type": "code",
   "execution_count": 17,
   "metadata": {},
   "outputs": [
    {
     "name": "stdout",
     "output_type": "stream",
     "text": [
      "i = 1 \n",
      "i = 2 \n",
      "i = 3 \n",
      "i = 4 \n",
      "i = 5 \n",
      "i = 6 \n",
      "Goodbye"
     ]
    }
   ],
   "source": [
    "i <- 1\n",
    "while(i<=10){\n",
    "    if(i==7)\n",
    "        break\n",
    "    cat(\"i =\",i,\"\\n\")\n",
    "    i <- i+1\n",
    "}\n",
    "cat(\"Goodbye\")"
   ]
  },
  {
   "cell_type": "markdown",
   "metadata": {
    "slideshow": {
     "slide_type": "slide"
    }
   },
   "source": [
    "Same with a `for` loop"
   ]
  },
  {
   "cell_type": "code",
   "execution_count": 18,
   "metadata": {},
   "outputs": [
    {
     "name": "stdout",
     "output_type": "stream",
     "text": [
      "i = 1 \n",
      "i = 2 \n",
      "i = 3 \n",
      "i = 4 \n",
      "i = 5 \n",
      "i = 6 \n"
     ]
    }
   ],
   "source": [
    "for(i in 1:10){\n",
    "    if (i==7)\n",
    "        break\n",
    "    cat(\"i =\",i,\"\\n\")\n",
    "}"
   ]
  },
  {
   "cell_type": "markdown",
   "metadata": {
    "slideshow": {
     "slide_type": "slide"
    }
   },
   "source": [
    "# Example\n",
    "Determine if a given number is prime"
   ]
  },
  {
   "cell_type": "code",
   "execution_count": 21,
   "metadata": {},
   "outputs": [
    {
     "name": "stdout",
     "output_type": "stream",
     "text": [
      "87659867241 is not prime; 3 divides it."
     ]
    }
   ],
   "source": [
    "n <- 87659867241\n",
    "prime <- TRUE # assume prime unless proven otherwise\n",
    "i <- 2\n",
    "while (i <= sqrt(n)){  # check only up to the square root of n\n",
    "    if (n%%i == 0){\n",
    "        prime <- FALSE\n",
    "        break\n",
    "    }\n",
    "    i <- i+1\n",
    "}\n",
    "if (!prime) cat(n,\"is not prime;\",i,\"divides it.\")"
   ]
  },
  {
   "cell_type": "markdown",
   "metadata": {
    "slideshow": {
     "slide_type": "slide"
    }
   },
   "source": [
    "Rewrite this as a function"
   ]
  },
  {
   "cell_type": "code",
   "execution_count": 20,
   "metadata": {},
   "outputs": [
    {
     "data": {
      "text/plain": [
       "[1] FALSE"
      ]
     },
     "metadata": {},
     "output_type": "display_data"
    }
   ],
   "source": [
    "isprime <- function(n) {\n",
    "    prime <- TRUE # assume prime unless proven otherwise\n",
    "    i <- 2\n",
    "    while (i*i <= n){  # check only up to the square root of n\n",
    "        if (n%%i == 0){\n",
    "            prime <- FALSE\n",
    "            break\n",
    "        }\n",
    "        i <- i+1\n",
    "    }\n",
    "    prime\n",
    "}\n",
    "\n",
    "isprime(87659867241)"
   ]
  },
  {
   "cell_type": "markdown",
   "metadata": {
    "slideshow": {
     "slide_type": "slide"
    }
   },
   "source": [
    "# The next statement\n",
    "\n",
    "* Takes the program flow to the beginning of the loop.\n",
    "* Skips over the remaining statements."
   ]
  },
  {
   "cell_type": "code",
   "execution_count": 22,
   "metadata": {},
   "outputs": [
    {
     "name": "stdout",
     "output_type": "stream",
     "text": [
      "1 2 4 5 7 8 10 11 "
     ]
    }
   ],
   "source": [
    "i<-0\n",
    "while(i<=10){\n",
    "    i <- i+1\n",
    "    if( i%%3==0 )\n",
    "        next\n",
    "    cat(i, \"\")\n",
    "}"
   ]
  },
  {
   "cell_type": "markdown",
   "metadata": {
    "slideshow": {
     "slide_type": "slide"
    }
   },
   "source": [
    "Caution: If the update statement is located after `next`, the loop may not terminate."
   ]
  },
  {
   "cell_type": "code",
   "execution_count": null,
   "metadata": {},
   "outputs": [],
   "source": [
    "i<-1\n",
    "while(i<=10){\n",
    "    if( i%%3==0 )\n",
    "        next\n",
    "    cat(i, \"\")\n",
    "    i <- i+1\n",
    "}"
   ]
  },
  {
   "cell_type": "markdown",
   "metadata": {
    "slideshow": {
     "slide_type": "slide"
    }
   },
   "source": [
    "# Example\n",
    "Print the digits of a positive number"
   ]
  },
  {
   "cell_type": "code",
   "execution_count": 23,
   "metadata": {},
   "outputs": [
    {
     "data": {
      "text/plain": [
       "[1] 2"
      ]
     },
     "metadata": {},
     "output_type": "display_data"
    },
    {
     "data": {
      "text/plain": [
       "[1] 51"
      ]
     },
     "metadata": {},
     "output_type": "display_data"
    },
    {
     "data": {
      "text/plain": [
       "[1] 1"
      ]
     },
     "metadata": {},
     "output_type": "display_data"
    },
    {
     "data": {
      "text/plain": [
       "[1] 5"
      ]
     },
     "metadata": {},
     "output_type": "display_data"
    },
    {
     "data": {
      "text/plain": [
       "[1] 5"
      ]
     },
     "metadata": {},
     "output_type": "display_data"
    },
    {
     "data": {
      "text/plain": [
       "[1] 0"
      ]
     },
     "metadata": {},
     "output_type": "display_data"
    }
   ],
   "source": [
    "x <- 512\n",
    "x%%10 # 2\n",
    "x <- floor(x/10)\n",
    "x # 51\n",
    "x%%10 # 1\n",
    "x <- floor(x/10)\n",
    "x # 5\n",
    "x%%10 # 5\n",
    "x <- floor(x/10)\n",
    "x # 0"
   ]
  },
  {
   "cell_type": "code",
   "execution_count": 24,
   "metadata": {},
   "outputs": [
    {
     "name": "stdout",
     "output_type": "stream",
     "text": [
      "2 \n",
      "0 \n",
      "5 \n",
      "4 \n",
      "6 \n",
      "7 \n",
      "1 \n"
     ]
    }
   ],
   "source": [
    "x <- 1764502\n",
    "while (x>0){\n",
    "    lastdig <- x%%10\n",
    "    x <- floor( x/10 )\n",
    "    cat(lastdig,\"\\n\")\n",
    "}"
   ]
  },
  {
   "cell_type": "markdown",
   "metadata": {
    "slideshow": {
     "slide_type": "slide"
    }
   },
   "source": [
    "Collect into a vector:"
   ]
  },
  {
   "cell_type": "code",
   "execution_count": 25,
   "metadata": {},
   "outputs": [
    {
     "data": {
      "text/plain": [
       "[1] 1 7 6 4 5 0 2"
      ]
     },
     "metadata": {},
     "output_type": "display_data"
    }
   ],
   "source": [
    "x <- 1764502\n",
    "v <- c()\n",
    "while (x>0){\n",
    "    v <- c(x%%10, v)\n",
    "    x <- floor( x/10 )\n",
    "}\n",
    "v"
   ]
  },
  {
   "cell_type": "markdown",
   "metadata": {
    "slideshow": {
     "slide_type": "slide"
    }
   },
   "source": [
    "The repeat loop\n",
    "------------\n",
    "\n",
    "* The `repeat` statement provides an infinite loop.\n",
    "* Does not take a test. To end the loop, use `break`."
   ]
  },
  {
   "cell_type": "code",
   "execution_count": 26,
   "metadata": {},
   "outputs": [
    {
     "name": "stdout",
     "output_type": "stream",
     "text": [
      "4 7 10 13 "
     ]
    }
   ],
   "source": [
    "i <- 1\n",
    "repeat {\n",
    "    i <- i + 3\n",
    "    cat(i,\"\")\n",
    "    if(i>10) break\n",
    "}"
   ]
  },
  {
   "cell_type": "markdown",
   "metadata": {
    "slideshow": {
     "slide_type": "slide"
    }
   },
   "source": [
    "The `next` statement works in the same way in `repeat` loops."
   ]
  },
  {
   "cell_type": "code",
   "execution_count": 27,
   "metadata": {},
   "outputs": [
    {
     "name": "stdout",
     "output_type": "stream",
     "text": [
      "-1 1 2 4 5 7 8 10 11 "
     ]
    }
   ],
   "source": [
    "i <- -2\n",
    "repeat {\n",
    "    i <- i + 1\n",
    "    if (i%%3==0) next\n",
    "    cat(i,\"\")\n",
    "    if(i>10) break\n",
    "}"
   ]
  },
  {
   "cell_type": "markdown",
   "metadata": {
    "slideshow": {
     "slide_type": "slide"
    }
   },
   "source": [
    "# Which loop structure?\n",
    "* `while` is the most general one\n",
    "* `repeat` is the same as `while(TRUE)`\n",
    "* `for` is more convenient when going over sequences such as vectors.\n"
   ]
  },
  {
   "cell_type": "markdown",
   "metadata": {
    "slideshow": {
     "slide_type": "slide"
    }
   },
   "source": [
    "Nested loops\n",
    "-----------\n",
    "\n",
    "A loop body can contain anything, including other loops."
   ]
  },
  {
   "cell_type": "code",
   "execution_count": 28,
   "metadata": {
    "scrolled": true
   },
   "outputs": [
    {
     "name": "stdout",
     "output_type": "stream",
     "text": [
      "i = 1 \n",
      "   i+j = 8 \n",
      "   i+j = 9 \n",
      "   i+j = 10 \n",
      "i = 2 \n",
      "   i+j = 9 \n",
      "   i+j = 10 \n",
      "   i+j = 11 \n",
      "i = 3 \n",
      "   i+j = 10 \n",
      "   i+j = 11 \n",
      "   i+j = 12 \n",
      "i = 4 \n",
      "   i+j = 11 \n",
      "   i+j = 12 \n",
      "   i+j = 13 \n"
     ]
    }
   ],
   "source": [
    "for (i in 1:4) {\n",
    "    cat(\"i =\",i,\"\\n\")\n",
    "    for (j in c(7,8,9))\n",
    "        cat(\"   i+j =\",i+j,\"\\n\")\n",
    "}"
   ]
  },
  {
   "cell_type": "markdown",
   "metadata": {
    "slideshow": {
     "slide_type": "slide"
    }
   },
   "source": [
    "# Example\n",
    "Print a triangle of stars with size 5.\n",
    "\n",
    "    *\n",
    "    **\n",
    "    ***\n",
    "    ****\n",
    "    *****"
   ]
  },
  {
   "cell_type": "code",
   "execution_count": 30,
   "metadata": {},
   "outputs": [
    {
     "name": "stdout",
     "output_type": "stream",
     "text": [
      "*\n",
      "**\n",
      "***\n",
      "****\n",
      "*****\n",
      "******\n",
      "*******\n"
     ]
    }
   ],
   "source": [
    "nlines <- 7\n",
    "for (line in 1:nlines){\n",
    "    for (col in 1:line)\n",
    "        cat(\"*\")\n",
    "    cat(\"\\n\")\n",
    "}"
   ]
  },
  {
   "cell_type": "markdown",
   "metadata": {
    "slideshow": {
     "slide_type": "slide"
    }
   },
   "source": [
    "# Example\n",
    "Simple bar chart: Given a vector `x` with positive integer entries, print `x[l]` stars for each line `l`."
   ]
  },
  {
   "cell_type": "code",
   "execution_count": 31,
   "metadata": {},
   "outputs": [
    {
     "name": "stdout",
     "output_type": "stream",
     "text": [
      "*****\n",
      "**\n",
      "********\n",
      "*****\n",
      "*\n",
      "****\n",
      "*******\n",
      "**********\n",
      "***\n"
     ]
    }
   ],
   "source": [
    "x <- c(5,2,8,5,1,4,7,10,3)\n",
    "for (line in 1:length(x)){\n",
    "    for (col in 1:x[line])\n",
    "        cat(\"*\")\n",
    "    cat(\"\\n\")\n",
    "}"
   ]
  },
  {
   "cell_type": "markdown",
   "metadata": {
    "slideshow": {
     "slide_type": "slide"
    }
   },
   "source": [
    "# Example\n",
    "Write a function that takes two vectors and prints all products of numbers where the first factor comes from the first vector, and the second factor comes from the second vector. \n",
    "\n",
    "    pair_product( 2:3, 7:9 )    \n",
    "    2 * 7 = 14 \n",
    "    2 * 8 = 16 \n",
    "    2 * 9 = 18 \n",
    "    3 * 7 = 21 \n",
    "    3 * 8 = 24 \n",
    "    3 * 9 = 27 "
   ]
  },
  {
   "cell_type": "markdown",
   "metadata": {
    "slideshow": {
     "slide_type": "slide"
    }
   },
   "source": [
    "In complicated problems, it is best to start with the simplest case and gradually add features.\n",
    "\n",
    "First, take only two numbers and display their product:"
   ]
  },
  {
   "cell_type": "code",
   "execution_count": 32,
   "metadata": {},
   "outputs": [
    {
     "name": "stdout",
     "output_type": "stream",
     "text": [
      "2 * 7 = 14 \n"
     ]
    }
   ],
   "source": [
    "a <- 2\n",
    "b <- 7\n",
    "cat(a, \"*\", b, \"=\", a*b, \"\\n\")"
   ]
  },
  {
   "cell_type": "markdown",
   "metadata": {
    "slideshow": {
     "slide_type": "slide"
    }
   },
   "source": [
    "Next, make one parameter a vector, and \"wrap a loop\" around `cat()`."
   ]
  },
  {
   "cell_type": "code",
   "execution_count": 33,
   "metadata": {},
   "outputs": [
    {
     "name": "stdout",
     "output_type": "stream",
     "text": [
      "2 * 7 = 14 \n",
      "2 * 3 = 6 \n",
      "2 * 8 = 16 \n"
     ]
    }
   ],
   "source": [
    "a <- 2\n",
    "b_vector <- c(7,3,8)\n",
    "for (b in b_vector){\n",
    "    cat(a, \"*\", b, \"=\", a*b, \"\\n\")    \n",
    "}"
   ]
  },
  {
   "cell_type": "markdown",
   "metadata": {
    "slideshow": {
     "slide_type": "slide"
    }
   },
   "source": [
    "Finally, make the other factor a vector and wrap an outer loop around the existing loop."
   ]
  },
  {
   "cell_type": "code",
   "execution_count": 35,
   "metadata": {},
   "outputs": [
    {
     "name": "stdout",
     "output_type": "stream",
     "text": [
      "2 * 7 = 14 \n",
      "2 * 3 = 6 \n",
      "2 * 8 = 16 \n",
      "2 * 5 = 10 \n",
      "3 * 7 = 21 \n",
      "3 * 3 = 9 \n",
      "3 * 8 = 24 \n",
      "3 * 5 = 15 \n",
      "-1 * 7 = -7 \n",
      "-1 * 3 = -3 \n",
      "-1 * 8 = -8 \n",
      "-1 * 5 = -5 \n"
     ]
    }
   ],
   "source": [
    "pair_product <- function(a_vector, b_vector){\n",
    "    for (a in a_vector){\n",
    "        for (b in b_vector){\n",
    "            cat(a, \"*\", b, \"=\", a*b, \"\\n\")\n",
    "        }\n",
    "    }\n",
    "}\n",
    "pair_product(c(2,3,-1),c(7,3,8,5))"
   ]
  },
  {
   "cell_type": "markdown",
   "metadata": {
    "slideshow": {
     "slide_type": "slide"
    }
   },
   "source": [
    "# Example: List Pythagorean triples\n",
    "A _Pythagorean triple_ consists of three integers a,b,c such that $a^2 + b^2 = c^2$ holds. Let us determine all Pythagorean triplets such that $a,b\\leq 100$."
   ]
  },
  {
   "cell_type": "code",
   "execution_count": null,
   "metadata": {},
   "outputs": [],
   "source": [
    "for (a in 1:100)\n",
    "    for(b in 1:100)\n",
    "        for(c in b:142) # think about the possible values c can take.\n",
    "            if (a*a + b*b == c*c)\n",
    "                cat(a,b,c,\"\\n\")"
   ]
  },
  {
   "cell_type": "markdown",
   "metadata": {},
   "source": [
    "**Question.** We get repetitions such as `3 4 5` and `4 3 5`, which are really not different. How do we remove such repetitions?"
   ]
  },
  {
   "cell_type": "markdown",
   "metadata": {
    "slideshow": {
     "slide_type": "slide"
    }
   },
   "source": [
    "# Performance of vectorized operations and loops"
   ]
  },
  {
   "cell_type": "markdown",
   "metadata": {},
   "source": [
    "* Many tasks involve applying looping over vector elements.\n",
    "* R has built-in vectorized functions for these tasks, but we can implement our own with loops.\n",
    "* Consider adding two vectors and assigning the result on a third:"
   ]
  },
  {
   "cell_type": "code",
   "execution_count": 36,
   "metadata": {},
   "outputs": [
    {
     "data": {
      "text/plain": [
       "[1] 5 7 9"
      ]
     },
     "metadata": {},
     "output_type": "display_data"
    }
   ],
   "source": [
    "x <- c(1,2,3)\n",
    "y <- c(4,5,6)\n",
    "z <- x + y\n",
    "z"
   ]
  },
  {
   "cell_type": "markdown",
   "metadata": {
    "slideshow": {
     "slide_type": "slide"
    }
   },
   "source": [
    "Alternative way by using a `for` loop"
   ]
  },
  {
   "cell_type": "code",
   "execution_count": 37,
   "metadata": {},
   "outputs": [
    {
     "data": {
      "text/plain": [
       "[1] 5 7 9"
      ]
     },
     "metadata": {},
     "output_type": "display_data"
    }
   ],
   "source": [
    "z <- vector(length=length(x))\n",
    "for(i in 1:length(x))\n",
    "    z[i] <- x[i] + y[i]\n",
    "z"
   ]
  },
  {
   "cell_type": "markdown",
   "metadata": {
    "slideshow": {
     "slide_type": "slide"
    }
   },
   "source": [
    "Let's measure the time that the computer takes for each operation. We use large vectors so that we can see the time difference clearly."
   ]
  },
  {
   "cell_type": "code",
   "execution_count": 38,
   "metadata": {},
   "outputs": [
    {
     "data": {
      "text/plain": [
       "   user  system elapsed \n",
       "  0.002   0.005   0.006 "
      ]
     },
     "metadata": {},
     "output_type": "display_data"
    }
   ],
   "source": [
    "x <- runif(1000000)\n",
    "y <- runif(1000000)\n",
    "system.time(z <- x+y) # Time taken by vectorized addition "
   ]
  },
  {
   "cell_type": "code",
   "execution_count": 39,
   "metadata": {},
   "outputs": [
    {
     "data": {
      "text/plain": [
       "   user  system elapsed \n",
       "    0.1     0.0     0.1 "
      ]
     },
     "metadata": {},
     "output_type": "display_data"
    }
   ],
   "source": [
    "z <- vector(length=1000000)\n",
    "system.time(for(i in 1:length(x)) z[i] <- x[i] + y[i]) # time taken by explicit loop."
   ]
  },
  {
   "cell_type": "markdown",
   "metadata": {
    "slideshow": {
     "slide_type": "slide"
    }
   },
   "source": [
    "* There is a large difference between execution times.\n",
    "* This is due to the implementation of R: The `for()` loop, the `:` operator, the index operator `[` are all function calls, which slows the code.\n",
    "* Vectorized functions are written with C: They run fast.\n",
    "* **When dealing with large data, use vectorized functions instead of a loop, whenever possible.**"
   ]
  },
  {
   "cell_type": "markdown",
   "metadata": {},
   "source": [
    "# Example: Moving average\n",
    "Moving averages are a way to smooth the data. For example, the 2-element sample moving average of a vector $v$ with $n$ elements is defined as\n",
    "\n",
    "$$ \\left(\\frac{v_1+v_2}{2},\\frac{v_2+v_3}{2},\\frac{v_3+v_4}{2}, \\ldots, \\frac{v_{n-1}+v_n}{2}\\right)$$"
   ]
  },
  {
   "cell_type": "markdown",
   "metadata": {
    "slideshow": {
     "slide_type": "slide"
    }
   },
   "source": [
    "Let's generate some synthetic data with an upward trend and some random noise."
   ]
  },
  {
   "cell_type": "code",
   "execution_count": null,
   "metadata": {},
   "outputs": [],
   "source": [
    "data <- cumsum(sample(c(-1,2),size = 100, replace=TRUE))\n",
    "plot(data, type=\"l\")"
   ]
  },
  {
   "cell_type": "code",
   "execution_count": null,
   "metadata": {
    "slideshow": {
     "slide_type": "slide"
    }
   },
   "outputs": [],
   "source": [
    "movav <- vector(length=length(data)-1)\n",
    "for(i in 1:length(data)-1)\n",
    "    movav[i] <- (data[i] + data[i+1])/2"
   ]
  },
  {
   "cell_type": "code",
   "execution_count": null,
   "metadata": {},
   "outputs": [],
   "source": [
    "plot(data, type=\"l\")\n",
    "lines(movav, col=\"red\")"
   ]
  },
  {
   "cell_type": "markdown",
   "metadata": {
    "slideshow": {
     "slide_type": "slide"
    }
   },
   "source": [
    "Implement this in vectorized form:"
   ]
  },
  {
   "cell_type": "code",
   "execution_count": null,
   "metadata": {},
   "outputs": [],
   "source": [
    "movav <- (data[1:length(data)-1] + data[2:length(data)])/2"
   ]
  },
  {
   "cell_type": "markdown",
   "metadata": {
    "slideshow": {
     "slide_type": "slide"
    }
   },
   "source": [
    "# Further examples"
   ]
  },
  {
   "cell_type": "markdown",
   "metadata": {
    "slideshow": {
     "slide_type": "slide"
    }
   },
   "source": [
    "# Fibonacci sequence\n",
    "A _Fibonacci sequence_ starts with 1 and 1, and each new value is the sum of the two previous values. Formally:\n",
    "$$\\begin{eqnarray}\n",
    "F_1 &=& 1\\\\\n",
    "F_2 &=& 1\\\\\n",
    "F_{n} &=& F_{n-1} + F_{n-2}\n",
    "\\end{eqnarray}$$\n",
    "\n",
    "Each number in this sequence is called a _Fibonacci number_. Let us write R code that displays the first 20 Fibonacci numbers."
   ]
  },
  {
   "cell_type": "code",
   "execution_count": null,
   "metadata": {},
   "outputs": [],
   "source": [
    "f1 <- 1\n",
    "f2 <- 1"
   ]
  },
  {
   "cell_type": "code",
   "execution_count": null,
   "metadata": {},
   "outputs": [],
   "source": [
    "for (i in 3:20){\n",
    "    temp <- f1\n",
    "    f1 <- f2\n",
    "    f2 <- f2 + temp\n",
    "    cat(f2,\"\\n\")\n",
    "}"
   ]
  },
  {
   "cell_type": "markdown",
   "metadata": {
    "slideshow": {
     "slide_type": "slide"
    }
   },
   "source": [
    "# Compound interest"
   ]
  },
  {
   "cell_type": "code",
   "execution_count": null,
   "metadata": {},
   "outputs": [],
   "source": [
    "account_balance <- 10000\n",
    "interest_rate <- 0.1\n",
    "years <- 10\n",
    "balance_vec <- account_balance\n",
    "for (y in 1:years){\n",
    "    account_balance <- account_balance * (1+interest_rate)\n",
    "    balance_vec <- c(balance_vec, account_balance)\n",
    "    cat(\"After\",y,\"years your account balance is\",account_balance,\"\\n\")\n",
    "}"
   ]
  },
  {
   "cell_type": "markdown",
   "metadata": {
    "slideshow": {
     "slide_type": "slide"
    }
   },
   "source": [
    "# Series sum\n",
    "Evaluate the sum $$\\sum_{i=1}^{n} 2^{-i} = \\frac{1}{2} + \\frac{1}{4} +\\ldots + \\frac{1}{2^n}$$ for given $n$."
   ]
  },
  {
   "cell_type": "code",
   "execution_count": null,
   "metadata": {},
   "outputs": [],
   "source": [
    "n <- 5\n",
    "total <- 0\n",
    "for (i in 1:n) {\n",
    "    total <- total + 1/2^i\n",
    "}\n",
    "total"
   ]
  },
  {
   "cell_type": "markdown",
   "metadata": {
    "slideshow": {
     "slide_type": "slide"
    }
   },
   "source": [
    "As $n\\rightarrow\\infty$, the sum must approach 1. To see this, let us wrap another loop around the code to change n."
   ]
  },
  {
   "cell_type": "code",
   "execution_count": null,
   "metadata": {},
   "outputs": [],
   "source": [
    "for (n in 2:20){\n",
    "    total <- 0\n",
    "    for (i in 1:n) {\n",
    "        total <- total + 1/2^i\n",
    "    }\n",
    "    cat(\"n =\",n,\", series total =\",total,\"\\n\")\n",
    "}"
   ]
  },
  {
   "cell_type": "markdown",
   "metadata": {
    "slideshow": {
     "slide_type": "slide"
    }
   },
   "source": [
    "# Exercises"
   ]
  },
  {
   "cell_type": "markdown",
   "metadata": {
    "slideshow": {
     "slide_type": "slide"
    }
   },
   "source": [
    "# Implement `sum` and `cumsum`\n",
    "Implement the `sum()` and `cumsum()` functions using R's loop structures. Test your functions with some simple cases to ensure that they work correctly. Using random vectors of size 1,000,000 as input, compare their speed with the built-in versions."
   ]
  },
  {
   "cell_type": "markdown",
   "metadata": {
    "slideshow": {
     "slide_type": "slide"
    }
   },
   "source": [
    "# Digits of a number\n",
    "Write a function `digits(x)` that takes a positive integer and returns a vector of its digits. For example, `digits(0667230)` should return the vector `(6,6,7,2,3,0)`."
   ]
  },
  {
   "cell_type": "markdown",
   "metadata": {
    "slideshow": {
     "slide_type": "slide"
    }
   },
   "source": [
    "# Digital sums\n",
    "Write a function named `digitsum` which takes a positive integer and returns the sum of digits (the \"digital sum\") of the input. For example, the function call `digitsum(35274)` should return 21.\n",
    "\n",
    "Using this function, find the number between 1 and 1 million that has the largest digital sum."
   ]
  },
  {
   "cell_type": "markdown",
   "metadata": {
    "slideshow": {
     "slide_type": "slide"
    }
   },
   "source": [
    "# Migration\n",
    "Currently there are 1,000,000 inhabitants in city A, and 500,000 in city B. Each year, 2% of people in city A move to city B, and 3% of people in city A move to city B. The intrinsic growth rate of both cities is 1% (i.e., the growth in the absence of any migration).\n",
    "\n",
    "Plot the population of both cities for the next 20 years."
   ]
  },
  {
   "cell_type": "markdown",
   "metadata": {
    "slideshow": {
     "slide_type": "slide"
    }
   },
   "source": [
    "# Collatz numbers\n",
    "The _Collatz sequence_ is defined as follows:\n",
    "* Start with any positive integer $n$.\n",
    "* If $n$ is even, set $n \\leftarrow n/2$\n",
    "* If $n$ is odd, set $n \\leftarrow 3n+1$\n",
    "* If $n=1$, stop.\n",
    "\n",
    "For example, starting with 10, the Collatz sequence is 10, 5, 16, 8, 4, 2, 1. The number of steps required to reach 1 is 6.\n",
    "\n",
    "It is believed that for any starting point the sequence ends with 1. However, this is not proven.\n",
    "\n",
    "* Write a function `collatzlen(n)` that returns the number of steps required to go from n to 1 in a Collatz sequence. For example, `collatzlen(10)` should return 6.\n",
    "* Plot the Collatz sequence length for $n$ going from 2 to 100.\n",
    "* For which starting value between 100 and 200 does the Collatz sequence have the largest length?"
   ]
  }
 ],
 "metadata": {
  "celltoolbar": "Slideshow",
  "kernelspec": {
   "display_name": "R",
   "language": "R",
   "name": "ir"
  },
  "language_info": {
   "codemirror_mode": "r",
   "file_extension": ".r",
   "mimetype": "text/x-r-source",
   "name": "R",
   "pygments_lexer": "r",
   "version": "3.6.1"
  },
  "toc": {
   "base_numbering": 1,
   "nav_menu": {},
   "number_sections": false,
   "sideBar": true,
   "skip_h1_title": false,
   "title_cell": "Table of Contents",
   "title_sidebar": "Contents",
   "toc_cell": false,
   "toc_position": {},
   "toc_section_display": "block",
   "toc_window_display": false
  }
 },
 "nbformat": 4,
 "nbformat_minor": 2
}
