{
 "cells": [
  {
   "cell_type": "code",
   "execution_count": 1,
   "metadata": {},
   "outputs": [],
   "source": [
    "options(jupyter.rich_display = FALSE)"
   ]
  },
  {
   "cell_type": "markdown",
   "metadata": {
    "slideshow": {
     "slide_type": "slide"
    }
   },
   "source": [
    "# Lecture 8: Lists"
   ]
  },
  {
   "cell_type": "markdown",
   "metadata": {
    "slideshow": {
     "slide_type": "slide"
    }
   },
   "source": [
    "# Where vectors are not adequate\n",
    "\n",
    "* We've seen that every element of a vector in R must have the same mode (number, character, etc.).\n",
    "* This has the advantage of efficiency, and provides fast computations.\n",
    "* However, we cannot store more complicated data structures, such as\n",
    "\n",
    "        Name: Fatma\n",
    "        Salary: 5624.25\n",
    "        Full time: yes"
   ]
  },
  {
   "cell_type": "markdown",
   "metadata": {
    "slideshow": {
     "slide_type": "slide"
    }
   },
   "source": [
    "# Lists\n",
    "\n",
    "* _Lists_ are more general than vectors.\n",
    "* A list's elements can be of different types, allowing for more complicated data representations.\n",
    "* They form the bridge between vectors and *data frames*, which we'll see later."
   ]
  },
  {
   "cell_type": "markdown",
   "metadata": {
    "slideshow": {
     "slide_type": "slide"
    }
   },
   "source": [
    "# Creating lists\n",
    "\n",
    "In the simplest form, a list can be created with the `list()` function call."
   ]
  },
  {
   "cell_type": "code",
   "execution_count": 2,
   "metadata": {},
   "outputs": [
    {
     "data": {
      "text/plain": [
       "[[1]]\n",
       "[1] \"Fatma\"\n",
       "\n",
       "[[2]]\n",
       "[1] 5624.25\n",
       "\n",
       "[[3]]\n",
       "[1] TRUE\n"
      ]
     },
     "metadata": {},
     "output_type": "display_data"
    }
   ],
   "source": [
    "ftm <- list(\"Fatma\", 5624.25, TRUE)\n",
    "ftm"
   ]
  },
  {
   "cell_type": "markdown",
   "metadata": {
    "slideshow": {
     "slide_type": "slide"
    }
   },
   "source": [
    "We can access list elements using the _double bracket_ `[[...]]` notation."
   ]
  },
  {
   "cell_type": "code",
   "execution_count": 3,
   "metadata": {},
   "outputs": [
    {
     "data": {
      "text/plain": [
       "[1] \"Fatma\""
      ]
     },
     "metadata": {},
     "output_type": "display_data"
    }
   ],
   "source": [
    "ftm[[1]]"
   ]
  },
  {
   "cell_type": "code",
   "execution_count": 4,
   "metadata": {},
   "outputs": [
    {
     "data": {
      "text/plain": [
       "[1] 5624.25"
      ]
     },
     "metadata": {},
     "output_type": "display_data"
    }
   ],
   "source": [
    "ftm[[2]]"
   ]
  },
  {
   "cell_type": "markdown",
   "metadata": {
    "slideshow": {
     "slide_type": "slide"
    }
   },
   "source": [
    "# Tags of list elements\n",
    "\n",
    "Instead of using integer indices, we can assign names (*tags*) to list components and refer to them using these tags."
   ]
  },
  {
   "cell_type": "code",
   "execution_count": 5,
   "metadata": {},
   "outputs": [
    {
     "data": {
      "text/plain": [
       "$name\n",
       "[1] \"Fatma\"\n",
       "\n",
       "$salary\n",
       "[1] 5624.25\n",
       "\n",
       "$fulltime\n",
       "[1] TRUE\n"
      ]
     },
     "metadata": {},
     "output_type": "display_data"
    }
   ],
   "source": [
    "ftm <- list(name=\"Fatma\", salary=5624.25, fulltime=TRUE)\n",
    "ftm"
   ]
  },
  {
   "cell_type": "code",
   "execution_count": 6,
   "metadata": {},
   "outputs": [
    {
     "data": {
      "text/plain": [
       "[1] \"Fatma\""
      ]
     },
     "metadata": {},
     "output_type": "display_data"
    }
   ],
   "source": [
    "ftm$name"
   ]
  },
  {
   "cell_type": "markdown",
   "metadata": {
    "slideshow": {
     "slide_type": "slide"
    }
   },
   "source": [
    "# Mixing different objects\n",
    "A list can comprise any type of object, such as vectors, matrices, sublists, etc."
   ]
  },
  {
   "cell_type": "code",
   "execution_count": 7,
   "metadata": {},
   "outputs": [
    {
     "data": {
      "text/plain": [
       "[[1]]\n",
       "[1] 1\n",
       "\n",
       "[[2]]\n",
       "[1] 2 3\n",
       "\n",
       "[[3]]\n",
       "[[3]][[1]]\n",
       "[1] \"abc\"\n",
       "\n",
       "[[3]][[2]]\n",
       "[1] 4\n",
       "\n"
      ]
     },
     "metadata": {},
     "output_type": "display_data"
    }
   ],
   "source": [
    "list(1, c(2,3), list(\"abc\",4))"
   ]
  },
  {
   "cell_type": "markdown",
   "metadata": {
    "slideshow": {
     "slide_type": "slide"
    }
   },
   "source": [
    "List indexing\n",
    "===\n",
    "List elements can be accessed with\n",
    "1. using integer indices: `mylist[[1]]`\n",
    "1. using the `mylist$tag` notation, if tags are given\n",
    "1. using the `mylist[[\"tag\"]]` notation, if tags are given"
   ]
  },
  {
   "cell_type": "code",
   "execution_count": 8,
   "metadata": {},
   "outputs": [
    {
     "data": {
      "text/plain": [
       "[1] \"Fatma\""
      ]
     },
     "metadata": {},
     "output_type": "display_data"
    },
    {
     "data": {
      "text/plain": [
       "[1] 5624.25"
      ]
     },
     "metadata": {},
     "output_type": "display_data"
    },
    {
     "data": {
      "text/plain": [
       "[1] TRUE"
      ]
     },
     "metadata": {},
     "output_type": "display_data"
    }
   ],
   "source": [
    "ftm <- list(name=\"Fatma\", salary=5624.25, fulltime=TRUE)\n",
    "ftm$name  # ftm[[1]], ftm[[\"name\"]]\n",
    "ftm[[2]]  # ftm$salary, ftm[[\"salary\"]]\n",
    "ftm[[\"fulltime\"]] # ftm$fulltime , ftm[[3]]"
   ]
  },
  {
   "cell_type": "markdown",
   "metadata": {
    "slideshow": {
     "slide_type": "slide"
    }
   },
   "source": [
    "If one element is a vector, the `[...]` operator can be used afterwards in order to select elemnets of that vector."
   ]
  },
  {
   "cell_type": "code",
   "execution_count": 9,
   "metadata": {},
   "outputs": [
    {
     "data": {
      "text/plain": [
       "$name\n",
       "[1] \"Fatma\"\n",
       "\n",
       "$grades\n",
       "[1] 10 12  9\n"
      ]
     },
     "metadata": {},
     "output_type": "display_data"
    }
   ],
   "source": [
    "ftm <- list(name=\"Fatma\", grades=c(10,12,9))\n",
    "ftm"
   ]
  },
  {
   "cell_type": "code",
   "execution_count": 10,
   "metadata": {},
   "outputs": [
    {
     "data": {
      "text/plain": [
       "[1] 10 12  9"
      ]
     },
     "metadata": {},
     "output_type": "display_data"
    }
   ],
   "source": [
    "ftm$grades"
   ]
  },
  {
   "cell_type": "code",
   "execution_count": 11,
   "metadata": {},
   "outputs": [
    {
     "data": {
      "text/plain": [
       "[1] 9"
      ]
     },
     "metadata": {},
     "output_type": "display_data"
    },
    {
     "data": {
      "text/plain": [
       "[1] 9"
      ]
     },
     "metadata": {},
     "output_type": "display_data"
    }
   ],
   "source": [
    "ftm[[2]][3]\n",
    "ftm$grades[3]"
   ]
  },
  {
   "cell_type": "markdown",
   "metadata": {
    "slideshow": {
     "slide_type": "slide"
    }
   },
   "source": [
    "The syntax `listname[[\"tagname\"]]` is useful when tagnames are stored in a variable."
   ]
  },
  {
   "cell_type": "code",
   "execution_count": 12,
   "metadata": {},
   "outputs": [
    {
     "data": {
      "text/plain": [
       "[1] 5624.25"
      ]
     },
     "metadata": {},
     "output_type": "display_data"
    }
   ],
   "source": [
    "ftm <- list(name=\"Fatma\", salary=5624.25, fulltime=TRUE)\n",
    "x <- \"salary\"\n",
    "ftm[[x]]"
   ]
  },
  {
   "cell_type": "markdown",
   "metadata": {
    "slideshow": {
     "slide_type": "slide"
    }
   },
   "source": [
    "Selecting a range of indices\n",
    "----\n",
    "A range of indices can be selected using the familiar vector syntax _with a single bracket_.\n",
    "\n",
    "This returns a _sublist_."
   ]
  },
  {
   "cell_type": "code",
   "execution_count": 13,
   "metadata": {},
   "outputs": [
    {
     "data": {
      "text/plain": [
       "$name\n",
       "[1] \"Fatma\"\n",
       "\n",
       "$salary\n",
       "[1] 5624.25\n"
      ]
     },
     "metadata": {},
     "output_type": "display_data"
    }
   ],
   "source": [
    "ftm[1:2]"
   ]
  },
  {
   "cell_type": "code",
   "execution_count": 14,
   "metadata": {},
   "outputs": [
    {
     "data": {
      "text/plain": [
       "$name\n",
       "[1] \"Fatma\"\n",
       "\n",
       "$fulltime\n",
       "[1] TRUE\n"
      ]
     },
     "metadata": {},
     "output_type": "display_data"
    }
   ],
   "source": [
    "ftm[c(1,3)]"
   ]
  },
  {
   "cell_type": "markdown",
   "metadata": {
    "slideshow": {
     "slide_type": "slide"
    }
   },
   "source": [
    "However, this does not work with the double bracket notation."
   ]
  },
  {
   "cell_type": "code",
   "execution_count": 15,
   "metadata": {},
   "outputs": [
    {
     "ename": "ERROR",
     "evalue": "Error in ftm[[1:2]]: subscript out of bounds\n",
     "output_type": "error",
     "traceback": [
      "Error in ftm[[1:2]]: subscript out of bounds\nTraceback:\n"
     ]
    }
   ],
   "source": [
    "ftm[[1:2]]"
   ]
  },
  {
   "cell_type": "markdown",
   "metadata": {
    "slideshow": {
     "slide_type": "slide"
    }
   },
   "source": [
    "Difference between indexing with single and double brackets\n",
    "----\n",
    "The availability of two types of brackets for list indexing can be confusing. They can be distinguished by their return types:\n",
    "\n",
    "* `[i]` returns a list with a single component\n",
    "* `[[i]]` returns a single component."
   ]
  },
  {
   "cell_type": "code",
   "execution_count": 16,
   "metadata": {},
   "outputs": [
    {
     "data": {
      "text/plain": [
       "$name\n",
       "[1] \"Fatma\"\n"
      ]
     },
     "metadata": {},
     "output_type": "display_data"
    }
   ],
   "source": [
    "ftm[1]  # returns a list with a single component."
   ]
  },
  {
   "cell_type": "code",
   "execution_count": 17,
   "metadata": {},
   "outputs": [
    {
     "data": {
      "text/plain": [
       "[1] \"Fatma\""
      ]
     },
     "metadata": {},
     "output_type": "display_data"
    }
   ],
   "source": [
    "ftm[[1]]  # returns a one-element vector"
   ]
  },
  {
   "cell_type": "code",
   "execution_count": 18,
   "metadata": {
    "slideshow": {
     "slide_type": "slide"
    }
   },
   "outputs": [
    {
     "data": {
      "text/plain": [
       "[1] \"list\""
      ]
     },
     "metadata": {},
     "output_type": "display_data"
    },
    {
     "data": {
      "text/plain": [
       "[1] \"character\""
      ]
     },
     "metadata": {},
     "output_type": "display_data"
    }
   ],
   "source": [
    "mode(ftm[1])\n",
    "mode(ftm[[1]])"
   ]
  },
  {
   "cell_type": "markdown",
   "metadata": {
    "slideshow": {
     "slide_type": "slide"
    }
   },
   "source": [
    "# Adding new elements to a list\n",
    "\n",
    "You can start with an incomplete list and add new elements as you go along."
   ]
  },
  {
   "cell_type": "code",
   "execution_count": 19,
   "metadata": {},
   "outputs": [
    {
     "data": {
      "text/plain": [
       "$name\n",
       "[1] \"Fatma\"\n",
       "\n",
       "$salary\n",
       "[1] 5624.25\n"
      ]
     },
     "metadata": {},
     "output_type": "display_data"
    }
   ],
   "source": [
    "ftm <- list(name=\"Fatma\", salary=5624.25)\n",
    "ftm"
   ]
  },
  {
   "cell_type": "code",
   "execution_count": 20,
   "metadata": {},
   "outputs": [
    {
     "data": {
      "text/plain": [
       "$name\n",
       "[1] \"Fatma\"\n",
       "\n",
       "$salary\n",
       "[1] 5624.25\n",
       "\n",
       "$fulltime\n",
       "[1] TRUE\n"
      ]
     },
     "metadata": {},
     "output_type": "display_data"
    }
   ],
   "source": [
    "ftm$fulltime <- TRUE\n",
    "ftm"
   ]
  },
  {
   "cell_type": "markdown",
   "metadata": {
    "slideshow": {
     "slide_type": "slide"
    }
   },
   "source": [
    "New list elements can also be added via vector indices."
   ]
  },
  {
   "cell_type": "code",
   "execution_count": 21,
   "metadata": {},
   "outputs": [
    {
     "data": {
      "text/plain": [
       "$name\n",
       "[1] \"Fatma\"\n",
       "\n",
       "$salary\n",
       "[1] 5624.25\n",
       "\n",
       "$fulltime\n",
       "[1] TRUE\n",
       "\n",
       "[[4]]\n",
       "[1] 28\n",
       "\n",
       "[[5]]\n",
       "[1] FALSE\n",
       "\n",
       "[[6]]\n",
       "[1] TRUE\n",
       "\n",
       "[[7]]\n",
       "[1] TRUE\n"
      ]
     },
     "metadata": {},
     "output_type": "display_data"
    }
   ],
   "source": [
    "ftm[[4]] <- 28\n",
    "ftm[5:7] <- c(a=FALSE,b=TRUE,c=TRUE)\n",
    "ftm"
   ]
  },
  {
   "cell_type": "markdown",
   "metadata": {},
   "source": [
    "This last example also shows that a list can have both tagged and untagged elements."
   ]
  },
  {
   "cell_type": "markdown",
   "metadata": {
    "slideshow": {
     "slide_type": "slide"
    }
   },
   "source": [
    "# Delete elements from a list\n",
    "\n",
    "You can delete an element by setting it to `NULL`."
   ]
  },
  {
   "cell_type": "code",
   "execution_count": 22,
   "metadata": {},
   "outputs": [
    {
     "data": {
      "text/plain": [
       "$name\n",
       "[1] \"Fatma\"\n",
       "\n",
       "$salary\n",
       "[1] 5624.25\n",
       "\n",
       "[[3]]\n",
       "[1] 28\n",
       "\n",
       "[[4]]\n",
       "[1] FALSE\n",
       "\n",
       "[[5]]\n",
       "[1] TRUE\n",
       "\n",
       "[[6]]\n",
       "[1] TRUE\n"
      ]
     },
     "metadata": {},
     "output_type": "display_data"
    }
   ],
   "source": [
    "ftm$fulltime <- NULL\n",
    "ftm"
   ]
  },
  {
   "cell_type": "markdown",
   "metadata": {
    "slideshow": {
     "slide_type": "slide"
    }
   },
   "source": [
    "Note that after deletion, all elements below the deleted one are moved up and their indices are decreased by one."
   ]
  },
  {
   "cell_type": "code",
   "execution_count": 23,
   "metadata": {},
   "outputs": [
    {
     "data": {
      "text/plain": [
       "$name\n",
       "[1] \"Fatma\"\n",
       "\n",
       "$salary\n",
       "[1] 5624.25\n",
       "\n",
       "[[3]]\n",
       "[1] FALSE\n",
       "\n",
       "[[4]]\n",
       "[1] TRUE\n",
       "\n",
       "[[5]]\n",
       "[1] TRUE\n"
      ]
     },
     "metadata": {},
     "output_type": "display_data"
    }
   ],
   "source": [
    "ftm[[3]] <- NULL\n",
    "ftm"
   ]
  },
  {
   "cell_type": "code",
   "execution_count": 24,
   "metadata": {},
   "outputs": [
    {
     "data": {
      "text/plain": [
       "$name\n",
       "[1] \"Fatma\"\n",
       "\n",
       "$salary\n",
       "[1] 5624.25\n"
      ]
     },
     "metadata": {},
     "output_type": "display_data"
    }
   ],
   "source": [
    "ftm[3:5] <- NULL\n",
    "ftm"
   ]
  },
  {
   "cell_type": "markdown",
   "metadata": {
    "slideshow": {
     "slide_type": "slide"
    }
   },
   "source": [
    "# Concatenating lists\n",
    "\n",
    "The familiar `c()` function can be used on lists, too."
   ]
  },
  {
   "cell_type": "code",
   "execution_count": 27,
   "metadata": {},
   "outputs": [
    {
     "data": {
      "text/plain": [
       "[[1]]\n",
       "[1] \"abc\"\n",
       "\n",
       "[[2]]\n",
       "[1] 32\n",
       "\n",
       "[[3]]\n",
       "[1] TRUE\n",
       "\n",
       "[[4]]\n",
       "[1] 5.1\n"
      ]
     },
     "metadata": {},
     "output_type": "display_data"
    }
   ],
   "source": [
    "c( list(\"abc\", 32, T), list(5.1))"
   ]
  },
  {
   "cell_type": "code",
   "execution_count": 28,
   "metadata": {},
   "outputs": [
    {
     "data": {
      "text/plain": [
       "$name\n",
       "[1] \"Fatma\"\n",
       "\n",
       "$salary\n",
       "[1] 5624.25\n",
       "\n",
       "$fulltime\n",
       "[1] TRUE\n",
       "\n",
       "$hobby\n",
       "[1] \"painting\"\n"
      ]
     },
     "metadata": {},
     "output_type": "display_data"
    }
   ],
   "source": [
    "c(list(name=\"Fatma\", salary=5624.25, fulltime=TRUE), list(hobby=\"painting\"))"
   ]
  },
  {
   "cell_type": "markdown",
   "metadata": {
    "slideshow": {
     "slide_type": "slide"
    }
   },
   "source": [
    "# Getting information on lists\n",
    "To get the number of elements in a list, we can use the `length()` function."
   ]
  },
  {
   "cell_type": "code",
   "execution_count": 29,
   "metadata": {},
   "outputs": [
    {
     "data": {
      "text/plain": [
       "[1] 3"
      ]
     },
     "metadata": {},
     "output_type": "display_data"
    }
   ],
   "source": [
    "ftm <- list(name=\"Fatma\", salary=5624.25, fulltime=TRUE)\n",
    "length(ftm)"
   ]
  },
  {
   "cell_type": "markdown",
   "metadata": {
    "slideshow": {
     "slide_type": "slide"
    }
   },
   "source": [
    "To get the tags in a list, we use the `names()` function."
   ]
  },
  {
   "cell_type": "code",
   "execution_count": 30,
   "metadata": {},
   "outputs": [
    {
     "data": {
      "text/plain": [
       "[1] \"name\"     \"salary\"   \"fulltime\""
      ]
     },
     "metadata": {},
     "output_type": "display_data"
    }
   ],
   "source": [
    "names(ftm)"
   ]
  },
  {
   "cell_type": "markdown",
   "metadata": {
    "slideshow": {
     "slide_type": "slide"
    }
   },
   "source": [
    "To obtain the values as a vector, we can use the `unlist()` function."
   ]
  },
  {
   "cell_type": "code",
   "execution_count": 31,
   "metadata": {},
   "outputs": [
    {
     "data": {
      "text/plain": [
       "     name    salary  fulltime \n",
       "  \"Fatma\" \"5624.25\"    \"TRUE\" "
      ]
     },
     "metadata": {},
     "output_type": "display_data"
    }
   ],
   "source": [
    "unlist(ftm)"
   ]
  },
  {
   "cell_type": "code",
   "execution_count": 32,
   "metadata": {},
   "outputs": [
    {
     "data": {
      "text/plain": [
       "[1] \"Fatma\"   \"5624.25\" \"TRUE\"   "
      ]
     },
     "metadata": {},
     "output_type": "display_data"
    }
   ],
   "source": [
    "unname(unlist(ftm))"
   ]
  },
  {
   "cell_type": "markdown",
   "metadata": {},
   "source": [
    "Note that this function returns a vector, and the numeric and the Boolean values are converted to strings. The reason is that in a vector every element must be of the same type, and strings are the only common denominator here."
   ]
  },
  {
   "cell_type": "markdown",
   "metadata": {
    "slideshow": {
     "slide_type": "slide"
    }
   },
   "source": [
    "# Applying functions to lists"
   ]
  },
  {
   "cell_type": "markdown",
   "metadata": {},
   "source": [
    "The `lapply()` function applies a function to each element of a list, and returns the results as a list."
   ]
  },
  {
   "cell_type": "code",
   "execution_count": 33,
   "metadata": {},
   "outputs": [
    {
     "data": {
      "text/plain": [
       "[[1]]\n",
       "[1] 1.414214\n",
       "\n",
       "[[2]]\n",
       "[1] 1.870829\n",
       "\n",
       "[[3]]\n",
       "[1] 2\n"
      ]
     },
     "metadata": {},
     "output_type": "display_data"
    }
   ],
   "source": [
    "lapply(list(2,3.5,4), sqrt)"
   ]
  },
  {
   "cell_type": "markdown",
   "metadata": {
    "slideshow": {
     "slide_type": "slide"
    }
   },
   "source": [
    "Working with tagged elements:"
   ]
  },
  {
   "cell_type": "code",
   "execution_count": 34,
   "metadata": {},
   "outputs": [
    {
     "data": {
      "text/plain": [
       "$section1\n",
       "[1] 10 12 11 14  8 12\n",
       "\n",
       "$section2\n",
       "[1] 13 11 10 11  9\n"
      ]
     },
     "metadata": {},
     "output_type": "display_data"
    }
   ],
   "source": [
    "grades_1 <- c(10,12,11,14,8,12)\n",
    "grades_2 <- c(13,11,10,11,9)\n",
    "allgrades <- list(section1=grades_1, section2=grades_2)\n",
    "allgrades"
   ]
  },
  {
   "cell_type": "code",
   "execution_count": 36,
   "metadata": {},
   "outputs": [
    {
     "data": {
      "text/plain": [
       "[1] 11.16667"
      ]
     },
     "metadata": {},
     "output_type": "display_data"
    }
   ],
   "source": [
    "mean(allgrades$section1)"
   ]
  },
  {
   "cell_type": "code",
   "execution_count": 37,
   "metadata": {},
   "outputs": [
    {
     "data": {
      "text/plain": [
       "$section1\n",
       "[1] 11.16667\n",
       "\n",
       "$section2\n",
       "[1] 10.8\n"
      ]
     },
     "metadata": {},
     "output_type": "display_data"
    }
   ],
   "source": [
    "lapply(allgrades, mean)"
   ]
  },
  {
   "cell_type": "markdown",
   "metadata": {
    "slideshow": {
     "slide_type": "slide"
    }
   },
   "source": [
    "The `sapply()` (simple apply) function returns a vector or a matrix resulting from the application of the function."
   ]
  },
  {
   "cell_type": "code",
   "execution_count": 38,
   "metadata": {},
   "outputs": [
    {
     "data": {
      "text/plain": [
       "section1 section2 \n",
       "11.16667 10.80000 "
      ]
     },
     "metadata": {},
     "output_type": "display_data"
    }
   ],
   "source": [
    "sapply(allgrades, mean)"
   ]
  },
  {
   "cell_type": "code",
   "execution_count": 39,
   "metadata": {},
   "outputs": [
    {
     "data": {
      "text/plain": [
       "[1] \"numeric\""
      ]
     },
     "metadata": {},
     "output_type": "display_data"
    }
   ],
   "source": [
    "mode(sapply(allgrades, mean))"
   ]
  },
  {
   "cell_type": "markdown",
   "metadata": {
    "slideshow": {
     "slide_type": "slide"
    }
   },
   "source": [
    "We can define our own functions to specify what to do with each element."
   ]
  },
  {
   "cell_type": "code",
   "execution_count": 40,
   "metadata": {},
   "outputs": [
    {
     "data": {
      "text/plain": [
       "[1] 2 4 6 8"
      ]
     },
     "metadata": {},
     "output_type": "display_data"
    }
   ],
   "source": [
    "mult_by2 <- function(x) {2*x}\n",
    "mult_by2(c(1,2,3,4))"
   ]
  },
  {
   "cell_type": "code",
   "execution_count": 41,
   "metadata": {},
   "outputs": [
    {
     "data": {
      "text/plain": [
       "[[1]]\n",
       "[1] 2\n",
       "\n",
       "[[2]]\n",
       "[1] 4\n",
       "\n",
       "[[3]]\n",
       "[1]  6  8 10 12 14\n"
      ]
     },
     "metadata": {},
     "output_type": "display_data"
    }
   ],
   "source": [
    "lapply( list(1, 2, 3:7), mult_by2)"
   ]
  },
  {
   "cell_type": "markdown",
   "metadata": {
    "slideshow": {
     "slide_type": "slide"
    }
   },
   "source": [
    "# Examples"
   ]
  },
  {
   "cell_type": "markdown",
   "metadata": {
    "slideshow": {
     "slide_type": "slide"
    }
   },
   "source": [
    "\n",
    "# Example: Calculate weekly payrolls\n",
    "\n",
    "Set up a list of staff members, where each element is a list consisting of names, wages and number of hours worked."
   ]
  },
  {
   "cell_type": "code",
   "execution_count": 42,
   "metadata": {},
   "outputs": [
    {
     "data": {
      "text/plain": [
       "$id000\n",
       "$id000$name\n",
       "[1] \"Fatma\"\n",
       "\n",
       "$id000$wage\n",
       "[1] 12.5\n",
       "\n",
       "$id000$hours\n",
       "[1] 20\n",
       "\n",
       "\n",
       "$id001\n",
       "$id001$name\n",
       "[1] \"Ekrem\"\n",
       "\n",
       "$id001$wage\n",
       "[1] 11.7\n",
       "\n",
       "$id001$hours\n",
       "[1] 30\n",
       "\n",
       "\n",
       "$id002\n",
       "$id002$name\n",
       "[1] \"Deniz\"\n",
       "\n",
       "$id002$wage\n",
       "[1] 13.3\n",
       "\n",
       "$id002$hours\n",
       "[1] 25\n",
       "\n"
      ]
     },
     "metadata": {},
     "output_type": "display_data"
    }
   ],
   "source": [
    "staff <- list(\n",
    "    id000=list(name=\"Fatma\", wage=12.5, hours=20),\n",
    "    id001=list(name=\"Ekrem\", wage=11.7, hours=30),\n",
    "    id002=list(name=\"Deniz\", wage=13.3, hours=25)\n",
    ")\n",
    "staff"
   ]
  },
  {
   "cell_type": "markdown",
   "metadata": {
    "slideshow": {
     "slide_type": "slide"
    }
   },
   "source": [
    "Define a function that takes one person as defined above, and returns the weekly pay."
   ]
  },
  {
   "cell_type": "code",
   "execution_count": 43,
   "metadata": {},
   "outputs": [],
   "source": [
    "payroll <- function(person){person$wage * person$hours}"
   ]
  },
  {
   "cell_type": "code",
   "execution_count": 44,
   "metadata": {},
   "outputs": [
    {
     "data": {
      "text/plain": [
       "[1] 332.5"
      ]
     },
     "metadata": {},
     "output_type": "display_data"
    }
   ],
   "source": [
    "payroll(list(name=\"Deniz\", wage=13.3, hours=25))"
   ]
  },
  {
   "cell_type": "markdown",
   "metadata": {
    "slideshow": {
     "slide_type": "slide"
    }
   },
   "source": [
    "Now apply this function to every staff member on the list `staff`."
   ]
  },
  {
   "cell_type": "code",
   "execution_count": 46,
   "metadata": {},
   "outputs": [
    {
     "data": {
      "text/plain": [
       "$id000\n",
       "[1] 250\n",
       "\n",
       "$id001\n",
       "[1] 351\n",
       "\n",
       "$id002\n",
       "[1] 332.5\n"
      ]
     },
     "metadata": {},
     "output_type": "display_data"
    }
   ],
   "source": [
    "lapply(staff, payroll)"
   ]
  },
  {
   "cell_type": "code",
   "execution_count": 47,
   "metadata": {},
   "outputs": [
    {
     "data": {
      "text/plain": [
       "id000 id001 id002 \n",
       "250.0 351.0 332.5 "
      ]
     },
     "metadata": {},
     "output_type": "display_data"
    }
   ],
   "source": [
    "sapply(staff, payroll)"
   ]
  },
  {
   "cell_type": "markdown",
   "metadata": {
    "slideshow": {
     "slide_type": "slide"
    }
   },
   "source": [
    "Example: Count the occurrences of numbers in a vector\n",
    "-----\n",
    "We have a vector of numbers where numbers are repeated."
   ]
  },
  {
   "cell_type": "code",
   "execution_count": 49,
   "metadata": {},
   "outputs": [],
   "source": [
    "mydata = c(1,2,3,15,1,2,3,4,1)"
   ]
  },
  {
   "cell_type": "markdown",
   "metadata": {},
   "source": [
    "We want to keep the count of each number in a list, such that `counts[[i]]` stores how many times the number `i` occurs in `data`.\n",
    "\n",
    "Initialize the `counts` list with zeros."
   ]
  },
  {
   "cell_type": "code",
   "execution_count": 50,
   "metadata": {},
   "outputs": [],
   "source": [
    "counts = list(0,0,0,0,0,0,0,0,0,0,0,0,0,0,0,0,0)"
   ]
  },
  {
   "cell_type": "markdown",
   "metadata": {
    "slideshow": {
     "slide_type": "slide"
    }
   },
   "source": [
    "Now loop over the data vector, and increase the count of the appropriate number."
   ]
  },
  {
   "cell_type": "code",
   "execution_count": 51,
   "metadata": {},
   "outputs": [
    {
     "data": {
      "text/plain": [
       "[1]  1  2  3 15  1  2  3  4  1"
      ]
     },
     "metadata": {},
     "output_type": "display_data"
    }
   ],
   "source": [
    "mydata"
   ]
  },
  {
   "cell_type": "code",
   "execution_count": 52,
   "metadata": {},
   "outputs": [
    {
     "data": {
      "text/plain": [
       "[[1]]\n",
       "[1] 3\n",
       "\n",
       "[[2]]\n",
       "[1] 2\n",
       "\n",
       "[[3]]\n",
       "[1] 2\n",
       "\n",
       "[[4]]\n",
       "[1] 1\n",
       "\n",
       "[[5]]\n",
       "[1] 0\n",
       "\n",
       "[[6]]\n",
       "[1] 0\n",
       "\n",
       "[[7]]\n",
       "[1] 0\n",
       "\n",
       "[[8]]\n",
       "[1] 0\n",
       "\n",
       "[[9]]\n",
       "[1] 0\n",
       "\n",
       "[[10]]\n",
       "[1] 0\n",
       "\n",
       "[[11]]\n",
       "[1] 0\n",
       "\n",
       "[[12]]\n",
       "[1] 0\n",
       "\n",
       "[[13]]\n",
       "[1] 0\n",
       "\n",
       "[[14]]\n",
       "[1] 0\n",
       "\n",
       "[[15]]\n",
       "[1] 1\n",
       "\n",
       "[[16]]\n",
       "[1] 0\n",
       "\n",
       "[[17]]\n",
       "[1] 0\n"
      ]
     },
     "metadata": {},
     "output_type": "display_data"
    }
   ],
   "source": [
    "for (x in mydata) {\n",
    "    counts[[x]] <- counts[[x]] + 1\n",
    "}\n",
    "counts"
   ]
  },
  {
   "cell_type": "markdown",
   "metadata": {
    "slideshow": {
     "slide_type": "slide"
    }
   },
   "source": [
    "Count the occurrences of words in a text\n",
    "-----\n",
    "Here is a simple application of textual analysis. Consider the following (short) text. We have preprocessed it to remove punctuation marks and uppercase letters."
   ]
  },
  {
   "cell_type": "code",
   "execution_count": 53,
   "metadata": {},
   "outputs": [],
   "source": [
    "sometext <- \"my dear fellow said sherlock holmes as we sat on either side of the fire in his lodgings at baker street life is infinitely stranger than anything which the mind of man could invent we would not dare to conceive the things which are really mere commonplaces of existence if we could fly out of that window hand in hand hover over this great city gently remove the roofs and peep in at the queer things which are going on the strange coincidences the plannings the cross purposes the wonderful chains of events working through generations and leading to the most outré results it would make all fiction with its conventionalities and foreseen conclusions most stale and unprofitable\""
   ]
  },
  {
   "cell_type": "code",
   "execution_count": 54,
   "metadata": {},
   "outputs": [
    {
     "name": "stdout",
     "output_type": "stream",
     "text": [
      "[1] \"my dear fellow said sherlock holmes as we sat on either side of the fire in his lodgings at baker street life is infinitely stranger than anything which the mind of man could invent we would not dare to conceive the things which are really mere commonplaces of existence if we could fly out of that window hand in hand hover over this great city gently remove the roofs and peep in at the queer things which are going on the strange coincidences the plannings the cross purposes the wonderful chains of events working through generations and leading to the most outré results it would make all fiction with its conventionalities and foreseen conclusions most stale and unprofitable\"\n"
     ]
    }
   ],
   "source": [
    "print(sometext)"
   ]
  },
  {
   "cell_type": "markdown",
   "metadata": {
    "slideshow": {
     "slide_type": "slide"
    }
   },
   "source": [
    "* Objective: Create a list `wordcounts` such that `wordcounts$word` gives the number of occurrences of `word` in the given text.\n",
    "* This problem is similar to the example above where we counted the occurrences of numbers. \n",
    "* However, we don't know in advance what words and how many words we are going to encounter. So we cannot initialize the counts to zero.\n",
    "\n",
    "We will approach the problem as follows:\n",
    "\n",
    "    for every word in the word list\n",
    "        if the word is already in the list, increase the count.\n",
    "        otherwise, add this word with a count of 1.\n",
    "\n",
    "If an element is not in a list, the list returns `NULL`. This can be used to check for the existence of an element in a list."
   ]
  },
  {
   "cell_type": "code",
   "execution_count": 55,
   "metadata": {
    "slideshow": {
     "slide_type": "slide"
    }
   },
   "outputs": [
    {
     "data": {
      "text/plain": [
       "list()"
      ]
     },
     "metadata": {},
     "output_type": "display_data"
    }
   ],
   "source": [
    "wordcounts <- list()\n",
    "wordcounts"
   ]
  },
  {
   "cell_type": "code",
   "execution_count": 56,
   "metadata": {
    "slideshow": {
     "slide_type": "slide"
    }
   },
   "outputs": [
    {
     "data": {
      "text/plain": [
       "NULL"
      ]
     },
     "metadata": {},
     "output_type": "display_data"
    }
   ],
   "source": [
    "wordcounts[[\"sherlock\"]]"
   ]
  },
  {
   "cell_type": "code",
   "execution_count": 57,
   "metadata": {},
   "outputs": [
    {
     "data": {
      "text/plain": [
       "[1] TRUE"
      ]
     },
     "metadata": {},
     "output_type": "display_data"
    }
   ],
   "source": [
    "is.null(wordcounts[[\"sherlock\"]])"
   ]
  },
  {
   "cell_type": "markdown",
   "metadata": {
    "slideshow": {
     "slide_type": "slide"
    }
   },
   "source": [
    "So, beginning with the first word, we add it to our list:"
   ]
  },
  {
   "cell_type": "code",
   "execution_count": 60,
   "metadata": {},
   "outputs": [],
   "source": [
    "word <- \"my\"\n",
    "if (is.null(wordcounts[[word]])){\n",
    "    wordcounts[[word]] <- 1\n",
    "} else {\n",
    "    wordcounts[[word]] <- wordcounts[[word]] + 1\n",
    "}"
   ]
  },
  {
   "cell_type": "code",
   "execution_count": 61,
   "metadata": {},
   "outputs": [
    {
     "data": {
      "text/plain": [
       "$my\n",
       "[1] 2\n"
      ]
     },
     "metadata": {},
     "output_type": "display_data"
    }
   ],
   "source": [
    "wordcounts"
   ]
  },
  {
   "cell_type": "markdown",
   "metadata": {
    "slideshow": {
     "slide_type": "slide"
    }
   },
   "source": [
    "Similarly, the second word:"
   ]
  },
  {
   "cell_type": "code",
   "execution_count": 62,
   "metadata": {},
   "outputs": [
    {
     "data": {
      "text/plain": [
       "$my\n",
       "[1] 2\n",
       "\n",
       "$dear\n",
       "[1] 1\n"
      ]
     },
     "metadata": {},
     "output_type": "display_data"
    }
   ],
   "source": [
    "word <- \"dear\"\n",
    "if (is.null(wordcounts[[word]])){\n",
    "    wordcounts[[word]] <- 1\n",
    "} else {\n",
    "    wordcounts[[word]] <- wordcounts[[word]] + 1\n",
    "}\n",
    "wordcounts"
   ]
  },
  {
   "cell_type": "markdown",
   "metadata": {
    "slideshow": {
     "slide_type": "slide"
    }
   },
   "source": [
    "And now the list contains the elements we gave, and nothing more."
   ]
  },
  {
   "cell_type": "code",
   "execution_count": 63,
   "metadata": {},
   "outputs": [
    {
     "data": {
      "text/plain": [
       "$my\n",
       "[1] 2\n",
       "\n",
       "$dear\n",
       "[1] 1\n"
      ]
     },
     "metadata": {},
     "output_type": "display_data"
    }
   ],
   "source": [
    "wordcounts"
   ]
  },
  {
   "cell_type": "markdown",
   "metadata": {
    "slideshow": {
     "slide_type": "slide"
    }
   },
   "source": [
    "We can't go word by word manually. The better solution is to loop over every word in the text. We need to find a way to convert the large string of text to a vector, so that we can take the words one by one.\n",
    "\n",
    "The `strsplit()` function does that for us:"
   ]
  },
  {
   "cell_type": "code",
   "execution_count": 64,
   "metadata": {},
   "outputs": [
    {
     "data": {
      "text/plain": [
       "[[1]]\n",
       "  [1] \"my\"                \"dear\"              \"fellow\"           \n",
       "  [4] \"said\"              \"sherlock\"          \"holmes\"           \n",
       "  [7] \"as\"                \"we\"                \"sat\"              \n",
       " [10] \"on\"                \"either\"            \"side\"             \n",
       " [13] \"of\"                \"the\"               \"fire\"             \n",
       " [16] \"in\"                \"his\"               \"lodgings\"         \n",
       " [19] \"at\"                \"baker\"             \"street\"           \n",
       " [22] \"life\"              \"is\"                \"infinitely\"       \n",
       " [25] \"stranger\"          \"than\"              \"anything\"         \n",
       " [28] \"which\"             \"the\"               \"mind\"             \n",
       " [31] \"of\"                \"man\"               \"could\"            \n",
       " [34] \"invent\"            \"we\"                \"would\"            \n",
       " [37] \"not\"               \"dare\"              \"to\"               \n",
       " [40] \"conceive\"          \"the\"               \"things\"           \n",
       " [43] \"which\"             \"are\"               \"really\"           \n",
       " [46] \"mere\"              \"commonplaces\"      \"of\"               \n",
       " [49] \"existence\"         \"if\"                \"we\"               \n",
       " [52] \"could\"             \"fly\"               \"out\"              \n",
       " [55] \"of\"                \"that\"              \"window\"           \n",
       " [58] \"hand\"              \"in\"                \"hand\"             \n",
       " [61] \"hover\"             \"over\"              \"this\"             \n",
       " [64] \"great\"             \"city\"              \"gently\"           \n",
       " [67] \"remove\"            \"the\"               \"roofs\"            \n",
       " [70] \"and\"               \"peep\"              \"in\"               \n",
       " [73] \"at\"                \"the\"               \"queer\"            \n",
       " [76] \"things\"            \"which\"             \"are\"              \n",
       " [79] \"going\"             \"on\"                \"the\"              \n",
       " [82] \"strange\"           \"coincidences\"      \"the\"              \n",
       " [85] \"plannings\"         \"the\"               \"cross\"            \n",
       " [88] \"purposes\"          \"the\"               \"wonderful\"        \n",
       " [91] \"chains\"            \"of\"                \"events\"           \n",
       " [94] \"working\"           \"through\"           \"generations\"      \n",
       " [97] \"and\"               \"leading\"           \"to\"               \n",
       "[100] \"the\"               \"most\"              \"outré\"            \n",
       "[103] \"results\"           \"it\"                \"would\"            \n",
       "[106] \"make\"              \"all\"               \"fiction\"          \n",
       "[109] \"with\"              \"its\"               \"conventionalities\"\n",
       "[112] \"and\"               \"foreseen\"          \"conclusions\"      \n",
       "[115] \"most\"              \"stale\"             \"and\"              \n",
       "[118] \"unprofitable\"     \n"
      ]
     },
     "metadata": {},
     "output_type": "display_data"
    }
   ],
   "source": [
    "strsplit(sometext, split=\" \")"
   ]
  },
  {
   "cell_type": "markdown",
   "metadata": {
    "slideshow": {
     "slide_type": "slide"
    }
   },
   "source": [
    "Note that `strsplit()` returns a list. The first element of this list is the vector of strings we look for."
   ]
  },
  {
   "cell_type": "code",
   "execution_count": 65,
   "metadata": {},
   "outputs": [
    {
     "data": {
      "text/plain": [
       "  [1] \"my\"                \"dear\"              \"fellow\"           \n",
       "  [4] \"said\"              \"sherlock\"          \"holmes\"           \n",
       "  [7] \"as\"                \"we\"                \"sat\"              \n",
       " [10] \"on\"                \"either\"            \"side\"             \n",
       " [13] \"of\"                \"the\"               \"fire\"             \n",
       " [16] \"in\"                \"his\"               \"lodgings\"         \n",
       " [19] \"at\"                \"baker\"             \"street\"           \n",
       " [22] \"life\"              \"is\"                \"infinitely\"       \n",
       " [25] \"stranger\"          \"than\"              \"anything\"         \n",
       " [28] \"which\"             \"the\"               \"mind\"             \n",
       " [31] \"of\"                \"man\"               \"could\"            \n",
       " [34] \"invent\"            \"we\"                \"would\"            \n",
       " [37] \"not\"               \"dare\"              \"to\"               \n",
       " [40] \"conceive\"          \"the\"               \"things\"           \n",
       " [43] \"which\"             \"are\"               \"really\"           \n",
       " [46] \"mere\"              \"commonplaces\"      \"of\"               \n",
       " [49] \"existence\"         \"if\"                \"we\"               \n",
       " [52] \"could\"             \"fly\"               \"out\"              \n",
       " [55] \"of\"                \"that\"              \"window\"           \n",
       " [58] \"hand\"              \"in\"                \"hand\"             \n",
       " [61] \"hover\"             \"over\"              \"this\"             \n",
       " [64] \"great\"             \"city\"              \"gently\"           \n",
       " [67] \"remove\"            \"the\"               \"roofs\"            \n",
       " [70] \"and\"               \"peep\"              \"in\"               \n",
       " [73] \"at\"                \"the\"               \"queer\"            \n",
       " [76] \"things\"            \"which\"             \"are\"              \n",
       " [79] \"going\"             \"on\"                \"the\"              \n",
       " [82] \"strange\"           \"coincidences\"      \"the\"              \n",
       " [85] \"plannings\"         \"the\"               \"cross\"            \n",
       " [88] \"purposes\"          \"the\"               \"wonderful\"        \n",
       " [91] \"chains\"            \"of\"                \"events\"           \n",
       " [94] \"working\"           \"through\"           \"generations\"      \n",
       " [97] \"and\"               \"leading\"           \"to\"               \n",
       "[100] \"the\"               \"most\"              \"outré\"            \n",
       "[103] \"results\"           \"it\"                \"would\"            \n",
       "[106] \"make\"              \"all\"               \"fiction\"          \n",
       "[109] \"with\"              \"its\"               \"conventionalities\"\n",
       "[112] \"and\"               \"foreseen\"          \"conclusions\"      \n",
       "[115] \"most\"              \"stale\"             \"and\"              \n",
       "[118] \"unprofitable\"     "
      ]
     },
     "metadata": {},
     "output_type": "display_data"
    }
   ],
   "source": [
    "wordsintext <- strsplit(sometext, split=\" \")[[1]]\n",
    "wordsintext"
   ]
  },
  {
   "cell_type": "markdown",
   "metadata": {
    "slideshow": {
     "slide_type": "slide"
    }
   },
   "source": [
    "For each word in the text, increase the count if the word exists in the counter list, otherwise set it to one."
   ]
  },
  {
   "cell_type": "code",
   "execution_count": 66,
   "metadata": {
    "slideshow": {
     "slide_type": "-"
    }
   },
   "outputs": [],
   "source": [
    "wordcounts <- list()\n",
    "for (word in wordsintext){\n",
    "    if (is.null(wordcounts[[word]])){\n",
    "        wordcounts[[word]] <- 1\n",
    "    } else {\n",
    "        wordcounts[[word]] <- wordcounts[[word]] + 1\n",
    "    }\n",
    "}"
   ]
  },
  {
   "cell_type": "code",
   "execution_count": 67,
   "metadata": {
    "scrolled": false
   },
   "outputs": [
    {
     "data": {
      "text/plain": [
       "$my\n",
       "[1] 1\n",
       "\n",
       "$dear\n",
       "[1] 1\n",
       "\n",
       "$fellow\n",
       "[1] 1\n",
       "\n",
       "$said\n",
       "[1] 1\n",
       "\n",
       "$sherlock\n",
       "[1] 1\n",
       "\n",
       "$holmes\n",
       "[1] 1\n",
       "\n",
       "$as\n",
       "[1] 1\n",
       "\n",
       "$we\n",
       "[1] 3\n",
       "\n",
       "$sat\n",
       "[1] 1\n",
       "\n",
       "$on\n",
       "[1] 2\n",
       "\n",
       "$either\n",
       "[1] 1\n",
       "\n",
       "$side\n",
       "[1] 1\n",
       "\n",
       "$of\n",
       "[1] 5\n",
       "\n",
       "$the\n",
       "[1] 10\n",
       "\n",
       "$fire\n",
       "[1] 1\n",
       "\n",
       "$`in`\n",
       "[1] 3\n",
       "\n",
       "$his\n",
       "[1] 1\n",
       "\n",
       "$lodgings\n",
       "[1] 1\n",
       "\n",
       "$at\n",
       "[1] 2\n",
       "\n",
       "$baker\n",
       "[1] 1\n",
       "\n",
       "$street\n",
       "[1] 1\n",
       "\n",
       "$life\n",
       "[1] 1\n",
       "\n",
       "$is\n",
       "[1] 1\n",
       "\n",
       "$infinitely\n",
       "[1] 1\n",
       "\n",
       "$stranger\n",
       "[1] 1\n",
       "\n",
       "$than\n",
       "[1] 1\n",
       "\n",
       "$anything\n",
       "[1] 1\n",
       "\n",
       "$which\n",
       "[1] 3\n",
       "\n",
       "$mind\n",
       "[1] 1\n",
       "\n",
       "$man\n",
       "[1] 1\n",
       "\n",
       "$could\n",
       "[1] 2\n",
       "\n",
       "$invent\n",
       "[1] 1\n",
       "\n",
       "$would\n",
       "[1] 2\n",
       "\n",
       "$not\n",
       "[1] 1\n",
       "\n",
       "$dare\n",
       "[1] 1\n",
       "\n",
       "$to\n",
       "[1] 2\n",
       "\n",
       "$conceive\n",
       "[1] 1\n",
       "\n",
       "$things\n",
       "[1] 2\n",
       "\n",
       "$are\n",
       "[1] 2\n",
       "\n",
       "$really\n",
       "[1] 1\n",
       "\n",
       "$mere\n",
       "[1] 1\n",
       "\n",
       "$commonplaces\n",
       "[1] 1\n",
       "\n",
       "$existence\n",
       "[1] 1\n",
       "\n",
       "$`if`\n",
       "[1] 1\n",
       "\n",
       "$fly\n",
       "[1] 1\n",
       "\n",
       "$out\n",
       "[1] 1\n",
       "\n",
       "$that\n",
       "[1] 1\n",
       "\n",
       "$window\n",
       "[1] 1\n",
       "\n",
       "$hand\n",
       "[1] 2\n",
       "\n",
       "$hover\n",
       "[1] 1\n",
       "\n",
       "$over\n",
       "[1] 1\n",
       "\n",
       "$this\n",
       "[1] 1\n",
       "\n",
       "$great\n",
       "[1] 1\n",
       "\n",
       "$city\n",
       "[1] 1\n",
       "\n",
       "$gently\n",
       "[1] 1\n",
       "\n",
       "$remove\n",
       "[1] 1\n",
       "\n",
       "$roofs\n",
       "[1] 1\n",
       "\n",
       "$and\n",
       "[1] 4\n",
       "\n",
       "$peep\n",
       "[1] 1\n",
       "\n",
       "$queer\n",
       "[1] 1\n",
       "\n",
       "$going\n",
       "[1] 1\n",
       "\n",
       "$strange\n",
       "[1] 1\n",
       "\n",
       "$coincidences\n",
       "[1] 1\n",
       "\n",
       "$plannings\n",
       "[1] 1\n",
       "\n",
       "$cross\n",
       "[1] 1\n",
       "\n",
       "$purposes\n",
       "[1] 1\n",
       "\n",
       "$wonderful\n",
       "[1] 1\n",
       "\n",
       "$chains\n",
       "[1] 1\n",
       "\n",
       "$events\n",
       "[1] 1\n",
       "\n",
       "$working\n",
       "[1] 1\n",
       "\n",
       "$through\n",
       "[1] 1\n",
       "\n",
       "$generations\n",
       "[1] 1\n",
       "\n",
       "$leading\n",
       "[1] 1\n",
       "\n",
       "$most\n",
       "[1] 2\n",
       "\n",
       "$outré\n",
       "[1] 1\n",
       "\n",
       "$results\n",
       "[1] 1\n",
       "\n",
       "$it\n",
       "[1] 1\n",
       "\n",
       "$make\n",
       "[1] 1\n",
       "\n",
       "$all\n",
       "[1] 1\n",
       "\n",
       "$fiction\n",
       "[1] 1\n",
       "\n",
       "$with\n",
       "[1] 1\n",
       "\n",
       "$its\n",
       "[1] 1\n",
       "\n",
       "$conventionalities\n",
       "[1] 1\n",
       "\n",
       "$foreseen\n",
       "[1] 1\n",
       "\n",
       "$conclusions\n",
       "[1] 1\n",
       "\n",
       "$stale\n",
       "[1] 1\n",
       "\n",
       "$unprofitable\n",
       "[1] 1\n"
      ]
     },
     "metadata": {},
     "output_type": "display_data"
    }
   ],
   "source": [
    "wordcounts"
   ]
  },
  {
   "cell_type": "markdown",
   "metadata": {
    "slideshow": {
     "slide_type": "slide"
    }
   },
   "source": [
    "Which words occur more than twice?"
   ]
  },
  {
   "cell_type": "code",
   "execution_count": 68,
   "metadata": {},
   "outputs": [
    {
     "data": {
      "text/plain": [
       "$we\n",
       "[1] 3\n",
       "\n",
       "$of\n",
       "[1] 5\n",
       "\n",
       "$the\n",
       "[1] 10\n",
       "\n",
       "$`in`\n",
       "[1] 3\n",
       "\n",
       "$which\n",
       "[1] 3\n",
       "\n",
       "$and\n",
       "[1] 4\n"
      ]
     },
     "metadata": {},
     "output_type": "display_data"
    }
   ],
   "source": [
    "wordcounts[wordcounts > 2]"
   ]
  },
  {
   "cell_type": "markdown",
   "metadata": {
    "slideshow": {
     "slide_type": "slide"
    }
   },
   "source": [
    "Sort the list, most frequent word first."
   ]
  },
  {
   "cell_type": "code",
   "execution_count": 69,
   "metadata": {
    "scrolled": true
   },
   "outputs": [
    {
     "data": {
      "text/plain": [
       "               my              dear            fellow              said \n",
       "                1                 1                 1                 1 \n",
       "         sherlock            holmes                as                we \n",
       "                1                 1                 1                 3 \n",
       "              sat                on            either              side \n",
       "                1                 2                 1                 1 \n",
       "               of               the              fire                in \n",
       "                5                10                 1                 3 \n",
       "              his          lodgings                at             baker \n",
       "                1                 1                 2                 1 \n",
       "           street              life                is        infinitely \n",
       "                1                 1                 1                 1 \n",
       "         stranger              than          anything             which \n",
       "                1                 1                 1                 3 \n",
       "             mind               man             could            invent \n",
       "                1                 1                 2                 1 \n",
       "            would               not              dare                to \n",
       "                2                 1                 1                 2 \n",
       "         conceive            things               are            really \n",
       "                1                 2                 2                 1 \n",
       "             mere      commonplaces         existence                if \n",
       "                1                 1                 1                 1 \n",
       "              fly               out              that            window \n",
       "                1                 1                 1                 1 \n",
       "             hand             hover              over              this \n",
       "                2                 1                 1                 1 \n",
       "            great              city            gently            remove \n",
       "                1                 1                 1                 1 \n",
       "            roofs               and              peep             queer \n",
       "                1                 4                 1                 1 \n",
       "            going           strange      coincidences         plannings \n",
       "                1                 1                 1                 1 \n",
       "            cross          purposes         wonderful            chains \n",
       "                1                 1                 1                 1 \n",
       "           events           working           through       generations \n",
       "                1                 1                 1                 1 \n",
       "          leading              most             outré           results \n",
       "                1                 2                 1                 1 \n",
       "               it              make               all           fiction \n",
       "                1                 1                 1                 1 \n",
       "             with               its conventionalities          foreseen \n",
       "                1                 1                 1                 1 \n",
       "      conclusions             stale      unprofitable \n",
       "                1                 1                 1 "
      ]
     },
     "metadata": {},
     "output_type": "display_data"
    }
   ],
   "source": [
    "unlist(wordcounts)"
   ]
  },
  {
   "cell_type": "code",
   "execution_count": 70,
   "metadata": {},
   "outputs": [
    {
     "data": {
      "text/plain": [
       " [1] 14 13 58  8 16 28 10 19 31 33 36 38 39 49 74  1  2  3  4  5  6  7  9 11 12\n",
       "[26] 15 17 18 20 21 22 23 24 25 26 27 29 30 32 34 35 37 40 41 42 43 44 45 46 47\n",
       "[51] 48 50 51 52 53 54 55 56 57 59 60 61 62 63 64 65 66 67 68 69 70 71 72 73 75\n",
       "[76] 76 77 78 79 80 81 82 83 84 85 86 87"
      ]
     },
     "metadata": {},
     "output_type": "display_data"
    }
   ],
   "source": [
    "order(unlist(wordcounts),decreasing = T)"
   ]
  },
  {
   "cell_type": "code",
   "execution_count": 74,
   "metadata": {
    "scrolled": true
   },
   "outputs": [
    {
     "data": {
      "text/plain": [
       "              the                of               and                we \n",
       "               10                 5                 4                 3 \n",
       "               in             which                on                at \n",
       "                3                 3                 2                 2 \n",
       "            could             would                to            things \n",
       "                2                 2                 2                 2 \n",
       "              are              hand              most                my \n",
       "                2                 2                 2                 1 \n",
       "             dear            fellow              said          sherlock \n",
       "                1                 1                 1                 1 \n",
       "           holmes                as               sat            either \n",
       "                1                 1                 1                 1 \n",
       "             side              fire               his          lodgings \n",
       "                1                 1                 1                 1 \n",
       "            baker            street              life                is \n",
       "                1                 1                 1                 1 \n",
       "       infinitely          stranger              than          anything \n",
       "                1                 1                 1                 1 \n",
       "             mind               man            invent               not \n",
       "                1                 1                 1                 1 \n",
       "             dare          conceive            really              mere \n",
       "                1                 1                 1                 1 \n",
       "     commonplaces         existence                if               fly \n",
       "                1                 1                 1                 1 \n",
       "              out              that            window             hover \n",
       "                1                 1                 1                 1 \n",
       "             over              this             great              city \n",
       "                1                 1                 1                 1 \n",
       "           gently            remove             roofs              peep \n",
       "                1                 1                 1                 1 \n",
       "            queer             going           strange      coincidences \n",
       "                1                 1                 1                 1 \n",
       "        plannings             cross          purposes         wonderful \n",
       "                1                 1                 1                 1 \n",
       "           chains            events           working           through \n",
       "                1                 1                 1                 1 \n",
       "      generations           leading             outré           results \n",
       "                1                 1                 1                 1 \n",
       "               it              make               all           fiction \n",
       "                1                 1                 1                 1 \n",
       "             with               its conventionalities          foreseen \n",
       "                1                 1                 1                 1 \n",
       "      conclusions             stale      unprofitable \n",
       "                1                 1                 1 "
      ]
     },
     "metadata": {},
     "output_type": "display_data"
    }
   ],
   "source": [
    "sort(unlist(wordcounts),decreasing = T)"
   ]
  },
  {
   "cell_type": "code",
   "execution_count": 75,
   "metadata": {
    "scrolled": false
   },
   "outputs": [
    {
     "data": {
      "text/plain": [
       "$the\n",
       "[1] 10\n",
       "\n",
       "$of\n",
       "[1] 5\n",
       "\n",
       "$and\n",
       "[1] 4\n",
       "\n",
       "$we\n",
       "[1] 3\n",
       "\n",
       "$`in`\n",
       "[1] 3\n",
       "\n",
       "$which\n",
       "[1] 3\n",
       "\n",
       "$on\n",
       "[1] 2\n",
       "\n",
       "$at\n",
       "[1] 2\n",
       "\n",
       "$could\n",
       "[1] 2\n",
       "\n",
       "$would\n",
       "[1] 2\n",
       "\n",
       "$to\n",
       "[1] 2\n",
       "\n",
       "$things\n",
       "[1] 2\n",
       "\n",
       "$are\n",
       "[1] 2\n",
       "\n",
       "$hand\n",
       "[1] 2\n",
       "\n",
       "$most\n",
       "[1] 2\n",
       "\n",
       "$my\n",
       "[1] 1\n",
       "\n",
       "$dear\n",
       "[1] 1\n",
       "\n",
       "$fellow\n",
       "[1] 1\n",
       "\n",
       "$said\n",
       "[1] 1\n",
       "\n",
       "$sherlock\n",
       "[1] 1\n",
       "\n",
       "$holmes\n",
       "[1] 1\n",
       "\n",
       "$as\n",
       "[1] 1\n",
       "\n",
       "$sat\n",
       "[1] 1\n",
       "\n",
       "$either\n",
       "[1] 1\n",
       "\n",
       "$side\n",
       "[1] 1\n",
       "\n",
       "$fire\n",
       "[1] 1\n",
       "\n",
       "$his\n",
       "[1] 1\n",
       "\n",
       "$lodgings\n",
       "[1] 1\n",
       "\n",
       "$baker\n",
       "[1] 1\n",
       "\n",
       "$street\n",
       "[1] 1\n",
       "\n",
       "$life\n",
       "[1] 1\n",
       "\n",
       "$is\n",
       "[1] 1\n",
       "\n",
       "$infinitely\n",
       "[1] 1\n",
       "\n",
       "$stranger\n",
       "[1] 1\n",
       "\n",
       "$than\n",
       "[1] 1\n",
       "\n",
       "$anything\n",
       "[1] 1\n",
       "\n",
       "$mind\n",
       "[1] 1\n",
       "\n",
       "$man\n",
       "[1] 1\n",
       "\n",
       "$invent\n",
       "[1] 1\n",
       "\n",
       "$not\n",
       "[1] 1\n",
       "\n",
       "$dare\n",
       "[1] 1\n",
       "\n",
       "$conceive\n",
       "[1] 1\n",
       "\n",
       "$really\n",
       "[1] 1\n",
       "\n",
       "$mere\n",
       "[1] 1\n",
       "\n",
       "$commonplaces\n",
       "[1] 1\n",
       "\n",
       "$existence\n",
       "[1] 1\n",
       "\n",
       "$`if`\n",
       "[1] 1\n",
       "\n",
       "$fly\n",
       "[1] 1\n",
       "\n",
       "$out\n",
       "[1] 1\n",
       "\n",
       "$that\n",
       "[1] 1\n",
       "\n",
       "$window\n",
       "[1] 1\n",
       "\n",
       "$hover\n",
       "[1] 1\n",
       "\n",
       "$over\n",
       "[1] 1\n",
       "\n",
       "$this\n",
       "[1] 1\n",
       "\n",
       "$great\n",
       "[1] 1\n",
       "\n",
       "$city\n",
       "[1] 1\n",
       "\n",
       "$gently\n",
       "[1] 1\n",
       "\n",
       "$remove\n",
       "[1] 1\n",
       "\n",
       "$roofs\n",
       "[1] 1\n",
       "\n",
       "$peep\n",
       "[1] 1\n",
       "\n",
       "$queer\n",
       "[1] 1\n",
       "\n",
       "$going\n",
       "[1] 1\n",
       "\n",
       "$strange\n",
       "[1] 1\n",
       "\n",
       "$coincidences\n",
       "[1] 1\n",
       "\n",
       "$plannings\n",
       "[1] 1\n",
       "\n",
       "$cross\n",
       "[1] 1\n",
       "\n",
       "$purposes\n",
       "[1] 1\n",
       "\n",
       "$wonderful\n",
       "[1] 1\n",
       "\n",
       "$chains\n",
       "[1] 1\n",
       "\n",
       "$events\n",
       "[1] 1\n",
       "\n",
       "$working\n",
       "[1] 1\n",
       "\n",
       "$through\n",
       "[1] 1\n",
       "\n",
       "$generations\n",
       "[1] 1\n",
       "\n",
       "$leading\n",
       "[1] 1\n",
       "\n",
       "$outré\n",
       "[1] 1\n",
       "\n",
       "$results\n",
       "[1] 1\n",
       "\n",
       "$it\n",
       "[1] 1\n",
       "\n",
       "$make\n",
       "[1] 1\n",
       "\n",
       "$all\n",
       "[1] 1\n",
       "\n",
       "$fiction\n",
       "[1] 1\n",
       "\n",
       "$with\n",
       "[1] 1\n",
       "\n",
       "$its\n",
       "[1] 1\n",
       "\n",
       "$conventionalities\n",
       "[1] 1\n",
       "\n",
       "$foreseen\n",
       "[1] 1\n",
       "\n",
       "$conclusions\n",
       "[1] 1\n",
       "\n",
       "$stale\n",
       "[1] 1\n",
       "\n",
       "$unprofitable\n",
       "[1] 1\n"
      ]
     },
     "metadata": {},
     "output_type": "display_data"
    }
   ],
   "source": [
    "wordcounts[order(unlist(wordcounts),decreasing = T)]"
   ]
  },
  {
   "cell_type": "markdown",
   "metadata": {
    "slideshow": {
     "slide_type": "slide"
    }
   },
   "source": [
    "Where in the text does a word occur? Generate a list such that words are tags and the corresponding value is a vector of positions."
   ]
  },
  {
   "cell_type": "code",
   "execution_count": 77,
   "metadata": {},
   "outputs": [
    {
     "data": {
      "text/plain": [
       "  [1] \"my\"                \"dear\"              \"fellow\"           \n",
       "  [4] \"said\"              \"sherlock\"          \"holmes\"           \n",
       "  [7] \"as\"                \"we\"                \"sat\"              \n",
       " [10] \"on\"                \"either\"            \"side\"             \n",
       " [13] \"of\"                \"the\"               \"fire\"             \n",
       " [16] \"in\"                \"his\"               \"lodgings\"         \n",
       " [19] \"at\"                \"baker\"             \"street\"           \n",
       " [22] \"life\"              \"is\"                \"infinitely\"       \n",
       " [25] \"stranger\"          \"than\"              \"anything\"         \n",
       " [28] \"which\"             \"the\"               \"mind\"             \n",
       " [31] \"of\"                \"man\"               \"could\"            \n",
       " [34] \"invent\"            \"we\"                \"would\"            \n",
       " [37] \"not\"               \"dare\"              \"to\"               \n",
       " [40] \"conceive\"          \"the\"               \"things\"           \n",
       " [43] \"which\"             \"are\"               \"really\"           \n",
       " [46] \"mere\"              \"commonplaces\"      \"of\"               \n",
       " [49] \"existence\"         \"if\"                \"we\"               \n",
       " [52] \"could\"             \"fly\"               \"out\"              \n",
       " [55] \"of\"                \"that\"              \"window\"           \n",
       " [58] \"hand\"              \"in\"                \"hand\"             \n",
       " [61] \"hover\"             \"over\"              \"this\"             \n",
       " [64] \"great\"             \"city\"              \"gently\"           \n",
       " [67] \"remove\"            \"the\"               \"roofs\"            \n",
       " [70] \"and\"               \"peep\"              \"in\"               \n",
       " [73] \"at\"                \"the\"               \"queer\"            \n",
       " [76] \"things\"            \"which\"             \"are\"              \n",
       " [79] \"going\"             \"on\"                \"the\"              \n",
       " [82] \"strange\"           \"coincidences\"      \"the\"              \n",
       " [85] \"plannings\"         \"the\"               \"cross\"            \n",
       " [88] \"purposes\"          \"the\"               \"wonderful\"        \n",
       " [91] \"chains\"            \"of\"                \"events\"           \n",
       " [94] \"working\"           \"through\"           \"generations\"      \n",
       " [97] \"and\"               \"leading\"           \"to\"               \n",
       "[100] \"the\"               \"most\"              \"outré\"            \n",
       "[103] \"results\"           \"it\"                \"would\"            \n",
       "[106] \"make\"              \"all\"               \"fiction\"          \n",
       "[109] \"with\"              \"its\"               \"conventionalities\"\n",
       "[112] \"and\"               \"foreseen\"          \"conclusions\"      \n",
       "[115] \"most\"              \"stale\"             \"and\"              \n",
       "[118] \"unprofitable\"     "
      ]
     },
     "metadata": {},
     "output_type": "display_data"
    }
   ],
   "source": [
    "wordsintext"
   ]
  },
  {
   "cell_type": "code",
   "execution_count": 78,
   "metadata": {},
   "outputs": [],
   "source": [
    "wordlocations <- list()"
   ]
  },
  {
   "cell_type": "code",
   "execution_count": 84,
   "metadata": {
    "slideshow": {
     "slide_type": "slide"
    }
   },
   "outputs": [
    {
     "data": {
      "text/plain": [
       "$my\n",
       "[1] 1 1 1\n",
       "\n",
       "$dear\n",
       "[1] 2 2 2\n",
       "\n",
       "$fellow\n",
       "[1] 3 3 3\n",
       "\n",
       "$said\n",
       "[1] 4 4 4\n",
       "\n",
       "$sherlock\n",
       "[1] 5 5 5\n",
       "\n",
       "$holmes\n",
       "[1] 6 6 6\n",
       "\n",
       "$as\n",
       "[1] 7 7 7\n",
       "\n",
       "$we\n",
       "[1]  8 35 51  8 35 51  8 35 51\n",
       "\n",
       "$sat\n",
       "[1] 9 9 9\n",
       "\n",
       "$on\n",
       "[1] 10 80 10 80 10 80\n",
       "\n",
       "$either\n",
       "[1] 11 11 11\n",
       "\n",
       "$side\n",
       "[1] 12 12 12\n",
       "\n",
       "$of\n",
       " [1] 13 31 48 55 92 13 31 48 55 92 13 31 48 55 92\n",
       "\n",
       "$the\n",
       " [1]  14  29  41  68  74  81  84  86  89 100  14  29  41  68  74  81  84  86  89\n",
       "[20] 100  14  29  41  68  74  81  84  86  89 100\n",
       "\n",
       "$fire\n",
       "[1] 15 15 15\n",
       "\n",
       "$`in`\n",
       "[1] 16 59 72 16 59 72 16 59 72\n",
       "\n",
       "$his\n",
       "[1] 17 17 17\n",
       "\n",
       "$lodgings\n",
       "[1] 18 18 18\n",
       "\n",
       "$at\n",
       "[1] 19 73 19 73 19 73\n",
       "\n",
       "$baker\n",
       "[1] 20 20 20\n",
       "\n",
       "$street\n",
       "[1] 21 21 21\n",
       "\n",
       "$life\n",
       "[1] 22 22 22\n",
       "\n",
       "$is\n",
       "[1] 23 23 23\n",
       "\n",
       "$infinitely\n",
       "[1] 24 24 24\n",
       "\n",
       "$stranger\n",
       "[1] 25 25 25\n",
       "\n",
       "$than\n",
       "[1] 26 26 26\n",
       "\n",
       "$anything\n",
       "[1] 27 27 27\n",
       "\n",
       "$which\n",
       "[1] 28 43 77 28 43 77 28 43 77\n",
       "\n",
       "$mind\n",
       "[1] 30 30 30\n",
       "\n",
       "$man\n",
       "[1] 32 32 32\n",
       "\n",
       "$could\n",
       "[1] 33 52 33 52 33 52\n",
       "\n",
       "$invent\n",
       "[1] 34 34 34\n",
       "\n",
       "$would\n",
       "[1]  36 105  36 105  36 105\n",
       "\n",
       "$not\n",
       "[1] 37 37 37\n",
       "\n",
       "$dare\n",
       "[1] 38 38 38\n",
       "\n",
       "$to\n",
       "[1] 39 99 39 99 39 99\n",
       "\n",
       "$conceive\n",
       "[1] 40 40 40\n",
       "\n",
       "$things\n",
       "[1] 42 76 42 76 42 76\n",
       "\n",
       "$are\n",
       "[1] 44 78 44 78 44 78\n",
       "\n",
       "$really\n",
       "[1] 45 45 45\n",
       "\n",
       "$mere\n",
       "[1] 46 46 46\n",
       "\n",
       "$commonplaces\n",
       "[1] 47 47 47\n",
       "\n",
       "$existence\n",
       "[1] 49 49 49\n",
       "\n",
       "$`if`\n",
       "[1] 50 50 50\n",
       "\n",
       "$fly\n",
       "[1] 53 53 53\n",
       "\n",
       "$out\n",
       "[1] 54 54 54\n",
       "\n",
       "$that\n",
       "[1] 56 56 56\n",
       "\n",
       "$window\n",
       "[1] 57 57 57\n",
       "\n",
       "$hand\n",
       "[1] 58 60 58 60 58 60\n",
       "\n",
       "$hover\n",
       "[1] 61 61 61\n",
       "\n",
       "$over\n",
       "[1] 62 62 62\n",
       "\n",
       "$this\n",
       "[1] 63 63 63\n",
       "\n",
       "$great\n",
       "[1] 64 64 64\n",
       "\n",
       "$city\n",
       "[1] 65 65 65\n",
       "\n",
       "$gently\n",
       "[1] 66 66 66\n",
       "\n",
       "$remove\n",
       "[1] 67 67 67\n",
       "\n",
       "$roofs\n",
       "[1] 69 69 69\n",
       "\n",
       "$and\n",
       " [1]  70  97 112 117  70  97 112 117  70  97 112 117\n",
       "\n",
       "$peep\n",
       "[1] 71 71 71\n",
       "\n",
       "$queer\n",
       "[1] 75 75 75\n",
       "\n",
       "$going\n",
       "[1] 79 79 79\n",
       "\n",
       "$strange\n",
       "[1] 82 82 82\n",
       "\n",
       "$coincidences\n",
       "[1] 83 83 83\n",
       "\n",
       "$plannings\n",
       "[1] 85 85 85\n",
       "\n",
       "$cross\n",
       "[1] 87 87 87\n",
       "\n",
       "$purposes\n",
       "[1] 88 88 88\n",
       "\n",
       "$wonderful\n",
       "[1] 90 90 90\n",
       "\n",
       "$chains\n",
       "[1] 91 91 91\n",
       "\n",
       "$events\n",
       "[1] 93 93 93\n",
       "\n",
       "$working\n",
       "[1] 94 94 94\n",
       "\n",
       "$through\n",
       "[1] 95 95 95\n",
       "\n",
       "$generations\n",
       "[1] 96 96 96\n",
       "\n",
       "$leading\n",
       "[1] 98 98 98\n",
       "\n",
       "$most\n",
       "[1] 101 115 101 115 101 115\n",
       "\n",
       "$outré\n",
       "[1] 102 102 102\n",
       "\n",
       "$results\n",
       "[1] 103 103 103\n",
       "\n",
       "$it\n",
       "[1] 104 104 104\n",
       "\n",
       "$make\n",
       "[1] 106 106 106\n",
       "\n",
       "$all\n",
       "[1] 107 107 107\n",
       "\n",
       "$fiction\n",
       "[1] 108 108 108\n",
       "\n",
       "$with\n",
       "[1] 109 109 109\n",
       "\n",
       "$its\n",
       "[1] 110 110 110\n",
       "\n",
       "$conventionalities\n",
       "[1] 111 111 111\n",
       "\n",
       "$foreseen\n",
       "[1] 113 113 113\n",
       "\n",
       "$conclusions\n",
       "[1] 114 114 114\n",
       "\n",
       "$stale\n",
       "[1] 116 116 116\n",
       "\n",
       "$unprofitable\n",
       "[1] 118 118 118\n"
      ]
     },
     "metadata": {},
     "output_type": "display_data"
    }
   ],
   "source": [
    "for (i in 1:length(wordsintext)){\n",
    "    word <- wordsintext[i]\n",
    "    wordlocations[[word]] <- c(wordlocations[[word]],i)\n",
    "}\n",
    "wordlocations"
   ]
  },
  {
   "cell_type": "markdown",
   "metadata": {
    "slideshow": {
     "slide_type": "slide"
    }
   },
   "source": [
    "Once we have the `wordlocations` list, we can get the number of occurrences of words without passing over the data again. We only need to apply the `length()` function to the list."
   ]
  },
  {
   "cell_type": "code",
   "execution_count": 82,
   "metadata": {},
   "outputs": [
    {
     "data": {
      "text/plain": [
       "$my\n",
       "[1] 1\n",
       "\n",
       "$dear\n",
       "[1] 1\n",
       "\n",
       "$fellow\n",
       "[1] 1\n",
       "\n",
       "$said\n",
       "[1] 1\n",
       "\n",
       "$sherlock\n",
       "[1] 1\n",
       "\n",
       "$holmes\n",
       "[1] 1\n",
       "\n",
       "$as\n",
       "[1] 1\n",
       "\n",
       "$we\n",
       "[1] 3\n",
       "\n",
       "$sat\n",
       "[1] 1\n",
       "\n",
       "$on\n",
       "[1] 2\n",
       "\n",
       "$either\n",
       "[1] 1\n",
       "\n",
       "$side\n",
       "[1] 1\n",
       "\n",
       "$of\n",
       "[1] 5\n",
       "\n",
       "$the\n",
       "[1] 10\n",
       "\n",
       "$fire\n",
       "[1] 1\n",
       "\n",
       "$`in`\n",
       "[1] 3\n",
       "\n",
       "$his\n",
       "[1] 1\n",
       "\n",
       "$lodgings\n",
       "[1] 1\n",
       "\n",
       "$at\n",
       "[1] 2\n",
       "\n",
       "$baker\n",
       "[1] 1\n",
       "\n",
       "$street\n",
       "[1] 1\n",
       "\n",
       "$life\n",
       "[1] 1\n",
       "\n",
       "$is\n",
       "[1] 1\n",
       "\n",
       "$infinitely\n",
       "[1] 1\n",
       "\n",
       "$stranger\n",
       "[1] 1\n",
       "\n",
       "$than\n",
       "[1] 1\n",
       "\n",
       "$anything\n",
       "[1] 1\n",
       "\n",
       "$which\n",
       "[1] 3\n",
       "\n",
       "$mind\n",
       "[1] 1\n",
       "\n",
       "$man\n",
       "[1] 1\n",
       "\n",
       "$could\n",
       "[1] 2\n",
       "\n",
       "$invent\n",
       "[1] 1\n",
       "\n",
       "$would\n",
       "[1] 2\n",
       "\n",
       "$not\n",
       "[1] 1\n",
       "\n",
       "$dare\n",
       "[1] 1\n",
       "\n",
       "$to\n",
       "[1] 2\n",
       "\n",
       "$conceive\n",
       "[1] 1\n",
       "\n",
       "$things\n",
       "[1] 2\n",
       "\n",
       "$are\n",
       "[1] 2\n",
       "\n",
       "$really\n",
       "[1] 1\n",
       "\n",
       "$mere\n",
       "[1] 1\n",
       "\n",
       "$commonplaces\n",
       "[1] 1\n",
       "\n",
       "$existence\n",
       "[1] 1\n",
       "\n",
       "$`if`\n",
       "[1] 1\n",
       "\n",
       "$fly\n",
       "[1] 1\n",
       "\n",
       "$out\n",
       "[1] 1\n",
       "\n",
       "$that\n",
       "[1] 1\n",
       "\n",
       "$window\n",
       "[1] 1\n",
       "\n",
       "$hand\n",
       "[1] 2\n",
       "\n",
       "$hover\n",
       "[1] 1\n",
       "\n",
       "$over\n",
       "[1] 1\n",
       "\n",
       "$this\n",
       "[1] 1\n",
       "\n",
       "$great\n",
       "[1] 1\n",
       "\n",
       "$city\n",
       "[1] 1\n",
       "\n",
       "$gently\n",
       "[1] 1\n",
       "\n",
       "$remove\n",
       "[1] 1\n",
       "\n",
       "$roofs\n",
       "[1] 1\n",
       "\n",
       "$and\n",
       "[1] 4\n",
       "\n",
       "$peep\n",
       "[1] 1\n",
       "\n",
       "$queer\n",
       "[1] 1\n",
       "\n",
       "$going\n",
       "[1] 1\n",
       "\n",
       "$strange\n",
       "[1] 1\n",
       "\n",
       "$coincidences\n",
       "[1] 1\n",
       "\n",
       "$plannings\n",
       "[1] 1\n",
       "\n",
       "$cross\n",
       "[1] 1\n",
       "\n",
       "$purposes\n",
       "[1] 1\n",
       "\n",
       "$wonderful\n",
       "[1] 1\n",
       "\n",
       "$chains\n",
       "[1] 1\n",
       "\n",
       "$events\n",
       "[1] 1\n",
       "\n",
       "$working\n",
       "[1] 1\n",
       "\n",
       "$through\n",
       "[1] 1\n",
       "\n",
       "$generations\n",
       "[1] 1\n",
       "\n",
       "$leading\n",
       "[1] 1\n",
       "\n",
       "$most\n",
       "[1] 2\n",
       "\n",
       "$outré\n",
       "[1] 1\n",
       "\n",
       "$results\n",
       "[1] 1\n",
       "\n",
       "$it\n",
       "[1] 1\n",
       "\n",
       "$make\n",
       "[1] 1\n",
       "\n",
       "$all\n",
       "[1] 1\n",
       "\n",
       "$fiction\n",
       "[1] 1\n",
       "\n",
       "$with\n",
       "[1] 1\n",
       "\n",
       "$its\n",
       "[1] 1\n",
       "\n",
       "$conventionalities\n",
       "[1] 1\n",
       "\n",
       "$foreseen\n",
       "[1] 1\n",
       "\n",
       "$conclusions\n",
       "[1] 1\n",
       "\n",
       "$stale\n",
       "[1] 1\n",
       "\n",
       "$unprofitable\n",
       "[1] 1\n"
      ]
     },
     "metadata": {},
     "output_type": "display_data"
    }
   ],
   "source": [
    "lapply(wordlocations, length)"
   ]
  }
 ],
 "metadata": {
  "celltoolbar": "Slideshow",
  "kernelspec": {
   "display_name": "R",
   "language": "R",
   "name": "ir"
  },
  "language_info": {
   "codemirror_mode": "r",
   "file_extension": ".r",
   "mimetype": "text/x-r-source",
   "name": "R",
   "pygments_lexer": "r",
   "version": "3.6.1"
  },
  "toc": {
   "base_numbering": 1,
   "nav_menu": {},
   "number_sections": false,
   "sideBar": true,
   "skip_h1_title": false,
   "title_cell": "Table of Contents",
   "title_sidebar": "Contents",
   "toc_cell": false,
   "toc_position": {},
   "toc_section_display": "block",
   "toc_window_display": false
  }
 },
 "nbformat": 4,
 "nbformat_minor": 2
}
