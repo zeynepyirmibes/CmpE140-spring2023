{
 "cells": [
  {
   "cell_type": "markdown",
   "metadata": {},
   "source": [
    "# Random Number Generating and Plotting Exercises\n",
    "\n",
    "## Exercise 1\n",
    "\n",
    "Merih wants to visualize the recent USD/TRY exchange rate. Here is the data of the last week's USD/TRY exchange rate:\n",
    "\n",
    "|DAY|USD/TRY|\n",
    "|:-----|:-----:|\n",
    "|09/24|7.80804|\n",
    "|09/25|7.94120|\n",
    "|09/26|7.97354|\n",
    "|09/27|8.09022|\n",
    "|09/28|8.19270|\n",
    "|09/29|8.26492|\n",
    "|09/30|8.29794|\n",
    "\n",
    "\n",
    "1) Create a vector called **rate** containing the USD/TRY values."
   ]
  },
  {
   "cell_type": "markdown",
   "metadata": {},
   "source": [
    "2) Draw a line plot with the **rate** vector. Paint the line red and title the graph as **USD/TRY**."
   ]
  },
  {
   "cell_type": "markdown",
   "metadata": {},
   "source": [
    "## Exercise 2\n",
    "\n",
    "The company Vestel codes its productions by numbers. For example, the code for televisions is 56. This company produces 20 different products, for which there are different codes. This company wants to see the quantity of products (by their codes) in intervals of 10.\n",
    "\n",
    "1) Set the seed to 12. Generate a dataset from a uniform distribution between 0 and 200 for each of the products. Name this dataset as **codes**."
   ]
  },
  {
   "cell_type": "markdown",
   "metadata": {},
   "source": [
    "2) Make a histogram of this dataset with intervals of size 10. Arrange the number of breaks according to this. Name the x-axis as **The Codes of the Products by Vestel** and y-axis as **The Quantities by Vestel**. Also, title the histogram as **Vestel Production**."
   ]
  },
  {
   "cell_type": "markdown",
   "metadata": {},
   "source": [
    "Recently, Vestel has been bought by Bosch, another company that produces the same type of products as Vestel. The new owners want to obtain the histogram that had been created before the acquisition; however, they want to change the axis labels and the title so that the histogram will have the new company’s name.\n",
    "\n",
    "3) This time make the label of the x-axis as **The Codes of the Products by Bosch** and y-axis as **The Quantities by Bosch**. Also, change the histogram’s title to **Bosch Production**."
   ]
  },
  {
   "cell_type": "markdown",
   "metadata": {},
   "source": [
    "## Exercise 3\n",
    "\n",
    "Deniz and Eren are two kids playing football. The number of goals they score for each hour they play are given on the following table:\n",
    "\n",
    "|Time(hours)|Deniz|Eren|\n",
    "|:-----:|:-----:|:-----:|\n",
    "|1|15|8|\n",
    "|2|9|12|\n",
    "|3|10|7|\n",
    "|4|7|9|\n",
    "|5|5|10|\n",
    "|6|4|6|\n",
    "|7|8|5|\n",
    "|8|1|2|\n",
    "|9|6|4|\n",
    "|10|3|6|\n",
    "\n",
    "1) Calculate the cumulative sum of the goals Deniz and Eren scored at the end of each hour separately. Store the values in two vectors named **deniz** and **eren**."
   ]
  },
  {
   "cell_type": "markdown",
   "metadata": {},
   "source": [
    "2) Plot a graph that shows the cumulative sum of goals separately for each hour Deniz and Eren played. Place hour on the x axis and the number of goals on the y axis. Name the x axis **Time (hours)** and the y axis **Number of goals**. Use orange line for Deniz's goals and dark green line for Eren's goals. Name the graph as **Deniz vs. Eren**."
   ]
  },
  {
   "cell_type": "markdown",
   "metadata": {},
   "source": [
    "3) Find out the hour that the number of total goals Deniz and Eren score are equal to each other for the first time. Show this point in your graph with a blue dot."
   ]
  },
  {
   "cell_type": "markdown",
   "metadata": {},
   "source": [
    "4) Decide which of the two is the winner at the end of 10th hour. Create a vector named \"\"winner\"\" to store the number of goals he scored and write the winner's name on it."
   ]
  },
  {
   "cell_type": "markdown",
   "metadata": {},
   "source": [
    "## Exercise 4\n",
    "\n",
    "Ayşe needs help understanding histograms. Her older sister, who is a data analyst, decides to show her using R.\n",
    "\n",
    "1) Set seed to 123. "
   ]
  },
  {
   "cell_type": "markdown",
   "metadata": {},
   "source": [
    "2) Create 3 normally distributed random number sequences with the length of 1200. The first one should have a mean of 0, the second one should have a mean of 10, and the third should have a mean of 30. All should have standard deviations of 5."
   ]
  },
  {
   "cell_type": "markdown",
   "metadata": {},
   "source": [
    "3) Create three different histograms with same bin sizes using these three vectors and then plot them in the same graph for Ayşe to see the difference.\n",
    "\n",
    "*Hint:* color with the rgb codes because when histograms overlap, you can edit their transparency by adjusting the alpha value."
   ]
  },
  {
   "cell_type": "markdown",
   "metadata": {},
   "source": [
    "## Exercise 5\n",
    "\n",
    "It's obvious that exercising is crucial for losing weight. But we don’t know the exact relationship between them. A personal trainer, in order examine the effect of exercising, monitored his student, Kerem. The table below shows total training hours and weights of Kerem from starting day:\n",
    "\n",
    "|Time Spent <br> Exercising <br> (Hours)|Weight|\n",
    "|:-----:|:-----:|\n",
    "|0|95|\n",
    "|50|89|\n",
    "|90|84|\n",
    "|125|78|\n",
    "|155|75|\n",
    "|172|73|\n",
    "|190|71.5|\n",
    "\n",
    "We're told to plot a scatter graph of training hours and body mass index for visualizing the progress over time. (Note that Kerem is 173 cm tall.)\n",
    "\n",
    "1) Create two vectors for training hours and weight.\n"
   ]
  },
  {
   "cell_type": "markdown",
   "metadata": {},
   "source": [
    "2) Calculate Body Mass Index for each weight record and store it in a vector. BMI is the person’s weight in kilograms divided by the person’s height in meters."
   ]
  },
  {
   "cell_type": "markdown",
   "metadata": {},
   "source": [
    "3) Create a scatter graph for training hours and Body Mass Index. Title the graph as **Kerem's Progress**, x-axis as **Training Hours**, and y-axis as **BMI**."
   ]
  },
  {
   "cell_type": "markdown",
   "metadata": {},
   "source": [
    "4) BMI under 24.9 is considered to be normal. Find these points and indicate them with green squares.\n",
    "\n",
    "*Hint:* Use pch = 15 for squares. "
   ]
  },
  {
   "cell_type": "markdown",
   "metadata": {},
   "source": [
    "## Exercise 6\n",
    "\n",
    "Michael Scoot is a successful salesman who runs Scranton Branch of Dunder-Mifflin Paper Company. Before he becomes the regional manager of Scranton Branch, Michael tried his chance in finance world by buying stocks in stock market, but he was defrauded by the people who used a pyramid scheme business model against him.\n",
    "In the last days of December 2019, he decided to try his luck in finance world again as a new year resolution, but this time asks Jim to help him. However, Jim has no desire to assist Michael's investments. So, he decided to show that how stock market fluctuates and convince him to keep his money in a deposit account so that Michael will never bother him with this issue for a complete year. For the year of 2020, the bank will give 10% for yearly interest rate. Micheal currently has 6000 dollars in his savings account.\n",
    "\n",
    "1) First set seed to 2020. Then, create a variable called **account_balance** for Michael's savings account and define a variable called **bank_ interest** that stores the bank's yearly interest rate."
   ]
  },
  {
   "cell_type": "markdown",
   "metadata": {},
   "source": [
    "2) Jim wants to graph the monthly increase in Michael's bank account if he chooses to put his all money in deposit account. Create a vector called **months** consisting of the numbers between 1 and 12."
   ]
  },
  {
   "cell_type": "markdown",
   "metadata": {},
   "source": [
    "3) Create a vector called **deposit_account** which shows how much money Michael will have for the next 12 months if he deposits all his money on a deposit account with the given interest rate. Note that he will only earn interest on his initial capital and not on the interest itself. "
   ]
  },
  {
   "cell_type": "markdown",
   "metadata": {},
   "source": [
    "4) Micheak wants to invest on Company X. According to Jim's research on Company X, many finance gurus more or less agree that its stock value will fluctuate between 300 and 450 in 2020. The current price of stock is $320. Create a variable called **stock_price** and assign the current price of stock. Then create a vector called  **market_2020** which stores 12 uniformly distributed random numbers between 300 and 450. **market_2020** represents the end-of-month stock prices in 2020."
   ]
  },
  {
   "cell_type": "markdown",
   "metadata": {},
   "source": [
    "5) Calculate how much stock Michael could buy right now and assign it to **stock_quantity**. After that, calculate the money that remains in Michael's hands as if he bought all the stock he could buy and assign it to **remained_quantity**.\n",
    "\n",
    "*Hint:* You could use \"floor()\" function to round the decimal number to largest integer that is smaller than or equal to value."
   ]
  },
  {
   "cell_type": "markdown",
   "metadata": {},
   "source": [
    "6) Calculate how much money there will be in Michael's bank account if he chooses to put all his money on the stock market by buying Company X stocks. Assign these to a vector called **final_amount**. Use market_2020 as monthly price of the stock. Assume he put the remaining money in a deposit account and got interest on that money, too."
   ]
  },
  {
   "cell_type": "markdown",
   "metadata": {},
   "source": [
    "7) Plot **final_amount** and **deposit_account** together in a single line plot. Label x-axis as **Months** and and label y-axis as **Account Balance**. Use a blue line for the deposit account and red line for the equity account. Title the plot as **Michael’s Investment in 2020**."
   ]
  },
  {
   "cell_type": "markdown",
   "metadata": {},
   "source": [
    "8) The visual above does not convince Michael that the deposit account is the safer choice. He asks Jim just one question: How much does the average value of stock market investment differ from the average amount of money in deposit account? Create **average_stock** and calculate the difference to answer Michael's question. Store this value in a variable called **difference**."
   ]
  }
 ],
 "metadata": {
  "kernelspec": {
   "display_name": "R",
   "language": "R",
   "name": "ir"
  },
  "language_info": {
   "codemirror_mode": "r",
   "file_extension": ".r",
   "mimetype": "text/x-r-source",
   "name": "R",
   "pygments_lexer": "r",
   "version": "3.6.1"
  }
 },
 "nbformat": 4,
 "nbformat_minor": 4
}
