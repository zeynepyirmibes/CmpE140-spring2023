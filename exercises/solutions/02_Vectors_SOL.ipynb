{
 "cells": [
  {
   "cell_type": "markdown",
   "metadata": {},
   "source": [
    "# Vector Exercises\n",
    "\n",
    "## Exercise 1\n"
   ]
  },
  {
   "cell_type": "markdown",
   "metadata": {},
   "source": [
    "|Name|Midterm|Final|\n",
    "|:-----|:---:|:---:|\n",
    "|Ali|72|85|\n",
    "|Gamze|55|70|\n",
    "|Ömer|84|91|\n",
    "|Selin|68|83|\n",
    "|Buğra|65|50|\n",
    "|Deniz|45|54|\n",
    "|Bilal|96|89|\n",
    "\n",
    "\n",
    "In the table above, you can see the midterm and final grades of 7 students in a computer science class. Using the information given to you;\n",
    "\n",
    "1) Create a vector called **midterm** that stores the midterm grades of the students. The names of the elements should be the students' names."
   ]
  },
  {
   "cell_type": "code",
   "execution_count": 3,
   "metadata": {},
   "outputs": [],
   "source": [
    "midterm <- c(72, 55, 84, 68, 65, 45, 96)\n",
    "names(midterm) <- c(\"Ali\", \"Gamze\", \"Ömer\", \"Selin\", \"Buğra\", \"Deniz\", \"Bilal\")"
   ]
  },
  {
   "cell_type": "markdown",
   "metadata": {},
   "source": [
    "2) Create a similar vector for **final** grades."
   ]
  },
  {
   "cell_type": "code",
   "execution_count": 4,
   "metadata": {},
   "outputs": [],
   "source": [
    "final <- c(85, 70, 91, 83, 50, 54, 89)\n",
    "names(final) <- c(\"Ali\", \"Gamze\", \"Ömer\", \"Selin\", \"Buğra\", \"Deniz\", \"Bilal\")"
   ]
  },
  {
   "cell_type": "markdown",
   "metadata": {},
   "source": [
    "3) Create a similar vector called **overall** that stores the average grade of each student."
   ]
  },
  {
   "cell_type": "code",
   "execution_count": 5,
   "metadata": {},
   "outputs": [],
   "source": [
    "overall <- (midterm + final)/2\n",
    "names(overall) <- c(\"Ali\", \"Gamze\", \"Ömer\", \"Selin\", \"Buğra\", \"Deniz\", \"Bilal\")"
   ]
  },
  {
   "cell_type": "markdown",
   "metadata": {},
   "source": [
    "4) Combine these three vectors together and name it **combined**. Each grade should have the name of its student."
   ]
  },
  {
   "cell_type": "code",
   "execution_count": 6,
   "metadata": {},
   "outputs": [],
   "source": [
    "combined<- c(midterm, final, overall)"
   ]
  },
  {
   "cell_type": "markdown",
   "metadata": {},
   "source": [
    "## Exercise 2\n",
    "\n",
    "1) Create a vector that stores every integer from 1 to 100 in ascending order and name it **numbers**."
   ]
  },
  {
   "cell_type": "code",
   "execution_count": 7,
   "metadata": {},
   "outputs": [],
   "source": [
    "numbers <- c(1:100)"
   ]
  },
  {
   "cell_type": "markdown",
   "metadata": {},
   "source": [
    "2) Delete the first and last 10 elements of that vector and update it."
   ]
  },
  {
   "cell_type": "code",
   "execution_count": 8,
   "metadata": {},
   "outputs": [],
   "source": [
    "numbers <- numbers[-(1:10)]\n",
    "numbers <- numbers[-(81:90)]"
   ]
  },
  {
   "cell_type": "markdown",
   "metadata": {},
   "source": [
    "3) Calculate the minimum, maximum, average, sum and product of the “numbers” vector and store them in a new vector called “stats”. Make sure the new vector has the appropriate names."
   ]
  },
  {
   "cell_type": "code",
   "execution_count": 9,
   "metadata": {},
   "outputs": [],
   "source": [
    "stats <- c(min(numbers), max(numbers), mean(numbers), sum(numbers), prod(numbers)) \n",
    "names(stats) <- c(\"minimum\", \"maximum\", \"average\", \"sum\", \"product\")"
   ]
  },
  {
   "cell_type": "markdown",
   "metadata": {},
   "source": [
    "## Exercise 3\n",
    "\n",
    "A hardware store sells 5 different types of screwdrivers. Their prices are as follows: 18, 16, 34, 11, 8.\n",
    "\n",
    "1) Assign these values to a vector called **prices**."
   ]
  },
  {
   "cell_type": "code",
   "execution_count": 10,
   "metadata": {},
   "outputs": [],
   "source": [
    "prices <- c(18, 16, 34, 11, 8)"
   ]
  },
  {
   "cell_type": "markdown",
   "metadata": {},
   "source": [
    "2) The store wants to do a discount on the screwdrivers. For screwdrivers priced lower than 15 TL’s the store will apply a 10% discount whereas screwdrivers priced higher than 20 TL’s will be subject to a 20% discount. Assign the new prices to a vector called **new_prices**."
   ]
  },
  {
   "cell_type": "code",
   "execution_count": 11,
   "metadata": {},
   "outputs": [],
   "source": [
    "new_prices <- c(18*0.8, 16*0.8, 34*0.8, 11*0.9, 8*0.9)"
   ]
  },
  {
   "cell_type": "markdown",
   "metadata": {},
   "source": [
    "3) Hasan bought one of each screwdriver before the discount while Ahmet bought them after the discount. Calculate the difference between what they paid and name it **difference**. "
   ]
  },
  {
   "cell_type": "code",
   "execution_count": 12,
   "metadata": {},
   "outputs": [],
   "source": [
    "difference <- sum(prices) - sum(new_prices)"
   ]
  },
  {
   "cell_type": "markdown",
   "metadata": {},
   "source": [
    "## Exercise 4\n",
    "\n",
    "A pharmaceutical company has 8 warehouses in Turkey. Number of units held as stock in these warehouses are 1600, 700, 2400, 3200, 500, 1300, 2100 and 1800. "
   ]
  },
  {
   "cell_type": "markdown",
   "metadata": {},
   "source": [
    "1) Assign these values to a vector called **stock**. "
   ]
  },
  {
   "cell_type": "code",
   "execution_count": 13,
   "metadata": {},
   "outputs": [],
   "source": [
    "stock <- c(1600, 700, 2400, 3200, 500, 1300, 2100, 1800)"
   ]
  },
  {
   "cell_type": "markdown",
   "metadata": {},
   "source": [
    "2) The company wants to combine locations 2,5 and 6 into a single warehouse. Isolate these warehouses and assign them to a new vector called **temp**. Calculate the total amount of stock in these 3 warehouses."
   ]
  },
  {
   "cell_type": "code",
   "execution_count": 14,
   "metadata": {},
   "outputs": [],
   "source": [
    "temp <- c(stock[2], stock[5], stock[6])\n",
    "total_stock <- sum(temp)"
   ]
  },
  {
   "cell_type": "markdown",
   "metadata": {},
   "source": [
    "3) Remove these 3 warehouses from the **stock** vector. Add the stock in the new warehouse to the end of the vector and call it **new_stock**. "
   ]
  },
  {
   "cell_type": "code",
   "execution_count": 15,
   "metadata": {},
   "outputs": [],
   "source": [
    "remove <- c(2,5,6)\n",
    "stock <- stock[-(remove)]\n",
    "new_stock <- c(stock, total_stock)"
   ]
  },
  {
   "cell_type": "markdown",
   "metadata": {},
   "source": [
    "## Exercise 5\n",
    "\n",
    "The business department of a university has 12 new graduates and their gpa’s are as follows: 3.28, 3.56, 2.15, 2.87, 3.04, 3.80, 2.38, 2.56, 3.94, 3.12, 2.97, 2.52.\n",
    "\n",
    "1) Assign these values to a vector called **gpa**."
   ]
  },
  {
   "cell_type": "code",
   "execution_count": 1,
   "metadata": {},
   "outputs": [],
   "source": [
    "gpa <- c(3.28, 3.56, 2.15, 2.87, 3.04, 3.80, 2.38, 2.56, 3.94, 3.12, 2.97, 2.52)"
   ]
  },
  {
   "cell_type": "markdown",
   "metadata": {},
   "source": [
    "2) Sort this vector in descending order and update it."
   ]
  },
  {
   "cell_type": "code",
   "execution_count": 3,
   "metadata": {},
   "outputs": [
    {
     "data": {
      "text/html": [
       "<ol class=list-inline>\n",
       "\t<li>3.94</li>\n",
       "\t<li>3.8</li>\n",
       "\t<li>3.56</li>\n",
       "\t<li>3.28</li>\n",
       "\t<li>3.12</li>\n",
       "\t<li>3.04</li>\n",
       "\t<li>2.97</li>\n",
       "\t<li>2.87</li>\n",
       "\t<li>2.56</li>\n",
       "\t<li>2.52</li>\n",
       "\t<li>2.38</li>\n",
       "\t<li>2.15</li>\n",
       "</ol>\n"
      ],
      "text/latex": [
       "\\begin{enumerate*}\n",
       "\\item 3.94\n",
       "\\item 3.8\n",
       "\\item 3.56\n",
       "\\item 3.28\n",
       "\\item 3.12\n",
       "\\item 3.04\n",
       "\\item 2.97\n",
       "\\item 2.87\n",
       "\\item 2.56\n",
       "\\item 2.52\n",
       "\\item 2.38\n",
       "\\item 2.15\n",
       "\\end{enumerate*}\n"
      ],
      "text/markdown": [
       "1. 3.94\n",
       "2. 3.8\n",
       "3. 3.56\n",
       "4. 3.28\n",
       "5. 3.12\n",
       "6. 3.04\n",
       "7. 2.97\n",
       "8. 2.87\n",
       "9. 2.56\n",
       "10. 2.52\n",
       "11. 2.38\n",
       "12. 2.15\n",
       "\n",
       "\n"
      ],
      "text/plain": [
       " [1] 3.94 3.80 3.56 3.28 3.12 3.04 2.97 2.87 2.56 2.52 2.38 2.15"
      ]
     },
     "metadata": {},
     "output_type": "display_data"
    }
   ],
   "source": [
    "gpa <- sort(gpa, decreasing = TRUE)\n",
    "gpa"
   ]
  },
  {
   "cell_type": "code",
   "execution_count": 10,
   "metadata": {},
   "outputs": [
    {
     "data": {
      "text/html": [
       "<ol class=list-inline>\n",
       "\t<li>3.28</li>\n",
       "\t<li>3.12</li>\n",
       "\t<li>3.04</li>\n",
       "</ol>\n"
      ],
      "text/latex": [
       "\\begin{enumerate*}\n",
       "\\item 3.28\n",
       "\\item 3.12\n",
       "\\item 3.04\n",
       "\\end{enumerate*}\n"
      ],
      "text/markdown": [
       "1. 3.28\n",
       "2. 3.12\n",
       "3. 3.04\n",
       "\n",
       "\n"
      ],
      "text/plain": [
       "[1] 3.28 3.12 3.04"
      ]
     },
     "metadata": {},
     "output_type": "display_data"
    }
   ],
   "source": [
    "gpa[gpa > 3 & gpa < 3.5]"
   ]
  },
  {
   "cell_type": "code",
   "execution_count": 11,
   "metadata": {},
   "outputs": [],
   "source": [
    "names(gpa[gpa > 3 & gpa < 3.5]) <- rep(\"honor\", 3)"
   ]
  },
  {
   "cell_type": "code",
   "execution_count": 12,
   "metadata": {},
   "outputs": [
    {
     "data": {
      "text/html": [
       "<ol class=list-inline>\n",
       "\t<li>3.94</li>\n",
       "\t<li>3.8</li>\n",
       "\t<li>3.56</li>\n",
       "\t<li>3.28</li>\n",
       "\t<li>3.12</li>\n",
       "\t<li>3.04</li>\n",
       "\t<li>2.97</li>\n",
       "\t<li>2.87</li>\n",
       "\t<li>2.56</li>\n",
       "\t<li>2.52</li>\n",
       "\t<li>2.38</li>\n",
       "\t<li>2.15</li>\n",
       "</ol>\n"
      ],
      "text/latex": [
       "\\begin{enumerate*}\n",
       "\\item 3.94\n",
       "\\item 3.8\n",
       "\\item 3.56\n",
       "\\item 3.28\n",
       "\\item 3.12\n",
       "\\item 3.04\n",
       "\\item 2.97\n",
       "\\item 2.87\n",
       "\\item 2.56\n",
       "\\item 2.52\n",
       "\\item 2.38\n",
       "\\item 2.15\n",
       "\\end{enumerate*}\n"
      ],
      "text/markdown": [
       "1. 3.94\n",
       "2. 3.8\n",
       "3. 3.56\n",
       "4. 3.28\n",
       "5. 3.12\n",
       "6. 3.04\n",
       "7. 2.97\n",
       "8. 2.87\n",
       "9. 2.56\n",
       "10. 2.52\n",
       "11. 2.38\n",
       "12. 2.15\n",
       "\n",
       "\n"
      ],
      "text/plain": [
       " [1] 3.94 3.80 3.56 3.28 3.12 3.04 2.97 2.87 2.56 2.52 2.38 2.15"
      ]
     },
     "metadata": {},
     "output_type": "display_data"
    }
   ],
   "source": [
    "gpa"
   ]
  },
  {
   "cell_type": "markdown",
   "metadata": {},
   "source": [
    "3) Students who finish the department with a gpa higher than 3.00 are awarded an **honor** degree and students who finish it with a gpa higher than 3.50 are awarded a **high honor** degree. The most successful graduate is called **valedictorian** and second most successful graduate is called **salutatorian**. Create a vector which stores the title or the degree certificate of each graduate in decending order and name it \"\"title\"\". You can name the graduates whose gpa are below 3.00 as **regular**."
   ]
  },
  {
   "cell_type": "code",
   "execution_count": 4,
   "metadata": {},
   "outputs": [
    {
     "data": {
      "text/html": [
       "<ol class=list-inline>\n",
       "\t<li>'honor'</li>\n",
       "\t<li>'honor'</li>\n",
       "\t<li>'honor'</li>\n",
       "</ol>\n"
      ],
      "text/latex": [
       "\\begin{enumerate*}\n",
       "\\item 'honor'\n",
       "\\item 'honor'\n",
       "\\item 'honor'\n",
       "\\end{enumerate*}\n"
      ],
      "text/markdown": [
       "1. 'honor'\n",
       "2. 'honor'\n",
       "3. 'honor'\n",
       "\n",
       "\n"
      ],
      "text/plain": [
       "[1] \"honor\" \"honor\" \"honor\""
      ]
     },
     "metadata": {},
     "output_type": "display_data"
    }
   ],
   "source": [
    "rep(\"honor\", 3)"
   ]
  },
  {
   "cell_type": "code",
   "execution_count": 6,
   "metadata": {},
   "outputs": [
    {
     "data": {
      "text/html": [
       "<ol class=list-inline>\n",
       "\t<li>'valedictorian'</li>\n",
       "\t<li>'salutatorian'</li>\n",
       "\t<li>'high honor'</li>\n",
       "\t<li>'honor'</li>\n",
       "\t<li>'honor'</li>\n",
       "\t<li>'honor'</li>\n",
       "\t<li>'regular'</li>\n",
       "\t<li>'regular'</li>\n",
       "\t<li>'regular'</li>\n",
       "\t<li>'regular'</li>\n",
       "\t<li>'regular'</li>\n",
       "\t<li>'regular'</li>\n",
       "</ol>\n"
      ],
      "text/latex": [
       "\\begin{enumerate*}\n",
       "\\item 'valedictorian'\n",
       "\\item 'salutatorian'\n",
       "\\item 'high honor'\n",
       "\\item 'honor'\n",
       "\\item 'honor'\n",
       "\\item 'honor'\n",
       "\\item 'regular'\n",
       "\\item 'regular'\n",
       "\\item 'regular'\n",
       "\\item 'regular'\n",
       "\\item 'regular'\n",
       "\\item 'regular'\n",
       "\\end{enumerate*}\n"
      ],
      "text/markdown": [
       "1. 'valedictorian'\n",
       "2. 'salutatorian'\n",
       "3. 'high honor'\n",
       "4. 'honor'\n",
       "5. 'honor'\n",
       "6. 'honor'\n",
       "7. 'regular'\n",
       "8. 'regular'\n",
       "9. 'regular'\n",
       "10. 'regular'\n",
       "11. 'regular'\n",
       "12. 'regular'\n",
       "\n",
       "\n"
      ],
      "text/plain": [
       " [1] \"valedictorian\" \"salutatorian\"  \"high honor\"    \"honor\"        \n",
       " [5] \"honor\"         \"honor\"         \"regular\"       \"regular\"      \n",
       " [9] \"regular\"       \"regular\"       \"regular\"       \"regular\"      "
      ]
     },
     "metadata": {},
     "output_type": "display_data"
    }
   ],
   "source": [
    "title <- c(\"valedictorian\", \"salutatorian\", \"high honor\", rep(\"honor\", 3), rep(\"regular\", 6))\n",
    "title"
   ]
  },
  {
   "cell_type": "code",
   "execution_count": 18,
   "metadata": {},
   "outputs": [],
   "source": [
    "title <- c(\"valedictorian\", \"salutatorian\", \"high honor\", \"honor\", \"honor\", \"honor\", \"regular\", \"regular\", \"regular\", \"regular\", \"regular\", \"regular\")"
   ]
  },
  {
   "cell_type": "markdown",
   "metadata": {},
   "source": [
    "4) Assign these titles as the names of the **gpa** vector."
   ]
  },
  {
   "cell_type": "code",
   "execution_count": 19,
   "metadata": {},
   "outputs": [],
   "source": [
    "names(gpa) <- title"
   ]
  },
  {
   "cell_type": "markdown",
   "metadata": {},
   "source": [
    "## Exercise 6\n",
    "\n",
    "Ross Geller and Chandler Bing are two brokers in Wall Street. Ross’ initial net asset value is 20000 dollars and Chandler’s initial net asset value is 30000 dollars. They bet on whose net asset value will be higher after 10 months. \n",
    "\n",
    "Ross is on a lucky streak. His net asset value is increasing 1200 dollars per month for the next 10 months. In contrast, Chandler is going through a rough patch. His net asset value is decreasing 800 dollars  per month for the next 10 months.\n",
    "\n",
    "Their boss promises them to give 1000 dollars for every month in which their net asset value is above 25000 dollars.\n",
    "\n",
    "1) Create a sequence called **ross_value** consisting of Ross’ asset values for each month.\n"
   ]
  },
  {
   "cell_type": "code",
   "execution_count": 14,
   "metadata": {},
   "outputs": [
    {
     "data": {
      "text/html": [
       "<ol class=list-inline>\n",
       "\t<li>20000</li>\n",
       "\t<li>21200</li>\n",
       "\t<li>22400</li>\n",
       "\t<li>23600</li>\n",
       "\t<li>24800</li>\n",
       "\t<li>26000</li>\n",
       "\t<li>27200</li>\n",
       "\t<li>28400</li>\n",
       "\t<li>29600</li>\n",
       "\t<li>30800</li>\n",
       "</ol>\n"
      ],
      "text/latex": [
       "\\begin{enumerate*}\n",
       "\\item 20000\n",
       "\\item 21200\n",
       "\\item 22400\n",
       "\\item 23600\n",
       "\\item 24800\n",
       "\\item 26000\n",
       "\\item 27200\n",
       "\\item 28400\n",
       "\\item 29600\n",
       "\\item 30800\n",
       "\\end{enumerate*}\n"
      ],
      "text/markdown": [
       "1. 20000\n",
       "2. 21200\n",
       "3. 22400\n",
       "4. 23600\n",
       "5. 24800\n",
       "6. 26000\n",
       "7. 27200\n",
       "8. 28400\n",
       "9. 29600\n",
       "10. 30800\n",
       "\n",
       "\n"
      ],
      "text/plain": [
       " [1] 20000 21200 22400 23600 24800 26000 27200 28400 29600 30800"
      ]
     },
     "metadata": {},
     "output_type": "display_data"
    }
   ],
   "source": [
    "ross_value <- seq(from = 20000, length.out = 10, by = 1200)\n",
    "ross_value"
   ]
  },
  {
   "cell_type": "markdown",
   "metadata": {},
   "source": [
    "2) Create a sequence called **chandler_value** consisting of Chandler’s asset values for each month."
   ]
  },
  {
   "cell_type": "code",
   "execution_count": 15,
   "metadata": {},
   "outputs": [],
   "source": [
    "chandler_value <- seq(from = 30000, length.out = 10, by = -800)"
   ]
  },
  {
   "cell_type": "markdown",
   "metadata": {},
   "source": [
    "3) Create a vector called **rvabove** consisting of Ross’ asset values that are above 25000 dollars. "
   ]
  },
  {
   "cell_type": "code",
   "execution_count": 17,
   "metadata": {},
   "outputs": [
    {
     "data": {
      "text/html": [
       "<ol class=list-inline>\n",
       "\t<li>26000</li>\n",
       "\t<li>27200</li>\n",
       "\t<li>28400</li>\n",
       "\t<li>29600</li>\n",
       "\t<li>30800</li>\n",
       "</ol>\n"
      ],
      "text/latex": [
       "\\begin{enumerate*}\n",
       "\\item 26000\n",
       "\\item 27200\n",
       "\\item 28400\n",
       "\\item 29600\n",
       "\\item 30800\n",
       "\\end{enumerate*}\n"
      ],
      "text/markdown": [
       "1. 26000\n",
       "2. 27200\n",
       "3. 28400\n",
       "4. 29600\n",
       "5. 30800\n",
       "\n",
       "\n"
      ],
      "text/plain": [
       "[1] 26000 27200 28400 29600 30800"
      ]
     },
     "metadata": {},
     "output_type": "display_data"
    }
   ],
   "source": [
    "rvabove <- ross_value[ross_value > 25000]\n",
    "rvabove"
   ]
  },
  {
   "cell_type": "markdown",
   "metadata": {},
   "source": [
    "4) Create a vector called **cvabove** consisting of Chandler’s asset values that are above 25000 dollars."
   ]
  },
  {
   "cell_type": "code",
   "execution_count": 23,
   "metadata": {},
   "outputs": [],
   "source": [
    "cvabove <- chandler_value[chandler_value > 25000]"
   ]
  },
  {
   "cell_type": "markdown",
   "metadata": {},
   "source": [
    "5) Calculate their net asset value at the end of the last month, including the money their boss promised and assign them to variables called **rfvalue** and **cfvalue**."
   ]
  },
  {
   "cell_type": "code",
   "execution_count": 18,
   "metadata": {},
   "outputs": [
    {
     "data": {
      "text/html": [
       "30800"
      ],
      "text/latex": [
       "30800"
      ],
      "text/markdown": [
       "30800"
      ],
      "text/plain": [
       "[1] 30800"
      ]
     },
     "metadata": {},
     "output_type": "display_data"
    }
   ],
   "source": [
    "ross_value[10]"
   ]
  },
  {
   "cell_type": "code",
   "execution_count": 24,
   "metadata": {},
   "outputs": [],
   "source": [
    "rfvalue <- ross_value[10] + length(rvabove)*1000\n",
    "cfvalue <- chandler_value[10] + length(cvabove)*1000"
   ]
  },
  {
   "cell_type": "markdown",
   "metadata": {},
   "source": [
    "6) Create a vector called **winner** that consists of the name of the winner and his final asset value."
   ]
  },
  {
   "cell_type": "code",
   "execution_count": 25,
   "metadata": {},
   "outputs": [],
   "source": [
    "winner <- max(rfvalue, cfvalue)\n",
    "names(winner) <- \"Ross\""
   ]
  }
 ],
 "metadata": {
  "kernelspec": {
   "display_name": "R",
   "language": "R",
   "name": "ir"
  },
  "language_info": {
   "codemirror_mode": "r",
   "file_extension": ".r",
   "mimetype": "text/x-r-source",
   "name": "R",
   "pygments_lexer": "r",
   "version": "3.6.1"
  }
 },
 "nbformat": 4,
 "nbformat_minor": 4
}
