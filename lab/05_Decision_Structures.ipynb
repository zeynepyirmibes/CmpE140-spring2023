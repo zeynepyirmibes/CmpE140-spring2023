{
 "cells": [
  {
   "cell_type": "markdown",
   "metadata": {},
   "source": [
    "# LAB 05 - DECISION STRUCTURES\n",
    "\n",
    "## QUESTION 1\n",
    "\n",
    "Lets create a function called **temperature** that takes a vector which includes daily temperatures of a week as input.\n",
    "\n",
    "Set the seed to 2000. Then create a sample of size 7 from a normal distribution with mean 18 and variance 12.\n",
    "\n",
    "```R\n",
    "> temps\n",
    "[1] 15.04220 16.77756 21.08357 24.03199 21.17339 13.92413 11.28505\n",
    "```\n",
    "\n",
    "If there are at least 3 days above 15 degrees, it should return **\"warm week\"** and the average temperature with two decimal digits, as a single line.\n",
    "\n",
    "Otherwise, it should return **\"cold week\"** and the average temperature with two decimal digits, as a single line, as such:\n",
    "\n",
    "```R\n",
    "> temperature(temps)\n",
    "[1] \"warm week 17.62\"\n",
    "```\n",
    "\n",
    "*Hint: You can make use of ``paste()`` and ``round()`` functions.*"
   ]
  },
  {
   "cell_type": "markdown",
   "metadata": {},
   "source": [
    "## SOLUTION 1"
   ]
  },
  {
   "cell_type": "code",
   "execution_count": null,
   "metadata": {},
   "outputs": [],
   "source": []
  },
  {
   "cell_type": "markdown",
   "metadata": {},
   "source": [
    "## QUESTION 2\n",
    "\n",
    "A company employs only people older than 27 and whose CV scores are greater than 80. She rejects other applications. Create a function named **company**.\n",
    "\n",
    "This function takes two integer arguments, first one is **age** and the other is **cv_score**.\n",
    "\n",
    "If **age** and **cv_score** satisfy the company's criteria, it should return **\"YOU ARE ACCEPTED.\"**;\n",
    "\n",
    "if they don't it should return **\"YOU ARE REJECTED DUE TO INSUFFICIENT SCORE\"** or **\"REJECTED DUE TO YOUNG AGE\"** as such:\n",
    "\n",
    "```R\n",
    "company(29, 78)\n",
    "company(15, 78)\n",
    "company(15, 83)\n",
    "company(30, 82)\n",
    "\n",
    "[1] \"YOU ARE REJECTED DUE TO INSUFFICIENT SCORE\"\n",
    "[1] \"REJECTED DUE TO YOUNG AGE\"\n",
    "[1] \"REJECTED DUE TO YOUNG AGE\"\n",
    "[1] \"YOU ARE ACCEPTED.\"\n",
    "\n",
    "```"
   ]
  },
  {
   "cell_type": "markdown",
   "metadata": {},
   "source": [
    "# SOLUTION 2"
   ]
  },
  {
   "cell_type": "code",
   "execution_count": null,
   "metadata": {},
   "outputs": [],
   "source": []
  },
  {
   "cell_type": "markdown",
   "metadata": {},
   "source": [
    "# QUESTION 3\n",
    "\n",
    "Lets create a function called **fee_calculator** that takes age and base fee with a default value of 2.60.\n",
    "\n",
    "For people:\n",
    "\n",
    "1. whose ages are less than or equal to 25, the function must return the 70% of the base.\n",
    "\n",
    "2. whose ages are between 25 and 60, the function must return the default base.\n",
    "\n",
    "3. whose ages are equal to or larger than 60, it has to be free of charge, as such:\n",
    "\n",
    "```R\n",
    "fee_calculator(23, 10)\n",
    "fee_calculator(27)\n",
    "fee_calculator(80, 5)\n",
    "\n",
    "[1] 7\n",
    "[1] 2.6\n",
    "[1] 0\n",
    "\n",
    "```"
   ]
  },
  {
   "cell_type": "markdown",
   "metadata": {},
   "source": [
    "# SOLUTION 3"
   ]
  },
  {
   "cell_type": "code",
   "execution_count": null,
   "metadata": {},
   "outputs": [],
   "source": []
  },
  {
   "cell_type": "markdown",
   "metadata": {},
   "source": [
    "# QUESTION 4\n",
    "\n",
    "The professor of a business course gives 2 midterms, 1 assignment and 1 final exam during the course of a semester. In order to take the final exam, the midterm grades of a student must be at least 112 in total. If a student is eligible for the final exam, she passes the course otherwise she fails.\n",
    "\n",
    "If the overall grade of a student is higher than 90, they get an \"AA\".\n",
    "\n",
    "The overall grade for the course is calculated as follows: \n",
    "\n",
    "- 25% of the first midterm's grade\n",
    "- 25% of the second midterm's grade\n",
    "- 15% of the assignment's grade\n",
    "- 35% of the final's grade\n",
    "\n",
    "5 students are enrolled in this course. Here are their names and their midterm and assignment grades:\n",
    "\n",
    "|Name|Midterm 1 <br> Grade|Midterm 2 <br> Grade|Assignment <br> Grade|\n",
    "|:-----|:-----:|:-----:|:-----:|\n",
    "|Ahmet|42|64|85|\n",
    "|Yiğit|89|92|100|\n",
    "|Ece|72|65|80|\n",
    "|Eda|51|48|50|\n",
    "|Aykut|82|65|90|\n",
    "\n",
    "Assign these grades to seperate vectors and give them the students' names.\n",
    "\n",
    "```R\n",
    "> ahmet\n",
    "[1] 42 64 85\n",
    "```\n",
    "\n",
    "Now write a function called **got_AA** that takes the grades of a student and returns whether she passes or fails. If the student passes with AA, it should return **\"AA\"**. You can assume a student who is eligible for the final exam will get a 100 in the final.\n",
    "\n",
    "Check the status of each student with your function as such:\n",
    "\n",
    "```R\n",
    "> got_AA(ahmet)\n",
    "[1] \"fail\"\n",
    "> got_AA(yigit)\n",
    "[1] \"AA\"\n",
    "> got_AA(ece)\n",
    "[1] \"pass\"\n",
    "> got_AA(eda)\n",
    "[1] \"fail\"\n",
    "> got_AA(aykut)\n",
    "[1] \"pass\"\n",
    "```"
   ]
  },
  {
   "cell_type": "markdown",
   "metadata": {},
   "source": [
    "# SOLUTION 4"
   ]
  },
  {
   "cell_type": "code",
   "execution_count": null,
   "metadata": {},
   "outputs": [],
   "source": []
  },
  {
   "cell_type": "markdown",
   "metadata": {},
   "source": [
    "# QUESTION 5\n",
    "\n",
    "The admission board of a PhD program has three criteria: undergraduate GPA, GRE score and the number of published papers.\n",
    "\n",
    "If an applicant has 2 or more published papers, she is admitted to the program regardless of her GPA or GRE score.\n",
    "If the applicant does not have 2 published papers, the board looks at her GPA and her GRE score.\n",
    "If her GPA is above 3.5 and her exam score is above 160 she is admitted to the program.\n",
    "If she only meets one of this criteria, she gets called in for an interview.\n",
    "If she meets none, she is rejected.\n",
    "\n",
    "You can see this year's applicants and their credentials in the table below:\n",
    "\n",
    "|Name|GPA|GRE score|Number of <br> published papers|\n",
    "|:-----|:-----:|:-----:|:-----:|\n",
    "|Musa|3.47|164|1|  \n",
    "|Esma|3.72|155|0| \n",
    "|Berk|3.20|148|3| \n",
    "|Bekir|3.85|168|1| \n",
    "|Derya|2.85|159|0| \n",
    "|Murat|3.95|170|2| \n",
    "|Enes|2.56|138|1|\n",
    "\n",
    "Create a vector for each student and assign their credentials to it as such:\n",
    "\n",
    "```R\n",
    "> musa\n",
    "[1]   3.47 164.00   1.00\n",
    "```\n",
    "\n",
    "Write a function called **admission** that will make the admission board's job easier. It will take as input, a vector that contains the credentials of an applicant and it will return the admission decision of that applicant. If the applicant is accepted it will print \"Accepted\", if the applicant is rejected it will print \"Rejected\" and if the applicant will be called in for an interview it will print \"Interview\".\n",
    "\n",
    "Here is an example:\n",
    "\n",
    "```R\n",
    "> admission(musa)\n",
    "[1] \"Interview\"\n",
    "```\n",
    "\n",
    "Now check the admission decision of all the applicants."
   ]
  },
  {
   "cell_type": "markdown",
   "metadata": {},
   "source": [
    "# SOLUTION 5"
   ]
  },
  {
   "cell_type": "code",
   "execution_count": null,
   "metadata": {},
   "outputs": [],
   "source": []
  },
  {
   "cell_type": "markdown",
   "metadata": {},
   "source": [
    "# QUESTION 6\n",
    "\n",
    "In Turkey, the government has decided on a partial curfew within the scope of COVID-19 measures. However, nobody understood this published curfew decisions since they are complicated.\n",
    "\n",
    "Beyza is a helpful person who has some programming skills, so she decided to write a code so that people can decide whether to go out or not more easily.\n",
    "\n",
    "Here is the summary of the decision:\n",
    "\n",
    "|||Under 20|20-65|Above 65||\n",
    "|---|---|---|---|---|---|\n",
    "|Weekdays|Before 10 AM|Forbidden|Allowed|Forbidden|\n",
    "||10-13|Forbidden|Allowed|Allowed|\n",
    "||13-16|Allowed|Allowed|Forbidden|\n",
    "||16-20|Forbidden|Allowed|Forbidden|\n",
    "||After 8 PM|Forbidden|Allowed|Forbidden|\n",
    "|Weekend|Before 10 AM|Forbidden|Forbidden|Forbidden|\n",
    "||10-13|Forbidden|Allowed|Allowed|\n",
    "||13-16|Allowed|Allowed|Forbidden|\n",
    "||16-20|Forbidden|Allowed|Forbidden|\n",
    "||After 8 PM|Forbidden|Forbidden|Forbidden|\n",
    "\n",
    "\n",
    "1) Create a character vector **days** containing days of the week written in lowercase as such:\n",
    "\n",
    "```r\n",
    " > days\n",
    "[1] \"monday\"    \"tuesday\"   \"wednesday\" \"thursday\"  \"friday\"    \"saturday\"  \"sunday\"   \n",
    "\n",
    "```\n",
    "\n",
    "\n",
    "2) Create a function called **curfew** that takes the **age** and **day** arguments from the user \n",
    "and returns whether **\"You can go out!\"** or **\"Maybe some other time :(\"** depending on the rules given in the table above.\n",
    "\n",
    "\n",
    "*Hint: You may use* ``readline()`` *function with* ``as.numeric()`` *and* ``as.character()``.\n",
    "\n",
    "\n",
    "*Hint: You may use* `%in%` to check whether or not the specified day is a weekday.\n",
    "\n",
    "\n",
    " Your code should return as such:\n",
    "\n",
    "\n",
    "```r\n",
    "What is your age?: 20\n",
    "Which day of the week is today?: monday\n",
    "[1] \"You can go out!\"\n",
    "\n",
    "\n",
    "What is your age?: 65\n",
    "Which day of the week is today?: saturday\n",
    "What time is it?: 13.02\n",
    "[1] \"You can go out!\"\n",
    "\n",
    "\n",
    "What is your age?: 19\n",
    "What time is it?: 18.50\n",
    "[1] \"Maybe some other time :(\"\n",
    "```"
   ]
  },
  {
   "cell_type": "markdown",
   "metadata": {},
   "source": [
    "# SOLUTION 6"
   ]
  },
  {
   "cell_type": "code",
   "execution_count": null,
   "metadata": {},
   "outputs": [],
   "source": []
  }
 ],
 "metadata": {
  "kernelspec": {
   "display_name": "R",
   "language": "R",
   "name": "ir"
  },
  "language_info": {
   "codemirror_mode": "r",
   "file_extension": ".r",
   "mimetype": "text/x-r-source",
   "name": "R",
   "pygments_lexer": "r",
   "version": "3.6.1"
  }
 },
 "nbformat": 4,
 "nbformat_minor": 4
}
