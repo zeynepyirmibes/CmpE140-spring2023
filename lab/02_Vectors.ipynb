{
 "cells": [
  {
   "cell_type": "code",
   "execution_count": null,
   "metadata": {},
   "outputs": [],
   "source": [
    "options(jupyter.rich_display = FALSE)"
   ]
  },
  {
   "cell_type": "markdown",
   "metadata": {},
   "source": [
    "# LAB 02 - VECTORS"
   ]
  },
  {
   "cell_type": "markdown",
   "metadata": {},
   "source": [
    "## Warm Up"
   ]
  },
  {
   "cell_type": "markdown",
   "metadata": {},
   "source": [
    "Given the variables\n",
    "\n",
    "```r\n",
    "account_balance <- 1000\n",
    "interest_rate <-  0.10\n",
    "```\n",
    " \n",
    " update the variable **account_balance** by adding the interest and print the updated value."
   ]
  },
  {
   "cell_type": "code",
   "execution_count": null,
   "metadata": {},
   "outputs": [],
   "source": [
    "# write your code lines below\n",
    "\n",
    "\n",
    "# end of your code"
   ]
  },
  {
   "cell_type": "markdown",
   "metadata": {},
   "source": [
    "An employee wants to calculate the raise in dollar amount and in percent (%) she got last week. \n",
    "\n",
    "```r\n",
    "previous_salary <- 5000\n",
    "current_salary <- 5200\n",
    "```\n",
    "\n",
    "show the raise (in dollars) and (in percent)."
   ]
  },
  {
   "cell_type": "code",
   "execution_count": null,
   "metadata": {
    "scrolled": true
   },
   "outputs": [],
   "source": []
  },
  {
   "cell_type": "markdown",
   "metadata": {},
   "source": [
    "#  Vectors"
   ]
  },
  {
   "cell_type": "markdown",
   "metadata": {},
   "source": [
    "## Initialization, Arithmetics & Functions"
   ]
  },
  {
   "cell_type": "markdown",
   "metadata": {},
   "source": [
    "Let's initalize two vectors where **A** has 4, 6, 7 and **B** has 2, 14, 9.\n",
    "\n",
    "Find the the results for: \n",
    "\n",
    "```r\n",
    "A + B, \n",
    "A - B, \n",
    "A * B, \n",
    "A / B, \n",
    "2 * (A + B) - 3\n",
    "```"
   ]
  },
  {
   "cell_type": "code",
   "execution_count": null,
   "metadata": {},
   "outputs": [],
   "source": [
    "# write your code lines below\n",
    "\n",
    "\n",
    "# end of your code"
   ]
  },
  {
   "cell_type": "markdown",
   "metadata": {},
   "source": [
    "Let's initialize vector **C** with values 5, 8, 11, 5, 2, 1\n",
    "\n",
    "Find the results for:\n",
    "\n",
    "```r\n",
    "C > A\n",
    "C + A\n",
    "C + (B * 3)\n",
    "```"
   ]
  },
  {
   "cell_type": "code",
   "execution_count": null,
   "metadata": {},
   "outputs": [],
   "source": [
    "# write your code lines below\n",
    "\n",
    "# end of your code"
   ]
  },
  {
   "cell_type": "markdown",
   "metadata": {},
   "source": [
    "Let's:\n",
    "\n",
    " 1. add up all elements in **A**\n",
    " 2. multiply all elements in **B**\n",
    "\n",
    "_(hint: use built-in functions, `sum()` and `prod()`)_"
   ]
  },
  {
   "cell_type": "code",
   "execution_count": null,
   "metadata": {},
   "outputs": [],
   "source": [
    "# write your code lines below\n",
    "\n",
    "# end of your code"
   ]
  },
  {
   "cell_type": "markdown",
   "metadata": {},
   "source": [
    "## Vector Indexing"
   ]
  },
  {
   "cell_type": "markdown",
   "metadata": {},
   "source": [
    "Let's initialize vector for the **students** of Beacon Hills High School (Jason, Lydia, Scott and Stiles) and print the vector."
   ]
  },
  {
   "cell_type": "code",
   "execution_count": null,
   "metadata": {},
   "outputs": [],
   "source": [
    "# write your code lines below\n",
    "\n",
    "# end of your code"
   ]
  },
  {
   "cell_type": "markdown",
   "metadata": {},
   "source": [
    "Then add a new transfer student **\"Allison\"** to the vector and print the updated vector."
   ]
  },
  {
   "cell_type": "code",
   "execution_count": null,
   "metadata": {},
   "outputs": [],
   "source": [
    "# write your code lines below\n",
    "\n",
    "# end of your code"
   ]
  },
  {
   "cell_type": "markdown",
   "metadata": {},
   "source": [
    "Finally show the number of students.\n",
    "\n",
    "_Hint: You can use `length()` function_"
   ]
  },
  {
   "cell_type": "code",
   "execution_count": null,
   "metadata": {},
   "outputs": [],
   "source": [
    "# write your code lines below\n",
    "\n",
    "\n",
    "# end of your code"
   ]
  },
  {
   "cell_type": "markdown",
   "metadata": {},
   "source": [
    "Now, let's list the students:\n",
    "\n",
    " 1. 1st student\n",
    " 2. 3rd student \n",
    " 3. 2nd and 4th students\n",
    " 4. from 2nd to 4th student"
   ]
  },
  {
   "cell_type": "code",
   "execution_count": null,
   "metadata": {},
   "outputs": [],
   "source": [
    "# write your code lines below\n",
    "\n",
    "\n",
    "# end of your code"
   ]
  },
  {
   "cell_type": "markdown",
   "metadata": {},
   "source": [
    "Now, list the students by excluding: \n",
    " \n",
    " 1. 5th student\n",
    " 2. 2nd and 3rd students"
   ]
  },
  {
   "cell_type": "code",
   "execution_count": null,
   "metadata": {},
   "outputs": [],
   "source": [
    "# write your code lines below\n",
    "\n",
    "# end of your code"
   ]
  },
  {
   "cell_type": "markdown",
   "metadata": {},
   "source": [
    "use `TRUE` and `FALSE` statements to list the students:\n",
    "\n",
    " - 2nd and 4th students"
   ]
  },
  {
   "cell_type": "code",
   "execution_count": null,
   "metadata": {},
   "outputs": [],
   "source": [
    "# write your code lines below\n",
    "\n",
    "# end of your code"
   ]
  },
  {
   "cell_type": "markdown",
   "metadata": {},
   "source": [
    "## Question 1\n",
    "\n",
    "Suppose you have two vectors x and y with the following data:\n",
    "\n",
    "```r\n",
    "x <- c(1, 2, 3, 4, 5)\n",
    "\n",
    "y <- c(2, 3, 5, 6, 7)\n",
    "\n",
    "```\n",
    "\n",
    "What is the dot product of x and y?\n",
    "\n",
    "Your output should be:\n",
    "\n",
    "\n",
    "```r\n",
    "82\n",
    "\n",
    "```\n",
    "\n",
    "**Solution:**\n",
    "\n",
    "The dot product of two vectors x and y is defined as the sum of the products of corresponding entries in the vectors. In other words:\n",
    "\n",
    "x . y = x1 * y1 + x2 * y2 + ... + xn * yn\n",
    "\n",
    "So the solve this we can use the \"sum\" function with vectorized multiplication."
   ]
  },
  {
   "cell_type": "code",
   "execution_count": null,
   "metadata": {},
   "outputs": [],
   "source": []
  },
  {
   "cell_type": "markdown",
   "metadata": {},
   "source": [
    "## Named vectors"
   ]
  },
  {
   "cell_type": "markdown",
   "metadata": {},
   "source": [
    "Let's create a new \n",
    "vector for the grades of the students in Beacon Hills High for the subject Math.\n",
    "\n",
    "|Name|Grade|\n",
    "|:---|:---:|\n",
    "|Jason|46|\n",
    "|Lydia|98|\n",
    "|Scott|51|\n",
    "|Stiles|84|\n",
    "|Allison|unknown (because she just transferred)|\n",
    "\n",
    "_Hint: You can use `names()` to assign names to a vector_"
   ]
  },
  {
   "cell_type": "code",
   "execution_count": null,
   "metadata": {},
   "outputs": [],
   "source": [
    "# write your code lines below\n",
    "\n",
    "\n",
    "# end of your code"
   ]
  },
  {
   "cell_type": "markdown",
   "metadata": {},
   "source": [
    "Now retrieve the grades of **Stiles** and **Scott**."
   ]
  },
  {
   "cell_type": "code",
   "execution_count": null,
   "metadata": {},
   "outputs": [],
   "source": [
    "# write your code lines below\n",
    "\n",
    "\n",
    "# end of your code"
   ]
  },
  {
   "cell_type": "markdown",
   "metadata": {},
   "source": [
    "Let's assign a grade for **\"Allison\"** now that she took her first Math exam in Beacon Hills High which is **76**.\n",
    "\n",
    "Show the grades vector **before** and **after** updating Allison's grade."
   ]
  },
  {
   "cell_type": "code",
   "execution_count": null,
   "metadata": {},
   "outputs": [],
   "source": [
    "# write your code lines below\n",
    "\n",
    "# end of your code"
   ]
  },
  {
   "cell_type": "markdown",
   "metadata": {},
   "source": [
    "Now, let's find out the students that got grades **higher than 60** and their grades.\n"
   ]
  },
  {
   "cell_type": "code",
   "execution_count": null,
   "metadata": {},
   "outputs": [],
   "source": [
    "# write your code lines below\n",
    "\n",
    "\n",
    "# end of your code"
   ]
  },
  {
   "cell_type": "markdown",
   "metadata": {},
   "source": [
    "Suddenly, Math Proffessor decides to add up **5** points to students whose grades are lower than **60** for the sake of motivation for the next exam.\n",
    "\n",
    "Show grades vector before and after updating it  accordingly."
   ]
  },
  {
   "cell_type": "code",
   "execution_count": null,
   "metadata": {},
   "outputs": [],
   "source": [
    "# write your code lines below\n",
    "\n",
    "# end of your code"
   ]
  },
  {
   "cell_type": "markdown",
   "metadata": {},
   "source": [
    "Now Let's try to sort the grades vector in descending order.\n",
    "\n",
    "_Hint: We will use another built-in function, `sort()`_"
   ]
  },
  {
   "cell_type": "code",
   "execution_count": null,
   "metadata": {},
   "outputs": [],
   "source": [
    "# write your code lines below\n",
    "\n",
    "\n",
    "# end of your code"
   ]
  },
  {
   "cell_type": "markdown",
   "metadata": {},
   "source": [
    "How about sorting grades vector based on students desk numbers?\n",
    "\n",
    "First create a new vector for desk numbers.\n",
    "\n",
    "|Name|desk number|\n",
    "|:---|:---:|\n",
    "|Jason|2|\n",
    "|Lydia|1|\n",
    "|Scott|5|\n",
    "|Stiles|5|\n",
    "|Allison|3|\n",
    "\n",
    "Then use this new vector to sort **grades** vector.\n",
    "\n",
    "_Hint: Use `order()` function._"
   ]
  },
  {
   "cell_type": "code",
   "execution_count": null,
   "metadata": {},
   "outputs": [],
   "source": [
    "# write your code lines below\n",
    "\n",
    "\n",
    "# end of your code"
   ]
  },
  {
   "cell_type": "markdown",
   "metadata": {},
   "source": [
    "Finally, let's remove **Scott** from the grades vector, because he decides to be a wanderer werewolf - no longer a student.\n",
    "\n",
    "Show grades vector before and after removing **Scott**."
   ]
  },
  {
   "cell_type": "code",
   "execution_count": null,
   "metadata": {},
   "outputs": [],
   "source": [
    "# write your code lines below\n",
    "\n",
    "# end of your code"
   ]
  },
  {
   "cell_type": "markdown",
   "metadata": {},
   "source": [
    "## Question 2\n",
    "\n",
    "In order to convert a weight from kilograms to pounds, you need to use a conversion factor of 2.20462. This factor is used because there are approximately 2.20462 pounds in one kilogram. With using that information ;\n",
    "\n",
    "```r\n",
    "\n",
    "kilograms <- c(80, 93, 147, 53, 71, 18, 140)\n",
    "\n",
    "```\n",
    "\n",
    "Convert these measurements to pounds.\n",
    "\n",
    "Your output should be:\n",
    "\n",
    "\n",
    "```r\n",
    "176.36960 205.02966 324.07914 116.84486 156.52802  39.68316 308.64680\n",
    "\n",
    "```"
   ]
  },
  {
   "cell_type": "code",
   "execution_count": null,
   "metadata": {},
   "outputs": [],
   "source": []
  },
  {
   "cell_type": "markdown",
   "metadata": {},
   "source": [
    "## Generating sequences"
   ]
  },
  {
   "cell_type": "markdown",
   "metadata": {},
   "source": [
    "Create and store a sequence of values from 25 to 90 (increase by 1) by:\n",
    "\n",
    "Use `seq()` function and `:` operator"
   ]
  },
  {
   "cell_type": "code",
   "execution_count": null,
   "metadata": {},
   "outputs": [],
   "source": [
    "# write your code lines below\n",
    "\n",
    "\n",
    "\n",
    "# end of your code"
   ]
  },
  {
   "cell_type": "markdown",
   "metadata": {},
   "source": [
    "Create and store a sequence of values from 5 to −11 that progresses in steps of 0.3."
   ]
  },
  {
   "cell_type": "code",
   "execution_count": null,
   "metadata": {},
   "outputs": [],
   "source": [
    "# write your code lines below\n",
    "\n",
    "\n",
    "# end of your code"
   ]
  },
  {
   "cell_type": "markdown",
   "metadata": {},
   "source": [
    "## Exercises from Lecture"
   ]
  },
  {
   "cell_type": "markdown",
   "metadata": {},
   "source": [
    "A set of temperature measurements are given in Fahrenheit scale as follows:\n",
    "\n",
    "```r\n",
    "    temperatures <- c(87, 89, 101, 91, 86, 71, 76)\n",
    "```\n",
    "\n",
    "Convert these measurements to Celsius scale."
   ]
  },
  {
   "cell_type": "code",
   "execution_count": null,
   "metadata": {},
   "outputs": [],
   "source": [
    "# write your code lines below\n",
    "\n",
    "\n",
    "\n",
    "# end of your code"
   ]
  },
  {
   "cell_type": "markdown",
   "metadata": {},
   "source": [
    "Consider the following data\n",
    "\n",
    "|Country|Area|Population|\n",
    "|------|------|------|\n",
    "|Russia|17,098,242|142,257,519|\n",
    "|United States|9,833,517|326,625,791|\n",
    "|China|9,596,960|1,379,302,771|                                    \n",
    "|Brazil|8,515,770|207,353,391|                \n",
    "|Australia|7,741,220|23,232,413|\n",
    "|India|3,287,263|1,281,935,911|\n",
    "|Turkey|783,562|80,845,215|\n",
    "|France|643,801|67,106,161|\n",
    "|Japan|377,915|126,451,398|\n",
    "|United Kingdom|243,610|65,648,100|\n",
    "\n",
    "1. Create two vectors **area** and **population** that hold the data in the respective columns. Label the elements in each vector with the country name.\n",
    "\n",
    "2. Create a new vector called **density** that holds the population density of the countries.\n",
    "\n",
    "3. Print the names of countries sorted by population density, in descending order (from highest to lowest)."
   ]
  },
  {
   "cell_type": "code",
   "execution_count": null,
   "metadata": {},
   "outputs": [],
   "source": [
    "# write your code lines below\n",
    "\n",
    "\n",
    "# end of your code"
   ]
  },
  {
   "cell_type": "markdown",
   "metadata": {},
   "source": [
    "## Question 3\n",
    " MGM's one week weather estimations are respectively 15,16,13,15,14,14,17 C° from Sunday to Saturday. Measured temperatures for that week are 17 C° for each day.\n",
    " First assign the estimated values of MGM to vector named \"estimations\" and compare to the real values.\n",
    " For comparison, what is the mean difference between estimations and real values?\n",
    " Which days are coincide with forecast?\n",
    "\n"
   ]
  },
  {
   "cell_type": "code",
   "execution_count": null,
   "metadata": {
    "scrolled": true
   },
   "outputs": [],
   "source": []
  },
  {
   "cell_type": "markdown",
   "metadata": {},
   "source": [
    "## Question 4\n",
    "\n",
    "In the first 18 seasons of \"Family Guy,\" there are a total of 1008 episodes. The show features a large cast of characters, including the Griffin family (Peter, Lois, Meg, Chris, and Stewie), their neighbors (Quagmire, Cleveland, and Joe), and other recurring characters (such as Brian, the family dog).\n",
    "\n",
    "Based on available data, we know that:\n",
    "\n",
    "On average, each episode is approximately 30 minutes long.\n",
    "\n",
    "The average speaking rate of a character on the show is approximately 120 words per minute.\n",
    "\n",
    "Assuming that the main characters( Peter, Lois, Meg, Chris, Stewie and Brian) talks twice as much as the side characters(Quagmire, Cleveland, and Joe) in an episode. %20 Quagmire’s words get censored since they were offensive. Using the following information, estimate the total number of words spoken by Peter and Quagmire in the show.\n",
    "\n",
    "Your output should be:\n",
    "\n",
    "\n",
    "```r\n",
    "570240\n",
    "\n",
    "```"
   ]
  },
  {
   "cell_type": "code",
   "execution_count": null,
   "metadata": {},
   "outputs": [],
   "source": []
  },
  {
   "cell_type": "markdown",
   "metadata": {},
   "source": [
    "## Question 5\n",
    "\n",
    "Elif Sude and Berkay are students of economics in Boğaziçi University. They are conducting a research on their EC208 class, about developing countries. They have a dataset, given below, about some countries' national currency units exchange rate vs US Dollars and the subcontinents they are on. Elif Sude wants to study countries only in Asia and her mission is to decreasingly sort the Asian countries' exchange rates/USD.\n",
    "\n",
    "- Singapore - 1.4 - Southeast Asia\n",
    "- Albania - 113.0 - Eastern Europe\n",
    "- Argentina\t- 130.6 - South America\n",
    "- Hong Kong\t- 7.8 - East Asia\n",
    "- Portugal - 0.9 - Southern Europe\n",
    "- Korea\t- 1291.4 - East Asia\n",
    "- Madagascar - 4096.1 - East Africa\n",
    "- Morocco\t- 10.2 - North Africa\n",
    "- Indonesia\t- 14849.9 - Southeast Asia\n",
    "- Saudi Arabia - 3.8 - Middle East (Asia)\n",
    "\n",
    "To do what she wants,\n",
    "Firstly, Elif Sude should put the exchange rates into a vector.\n",
    "Then, Elif Sude will assign the exchange rates their countries.\n",
    "And lastly, Elif Sude should subset the vector, so that she has only Asian countries left and then she should sort them decreasingly.\n",
    "\n",
    "Your output should be,\n",
    "\n",
    "```r\n",
    "\n",
    "Indonesia   Korea   Hong Kong   Saudi Arabia   Singapore \n",
    "  14849.9  1291.4         7.8            3.8         1.4 \n",
    "\n",
    "```"
   ]
  },
  {
   "cell_type": "code",
   "execution_count": null,
   "metadata": {},
   "outputs": [],
   "source": []
  },
  {
   "cell_type": "markdown",
   "metadata": {},
   "source": [
    "## Question 6\n",
    "\n",
    "Ali, Hilal, Yunus, Ayten, Yasin and Azra applied to a company's internship announcement. This company will invite the three people with the highest GPA for an interview. The GPA of these 6 people is 3.92 , 2.78 , 3.84 , 3.11 , 2.97 , 3.55 respectively\n",
    "Find out which students the company will select and the students' GPA.\n",
    "\n",
    "Your output should be:\n",
    "\n",
    "\n",
    "```r\n",
    " Ali Yunus  Azra \n",
    " 3.92  3.84  3.55 \n",
    "\n",
    "```\n"
   ]
  },
  {
   "cell_type": "code",
   "execution_count": null,
   "metadata": {},
   "outputs": [],
   "source": []
  }
 ],
 "metadata": {
  "kernelspec": {
   "display_name": "Python 3",
   "language": "python",
   "name": "python3"
  },
  "language_info": {
   "codemirror_mode": {
    "name": "ipython",
    "version": 3
   },
   "file_extension": ".py",
   "mimetype": "text/x-python",
   "name": "python",
   "nbconvert_exporter": "python",
   "pygments_lexer": "ipython3",
   "version": "3.6.7"
  },
  "toc": {
   "nav_menu": {},
   "number_sections": true,
   "sideBar": true,
   "skip_h1_title": false,
   "title_cell": "Table of Contents",
   "title_sidebar": "Contents",
   "toc_cell": false,
   "toc_position": {},
   "toc_section_display": true,
   "toc_window_display": false
  },
  "varInspector": {
   "cols": {
    "lenName": 16,
    "lenType": 16,
    "lenVar": 40
   },
   "kernels_config": {
    "python": {
     "delete_cmd_postfix": "",
     "delete_cmd_prefix": "del ",
     "library": "var_list.py",
     "varRefreshCmd": "print(var_dic_list())"
    },
    "r": {
     "delete_cmd_postfix": ") ",
     "delete_cmd_prefix": "rm(",
     "library": "var_list.r",
     "varRefreshCmd": "cat(var_dic_list()) "
    }
   },
   "types_to_exclude": [
    "module",
    "function",
    "builtin_function_or_method",
    "instance",
    "_Feature"
   ],
   "window_display": false
  }
 },
 "nbformat": 4,
 "nbformat_minor": 4
}
