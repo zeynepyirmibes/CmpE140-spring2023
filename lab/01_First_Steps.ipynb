{
 "cells": [
  {
   "cell_type": "markdown",
   "metadata": {},
   "source": [
    "# First steps in R"
   ]
  },
  {
   "cell_type": "markdown",
   "metadata": {
    "slideshow": {
     "slide_type": "slide"
    }
   },
   "source": [
    "### Lab Exercise 1\n",
    "\n",
    "Given the variables\n",
    "\n",
    "    A <- 13\n",
    "    B <- 27\n",
    "    C <- 14\n",
    "\n",
    "find the sum, mean and product of the three numbers. "
   ]
  },
  {
   "cell_type": "code",
   "execution_count": null,
   "metadata": {},
   "outputs": [],
   "source": []
  },
  {
   "cell_type": "markdown",
   "metadata": {},
   "source": [
    "### Lab Exercise 2\n",
    "\n",
    "Given the variables\n",
    "\n",
    "    num1 <- 13\n",
    "    num2 <- 5\n",
    "\n",
    "find the difference, power and remainder of the two numbers. "
   ]
  },
  {
   "cell_type": "code",
   "execution_count": null,
   "metadata": {},
   "outputs": [],
   "source": []
  },
  {
   "cell_type": "markdown",
   "metadata": {},
   "source": [
    "### Lab Exercise 3\n",
    "\n",
    "Using the formula below of compound interest, take the principal amount (A), interest rate (i) (per month) and duration (n) (months) and print the final amount.\n",
    "\n",
    "<img src=\"https://render.githubusercontent.com/render/math?math=\\large S = A * (1 %2B i/100)^{n}\">\n",
    "\n",
    "| Input     | Output  |\n",
    "| --------- | ------- |\n",
    "| 1000 12 5 | 1762.34 |\n",
    "| 500 12 5  | 881.17  |"
   ]
  },
  {
   "cell_type": "code",
   "execution_count": null,
   "metadata": {},
   "outputs": [],
   "source": []
  },
  {
   "cell_type": "markdown",
   "metadata": {},
   "source": [
    "### Lab Exercise 4\n",
    "\n",
    "How many seconds are there in 5 years, 2 months, 4 days, 3 hours and 2 minutes?\n",
    "\n",
    "* 1 year = 365 days\n",
    "* 1 month = 30 days"
   ]
  },
  {
   "cell_type": "code",
   "execution_count": null,
   "metadata": {},
   "outputs": [],
   "source": []
  }
 ],
 "metadata": {
  "kernelspec": {
   "display_name": "R",
   "language": "R",
   "name": "ir"
  },
  "language_info": {
   "codemirror_mode": "r",
   "file_extension": ".r",
   "mimetype": "text/x-r-source",
   "name": "R",
   "pygments_lexer": "r",
   "version": "3.6.1"
  }
 },
 "nbformat": 4,
 "nbformat_minor": 4
}
