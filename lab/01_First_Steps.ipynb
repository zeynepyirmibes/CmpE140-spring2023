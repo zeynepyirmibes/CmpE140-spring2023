{
 "cells": [
  {
   "cell_type": "markdown",
   "metadata": {},
   "source": [
    "# First steps in R"
   ]
  },
  {
   "cell_type": "markdown",
   "metadata": {
    "slideshow": {
     "slide_type": "slide"
    }
   },
   "source": [
    "### Lab Exercise 1\n",
    "\n",
    "Given the variables\n",
    "\n",
    "    A <- 13\n",
    "    B <- 27\n",
    "    C <- 14\n",
    "\n",
    "find the sum, mean and product of the three numbers. "
   ]
  },
  {
   "cell_type": "code",
   "execution_count": null,
   "metadata": {},
   "outputs": [],
   "source": []
  },
  {
   "cell_type": "markdown",
   "metadata": {},
   "source": [
    "### Lab Exercise 2\n",
    "\n",
    "Given the variables\n",
    "\n",
    "    num1 <- 13\n",
    "    num2 <- 5\n",
    "\n",
    "find the difference, power and remainder of the two numbers. "
   ]
  },
  {
   "cell_type": "code",
   "execution_count": null,
   "metadata": {},
   "outputs": [],
   "source": []
  },
  {
   "cell_type": "markdown",
   "metadata": {},
   "source": [
    "### Lab Exercise 3\n",
    "\n",
    "Using the formula below of compound interest, take the principal amount (A), interest rate (i) (per month) and duration (n) (months) and print the final amount.\n",
    "\n",
    "<img src=\"https://render.githubusercontent.com/render/math?math=\\large S = A * (1 %2B i/100)^{n}\">\n",
    "\n",
    "| Input     | Output  |\n",
    "| --------- | ------- |\n",
    "| 1000 12 5 | 1762.34 |\n",
    "| 500 12 5  | 881.17  |"
   ]
  },
  {
   "cell_type": "code",
   "execution_count": null,
   "metadata": {},
   "outputs": [],
   "source": []
  },
  {
   "cell_type": "markdown",
   "metadata": {},
   "source": [
    "### Lab Exercise 4\n",
    "\n",
    "How many seconds are there in 5 years, 2 months, 4 days, 3 hours and 2 minutes?\n",
    "\n",
    "* 1 year = 365 days\n",
    "* 1 month = 30 days"
   ]
  },
  {
   "cell_type": "code",
   "execution_count": null,
   "metadata": {},
   "outputs": [],
   "source": []
  },
  {
   "cell_type": "markdown",
   "metadata": {},
   "source": [
    "### Lab Exercise 5\n",
    "\n",
    "In economics, the formula for calculating future value (FV) of a present sum of money is given by FV = PV * (1 + r)^n, where PV is the present value of the money, r is the interest rate, and n is the number of periods.\n",
    "\n",
    "Calculate the future value of $1000 in 5 years, with an annual interest rate of 8% using the above formula."
   ]
  },
  {
   "cell_type": "code",
   "execution_count": null,
   "metadata": {},
   "outputs": [],
   "source": []
  },
  {
   "cell_type": "markdown",
   "metadata": {},
   "source": [
    "### Lab Exercise 6\n",
    "\n",
    "Find the square, square root, floor and ceiling of pi number sequantially and then multiply them all together.\n"
   ]
  },
  {
   "cell_type": "code",
   "execution_count": null,
   "metadata": {},
   "outputs": [],
   "source": []
  },
  {
   "cell_type": "markdown",
   "metadata": {},
   "source": [
    "### Lab Exercise 7\n",
    "\n",
    "Ece’s grandmother has a wall clock that lost time when it was out of battery. Thus, her grandmother wants her to correct it. When Ece asked how many hours it has lost, her grandmother answered that it has lost 50000 seconds to make fun of her. Now, Ece wants to correct the clock, but she does not want to move the wheel that changes the second 50000 times. Find how many hours, minutes and seconds 50000 has so that she can correct it easily.\n"
   ]
  },
  {
   "cell_type": "code",
   "execution_count": null,
   "metadata": {},
   "outputs": [],
   "source": []
  },
  {
   "cell_type": "markdown",
   "metadata": {},
   "source": [
    "### Lab Exercise 8\n",
    "\n",
    "Happy Cows Milk Company seeks to make an investment with past years' profit which is $100.000 . The manager of the company, Mrs. Nickelman, wants to decide which type of investment should they make. They have 2 options:\n",
    "\n",
    "1) Expanding the existing production lines\n",
    "2) Creating new production lines\n",
    "\n",
    "To decide, Mrs. Nickelman wants to use *\"Profitability Index\"* of both investments which is found by <br>\n",
    "<br>\n",
    "$\\ Profitability\\ Index(PI)\\ = \\frac{Present\\ Value(PV)\\ of\\ future\\ cash\\ flow}{Initial\\ Investment}$ <br>\n",
    "<br>\n",
    "formula. <br>\n",
    "\n",
    "The company's finance team calculated the PV's for both investments which are respectively $150.000 and $124.000 . According to this data, which investment should Mrs. Nickelman choose to make ? <br>\n",
    "\n",
    "(Hint: Mrs. Nickelman will choose the investment with a higher PI)"
   ]
  },
  {
   "cell_type": "code",
   "execution_count": null,
   "metadata": {},
   "outputs": [],
   "source": []
  },
  {
   "cell_type": "markdown",
   "metadata": {},
   "source": [
    "### Lab Exercise 9\n",
    "\n",
    "Ilgın is a nutritionist and he is trying to create a program to help his clients calculate their daily calorie intake based on their lifestyle and activity level. Create a program that should calculate the daily calorie intake for the client using the following formula:\n",
    "\n",
    "For males: BMR = (10 × weight in kg) + (6.25 × height in cm) - (5 × age in years) + 5\n",
    "\n",
    "For females: BMR = (10 × weight in kg) + (6.25 × height in cm) - (5 × age in years) - 161\n",
    "\n",
    "Daily Calorie Intake for Sedentary Person: BMR × 1.2\n",
    "Daily Calorie Intake for Active Person: BMR × 1.725\n",
    "\n",
    "\n",
    "What is the daily calorie intake for a 40-year-old male who weighs 80kg and is 175cm tall and leads an active lifestyle?\n",
    "\n",
    "What is the daily calorie intake for a 26-year-old female who weighs 63kg and is 168 tall and leads an sedentary lifestyle?"
   ]
  },
  {
   "cell_type": "code",
   "execution_count": null,
   "metadata": {},
   "outputs": [],
   "source": []
  }
 ],
 "metadata": {
  "kernelspec": {
   "display_name": "R",
   "language": "R",
   "name": "ir"
  },
  "language_info": {
   "codemirror_mode": "r",
   "file_extension": ".r",
   "mimetype": "text/x-r-source",
   "name": "R",
   "pygments_lexer": "r",
   "version": "3.6.1"
  }
 },
 "nbformat": 4,
 "nbformat_minor": 4
}
