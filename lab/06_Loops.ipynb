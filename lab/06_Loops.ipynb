{
  "nbformat": 4,
  "nbformat_minor": 0,
  "metadata": {
    "colab": {
      "provenance": [],
      "authorship_tag": "ABX9TyOfxY9oaaoiSheVIHcbnE8f"
    },
    "kernelspec": {
      "name": "python3",
      "display_name": "Python 3"
    },
    "language_info": {
      "name": "python"
    }
  },
  "cells": [
    {
      "cell_type": "markdown",
      "source": [
        "## Question 1\n",
        "\n",
        "Write a function to check if a given number is prime or not."
      ],
      "metadata": {
        "id": "Q5em3Ce5sfco"
      }
    },
    {
      "cell_type": "code",
      "source": [],
      "metadata": {
        "id": "goY96O_2sjP4"
      },
      "execution_count": null,
      "outputs": []
    },
    {
      "cell_type": "markdown",
      "source": [
        "## Question 2\n",
        "\n",
        " Write a function that sums the values in the given vectors in **\"x <- c(1,2,3,\"+\",1,2)\"** format. In the example, input contains two numbers, 123 and 12, and the digits of the numbers split by comma.\n",
        " For easy solution you should write two function. First one converts digits to numbers. Second function split the input by two from the plus sign and create two vectors. Then using first function, return the sum of this two vectors.\n",
        " \n",
        " Hint: Since the mode of the input is character, you should use as.numeric -a built-in function- to convert your vectors to numeric after spliting the input.\n",
        " \n",
        " First function examples:\n",
        "~~~\n",
        "> digit_to_number(c(1,2,3))\n",
        "[1] 123\n",
        "> digit_to_number(c(4,5))\n",
        "[1] 45\n",
        "~~~\n",
        "The final function examples:\n",
        "~~~\n",
        "> addition(c(1,1,\"+\",5,7))\n",
        "[1] 68\n",
        "> x <- c(1,9,7,\"+\",1,0,0,3)\n",
        "> addition(x)\n",
        "[1] 1200\n",
        "~~~"
      ],
      "metadata": {
        "id": "PTgj6mlcsjrN"
      }
    },
    {
      "cell_type": "code",
      "source": [
        "\n"
      ],
      "metadata": {
        "id": "U-QNKiUfstyZ"
      },
      "execution_count": null,
      "outputs": []
    },
    {
      "cell_type": "markdown",
      "source": [
        "## Question 3\n",
        "\n",
        "Create a function that calculates the sum of the first n natural numbers using a for loop.\n",
        "\n",
        "For example, \n",
        "~~~\n",
        "> sum_natural_numbers(10)\n",
        "55\n",
        "> sum_natural_numbers(50)\n",
        "1275\n",
        "~~~\n",
        "\n"
      ],
      "metadata": {
        "id": "cYIffdNtsxYD"
      }
    },
    {
      "cell_type": "code",
      "source": [],
      "metadata": {
        "id": "9ZwJO66RtB-D"
      },
      "execution_count": null,
      "outputs": []
    },
    {
      "cell_type": "markdown",
      "source": [
        "## Question 4\n",
        "\n",
        "The speed limit in Istanbul-Antalya Highway is 130 km/h. If you are faster than this speed by %10 percent, you get fined 500 Turkish liras + 100 times your sped above 130 kmh. Write a function that checks speeds of cars passed radar and fine them accordingly to their excess speed. The function should return a vector that contains their fines.\n",
        "\n",
        "Hint: Create an empty vector first.\n",
        "\n",
        "Test the function with some example speeds:\n",
        "~~~\n",
        "speeds <- c(90, 120, 130, 140, 160, 131)\n",
        "~~~\n",
        "Your output should be: \n",
        "~~~\n",
        "[1]   0   0   0   1500   3500   600\n",
        "~~~"
      ],
      "metadata": {
        "id": "9eS4LhVNtCwF"
      }
    },
    {
      "cell_type": "code",
      "source": [],
      "metadata": {
        "id": "957HvkGruTv1"
      },
      "execution_count": null,
      "outputs": []
    },
    {
      "cell_type": "markdown",
      "source": [
        "## Question 5\n",
        "\n",
        "Write a function named **hello** that takes an argument **n** and prints **\"hello\"** n times using a for loop\n",
        "\n",
        "\n",
        "```R\n",
        "> hello(2)\n",
        "[1] \"hello\"\n",
        "[1] \"hello\"\n",
        "```\n",
        "\n",
        "**Note:** This is just a warm up. In our usual examples, we will require our function to RETURN not PRINT\n",
        "\n",
        "**Note 2:** It is usually bad practice to use short and unintuitive object or argument names such as **n**, but for time constraints in the lab and due to the simplicity of the examples, we make some exceptions here."
      ],
      "metadata": {
        "id": "cDU5ar14uYqI"
      }
    },
    {
      "cell_type": "code",
      "source": [],
      "metadata": {
        "id": "rvVxnE5VubvB"
      },
      "execution_count": null,
      "outputs": []
    },
    {
      "cell_type": "markdown",
      "source": [
        "## Question 6\n",
        "\n",
        "Write a program to display a right angle triangle with **n** number of rows, like below.\n",
        "\n",
        "\n",
        "```R\n",
        "> trinumber(9)\n",
        "1\n",
        "12\n",
        "123\n",
        "1234\n",
        "12345\n",
        "123456\n",
        "1234567\n",
        "12345678\n",
        "123456789\n",
        "```\n",
        "\n",
        "```R\n",
        "> trinumber(5)\n",
        "1\n",
        "12\n",
        "123\n",
        "1234\n",
        "12345\n",
        "```\n",
        "\n",
        "**Hint:** At each row, you can iterate from 1 to the row number."
      ],
      "metadata": {
        "id": "pPJGFu-EucDV"
      }
    },
    {
      "cell_type": "code",
      "source": [],
      "metadata": {
        "id": "aqhP3z-Cuhee"
      },
      "execution_count": null,
      "outputs": []
    },
    {
      "cell_type": "markdown",
      "source": [
        "## Question 7\n",
        "\n",
        "Factorial of n (n!) is the product of all integers from 1 to n. Hence: 5! = 120\n",
        "\n",
        "Write a function called **facto_for** that takes an argument **n** and calculates the factorial of n using a for loop as such:\n",
        "\n",
        "```R\n",
        "facto_for(5)\n",
        "facto_for(10)\n",
        "\n",
        "[1] 120\n",
        "[1] 3628800\n",
        "```"
      ],
      "metadata": {
        "id": "uaxApfFmuho4"
      }
    },
    {
      "cell_type": "code",
      "source": [],
      "metadata": {
        "id": "05BKiAxyupuX"
      },
      "execution_count": null,
      "outputs": []
    },
    {
      "cell_type": "markdown",
      "source": [
        "## Question 8\n",
        "\n",
        "Write a function called **facto_while** that takes an argument **n** and calculates the factorial of n using a while loop as such:\n",
        "\n",
        "```R\n",
        "facto_while(4)\n",
        "facto_while(8)\n",
        "\n",
        "[1] 24\n",
        "[1] 40320\n",
        "```"
      ],
      "metadata": {
        "id": "cBp3Hqdhup1n"
      }
    },
    {
      "cell_type": "code",
      "source": [],
      "metadata": {
        "id": "5OuFaKhxuseY"
      },
      "execution_count": null,
      "outputs": []
    },
    {
      "cell_type": "markdown",
      "source": [
        "## Question 9\n",
        "\n",
        "Write a function called **divisors** that takes an argument **n**, and collects and returns the divisors of **n** as such:\n",
        "\n",
        "```R\n",
        "divisors(60)\n",
        "divisors(23)\n",
        "divisors(100)\n",
        "\n",
        "[1]  1  2  3  4  5  6 10 12 15 20 30 60\n",
        "[1]  1 23\n",
        "[1]  1   2   4   5  10  20  25  50 100\n",
        "```"
      ],
      "metadata": {
        "id": "JEMuimFNusl7"
      }
    },
    {
      "cell_type": "code",
      "source": [],
      "metadata": {
        "id": "pjNmiSWluvmH"
      },
      "execution_count": null,
      "outputs": []
    },
    {
      "cell_type": "markdown",
      "source": [
        "## Question 10\n",
        "\n",
        "Prime factorization is is the process of decomposition of a composite number into a product of prime numbers.\n",
        "\n",
        "![Prime Factorization (Wiki)](https://upload.wikimedia.org/wikipedia/commons/2/2b/PrimeDecompositionExample.png)\n",
        "\n",
        "Lets write a function named **prime_factors** which accepts a positive number and returns a vector containing its prime factors as such:\n",
        "\n",
        "```r\n",
        "> prime_factors(85)\n",
        "[1]  5 17\n",
        "\n",
        "> prime_factors(1092)\n",
        "[1]  2  2  3  7 13\n",
        "```\n",
        "\n",
        "**Hint**: Run a while loop inside a for loop. You should use your for loop to iterate possible divisors and your while loop to check if your number can be divided to that divisor without a remainder and to append that divisor to your output if that's the case. Don't forget to update your number accordingly within the while loop.\n"
      ],
      "metadata": {
        "id": "2OxXL2ASuvsG"
      }
    },
    {
      "cell_type": "code",
      "source": [],
      "metadata": {
        "id": "DykRhzp4uzoM"
      },
      "execution_count": null,
      "outputs": []
    },
    {
      "cell_type": "markdown",
      "source": [
        "## Question 11\n",
        "\n",
        "Write a function named **binary** that takes an argument **n**, an integer value, and returns the binary representation (base 2) as a vector of 1's and 0's as such:\n",
        "\n",
        "\n",
        "```R\n",
        "> binary(15)\n",
        "[1] 1 1 1 1\n",
        "\n",
        "> binary(10)\n",
        "[1] 1 0 1 0\n",
        "\n",
        "> binary(16)\n",
        "[1] 1 0 0 0 0\n",
        "```\n",
        "\n",
        "**Note**: In decimal (base 10), all digits are powers of 10 starting with 10<sup>0</sup> as the least significant (rightmost) digit. In binary, all digits are powers of 2 starting with 2<sup>0</sup> as the least significant (rightmost) digit."
      ],
      "metadata": {
        "id": "ylXbg4y8u0xY"
      }
    },
    {
      "cell_type": "code",
      "source": [],
      "metadata": {
        "id": "XcO65h3_vhVe"
      },
      "execution_count": null,
      "outputs": []
    },
    {
      "cell_type": "markdown",
      "source": [
        "## Question 12\n",
        "\n",
        "Now lets write a function called **from_binary** which takes the vector of binary representation of a decimal number and calculates its decimal form.\n",
        "\n",
        "You can use the function **binary** above to test your code as such:\n",
        "\n",
        "```R\n",
        "> from_binary(binary(15))\n",
        "[1] 15\n",
        "\n",
        "> from_binary(binary(10))\n",
        "[1] 10\n",
        "\n",
        "> from_binary(binary(16))\n",
        "[1] 16\n",
        "```\n",
        "\n",
        "**Hint**: Remember; since given vector elements are in (base 2), you should iterate over the given vector and accumulate decimal form of each elements to find the corresponding decimal number.\n",
        "\n",
        "Example: Binary representation of the decimal number 10 is 1010.\n",
        "\n",
        "$0 \\times 2^0 + 1 \\times 2^1 + 0 \\times 2^2 + 1 \\times 2^3 = 10$"
      ],
      "metadata": {
        "id": "goq0Ji1Yv6JC"
      }
    },
    {
      "cell_type": "code",
      "source": [],
      "metadata": {
        "id": "21GZA_oVv82w"
      },
      "execution_count": null,
      "outputs": []
    }
  ]
}