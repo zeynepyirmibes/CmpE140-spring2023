{
 "cells": [
  {
   "cell_type": "markdown",
   "metadata": {},
   "source": [
    "# LAB 06 - LOOPS\n",
    "\n",
    "## QUESTION 1\n",
    "\n",
    "Write a function named **hello** that takes an argument **n** and prints **\"hello\"** n times using a for loop\n",
    "\n",
    "\n",
    "```R\n",
    "> hello(2)\n",
    "[1] \"hello\"\n",
    "[1] \"hello\"\n",
    "```\n",
    "\n",
    "**Note:** This is just a warm up. In our usual examples, we will require our function to RETURN not PRINT\n",
    "\n",
    "**Note 2:** It is usually bad practice to use short and unintuitive object or argument names such as **n**, but for time constraints in the lab and due to the simplicity of the examples, we make some exceptions here."
   ]
  },
  {
   "cell_type": "markdown",
   "metadata": {},
   "source": [
    "## SOLUTION 1"
   ]
  },
  {
   "cell_type": "code",
   "execution_count": null,
   "metadata": {},
   "outputs": [],
   "source": []
  },
  {
   "cell_type": "markdown",
   "metadata": {},
   "source": [
    "## QUESTION 2\n",
    "\n",
    "Write a program to display a right angle triangle with **n** number of rows, like below.\n",
    "\n",
    "\n",
    "```R\n",
    "> trinumber(9)\n",
    "1\n",
    "12\n",
    "123\n",
    "1234\n",
    "12345\n",
    "123456\n",
    "1234567\n",
    "12345678\n",
    "123456789\n",
    "```\n",
    "\n",
    "```R\n",
    "> trinumber(5)\n",
    "1\n",
    "12\n",
    "123\n",
    "1234\n",
    "12345\n",
    "```\n",
    "\n",
    "**Hint:** At each row, you can iterate from 1 to the row number."
   ]
  },
  {
   "cell_type": "markdown",
   "metadata": {},
   "source": [
    "## SOLUTION 2"
   ]
  },
  {
   "cell_type": "code",
   "execution_count": 19,
   "metadata": {},
   "outputs": [
    {
     "name": "stdout",
     "output_type": "stream",
     "text": [
      "1\n",
      "12\n",
      "123\n",
      "1234\n",
      "12345\n",
      "123456\n",
      "1234567\n",
      "12345678\n",
      "123456789\n"
     ]
    }
   ],
   "source": []
  },
  {
   "cell_type": "markdown",
   "metadata": {},
   "source": [
    "## QUESTION 3\n",
    "\n",
    "Factorial of n (n!) is the product of all integers from 1 to n. Hence: 5! = 120\n",
    "\n",
    "Write a function called **facto_for** that takes an argument **n** and calculates the factorial of n using a for loop as such:\n",
    "\n",
    "```R\n",
    "facto_for(5)\n",
    "facto_for(10)\n",
    "\n",
    "[1] 120\n",
    "[1] 3628800\n",
    "```"
   ]
  },
  {
   "cell_type": "markdown",
   "metadata": {},
   "source": [
    "## SOLUTION 3"
   ]
  },
  {
   "cell_type": "code",
   "execution_count": null,
   "metadata": {},
   "outputs": [],
   "source": []
  },
  {
   "cell_type": "markdown",
   "metadata": {},
   "source": [
    "## QUESTION 4\n",
    "\n",
    "Write a function called **facto_while** that takes an argument **n** and calculates the factorial of n using a while loop as such:\n",
    "\n",
    "```R\n",
    "facto_while(4)\n",
    "facto_while(8)\n",
    "\n",
    "[1] 24\n",
    "[1] 40320\n",
    "```"
   ]
  },
  {
   "cell_type": "markdown",
   "metadata": {},
   "source": [
    "## SOLUTION 4"
   ]
  },
  {
   "cell_type": "code",
   "execution_count": null,
   "metadata": {},
   "outputs": [],
   "source": []
  },
  {
   "cell_type": "markdown",
   "metadata": {},
   "source": [
    "# QUESTION 5\n",
    "\n",
    "Write a function called **divisors** that takes an argument **n**, and collects and returns the divisors of **n** as such:\n",
    "\n",
    "```R\n",
    "divisors(60)\n",
    "divisors(23)\n",
    "divisors(100)\n",
    "\n",
    "[1]  1  2  3  4  5  6 10 12 15 20 30 60\n",
    "[1]  1 23\n",
    "[1]  1   2   4   5  10  20  25  50 100\n",
    "```"
   ]
  },
  {
   "cell_type": "markdown",
   "metadata": {},
   "source": [
    "# SOLUTION 5"
   ]
  },
  {
   "cell_type": "code",
   "execution_count": null,
   "metadata": {},
   "outputs": [],
   "source": []
  },
  {
   "cell_type": "markdown",
   "metadata": {},
   "source": [
    "# QUESTION 6\n",
    "\n",
    "Prime factorization is is the process of decomposition of a composite number into a product of prime numbers.\n",
    "\n",
    "![Prime Factorization (Wiki)](https://upload.wikimedia.org/wikipedia/commons/2/2b/PrimeDecompositionExample.png)\n",
    "\n",
    "Lets write a function named **prime_factors** which accepts a positive number and returns a vector containing its prime factors as such:\n",
    "\n",
    "```r\n",
    "> prime_factors(85)\n",
    "[1]  5 17\n",
    "\n",
    "> prime_factors(1092)\n",
    "[1]  2  2  3  7 13\n",
    "```\n",
    "\n",
    "**Hint**: Run a while loop inside a for loop. You should use your for loop to iterate possible divisors and your while loop to check if your number can be divided to that divisor without a remainder and to append that divisor to your output if that's the case. Don't forget to update your number accordingly within the while loop.\n"
   ]
  },
  {
   "cell_type": "markdown",
   "metadata": {},
   "source": [
    "# SOLUTION 6"
   ]
  },
  {
   "cell_type": "code",
   "execution_count": null,
   "metadata": {},
   "outputs": [],
   "source": []
  },
  {
   "cell_type": "markdown",
   "metadata": {},
   "source": [
    "# QUESTION 7\n",
    "\n",
    "Write a function named **binary** that takes an argument **n**, an integer value, and returns the binary representation (base 2) as a vector of 1's and 0's as such:\n",
    "\n",
    "\n",
    "```R\n",
    "> binary(15)\n",
    "[1] 1 1 1 1\n",
    "\n",
    "> binary(10)\n",
    "[1] 1 0 1 0\n",
    "\n",
    "> binary(16)\n",
    "[1] 1 0 0 0 0\n",
    "```\n",
    "\n",
    "**Note**: In decimal (base 10), all digits are powers of 10 starting with 10<sup>0</sup> as the least significant (rightmost) digit. In binary, all digits are powers of 2 starting with 2<sup>0</sup> as the least significant (rightmost) digit."
   ]
  },
  {
   "cell_type": "markdown",
   "metadata": {},
   "source": [
    "# SOLUTION 7"
   ]
  },
  {
   "cell_type": "code",
   "execution_count": null,
   "metadata": {},
   "outputs": [],
   "source": []
  },
  {
   "cell_type": "markdown",
   "metadata": {},
   "source": [
    "# QUESTION 8\n",
    "\n",
    "Now lets write a function called **from_binary** which takes the vector of binary representation of a decimal number and calculates its decimal form.\n",
    "\n",
    "You can use the function **binary** above to test your code as such:\n",
    "\n",
    "```R\n",
    "> from_binary(binary(15))\n",
    "[1] 15\n",
    "\n",
    "> from_binary(binary(10))\n",
    "[1] 10\n",
    "\n",
    "> from_binary(binary(16))\n",
    "[1] 16\n",
    "```\n",
    "\n",
    "**Hint**: Remember; since given vector elements are in (base 2), you should iterate over the given vector and accumulate decimal form of each elements to find the corresponding decimal number.\n",
    "\n",
    "Example: Binary representation of the decimal number 10 is 1010.\n",
    "\n",
    "$0 \\times 2^0 + 1 \\times 2^1 + 0 \\times 2^2 + 1 \\times 2^3 = 10$"
   ]
  },
  {
   "cell_type": "markdown",
   "metadata": {},
   "source": [
    "# SOLUTION 8"
   ]
  },
  {
   "cell_type": "code",
   "execution_count": null,
   "metadata": {},
   "outputs": [],
   "source": []
  }
 ],
 "metadata": {
  "kernelspec": {
   "display_name": "R",
   "language": "R",
   "name": "ir"
  },
  "language_info": {
   "codemirror_mode": "r",
   "file_extension": ".r",
   "mimetype": "text/x-r-source",
   "name": "R",
   "pygments_lexer": "r",
   "version": "3.6.1"
  }
 },
 "nbformat": 4,
 "nbformat_minor": 4
}
