{
 "cells": [
  {
   "cell_type": "markdown",
   "metadata": {},
   "source": [
    "## QUESTION 1"
   ]
  },
  {
   "cell_type": "markdown",
   "metadata": {},
   "source": [
    "First, download the **coordinates.csv** file from the files section in Binder to your computer.\n",
    "\n",
    "We will import it to R.\n",
    "\n",
    "In order to import a file, you first need to set the working directory of R to the directory that contains the data file.\n",
    "\n",
    "A working directory can be specified as such (with your own address, of course):\n",
    "\n",
    "```R\n",
    "> setwd(\"C:/Users/Ömer/Desktop/Ders/CMPE 140\")\n",
    "```\n",
    "\n",
    "Or, you can click on *Session* in the toolbar, then go to *Set Working Directory* and finally click on *Choose Directory* to set it manually.\n",
    "\n",
    "The default shortcut for this operation is *Ctrl+Shift+H*.\n",
    "\n",
    "After setting up the working directory, you can import your data set as such:\n",
    "\n",
    "```R\n",
    "> coordinates <- read.csv(\"coordinates.csv\", header = FALSE)\n",
    "```\n",
    "If your data set has column names, you can write *header = TRUE* or nothing as it is the default setting for this function.\n",
    "\n",
    "If your data file is in *.txt* format, you can import is as such:\n",
    "\n",
    "```R\n",
    "> coordinates <- read.table(\"coordinates.txt\", header = FALSE)\n",
    "```\n",
    "\n",
    "Finally, if it's in *.rdata* format, you can import it as such:\n",
    "\n",
    "```R\n",
    "> load(\"coordinates.rdata\")\n",
    "```\n",
    "\n",
    "and use it by calling the object **coordinates**.\n",
    "\n",
    "**coordinates** contains the latitudes and longitudes of every province center in Turkey.\n",
    "\n",
    "Let's examine it:\n",
    "\n",
    "```R\n",
    "> head(coordinates)\n",
    "\n",
    "              V1       V2       V3\n",
    "1          Adana 36.99142 35.33083\n",
    "2       Adiyaman 37.76365 38.27726\n",
    "3 Afyonkarahisar 38.75689 30.53870\n",
    "4           Agri 39.71907 43.05059\n",
    "5         Amasya 40.65646 35.83735\n",
    "6         Ankara 39.93336 32.85974\n",
    "```\n",
    "\n",
    "First, let's assign the name **province** to the first column, **latitude** to the second column and **longitude** to the last column.\n",
    "\n",
    "```R\n",
    "> head(coordinates)\n",
    "\n",
    "        province latitude longitude\n",
    "1          Adana 36.99142  35.33083\n",
    "2       Adiyaman 37.76365  38.27726\n",
    "3 Afyonkarahisar 38.75689  30.53870\n",
    "4           Agri 39.71907  43.05059\n",
    "5         Amasya 40.65646  35.83735\n",
    "6         Ankara 39.93336  32.85974\n",
    "```\n",
    "\n",
    "Next, create a factor called **region** that will:\n",
    "\n",
    "- take the value **southwest** if the city's latitude is smaller than 39 and it's longitude is smaller than 35 \n",
    "- take the value **southeast** if the city's latitude is smaller than 39 and it's longitude is larger than 35 \n",
    "- take the value **northwest** if the city's latitude is larger than 39 and it's longitude is smaller than 35 \n",
    "- take the value **northeast** if the city's latitude is larger than 39 and it's longitude is larger than 35 \n",
    "\n",
    "Then, append **region** to **coordinates** and show the first 6 lines as such:\n",
    "\n",
    "```R\n",
    "> head(coordinates)\n",
    "\n",
    "        province latitude longitude    region\n",
    "1          Adana 36.99142  35.33083 Southeast\n",
    "2       Adiyaman 37.76365  38.27726 Southeast\n",
    "3 Afyonkarahisar 38.75689  30.53870 Southwest\n",
    "4           Agri 39.71907  43.05059 Northeast\n",
    "5         Amasya 40.65646  35.83735 Northeast\n",
    "6         Ankara 39.93336  32.85974 Northwest\n",
    "```\n",
    "\n",
    "*Hint: You can either create two seperate factors using the ``cut()`` function and then combine them or you can create the factor directly with a for loop and if statements. In order to convert a vector to a factor, use the ``as.factor()`` function.*\n",
    "\n",
    "\n",
    "Let's see the number of provinces in each region:\n",
    "\n",
    "```R\n",
    "> summary(region)\n",
    "\n",
    "Northeast Northwest Southeast Southwest \n",
    "       20        25        20        16 \n",
    "```\n"
   ]
  },
  {
   "cell_type": "markdown",
   "metadata": {},
   "source": [
    "## SOLUTION 1"
   ]
  },
  {
   "cell_type": "code",
   "execution_count": null,
   "metadata": {},
   "outputs": [],
   "source": []
  },
  {
   "cell_type": "markdown",
   "metadata": {},
   "source": [
    "## QUESTION 2"
   ]
  },
  {
   "cell_type": "markdown",
   "metadata": {},
   "source": [
    "Let's use the built-in data **mtcars** in R. \n",
    "\n",
    "\n",
    "In order to show the relationship between miles per gallon and number of cylinders, we will build a boxplot. \n",
    "\n",
    "\n",
    "1) Create a function called **box_mt** which create a boxplot for values of **mpg**, classified with respect to **cyl** values. \n",
    "\n",
    "\n",
    "* Plot will be named as **Box Plots Miles Per Gallon**, x-axis will be named as **Number of Cylinders**, and y-axis will be named as **Miles Per Gallon**. The first box will be named as **4 cyl**, the second as **6 cyl**, and the third as **8 cyl**.\n",
    "\n",
    "\n",
    "* The first box should be colored with yellow, the second with blue, and the third with pink. \n",
    "\n",
    "\n",
    "Your box plot has to look like this:"
   ]
  },
  {
   "attachments": {
    "Ekran%20Al%C4%B1nt%C4%B1s%C4%B1.PNG": {
     "image/png": "[encoded data removed]"
    }
   },
   "cell_type": "markdown",
   "metadata": {},
   "source": [
    "![Ekran%20Al%C4%B1nt%C4%B1s%C4%B1.PNG](attachment:Ekran%20Al%C4%B1nt%C4%B1s%C4%B1.PNG)\n",
    "\n",
    "*Hint: You should use subsetting inside the function.*"
   ]
  },
  {
   "cell_type": "markdown",
   "metadata": {},
   "source": [
    "## SOLUTION 2"
   ]
  },
  {
   "cell_type": "code",
   "execution_count": null,
   "metadata": {},
   "outputs": [],
   "source": []
  },
  {
   "cell_type": "markdown",
   "metadata": {},
   "source": [
    "## QUESTION 3"
   ]
  },
  {
   "attachments": {
    "resim_2021-12-16_150712.png": {
     "image/png": "[encoded data removed]"
    }
   },
   "cell_type": "markdown",
   "metadata": {},
   "source": [
    "There are 100 students in each of the three sections of a MATH102 course. Final exam scores are normally distributed integers. Means and standard deviations of final scores are as follows : \n",
    " * Section 1 : mean = 75, standard deviation = 10\n",
    " * Section 2 : mean = 65, standard deviation = 9\n",
    " * Section 3 : mean = 70, standard deviation = 9\n",
    "\n",
    "1) First, copy the lines below. \n",
    "\n",
    "```r\n",
    "RNGversion(\"3.3.1\")\n",
    "set.seed(30)\n",
    "```\n",
    "2) Create 3 vectors named **section_1**, **section_2**, **section_3** which hold the final exam scores of each section. \n",
    "```r\n",
    "> section_1\n",
    "  [1]  62  72  70  88  93  60  76  67  68  78  65  57  68  74  84 . . .\n",
    "> section_2\n",
    "  [1] 70 55 71 60 62 66 58 69 67 66 64 67 59 48 77 54 69 57 74 77 . . .\n",
    "> section_3\n",
    "  [1] 68 74 80 68 81 57 74 73 60 71 76 71 79 65 61 78 52 64 78 68 . . .\n",
    "```\n",
    "\n",
    "3) Create a function named **strp** with 3 arguments : **sct1**, **sct2**, **sct3** which have **section_1**,**section_2** and **section_3** as their default values. \n",
    "\n",
    "   The function should return a strip chart as such :\n",
    "\n",
    "```r\n",
    "strp(sct1 = section_1,sct2 = section_2,sct3 = section_3)\n",
    "```\n",
    "![resim_2021-12-16_150712.png](attachment:resim_2021-12-16_150712.png)"
   ]
  },
  {
   "cell_type": "markdown",
   "metadata": {},
   "source": [
    "## SOLUTION 3"
   ]
  },
  {
   "cell_type": "code",
   "execution_count": null,
   "metadata": {},
   "outputs": [],
   "source": []
  },
  {
   "cell_type": "markdown",
   "metadata": {},
   "source": [
    "## QUESTION 4"
   ]
  },
  {
   "cell_type": "markdown",
   "metadata": {},
   "source": [
    "There are two concerts today at The O2 London: one of them is a Radiohead concert, and the other one is a Bon Iver concert. The O2 London would like to know the density of ages of people who bought a ticket for research purposes. They choose 20 random people and gather the data as such.\n",
    "\n",
    "1) Copy and paste this data.\n",
    "\n",
    "```r\n",
    "radiohead_ages <- c(20, 19, 22, 23, 24, 23, 27, 29, 32, 34, 28, 27, 23, 25, 24, 26, 27, 24, 25, 19)\n",
    "boniver_ages <- c(26, 82, 75, 69, 52, 55, 39, 47, 45, 23, 59, 53, 48, 43, 38, 46, 39, 50, 51, 32)\n",
    "```\n",
    "\n",
    "2) Combine the age data into a vector called **all_ages**.\n",
    "\n",
    "\n",
    "3) Calculate the density of the ages of the attendees and name them **radiohead_density** and **boniver_density**. \n",
    "\n",
    "\n",
    "4) Plot the density of the ages of the attendees. Set the main title as **Age Study** and the x label as **Ages**. Attendees from Radiohead concert should be colored red, and attendees from Bon Iver concert should be colored blue. Set the line thickness as 2. Set the plot limits as the minimum and the maximum ages of all attendees using **all_ages** vector.\n",
    "\n",
    "Your density plot should look like this:"
   ]
  },
  {
   "attachments": {
    "Ekran%20Al%C4%B1nt%C4%B1s%C4%B1.PNG": {
     "image/png": "[encoded data removed]"
    }
   },
   "cell_type": "markdown",
   "metadata": {},
   "source": [
    "![Ekran%20Al%C4%B1nt%C4%B1s%C4%B1.PNG](attachment:Ekran%20Al%C4%B1nt%C4%B1s%C4%B1.PNG)"
   ]
  },
  {
   "cell_type": "markdown",
   "metadata": {},
   "source": [
    "## SOLUTION 4"
   ]
  },
  {
   "cell_type": "code",
   "execution_count": null,
   "metadata": {},
   "outputs": [],
   "source": []
  }
 ],
 "metadata": {
  "kernelspec": {
   "display_name": "R",
   "language": "R",
   "name": "ir"
  },
  "language_info": {
   "codemirror_mode": "r",
   "file_extension": ".r",
   "mimetype": "text/x-r-source",
   "name": "R",
   "pygments_lexer": "r",
   "version": "3.6.1"
  }
 },
 "nbformat": 4,
 "nbformat_minor": 5
}
