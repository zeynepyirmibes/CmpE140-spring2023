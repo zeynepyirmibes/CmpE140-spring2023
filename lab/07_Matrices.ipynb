{
 "cells": [
  {
   "cell_type": "code",
   "execution_count": null,
   "metadata": {},
   "outputs": [],
   "source": [
    "options(jupyter.rich_display = F)"
   ]
  },
  {
   "cell_type": "markdown",
   "metadata": {},
   "source": [
    "# LAB 07: MATRICES\n",
    "\n",
    "## QUESTION 1\n",
    "\n",
    "For this question, we will use a pre-built dataset which contains the distances in km's between 81 province centers in Turkey.\n",
    "\n",
    "You first need to download the **distance2.rdata** file from the files directory in Binder and open it. In order to download it, you need to open the files directory, check the box on the left hand side of **distance2.rdata** and click download. When you open the rdata file in your computer you will be able to work with the dataset.\n",
    "\n",
    "Now write a function named **neighbour** that takes three arguments:\n",
    "\n",
    "- **city**: Either a city code as integer (i.e. 34) or city name (i.e. \"İstanbul\")\n",
    "- **radius**: Radius in km's within which we want to filter the neighbours of the city\n",
    "- **dist**: A distance matrix, default value of which is the **distance2** global object\n",
    "\n",
    "as such:\n",
    "\n",
    "```R\n",
    "neighbour(34, 150)\n",
    "\n",
    "  yalova  kocaeli    bursa tekirdag  sakarya  bilecik \n",
    "      47       78       91      123      127      128 \n",
    "```\n",
    "\n",
    "```R\n",
    "neighbour(city = \"Adana\", radius = 100)\n",
    "\n",
    "  mersin osmaniye \n",
    "      64       82 \n",
    "\n",
    "neighbour(\"İzmir\", 50)\n",
    "\n",
    "manisa \n",
    "    33 \n",
    "```\n",
    "\n",
    "*Hint: Be careful not to return the same city as its neighbor.*"
   ]
  },
  {
   "cell_type": "markdown",
   "metadata": {},
   "source": [
    "## SOLUTION 1"
   ]
  },
  {
   "cell_type": "code",
   "execution_count": null,
   "metadata": {},
   "outputs": [],
   "source": []
  },
  {
   "cell_type": "markdown",
   "metadata": {},
   "source": [
    "## QUESTION 2\n",
    "\n",
    "Now using the same **distance2** object, write a function named **neigh_count** that takes two arguments:\n",
    "\n",
    "- **radius** in km's\n",
    "- a distance matrix called **dist** whose default value is the **distance2** object\n",
    "\n",
    "The function should return the count of neighbouring cities of each city within the specified radius, sorted in descending order.\n",
    "\n",
    "\n",
    "Try it with a radius of 100 kilometers:\n",
    "\n",
    "```R\n",
    "neigh_count(100)\n",
    "```\n",
    "\n",
    "Because of space limitations, we report only the first 3 elements of the output:\n",
    "\n",
    "```R\n",
    "bilecik        sakarya        bayburt\n",
    "      6              5              5\n",
    "```\n",
    "\n",
    "*Hint 1: Use the ``apply()`` function.*\n",
    "\n",
    "*Hint 2: Just like the previous question, number of neighbors must not include the cities themselves.*"
   ]
  },
  {
   "cell_type": "markdown",
   "metadata": {},
   "source": [
    "## SOLUTION 2"
   ]
  },
  {
   "cell_type": "code",
   "execution_count": null,
   "metadata": {},
   "outputs": [],
   "source": []
  },
  {
   "cell_type": "markdown",
   "metadata": {},
   "source": [
    "## QUESTION 3"
   ]
  },
  {
   "cell_type": "markdown",
   "metadata": {},
   "source": [
    "You are supposed to write a function named **square_donut** that takes two arguments **n** and **x** and does the following:\n",
    "\n",
    "- It should create a square matrix of size n.\n",
    "- The outer x by x squares of the matrix should be filled with 1's, while the square hole in the middle should be all zeros.\n",
    "- If **x** is greater than or equal to the half of **n**, it should return **\"edge too wide\"** and stop.\n",
    "\n",
    "For example:\n",
    "```R\n",
    "square_donut(7, 2)\n",
    "```\n",
    "returns\n",
    "```\n",
    "1\t1\t1\t1\t1\t1\t1\n",
    "1\t1\t1\t1\t1\t1\t1\n",
    "1\t1\t0\t0\t0\t1\t1\n",
    "1\t1\t0\t0\t0\t1\t1\n",
    "1\t1\t0\t0\t0\t1\t1\n",
    "1\t1\t1\t1\t1\t1\t1\n",
    "1\t1\t1\t1\t1\t1\t1\n",
    "```\n",
    "and\n",
    "\n",
    "```R\n",
    "square_donut(6, 3)\n",
    "```\n",
    "returns\n",
    "```\n",
    "'edge too wide'\n",
    "```"
   ]
  },
  {
   "cell_type": "markdown",
   "metadata": {},
   "source": [
    "## SOLUTION 3"
   ]
  },
  {
   "cell_type": "code",
   "execution_count": null,
   "metadata": {},
   "outputs": [],
   "source": []
  },
  {
   "cell_type": "markdown",
   "metadata": {},
   "source": [
    "## QUESTION 4\n",
    "\n",
    "First, set the seed to 1.\n",
    "\n",
    "Now, write a function called **new_field** that takes two inputs, **size** and **density** and creates a square matrix of the given size. The created matrix represents a minefield. The cells should take only two values: if the value is 1, it means there is a mine there and If the value is 0, it means there is no mine. The default values of **size** and **density** should be 5 and 0.2 respectively.\n",
    "\n",
    "The function should fill the matrix according to **density** which represents the proportion of the cells with mines. When filling the cells, you should use **density** as the probability of any cell containing a mine.\n",
    "\n",
    "Your function should give the following output:\n",
    "\n",
    "```R\n",
    "field1 <- new_field()\n",
    "field1\n",
    "```\n",
    "```\n",
    "0    1    0    0    1\n",
    "0    1    0    0    0\n",
    "0    0    0    1    0\n",
    "1    0    0    0    0\n",
    "0    0    0    0    0\n",
    "\n",
    "```\n",
    "\n",
    "*Hint: You can use the ``sample()`` function when filling the cells.*"
   ]
  },
  {
   "cell_type": "markdown",
   "metadata": {},
   "source": [
    "## SOLUTION 4"
   ]
  },
  {
   "cell_type": "code",
   "execution_count": null,
   "metadata": {},
   "outputs": [],
   "source": []
  },
  {
   "cell_type": "markdown",
   "metadata": {},
   "source": [
    "## QUESTION 5\n",
    "\n",
    "Now write a function called **minefield** that takes 3 arguments:\n",
    "\n",
    "- **rw**: An integer for the row index\n",
    "- **cl**: An integer for the column index\n",
    "- **field**: A matrix for the minefield. Default value is the field1 global object\n",
    "\n",
    "The function should first retrieve the value of the cell at the rw and cl indices.\n",
    "\n",
    "If the value is equal to 1, there is a hit, and the function should return 9 (that represents a hit)\n",
    "Else, there is a miss, then it should return the number of neighbouring hits. In other words, it should return the count of 1's in the neighbouring eight cells of the target.\n",
    "\n",
    "Some example outputs are given below:\n",
    "\n",
    "```R\n",
    "minefield(1,1)\n",
    "[1] 2\n",
    "\n",
    "minefield(2,2)\n",
    "[1] 9\n",
    "\n",
    "minefield(2,3)\n",
    "[1] 3\n",
    "```"
   ]
  },
  {
   "cell_type": "markdown",
   "metadata": {},
   "source": [
    "## SOLUTION 5"
   ]
  },
  {
   "cell_type": "code",
   "execution_count": null,
   "metadata": {},
   "outputs": [],
   "source": []
  },
  {
   "cell_type": "markdown",
   "metadata": {},
   "source": [
    "## QUESTION 6\n",
    "\n",
    "You are given a matrix generator function as such:\n",
    "\n",
    "```R\n",
    "matrix_gen <- function(maxx = 100, nr = 5, nc = 5)\n",
    "{\n",
    "    matrix(sample(maxx, nr * nc, replace = T), nrow = nr) \n",
    "}\n",
    "```\n",
    "\n",
    "Then write a function called **max_path** that will take a matrix **matt** as input and return the maximum sum to be attained when a path is selected from the first row to the end, in each step of which you can select any of the adjacent cells (straight down, down left, down right) on the next row.\n",
    "\n",
    "First set the seed to 1234.\n",
    "\n",
    "Now let's try our function with a 3x3 matrix whose cells can take values from 1 to 10. We can construct this matrix using the provided **matrix_gen** function as such:\n",
    "\n",
    "```R\n",
    "mat1 <- matrix_gen(10, 3, 3)\n",
    "mat1\n",
    "     [,1] [,2] [,3]\n",
    "[1,]   10    9    4\n",
    "[2,]    6    5    2\n",
    "[3,]    5    6    7\n",
    "```\n",
    "```R\n",
    "max_path(mat1)\n",
    "[1] 22\n",
    "```\n",
    "\n",
    "Let's try it one more time (you need to set the seed to 1234 again):\n",
    "\n",
    "```R\n",
    "mat2 <- matrix_gen(10, 5, 5)\n",
    "mat2\n",
    "     [,1] [,2] [,3] [,4] [,5]\n",
    "[1,]   10    6   10    4    3\n",
    "[2,]    6    4    6    5    4\n",
    "[3,]    5    2    4    8   10\n",
    "[4,]    9    7    8    4    5\n",
    "[5,]    5    6    4    8    2\n",
    "```\n",
    "\n",
    "```R\n",
    "max_path(mat2)\n",
    "[1] 40\n",
    "```\n",
    "\n",
    "*Hint: You may make use of ``pmax()`` or ``apply()`` functions.*"
   ]
  },
  {
   "cell_type": "markdown",
   "metadata": {},
   "source": [
    "## SOLUTION 6"
   ]
  },
  {
   "cell_type": "code",
   "execution_count": null,
   "metadata": {},
   "outputs": [],
   "source": [
    "\n"
   ]
  }
 ],
 "metadata": {
  "kernelspec": {
   "display_name": "R",
   "language": "R",
   "name": "ir"
  },
  "language_info": {
   "codemirror_mode": "r",
   "file_extension": ".r",
   "mimetype": "text/x-r-source",
   "name": "R",
   "pygments_lexer": "r",
   "version": "3.6.1"
  },
  "toc": {
   "nav_menu": {},
   "number_sections": true,
   "sideBar": true,
   "skip_h1_title": false,
   "title_cell": "Table of Contents",
   "title_sidebar": "Contents",
   "toc_cell": false,
   "toc_position": {},
   "toc_section_display": "block",
   "toc_window_display": false
  },
  "varInspector": {
   "cols": {
    "lenName": 16,
    "lenType": 16,
    "lenVar": 40
   },
   "kernels_config": {
    "python": {
     "delete_cmd_postfix": "",
     "delete_cmd_prefix": "del ",
     "library": "var_list.py",
     "varRefreshCmd": "print(var_dic_list())"
    },
    "r": {
     "delete_cmd_postfix": ") ",
     "delete_cmd_prefix": "rm(",
     "library": "var_list.r",
     "varRefreshCmd": "cat(var_dic_list()) "
    }
   },
   "types_to_exclude": [
    "module",
    "function",
    "builtin_function_or_method",
    "instance",
    "_Feature"
   ],
   "window_display": false
  }
 },
 "nbformat": 4,
 "nbformat_minor": 4
}
