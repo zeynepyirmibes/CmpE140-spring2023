{
  "nbformat": 4,
  "nbformat_minor": 0,
  "metadata": {
    "colab": {
      "provenance": []
    },
    "kernelspec": {
      "name": "python3",
      "display_name": "Python 3"
    },
    "language_info": {
      "name": "python"
    }
  },
  "cells": [
    {
      "cell_type": "markdown",
      "source": [
        "## Question 1\n",
        "\n",
        "You have been given the \"mtcars\" dataset in R, which contains information about various models of cars. How can you display the first 6 rows of the \"mtcars\" data frame with only the columns \"mpg\", \"cyl\", \"wt\", and \"gear\"?"
      ],
      "metadata": {
        "id": "bQg0frNMcCJQ"
      }
    },
    {
      "cell_type": "code",
      "source": [],
      "metadata": {
        "id": "BHBXjaGgcGQO"
      },
      "execution_count": null,
      "outputs": []
    },
    {
      "cell_type": "markdown",
      "source": [
        "## Question 2\n",
        "\n",
        "Using the \"mtcars\" data set in R, take the mean of miles per gallon of each cylinder and transmission combination (4 cyl, automatic; 6 cyl, manual, etc.)\n",
        "\n",
        "Hint : Use the aggregate() function."
      ],
      "metadata": {
        "id": "RUWgyhERalSd"
      }
    },
    {
      "cell_type": "code",
      "source": [],
      "metadata": {
        "id": "SArGD44taq9_"
      },
      "execution_count": null,
      "outputs": []
    },
    {
      "cell_type": "markdown",
      "source": [
        "## Question 3\n",
        "\n",
        "Using the “mtcars” dataset in R, extract the rows where the number of cylinders is greater than or equal to 6, and the miles per gallon is greater than 15. Assing the resulting data frame to a new variable called “mtcars_high”. \n"
      ],
      "metadata": {
        "id": "kiFLfuL8b05C"
      }
    },
    {
      "cell_type": "code",
      "source": [],
      "metadata": {
        "id": "rW07-x64b4BC"
      },
      "execution_count": null,
      "outputs": []
    },
    {
      "cell_type": "markdown",
      "source": [
        "## Question 4\n",
        "\n",
        "You are given the built-in dataset ChickWeight in R, which contains information about the growth of birds over time, including their weight, age, and diet. Download the dataset and solve the following tasks:\n",
        "\n",
        "- Create a new column that calculates the weight gain of each bird over time.\n",
        "\n",
        "- Find the maximum weight gain of any chick. \n",
        "\n",
        "*Hint*: set na.rm parameter of the max() function to TRUE (na.rm: a logical indicating whether missing values should be removed)\n",
        "\n",
        "- Create a new data frame that summarizes the average weight gain of chicks by diet."
      ],
      "metadata": {
        "id": "Iw2jhnL8av0Y"
      }
    },
    {
      "cell_type": "code",
      "source": [],
      "metadata": {
        "id": "kzv9UPHIbBm7"
      },
      "execution_count": null,
      "outputs": []
    },
    {
      "cell_type": "markdown",
      "source": [
        "## Question 5\n",
        "\n",
        "Suppose you have a data frame called \"sales\" that contains the following variables:\n",
        "\n",
        "month: the month in which a sale was made (either \"January\", \"February\", \"March\", or \"April\")\n",
        "\n",
        "product: the type of product sold (either \"A\", \"B\", or \"C\")\n",
        "\n",
        "units_sold: the number of units sold in each transaction (the number of sales can be between 1 and 10)\n",
        "\n",
        "price_per_unit: the price per unit in US dollars (prices must be between 5 and 15 and integer, can be done using runif() )\n",
        "\n",
        "Write R code to perform the following tasks:\n",
        "\n",
        "1. Create a data frame with 20 observations for the variables \"month\", \"product\", \"units_sold\", and \"price_per_unit\".\n",
        "\n",
        "2. Display the data frame.\n",
        "\n",
        "3. Calculate the total revenue and display the results.\n",
        "\n",
        "4. Create a new variable called \"is_product_A\" that indicates whether each observation corresponds to product A (TRUE) or not (FALSE).\n",
        "\n",
        "5. Create a new data frame called \"march_sales\" that contains only the observations for the month of March."
      ],
      "metadata": {
        "id": "qfhqLlR_bDoY"
      }
    },
    {
      "cell_type": "code",
      "source": [],
      "metadata": {
        "id": "SlYrP6GjbMs5"
      },
      "execution_count": null,
      "outputs": []
    },
    {
      "cell_type": "markdown",
      "source": [
        "## Question 6\n",
        "\n",
        "Below are two data frames, ```df1``` and ```df2```, containing information about students. \n",
        "\n",
        "```df1``` contains information about the students' names, majors, and grades in Math and Science, while ```df2``` contains information about the students' names, majors, and grades in English and History. \n",
        "\n",
        "Merge these data frames into a single data frame called ```df_merged``` that contains all of the information, and also calculate the average grade for each student and add the average to a new column.\n",
        "\n",
        "```df1``` is:\n",
        "\n",
        "| Name    | Major | Math | Science |\n",
        "| -----   | ---   | ---- | ------- |\n",
        "| Alice   |  EC   |  80  | 90 |\n",
        "| Bob     |  MGMT |  90  | 80 |\n",
        "| Charlie |  POLS |  70  | 75 |\n",
        "\n",
        "```df2``` is:\n",
        "\n",
        "| Name    | Major | English | History |\n",
        "| -----   | ---   | ----    | ------- |\n",
        "| Alice   |  EC   |    85   |    90   |\n",
        "| Charlie |  POLS |    75   |    80   |\n",
        "| Dave    |  EC   |    80   |    85   |\n",
        "\n",
        "Your output should look like:\n",
        "\n",
        "```r\n",
        "     Name Major Math Science English History AvgGrade\n",
        "1   Alice    EC   80      90      85      90    86.25\n",
        "2     Bob  MGMT   90      80      NA      NA    85.00\n",
        "3 Charlie  POLS   70      75      75      80    75.00\n",
        "4    Dave    EC   NA      NA      80      85    82.50\n",
        "```\n"
      ],
      "metadata": {
        "id": "okfyhXNfbXMe"
      }
    },
    {
      "cell_type": "code",
      "source": [],
      "metadata": {
        "id": "riPbX6Rdbt_W"
      },
      "execution_count": null,
      "outputs": []
    },
    {
      "cell_type": "markdown",
      "source": [
        "## Prep \n",
        "\n",
        "Run the following code\n",
        "\n"
      ],
      "metadata": {
        "id": "w6P-b7nVij61"
      }
    },
    {
      "cell_type": "code",
      "source": [
        "install.packages(\"nycflights13\")\n",
        "library(nycflights13)\n",
        "flights <- as.data.frame(flights)\n",
        "head(flights)"
      ],
      "metadata": {
        "id": "QGk7XvafivkF"
      },
      "execution_count": null,
      "outputs": []
    },
    {
      "cell_type": "code",
      "source": [
        "# We can also view the structure of our data frame as such:\n",
        "\n",
        "str(flights)"
      ],
      "metadata": {
        "id": "8ovMjkzKi6DP"
      },
      "execution_count": null,
      "outputs": []
    },
    {
      "cell_type": "markdown",
      "source": [
        "## Question 8\n",
        "\n",
        "Combine the year, month and day information into a new column called dates. \n",
        "\n",
        "Then, create a new column called weekdays which shows which day of the week each flight has taken place.\n",
        "\n",
        "Report the first six rows of your data frame as such:\n",
        "\n",
        "```R\n",
        "> head(flights)\n",
        "\n",
        "  year month day dep_time dep_delay arr_time arr_delay cancelled carrier tailnum flight origin dest air_time distance\n",
        "1 2014     1   1      914        14     1238        13         0      AA  N338AA      1    JFK  LAX      359     2475\n",
        "2 2014     1   1     1157        -3     1523        13         0      AA  N335AA      3    JFK  LAX      363     2475\n",
        "3 2014     1   1     1902         2     2224         9         0      AA  N327AA     21    JFK  LAX      351     2475\n",
        "4 2014     1   1      722        -8     1014       -26         0      AA  N3EHAA     29    LGA  PBI      157     1035\n",
        "5 2014     1   1     1347         2     1706         1         0      AA  N319AA    117    JFK  LAX      350     2475\n",
        "6 2014     1   1     1824         4     2145         0         0      AA  N3DEAA    119    EWR  LAX      339     2454\n",
        "  hour min      dates weekdays\n",
        "1    9  14 2014-01-01      Çar\n",
        "2   11  57 2014-01-01      Çar\n",
        "3   19   2 2014-01-01      Çar\n",
        "4    7  22 2014-01-01      Çar\n",
        "5   13  47 2014-01-01      Çar\n",
        "6   18  24 2014-01-01      Çar\n",
        "```\n",
        "\n",
        "*Hint: You can use ``with()`` for the first part and ``weekdays`` for the second part.*\n"
      ],
      "metadata": {
        "id": "0zZS5nLAiFL2"
      }
    },
    {
      "cell_type": "code",
      "source": [],
      "metadata": {
        "id": "Oc3O-QGZjVbQ"
      },
      "execution_count": null,
      "outputs": []
    },
    {
      "cell_type": "markdown",
      "source": [
        "## Question 9\n",
        "\n",
        "Using **flights**, create a data frame called **dep_delay_origin_dest2** that shows the count of flights and the average departure delay for each origin and destination pair as such:\n",
        "\n",
        "```R\n",
        "> head(dep_delay_origin_dest2)\n",
        "\n",
        "  origin dest count av_dep_delay\n",
        "1    JFK  ABQ   278    15.316547\n",
        "2    JFK  ACK   277     4.277978\n",
        "3    LGA  AGS     3    -1.333333\n",
        "4    EWR  ALB   169    21.538462\n",
        "5    EWR  ANC    13    12.615385\n",
        "6    EWR  ATL  4182    17.602822\n",
        "```\n",
        "\n",
        "*Hint: Use the function ``aggregate()``.*"
      ],
      "metadata": {
        "id": "hRzZ8l6ljYMZ"
      }
    },
    {
      "cell_type": "code",
      "source": [],
      "metadata": {
        "id": "uA-Iti9qjdN7"
      },
      "execution_count": null,
      "outputs": []
    },
    {
      "cell_type": "markdown",
      "source": [
        "## QUESTION 10\n",
        "\n",
        "Using **dep_delay_origin_dest2**, report \n",
        "\n",
        "- The most active 10 airport pairs in terms of flight counts in a data frame called **most_active**\n",
        "- The most delaying 10 airport pairs in terms of average departure delays in a data frame called **most_delayed**\n",
        "\n",
        "These two matrices should be in decreasing order in their respective criteria.\n",
        "\n",
        "```R\n",
        "> most_active\n",
        "\n",
        "    origin dest count av_dep_delay\n",
        "109    JFK  LAX 10208     8.359718\n",
        "195    JFK  SFO  7368    11.741178\n",
        "146    LGA  ORD  7052    12.708026\n",
        "8      LGA  ATL  6925    13.813574\n",
        "126    LGA  MIA  5084     6.030488\n",
        "194    EWR  SFO  4539    16.530293\n",
        "115    JFK  MCO  4467    13.477726\n",
        "20     EWR  BOS  4268    11.265933\n",
        "108    EWR  LAX  4226    15.882631\n",
        "6      EWR  ATL  4182    17.602822\n",
        "```\n",
        "\n",
        "```R\n",
        "> most_delayed\n",
        "\n",
        "    origin dest count av_dep_delay\n",
        "102    JFK  JAC     1    322.00000\n",
        "68     LGA  DSM     1    125.00000\n",
        "13     EWR  AVP     1     83.00000\n",
        "121    LGA  MEM     3     54.33333\n",
        "73     JFK  EGE    85     43.32941\n",
        "217    LGA  TVC    36     37.94444\n",
        "36     EWR  CAE    21     36.09524\n",
        "218    EWR  TYS   238     32.81513\n",
        "130    LGA  MSN   188     29.31915\n",
        "215    EWR  TUL   201     28.89552\n",
        "```"
      ],
      "metadata": {
        "id": "guk6YLONjdjR"
      }
    },
    {
      "cell_type": "code",
      "source": [],
      "metadata": {
        "id": "bVfjBH04jkC8"
      },
      "execution_count": null,
      "outputs": []
    },
    {
      "cell_type": "markdown",
      "source": [
        "## Question 11\n",
        "\n",
        "\n",
        "- Merge the **flights** and **dep_delay_origin_dest2** data frames into **flights2**, so that we have the count of flights and average departure delay for each airport pair on all rows.\n",
        "- Create a new column **dev_delay** which will show the difference between the departure delay and the average departure delay for each row.\n",
        "\n",
        "Then report the first 10 rows of **flights2** in decreasing order as such:\n",
        "\n",
        "```R\n",
        "       origin dest year month day dep_time dep_delay arr_time arr_delay cancelled carrier tailnum flight air_time\n",
        "26298     EWR  DFW 2014    10   4      727      1498     1008      1494         0      AA  N4WJAA   1381      200\n",
        "94999     JFK  BOS 2014     4  15     1341      1241     1443      1223         0      AA  N3FNAA    256       39\n",
        "3809      EWR  ATL 2014     7  14      823      1087     1046      1090         0      DL  N966AT    673       97\n",
        "24951     EWR  DFW 2014     6  13     1046      1071     1329      1064         0      AA  N502AA   2488      175\n",
        "26816     EWR  DFW 2014     9  12      636      1056     1015      1115         0      AA  N548AA   1642      198\n",
        "24850     EWR  DFW 2014     6  16      731      1022     1057      1073         0      AA  N491AA    320      178\n",
        "128692    JFK  MCO 2014     2  21      844      1014     1151      1007         0      DL  N983DL   2459      139\n",
        "105903    JFK  DEN 2014     2  15     1244      1003     1517       994         0      DL  N3747D    475      242\n",
        "26848     EWR  DFW 2014     6  11     1119       989     1411       991         0      AA  N569AA   1691      194\n",
        "223331    LGA  MIA 2014     1   2     1108       973     1456       996         0      DL  N980DL   2139      156\n",
        "       distance hour min      dates weekdays count av_dep_delay dev_delay\n",
        "26298      1372    7  27 2014-10-04      Cmt  2224    16.616906 1481.3831\n",
        "94999       187   13  41 2014-04-15      Sal  4111    11.584529 1229.4155\n",
        "3809        746    8  23 2014-07-14      Pzt  4182    17.602822 1069.3972\n",
        "24951      1372   10  46 2014-06-13      Cum  2224    16.616906 1054.3831\n",
        "26816      1372    6  36 2014-09-12      Cum  2224    16.616906 1039.3831\n",
        "24850      1372    7  31 2014-06-16      Pzt  2224    16.616906 1005.3831\n",
        "128692      944    8  44 2014-02-21      Cum  4467    13.477726 1000.5223\n",
        "105903     1626   12  44 2014-02-15      Cmt   579    18.226252  984.7737\n",
        "26848      1372   11  19 2014-06-11      Çar  2224    16.616906  972.3831\n",
        "223331     1096   11   8 2014-01-02      Per  5084     6.030488  966.9695\n",
        "```\n"
      ],
      "metadata": {
        "id": "nz66XJAtjkTD"
      }
    },
    {
      "cell_type": "code",
      "source": [],
      "metadata": {
        "id": "DO5ZEKk1jmwp"
      },
      "execution_count": null,
      "outputs": []
    }
  ]
}