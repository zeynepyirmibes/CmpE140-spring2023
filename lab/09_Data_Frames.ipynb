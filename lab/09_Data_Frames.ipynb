{
 "cells": [
  {
   "cell_type": "markdown",
   "metadata": {},
   "source": [
    "# LAB 09: DATA FRAMES\n",
    "\n",
    "First, download the **flights14.csv** from the files directory in Binder:\n",
    "\n",
    "You can read the flights data into R as such:"
   ]
  },
  {
   "cell_type": "code",
   "execution_count": null,
   "metadata": {},
   "outputs": [],
   "source": [
    "flights <- read.csv(\"C:/Users/Ömer/Desktop/Ders/CMPE 140/Labs/09_Data_Frames/Data Files/flights14.csv\")"
   ]
  },
  {
   "cell_type": "markdown",
   "metadata": {},
   "source": [
    "Please note that the path of the csv file will be different in your computer, so you must change the path in the above line. You can copy and paste the path directly from the address bar in Windows. However, you have to change the backslashes to forward slashes because R only accepts the former.\n",
    "\n",
    "Alternatively, you can first set a working directory in R and then read the file by its name as such:"
   ]
  },
  {
   "cell_type": "code",
   "execution_count": null,
   "metadata": {},
   "outputs": [],
   "source": [
    "setwd(\"C:/Users/Ömer/Desktop/Ders/CMPE 140/Labs/09_Data_Frames/Data Files\")\n",
    "flights <- read.csv(\"flights14.csv\")"
   ]
  },
  {
   "cell_type": "markdown",
   "metadata": {},
   "source": [
    "This can be more practical for sessions in which you have to deal with multiple imports/exports.\n",
    "\n",
    "Let's view our data set:\n",
    "\n",
    "```R\n",
    "> head(flights)\n",
    "  year month day dep_time dep_delay arr_time arr_delay cancelled carrier tailnum flight origin dest air_time distance\n",
    "1 2014     1   1      914        14     1238        13         0      AA  N338AA      1    JFK  LAX      359     2475\n",
    "2 2014     1   1     1157        -3     1523        13         0      AA  N335AA      3    JFK  LAX      363     2475\n",
    "3 2014     1   1     1902         2     2224         9         0      AA  N327AA     21    JFK  LAX      351     2475\n",
    "4 2014     1   1      722        -8     1014       -26         0      AA  N3EHAA     29    LGA  PBI      157     1035\n",
    "5 2014     1   1     1347         2     1706         1         0      AA  N319AA    117    JFK  LAX      350     2475\n",
    "6 2014     1   1     1824         4     2145         0         0      AA  N3DEAA    119    EWR  LAX      339     2454\n",
    "  hour min\n",
    "1    9  14\n",
    "2   11  57\n",
    "3   19   2\n",
    "4    7  22\n",
    "5   13  47\n",
    "6   18  24\n",
    "```\n",
    "\n",
    "We can also view the structure of our data frame as such:\n",
    "```R\n",
    "> str(flights)\n",
    "'data.frame':\t253316 obs. of  17 variables:\n",
    " $ year     : int  2014 2014 2014 2014 2014 2014 2014 2014 2014 2014 ...\n",
    " $ month    : int  1 1 1 1 1 1 1 1 1 1 ...\n",
    " $ day      : int  1 1 1 1 1 1 1 1 1 1 ...\n",
    " $ dep_time : int  914 1157 1902 722 1347 1824 2133 1542 1509 1848 ...\n",
    " $ dep_delay: int  14 -3 2 -8 2 4 -2 -3 -1 -2 ...\n",
    " $ arr_time : int  1238 1523 2224 1014 1706 2145 37 1906 1828 2206 ...\n",
    " $ arr_delay: int  13 13 9 -26 1 0 -18 -14 -17 -14 ...\n",
    " .\n",
    " .\n",
    " .\n",
    "```"
   ]
  },
  {
   "cell_type": "markdown",
   "metadata": {},
   "source": [
    "## QUESTION 1\n",
    "\n",
    "Combine the year, month and day information into a new column called **dates**. Then, create a new column called **weekdays** which shows which day of the week each flight has taken place.\n",
    "\n",
    "Report the first six rows of your data frame as such:\n",
    "\n",
    "```R\n",
    "> head(flights)\n",
    "\n",
    "  year month day dep_time dep_delay arr_time arr_delay cancelled carrier tailnum flight origin dest air_time distance\n",
    "1 2014     1   1      914        14     1238        13         0      AA  N338AA      1    JFK  LAX      359     2475\n",
    "2 2014     1   1     1157        -3     1523        13         0      AA  N335AA      3    JFK  LAX      363     2475\n",
    "3 2014     1   1     1902         2     2224         9         0      AA  N327AA     21    JFK  LAX      351     2475\n",
    "4 2014     1   1      722        -8     1014       -26         0      AA  N3EHAA     29    LGA  PBI      157     1035\n",
    "5 2014     1   1     1347         2     1706         1         0      AA  N319AA    117    JFK  LAX      350     2475\n",
    "6 2014     1   1     1824         4     2145         0         0      AA  N3DEAA    119    EWR  LAX      339     2454\n",
    "  hour min      dates weekdays\n",
    "1    9  14 2014-01-01      Çar\n",
    "2   11  57 2014-01-01      Çar\n",
    "3   19   2 2014-01-01      Çar\n",
    "4    7  22 2014-01-01      Çar\n",
    "5   13  47 2014-01-01      Çar\n",
    "6   18  24 2014-01-01      Çar\n",
    "```\n",
    "\n",
    "*Hint: You can use ``with()`` for the first part and ``weekdays`` for the second part.*\n"
   ]
  },
  {
   "cell_type": "markdown",
   "metadata": {},
   "source": [
    "## SOLUTION 1"
   ]
  },
  {
   "cell_type": "code",
   "execution_count": null,
   "metadata": {},
   "outputs": [],
   "source": []
  },
  {
   "cell_type": "markdown",
   "metadata": {},
   "source": [
    "## QUESTION 2\n",
    "\n",
    "Using **flights**, create a data frame called **dep_delay_origin_dest2** that shows the count of flights and the average departure delay for each origin and destination pair as such:\n",
    "\n",
    "```R\n",
    "> head(dep_delay_origin_dest2)\n",
    "\n",
    "  origin dest count av_dep_delay\n",
    "1    JFK  ABQ   278    15.316547\n",
    "2    JFK  ACK   277     4.277978\n",
    "3    LGA  AGS     3    -1.333333\n",
    "4    EWR  ALB   169    21.538462\n",
    "5    EWR  ANC    13    12.615385\n",
    "6    EWR  ATL  4182    17.602822\n",
    "```\n",
    "\n",
    "*Hint: Use the function ``aggregate()``.*"
   ]
  },
  {
   "cell_type": "markdown",
   "metadata": {},
   "source": [
    "## SOLUTION 2"
   ]
  },
  {
   "cell_type": "code",
   "execution_count": null,
   "metadata": {},
   "outputs": [],
   "source": []
  },
  {
   "cell_type": "markdown",
   "metadata": {},
   "source": [
    "## QUESTION 3\n",
    "\n",
    "Using **dep_delay_origin_dest2**, report \n",
    "\n",
    "- The most active 10 airport pairs in terms of flight counts in a data frame called **most_active**\n",
    "- The most delaying 10 airport pairs in terms of average departure delays in a data frame called **most_delayed**\n",
    "\n",
    "These two matrices should be in decreasing order in their respective criteria.\n",
    "\n",
    "```R\n",
    "> most_active\n",
    "\n",
    "    origin dest count av_dep_delay\n",
    "109    JFK  LAX 10208     8.359718\n",
    "195    JFK  SFO  7368    11.741178\n",
    "146    LGA  ORD  7052    12.708026\n",
    "8      LGA  ATL  6925    13.813574\n",
    "126    LGA  MIA  5084     6.030488\n",
    "194    EWR  SFO  4539    16.530293\n",
    "115    JFK  MCO  4467    13.477726\n",
    "20     EWR  BOS  4268    11.265933\n",
    "108    EWR  LAX  4226    15.882631\n",
    "6      EWR  ATL  4182    17.602822\n",
    "```\n",
    "\n",
    "```R\n",
    "> most_delayed\n",
    "\n",
    "    origin dest count av_dep_delay\n",
    "102    JFK  JAC     1    322.00000\n",
    "68     LGA  DSM     1    125.00000\n",
    "13     EWR  AVP     1     83.00000\n",
    "121    LGA  MEM     3     54.33333\n",
    "73     JFK  EGE    85     43.32941\n",
    "217    LGA  TVC    36     37.94444\n",
    "36     EWR  CAE    21     36.09524\n",
    "218    EWR  TYS   238     32.81513\n",
    "130    LGA  MSN   188     29.31915\n",
    "215    EWR  TUL   201     28.89552\n",
    "```"
   ]
  },
  {
   "cell_type": "markdown",
   "metadata": {},
   "source": [
    "## SOLUTION 3"
   ]
  },
  {
   "cell_type": "code",
   "execution_count": null,
   "metadata": {},
   "outputs": [],
   "source": []
  },
  {
   "cell_type": "markdown",
   "metadata": {},
   "source": [
    "## QUESTION 4\n",
    "\n",
    "Let's first review the merger types. Create two data frames as such:"
   ]
  },
  {
   "cell_type": "code",
   "execution_count": null,
   "metadata": {},
   "outputs": [],
   "source": []
  },
  {
   "cell_type": "markdown",
   "metadata": {},
   "source": [
    "### Left (outer) join\n",
    "\n",
    "Join the two data frames, on names fields, keeping all categories in the **left** df:"
   ]
  },
  {
   "cell_type": "code",
   "execution_count": null,
   "metadata": {},
   "outputs": [],
   "source": []
  },
  {
   "cell_type": "markdown",
   "metadata": {},
   "source": [
    "### Right (outer) join\n",
    "\n",
    "Join the two data frames, on names fields, keeping all categories in the **right** df:"
   ]
  },
  {
   "cell_type": "code",
   "execution_count": null,
   "metadata": {},
   "outputs": [],
   "source": []
  },
  {
   "cell_type": "markdown",
   "metadata": {},
   "source": [
    "### Full outer join\n",
    "\n",
    "Join the two data frames, on names fields, keeping all categories in either df:"
   ]
  },
  {
   "cell_type": "code",
   "execution_count": null,
   "metadata": {},
   "outputs": [],
   "source": []
  },
  {
   "cell_type": "markdown",
   "metadata": {},
   "source": [
    "### Inner join\n",
    "\n",
    "Join the two data frames, on names fields, keeping only common categories in both df's:"
   ]
  },
  {
   "cell_type": "code",
   "execution_count": null,
   "metadata": {},
   "outputs": [],
   "source": []
  },
  {
   "cell_type": "markdown",
   "metadata": {},
   "source": [
    "Now, the question:\n",
    "\n",
    "- Merge the **flights** and **dep_delay_origin_dest2** data frames into **flights2**, so that we have the count of flights and average departure delay for each airport pair on all rows.\n",
    "- Create a new column **dev_delay** which will show the difference between the departure delay and the average departure delay for each row.\n",
    "\n",
    "Then report the first 10 rows of **flights2** in decreasing order as such:\n",
    "\n",
    "```R\n",
    "       origin dest year month day dep_time dep_delay arr_time arr_delay cancelled carrier tailnum flight air_time\n",
    "26298     EWR  DFW 2014    10   4      727      1498     1008      1494         0      AA  N4WJAA   1381      200\n",
    "94999     JFK  BOS 2014     4  15     1341      1241     1443      1223         0      AA  N3FNAA    256       39\n",
    "3809      EWR  ATL 2014     7  14      823      1087     1046      1090         0      DL  N966AT    673       97\n",
    "24951     EWR  DFW 2014     6  13     1046      1071     1329      1064         0      AA  N502AA   2488      175\n",
    "26816     EWR  DFW 2014     9  12      636      1056     1015      1115         0      AA  N548AA   1642      198\n",
    "24850     EWR  DFW 2014     6  16      731      1022     1057      1073         0      AA  N491AA    320      178\n",
    "128692    JFK  MCO 2014     2  21      844      1014     1151      1007         0      DL  N983DL   2459      139\n",
    "105903    JFK  DEN 2014     2  15     1244      1003     1517       994         0      DL  N3747D    475      242\n",
    "26848     EWR  DFW 2014     6  11     1119       989     1411       991         0      AA  N569AA   1691      194\n",
    "223331    LGA  MIA 2014     1   2     1108       973     1456       996         0      DL  N980DL   2139      156\n",
    "       distance hour min      dates weekdays count av_dep_delay dev_delay\n",
    "26298      1372    7  27 2014-10-04      Cmt  2224    16.616906 1481.3831\n",
    "94999       187   13  41 2014-04-15      Sal  4111    11.584529 1229.4155\n",
    "3809        746    8  23 2014-07-14      Pzt  4182    17.602822 1069.3972\n",
    "24951      1372   10  46 2014-06-13      Cum  2224    16.616906 1054.3831\n",
    "26816      1372    6  36 2014-09-12      Cum  2224    16.616906 1039.3831\n",
    "24850      1372    7  31 2014-06-16      Pzt  2224    16.616906 1005.3831\n",
    "128692      944    8  44 2014-02-21      Cum  4467    13.477726 1000.5223\n",
    "105903     1626   12  44 2014-02-15      Cmt   579    18.226252  984.7737\n",
    "26848      1372   11  19 2014-06-11      Çar  2224    16.616906  972.3831\n",
    "223331     1096   11   8 2014-01-02      Per  5084     6.030488  966.9695\n",
    "```\n"
   ]
  },
  {
   "cell_type": "markdown",
   "metadata": {},
   "source": [
    "## SOLUTION 4"
   ]
  },
  {
   "cell_type": "code",
   "execution_count": null,
   "metadata": {},
   "outputs": [],
   "source": []
  },
  {
   "cell_type": "markdown",
   "metadata": {},
   "source": [
    "## QUESTION 5\n",
    "\n",
    "Using **dep_delay_origin_dest2**, create a data frame called **origin_dest_wide** which shows the average departure delay for every unique origin and destination. Its rows must be unique destinations and its columns must be unique origins. \n",
    "\n",
    "Using **origin_dest_wide**, report the 10 most delaying locations for flights departing from JFK as such:\n",
    "\n",
    "```R\n",
    "    dest       JFK\n",
    "101  JAC 322.00000\n",
    "72   EGE  43.32941\n",
    "69   DTW  21.82323\n",
    "183  SAT  21.53719\n",
    "164  PSP  19.82353\n",
    "61   DEN  18.22625\n",
    "6    ATL  17.11052\n",
    "31   BUR  17.03114\n",
    "201  SMF  16.96748\n",
    "196  SJC  16.67063\n",
    "```"
   ]
  },
  {
   "cell_type": "markdown",
   "metadata": {},
   "source": [
    "## SOLUTION 5"
   ]
  },
  {
   "cell_type": "code",
   "execution_count": null,
   "metadata": {},
   "outputs": [],
   "source": []
  }
 ],
 "metadata": {
  "kernelspec": {
   "display_name": "R",
   "language": "R",
   "name": "ir"
  },
  "language_info": {
   "codemirror_mode": "r",
   "file_extension": ".r",
   "mimetype": "text/x-r-source",
   "name": "R",
   "pygments_lexer": "r",
   "version": "3.6.1"
  }
 },
 "nbformat": 4,
 "nbformat_minor": 4
}
