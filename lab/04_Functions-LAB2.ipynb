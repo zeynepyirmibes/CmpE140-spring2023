{
  "cells": [
    {
      "cell_type": "markdown",
      "source": [
        "## Q1\n",
        "\n",
        "Write a function with the name \"FtoC\" that takes a temperature measurement in degrees Fahrenheit, and returns the equivalent value in degrees Celsius. Make sure that your function works with vector input, too.\n",
        "\n",
        "**Answer:**"
      ],
      "metadata": {
        "id": "oezOu8wrgbZI"
      },
      "id": "oezOu8wrgbZI"
    },
    {
      "cell_type": "code",
      "source": [],
      "metadata": {
        "id": "Vvcz_F1Ugeve"
      },
      "id": "Vvcz_F1Ugeve",
      "execution_count": null,
      "outputs": []
    },
    {
      "cell_type": "markdown",
      "source": [
        "## Q2\n",
        "\n",
        "Write a function with the name bmi that takes two arguments, height and weight, and returns the body-mass index calculated with these argument values. The function should work with vector input, too.\n",
        "\n",
        "**Answer:**"
      ],
      "metadata": {
        "id": "GFFVZvXigffG"
      },
      "id": "GFFVZvXigffG"
    },
    {
      "cell_type": "code",
      "source": [],
      "metadata": {
        "id": "BTeVkie1ghYL"
      },
      "id": "BTeVkie1ghYL",
      "execution_count": null,
      "outputs": []
    },
    {
      "cell_type": "markdown",
      "source": [
        "## Q3\n",
        "\n",
        "Write a function named range that takes a vector of numbers, and returns the difference between its minimum and the maximum elements. Test your function with some randomly-generated vectors.\n",
        "\n",
        "\n",
        "**Answer:**"
      ],
      "metadata": {
        "id": "PfJfxL2ygiCc"
      },
      "id": "PfJfxL2ygiCc"
    },
    {
      "cell_type": "code",
      "source": [],
      "metadata": {
        "id": "W4joB_XWgj31"
      },
      "id": "W4joB_XWgj31",
      "execution_count": null,
      "outputs": []
    },
    {
      "cell_type": "markdown",
      "source": [
        "## Question 4\n",
        "\n",
        "In the movie La La Land, there is a scene where Sebastian plays the piano in a jazz club and get fired afterwards . Suppose we want to analyze the notes that Sebastian plays during this scene, and identify the actual notes based on the piano keys. Every time Sebastion plays the piano there will be a new group of 6 notes.Write a function called saving_sebastian and try to make him play 2 different songs. Maybe this time he will not get fired.\n",
        "\n",
        "-\t You should assign numbers from 1 to 7. These numbers represent the amount of each note played during the scene\n",
        "-\tYou can use noquote function in order to get all the values as desired\n",
        "-\tYou need to take the notes as follows: C, C#, D, D#, E, F\n",
        "\n",
        "\n",
        "\n",
        "**Answer:**"
      ],
      "metadata": {
        "id": "NWwcQV5xgkG7"
      },
      "id": "NWwcQV5xgkG7"
    },
    {
      "cell_type": "code",
      "source": [],
      "metadata": {
        "id": "M0hKnlUwgmcp"
      },
      "id": "M0hKnlUwgmcp",
      "execution_count": null,
      "outputs": []
    },
    {
      "cell_type": "markdown",
      "source": [
        "## Question 5\n",
        "\n",
        "A businesswoman is looking for new investing opportunities. She wants to create a tool that would calculate FCFF(Free Cash Flow to the Firm) model -  a measurement of a company's profitability. Create a function called FCFF, which takes the company's financial indicators as inputs, and returns its FCFF. Assume a tax rate to be 30%.\n",
        "\n",
        "Formula for calculating FCFF: $$FCFF=CFO+(IE×(1−TR))−CAPEX$$\n",
        "where:\n",
        "- CFO: Cash flow from operations\n",
        "- IE: Interest Expense\n",
        "- CAPEX: Capital expenditures\n",
        "\n",
        "The companies for evaluation:\n",
        "- Company A: \n",
        " - $8.519 billion (operating cash flow), \n",
        "\n",
        " - $3.349 billion (capital expenditure), \n",
        "\n",
        " - $300 million (interest)\n",
        "\n",
        "- Company B: \n",
        "  - $9.236 billion (operating cash flow),\n",
        "\n",
        "  - $5.936 billion (capital expenditure),\n",
        "\n",
        "  - $500 million (interest)\n",
        "\n",
        "Which company should she invest to?\n",
        "\n",
        "**Answer:**"
      ],
      "metadata": {
        "id": "jJ4h30HvgsTt"
      },
      "id": "jJ4h30HvgsTt"
    },
    {
      "cell_type": "code",
      "source": [],
      "metadata": {
        "id": "TaNbsNCjinmK"
      },
      "id": "TaNbsNCjinmK",
      "execution_count": null,
      "outputs": []
    },
    {
      "cell_type": "markdown",
      "source": [
        "## Question 6\n",
        "\n",
        "Tayyip is an investor wanting to diversify his portfolio, and when he invests in a company, he wants to see the return rate in real terms. As a result, he chooses to write a function with two parameters: \"inflation\" and \"return\". Write Tayyip's function for him. You should provide an example real return value for a stock with a nominal return of 6% and inflation of 9%.\n",
        "\n",
        "A stock's real return rate is computed by subtracting inflation from the nominal return.\n",
        "\n",
        "**Answer:**"
      ],
      "metadata": {
        "id": "D_97HSZCiomP"
      },
      "id": "D_97HSZCiomP"
    },
    {
      "cell_type": "code",
      "source": [],
      "metadata": {
        "id": "wa0uaYwuirjk"
      },
      "id": "wa0uaYwuirjk",
      "execution_count": null,
      "outputs": []
    },
    {
      "cell_type": "markdown",
      "source": [
        "## Question 7\n",
        "\n",
        " Ayse wants to create a function for the savings system they have set for herself and her sister. According to this, they will first take the square root of the pocket money that is more than 100 TL and round it to the nearest integer, then multiply it by 5 and put it in the money box. Ayse and her sister collected 348 and 273 TL, respectively, during the feast. Accordingly, write the function that Ayse should create separately to find the amount they will put into the money box after the feast. \n",
        " \n",
        " (Don't worry about a number that falls in the middle of two integers, the round() function rounds .5 to the nearest top value)\n",
        "\n",
        "**Answer:**"
      ],
      "metadata": {
        "id": "kMKql9YfirrE"
      },
      "id": "kMKql9YfirrE"
    },
    {
      "cell_type": "code",
      "source": [],
      "metadata": {
        "id": "64v8TLXoit1I"
      },
      "id": "64v8TLXoit1I",
      "execution_count": null,
      "outputs": []
    },
    {
      "cell_type": "markdown",
      "source": [
        "## Question 8\n",
        "\n",
        "2 friends, Gizem and Esra, want to go to Antalya from Istanbul. Gizem suggests that they should go through Balıkesir but Esra thinks going through Kutahya is more economical. \n",
        "\n",
        "If they go through Balikesir, they have to travel 714 km and if they go through Kutahya, they will travel 692 km. However, their car would use 6.5 liters oil per 100 kilometers through Balıkesir and 6.6 liters oil per 100 km through Kutahya. \n",
        "\n",
        "Write a function that calculates how much these routes would cost them with different prices of oil. For instance, currently 1 liter of oil is 21.28 tl and if you put 21.28 as input your output should be:\n",
        "\n",
        "\n",
        "```r\n",
        "[1] \"Cost of choosing Balikesir is 987.6048 TL and cost of choosing Kutahya is 971.90016 TL\"\n",
        "```\n",
        "\n",
        "**Answer:**\n",
        "\n"
      ],
      "metadata": {
        "id": "XOCZQVzPivhu"
      },
      "id": "XOCZQVzPivhu"
    },
    {
      "cell_type": "code",
      "source": [],
      "metadata": {
        "id": "shhS2bXNi8JB"
      },
      "id": "shhS2bXNi8JB",
      "execution_count": null,
      "outputs": []
    },
    {
      "cell_type": "markdown",
      "source": [
        "## Question 9\n",
        "\n",
        "Create a function that will swap _only_ the first and second values of a vector\n",
        "\n",
        "Examples:\n",
        "\n",
        "```r\n",
        "vec1 <- c(1,2,3,4,5,6)\n",
        "vec2 <- c('first', 'second', 'third', 'fourth')\n",
        "\n",
        "Outputs:\n",
        "1 2 3 4 5 6\n",
        "\"first\"  \"second\" \"third\"  \"fourth\"\n",
        "```\n",
        "```r\n",
        "swap(vec1)\n",
        "swap(vec2)\n",
        "\n",
        "Outputs:\n",
        "2 1 3 4 5 6\n",
        "\"second\" \"first\"  \"third\"  \"fourth\"\n",
        "```\n",
        "\n",
        "**Answer:**"
      ],
      "metadata": {
        "id": "m6oA0JEOjHU4"
      },
      "id": "m6oA0JEOjHU4"
    },
    {
      "cell_type": "code",
      "source": [],
      "metadata": {
        "id": "XISgpAYHjKo3"
      },
      "id": "XISgpAYHjKo3",
      "execution_count": null,
      "outputs": []
    },
    {
      "cell_type": "markdown",
      "source": [
        "## Question 10\n",
        "\n",
        "Create a function to calculate break even amount of units to sold when fixed cost(FC) is 100 TL and variable cost(VC) per unit is 1.4 TL.\n",
        "\n",
        "Function should take price, fixed cost, variable cost as arguments and return the number of units to sold. \n",
        "\n",
        "$$\n",
        "Price \\times Unit = Revenue \\\\\n",
        "FC + VC \\times Unit = Cost \\\\\n",
        "Profit = Revenue - Cost\n",
        "$$\n",
        "\n",
        "Run the function with different prices\n",
        "\n",
        "*break-even: zero profit"
      ],
      "metadata": {
        "id": "6iswZsEimHva"
      },
      "id": "6iswZsEimHva"
    },
    {
      "cell_type": "code",
      "source": [],
      "metadata": {
        "id": "FCGfDplpm-Uo"
      },
      "id": "FCGfDplpm-Uo",
      "execution_count": null,
      "outputs": []
    }
  ],
  "metadata": {
    "language_info": {
      "name": "python"
    },
    "colab": {
      "provenance": []
    },
    "kernelspec": {
      "name": "python3",
      "display_name": "Python 3"
    },
    "gpuClass": "standard"
  },
  "nbformat": 4,
  "nbformat_minor": 5
}