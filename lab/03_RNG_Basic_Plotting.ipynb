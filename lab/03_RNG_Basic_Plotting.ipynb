{
 "cells": [
  {
   "cell_type": "code",
   "execution_count": null,
   "metadata": {},
   "outputs": [],
   "source": [
    "options(repr.plot.width=5, repr.plot.height=4)\n",
    "options(jupyter.rich_display = FALSE)"
   ]
  },
  {
   "cell_type": "markdown",
   "metadata": {},
   "source": [
    "# SEQUENCES, REPETITIONS AND RANDOM NUMBER GENERATION"
   ]
  },
  {
   "cell_type": "markdown",
   "metadata": {},
   "source": [
    "## SEQUENCES"
   ]
  },
  {
   "cell_type": "markdown",
   "metadata": {},
   "source": [
    "First take a look at the help of `seq()` function"
   ]
  },
  {
   "cell_type": "code",
   "execution_count": null,
   "metadata": {},
   "outputs": [],
   "source": [
    "?seq"
   ]
  },
  {
   "cell_type": "markdown",
   "metadata": {},
   "source": [
    "```r\n",
    "seq(from = 1, to = 1, by = ((to - from)/(length.out - 1)), length.out = NULL)\n",
    "```\n",
    "\n",
    "You can use any two or three of the \"from\", \"to\", \"by\" and \"length.out\" arguments"
   ]
  },
  {
   "cell_type": "markdown",
   "metadata": {},
   "source": [
    "### QUESTION 1"
   ]
  },
  {
   "cell_type": "markdown",
   "metadata": {},
   "source": [
    "Create:\n",
    "- A sequence of values from 1, of 20 values (length.out) and with steps of 3 (by), save in **seq_1** as such:\n",
    "\n",
    "```r\n",
    "> seq_1\n",
    "\n",
    "[1]  1  4  7 10 13 16 19 22 25 28 31 34 37 40 43 46 49 52 55 58\n",
    "```\n",
    "\n",
    "- A sequence of values from 1 to 134 with steps of 7, save in **seq_2** as such:\n",
    "\n",
    "```r\n",
    "> seq_2\n",
    "\n",
    "[1]   1   8  15  22  29  36  43  50  57  64  71  78  85  92  99 106 113 120 127\n",
    "[20] 134\n",
    "```\n",
    "\n",
    "- A sequence of values to from 42 to 150 with 10 elements, save in **seq_3** as such:\n",
    "\n",
    "```r\n",
    "> seq_3\n",
    "\n",
    "[1]  42  54  66  78  90 102 114 126 138 150\n",
    "```"
   ]
  },
  {
   "cell_type": "markdown",
   "metadata": {},
   "source": [
    "### ANSWER 1"
   ]
  },
  {
   "cell_type": "code",
   "execution_count": null,
   "metadata": {
    "scrolled": true
   },
   "outputs": [],
   "source": []
  },
  {
   "cell_type": "markdown",
   "metadata": {},
   "source": [
    "## REPETITIONS"
   ]
  },
  {
   "cell_type": "markdown",
   "metadata": {},
   "source": [
    "Take a look at the help of function `rep()`"
   ]
  },
  {
   "cell_type": "code",
   "execution_count": null,
   "metadata": {},
   "outputs": [],
   "source": [
    "?rep"
   ]
  },
  {
   "cell_type": "markdown",
   "metadata": {},
   "source": [
    "### QUESTION 2"
   ]
  },
  {
   "cell_type": "markdown",
   "metadata": {},
   "source": [
    "Repeat:\n",
    "\n",
    "- **seq_3** twice and save into object **seq_3a** as such:\n",
    "\n",
    "```r\n",
    "> seq_3\n",
    "\n",
    "[1]  42  54  66  78  90 102 114 126 138 150  42  54  66  78  90 102 114 126 138\n",
    "[20] 150\n",
    "```\n",
    "\n",
    "\n",
    "- each item of **seq_3** twice and save into object **seq_3b** as such:\n",
    "\n",
    "```r\n",
    "> seq_3b\n",
    "\n",
    "[1]  42  42  54  54  66  66  78  78  90  90 102 102 114 114 126 126 138 138 150\n",
    "[20] 150\n",
    "```"
   ]
  },
  {
   "cell_type": "markdown",
   "metadata": {},
   "source": [
    "### ANSWER 2"
   ]
  },
  {
   "cell_type": "code",
   "execution_count": null,
   "metadata": {},
   "outputs": [],
   "source": []
  },
  {
   "cell_type": "markdown",
   "metadata": {},
   "source": [
    "## RANDOM SAMPLES"
   ]
  },
  {
   "cell_type": "markdown",
   "metadata": {},
   "source": [
    "Take a look at the help of `sample()` function:"
   ]
  },
  {
   "cell_type": "code",
   "execution_count": null,
   "metadata": {},
   "outputs": [],
   "source": [
    "?sample"
   ]
  },
  {
   "cell_type": "markdown",
   "metadata": {},
   "source": [
    "### QUESTION 3"
   ]
  },
  {
   "cell_type": "markdown",
   "metadata": {},
   "source": [
    "First run:\n",
    "```r\n",
    "RNGversion(\"3.3.1\")\n",
    "```\n",
    "\n",
    "- Set seed to 1923 with `set.seed(1923)`. Get a random sample of 10 items out of **seq_1**, without repetition, save into **samp_1** as such:\n",
    "\n",
    "```r\n",
    "> samp_1\n",
    "\n",
    "[1] 16  1 28  4 40 43 37 46 52 10\n",
    "```\n",
    "\n",
    "- Set seed to 1977 with `set.seed(1977)`. Get a random sample of 10 items out of **seq_2**, with repetition, save into **samp_2** as such:\n",
    "\n",
    "```r\n",
    "> samp_2\n",
    "\n",
    "[1]  64  71  92  15  57 127  50  57  29  57\n",
    "```"
   ]
  },
  {
   "cell_type": "markdown",
   "metadata": {},
   "source": [
    "### ANSWER 3"
   ]
  },
  {
   "cell_type": "code",
   "execution_count": null,
   "metadata": {},
   "outputs": [],
   "source": [
    "RNGversion(\"3.3.1\")\n",
    "set.seed(1923)\n",
    "\n",
    "\n",
    "RNGversion(\"3.3.1\")\n",
    "set.seed(1977)\n"
   ]
  },
  {
   "cell_type": "markdown",
   "metadata": {},
   "source": [
    "# NAMES"
   ]
  },
  {
   "cell_type": "markdown",
   "metadata": {},
   "source": [
    "## QUESTION 4"
   ]
  },
  {
   "cell_type": "markdown",
   "metadata": {},
   "source": [
    "Name **samp_1** and **samp_2** with the first 10 letters (use built-in **letters** vector and `names()` function) as such:\n",
    "\n",
    "```r\n",
    "> samp_1\n",
    "\n",
    " a  b  c  d  e  f  g  h  i  j \n",
    "16  1 28  4 40 43 37 46 52 10 \n",
    "\n",
    "> samp_2\n",
    "\n",
    "  a   b   c   d   e   f   g   h   i   j \n",
    " 64  71  92  15  57 127  50  57  29  57 \n",
    "```\n"
   ]
  },
  {
   "cell_type": "markdown",
   "metadata": {},
   "source": [
    "## ANSWER 4"
   ]
  },
  {
   "cell_type": "code",
   "execution_count": null,
   "metadata": {
    "scrolled": true
   },
   "outputs": [],
   "source": []
  },
  {
   "cell_type": "markdown",
   "metadata": {},
   "source": [
    "# ORDER AND SORT"
   ]
  },
  {
   "cell_type": "markdown",
   "metadata": {},
   "source": [
    "## ORDER"
   ]
  },
  {
   "cell_type": "markdown",
   "metadata": {},
   "source": [
    "### QUESTION 5"
   ]
  },
  {
   "cell_type": "markdown",
   "metadata": {},
   "source": [
    "Get the ascending and descending orders of **samp_1** and save into **samp_1_asc** and **samp_1_desc** as such:\n",
    "\n",
    "```r\n",
    "> samp_1_asc\n",
    "\n",
    " [1]  2  4 10  1  3  7  5  6  8  9\n",
    "\n",
    "> samp_1_desc\n",
    "\n",
    " [1]  9  8  6  5  7  3  1 10  4  2\n",
    "```"
   ]
  },
  {
   "cell_type": "markdown",
   "metadata": {},
   "source": [
    "##### ANSWER 5"
   ]
  },
  {
   "cell_type": "code",
   "execution_count": null,
   "metadata": {},
   "outputs": [],
   "source": []
  },
  {
   "cell_type": "markdown",
   "metadata": {},
   "source": [
    "### QUESTION 6"
   ]
  },
  {
   "cell_type": "markdown",
   "metadata": {},
   "source": [
    "Subset **samp_1** using the **samp_1_asc** and **samp_1_desc** vectors as indices as such:\n",
    "\n",
    "```r\n",
    "> # Your code here\n",
    "\n",
    " b  d  j  a  c  g  e  f  h  i \n",
    " 1  4 10 16 28 37 40 43 46 52 \n",
    "```"
   ]
  },
  {
   "cell_type": "markdown",
   "metadata": {},
   "source": [
    "### ANSWER 6"
   ]
  },
  {
   "cell_type": "code",
   "execution_count": null,
   "metadata": {},
   "outputs": [],
   "source": []
  },
  {
   "cell_type": "markdown",
   "metadata": {},
   "source": [
    "## ORDER BY A DIFFERENT VECTOR"
   ]
  },
  {
   "cell_type": "markdown",
   "metadata": {},
   "source": [
    "### QUESTION 7"
   ]
  },
  {
   "cell_type": "markdown",
   "metadata": {},
   "source": [
    "Subset **samp_2** with the ascending order of **samp_1** vector (you can reuse **samp_1_asc**) as such:\n",
    "\n",
    "```r\n",
    "> # Your code here\n",
    "\n",
    " b   d   j   a   c   g   e   f   h   i \n",
    " 71  15  57  64  92  50  57 127  57  29\n",
    "```"
   ]
  },
  {
   "cell_type": "markdown",
   "metadata": {},
   "source": [
    "### ANSWER 7"
   ]
  },
  {
   "cell_type": "code",
   "execution_count": null,
   "metadata": {},
   "outputs": [],
   "source": []
  },
  {
   "cell_type": "markdown",
   "metadata": {},
   "source": [
    "# SUBSET BY CONDITION"
   ]
  },
  {
   "cell_type": "markdown",
   "metadata": {},
   "source": [
    "## QUESTION 8"
   ]
  },
  {
   "cell_type": "markdown",
   "metadata": {},
   "source": [
    "- Create a boolean vector of T/F values for whether **samp_1** values are **greater than 30** as such:\n",
    "\n",
    "```r\n",
    "> # Your code here\n",
    "\n",
    "    a     b     c     d     e     f     g     h     i     j \n",
    "FALSE FALSE FALSE FALSE  TRUE  TRUE  TRUE  TRUE  TRUE FALSE \n",
    "```\n",
    "\n",
    "- Subset **samp_1** values **greater than 30** as such:\n",
    "\n",
    "```r\n",
    "> # Your code here\n",
    "\n",
    " e  f  g  h  i \n",
    "40 43 37 46 52 \n",
    "```\n",
    "\n",
    "- Subset **samp_2** with the condition where **samp_1** values are **greater than 30** (Hint: subset **samp_2** using the condition in the above step!) as such:\n",
    "\n",
    "```r\n",
    "> # Your code here\n",
    "\n",
    " e   f   g   h   i \n",
    " 57 127  50  57  29 \n",
    "```"
   ]
  },
  {
   "cell_type": "markdown",
   "metadata": {},
   "source": [
    "## ANSWER 8"
   ]
  },
  {
   "cell_type": "code",
   "execution_count": null,
   "metadata": {},
   "outputs": [],
   "source": []
  },
  {
   "cell_type": "markdown",
   "metadata": {},
   "source": [
    "## QUESTION 9"
   ]
  },
  {
   "cell_type": "markdown",
   "metadata": {},
   "source": [
    "Create **names** and corresponding **cities** vectors:"
   ]
  },
  {
   "cell_type": "code",
   "execution_count": null,
   "metadata": {},
   "outputs": [],
   "source": [
    "names <- c(\"ahmet\", \"fatma\", \"mehmet\")\n",
    "cities <- c(\"izmir\", \"izmir\", \"istanbul\")\n",
    "names\n",
    "cities"
   ]
  },
  {
   "cell_type": "markdown",
   "metadata": {},
   "source": [
    "Subset names that matches **\"izmir\"** in cities vector as such:\n",
    "\n",
    "```r\n",
    "> # Your code here\n",
    "\n",
    "[1] \"ahmet\" \"fatma\"\n",
    "```"
   ]
  },
  {
   "cell_type": "markdown",
   "metadata": {},
   "source": [
    "## ANSWER 9"
   ]
  },
  {
   "cell_type": "code",
   "execution_count": null,
   "metadata": {},
   "outputs": [],
   "source": []
  },
  {
   "cell_type": "markdown",
   "metadata": {},
   "source": [
    "# BASIC PLOTS"
   ]
  },
  {
   "cell_type": "markdown",
   "metadata": {},
   "source": [
    "## Question 10 \n",
    "\n",
    "GPA's of a graduating class of economics students are given in a normal distribution, with a mean of 2.94 and a standart deviation of 0.31. There are 79 students in total.  Draw a histogram of GPA's with 0.2 GPA per break. Make sure to show the limits of x axis clearly.\n",
    "\n",
    "Hint : You should use the \"xlim\" parameter to specify the x axis limits.\n",
    "\n",
    "\n",
    "Your output should be,\n",
    "<img src=\"https://user-images.githubusercontent.com/116463479/224458684-7a84e085-7639-4d23-b4b0-53386d570b3e.png\"  width=\"60%\">"
   ]
  },
  {
   "cell_type": "code",
   "execution_count": null,
   "metadata": {},
   "outputs": [],
   "source": [
    "RNGversion(\"3.3.1\")\n",
    "set.seed(2023)\n"
   ]
  },
  {
   "cell_type": "markdown",
   "metadata": {},
   "source": [
    "## Question 11\n",
    "\n",
    "- Generate a vector of 12 random integers (between 1 and 30) that represent the number of baby rabbits born in each month over one year period\n",
    "\n",
    "- Create a vector of month names\n",
    "\n",
    "- Plot a bar chart of the rabbit births\n",
    "\n",
    "- Set the x-axis limits to include all months\n",
    "\n",
    "- Use name.args() function in order to show months\n",
    "\n",
    "- Set las=3 to see all the month names that you have\n",
    "\n",
    "- Set the seed to 1907\n",
    "\n",
    "Your output should look like:\n",
    "\n",
    "<img src=\"https://user-images.githubusercontent.com/115809121/224556032-15e0710b-a15b-48a5-92f2-ea9b774ff05b.png\"  width=\"60%\">\n"
   ]
  },
  {
   "cell_type": "code",
   "execution_count": null,
   "metadata": {},
   "outputs": [],
   "source": [
    "RNGversion(\"3.3.1\")\n",
    "set.seed(1907)\n"
   ]
  },
  {
   "cell_type": "markdown",
   "metadata": {},
   "source": [
    "## Question 12\n",
    "\n",
    "Imagine you are doing a research about the life expectancy of people, your respondents are 60 adults of full age. According to statictics, in 2020, life expectancy for women in Turkey was about 79 years, while life expectancy at birth for men was about 73 years on average.\n",
    "\n",
    "Part 1:\n",
    "\n",
    "  - Set the seed to 3 and use RNGversion \"3.3.1\".\n",
    "  - Create two variables called \"male\" and \"female\", containing 30 random numbers representing the ages of people. \n",
    "  - Plot the relationship between Male and Female Life Expectancy as a scatter plot. e.g. Male on the x axis and Female on the y axis. \n",
    "  - Name the plot \"Male and Female Life Expectancy\". Name the axis accordingly. *Hint: main, xlab and ylab arguments are responsible for the labels\n",
    "  - Represent male observations as blue circles and female observations as red squares.\n",
    "\n",
    "Part 2:\n",
    "\n",
    "*Additional task*. Visualise the Male and Female life expectancy on a barplot side by side. You can do it by adding beside = T argument to the function. Which plot (scatter or barplot) displays the data in a better way?\n",
    "*Hint: you can use cbind() function to combine male and female samples\n",
    "\n",
    "Your output should look like:\n",
    "<img src=\"https://user-images.githubusercontent.com/126676056/225077584-8a980256-8111-40cc-8986-c697776a7511.png\"  width=\"60%\">\n",
    "\n"
   ]
  },
  {
   "cell_type": "code",
   "execution_count": null,
   "metadata": {},
   "outputs": [],
   "source": [
    "RNGversion(\"3.3.1\")\n",
    "set.seed(3)\n"
   ]
  },
  {
   "cell_type": "markdown",
   "metadata": {},
   "source": [
    "\n",
    "## Question 13\n",
    "\n",
    "In a 2005 study, researchers tried to figure out possible muscular growth differences between individuals who performed the same exercises. Total of 243 males and 342 females have examined. Let's try to replicate the research on R. \n",
    "\n",
    "Steps:\n",
    "1. Set RNGversion to \"3.3.1\" and seed to 1234\n",
    "2. Create a **histogram** for males, which consists of 243 normally distibuted numbers with a mean of 20 and standard deviation of 10\n",
    "3. Create a **histogram** for females, which consists of 342 normally distibuted numbers with a mean of 10 and standard deviation of 7\n",
    " \n",
    "4. Plot males' histogram with given specifications:<br>\n",
    "    - color: rgb(0,0,1,1/4)<br>\n",
    "    - x axis boundaries: from -20 to 60<br>\n",
    "    - y axis boundaries: from 0 to 100<br>\n",
    "    - plot name: \"Variability\"<br>\n",
    "    - x axis name: CSA Change (%)<br>\n",
    "    - y axis name: Subjects\n",
    "    \n",
    "5. Plot females' histogram, set color to _rgb(1,0,0,1/4)_ <br>\n",
    "\n",
    "    _(Hint: to add both histograms on the same plot, set \"add=TRUE\" in females' plot)_\n",
    "\n",
    "Your output should look like this:<br>\n",
    "<br>\n",
    "<img src=\"https://user-images.githubusercontent.com/77977634/225111005-3fb99643-193e-4564-bc5e-e4e3e8217293.png\"  width=\"60%\">\n"
   ]
  },
  {
   "cell_type": "code",
   "execution_count": null,
   "metadata": {},
   "outputs": [],
   "source": [
    "RNGversion(\"3.3.1\")\n",
    "set.seed(1234)\n",
    "\n"
   ]
  },
  {
   "cell_type": "markdown",
   "metadata": {},
   "source": [
    "## Question 14\n",
    "#set.seed(1923) and RNGversion(\"3.3.1\"),\n",
    "Create an uniformal distrubated vector which is between 1 and 30, and contains 15 elements. Sample 10 elements out of this vector.\n",
    "Then, find the elements which are higher than 10, and delete them from the vector.\n",
    "Show the last version of your vector.\n",
    "\n",
    "Your solution should be: </br>[1] 1.825429 9.701460"
   ]
  },
  {
   "cell_type": "code",
   "execution_count": null,
   "metadata": {},
   "outputs": [],
   "source": [
    "set.seed(1923)\n",
    "RNGversion(\"3.3.1\")\n"
   ]
  },
  {
   "cell_type": "markdown",
   "metadata": {},
   "source": [
    "## Question 15\n",
    "\n",
    "In a roulette game, there are 37 slots which are from 0 to 36. 0 is painted by green, odd numbers are painted by red and even numbers are painted by black. For each turn,  croupier starts the wheel spinning and ball falls and comes to rest between any two metal portions of the wheel and it marks the winning number and color. Simulate a roulette game 100 times. Then draw a histogram of simulation and show how many times each number won. Change the color of breaks according to their roulette color. Set the seed to 100, and set RNGversion(\"3.3.1\")\n",
    "\n",
    "Your output should be:\n",
    "\n",
    "<img src=\"https://user-images.githubusercontent.com/126677248/225126378-c94de7c7-cf0f-49d6-a8e3-8a3b39c61208.png\"  width=\"60%\">\n",
    "\n"
   ]
  },
  {
   "cell_type": "code",
   "execution_count": null,
   "metadata": {
    "scrolled": true
   },
   "outputs": [],
   "source": [
    "RNGversion(\"3.3.1\")\n",
    "set.seed(100)\n"
   ]
  }
 ],
 "metadata": {
  "kernelspec": {
   "display_name": "R",
   "language": "R",
   "name": "ir"
  },
  "language_info": {
   "codemirror_mode": "r",
   "file_extension": ".r",
   "mimetype": "text/x-r-source",
   "name": "R",
   "pygments_lexer": "r",
   "version": "3.6.1"
  },
  "toc": {
   "nav_menu": {},
   "number_sections": true,
   "sideBar": true,
   "skip_h1_title": false,
   "title_cell": "Table of Contents",
   "title_sidebar": "Contents",
   "toc_cell": false,
   "toc_position": {
    "height": "calc(100% - 180px)",
    "left": "10px",
    "top": "150px",
    "width": "256px"
   },
   "toc_section_display": "block",
   "toc_window_display": true
  },
  "varInspector": {
   "cols": {
    "lenName": 16,
    "lenType": 16,
    "lenVar": 40
   },
   "kernels_config": {
    "python": {
     "delete_cmd_postfix": "",
     "delete_cmd_prefix": "del ",
     "library": "var_list.py",
     "varRefreshCmd": "print(var_dic_list())"
    },
    "r": {
     "delete_cmd_postfix": ") ",
     "delete_cmd_prefix": "rm(",
     "library": "var_list.r",
     "varRefreshCmd": "cat(var_dic_list()) "
    }
   },
   "types_to_exclude": [
    "module",
    "function",
    "builtin_function_or_method",
    "instance",
    "_Feature"
   ],
   "window_display": false
  }
 },
 "nbformat": 4,
 "nbformat_minor": 4
}
