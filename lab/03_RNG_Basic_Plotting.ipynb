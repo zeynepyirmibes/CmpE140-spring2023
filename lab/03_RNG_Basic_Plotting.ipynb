{
 "cells": [
  {
   "cell_type": "code",
   "execution_count": null,
   "metadata": {},
   "outputs": [],
   "source": [
    "options(repr.plot.width=5, repr.plot.height=4)\n",
    "options(jupyter.rich_display = FALSE)"
   ]
  },
  {
   "cell_type": "markdown",
   "metadata": {},
   "source": [
    "# SEQUENCES, REPETITIONS AND RANDOM NUMBER GENERATION"
   ]
  },
  {
   "cell_type": "markdown",
   "metadata": {},
   "source": [
    "## SEQUENCES"
   ]
  },
  {
   "cell_type": "markdown",
   "metadata": {},
   "source": [
    "First take a look at the help of `seq()` function"
   ]
  },
  {
   "cell_type": "code",
   "execution_count": null,
   "metadata": {},
   "outputs": [],
   "source": [
    "?seq"
   ]
  },
  {
   "cell_type": "markdown",
   "metadata": {},
   "source": [
    "```r\n",
    "seq(from = 1, to = 1, by = ((to - from)/(length.out - 1)), length.out = NULL)\n",
    "```\n",
    "\n",
    "You can use any two or three of the \"from\", \"to\", \"by\" and \"length.out\" arguments"
   ]
  },
  {
   "cell_type": "markdown",
   "metadata": {},
   "source": [
    "### QUESTION 1"
   ]
  },
  {
   "cell_type": "markdown",
   "metadata": {},
   "source": [
    "Create:\n",
    "- A sequence of values from 1, of 20 values (length.out) and with steps of 3 (by), save in **seq_1** as such:\n",
    "\n",
    "```r\n",
    "> seq_1\n",
    "\n",
    "[1]  1  4  7 10 13 16 19 22 25 28 31 34 37 40 43 46 49 52 55 58\n",
    "```\n",
    "\n",
    "- A sequence of values from 1 to 134 with steps of 7, save in **seq_2** as such:\n",
    "\n",
    "```r\n",
    "> seq_2\n",
    "\n",
    "[1]   1   8  15  22  29  36  43  50  57  64  71  78  85  92  99 106 113 120 127\n",
    "[20] 134\n",
    "```\n",
    "\n",
    "- A sequence of values to from 42 to 150 with 10 elements, save in **seq_3** as such:\n",
    "\n",
    "```r\n",
    "> seq_3\n",
    "\n",
    "[1]  42  54  66  78  90 102 114 126 138 150\n",
    "```"
   ]
  },
  {
   "cell_type": "markdown",
   "metadata": {},
   "source": [
    "### ANSWER 1"
   ]
  },
  {
   "cell_type": "code",
   "execution_count": null,
   "metadata": {
    "scrolled": true
   },
   "outputs": [],
   "source": []
  },
  {
   "cell_type": "markdown",
   "metadata": {},
   "source": [
    "## REPETITIONS"
   ]
  },
  {
   "cell_type": "markdown",
   "metadata": {},
   "source": [
    "Take a look at the help of function `rep()`"
   ]
  },
  {
   "cell_type": "code",
   "execution_count": null,
   "metadata": {},
   "outputs": [],
   "source": [
    "?rep"
   ]
  },
  {
   "cell_type": "markdown",
   "metadata": {},
   "source": [
    "### QUESTION 2"
   ]
  },
  {
   "cell_type": "markdown",
   "metadata": {},
   "source": [
    "Repeat:\n",
    "\n",
    "- **seq_3** twice and save into object **seq_3a** as such:\n",
    "\n",
    "```r\n",
    "> seq_3\n",
    "\n",
    "[1]  42  54  66  78  90 102 114 126 138 150  42  54  66  78  90 102 114 126 138\n",
    "[20] 150\n",
    "```\n",
    "\n",
    "\n",
    "- each item of **seq_3** twice and save into object **seq_3b** as such:\n",
    "\n",
    "```r\n",
    "> seq_3b\n",
    "\n",
    "[1]  42  42  54  54  66  66  78  78  90  90 102 102 114 114 126 126 138 138 150\n",
    "[20] 150\n",
    "```"
   ]
  },
  {
   "cell_type": "markdown",
   "metadata": {},
   "source": [
    "### ANSWER 2"
   ]
  },
  {
   "cell_type": "code",
   "execution_count": null,
   "metadata": {},
   "outputs": [],
   "source": []
  },
  {
   "cell_type": "markdown",
   "metadata": {},
   "source": [
    "## RANDOM SAMPLES"
   ]
  },
  {
   "cell_type": "markdown",
   "metadata": {},
   "source": [
    "Take a look at the help of `sample()` function:"
   ]
  },
  {
   "cell_type": "code",
   "execution_count": null,
   "metadata": {},
   "outputs": [],
   "source": [
    "?sample"
   ]
  },
  {
   "cell_type": "markdown",
   "metadata": {},
   "source": [
    "### QUESTION 3"
   ]
  },
  {
   "cell_type": "markdown",
   "metadata": {},
   "source": [
    "First run:\n",
    "```r\n",
    "RNGversion(\"3.3.1\")\n",
    "```\n",
    "\n",
    "- Set seed to 1923 with `set.seed(1923)`. Get a random sample of 10 items out of **seq_1**, without repetition, save into **samp_1** as such:\n",
    "\n",
    "```r\n",
    "> samp_1\n",
    "\n",
    "[1] 16  1 28  4 40 43 37 46 52 10\n",
    "```\n",
    "\n",
    "- Set seed to 1977 with `set.seed(1977)`. Get a random sample of 10 items out of **seq_2**, with repetition, save into **samp_2** as such:\n",
    "\n",
    "```r\n",
    "> samp_2\n",
    "\n",
    "[1]  64  71  92  15  57 127  50  57  29  57\n",
    "```"
   ]
  },
  {
   "cell_type": "markdown",
   "metadata": {},
   "source": [
    "### ANSWER 3"
   ]
  },
  {
   "cell_type": "code",
   "execution_count": null,
   "metadata": {},
   "outputs": [],
   "source": []
  },
  {
   "cell_type": "markdown",
   "metadata": {},
   "source": [
    "# NAMES"
   ]
  },
  {
   "cell_type": "markdown",
   "metadata": {},
   "source": [
    "## QUESTION 4"
   ]
  },
  {
   "cell_type": "markdown",
   "metadata": {},
   "source": [
    "Name **samp_1** and **samp_2** with the first 10 letters (use built-in **letters** vector and `names()` function) as such:\n",
    "\n",
    "```r\n",
    "> samp_1\n",
    "\n",
    " a  b  c  d  e  f  g  h  i  j \n",
    "16  1 28  4 40 43 37 46 52 10 \n",
    "\n",
    "> samp_2\n",
    "\n",
    "  a   b   c   d   e   f   g   h   i   j \n",
    " 64  71  92  15  57 127  50  57  29  57 \n",
    "```\n"
   ]
  },
  {
   "cell_type": "markdown",
   "metadata": {},
   "source": [
    "## ANSWER 4"
   ]
  },
  {
   "cell_type": "code",
   "execution_count": null,
   "metadata": {
    "scrolled": true
   },
   "outputs": [],
   "source": []
  },
  {
   "cell_type": "markdown",
   "metadata": {},
   "source": [
    "# ORDER AND SORT"
   ]
  },
  {
   "cell_type": "markdown",
   "metadata": {},
   "source": [
    "## SORT"
   ]
  },
  {
   "cell_type": "markdown",
   "metadata": {},
   "source": [
    "Take a look at `sort()` function's help:"
   ]
  },
  {
   "cell_type": "code",
   "execution_count": null,
   "metadata": {},
   "outputs": [],
   "source": [
    "samp_1"
   ]
  },
  {
   "cell_type": "code",
   "execution_count": null,
   "metadata": {},
   "outputs": [],
   "source": [
    "samp_2"
   ]
  },
  {
   "cell_type": "code",
   "execution_count": null,
   "metadata": {},
   "outputs": [],
   "source": [
    "?sort"
   ]
  },
  {
   "cell_type": "markdown",
   "metadata": {},
   "source": [
    "### QUESTION 5"
   ]
  },
  {
   "cell_type": "markdown",
   "metadata": {},
   "source": [
    "Sort **samp_1** in ascending and descending orders as such:\n",
    "\n",
    "```r\n",
    " a  b  c  d  e  f  g  h  i  j \n",
    "16  1 28  4 40 43 37 46 52 10 \n",
    "\n",
    " b  d  j  a  c  g  e  f  h  i \n",
    " 1  4 10 16 28 37 40 43 46 52 \n",
    "\n",
    " i  h  f  e  g  c  a  j  d  b \n",
    "52 46 43 40 37 28 16 10  4  1 \n",
    "```"
   ]
  },
  {
   "cell_type": "markdown",
   "metadata": {},
   "source": [
    "### ANSWER 5"
   ]
  },
  {
   "cell_type": "code",
   "execution_count": null,
   "metadata": {
    "scrolled": true
   },
   "outputs": [],
   "source": []
  },
  {
   "cell_type": "markdown",
   "metadata": {},
   "source": [
    "## ORDER"
   ]
  },
  {
   "cell_type": "markdown",
   "metadata": {},
   "source": [
    "Take a look at `order()` function's help:"
   ]
  },
  {
   "cell_type": "code",
   "execution_count": null,
   "metadata": {},
   "outputs": [],
   "source": [
    "?order"
   ]
  },
  {
   "cell_type": "markdown",
   "metadata": {},
   "source": [
    "### QUESTION 6"
   ]
  },
  {
   "cell_type": "markdown",
   "metadata": {},
   "source": [
    "Get the ascending and descending orders of **samp_1** and save into **samp_1_asc** and **samp_1_desc** as such:\n",
    "\n",
    "```r\n",
    "> samp_1_asc\n",
    "\n",
    " [1]  2  4 10  1  3  7  5  6  8  9\n",
    "\n",
    "> samp_1_desc\n",
    "\n",
    " [1]  9  8  6  5  7  3  1 10  4  2\n",
    "```"
   ]
  },
  {
   "cell_type": "markdown",
   "metadata": {},
   "source": [
    "### ANSWER 6"
   ]
  },
  {
   "cell_type": "code",
   "execution_count": null,
   "metadata": {},
   "outputs": [],
   "source": []
  },
  {
   "cell_type": "markdown",
   "metadata": {},
   "source": [
    "### QUESTION 7"
   ]
  },
  {
   "cell_type": "markdown",
   "metadata": {},
   "source": [
    "Subset **samp_1** using the **samp_1_asc** and **samp_1_desc** vectors as indices as such:\n",
    "\n",
    "```r\n",
    "> # Your code here\n",
    "\n",
    " b  d  j  a  c  g  e  f  h  i \n",
    " 1  4 10 16 28 37 40 43 46 52 \n",
    "```"
   ]
  },
  {
   "cell_type": "markdown",
   "metadata": {},
   "source": [
    "### ANSWER 7"
   ]
  },
  {
   "cell_type": "code",
   "execution_count": null,
   "metadata": {},
   "outputs": [],
   "source": []
  },
  {
   "cell_type": "markdown",
   "metadata": {},
   "source": [
    "## ORDER BY A DIFFERENT VECTOR"
   ]
  },
  {
   "cell_type": "markdown",
   "metadata": {},
   "source": [
    "Show **samp_2** as is\n",
    "\n",
    "Sort the **samp_1** in ascending order again as such:"
   ]
  },
  {
   "cell_type": "code",
   "execution_count": null,
   "metadata": {},
   "outputs": [],
   "source": [
    "samp_1\n",
    "samp_2\n",
    "sort(samp_1)"
   ]
  },
  {
   "cell_type": "markdown",
   "metadata": {},
   "source": [
    "### QUESTION 8"
   ]
  },
  {
   "cell_type": "markdown",
   "metadata": {},
   "source": [
    "Subset **samp_2** with the ascending order of **samp_1** vector (you can reuse **samp_1_asc**) as such:\n",
    "\n",
    "```r\n",
    "> # Your code here\n",
    "\n",
    " b   d   j   a   c   g   e   f   h   i \n",
    " 71  15  57  64  92  50  57 127  57  29\n",
    "```"
   ]
  },
  {
   "cell_type": "markdown",
   "metadata": {},
   "source": [
    "### ANSWER 8"
   ]
  },
  {
   "cell_type": "code",
   "execution_count": null,
   "metadata": {},
   "outputs": [],
   "source": []
  },
  {
   "cell_type": "markdown",
   "metadata": {},
   "source": [
    "# SUBSET BY CONDITION"
   ]
  },
  {
   "cell_type": "markdown",
   "metadata": {},
   "source": [
    "Print **samp_1**, **samp_2** vectors again"
   ]
  },
  {
   "cell_type": "code",
   "execution_count": null,
   "metadata": {},
   "outputs": [],
   "source": [
    "samp_2\n",
    "samp_2 > 40"
   ]
  },
  {
   "cell_type": "code",
   "execution_count": null,
   "metadata": {},
   "outputs": [],
   "source": [
    "samp_1[samp_2 > 40]"
   ]
  },
  {
   "cell_type": "code",
   "execution_count": null,
   "metadata": {},
   "outputs": [],
   "source": [
    "samp_2[samp_2 > 40]"
   ]
  },
  {
   "cell_type": "code",
   "execution_count": null,
   "metadata": {},
   "outputs": [],
   "source": [
    "samp_1\n",
    "samp_2"
   ]
  },
  {
   "cell_type": "markdown",
   "metadata": {},
   "source": [
    "## QUESTION 9"
   ]
  },
  {
   "cell_type": "markdown",
   "metadata": {},
   "source": [
    "- Create a boolean vector of T/F values for whether **samp_1** values are **greater than 30** as such:\n",
    "\n",
    "```r\n",
    "> # Your code here\n",
    "\n",
    "    a     b     c     d     e     f     g     h     i     j \n",
    "FALSE FALSE FALSE FALSE  TRUE  TRUE  TRUE  TRUE  TRUE FALSE \n",
    "```\n",
    "\n",
    "- Subset **samp_1** values **greater than 30** as such:\n",
    "\n",
    "```r\n",
    "> # Your code here\n",
    "\n",
    " e  f  g  h  i \n",
    "40 43 37 46 52 \n",
    "```\n",
    "\n",
    "- Subset **samp_2** with the condition where **samp_1** values are **greater than 30** (Hint: subset **samp_2** using the condition in the above step!) as such:\n",
    "\n",
    "```r\n",
    "> # Your code here\n",
    "\n",
    " e   f   g   h   i \n",
    " 57 127  50  57  29 \n",
    "```"
   ]
  },
  {
   "cell_type": "markdown",
   "metadata": {},
   "source": [
    "## ANSWER 9"
   ]
  },
  {
   "cell_type": "code",
   "execution_count": null,
   "metadata": {},
   "outputs": [],
   "source": []
  },
  {
   "cell_type": "markdown",
   "metadata": {},
   "source": [
    "## QUESTION 10"
   ]
  },
  {
   "cell_type": "markdown",
   "metadata": {},
   "source": [
    "Create **names** and corresponding **cities** vectors:"
   ]
  },
  {
   "cell_type": "code",
   "execution_count": null,
   "metadata": {},
   "outputs": [],
   "source": [
    "names <- c(\"ahmet\", \"fatma\", \"mehmet\")\n",
    "cities <- c(\"izmir\", \"izmir\", \"istanbul\")\n",
    "names\n",
    "cities"
   ]
  },
  {
   "cell_type": "markdown",
   "metadata": {},
   "source": [
    "Subset names that matches **\"izmir\"** in cities vector as such:\n",
    "\n",
    "```r\n",
    "> # Your code here\n",
    "\n",
    "[1] \"ahmet\" \"fatma\"\n",
    "```"
   ]
  },
  {
   "cell_type": "markdown",
   "metadata": {},
   "source": [
    "## ANSWER 10"
   ]
  },
  {
   "cell_type": "code",
   "execution_count": null,
   "metadata": {},
   "outputs": [],
   "source": []
  },
  {
   "cell_type": "markdown",
   "metadata": {},
   "source": [
    "# BASIC PLOTS"
   ]
  },
  {
   "cell_type": "markdown",
   "metadata": {},
   "source": [
    "## SCATTERPLOT"
   ]
  },
  {
   "cell_type": "markdown",
   "metadata": {},
   "source": [
    "Remember the example from the lecture:"
   ]
  },
  {
   "cell_type": "code",
   "execution_count": 1,
   "metadata": {},
   "outputs": [
    {
     "data": {
      "image/png": "[encoded data removed]",
      "text/plain": [
       "Plot with title \"Weight vs. height\""
      ]
     },
     "metadata": {},
     "output_type": "display_data"
    },
    {
     "data": {
      "image/png": "[encoded data removed]",
      "text/plain": [
       "Plot with title \"Weight vs. height\""
      ]
     },
     "metadata": {},
     "output_type": "display_data"
    }
   ],
   "source": [
    "heights <- c(1.70, 1.67, 1.75, 1.62, 1.81)\n",
    "weights <- c(65, 70, 66, 61, 85)\n",
    "plot(heights, weights,\n",
    "     xlab=\"height (m)\",\n",
    "     ylab=\"weight (kg)\")\n",
    "title(\"Weight vs. height\")\n",
    "\n",
    "plot(heights, weights,\n",
    "     pch=4,\n",
    "     col=\"red\",\n",
    "     xlab=\"height (m)\",\n",
    "     ylab=\"weight (kg)\",\n",
    "     main = \"Weight vs. height\")\n"
   ]
  },
  {
   "cell_type": "markdown",
   "metadata": {},
   "source": [
    "### QUESTION 11"
   ]
  },
  {
   "attachments": {
    "image.png": {
     "image/png": "[encoded data removed]"
    }
   },
   "cell_type": "markdown",
   "metadata": {},
   "source": [
    "- Create a scatterplot across **samp_1** and **samp_2**\n",
    "- Name the title as \"Sample 1 vs. Sample 2\"\n",
    "- Name x axis as \"Sample 1\" and y axis as \"Sample 2\"\n",
    "- Color the marker as \"$\\blue$\" as such:\n",
    "\n",
    "![image.png](attachment:image.png)"
   ]
  },
  {
   "cell_type": "markdown",
   "metadata": {},
   "source": [
    "### ANSWER 11"
   ]
  },
  {
   "cell_type": "code",
   "execution_count": null,
   "metadata": {},
   "outputs": [],
   "source": []
  },
  {
   "cell_type": "markdown",
   "metadata": {},
   "source": [
    "## LINE PLOT"
   ]
  },
  {
   "cell_type": "markdown",
   "metadata": {},
   "source": [
    "Remember the example from the Lecture:"
   ]
  },
  {
   "cell_type": "code",
   "execution_count": null,
   "metadata": {},
   "outputs": [],
   "source": [
    "heights <- c(1.70, 1.67, 1.75, 1.62, 1.81)\n",
    "weights <- c(65, 70, 66, 61, 85)\n",
    "\n",
    "plot(sort(heights), weights[order(heights)], type=\"l\")"
   ]
  },
  {
   "cell_type": "markdown",
   "metadata": {},
   "source": [
    "### QUESTION 12"
   ]
  },
  {
   "attachments": {
    "image.png": {
     "image/png": "[encoded data removed]"
    }
   },
   "cell_type": "markdown",
   "metadata": {},
   "source": [
    "- Draw a line plot where\n",
    "- x axis has ascending sorted **samp_1**\n",
    "- Y axis has **samp_2** sorted with the ascending order of **samp_1** (don't directly sort **samp_2**, use the order of **samp_1**\n",
    "- Superimpose the same values as $\\red$ circles\n",
    "\n",
    "as such:\n",
    "\n",
    "![image.png](attachment:image.png)"
   ]
  },
  {
   "cell_type": "markdown",
   "metadata": {},
   "source": [
    "### ANSWER 12"
   ]
  },
  {
   "cell_type": "code",
   "execution_count": null,
   "metadata": {},
   "outputs": [],
   "source": []
  },
  {
   "cell_type": "code",
   "execution_count": null,
   "metadata": {},
   "outputs": [],
   "source": []
  },
  {
   "cell_type": "markdown",
   "metadata": {},
   "source": [
    "## HISTOGRAM"
   ]
  },
  {
   "cell_type": "markdown",
   "metadata": {},
   "source": [
    "### QUESTION 13"
   ]
  },
  {
   "attachments": {
    "image.png": {
     "image/png": "[encoded data removed]"
    }
   },
   "cell_type": "markdown",
   "metadata": {},
   "source": [
    "Start with:\n",
    "\n",
    "```r\n",
    "RNGversion(\"3.3.1\")\n",
    "set.seed(20191011)\n",
    "```\n",
    "\n",
    "- Create sample of 1000 values out of dice rolls (with replacement), assign into **dices1** vector and draw its histogram. Provide the breaks explicitly as all possible discrete values (starting from 0 up to 6) as such:\n",
    "\n",
    "![image.png](attachment:image.png)"
   ]
  },
  {
   "attachments": {
    "image.png": {
     "image/png": "[encoded data removed]"
    }
   },
   "cell_type": "markdown",
   "metadata": {},
   "source": [
    "- Create three samples of 1000 values out of dice rolls (with replacement), sum them up and assign into **dices2** vector and draw its histogram. Provide the breaks explicitly as all possible discrete values (starting from 0 up to 18) as such:\n",
    "\n",
    "![image.png](attachment:image.png)\n",
    "\n",
    "Why does the shape change?"
   ]
  },
  {
   "cell_type": "markdown",
   "metadata": {},
   "source": [
    "### ANSWER 13"
   ]
  },
  {
   "cell_type": "code",
   "execution_count": null,
   "metadata": {},
   "outputs": [],
   "source": []
  }
 ],
 "metadata": {
  "kernelspec": {
   "display_name": "R",
   "language": "R",
   "name": "ir"
  },
  "language_info": {
   "codemirror_mode": "r",
   "file_extension": ".r",
   "mimetype": "text/x-r-source",
   "name": "R",
   "pygments_lexer": "r",
   "version": "3.6.1"
  },
  "toc": {
   "nav_menu": {},
   "number_sections": true,
   "sideBar": true,
   "skip_h1_title": false,
   "title_cell": "Table of Contents",
   "title_sidebar": "Contents",
   "toc_cell": false,
   "toc_position": {
    "height": "calc(100% - 180px)",
    "left": "10px",
    "top": "150px",
    "width": "256px"
   },
   "toc_section_display": "block",
   "toc_window_display": true
  },
  "varInspector": {
   "cols": {
    "lenName": 16,
    "lenType": 16,
    "lenVar": 40
   },
   "kernels_config": {
    "python": {
     "delete_cmd_postfix": "",
     "delete_cmd_prefix": "del ",
     "library": "var_list.py",
     "varRefreshCmd": "print(var_dic_list())"
    },
    "r": {
     "delete_cmd_postfix": ") ",
     "delete_cmd_prefix": "rm(",
     "library": "var_list.r",
     "varRefreshCmd": "cat(var_dic_list()) "
    }
   },
   "types_to_exclude": [
    "module",
    "function",
    "builtin_function_or_method",
    "instance",
    "_Feature"
   ],
   "window_display": false
  }
 },
 "nbformat": 4,
 "nbformat_minor": 4
}
