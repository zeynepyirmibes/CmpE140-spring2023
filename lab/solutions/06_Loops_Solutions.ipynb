{
 "cells": [
  {
   "cell_type": "markdown",
   "metadata": {
    "id": "Q5em3Ce5sfco"
   },
   "source": [
    "## Question 1\n",
    "\n",
    "Write a function to check if a given number is prime or not."
   ]
  },
  {
   "cell_type": "code",
   "execution_count": null,
   "metadata": {
    "id": "goY96O_2sjP4"
   },
   "outputs": [],
   "source": [
    "is_prime <- function(n) {\n",
    "  if (n < 2) {\n",
    "    return(FALSE)\n",
    "  }\n",
    "  else if (n == 2) {\n",
    "    return(TRUE)\n",
    "  }\n",
    "  else {\n",
    "  for (i in 2:(n-1)) {\n",
    "    if (n %% i == 0) {\n",
    "      return(FALSE)\n",
    "    }\n",
    "  }\n",
    "  return(TRUE)\n",
    "  }\n",
    "}"
   ]
  },
  {
   "cell_type": "markdown",
   "metadata": {
    "id": "PTgj6mlcsjrN"
   },
   "source": [
    "## Question 2\n",
    "\n",
    " Write a function that sums the values in the given vectors in **\"x <- c(1,2,3,\"+\",1,2)\"** format. In the example, input contains two numbers, 123 and 12, and the digits of the numbers split by comma.\n",
    " For easy solution you should write two function. First one converts digits to numbers. Second function split the input by two from the plus sign and create two vectors. Then using first function, return the sum of this two vectors.\n",
    " \n",
    " Hint: Since the mode of the input is character, you should use as.numeric -a built-in function- to convert your vectors to numeric after spliting the input.\n",
    " \n",
    " First function examples:\n",
    "~~~\n",
    "> digit_to_number(c(1,2,3))\n",
    "[1] 123\n",
    "> digit_to_number(c(4,5))\n",
    "[1] 45\n",
    "~~~\n",
    "The final function examples:\n",
    "~~~\n",
    "> addition(c(1,1,\"+\",5,7))\n",
    "[1] 68\n",
    "> x <- c(1,9,7,\"+\",1,0,0,3)\n",
    "> addition(x)\n",
    "[1] 1200\n",
    "~~~"
   ]
  },
  {
   "cell_type": "code",
   "execution_count": null,
   "metadata": {
    "id": "U-QNKiUfstyZ"
   },
   "outputs": [],
   "source": [
    "digit_to_number <- function(vector){\n",
    "  number <- 0\n",
    "  for(i in 1:length(vector)){\n",
    "    number <- number + vector[i] * 10^(length(vector)-i)\n",
    "  }\n",
    "return(number)\n",
    "}\n",
    "\n",
    "\n",
    "\n",
    "addition <- function(vec){\n",
    "  plus_index <- which(vec == \"+\")\n",
    "  vector_1 <- as.numeric(vec[1:(plus_index-1)])\n",
    "  vector_2 <- as.numeric(vec[(plus_index+1):length(vec)])\n",
    "  return(digit_to_number(vector_1)+digit_to_number(vector_2))\n",
    "}\n"
   ]
  },
  {
   "cell_type": "markdown",
   "metadata": {
    "id": "cYIffdNtsxYD"
   },
   "source": [
    "## Question 3\n",
    "\n",
    "Create a function that calculates the sum of the first n natural numbers using a for loop.\n",
    "\n",
    "For example, \n",
    "~~~\n",
    "> sum_natural_numbers(10)\n",
    "55\n",
    "> sum_natural_numbers(50)\n",
    "1275\n",
    "~~~\n",
    "\n"
   ]
  },
  {
   "cell_type": "code",
   "execution_count": null,
   "metadata": {
    "id": "9ZwJO66RtB-D"
   },
   "outputs": [],
   "source": [
    "sum_natural_numbers <- function(n) {\n",
    "  \n",
    "  sum <- 0\n",
    "  \n",
    " \n",
    "  for (i in 1:n) {\n",
    "    sum <- sum + i\n",
    "  }\n",
    "  \n",
    "  \n",
    "  return(sum)\n",
    "}"
   ]
  },
  {
   "cell_type": "markdown",
   "metadata": {
    "id": "9eS4LhVNtCwF"
   },
   "source": [
    "## Question 4\n",
    "\n",
    "The speed limit in Istanbul-Antalya Highway is 130 km/h. If you are faster than this speed by %10 percent, you get fined 500 Turkish liras + 100 times your sped above 130 kmh. Write a function that checks speeds of cars passed radar and fine them accordingly to their excess speed. The function should return a vector that contains their fines.\n",
    "\n",
    "Hint: Create an empty vector first.\n",
    "\n",
    "Test the function with some example speeds:\n",
    "~~~\n",
    "speeds <- c(90, 120, 130, 140, 160, 131)\n",
    "~~~\n",
    "Your output should be: \n",
    "~~~\n",
    "[1]   0   0   0   1500   3500   600\n",
    "~~~"
   ]
  },
  {
   "cell_type": "code",
   "execution_count": null,
   "metadata": {
    "id": "957HvkGruTv1"
   },
   "outputs": [],
   "source": [
    "speed_fine <- function(speeds) {\n",
    "  fines <- c()  \n",
    "  for (speed in speeds) {  \n",
    "    excess_speed <- speed - 130  \n",
    "    fine <- 0  \n",
    "    if (excess_speed > 0) {  \n",
    "      fine <- 500 + (excess_speed * 100)  \n",
    "    }\n",
    "    fines <- c(fines, fine) \n",
    "  }\n",
    "  return(fines) \n",
    "}"
   ]
  },
  {
   "cell_type": "markdown",
   "metadata": {
    "id": "cDU5ar14uYqI"
   },
   "source": [
    "## Question 5\n",
    "\n",
    "Write a function named **hello** that takes an argument **n** and prints **\"hello\"** n times using a for loop\n",
    "\n",
    "\n",
    "```R\n",
    "> hello(2)\n",
    "[1] \"hello\"\n",
    "[1] \"hello\"\n",
    "```\n",
    "\n",
    "**Note:** This is just a warm up. In our usual examples, we will require our function to RETURN not PRINT\n",
    "\n",
    "**Note 2:** It is usually bad practice to use short and unintuitive object or argument names such as **n**, but for time constraints in the lab and due to the simplicity of the examples, we make some exceptions here."
   ]
  },
  {
   "cell_type": "code",
   "execution_count": null,
   "metadata": {
    "id": "rvVxnE5VubvB"
   },
   "outputs": [],
   "source": [
    "hello <- function(n)\n",
    "{\n",
    "    for (i in 1:n)\n",
    "    {\n",
    "        print(\"hello\")\n",
    "    }\n",
    "}\n",
    "\n",
    "hello(2)"
   ]
  },
  {
   "cell_type": "markdown",
   "metadata": {
    "id": "pPJGFu-EucDV"
   },
   "source": [
    "## Question 6\n",
    "\n",
    "Write a program to display a right angle triangle with **n** number of rows, like below.\n",
    "\n",
    "\n",
    "```R\n",
    "> trinumber(9)\n",
    "1\n",
    "12\n",
    "123\n",
    "1234\n",
    "12345\n",
    "123456\n",
    "1234567\n",
    "12345678\n",
    "123456789\n",
    "```\n",
    "\n",
    "```R\n",
    "> trinumber(5)\n",
    "1\n",
    "12\n",
    "123\n",
    "1234\n",
    "12345\n",
    "```\n",
    "\n",
    "**Hint:** At each row, you can iterate from 1 to the row number."
   ]
  },
  {
   "cell_type": "code",
   "execution_count": null,
   "metadata": {
    "id": "aqhP3z-Cuhee"
   },
   "outputs": [],
   "source": [
    "trinumber <- function(n)\n",
    "{\n",
    "    for (i in 1:n)\n",
    "    {\n",
    "        for (j in 1:i){\n",
    "            cat(j)\n",
    "        }\n",
    "        cat(\"\\n\")\n",
    "    }\n",
    "}\n",
    "\n",
    "trinumber(9)"
   ]
  },
  {
   "cell_type": "markdown",
   "metadata": {
    "id": "uaxApfFmuho4"
   },
   "source": [
    "## Question 7\n",
    "\n",
    "Factorial of n (n!) is the product of all integers from 1 to n. Hence: 5! = 120\n",
    "\n",
    "Write a function called **facto_for** that takes an argument **n** and calculates the factorial of n using a for loop as such:\n",
    "\n",
    "```R\n",
    "facto_for(5)\n",
    "facto_for(10)\n",
    "\n",
    "[1] 120\n",
    "[1] 3628800\n",
    "```"
   ]
  },
  {
   "cell_type": "code",
   "execution_count": null,
   "metadata": {
    "id": "05BKiAxyupuX"
   },
   "outputs": [],
   "source": [
    "facto_for <- function(n)\n",
    "{\n",
    "    value <- 1\n",
    "    for (i in 1:n)\n",
    "    {\n",
    "        value <- value * i\n",
    "    }\n",
    "    \n",
    "    return(value)\n",
    "}\n",
    "\n",
    "facto_for(5)\n",
    "facto_for(10)"
   ]
  },
  {
   "cell_type": "markdown",
   "metadata": {
    "id": "cBp3Hqdhup1n"
   },
   "source": [
    "## Question 8\n",
    "\n",
    "Write a function called **facto_while** that takes an argument **n** and calculates the factorial of n using a while loop as such:\n",
    "\n",
    "```R\n",
    "facto_while(4)\n",
    "facto_while(8)\n",
    "\n",
    "[1] 24\n",
    "[1] 40320\n",
    "```"
   ]
  },
  {
   "cell_type": "code",
   "execution_count": null,
   "metadata": {
    "id": "5OuFaKhxuseY"
   },
   "outputs": [],
   "source": [
    "facto_while <- function(n)\n",
    "{\n",
    "    value <- 1\n",
    "    while (n > 1)\n",
    "    {\n",
    "        value <- value * n\n",
    "        n <- n - 1\n",
    "    }\n",
    "    \n",
    "    return(value)\n",
    "}\n",
    "\n",
    "facto_while(4)\n",
    "facto_while(8)"
   ]
  },
  {
   "cell_type": "markdown",
   "metadata": {
    "id": "JEMuimFNusl7"
   },
   "source": [
    "## Question 9\n",
    "\n",
    "Write a function called **divisors** that takes an argument **n**, and collects and returns the divisors of **n** as such:\n",
    "\n",
    "```R\n",
    "divisors(60)\n",
    "divisors(23)\n",
    "divisors(100)\n",
    "\n",
    "[1]  1  2  3  4  5  6 10 12 15 20 30 60\n",
    "[1]  1 23\n",
    "[1]  1   2   4   5  10  20  25  50 100\n",
    "```"
   ]
  },
  {
   "cell_type": "code",
   "execution_count": null,
   "metadata": {
    "id": "pjNmiSWluvmH"
   },
   "outputs": [],
   "source": [
    "divisors <- function(n)\n",
    "{\n",
    "    vec <- integer(0)\n",
    "    \n",
    "    for (i in 1:n)\n",
    "    {\n",
    "        if (n %% i == 0)\n",
    "        {\n",
    "            vec <- c(vec, i)            \n",
    "        }\n",
    "    }\n",
    "    \n",
    "    return(vec)\n",
    "}\n",
    "\n",
    "divisors(60)\n",
    "divisors(23)\n",
    "divisors(100)"
   ]
  },
  {
   "cell_type": "markdown",
   "metadata": {
    "id": "2OxXL2ASuvsG"
   },
   "source": [
    "## Question 10\n",
    "\n",
    "Prime factorization is is the process of decomposition of a composite number into a product of prime numbers.\n",
    "\n",
    "![Prime Factorization (Wiki)](https://upload.wikimedia.org/wikipedia/commons/2/2b/PrimeDecompositionExample.png)\n",
    "\n",
    "Lets write a function named **prime_factors** which accepts a positive number and returns a vector containing its prime factors as such:\n",
    "\n",
    "```r\n",
    "> prime_factors(85)\n",
    "[1]  5 17\n",
    "\n",
    "> prime_factors(1092)\n",
    "[1]  2  2  3  7 13\n",
    "```\n",
    "\n",
    "**Hint**: Run a while loop inside a for loop. You should use your for loop to iterate possible divisors and your while loop to check if your number can be divided to that divisor without a remainder and to append that divisor to your output if that's the case. Don't forget to update your number accordingly within the while loop.\n"
   ]
  },
  {
   "cell_type": "code",
   "execution_count": null,
   "metadata": {
    "id": "DykRhzp4uzoM"
   },
   "outputs": [],
   "source": [
    "prime_factors <- function(num)\n",
    "{\n",
    "    factors <- NULL\n",
    "    for(divisor in 2:ceiling(sqrt(num)))\n",
    "    {\n",
    "      while(num %% divisor == 0)\n",
    "      {\n",
    "        factors <- c(factors, divisor)\n",
    "        num <- as.integer(num / divisor)\n",
    "      }\n",
    "    }\n",
    "    return(if(num > 2) c(factors, num) else factors)\n",
    "}\n",
    "\n",
    "prime_factors(85)\n",
    "prime_factors(1092)"
   ]
  },
  {
   "cell_type": "markdown",
   "metadata": {
    "id": "ylXbg4y8u0xY"
   },
   "source": [
    "## Question 11\n",
    "\n",
    "Write a function named **binary** that takes an argument **n**, an integer value, and returns the binary representation (base 2) as a vector of 1's and 0's as such:\n",
    "\n",
    "\n",
    "```R\n",
    "> binary(15)\n",
    "[1] 1 1 1 1\n",
    "\n",
    "> binary(10)\n",
    "[1] 1 0 1 0\n",
    "\n",
    "> binary(16)\n",
    "[1] 1 0 0 0 0\n",
    "```\n",
    "\n",
    "**Note**: In decimal (base 10), all digits are powers of 10 starting with 10<sup>0</sup> as the least significant (rightmost) digit. In binary, all digits are powers of 2 starting with 2<sup>0</sup> as the least significant (rightmost) digit."
   ]
  },
  {
   "cell_type": "code",
   "execution_count": null,
   "metadata": {
    "id": "XcO65h3_vhVe"
   },
   "outputs": [],
   "source": [
    "binary <- function(n)\n",
    "{\n",
    "    vec <- c()\n",
    "    \n",
    "    while(n > 1)\n",
    "    {\n",
    "        if (n %% 2 == 0)\n",
    "        {\n",
    "            vec <- c(0, vec)\n",
    "            n <- n / 2        \n",
    "        }\n",
    "        else\n",
    "        {\n",
    "            vec <- c(1, vec)\n",
    "            n <- (n - 1) / 2\n",
    "        }        \n",
    "    }\n",
    "    \n",
    "    return(c(1,vec))\n",
    "}\n",
    "\n",
    "binary(15)\n",
    "binary(10)\n",
    "binary(16)"
   ]
  },
  {
   "cell_type": "markdown",
   "metadata": {
    "id": "goq0Ji1Yv6JC"
   },
   "source": [
    "## Question 12\n",
    "\n",
    "Now lets write a function called **from_binary** which takes the vector of binary representation of a decimal number and calculates its decimal form.\n",
    "\n",
    "You can use the function **binary** above to test your code as such:\n",
    "\n",
    "```R\n",
    "> from_binary(binary(15))\n",
    "[1] 15\n",
    "\n",
    "> from_binary(binary(10))\n",
    "[1] 10\n",
    "\n",
    "> from_binary(binary(16))\n",
    "[1] 16\n",
    "```\n",
    "\n",
    "**Hint**: Remember; since given vector elements are in (base 2), you should iterate over the given vector and accumulate decimal form of each elements to find the corresponding decimal number.\n",
    "\n",
    "Example: Binary representation of the decimal number 10 is 1010.\n",
    "\n",
    "$0 \\times 2^0 + 1 \\times 2^1 + 0 \\times 2^2 + 1 \\times 2^3 = 10$"
   ]
  },
  {
   "cell_type": "code",
   "execution_count": null,
   "metadata": {
    "id": "21GZA_oVv82w"
   },
   "outputs": [],
   "source": [
    "from_binary <- function(vec)\n",
    "{\n",
    "    num <- 0\n",
    "    for(i in seq_along(vec))\n",
    "    {\n",
    "        if(vec[i])\n",
    "        {\n",
    "            num <- num + 2^(length(vec) - i)\n",
    "        }\n",
    "    }\n",
    "    return(num)\n",
    "}\n",
    "from_binary(binary(15))\n",
    "from_binary(binary(10))\n",
    "from_binary(binary(16))"
   ]
  }
 ],
 "metadata": {
  "colab": {
   "provenance": []
  },
  "kernelspec": {
   "display_name": "Python 3 (ipykernel)",
   "language": "python",
   "name": "python3"
  },
  "language_info": {
   "codemirror_mode": {
    "name": "ipython",
    "version": 3
   },
   "file_extension": ".py",
   "mimetype": "text/x-python",
   "name": "python",
   "nbconvert_exporter": "python",
   "pygments_lexer": "ipython3",
   "version": "3.7.1"
  }
 },
 "nbformat": 4,
 "nbformat_minor": 1
}
