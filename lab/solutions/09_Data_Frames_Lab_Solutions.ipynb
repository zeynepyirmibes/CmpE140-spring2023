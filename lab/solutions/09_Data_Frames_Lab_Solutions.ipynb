{
 "cells": [
  {
   "cell_type": "markdown",
   "metadata": {
    "id": "bQg0frNMcCJQ"
   },
   "source": [
    "## Question 1\n",
    "\n",
    "You have been given the \"mtcars\" dataset in R, which contains information about various models of cars. How can you display the first 6 rows of the \"mtcars\" data frame with only the columns \"mpg\", \"cyl\", \"wt\", and \"gear\"?"
   ]
  },
  {
   "cell_type": "code",
   "execution_count": 1,
   "metadata": {
    "id": "BHBXjaGgcGQO"
   },
   "outputs": [
    {
     "data": {
      "text/html": [
       "<table>\n",
       "<thead><tr><th></th><th scope=col>mpg</th><th scope=col>cyl</th><th scope=col>wt</th><th scope=col>gear</th></tr></thead>\n",
       "<tbody>\n",
       "\t<tr><th scope=row>Mazda RX4</th><td>21.0 </td><td>6    </td><td>2.620</td><td>4    </td></tr>\n",
       "\t<tr><th scope=row>Mazda RX4 Wag</th><td>21.0 </td><td>6    </td><td>2.875</td><td>4    </td></tr>\n",
       "\t<tr><th scope=row>Datsun 710</th><td>22.8 </td><td>4    </td><td>2.320</td><td>4    </td></tr>\n",
       "\t<tr><th scope=row>Hornet 4 Drive</th><td>21.4 </td><td>6    </td><td>3.215</td><td>3    </td></tr>\n",
       "\t<tr><th scope=row>Hornet Sportabout</th><td>18.7 </td><td>8    </td><td>3.440</td><td>3    </td></tr>\n",
       "\t<tr><th scope=row>Valiant</th><td>18.1 </td><td>6    </td><td>3.460</td><td>3    </td></tr>\n",
       "</tbody>\n",
       "</table>\n"
      ],
      "text/latex": [
       "\\begin{tabular}{r|llll}\n",
       "  & mpg & cyl & wt & gear\\\\\n",
       "\\hline\n",
       "\tMazda RX4 & 21.0  & 6     & 2.620 & 4    \\\\\n",
       "\tMazda RX4 Wag & 21.0  & 6     & 2.875 & 4    \\\\\n",
       "\tDatsun 710 & 22.8  & 4     & 2.320 & 4    \\\\\n",
       "\tHornet 4 Drive & 21.4  & 6     & 3.215 & 3    \\\\\n",
       "\tHornet Sportabout & 18.7  & 8     & 3.440 & 3    \\\\\n",
       "\tValiant & 18.1  & 6     & 3.460 & 3    \\\\\n",
       "\\end{tabular}\n"
      ],
      "text/markdown": [
       "\n",
       "| <!--/--> | mpg | cyl | wt | gear |\n",
       "|---|---|---|---|---|\n",
       "| Mazda RX4 | 21.0  | 6     | 2.620 | 4     |\n",
       "| Mazda RX4 Wag | 21.0  | 6     | 2.875 | 4     |\n",
       "| Datsun 710 | 22.8  | 4     | 2.320 | 4     |\n",
       "| Hornet 4 Drive | 21.4  | 6     | 3.215 | 3     |\n",
       "| Hornet Sportabout | 18.7  | 8     | 3.440 | 3     |\n",
       "| Valiant | 18.1  | 6     | 3.460 | 3     |\n",
       "\n"
      ],
      "text/plain": [
       "                  mpg  cyl wt    gear\n",
       "Mazda RX4         21.0 6   2.620 4   \n",
       "Mazda RX4 Wag     21.0 6   2.875 4   \n",
       "Datsun 710        22.8 4   2.320 4   \n",
       "Hornet 4 Drive    21.4 6   3.215 3   \n",
       "Hornet Sportabout 18.7 8   3.440 3   \n",
       "Valiant           18.1 6   3.460 3   "
      ]
     },
     "metadata": {},
     "output_type": "display_data"
    }
   ],
   "source": [
    "data(mtcars)\n",
    "new_df <- mtcars[, c(\"mpg\", \"cyl\", \"wt\", \"gear\")]\n",
    "head(new_df, 6)"
   ]
  },
  {
   "cell_type": "markdown",
   "metadata": {
    "id": "RUWgyhERalSd"
   },
   "source": [
    "## Question 2\n",
    "\n",
    "Using the \"mtcars\" data set in R, take the mean of miles per gallon of each cylinder and transmission combination (4 cyl, automatic; 6 cyl, manual, etc.)\n",
    "\n",
    "Hint : Use the aggregate() function.\n",
    "\n",
    "```r\n",
    "dfmean <- aggregate(mtcars$mpg, by = list(mtcars$cyl, mtcars$am), FUN = mean)\n",
    "colnames(dfmean) <- c(\"Cylinders\", \"Transmission\", \"Average Miles Per Gallon\")\n",
    "\n",
    "dfmean\n",
    "```"
   ]
  },
  {
   "cell_type": "code",
   "execution_count": 14,
   "metadata": {
    "id": "SArGD44taq9_"
   },
   "outputs": [
    {
     "data": {
      "text/html": [
       "<table>\n",
       "<thead><tr><th scope=col>Cylinders</th><th scope=col>Transmission</th><th scope=col>Average Miles Per Gallon</th></tr></thead>\n",
       "<tbody>\n",
       "\t<tr><td>4       </td><td>0       </td><td>22.90000</td></tr>\n",
       "\t<tr><td>6       </td><td>0       </td><td>19.12500</td></tr>\n",
       "\t<tr><td>8       </td><td>0       </td><td>15.05000</td></tr>\n",
       "\t<tr><td>4       </td><td>1       </td><td>28.07500</td></tr>\n",
       "\t<tr><td>6       </td><td>1       </td><td>20.56667</td></tr>\n",
       "\t<tr><td>8       </td><td>1       </td><td>15.40000</td></tr>\n",
       "</tbody>\n",
       "</table>\n"
      ],
      "text/latex": [
       "\\begin{tabular}{r|lll}\n",
       " Cylinders & Transmission & Average Miles Per Gallon\\\\\n",
       "\\hline\n",
       "\t 4        & 0        & 22.90000\\\\\n",
       "\t 6        & 0        & 19.12500\\\\\n",
       "\t 8        & 0        & 15.05000\\\\\n",
       "\t 4        & 1        & 28.07500\\\\\n",
       "\t 6        & 1        & 20.56667\\\\\n",
       "\t 8        & 1        & 15.40000\\\\\n",
       "\\end{tabular}\n"
      ],
      "text/markdown": [
       "\n",
       "| Cylinders | Transmission | Average Miles Per Gallon |\n",
       "|---|---|---|\n",
       "| 4        | 0        | 22.90000 |\n",
       "| 6        | 0        | 19.12500 |\n",
       "| 8        | 0        | 15.05000 |\n",
       "| 4        | 1        | 28.07500 |\n",
       "| 6        | 1        | 20.56667 |\n",
       "| 8        | 1        | 15.40000 |\n",
       "\n"
      ],
      "text/plain": [
       "  Cylinders Transmission Average Miles Per Gallon\n",
       "1 4         0            22.90000                \n",
       "2 6         0            19.12500                \n",
       "3 8         0            15.05000                \n",
       "4 4         1            28.07500                \n",
       "5 6         1            20.56667                \n",
       "6 8         1            15.40000                "
      ]
     },
     "metadata": {},
     "output_type": "display_data"
    }
   ],
   "source": [
    "# There's a problem in github, so the solution is also given above\n",
    "dfmean <- aggregate(mtcars$mpg, by = list(mtcars$cyl, mtcars$am), FUN = mean)\n",
    "colnames(dfmean) <- c(\"Cylinders\", \"Transmission\", \"Average Miles Per Gallon\")\n",
    "\n",
    "dfmean"
   ]
  },
  {
   "cell_type": "markdown",
   "metadata": {
    "id": "kiFLfuL8b05C"
   },
   "source": [
    "## Question 3\n",
    "\n",
    "Using the “mtcars” dataset in R, extract the rows where the number of cylinders is greater than or equal to 6, and the miles per gallon is greater than 15. Assing the resulting data frame to a new variable called “mtcars_high”. \n"
   ]
  },
  {
   "cell_type": "code",
   "execution_count": 3,
   "metadata": {
    "id": "rW07-x64b4BC"
   },
   "outputs": [
    {
     "data": {
      "text/html": [
       "<table>\n",
       "<thead><tr><th></th><th scope=col>mpg</th><th scope=col>cyl</th><th scope=col>disp</th><th scope=col>hp</th><th scope=col>drat</th><th scope=col>wt</th><th scope=col>qsec</th><th scope=col>vs</th><th scope=col>am</th><th scope=col>gear</th><th scope=col>carb</th></tr></thead>\n",
       "<tbody>\n",
       "\t<tr><th scope=row>Mazda RX4</th><td>21.0 </td><td>6    </td><td>160.0</td><td>110  </td><td>3.90 </td><td>2.620</td><td>16.46</td><td>0    </td><td>1    </td><td>4    </td><td>4    </td></tr>\n",
       "\t<tr><th scope=row>Mazda RX4 Wag</th><td>21.0 </td><td>6    </td><td>160.0</td><td>110  </td><td>3.90 </td><td>2.875</td><td>17.02</td><td>0    </td><td>1    </td><td>4    </td><td>4    </td></tr>\n",
       "\t<tr><th scope=row>Hornet 4 Drive</th><td>21.4 </td><td>6    </td><td>258.0</td><td>110  </td><td>3.08 </td><td>3.215</td><td>19.44</td><td>1    </td><td>0    </td><td>3    </td><td>1    </td></tr>\n",
       "\t<tr><th scope=row>Hornet Sportabout</th><td>18.7 </td><td>8    </td><td>360.0</td><td>175  </td><td>3.15 </td><td>3.440</td><td>17.02</td><td>0    </td><td>0    </td><td>3    </td><td>2    </td></tr>\n",
       "\t<tr><th scope=row>Valiant</th><td>18.1 </td><td>6    </td><td>225.0</td><td>105  </td><td>2.76 </td><td>3.460</td><td>20.22</td><td>1    </td><td>0    </td><td>3    </td><td>1    </td></tr>\n",
       "\t<tr><th scope=row>Merc 280</th><td>19.2 </td><td>6    </td><td>167.6</td><td>123  </td><td>3.92 </td><td>3.440</td><td>18.30</td><td>1    </td><td>0    </td><td>4    </td><td>4    </td></tr>\n",
       "\t<tr><th scope=row>Merc 280C</th><td>17.8 </td><td>6    </td><td>167.6</td><td>123  </td><td>3.92 </td><td>3.440</td><td>18.90</td><td>1    </td><td>0    </td><td>4    </td><td>4    </td></tr>\n",
       "\t<tr><th scope=row>Merc 450SE</th><td>16.4 </td><td>8    </td><td>275.8</td><td>180  </td><td>3.07 </td><td>4.070</td><td>17.40</td><td>0    </td><td>0    </td><td>3    </td><td>3    </td></tr>\n",
       "\t<tr><th scope=row>Merc 450SL</th><td>17.3 </td><td>8    </td><td>275.8</td><td>180  </td><td>3.07 </td><td>3.730</td><td>17.60</td><td>0    </td><td>0    </td><td>3    </td><td>3    </td></tr>\n",
       "\t<tr><th scope=row>Merc 450SLC</th><td>15.2 </td><td>8    </td><td>275.8</td><td>180  </td><td>3.07 </td><td>3.780</td><td>18.00</td><td>0    </td><td>0    </td><td>3    </td><td>3    </td></tr>\n",
       "\t<tr><th scope=row>Dodge Challenger</th><td>15.5 </td><td>8    </td><td>318.0</td><td>150  </td><td>2.76 </td><td>3.520</td><td>16.87</td><td>0    </td><td>0    </td><td>3    </td><td>2    </td></tr>\n",
       "\t<tr><th scope=row>AMC Javelin</th><td>15.2 </td><td>8    </td><td>304.0</td><td>150  </td><td>3.15 </td><td>3.435</td><td>17.30</td><td>0    </td><td>0    </td><td>3    </td><td>2    </td></tr>\n",
       "\t<tr><th scope=row>Pontiac Firebird</th><td>19.2 </td><td>8    </td><td>400.0</td><td>175  </td><td>3.08 </td><td>3.845</td><td>17.05</td><td>0    </td><td>0    </td><td>3    </td><td>2    </td></tr>\n",
       "\t<tr><th scope=row>Ford Pantera L</th><td>15.8 </td><td>8    </td><td>351.0</td><td>264  </td><td>4.22 </td><td>3.170</td><td>14.50</td><td>0    </td><td>1    </td><td>5    </td><td>4    </td></tr>\n",
       "\t<tr><th scope=row>Ferrari Dino</th><td>19.7 </td><td>6    </td><td>145.0</td><td>175  </td><td>3.62 </td><td>2.770</td><td>15.50</td><td>0    </td><td>1    </td><td>5    </td><td>6    </td></tr>\n",
       "</tbody>\n",
       "</table>\n"
      ],
      "text/latex": [
       "\\begin{tabular}{r|lllllllllll}\n",
       "  & mpg & cyl & disp & hp & drat & wt & qsec & vs & am & gear & carb\\\\\n",
       "\\hline\n",
       "\tMazda RX4 & 21.0  & 6     & 160.0 & 110   & 3.90  & 2.620 & 16.46 & 0     & 1     & 4     & 4    \\\\\n",
       "\tMazda RX4 Wag & 21.0  & 6     & 160.0 & 110   & 3.90  & 2.875 & 17.02 & 0     & 1     & 4     & 4    \\\\\n",
       "\tHornet 4 Drive & 21.4  & 6     & 258.0 & 110   & 3.08  & 3.215 & 19.44 & 1     & 0     & 3     & 1    \\\\\n",
       "\tHornet Sportabout & 18.7  & 8     & 360.0 & 175   & 3.15  & 3.440 & 17.02 & 0     & 0     & 3     & 2    \\\\\n",
       "\tValiant & 18.1  & 6     & 225.0 & 105   & 2.76  & 3.460 & 20.22 & 1     & 0     & 3     & 1    \\\\\n",
       "\tMerc 280 & 19.2  & 6     & 167.6 & 123   & 3.92  & 3.440 & 18.30 & 1     & 0     & 4     & 4    \\\\\n",
       "\tMerc 280C & 17.8  & 6     & 167.6 & 123   & 3.92  & 3.440 & 18.90 & 1     & 0     & 4     & 4    \\\\\n",
       "\tMerc 450SE & 16.4  & 8     & 275.8 & 180   & 3.07  & 4.070 & 17.40 & 0     & 0     & 3     & 3    \\\\\n",
       "\tMerc 450SL & 17.3  & 8     & 275.8 & 180   & 3.07  & 3.730 & 17.60 & 0     & 0     & 3     & 3    \\\\\n",
       "\tMerc 450SLC & 15.2  & 8     & 275.8 & 180   & 3.07  & 3.780 & 18.00 & 0     & 0     & 3     & 3    \\\\\n",
       "\tDodge Challenger & 15.5  & 8     & 318.0 & 150   & 2.76  & 3.520 & 16.87 & 0     & 0     & 3     & 2    \\\\\n",
       "\tAMC Javelin & 15.2  & 8     & 304.0 & 150   & 3.15  & 3.435 & 17.30 & 0     & 0     & 3     & 2    \\\\\n",
       "\tPontiac Firebird & 19.2  & 8     & 400.0 & 175   & 3.08  & 3.845 & 17.05 & 0     & 0     & 3     & 2    \\\\\n",
       "\tFord Pantera L & 15.8  & 8     & 351.0 & 264   & 4.22  & 3.170 & 14.50 & 0     & 1     & 5     & 4    \\\\\n",
       "\tFerrari Dino & 19.7  & 6     & 145.0 & 175   & 3.62  & 2.770 & 15.50 & 0     & 1     & 5     & 6    \\\\\n",
       "\\end{tabular}\n"
      ],
      "text/markdown": [
       "\n",
       "| <!--/--> | mpg | cyl | disp | hp | drat | wt | qsec | vs | am | gear | carb |\n",
       "|---|---|---|---|---|---|---|---|---|---|---|---|\n",
       "| Mazda RX4 | 21.0  | 6     | 160.0 | 110   | 3.90  | 2.620 | 16.46 | 0     | 1     | 4     | 4     |\n",
       "| Mazda RX4 Wag | 21.0  | 6     | 160.0 | 110   | 3.90  | 2.875 | 17.02 | 0     | 1     | 4     | 4     |\n",
       "| Hornet 4 Drive | 21.4  | 6     | 258.0 | 110   | 3.08  | 3.215 | 19.44 | 1     | 0     | 3     | 1     |\n",
       "| Hornet Sportabout | 18.7  | 8     | 360.0 | 175   | 3.15  | 3.440 | 17.02 | 0     | 0     | 3     | 2     |\n",
       "| Valiant | 18.1  | 6     | 225.0 | 105   | 2.76  | 3.460 | 20.22 | 1     | 0     | 3     | 1     |\n",
       "| Merc 280 | 19.2  | 6     | 167.6 | 123   | 3.92  | 3.440 | 18.30 | 1     | 0     | 4     | 4     |\n",
       "| Merc 280C | 17.8  | 6     | 167.6 | 123   | 3.92  | 3.440 | 18.90 | 1     | 0     | 4     | 4     |\n",
       "| Merc 450SE | 16.4  | 8     | 275.8 | 180   | 3.07  | 4.070 | 17.40 | 0     | 0     | 3     | 3     |\n",
       "| Merc 450SL | 17.3  | 8     | 275.8 | 180   | 3.07  | 3.730 | 17.60 | 0     | 0     | 3     | 3     |\n",
       "| Merc 450SLC | 15.2  | 8     | 275.8 | 180   | 3.07  | 3.780 | 18.00 | 0     | 0     | 3     | 3     |\n",
       "| Dodge Challenger | 15.5  | 8     | 318.0 | 150   | 2.76  | 3.520 | 16.87 | 0     | 0     | 3     | 2     |\n",
       "| AMC Javelin | 15.2  | 8     | 304.0 | 150   | 3.15  | 3.435 | 17.30 | 0     | 0     | 3     | 2     |\n",
       "| Pontiac Firebird | 19.2  | 8     | 400.0 | 175   | 3.08  | 3.845 | 17.05 | 0     | 0     | 3     | 2     |\n",
       "| Ford Pantera L | 15.8  | 8     | 351.0 | 264   | 4.22  | 3.170 | 14.50 | 0     | 1     | 5     | 4     |\n",
       "| Ferrari Dino | 19.7  | 6     | 145.0 | 175   | 3.62  | 2.770 | 15.50 | 0     | 1     | 5     | 6     |\n",
       "\n"
      ],
      "text/plain": [
       "                  mpg  cyl disp  hp  drat wt    qsec  vs am gear carb\n",
       "Mazda RX4         21.0 6   160.0 110 3.90 2.620 16.46 0  1  4    4   \n",
       "Mazda RX4 Wag     21.0 6   160.0 110 3.90 2.875 17.02 0  1  4    4   \n",
       "Hornet 4 Drive    21.4 6   258.0 110 3.08 3.215 19.44 1  0  3    1   \n",
       "Hornet Sportabout 18.7 8   360.0 175 3.15 3.440 17.02 0  0  3    2   \n",
       "Valiant           18.1 6   225.0 105 2.76 3.460 20.22 1  0  3    1   \n",
       "Merc 280          19.2 6   167.6 123 3.92 3.440 18.30 1  0  4    4   \n",
       "Merc 280C         17.8 6   167.6 123 3.92 3.440 18.90 1  0  4    4   \n",
       "Merc 450SE        16.4 8   275.8 180 3.07 4.070 17.40 0  0  3    3   \n",
       "Merc 450SL        17.3 8   275.8 180 3.07 3.730 17.60 0  0  3    3   \n",
       "Merc 450SLC       15.2 8   275.8 180 3.07 3.780 18.00 0  0  3    3   \n",
       "Dodge Challenger  15.5 8   318.0 150 2.76 3.520 16.87 0  0  3    2   \n",
       "AMC Javelin       15.2 8   304.0 150 3.15 3.435 17.30 0  0  3    2   \n",
       "Pontiac Firebird  19.2 8   400.0 175 3.08 3.845 17.05 0  0  3    2   \n",
       "Ford Pantera L    15.8 8   351.0 264 4.22 3.170 14.50 0  1  5    4   \n",
       "Ferrari Dino      19.7 6   145.0 175 3.62 2.770 15.50 0  1  5    6   "
      ]
     },
     "metadata": {},
     "output_type": "display_data"
    }
   ],
   "source": [
    "data(mtcars)\n",
    "high_mpg_cylinders <- mtcars[mtcars$cyl >= 6 & mtcars$mpg > 15, ]\n",
    "high_mpg_cylinders"
   ]
  },
  {
   "cell_type": "markdown",
   "metadata": {
    "id": "Iw2jhnL8av0Y"
   },
   "source": [
    "## Question 4\n",
    "\n",
    "You are given the built-in dataset ChickWeight in R, which contains information about the growth of birds over time, including their weight, age, and diet. Download the dataset and solve the following tasks:\n",
    "\n",
    "- Create a new column that calculates the weight gain of each bird over time.\n",
    "\n",
    "- Find the maximum weight gain of any chick. \n",
    "\n",
    "*Hint*: set na.rm parameter of the max() function to TRUE (na.rm: a logical indicating whether missing values should be removed)\n",
    "\n",
    "- Create a new data frame that summarizes the average weight gain of chicks by diet.\n",
    "\n",
    "```r\n",
    "\n",
    "chick_weight_df <- ChickWeight\n",
    "chick_weight_df$WeightGain <- c(NA, diff(chick_weight_df$weight))\n",
    "max_weight_gain <- max(chick_weight_df$WeightGain, na.rm = TRUE)\n",
    "average_weight_gain_by_diet <- aggregate(WeightGain ~ Diet, data = chick_weight_df, FUN = mean)\n",
    "average_weight_gain_by_diet\n",
    "\n",
    "```"
   ]
  },
  {
   "cell_type": "code",
   "execution_count": 4,
   "metadata": {
    "id": "kzv9UPHIbBm7"
   },
   "outputs": [
    {
     "data": {
      "text/html": [
       "<table>\n",
       "<thead><tr><th scope=col>Diet</th><th scope=col>WeightGain</th></tr></thead>\n",
       "<tbody>\n",
       "\t<tr><td>1         </td><td> 0.3424658</td></tr>\n",
       "\t<tr><td>2         </td><td> 0.2750000</td></tr>\n",
       "\t<tr><td>3         </td><td> 1.4250000</td></tr>\n",
       "\t<tr><td>4         </td><td>-0.4830508</td></tr>\n",
       "</tbody>\n",
       "</table>\n"
      ],
      "text/latex": [
       "\\begin{tabular}{r|ll}\n",
       " Diet & WeightGain\\\\\n",
       "\\hline\n",
       "\t 1          &  0.3424658\\\\\n",
       "\t 2          &  0.2750000\\\\\n",
       "\t 3          &  1.4250000\\\\\n",
       "\t 4          & -0.4830508\\\\\n",
       "\\end{tabular}\n"
      ],
      "text/markdown": [
       "\n",
       "| Diet | WeightGain |\n",
       "|---|---|\n",
       "| 1          |  0.3424658 |\n",
       "| 2          |  0.2750000 |\n",
       "| 3          |  1.4250000 |\n",
       "| 4          | -0.4830508 |\n",
       "\n"
      ],
      "text/plain": [
       "  Diet WeightGain\n",
       "1 1     0.3424658\n",
       "2 2     0.2750000\n",
       "3 3     1.4250000\n",
       "4 4    -0.4830508"
      ]
     },
     "metadata": {},
     "output_type": "display_data"
    }
   ],
   "source": [
    "# There's a problem in github, so the solution is also given above\n",
    "chick_weight_df <- ChickWeight\n",
    "chick_weight_df$WeightGain <- c(NA, diff(chick_weight_df$weight))\n",
    "max_weight_gain <- max(chick_weight_df$WeightGain, na.rm = TRUE)\n",
    "average_weight_gain_by_diet <- aggregate(WeightGain ~ Diet, data = chick_weight_df, FUN = mean)\n",
    "average_weight_gain_by_diet"
   ]
  },
  {
   "cell_type": "markdown",
   "metadata": {
    "id": "qfhqLlR_bDoY"
   },
   "source": [
    "## Question 5\n",
    "\n",
    "Suppose you have a data frame called \"sales\" that contains the following variables:\n",
    "\n",
    "month: the month in which a sale was made (either \"January\", \"February\", \"March\", or \"April\")\n",
    "\n",
    "product: the type of product sold (either \"A\", \"B\", or \"C\")\n",
    "\n",
    "units_sold: the number of units sold in each transaction (the number of sales can be between 1 and 10)\n",
    "\n",
    "price_per_unit: the price per unit in US dollars (prices must be between 5 and 15 and integer, can be done using runif() )\n",
    "\n",
    "Write R code to perform the following tasks:\n",
    "\n",
    "1. Create a data frame with 20 observations for the variables \"month\", \"product\", \"units_sold\", and \"price_per_unit\".\n",
    "\n",
    "2. Display the data frame.\n",
    "\n",
    "3. Calculate the total revenue and display the results.\n",
    "\n",
    "4. Create a new variable called \"is_product_A\" that indicates whether each observation corresponds to product A (TRUE) or not (FALSE).\n",
    "\n",
    "5. Create a new data frame called \"march_sales\" that contains only the observations for the month of March.\n",
    "\n",
    "```r\n",
    "\n",
    "set.seed(123) \n",
    "month <- sample(c(\"January\", \"February\", \"March\", \"April\"), 20, replace = TRUE)\n",
    "product <- sample(c(\"A\", \"B\", \"C\"), 20, replace = TRUE)\n",
    "units_sold <- sample(1:10, 20, replace = TRUE)\n",
    "price_per_unit <- round((runif(20, min = 5, max = 25)))\n",
    "sales <- data.frame(month, product, units_sold, price_per_unit)\n",
    "\n",
    "sales$revenue <- sales$units_sold * sales$price_per_unit\n",
    "revenue_summary <- sum(sales$revenue)\n",
    "revenue_summary\n",
    "\n",
    "sales$is_product_A <- sales$product == \"A\"\n",
    "sales$is_product_A \n",
    "\n",
    "march_sales <- subset(sales, month == \"March\")\n",
    "march_sales\n",
    "\n",
    "```"
   ]
  },
  {
   "cell_type": "code",
   "execution_count": 5,
   "metadata": {
    "id": "SlYrP6GjbMs5"
   },
   "outputs": [
    {
     "data": {
      "text/html": [
       "1846"
      ],
      "text/latex": [
       "1846"
      ],
      "text/markdown": [
       "1846"
      ],
      "text/plain": [
       "[1] 1846"
      ]
     },
     "metadata": {},
     "output_type": "display_data"
    },
    {
     "data": {
      "text/html": [
       "<ol class=list-inline>\n",
       "\t<li>TRUE</li>\n",
       "\t<li>TRUE</li>\n",
       "\t<li>TRUE</li>\n",
       "\t<li>TRUE</li>\n",
       "\t<li>FALSE</li>\n",
       "\t<li>FALSE</li>\n",
       "\t<li>FALSE</li>\n",
       "\t<li>FALSE</li>\n",
       "\t<li>TRUE</li>\n",
       "\t<li>FALSE</li>\n",
       "\t<li>FALSE</li>\n",
       "\t<li>FALSE</li>\n",
       "\t<li>TRUE</li>\n",
       "\t<li>FALSE</li>\n",
       "\t<li>FALSE</li>\n",
       "\t<li>TRUE</li>\n",
       "\t<li>FALSE</li>\n",
       "\t<li>FALSE</li>\n",
       "\t<li>TRUE</li>\n",
       "\t<li>FALSE</li>\n",
       "</ol>\n"
      ],
      "text/latex": [
       "\\begin{enumerate*}\n",
       "\\item TRUE\n",
       "\\item TRUE\n",
       "\\item TRUE\n",
       "\\item TRUE\n",
       "\\item FALSE\n",
       "\\item FALSE\n",
       "\\item FALSE\n",
       "\\item FALSE\n",
       "\\item TRUE\n",
       "\\item FALSE\n",
       "\\item FALSE\n",
       "\\item FALSE\n",
       "\\item TRUE\n",
       "\\item FALSE\n",
       "\\item FALSE\n",
       "\\item TRUE\n",
       "\\item FALSE\n",
       "\\item FALSE\n",
       "\\item TRUE\n",
       "\\item FALSE\n",
       "\\end{enumerate*}\n"
      ],
      "text/markdown": [
       "1. TRUE\n",
       "2. TRUE\n",
       "3. TRUE\n",
       "4. TRUE\n",
       "5. FALSE\n",
       "6. FALSE\n",
       "7. FALSE\n",
       "8. FALSE\n",
       "9. TRUE\n",
       "10. FALSE\n",
       "11. FALSE\n",
       "12. FALSE\n",
       "13. TRUE\n",
       "14. FALSE\n",
       "15. FALSE\n",
       "16. TRUE\n",
       "17. FALSE\n",
       "18. FALSE\n",
       "19. TRUE\n",
       "20. FALSE\n",
       "\n",
       "\n"
      ],
      "text/plain": [
       " [1]  TRUE  TRUE  TRUE  TRUE FALSE FALSE FALSE FALSE  TRUE FALSE FALSE FALSE\n",
       "[13]  TRUE FALSE FALSE  TRUE FALSE FALSE  TRUE FALSE"
      ]
     },
     "metadata": {},
     "output_type": "display_data"
    },
    {
     "data": {
      "text/html": [
       "<table>\n",
       "<thead><tr><th></th><th scope=col>month</th><th scope=col>product</th><th scope=col>units_sold</th><th scope=col>price_per_unit</th><th scope=col>revenue</th><th scope=col>is_product_A</th></tr></thead>\n",
       "<tbody>\n",
       "\t<tr><th scope=row>1</th><td>March</td><td>A    </td><td> 9   </td><td>13   </td><td>117  </td><td> TRUE</td></tr>\n",
       "\t<tr><th scope=row>2</th><td>March</td><td>A    </td><td> 9   </td><td>17   </td><td>153  </td><td> TRUE</td></tr>\n",
       "\t<tr><th scope=row>3</th><td>March</td><td>A    </td><td>10   </td><td>12   </td><td>120  </td><td> TRUE</td></tr>\n",
       "\t<tr><th scope=row>5</th><td>March</td><td>C    </td><td> 5   </td><td>10   </td><td> 50  </td><td>FALSE</td></tr>\n",
       "\t<tr><th scope=row>9</th><td>March</td><td>A    </td><td> 9   </td><td> 7   </td><td> 63  </td><td> TRUE</td></tr>\n",
       "\t<tr><th scope=row>16</th><td>March</td><td>A    </td><td> 9   </td><td>18   </td><td>162  </td><td> TRUE</td></tr>\n",
       "\t<tr><th scope=row>19</th><td>March</td><td>A    </td><td> 9   </td><td>11   </td><td> 99  </td><td> TRUE</td></tr>\n",
       "\t<tr><th scope=row>20</th><td>March</td><td>C    </td><td>10   </td><td> 9   </td><td> 90  </td><td>FALSE</td></tr>\n",
       "</tbody>\n",
       "</table>\n"
      ],
      "text/latex": [
       "\\begin{tabular}{r|llllll}\n",
       "  & month & product & units\\_sold & price\\_per\\_unit & revenue & is\\_product\\_A\\\\\n",
       "\\hline\n",
       "\t1 & March & A     &  9    & 13    & 117   &  TRUE\\\\\n",
       "\t2 & March & A     &  9    & 17    & 153   &  TRUE\\\\\n",
       "\t3 & March & A     & 10    & 12    & 120   &  TRUE\\\\\n",
       "\t5 & March & C     &  5    & 10    &  50   & FALSE\\\\\n",
       "\t9 & March & A     &  9    &  7    &  63   &  TRUE\\\\\n",
       "\t16 & March & A     &  9    & 18    & 162   &  TRUE\\\\\n",
       "\t19 & March & A     &  9    & 11    &  99   &  TRUE\\\\\n",
       "\t20 & March & C     & 10    &  9    &  90   & FALSE\\\\\n",
       "\\end{tabular}\n"
      ],
      "text/markdown": [
       "\n",
       "| <!--/--> | month | product | units_sold | price_per_unit | revenue | is_product_A |\n",
       "|---|---|---|---|---|---|---|\n",
       "| 1 | March | A     |  9    | 13    | 117   |  TRUE |\n",
       "| 2 | March | A     |  9    | 17    | 153   |  TRUE |\n",
       "| 3 | March | A     | 10    | 12    | 120   |  TRUE |\n",
       "| 5 | March | C     |  5    | 10    |  50   | FALSE |\n",
       "| 9 | March | A     |  9    |  7    |  63   |  TRUE |\n",
       "| 16 | March | A     |  9    | 18    | 162   |  TRUE |\n",
       "| 19 | March | A     |  9    | 11    |  99   |  TRUE |\n",
       "| 20 | March | C     | 10    |  9    |  90   | FALSE |\n",
       "\n"
      ],
      "text/plain": [
       "   month product units_sold price_per_unit revenue is_product_A\n",
       "1  March A        9         13             117      TRUE       \n",
       "2  March A        9         17             153      TRUE       \n",
       "3  March A       10         12             120      TRUE       \n",
       "5  March C        5         10              50     FALSE       \n",
       "9  March A        9          7              63      TRUE       \n",
       "16 March A        9         18             162      TRUE       \n",
       "19 March A        9         11              99      TRUE       \n",
       "20 March C       10          9              90     FALSE       "
      ]
     },
     "metadata": {},
     "output_type": "display_data"
    }
   ],
   "source": [
    "# There's a problem in github, so the solution is also given above\n",
    "set.seed(123) \n",
    "month <- sample(c(\"January\", \"February\", \"March\", \"April\"), 20, replace = TRUE)\n",
    "product <- sample(c(\"A\", \"B\", \"C\"), 20, replace = TRUE)\n",
    "units_sold <- sample(1:10, 20, replace = TRUE)\n",
    "price_per_unit <- round((runif(20, min = 5, max = 25)))\n",
    "sales <- data.frame(month, product, units_sold, price_per_unit)\n",
    "\n",
    "sales$revenue <- sales$units_sold * sales$price_per_unit\n",
    "revenue_summary <- sum(sales$revenue)\n",
    "revenue_summary\n",
    "\n",
    "sales$is_product_A <- sales$product == \"A\"\n",
    "sales$is_product_A \n",
    "\n",
    "march_sales <- subset(sales, month == \"March\")\n",
    "march_sales\n"
   ]
  },
  {
   "cell_type": "markdown",
   "metadata": {
    "id": "okfyhXNfbXMe"
   },
   "source": [
    "## Question 6\n",
    "\n",
    "Below are two data frames, ```df1``` and ```df2```, containing information about students. \n",
    "\n",
    "```df1``` contains information about the students' names, majors, and grades in Math and Science, while ```df2``` contains information about the students' names, majors, and grades in English and History. \n",
    "\n",
    "Merge these data frames into a single data frame called ```df_merged``` that contains all of the information, and also calculate the average grade for each student and add the average to a new column.\n",
    "\n",
    "```df1``` is:\n",
    "\n",
    "| Name    | Major | Math | Science |\n",
    "| -----   | ---   | ---- | ------- |\n",
    "| Alice   |  EC   |  80  | 90 |\n",
    "| Bob     |  MGMT |  90  | 80 |\n",
    "| Charlie |  POLS |  70  | 75 |\n",
    "\n",
    "```df2``` is:\n",
    "\n",
    "| Name    | Major | English | History |\n",
    "| -----   | ---   | ----    | ------- |\n",
    "| Alice   |  EC   |    85   |    90   |\n",
    "| Charlie |  POLS |    75   |    80   |\n",
    "| Dave    |  EC   |    80   |    85   |\n",
    "\n",
    "Your output should look like:\n",
    "\n",
    "```r\n",
    "     Name Major Math Science English History AvgGrade\n",
    "1   Alice    EC   80      90      85      90    86.25\n",
    "2     Bob  MGMT   90      80      NA      NA    85.00\n",
    "3 Charlie  POLS   70      75      75      80    75.00\n",
    "4    Dave    EC   NA      NA      80      85    82.50\n",
    "```\n"
   ]
  },
  {
   "cell_type": "code",
   "execution_count": 6,
   "metadata": {
    "id": "riPbX6Rdbt_W"
   },
   "outputs": [
    {
     "data": {
      "text/html": [
       "<table>\n",
       "<thead><tr><th scope=col>Name</th><th scope=col>Major</th><th scope=col>Math</th><th scope=col>Science</th><th scope=col>English</th><th scope=col>History</th><th scope=col>AvgGrade</th></tr></thead>\n",
       "<tbody>\n",
       "\t<tr><td>Alice  </td><td>EC     </td><td>80     </td><td>90     </td><td>85     </td><td>90     </td><td>86.25  </td></tr>\n",
       "\t<tr><td>Bob    </td><td>MGMT   </td><td>90     </td><td>80     </td><td>NA     </td><td>NA     </td><td>85.00  </td></tr>\n",
       "\t<tr><td>Charlie</td><td>POLS   </td><td>70     </td><td>75     </td><td>75     </td><td>80     </td><td>75.00  </td></tr>\n",
       "\t<tr><td>Dave   </td><td>EC     </td><td>NA     </td><td>NA     </td><td>80     </td><td>85     </td><td>82.50  </td></tr>\n",
       "</tbody>\n",
       "</table>\n"
      ],
      "text/latex": [
       "\\begin{tabular}{r|lllllll}\n",
       " Name & Major & Math & Science & English & History & AvgGrade\\\\\n",
       "\\hline\n",
       "\t Alice   & EC      & 80      & 90      & 85      & 90      & 86.25  \\\\\n",
       "\t Bob     & MGMT    & 90      & 80      & NA      & NA      & 85.00  \\\\\n",
       "\t Charlie & POLS    & 70      & 75      & 75      & 80      & 75.00  \\\\\n",
       "\t Dave    & EC      & NA      & NA      & 80      & 85      & 82.50  \\\\\n",
       "\\end{tabular}\n"
      ],
      "text/markdown": [
       "\n",
       "| Name | Major | Math | Science | English | History | AvgGrade |\n",
       "|---|---|---|---|---|---|---|\n",
       "| Alice   | EC      | 80      | 90      | 85      | 90      | 86.25   |\n",
       "| Bob     | MGMT    | 90      | 80      | NA      | NA      | 85.00   |\n",
       "| Charlie | POLS    | 70      | 75      | 75      | 80      | 75.00   |\n",
       "| Dave    | EC      | NA      | NA      | 80      | 85      | 82.50   |\n",
       "\n"
      ],
      "text/plain": [
       "  Name    Major Math Science English History AvgGrade\n",
       "1 Alice   EC    80   90      85      90      86.25   \n",
       "2 Bob     MGMT  90   80      NA      NA      85.00   \n",
       "3 Charlie POLS  70   75      75      80      75.00   \n",
       "4 Dave    EC    NA   NA      80      85      82.50   "
      ]
     },
     "metadata": {},
     "output_type": "display_data"
    }
   ],
   "source": [
    "df1 <- data.frame(Name = c(\"Alice\", \"Bob\", \"Charlie\"),\n",
    "                  Major = c(\"EC\", \"MGMT\", \"POLS\"),\n",
    "                  Math = c(80, 90, 70),\n",
    "                  Science = c(90, 80, 75))\n",
    "\n",
    "df2 <- data.frame(Name = c(\"Alice\", \"Charlie\", \"Dave\"),\n",
    "                  Major = c(\"EC\", \"POLS\", \"EC\"),\n",
    "                  English = c(85, 75, 80),\n",
    "                  History = c(90, 80, 85))\n",
    "\n",
    "df_merged <- merge(df1, df2, by = c(\"Name\", \"Major\"), all = TRUE)\n",
    "\n",
    "df_merged$AvgGrade <- rowMeans(df_merged[,3:6], na.rm = TRUE)\n",
    "\n",
    "df_merged"
   ]
  },
  {
   "cell_type": "markdown",
   "metadata": {
    "id": "w6P-b7nVij61"
   },
   "source": [
    "## Prep \n",
    "\n",
    "Run the following code\n",
    "\n"
   ]
  },
  {
   "cell_type": "code",
   "execution_count": null,
   "metadata": {
    "id": "QGk7XvafivkF"
   },
   "outputs": [],
   "source": [
    "install.packages(\"nycflights13\")\n",
    "library(nycflights13)\n",
    "flights <- as.data.frame(flights)\n",
    "head(flights)"
   ]
  },
  {
   "cell_type": "code",
   "execution_count": 8,
   "metadata": {
    "id": "8ovMjkzKi6DP"
   },
   "outputs": [
    {
     "name": "stdout",
     "output_type": "stream",
     "text": [
      "'data.frame':\t336776 obs. of  19 variables:\n",
      " $ year          : int  2013 2013 2013 2013 2013 2013 2013 2013 2013 2013 ...\n",
      " $ month         : int  1 1 1 1 1 1 1 1 1 1 ...\n",
      " $ day           : int  1 1 1 1 1 1 1 1 1 1 ...\n",
      " $ dep_time      : int  517 533 542 544 554 554 555 557 557 558 ...\n",
      " $ sched_dep_time: int  515 529 540 545 600 558 600 600 600 600 ...\n",
      " $ dep_delay     : num  2 4 2 -1 -6 -4 -5 -3 -3 -2 ...\n",
      " $ arr_time      : int  830 850 923 1004 812 740 913 709 838 753 ...\n",
      " $ sched_arr_time: int  819 830 850 1022 837 728 854 723 846 745 ...\n",
      " $ arr_delay     : num  11 20 33 -18 -25 12 19 -14 -8 8 ...\n",
      " $ carrier       : chr  \"UA\" \"UA\" \"AA\" \"B6\" ...\n",
      " $ flight        : int  1545 1714 1141 725 461 1696 507 5708 79 301 ...\n",
      " $ tailnum       : chr  \"N14228\" \"N24211\" \"N619AA\" \"N804JB\" ...\n",
      " $ origin        : chr  \"EWR\" \"LGA\" \"JFK\" \"JFK\" ...\n",
      " $ dest          : chr  \"IAH\" \"IAH\" \"MIA\" \"BQN\" ...\n",
      " $ air_time      : num  227 227 160 183 116 150 158 53 140 138 ...\n",
      " $ distance      : num  1400 1416 1089 1576 762 ...\n",
      " $ hour          : num  5 5 5 5 6 5 6 6 6 6 ...\n",
      " $ minute        : num  15 29 40 45 0 58 0 0 0 0 ...\n",
      " $ time_hour     : POSIXct, format: \"2013-01-01 05:00:00\" \"2013-01-01 05:00:00\" ...\n"
     ]
    }
   ],
   "source": [
    "# We can also view the structure of our data frame as such:\n",
    "\n",
    "str(flights)"
   ]
  },
  {
   "cell_type": "code",
   "execution_count": 9,
   "metadata": {},
   "outputs": [
    {
     "data": {
      "text/html": [
       "<table>\n",
       "<thead><tr><th scope=col>year</th><th scope=col>month</th><th scope=col>day</th><th scope=col>dep_time</th><th scope=col>sched_dep_time</th><th scope=col>dep_delay</th><th scope=col>arr_time</th><th scope=col>sched_arr_time</th><th scope=col>arr_delay</th><th scope=col>carrier</th><th scope=col>flight</th><th scope=col>tailnum</th><th scope=col>origin</th><th scope=col>dest</th><th scope=col>air_time</th><th scope=col>distance</th><th scope=col>hour</th><th scope=col>minute</th><th scope=col>time_hour</th></tr></thead>\n",
       "<tbody>\n",
       "\t<tr><td>2013               </td><td>1                  </td><td>1                  </td><td>517                </td><td>515                </td><td> 2                 </td><td> 830               </td><td> 819               </td><td> 11                </td><td>UA                 </td><td>1545               </td><td>N14228             </td><td>EWR                </td><td>IAH                </td><td>227                </td><td>1400               </td><td>5                  </td><td>15                 </td><td>2013-01-01 05:00:00</td></tr>\n",
       "\t<tr><td>2013               </td><td>1                  </td><td>1                  </td><td>533                </td><td>529                </td><td> 4                 </td><td> 850               </td><td> 830               </td><td> 20                </td><td>UA                 </td><td>1714               </td><td>N24211             </td><td>LGA                </td><td>IAH                </td><td>227                </td><td>1416               </td><td>5                  </td><td>29                 </td><td>2013-01-01 05:00:00</td></tr>\n",
       "\t<tr><td>2013               </td><td>1                  </td><td>1                  </td><td>542                </td><td>540                </td><td> 2                 </td><td> 923               </td><td> 850               </td><td> 33                </td><td>AA                 </td><td>1141               </td><td>N619AA             </td><td>JFK                </td><td>MIA                </td><td>160                </td><td>1089               </td><td>5                  </td><td>40                 </td><td>2013-01-01 05:00:00</td></tr>\n",
       "\t<tr><td>2013               </td><td>1                  </td><td>1                  </td><td>544                </td><td>545                </td><td>-1                 </td><td>1004               </td><td>1022               </td><td>-18                </td><td>B6                 </td><td> 725               </td><td>N804JB             </td><td>JFK                </td><td>BQN                </td><td>183                </td><td>1576               </td><td>5                  </td><td>45                 </td><td>2013-01-01 05:00:00</td></tr>\n",
       "\t<tr><td>2013               </td><td>1                  </td><td>1                  </td><td>554                </td><td>600                </td><td>-6                 </td><td> 812               </td><td> 837               </td><td>-25                </td><td>DL                 </td><td> 461               </td><td>N668DN             </td><td>LGA                </td><td>ATL                </td><td>116                </td><td> 762               </td><td>6                  </td><td> 0                 </td><td>2013-01-01 06:00:00</td></tr>\n",
       "\t<tr><td>2013               </td><td>1                  </td><td>1                  </td><td>554                </td><td>558                </td><td>-4                 </td><td> 740               </td><td> 728               </td><td> 12                </td><td>UA                 </td><td>1696               </td><td>N39463             </td><td>EWR                </td><td>ORD                </td><td>150                </td><td> 719               </td><td>5                  </td><td>58                 </td><td>2013-01-01 05:00:00</td></tr>\n",
       "</tbody>\n",
       "</table>\n"
      ],
      "text/latex": [
       "\\begin{tabular}{r|lllllllllllllllllll}\n",
       " year & month & day & dep\\_time & sched\\_dep\\_time & dep\\_delay & arr\\_time & sched\\_arr\\_time & arr\\_delay & carrier & flight & tailnum & origin & dest & air\\_time & distance & hour & minute & time\\_hour\\\\\n",
       "\\hline\n",
       "\t 2013                & 1                   & 1                   & 517                 & 515                 &  2                  &  830                &  819                &  11                 & UA                  & 1545                & N14228              & EWR                 & IAH                 & 227                 & 1400                & 5                   & 15                  & 2013-01-01 05:00:00\\\\\n",
       "\t 2013                & 1                   & 1                   & 533                 & 529                 &  4                  &  850                &  830                &  20                 & UA                  & 1714                & N24211              & LGA                 & IAH                 & 227                 & 1416                & 5                   & 29                  & 2013-01-01 05:00:00\\\\\n",
       "\t 2013                & 1                   & 1                   & 542                 & 540                 &  2                  &  923                &  850                &  33                 & AA                  & 1141                & N619AA              & JFK                 & MIA                 & 160                 & 1089                & 5                   & 40                  & 2013-01-01 05:00:00\\\\\n",
       "\t 2013                & 1                   & 1                   & 544                 & 545                 & -1                  & 1004                & 1022                & -18                 & B6                  &  725                & N804JB              & JFK                 & BQN                 & 183                 & 1576                & 5                   & 45                  & 2013-01-01 05:00:00\\\\\n",
       "\t 2013                & 1                   & 1                   & 554                 & 600                 & -6                  &  812                &  837                & -25                 & DL                  &  461                & N668DN              & LGA                 & ATL                 & 116                 &  762                & 6                   &  0                  & 2013-01-01 06:00:00\\\\\n",
       "\t 2013                & 1                   & 1                   & 554                 & 558                 & -4                  &  740                &  728                &  12                 & UA                  & 1696                & N39463              & EWR                 & ORD                 & 150                 &  719                & 5                   & 58                  & 2013-01-01 05:00:00\\\\\n",
       "\\end{tabular}\n"
      ],
      "text/markdown": [
       "\n",
       "| year | month | day | dep_time | sched_dep_time | dep_delay | arr_time | sched_arr_time | arr_delay | carrier | flight | tailnum | origin | dest | air_time | distance | hour | minute | time_hour |\n",
       "|---|---|---|---|---|---|---|---|---|---|---|---|---|---|---|---|---|---|---|\n",
       "| 2013                | 1                   | 1                   | 517                 | 515                 |  2                  |  830                |  819                |  11                 | UA                  | 1545                | N14228              | EWR                 | IAH                 | 227                 | 1400                | 5                   | 15                  | 2013-01-01 05:00:00 |\n",
       "| 2013                | 1                   | 1                   | 533                 | 529                 |  4                  |  850                |  830                |  20                 | UA                  | 1714                | N24211              | LGA                 | IAH                 | 227                 | 1416                | 5                   | 29                  | 2013-01-01 05:00:00 |\n",
       "| 2013                | 1                   | 1                   | 542                 | 540                 |  2                  |  923                |  850                |  33                 | AA                  | 1141                | N619AA              | JFK                 | MIA                 | 160                 | 1089                | 5                   | 40                  | 2013-01-01 05:00:00 |\n",
       "| 2013                | 1                   | 1                   | 544                 | 545                 | -1                  | 1004                | 1022                | -18                 | B6                  |  725                | N804JB              | JFK                 | BQN                 | 183                 | 1576                | 5                   | 45                  | 2013-01-01 05:00:00 |\n",
       "| 2013                | 1                   | 1                   | 554                 | 600                 | -6                  |  812                |  837                | -25                 | DL                  |  461                | N668DN              | LGA                 | ATL                 | 116                 |  762                | 6                   |  0                  | 2013-01-01 06:00:00 |\n",
       "| 2013                | 1                   | 1                   | 554                 | 558                 | -4                  |  740                |  728                |  12                 | UA                  | 1696                | N39463              | EWR                 | ORD                 | 150                 |  719                | 5                   | 58                  | 2013-01-01 05:00:00 |\n",
       "\n"
      ],
      "text/plain": [
       "  year month day dep_time sched_dep_time dep_delay arr_time sched_arr_time\n",
       "1 2013 1     1   517      515             2         830      819          \n",
       "2 2013 1     1   533      529             4         850      830          \n",
       "3 2013 1     1   542      540             2         923      850          \n",
       "4 2013 1     1   544      545            -1        1004     1022          \n",
       "5 2013 1     1   554      600            -6         812      837          \n",
       "6 2013 1     1   554      558            -4         740      728          \n",
       "  arr_delay carrier flight tailnum origin dest air_time distance hour minute\n",
       "1  11       UA      1545   N14228  EWR    IAH  227      1400     5    15    \n",
       "2  20       UA      1714   N24211  LGA    IAH  227      1416     5    29    \n",
       "3  33       AA      1141   N619AA  JFK    MIA  160      1089     5    40    \n",
       "4 -18       B6       725   N804JB  JFK    BQN  183      1576     5    45    \n",
       "5 -25       DL       461   N668DN  LGA    ATL  116       762     6     0    \n",
       "6  12       UA      1696   N39463  EWR    ORD  150       719     5    58    \n",
       "  time_hour          \n",
       "1 2013-01-01 05:00:00\n",
       "2 2013-01-01 05:00:00\n",
       "3 2013-01-01 05:00:00\n",
       "4 2013-01-01 05:00:00\n",
       "5 2013-01-01 06:00:00\n",
       "6 2013-01-01 05:00:00"
      ]
     },
     "metadata": {},
     "output_type": "display_data"
    }
   ],
   "source": [
    "head(flights)"
   ]
  },
  {
   "cell_type": "markdown",
   "metadata": {
    "id": "0zZS5nLAiFL2"
   },
   "source": [
    "## Question 8\n",
    "\n",
    "Combine the year, month and day information into a new column called dates. \n",
    "\n",
    "Then, create a new column called weekdays which shows which day of the week each flight has taken place.\n",
    "\n",
    "Report the first six rows of your data frame as such:\n",
    "\n",
    "```R\n",
    "> head(flights)\n",
    "\n",
    "  year month day dep_time dep_delay arr_time arr_delay cancelled carrier tailnum flight origin dest air_time distance\n",
    "1 2014     1   1      914        14     1238        13         0      AA  N338AA      1    JFK  LAX      359     2475\n",
    "2 2014     1   1     1157        -3     1523        13         0      AA  N335AA      3    JFK  LAX      363     2475\n",
    "3 2014     1   1     1902         2     2224         9         0      AA  N327AA     21    JFK  LAX      351     2475\n",
    "4 2014     1   1      722        -8     1014       -26         0      AA  N3EHAA     29    LGA  PBI      157     1035\n",
    "5 2014     1   1     1347         2     1706         1         0      AA  N319AA    117    JFK  LAX      350     2475\n",
    "6 2014     1   1     1824         4     2145         0         0      AA  N3DEAA    119    EWR  LAX      339     2454\n",
    "  hour min      dates weekdays\n",
    "1    9  14 2014-01-01      Çar\n",
    "2   11  57 2014-01-01      Çar\n",
    "3   19   2 2014-01-01      Çar\n",
    "4    7  22 2014-01-01      Çar\n",
    "5   13  47 2014-01-01      Çar\n",
    "6   18  24 2014-01-01      Çar\n",
    "```\n",
    "\n",
    "*Hint: You can use ``with()`` for the first part and ``weekdays`` for the second part.*\n",
    "\n",
    "```r\n",
    "\n",
    "flights$dates <- with(flights, as.Date(paste(year, month, day, sep = \"-\")))\n",
    "flights$weekdays <- weekdays(flights$dates, abbreviate = T)\n",
    "head(flights)\n",
    "```\n"
   ]
  },
  {
   "cell_type": "code",
   "execution_count": 10,
   "metadata": {
    "id": "Oc3O-QGZjVbQ"
   },
   "outputs": [
    {
     "data": {
      "text/html": [
       "<table>\n",
       "<thead><tr><th scope=col>year</th><th scope=col>month</th><th scope=col>day</th><th scope=col>dep_time</th><th scope=col>sched_dep_time</th><th scope=col>dep_delay</th><th scope=col>arr_time</th><th scope=col>sched_arr_time</th><th scope=col>arr_delay</th><th scope=col>carrier</th><th scope=col>...</th><th scope=col>tailnum</th><th scope=col>origin</th><th scope=col>dest</th><th scope=col>air_time</th><th scope=col>distance</th><th scope=col>hour</th><th scope=col>minute</th><th scope=col>time_hour</th><th scope=col>dates</th><th scope=col>weekdays</th></tr></thead>\n",
       "<tbody>\n",
       "\t<tr><td>2013               </td><td>1                  </td><td>1                  </td><td>517                </td><td>515                </td><td> 2                 </td><td> 830               </td><td> 819               </td><td> 11                </td><td>UA                 </td><td>...                </td><td>N14228             </td><td>EWR                </td><td>IAH                </td><td>227                </td><td>1400               </td><td>5                  </td><td>15                 </td><td>2013-01-01 05:00:00</td><td>2013-01-01         </td><td>Tue                </td></tr>\n",
       "\t<tr><td>2013               </td><td>1                  </td><td>1                  </td><td>533                </td><td>529                </td><td> 4                 </td><td> 850               </td><td> 830               </td><td> 20                </td><td>UA                 </td><td>...                </td><td>N24211             </td><td>LGA                </td><td>IAH                </td><td>227                </td><td>1416               </td><td>5                  </td><td>29                 </td><td>2013-01-01 05:00:00</td><td>2013-01-01         </td><td>Tue                </td></tr>\n",
       "\t<tr><td>2013               </td><td>1                  </td><td>1                  </td><td>542                </td><td>540                </td><td> 2                 </td><td> 923               </td><td> 850               </td><td> 33                </td><td>AA                 </td><td>...                </td><td>N619AA             </td><td>JFK                </td><td>MIA                </td><td>160                </td><td>1089               </td><td>5                  </td><td>40                 </td><td>2013-01-01 05:00:00</td><td>2013-01-01         </td><td>Tue                </td></tr>\n",
       "\t<tr><td>2013               </td><td>1                  </td><td>1                  </td><td>544                </td><td>545                </td><td>-1                 </td><td>1004               </td><td>1022               </td><td>-18                </td><td>B6                 </td><td>...                </td><td>N804JB             </td><td>JFK                </td><td>BQN                </td><td>183                </td><td>1576               </td><td>5                  </td><td>45                 </td><td>2013-01-01 05:00:00</td><td>2013-01-01         </td><td>Tue                </td></tr>\n",
       "\t<tr><td>2013               </td><td>1                  </td><td>1                  </td><td>554                </td><td>600                </td><td>-6                 </td><td> 812               </td><td> 837               </td><td>-25                </td><td>DL                 </td><td>...                </td><td>N668DN             </td><td>LGA                </td><td>ATL                </td><td>116                </td><td> 762               </td><td>6                  </td><td> 0                 </td><td>2013-01-01 06:00:00</td><td>2013-01-01         </td><td>Tue                </td></tr>\n",
       "\t<tr><td>2013               </td><td>1                  </td><td>1                  </td><td>554                </td><td>558                </td><td>-4                 </td><td> 740               </td><td> 728               </td><td> 12                </td><td>UA                 </td><td>...                </td><td>N39463             </td><td>EWR                </td><td>ORD                </td><td>150                </td><td> 719               </td><td>5                  </td><td>58                 </td><td>2013-01-01 05:00:00</td><td>2013-01-01         </td><td>Tue                </td></tr>\n",
       "</tbody>\n",
       "</table>\n"
      ],
      "text/latex": [
       "\\begin{tabular}{r|lllllllllllllllllllll}\n",
       " year & month & day & dep\\_time & sched\\_dep\\_time & dep\\_delay & arr\\_time & sched\\_arr\\_time & arr\\_delay & carrier & ... & tailnum & origin & dest & air\\_time & distance & hour & minute & time\\_hour & dates & weekdays\\\\\n",
       "\\hline\n",
       "\t 2013                & 1                   & 1                   & 517                 & 515                 &  2                  &  830                &  819                &  11                 & UA                  & ...                 & N14228              & EWR                 & IAH                 & 227                 & 1400                & 5                   & 15                  & 2013-01-01 05:00:00 & 2013-01-01          & Tue                \\\\\n",
       "\t 2013                & 1                   & 1                   & 533                 & 529                 &  4                  &  850                &  830                &  20                 & UA                  & ...                 & N24211              & LGA                 & IAH                 & 227                 & 1416                & 5                   & 29                  & 2013-01-01 05:00:00 & 2013-01-01          & Tue                \\\\\n",
       "\t 2013                & 1                   & 1                   & 542                 & 540                 &  2                  &  923                &  850                &  33                 & AA                  & ...                 & N619AA              & JFK                 & MIA                 & 160                 & 1089                & 5                   & 40                  & 2013-01-01 05:00:00 & 2013-01-01          & Tue                \\\\\n",
       "\t 2013                & 1                   & 1                   & 544                 & 545                 & -1                  & 1004                & 1022                & -18                 & B6                  & ...                 & N804JB              & JFK                 & BQN                 & 183                 & 1576                & 5                   & 45                  & 2013-01-01 05:00:00 & 2013-01-01          & Tue                \\\\\n",
       "\t 2013                & 1                   & 1                   & 554                 & 600                 & -6                  &  812                &  837                & -25                 & DL                  & ...                 & N668DN              & LGA                 & ATL                 & 116                 &  762                & 6                   &  0                  & 2013-01-01 06:00:00 & 2013-01-01          & Tue                \\\\\n",
       "\t 2013                & 1                   & 1                   & 554                 & 558                 & -4                  &  740                &  728                &  12                 & UA                  & ...                 & N39463              & EWR                 & ORD                 & 150                 &  719                & 5                   & 58                  & 2013-01-01 05:00:00 & 2013-01-01          & Tue                \\\\\n",
       "\\end{tabular}\n"
      ],
      "text/markdown": [
       "\n",
       "| year | month | day | dep_time | sched_dep_time | dep_delay | arr_time | sched_arr_time | arr_delay | carrier | ... | tailnum | origin | dest | air_time | distance | hour | minute | time_hour | dates | weekdays |\n",
       "|---|---|---|---|---|---|---|---|---|---|---|---|---|---|---|---|---|---|---|---|---|\n",
       "| 2013                | 1                   | 1                   | 517                 | 515                 |  2                  |  830                |  819                |  11                 | UA                  | ...                 | N14228              | EWR                 | IAH                 | 227                 | 1400                | 5                   | 15                  | 2013-01-01 05:00:00 | 2013-01-01          | Tue                 |\n",
       "| 2013                | 1                   | 1                   | 533                 | 529                 |  4                  |  850                |  830                |  20                 | UA                  | ...                 | N24211              | LGA                 | IAH                 | 227                 | 1416                | 5                   | 29                  | 2013-01-01 05:00:00 | 2013-01-01          | Tue                 |\n",
       "| 2013                | 1                   | 1                   | 542                 | 540                 |  2                  |  923                |  850                |  33                 | AA                  | ...                 | N619AA              | JFK                 | MIA                 | 160                 | 1089                | 5                   | 40                  | 2013-01-01 05:00:00 | 2013-01-01          | Tue                 |\n",
       "| 2013                | 1                   | 1                   | 544                 | 545                 | -1                  | 1004                | 1022                | -18                 | B6                  | ...                 | N804JB              | JFK                 | BQN                 | 183                 | 1576                | 5                   | 45                  | 2013-01-01 05:00:00 | 2013-01-01          | Tue                 |\n",
       "| 2013                | 1                   | 1                   | 554                 | 600                 | -6                  |  812                |  837                | -25                 | DL                  | ...                 | N668DN              | LGA                 | ATL                 | 116                 |  762                | 6                   |  0                  | 2013-01-01 06:00:00 | 2013-01-01          | Tue                 |\n",
       "| 2013                | 1                   | 1                   | 554                 | 558                 | -4                  |  740                |  728                |  12                 | UA                  | ...                 | N39463              | EWR                 | ORD                 | 150                 |  719                | 5                   | 58                  | 2013-01-01 05:00:00 | 2013-01-01          | Tue                 |\n",
       "\n"
      ],
      "text/plain": [
       "  year month day dep_time sched_dep_time dep_delay arr_time sched_arr_time\n",
       "1 2013 1     1   517      515             2         830      819          \n",
       "2 2013 1     1   533      529             4         850      830          \n",
       "3 2013 1     1   542      540             2         923      850          \n",
       "4 2013 1     1   544      545            -1        1004     1022          \n",
       "5 2013 1     1   554      600            -6         812      837          \n",
       "6 2013 1     1   554      558            -4         740      728          \n",
       "  arr_delay carrier ... tailnum origin dest air_time distance hour minute\n",
       "1  11       UA      ... N14228  EWR    IAH  227      1400     5    15    \n",
       "2  20       UA      ... N24211  LGA    IAH  227      1416     5    29    \n",
       "3  33       AA      ... N619AA  JFK    MIA  160      1089     5    40    \n",
       "4 -18       B6      ... N804JB  JFK    BQN  183      1576     5    45    \n",
       "5 -25       DL      ... N668DN  LGA    ATL  116       762     6     0    \n",
       "6  12       UA      ... N39463  EWR    ORD  150       719     5    58    \n",
       "  time_hour           dates      weekdays\n",
       "1 2013-01-01 05:00:00 2013-01-01 Tue     \n",
       "2 2013-01-01 05:00:00 2013-01-01 Tue     \n",
       "3 2013-01-01 05:00:00 2013-01-01 Tue     \n",
       "4 2013-01-01 05:00:00 2013-01-01 Tue     \n",
       "5 2013-01-01 06:00:00 2013-01-01 Tue     \n",
       "6 2013-01-01 05:00:00 2013-01-01 Tue     "
      ]
     },
     "metadata": {},
     "output_type": "display_data"
    }
   ],
   "source": [
    "# There's a problem in github, so the solution is also given above\n",
    "flights$dates <- with(flights, as.Date(paste(year, month, day, sep = \"-\")))\n",
    "flights$weekdays <- weekdays(flights$dates, abbreviate = T)\n",
    "head(flights)"
   ]
  },
  {
   "cell_type": "markdown",
   "metadata": {
    "id": "hRzZ8l6ljYMZ"
   },
   "source": [
    "## Question 9\n",
    "\n",
    "Using **flights**, create a data frame called **dep_delay_origin_dest2** that shows the count of flights and the average departure delay for each origin and destination pair as such:\n",
    "\n",
    "```R\n",
    "> head(dep_delay_origin_dest2)\n",
    "\n",
    "  origin dest count av_dep_delay\n",
    "1    JFK  ABQ   278    15.316547\n",
    "2    JFK  ACK   277     4.277978\n",
    "3    LGA  AGS     3    -1.333333\n",
    "4    EWR  ALB   169    21.538462\n",
    "5    EWR  ANC    13    12.615385\n",
    "6    EWR  ATL  4182    17.602822\n",
    "```\n",
    "\n",
    "*Hint: Use the function ``aggregate()``.*"
   ]
  },
  {
   "cell_type": "code",
   "execution_count": 11,
   "metadata": {
    "id": "uA-Iti9qjdN7"
   },
   "outputs": [
    {
     "data": {
      "text/html": [
       "<table>\n",
       "<thead><tr><th scope=col>origin</th><th scope=col>dest</th><th scope=col>count</th><th scope=col>av_dep_delay</th></tr></thead>\n",
       "<tbody>\n",
       "\t<tr><td>JFK      </td><td>ABQ      </td><td> 254     </td><td>13.740157</td></tr>\n",
       "\t<tr><td>JFK      </td><td>ACK      </td><td> 265     </td><td> 6.456604</td></tr>\n",
       "\t<tr><td>EWR      </td><td>ALB      </td><td> 439     </td><td>       NA</td></tr>\n",
       "\t<tr><td>EWR      </td><td>ANC      </td><td>   8     </td><td>12.875000</td></tr>\n",
       "\t<tr><td>EWR      </td><td>ATL      </td><td>5022     </td><td>       NA</td></tr>\n",
       "\t<tr><td>JFK      </td><td>ATL      </td><td>1930     </td><td>       NA</td></tr>\n",
       "</tbody>\n",
       "</table>\n"
      ],
      "text/latex": [
       "\\begin{tabular}{r|llll}\n",
       " origin & dest & count & av\\_dep\\_delay\\\\\n",
       "\\hline\n",
       "\t JFK       & ABQ       &  254      & 13.740157\\\\\n",
       "\t JFK       & ACK       &  265      &  6.456604\\\\\n",
       "\t EWR       & ALB       &  439      &        NA\\\\\n",
       "\t EWR       & ANC       &    8      & 12.875000\\\\\n",
       "\t EWR       & ATL       & 5022      &        NA\\\\\n",
       "\t JFK       & ATL       & 1930      &        NA\\\\\n",
       "\\end{tabular}\n"
      ],
      "text/markdown": [
       "\n",
       "| origin | dest | count | av_dep_delay |\n",
       "|---|---|---|---|\n",
       "| JFK       | ABQ       |  254      | 13.740157 |\n",
       "| JFK       | ACK       |  265      |  6.456604 |\n",
       "| EWR       | ALB       |  439      |        NA |\n",
       "| EWR       | ANC       |    8      | 12.875000 |\n",
       "| EWR       | ATL       | 5022      |        NA |\n",
       "| JFK       | ATL       | 1930      |        NA |\n",
       "\n"
      ],
      "text/plain": [
       "  origin dest count av_dep_delay\n",
       "1 JFK    ABQ   254  13.740157   \n",
       "2 JFK    ACK   265   6.456604   \n",
       "3 EWR    ALB   439         NA   \n",
       "4 EWR    ANC     8  12.875000   \n",
       "5 EWR    ATL  5022         NA   \n",
       "6 JFK    ATL  1930         NA   "
      ]
     },
     "metadata": {},
     "output_type": "display_data"
    }
   ],
   "source": [
    "dep_delay_origin_dest <- with(flights, aggregate(dep_delay,\n",
    "                                          by = list(origin, dest),\n",
    "                                          FUN = function(x) c(length(x), mean(x))\n",
    "                                                 )\n",
    "                              )\n",
    "\n",
    "dep_delay_origin_dest2 <- data.frame(dep_delay_origin_dest[,1:2], dep_delay_origin_dest[,3])\n",
    "\n",
    "names(dep_delay_origin_dest2) <- c(\"origin\",\n",
    "                                   \"dest\",\n",
    "                                   \"count\",\n",
    "                                   \"av_dep_delay\")\n",
    "head(dep_delay_origin_dest2)\n"
   ]
  },
  {
   "cell_type": "markdown",
   "metadata": {
    "id": "guk6YLONjdjR"
   },
   "source": [
    "## QUESTION 10\n",
    "\n",
    "Using **dep_delay_origin_dest2**, report \n",
    "\n",
    "- The most active 10 airport pairs in terms of flight counts in a data frame called **most_active**\n",
    "- The most delaying 10 airport pairs in terms of average departure delays in a data frame called **most_delayed**\n",
    "\n",
    "These two matrices should be in decreasing order in their respective criteria.\n",
    "\n",
    "```R\n",
    "> most_active\n",
    "\n",
    "    origin dest count av_dep_delay\n",
    "109    JFK  LAX 10208     8.359718\n",
    "195    JFK  SFO  7368    11.741178\n",
    "146    LGA  ORD  7052    12.708026\n",
    "8      LGA  ATL  6925    13.813574\n",
    "126    LGA  MIA  5084     6.030488\n",
    "194    EWR  SFO  4539    16.530293\n",
    "115    JFK  MCO  4467    13.477726\n",
    "20     EWR  BOS  4268    11.265933\n",
    "108    EWR  LAX  4226    15.882631\n",
    "6      EWR  ATL  4182    17.602822\n",
    "```\n",
    "\n",
    "```R\n",
    "> most_delayed\n",
    "\n",
    "    origin dest count av_dep_delay\n",
    "102    JFK  JAC     1    322.00000\n",
    "68     LGA  DSM     1    125.00000\n",
    "13     EWR  AVP     1     83.00000\n",
    "121    LGA  MEM     3     54.33333\n",
    "73     JFK  EGE    85     43.32941\n",
    "217    LGA  TVC    36     37.94444\n",
    "36     EWR  CAE    21     36.09524\n",
    "218    EWR  TYS   238     32.81513\n",
    "130    LGA  MSN   188     29.31915\n",
    "215    EWR  TUL   201     28.89552\n",
    "```"
   ]
  },
  {
   "cell_type": "code",
   "execution_count": 12,
   "metadata": {
    "id": "bVfjBH04jkC8"
   },
   "outputs": [
    {
     "data": {
      "text/html": [
       "<table>\n",
       "<thead><tr><th></th><th scope=col>origin</th><th scope=col>dest</th><th scope=col>count</th><th scope=col>av_dep_delay</th></tr></thead>\n",
       "<tbody>\n",
       "\t<tr><th scope=row>107</th><td>JFK  </td><td>LAX  </td><td>11262</td><td>NA   </td></tr>\n",
       "\t<tr><th scope=row>7</th><td>LGA  </td><td>ATL  </td><td>10263</td><td>NA   </td></tr>\n",
       "\t<tr><th scope=row>148</th><td>LGA  </td><td>ORD  </td><td> 8857</td><td>NA   </td></tr>\n",
       "\t<tr><th scope=row>197</th><td>JFK  </td><td>SFO  </td><td> 8204</td><td>NA   </td></tr>\n",
       "\t<tr><th scope=row>47</th><td>LGA  </td><td>CLT  </td><td> 6168</td><td>NA   </td></tr>\n",
       "\t<tr><th scope=row>146</th><td>EWR  </td><td>ORD  </td><td> 6100</td><td>NA   </td></tr>\n",
       "\t<tr><th scope=row>20</th><td>JFK  </td><td>BOS  </td><td> 5898</td><td>NA   </td></tr>\n",
       "\t<tr><th scope=row>126</th><td>LGA  </td><td>MIA  </td><td> 5781</td><td>NA   </td></tr>\n",
       "\t<tr><th scope=row>115</th><td>JFK  </td><td>MCO  </td><td> 5464</td><td>NA   </td></tr>\n",
       "\t<tr><th scope=row>19</th><td>EWR  </td><td>BOS  </td><td> 5327</td><td>NA   </td></tr>\n",
       "</tbody>\n",
       "</table>\n"
      ],
      "text/latex": [
       "\\begin{tabular}{r|llll}\n",
       "  & origin & dest & count & av\\_dep\\_delay\\\\\n",
       "\\hline\n",
       "\t107 & JFK   & LAX   & 11262 & NA   \\\\\n",
       "\t7 & LGA   & ATL   & 10263 & NA   \\\\\n",
       "\t148 & LGA   & ORD   &  8857 & NA   \\\\\n",
       "\t197 & JFK   & SFO   &  8204 & NA   \\\\\n",
       "\t47 & LGA   & CLT   &  6168 & NA   \\\\\n",
       "\t146 & EWR   & ORD   &  6100 & NA   \\\\\n",
       "\t20 & JFK   & BOS   &  5898 & NA   \\\\\n",
       "\t126 & LGA   & MIA   &  5781 & NA   \\\\\n",
       "\t115 & JFK   & MCO   &  5464 & NA   \\\\\n",
       "\t19 & EWR   & BOS   &  5327 & NA   \\\\\n",
       "\\end{tabular}\n"
      ],
      "text/markdown": [
       "\n",
       "| <!--/--> | origin | dest | count | av_dep_delay |\n",
       "|---|---|---|---|---|\n",
       "| 107 | JFK   | LAX   | 11262 | NA    |\n",
       "| 7 | LGA   | ATL   | 10263 | NA    |\n",
       "| 148 | LGA   | ORD   |  8857 | NA    |\n",
       "| 197 | JFK   | SFO   |  8204 | NA    |\n",
       "| 47 | LGA   | CLT   |  6168 | NA    |\n",
       "| 146 | EWR   | ORD   |  6100 | NA    |\n",
       "| 20 | JFK   | BOS   |  5898 | NA    |\n",
       "| 126 | LGA   | MIA   |  5781 | NA    |\n",
       "| 115 | JFK   | MCO   |  5464 | NA    |\n",
       "| 19 | EWR   | BOS   |  5327 | NA    |\n",
       "\n"
      ],
      "text/plain": [
       "    origin dest count av_dep_delay\n",
       "107 JFK    LAX  11262 NA          \n",
       "7   LGA    ATL  10263 NA          \n",
       "148 LGA    ORD   8857 NA          \n",
       "197 JFK    SFO   8204 NA          \n",
       "47  LGA    CLT   6168 NA          \n",
       "146 EWR    ORD   6100 NA          \n",
       "20  JFK    BOS   5898 NA          \n",
       "126 LGA    MIA   5781 NA          \n",
       "115 JFK    MCO   5464 NA          \n",
       "19  EWR    BOS   5327 NA          "
      ]
     },
     "metadata": {},
     "output_type": "display_data"
    },
    {
     "data": {
      "text/html": [
       "<table>\n",
       "<thead><tr><th></th><th scope=col>origin</th><th scope=col>dest</th><th scope=col>count</th><th scope=col>av_dep_delay</th></tr></thead>\n",
       "<tbody>\n",
       "\t<tr><th scope=row>190</th><td>LGA      </td><td>SBN      </td><td>  6      </td><td>31.333333</td></tr>\n",
       "\t<tr><th scope=row>36</th><td>LGA      </td><td>CAE      </td><td> 12      </td><td>29.500000</td></tr>\n",
       "\t<tr><th scope=row>208</th><td>JFK      </td><td>STL      </td><td>  1      </td><td>20.000000</td></tr>\n",
       "\t<tr><th scope=row>120</th><td>JFK      </td><td>MEM      </td><td>  1      </td><td>14.000000</td></tr>\n",
       "\t<tr><th scope=row>1</th><td>JFK      </td><td>ABQ      </td><td>254      </td><td>13.740157</td></tr>\n",
       "\t<tr><th scope=row>4</th><td>EWR      </td><td>ANC      </td><td>  8      </td><td>12.875000</td></tr>\n",
       "\t<tr><th scope=row>14</th><td>JFK      </td><td>BHM      </td><td>  1      </td><td> 7.000000</td></tr>\n",
       "\t<tr><th scope=row>2</th><td>JFK      </td><td>ACK      </td><td>265      </td><td> 6.456604</td></tr>\n",
       "\t<tr><th scope=row>189</th><td>EWR      </td><td>SBN      </td><td>  4      </td><td> 5.750000</td></tr>\n",
       "\t<tr><th scope=row>100</th><td>JFK      </td><td>JAC      </td><td>  2      </td><td> 5.000000</td></tr>\n",
       "</tbody>\n",
       "</table>\n"
      ],
      "text/latex": [
       "\\begin{tabular}{r|llll}\n",
       "  & origin & dest & count & av\\_dep\\_delay\\\\\n",
       "\\hline\n",
       "\t190 & LGA       & SBN       &   6       & 31.333333\\\\\n",
       "\t36 & LGA       & CAE       &  12       & 29.500000\\\\\n",
       "\t208 & JFK       & STL       &   1       & 20.000000\\\\\n",
       "\t120 & JFK       & MEM       &   1       & 14.000000\\\\\n",
       "\t1 & JFK       & ABQ       & 254       & 13.740157\\\\\n",
       "\t4 & EWR       & ANC       &   8       & 12.875000\\\\\n",
       "\t14 & JFK       & BHM       &   1       &  7.000000\\\\\n",
       "\t2 & JFK       & ACK       & 265       &  6.456604\\\\\n",
       "\t189 & EWR       & SBN       &   4       &  5.750000\\\\\n",
       "\t100 & JFK       & JAC       &   2       &  5.000000\\\\\n",
       "\\end{tabular}\n"
      ],
      "text/markdown": [
       "\n",
       "| <!--/--> | origin | dest | count | av_dep_delay |\n",
       "|---|---|---|---|---|\n",
       "| 190 | LGA       | SBN       |   6       | 31.333333 |\n",
       "| 36 | LGA       | CAE       |  12       | 29.500000 |\n",
       "| 208 | JFK       | STL       |   1       | 20.000000 |\n",
       "| 120 | JFK       | MEM       |   1       | 14.000000 |\n",
       "| 1 | JFK       | ABQ       | 254       | 13.740157 |\n",
       "| 4 | EWR       | ANC       |   8       | 12.875000 |\n",
       "| 14 | JFK       | BHM       |   1       |  7.000000 |\n",
       "| 2 | JFK       | ACK       | 265       |  6.456604 |\n",
       "| 189 | EWR       | SBN       |   4       |  5.750000 |\n",
       "| 100 | JFK       | JAC       |   2       |  5.000000 |\n",
       "\n"
      ],
      "text/plain": [
       "    origin dest count av_dep_delay\n",
       "190 LGA    SBN    6   31.333333   \n",
       "36  LGA    CAE   12   29.500000   \n",
       "208 JFK    STL    1   20.000000   \n",
       "120 JFK    MEM    1   14.000000   \n",
       "1   JFK    ABQ  254   13.740157   \n",
       "4   EWR    ANC    8   12.875000   \n",
       "14  JFK    BHM    1    7.000000   \n",
       "2   JFK    ACK  265    6.456604   \n",
       "189 EWR    SBN    4    5.750000   \n",
       "100 JFK    JAC    2    5.000000   "
      ]
     },
     "metadata": {},
     "output_type": "display_data"
    }
   ],
   "source": [
    "\n",
    "most_active <- dep_delay_origin_dest2[order(dep_delay_origin_dest2$count, decreasing = T),][1:10,]\n",
    "most_delayed <-dep_delay_origin_dest2[order(dep_delay_origin_dest2$av_dep_delay, decreasing = T),][1:10,]\n",
    "most_active\n",
    "most_delayed"
   ]
  },
  {
   "cell_type": "markdown",
   "metadata": {
    "id": "nz66XJAtjkTD"
   },
   "source": [
    "## Question 11\n",
    "\n",
    "\n",
    "- Merge the **flights** and **dep_delay_origin_dest2** data frames into **flights2**, so that we have the count of flights and average departure delay for each airport pair on all rows.\n",
    "- Create a new column **dev_delay** which will show the difference between the departure delay and the average departure delay for each row.\n",
    "\n",
    "Then report the first 10 rows of **flights2** in decreasing order as such:\n",
    "\n",
    "```R\n",
    "       origin dest year month day dep_time dep_delay arr_time arr_delay cancelled carrier tailnum flight air_time\n",
    "26298     EWR  DFW 2014    10   4      727      1498     1008      1494         0      AA  N4WJAA   1381      200\n",
    "94999     JFK  BOS 2014     4  15     1341      1241     1443      1223         0      AA  N3FNAA    256       39\n",
    "3809      EWR  ATL 2014     7  14      823      1087     1046      1090         0      DL  N966AT    673       97\n",
    "24951     EWR  DFW 2014     6  13     1046      1071     1329      1064         0      AA  N502AA   2488      175\n",
    "26816     EWR  DFW 2014     9  12      636      1056     1015      1115         0      AA  N548AA   1642      198\n",
    "24850     EWR  DFW 2014     6  16      731      1022     1057      1073         0      AA  N491AA    320      178\n",
    "128692    JFK  MCO 2014     2  21      844      1014     1151      1007         0      DL  N983DL   2459      139\n",
    "105903    JFK  DEN 2014     2  15     1244      1003     1517       994         0      DL  N3747D    475      242\n",
    "26848     EWR  DFW 2014     6  11     1119       989     1411       991         0      AA  N569AA   1691      194\n",
    "223331    LGA  MIA 2014     1   2     1108       973     1456       996         0      DL  N980DL   2139      156\n",
    "       distance hour min      dates weekdays count av_dep_delay dev_delay\n",
    "26298      1372    7  27 2014-10-04      Cmt  2224    16.616906 1481.3831\n",
    "94999       187   13  41 2014-04-15      Sal  4111    11.584529 1229.4155\n",
    "3809        746    8  23 2014-07-14      Pzt  4182    17.602822 1069.3972\n",
    "24951      1372   10  46 2014-06-13      Cum  2224    16.616906 1054.3831\n",
    "26816      1372    6  36 2014-09-12      Cum  2224    16.616906 1039.3831\n",
    "24850      1372    7  31 2014-06-16      Pzt  2224    16.616906 1005.3831\n",
    "128692      944    8  44 2014-02-21      Cum  4467    13.477726 1000.5223\n",
    "105903     1626   12  44 2014-02-15      Cmt   579    18.226252  984.7737\n",
    "26848      1372   11  19 2014-06-11      Çar  2224    16.616906  972.3831\n",
    "223331     1096   11   8 2014-01-02      Per  5084     6.030488  966.9695\n",
    "```\n"
   ]
  },
  {
   "cell_type": "code",
   "execution_count": 13,
   "metadata": {
    "id": "DO5ZEKk1jmwp"
   },
   "outputs": [
    {
     "data": {
      "text/html": [
       "<table>\n",
       "<thead><tr><th></th><th scope=col>dest</th><th scope=col>JFK</th></tr></thead>\n",
       "<tbody>\n",
       "\t<tr><th scope=row>207</th><td>STL      </td><td>20.000000</td></tr>\n",
       "\t<tr><th scope=row>119</th><td>MEM      </td><td>14.000000</td></tr>\n",
       "\t<tr><th scope=row>1</th><td>ABQ      </td><td>13.740157</td></tr>\n",
       "\t<tr><th scope=row>14</th><td>BHM      </td><td> 7.000000</td></tr>\n",
       "\t<tr><th scope=row>2</th><td>ACK      </td><td> 6.456604</td></tr>\n",
       "\t<tr><th scope=row>99</th><td>JAC      </td><td> 5.000000</td></tr>\n",
       "\t<tr><th scope=row>84</th><td>HNL      </td><td> 4.900585</td></tr>\n",
       "\t<tr><th scope=row>3</th><td>ALB      </td><td>       NA</td></tr>\n",
       "\t<tr><th scope=row>4</th><td>ANC      </td><td>       NA</td></tr>\n",
       "\t<tr><th scope=row>5</th><td>ATL      </td><td>       NA</td></tr>\n",
       "</tbody>\n",
       "</table>\n"
      ],
      "text/latex": [
       "\\begin{tabular}{r|ll}\n",
       "  & dest & JFK\\\\\n",
       "\\hline\n",
       "\t207 & STL       & 20.000000\\\\\n",
       "\t119 & MEM       & 14.000000\\\\\n",
       "\t1 & ABQ       & 13.740157\\\\\n",
       "\t14 & BHM       &  7.000000\\\\\n",
       "\t2 & ACK       &  6.456604\\\\\n",
       "\t99 & JAC       &  5.000000\\\\\n",
       "\t84 & HNL       &  4.900585\\\\\n",
       "\t3 & ALB       &        NA\\\\\n",
       "\t4 & ANC       &        NA\\\\\n",
       "\t5 & ATL       &        NA\\\\\n",
       "\\end{tabular}\n"
      ],
      "text/markdown": [
       "\n",
       "| <!--/--> | dest | JFK |\n",
       "|---|---|---|\n",
       "| 207 | STL       | 20.000000 |\n",
       "| 119 | MEM       | 14.000000 |\n",
       "| 1 | ABQ       | 13.740157 |\n",
       "| 14 | BHM       |  7.000000 |\n",
       "| 2 | ACK       |  6.456604 |\n",
       "| 99 | JAC       |  5.000000 |\n",
       "| 84 | HNL       |  4.900585 |\n",
       "| 3 | ALB       |        NA |\n",
       "| 4 | ANC       |        NA |\n",
       "| 5 | ATL       |        NA |\n",
       "\n"
      ],
      "text/plain": [
       "    dest JFK      \n",
       "207 STL  20.000000\n",
       "119 MEM  14.000000\n",
       "1   ABQ  13.740157\n",
       "14  BHM   7.000000\n",
       "2   ACK   6.456604\n",
       "99  JAC   5.000000\n",
       "84  HNL   4.900585\n",
       "3   ALB         NA\n",
       "4   ANC         NA\n",
       "5   ATL         NA"
      ]
     },
     "metadata": {},
     "output_type": "display_data"
    }
   ],
   "source": [
    "origin_dest_wide <- reshape(dep_delay_origin_dest2,\n",
    "                      idvar = c(\"dest\"),\n",
    "                      v.names = \"av_dep_delay\",\n",
    "                      timevar = \"origin\",\n",
    "                      direction = \"wide\",\n",
    "                        drop = \"count\")\n",
    "names(origin_dest_wide)[-1] <- c(\"JFK\", \"LGA\", \"EWR\")\n",
    "origin_dest_wide[order(origin_dest_wide$JFK, decreasing = T),c(\"dest\", \"JFK\")][1:10,]"
   ]
  }
 ],
 "metadata": {
  "colab": {
   "provenance": []
  },
  "kernelspec": {
   "display_name": "R",
   "language": "R",
   "name": "ir"
  },
  "language_info": {
   "codemirror_mode": "r",
   "file_extension": ".r",
   "mimetype": "text/x-r-source",
   "name": "R",
   "pygments_lexer": "r",
   "version": "3.6.1"
  }
 },
 "nbformat": 4,
 "nbformat_minor": 1
}
