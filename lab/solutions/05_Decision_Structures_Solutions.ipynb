{
 "cells": [
  {
   "cell_type": "markdown",
   "metadata": {
    "id": "A7_7N6Ae4Oog"
   },
   "source": [
    "## QUESTION 1\n",
    "\n",
    "Lets create a function called temperature that takes a vector which includes daily temperatures of a week as input.\n",
    "\n",
    "Set the seed to 2000. Then create a sample of size 7 from a normal distribution with mean 18 and variance 12.\n",
    "\n",
    "```r\n",
    "> temps\n",
    "[1] 15.04220 16.77756 21.08357 24.03199 21.17339 13.92413 11.28505\n",
    "```\n",
    "\n",
    "If there are at least 3 days above 15 degrees, it should return \"warm week\" and the average temperature with two decimal digits, as a single line.\n",
    "\n",
    "Otherwise, it should return \"cold week\" and the average temperature with two decimal digits, as a single line, as such:\n",
    "\n",
    "```r\n",
    "> temperature(temps)\n",
    "[1] \"warm week 17.62\"\n",
    "```\n",
    "\n",
    "Hint: You can make use of paste() and round() functions."
   ]
  },
  {
   "cell_type": "code",
   "execution_count": null,
   "metadata": {
    "id": "oaii8ESk4gip"
   },
   "outputs": [],
   "source": [
    "\n",
    "set.seed(2000)\n",
    "temps <- rnorm(7, 18, sqrt(12))\n",
    "temps\n",
    "\n",
    "temperature <- function(vec)\n",
    "{\n",
    "    #hot_days <- length(vec[vec > 15])\n",
    "    hot_days <- sum(vec > 15)\n",
    "    \n",
    "    avg_temp <- mean(vec)\n",
    "\n",
    "    if (hot_days >= 3)    \n",
    "    {\n",
    "        return(paste(\"warm week\", round(avg_temp, 2)))\n",
    "    }\n",
    "    else\n",
    "    {\n",
    "        return(paste(\"cold week\", round(avg_temp, 2)))\n",
    "    }\n",
    "}\n",
    "\n",
    "temperature(temps)"
   ]
  },
  {
   "cell_type": "markdown",
   "metadata": {
    "id": "3f8tDuw44g3m"
   },
   "source": [
    "## QUESTION 2\n",
    "\n",
    "A company employs only people older than 27 and whose CV scores are greater than 80. She rejects other applications. Create a function named **company**.\n",
    "\n",
    "This function takes two integer arguments, first one is **age** and the other is **cv_score**.\n",
    "\n",
    "If age and cv_score satisfy the company's criteria, it should return **\"YOU ARE ACCEPTED.\"**;\n",
    "\n",
    "if they don't it should return **\"YOU ARE REJECTED DUE TO INSUFFICIENT SCORE\"** or **\"REJECTED DUE TO YOUNG AGE\"** as such:\n",
    "\n",
    "```r\n",
    "company(29, 78)\n",
    "company(15, 78)\n",
    "company(15, 83)\n",
    "company(30, 82)\n",
    "\n",
    "[1] \"YOU ARE REJECTED DUE TO INSUFFICIENT SCORE\"\n",
    "[1] \"REJECTED DUE TO YOUNG AGE\"\n",
    "[1] \"REJECTED DUE TO YOUNG AGE\"\n",
    "[1] \"YOU ARE ACCEPTED.\"\n",
    "```\n"
   ]
  },
  {
   "cell_type": "code",
   "execution_count": null,
   "metadata": {
    "id": "F8YDtWDt5HBQ"
   },
   "outputs": [],
   "source": [
    "company <- function(age, cv_score)\n",
    "{\n",
    "    if (age > 27)\n",
    "    {\n",
    "        if (cv_score > 80)\n",
    "        {\n",
    "            return(\"YOU ARE ACCEPTED.\")\n",
    "        }\n",
    "        else\n",
    "        {\n",
    "            return(\"YOU ARE REJECTED DUE TO INSUFFICIENT SCORE\")\n",
    "        }\n",
    "    }\n",
    "    else\n",
    "    {\n",
    "            return(\"REJECTED DUE TO YOUNG AGE\")\n",
    "    }\n",
    "}  \n",
    "\n",
    "company(29, 78)\n",
    "company(15, 78)\n",
    "company(15, 83)\n",
    "company(30, 82)\n",
    "     "
   ]
  },
  {
   "cell_type": "markdown",
   "metadata": {
    "id": "TJ6_6xhh5Hal"
   },
   "source": [
    "## QUESTION 3\n",
    "\n",
    "Lets create a function called **fee_calculator** that takes age and base fee with a default value of 2.60.\n",
    "\n",
    "For people:\n",
    "\n",
    "1. Whose ages are less than or equal to 25, the function must return the 70% of the base.\n",
    "\n",
    "2. Whose ages are between 25 and 60, the function must return the default base.\n",
    "\n",
    "3. Whose ages are equal to or larger than 60, it has to be free of charge, as such:\n",
    "\n",
    "```r\n",
    "fee_calculator(23, 10)\n",
    "fee_calculator(27)\n",
    "fee_calculator(80, 5)\n",
    "\n",
    "[1] 7\n",
    "[1] 2.6\n",
    "[1] 0\n",
    "```\n"
   ]
  },
  {
   "cell_type": "code",
   "execution_count": null,
   "metadata": {
    "id": "Ea-PY0mH5jOK"
   },
   "outputs": [],
   "source": [
    "fee_calculator <- function(age, base = 2.60)\n",
    "{\n",
    "    if(age <= 25)\n",
    "    {\n",
    "        fee <- base * 0.7\n",
    "    }\n",
    "    else\n",
    "    {\n",
    "        if(age < 60)\n",
    "        {\n",
    "            fee <- base * 1\n",
    "        }\n",
    "        else\n",
    "        {\n",
    "            fee <- 0\n",
    "        }\n",
    "    }\n",
    "    \n",
    "    return(fee)\n",
    "}\n",
    "\n",
    "fee_calculator(29, 10)\n",
    "fee_calculator(27)\n",
    "fee_calculator(80, 5)\n",
    "     "
   ]
  },
  {
   "cell_type": "markdown",
   "metadata": {
    "id": "azzRqTP35jp1"
   },
   "source": [
    "# QUESTION 4\n",
    "\n",
    "The professor of a business course gives 2 midterms, 1 assignment and 1 final exam during the course of a semester. In order to take the final exam, the midterm grades of a student must be at least 112 in total. If a student is eligible for the final exam, she passes the course otherwise she fails.\n",
    "\n",
    "If the overall grade of a student is higher than 90, they get an \"AA\".\n",
    "\n",
    "The overall grade for the course is calculated as follows: \n",
    "\n",
    "- 25% of the first midterm's grade\n",
    "- 25% of the second midterm's grade\n",
    "- 15% of the assignment's grade\n",
    "- 35% of the final's grade\n",
    "\n",
    "5 students are enrolled in this course. Here are their names and their midterm and assignment grades:\n",
    "\n",
    "|Name|Midterm 1 <br> Grade|Midterm 2 <br> Grade|Assignment <br> Grade|\n",
    "|:-----|:-----:|:-----:|:-----:|\n",
    "|Ahmet|42|64|85|\n",
    "|Yiğit|89|92|100|\n",
    "|Ece|72|65|80|\n",
    "|Eda|51|48|50|\n",
    "|Aykut|82|65|90|\n",
    "\n",
    "Assign these grades to seperate vectors and give them the students' names.\n",
    "\n",
    "```R\n",
    "> ahmet\n",
    "[1] 42 64 85\n",
    "```\n",
    "\n",
    "Now write a function called **got_AA** that takes the grades of a student and returns whether she passes or fails. If the student passes with AA, it should return **\"AA\"**. You can assume a student who is eligible for the final exam will get a 100 in the final.\n",
    "\n",
    "Check the status of each student with your function as such:\n",
    "\n",
    "```R\n",
    "> got_AA(ahmet)\n",
    "[1] \"fail\"\n",
    "> got_AA(yigit)\n",
    "[1] \"AA\"\n",
    "> got_AA(ece)\n",
    "[1] \"pass\"\n",
    "> got_AA(eda)\n",
    "[1] \"fail\"\n",
    "> got_AA(aykut)\n",
    "[1] \"pass\"\n",
    "```"
   ]
  },
  {
   "cell_type": "code",
   "execution_count": null,
   "metadata": {
    "id": "B9ZaL5EX54ZY"
   },
   "outputs": [],
   "source": [
    "#1\n",
    "ahmet <- c(42, 64, 85)\n",
    "yigit <- c(89, 92, 100)\n",
    "ece <- c(72, 65, 80)\n",
    "eda <- c(51, 48, 50)\n",
    "aykut <- c(82, 65, 90)\n",
    "\n",
    "#2\n",
    "got_AA <- function(grades)\n",
    "{\n",
    "    weights <- c(0.25, 0.25, 0.15, 0.35)\n",
    "    if (sum(grades[1:2]) >= 112)\n",
    "    {\n",
    "        overall <- sum(c(grades, 100) * weights)\n",
    "        if (overall >= 90)\n",
    "        {\n",
    "            return('AA')\n",
    "        }\n",
    "        else\n",
    "        {\n",
    "            return('pass')\n",
    "        }\n",
    "    }\n",
    "    else\n",
    "    {\n",
    "        return('fail')\n",
    "    }\n",
    "}\n",
    "\n",
    "#3\n",
    "got_AA(ahmet)\n",
    "got_AA(yigit)\n",
    "got_AA(ece)\n",
    "got_AA(eda)\n",
    "got_AA(aykut)"
   ]
  },
  {
   "cell_type": "markdown",
   "metadata": {
    "id": "fzin1orQ54nb"
   },
   "source": [
    "# QUESTION 5\n",
    "\n",
    "The admission board of a PhD program has three criteria: undergraduate GPA, GRE score and the number of published papers.\n",
    "\n",
    "If an applicant has 2 or more published papers, she is admitted to the program regardless of her GPA or GRE score.\n",
    "If the applicant does not have 2 published papers, the board looks at her GPA and her GRE score.\n",
    "If her GPA is above 3.5 and her exam score is above 160 she is admitted to the program.\n",
    "If she only meets one of this criteria, she gets called in for an interview.\n",
    "If she meets none, she is rejected.\n",
    "\n",
    "You can see this year's applicants and their credentials in the table below:\n",
    "\n",
    "|Name|GPA|GRE score|Number of <br> published papers|\n",
    "|:-----|:-----:|:-----:|:-----:|\n",
    "|Musa|3.47|164|1|  \n",
    "|Esma|3.72|155|0| \n",
    "|Berk|3.20|148|3| \n",
    "|Bekir|3.85|168|1| \n",
    "|Derya|2.85|159|0| \n",
    "|Murat|3.95|170|2| \n",
    "|Enes|2.56|138|1|\n",
    "\n",
    "Create a vector for each student and assign their credentials to it as such:\n",
    "\n",
    "```R\n",
    "> musa\n",
    "[1]   3.47 164.00   1.00\n",
    "```\n",
    "\n",
    "Write a function called **admission** that will make the admission board's job easier. It will take as input, a vector that contains the credentials of an applicant and it will return the admission decision of that applicant. If the applicant is accepted it will print \"Accepted\", if the applicant is rejected it will print \"Rejected\" and if the applicant will be called in for an interview it will print \"Interview\".\n",
    "\n",
    "Here is an example:\n",
    "\n",
    "```R\n",
    "> admission(musa)\n",
    "[1] \"Interview\"\n",
    "```\n",
    "\n",
    "Now check the admission decision of all the applicants."
   ]
  },
  {
   "cell_type": "code",
   "execution_count": null,
   "metadata": {
    "id": "QE3YnGr658N4"
   },
   "outputs": [],
   "source": [
    "\n",
    "musa <- c(3.47,164,1)\n",
    "esma <- c(3.72,155,0)\n",
    "berk <- c(3.20,148,3)\n",
    "bekir <- c(3.85,168,1)\n",
    "derya <- c(2.85,159,0)\n",
    "murat <- c(3.95,170,2)\n",
    "enes <- c(2.56,138,1)\n",
    "musa\n",
    "\n",
    "admission <- function(credentials)\n",
    "{\n",
    "   if(credentials[3] >= 2)\n",
    "   {\n",
    "    return(\"Accepted\")   \n",
    "   }\n",
    "   else if(credentials[1] > 3.5 && credentials[2] > 160)\n",
    "   {\n",
    "    return(\"Accepted\")  \n",
    "   }\n",
    "   else if(credentials[1] > 3.5 || credentials[2] > 160)\n",
    "   {\n",
    "    return(\"Interview\")    \n",
    "   }\n",
    "   else\n",
    "   {\n",
    "    return(\"Rejected\")    \n",
    "   }\n",
    "}\n",
    "    \n",
    "admission(musa)\n",
    "admission(esma)\n",
    "admission(berk)\n",
    "admission(bekir)\n",
    "admission(derya)\n",
    "admission(murat)\n",
    "admission(enes)"
   ]
  },
  {
   "cell_type": "markdown",
   "metadata": {
    "id": "OwlML4GAy-8g"
   },
   "source": [
    "## Question 6\n",
    "\n",
    "A UFC fight promotion is considering offering Conor McGregor a multi-fight contract. The contract decision is based on three criteria: the number of previous UFC wins, the average length of each fight, and the number of times he has been injured in previous fights.\n",
    "\n",
    "If McGregor has won 5 or more UFC fights and has an average fight length of less than 15 minutes, he is offered a multi-fight contract regardless of the number of previous injuries. If he has won less than 5 UFC fights, the promotion will look at both his average fight length and the number of previous injuries. If his average fight length is less than 20 minutes and he has had fewer than 3 injuries, he will be offered a contract. If he meets one of these criteria, he will be called in for further discussions. If he meets none, the offer will be declined.\n",
    "\n",
    "\n"
   ]
  },
  {
   "cell_type": "code",
   "execution_count": null,
   "metadata": {
    "id": "dXMCgGJ5zNGd"
   },
   "outputs": [],
   "source": [
    "conor_contract <- function(wins, avg_length, injuries) {\n",
    "  \n",
    "  if (wins >= 5 & avg_length < 15) {\n",
    "    \n",
    "    return(\"Offer multi-fight contract regardless of injuries\")\n",
    "  } else if (wins < 5 & avg_length < 20 & injuries < 3) {\n",
    "    return(\"Call in for further discussions\")\n",
    "  } else {\n",
    "    return(\"Decline offer\")\n",
    "  }\n",
    "}\n"
   ]
  },
  {
   "cell_type": "markdown",
   "metadata": {
    "id": "effstGWSzNb2"
   },
   "source": [
    "\n",
    "## Question 7\n",
    "\n",
    "Write a program called circle that reads the coordinates of a point and the radius of a circle and determines whether a point falls inside a circle with a given radius, the center of which is in the center of the coordinates.\n",
    "\n",
    "As a result, print \"YES\" or \"NO\" (in capital letters, without quotes).\n",
    "\n",
    "*Hint: The equation of the circle ω (A; R) has the form (x – a)^2 + (y – b)^2 = R^2, where a and b are the coordinates of the center A of the circle ω (A; R) .\n",
    "\n",
    "For example, circle(2.1,1.1,10) should return \"YES\""
   ]
  },
  {
   "cell_type": "code",
   "execution_count": null,
   "metadata": {
    "id": "2dtyAUXCzQsI"
   },
   "outputs": [],
   "source": [
    "circle <- function(x,y,r){\n",
    "  if ((x**2 + y**2 < r**2) | (x**2 + y**2 == r**2)){\n",
    "    return(\"YES\")\n",
    "  }else{\n",
    "    return(\"NO\")\n",
    "  }\n",
    "}\n",
    "\n",
    "circle(2.1,1.1,10)"
   ]
  },
  {
   "cell_type": "markdown",
   "metadata": {
    "id": "jp71FI21zRAe"
   },
   "source": [
    "## Question 8\n",
    "\n",
    "You remember Tayyip. Tayyip is an investor looking to expand his portfolio and now, his idea is to write a function which will incorporate inflation, interest rates, and a stock's expected return to understand the optimal strategy. He wants the function to have 3 different outputs. Invest in interest rates, invest in the stock or don't invest at all. Write the necessary function.\n"
   ]
  },
  {
   "cell_type": "code",
   "execution_count": null,
   "metadata": {
    "id": "-B-JCgsLzWt1"
   },
   "outputs": [],
   "source": [
    "investment_func <- function(inflation, interest_rate, stock_return) {\n",
    "  if(inflation > interest_rate & inflation > stock_return) {\n",
    "    return(\"Don't invest in anything!\") } else {\n",
    "      if(interest_rate >= stock_return) {\n",
    "        return(\"Invest in the bank!\") } else {\n",
    "          return(\"Invest in the stock!\")\n",
    "    }\n",
    "  }\n",
    "}"
   ]
  },
  {
   "cell_type": "markdown",
   "metadata": {
    "id": "DSI1ATbz0vps"
   },
   "source": [
    "## Question 9\n",
    "\n",
    "The Ministry of Culture will apply a different fee schedule for entrance to museums within the scope of spring events. Ages 18 and younger will not pay an entrance fee. 65-year-olds and older will only pay one-third of the entrance fee. People over the age of 18 and under the age of 65 will be able to enter the museums by paying half the normal price. Accordingly, write a function that gives you the feedback \"You can enter for free\", \"You must pay one-third of the fee\", and \"You must pay half the fee\" .\n"
   ]
  },
  {
   "cell_type": "code",
   "execution_count": null,
   "metadata": {
    "id": "TfPfKAK50zgT"
   },
   "outputs": [],
   "source": [
    "museumentrancefee <- function(age) {\n",
    "  if (age <= 18) {\n",
    "    return(\"You can enter for free.\")\n",
    "  } else if (age >= 65) {\n",
    "    return(\"You must pay one-third of the fee.\")\n",
    "  } else {\n",
    "    return(\"You must pay half the fee.\")\n",
    "  }\n",
    "}"
   ]
  },
  {
   "cell_type": "markdown",
   "metadata": {
    "id": "Fn1HaF2c0zuG"
   },
   "source": [
    "## Question 10\n",
    "\n",
    "While taking medicine, you should follow the dosages and schedules. Every medicine has its own dosage values. If you use your medicine wrongly, either under or over dose, it will have bad consequences. \n",
    "Paracetamol is one of the highly used chemical as medicine. To calculate the dosage you should consider age and weight.\n",
    "For people younger than age of 16 recommended dosage is 5mg/kg. For the rest it is 8mg/kg. If you use lower than 40% of the dosage it is low dosage. If it is over 120% of the recommended dosage it is high dosage. Between this rates it is safe and called normal dosage.\n",
    "\n",
    "Write a function called \"dosage\" that takes 3 parameters age, weight and using dose. Function should first calculate the recommended dose and then return a statement if person using low,normal or high dose.\n",
    "\n",
    "Output example:\n",
    "```r\n",
    "> dosage(21,67,100)\n",
    "[1] \"Low dosage\"\n",
    "> dosage(12,50,350)\n",
    "[1] \"High dosage\"\n",
    "> dosage(41,90,600)\n",
    "[1] \"Normal dosage\"\n",
    "```"
   ]
  },
  {
   "cell_type": "code",
   "execution_count": null,
   "metadata": {
    "id": "OIXa2_ed1ioL"
   },
   "outputs": [],
   "source": [
    "dosage <- function(age,weight,using_dose){\n",
    "  if(age >= 16){\n",
    "    dose <- weight*8\n",
    "  }\n",
    "  else{\n",
    "    dose <- weight*5\n",
    "  }\n",
    "  ratio <- using_dose/dose*100\n",
    "  return(ifelse(ratio < 40, \"Low dosage\", ifelse(ratio > 120, \"High dosage\", \"Normal dosage\")))\n",
    "}"
   ]
  }
 ],
 "metadata": {
  "colab": {
   "provenance": []
  },
  "kernelspec": {
   "display_name": "Python 3 (ipykernel)",
   "language": "python",
   "name": "python3"
  },
  "language_info": {
   "codemirror_mode": {
    "name": "ipython",
    "version": 3
   },
   "file_extension": ".py",
   "mimetype": "text/x-python",
   "name": "python",
   "nbconvert_exporter": "python",
   "pygments_lexer": "ipython3",
   "version": "3.7.1"
  }
 },
 "nbformat": 4,
 "nbformat_minor": 1
}
