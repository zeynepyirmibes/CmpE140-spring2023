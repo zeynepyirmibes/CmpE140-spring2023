{
 "cells": [
  {
   "cell_type": "markdown",
   "metadata": {
    "id": "2vLMClKccJwM"
   },
   "source": [
    "## Question 1\n",
    "\n",
    "Suppose you have three vectors of different lengths:\n",
    " ```\n",
    " v1 <- c(1, 2, 3)\n",
    " v2 <- c(4, 5)\n",
    " v3 <- c(6, 7, 8, 9)\n",
    " ``\n",
    "\n",
    "Create a list that contains these three vectors, and name the list elements \"first\", \"second\", and \"third\", respectively.\n",
    "Then, write a code to perform the following operations:\n",
    "1. Remove the second element of the list. \n",
    "2. Add a new vector v4 to the end of the list. The vector should contain the numbers 10 and 11\n",
    "3. Extract the third element of the list and assign it to a new variable \"v\"\n",
    "4. Modify the first element of the list by adding the number 100 to each element. \n",
    "5. Print the final list.\n",
    "\n",
    "\n",
    "Your output should be:\n",
    "```r\n",
    "$first\n",
    "[1] 101 102 103\n",
    "$third\n",
    "[1] 6 7 8 9\n",
    "$fourth\n",
    "[1] 10 11 12\n",
    "``` \n"
   ]
  },
  {
   "cell_type": "code",
   "execution_count": null,
   "metadata": {
    "id": "lG6-rLj8cY4V"
   },
   "outputs": [],
   "source": [
    "# Create the vectors\n",
    "v1 <- c(1, 2, 3)\n",
    "v2 <- c(4, 5)\n",
    "v3 <- c(6, 7, 8, 9)\n",
    "\n",
    "# Create the list\n",
    "my_list <- list(first = v1, second = v2, third = v3)\n",
    "\n",
    "# Remove the second element of the list\n",
    "my_list <- my_list[-2]\n",
    "\n",
    "# Add a new vector v4 to the end of the list\n",
    "v4 <- c(10, 11, 12)\n",
    "my_list[[\"fourth\"]] <- v4\n",
    "\n",
    "# Extract the third element of the list\n",
    "v <- my_list[[\"third\"]]\n",
    "\n",
    "# Modify the first element of the list by adding the number 100 to each element\n",
    "my_list[[\"first\"]] <- my_list[[\"first\"]] + 100\n",
    "\n",
    "# Print the final list\n",
    "my_list"
   ]
  },
  {
   "cell_type": "markdown",
   "metadata": {
    "id": "hHgxJ8JOcjHG"
   },
   "source": [
    "## Question 2\n",
    "\n",
    "There are 2 students enrolled in the economics program of Boğaziçi University: Ayşe and Fatma. Ayşe is an irregular student with a GPA of 3.4, and Fatma is a regular student with a GPA of 3.3. Put Ayşe and Fatma into a list, with elements specifying their name, gpa and their semester status.\n",
    "\n",
    "\n",
    "Your output when you call students should be:\n",
    "\n",
    "```r\n",
    "$Ayşe\n",
    "$Ayşe$name\n",
    "[1] \"Ayşe\"\n",
    "\n",
    "$Ayşe$gpa\n",
    "[1] 3.4\n",
    "\n",
    "$Ayşe$regularity\n",
    "[1] \"Irregular\"\n",
    "\n",
    "$Fatma\n",
    "$Fatma$name\n",
    "[1] \"Fatma\"\n",
    "\n",
    "$Fatma$gpa\n",
    "[1] 3.3\n",
    "\n",
    "$Fatma$regularity\n",
    "[1] \"Regular\"\n",
    "```"
   ]
  },
  {
   "cell_type": "code",
   "execution_count": null,
   "metadata": {
    "id": "NBHPDD8Zc1fH"
   },
   "outputs": [],
   "source": [
    "students <- list(\n",
    "  Ayşe = list(name = \"Ayşe\", gpa = 3.4, regularity = \"Irregular\"),\n",
    "  Fatma = list(name = \"Fatma\", gpa = 3.3, regularity = \"Regular\")\n",
    ")"
   ]
  },
  {
   "cell_type": "markdown",
   "metadata": {
    "id": "7F9b640qc6Tt"
   },
   "source": [
    "## Question 3\n",
    "\n",
    "Suppose you have a list called friends that contains information about two friends. Each friend's information is stored as a named list within the friends list, with the following elements:\n",
    "\n",
    "- name: A character vector representing the friend's name.\n",
    "- favorite_color: A character vector representing the friend's favorite color.\n",
    "\n",
    "Here's an example of what the friends list might look like:\n",
    "\n",
    "```\n",
    "friends <- list(\n",
    "  friend1 = list(name = \"Alice\", favorite_color = \"blue\"),\n",
    "  friend2 = list(name = \"Bob\", favorite_color = \"green\")\n",
    ")\n",
    "```\n",
    "Your task is to extract the names and favorite colors of both friends from the friends list, and store them in a new list called favorite_color. The favorite_color list should have two named elements:\n",
    "\n",
    "- names: A character vector containing the names of both friends.\n",
    "- colors: A character vector containing the favorite colors of both friends.\n",
    "\n",
    "Here's an example of what the favorite_color list should look like:\n",
    "\n",
    "```\n",
    "> favorite_color\n",
    "$names\n",
    "[1] \"Alice\" \"Bob\"  \n",
    "\n",
    "$colors\n",
    "[1] \"blue\"  \"green\"\n",
    "```\n"
   ]
  },
  {
   "cell_type": "code",
   "execution_count": null,
   "metadata": {
    "id": "iUtviKGFdObT"
   },
   "outputs": [],
   "source": [
    "# Extract names and favorite colors from friends list\n",
    "favorite_color <- list(\n",
    "  names = sapply(friends, function(x) x$name),\n",
    "  colors = sapply(friends, function(x) x$favorite_color)\n",
    ")\n"
   ]
  },
  {
   "cell_type": "markdown",
   "metadata": {
    "id": "YoFn1TGcdeBy"
   },
   "source": [
    "## Question 4\n",
    "\n",
    "Create a list called my_list with the following components:\n",
    "\n",
    "* A vector of integers from 1 to 5, named numbers,\n",
    "\n",
    "* A character vector with five elements: \"red\", \"green\", \"blue\", \"yellow\", and \"orange\", named colors,\n",
    "\n",
    "* A logical vector with four elements: TRUE, FALSE, TRUE, TRUE, named logicals,\n",
    "\n",
    "Use indexing to extract the second and fourth elements of numbers and the second and third elements of colors. Then, use these four elements to create a new list named new_list, where the first element is a list containing the second and fourth elements of numbers, and the second element is a list containing the second and third elements of colors.\n",
    "\n",
    "\n",
    "Your output should be:\n",
    "```r\n",
    "> new_list\n",
    "[[1]]\n",
    "[[1]][[1]]\n",
    "[1] 2\n",
    "\n",
    "[[1]][[2]]\n",
    "[1] 4\n",
    "\n",
    "\n",
    "[[2]]\n",
    "[[2]][[1]]\n",
    "[1] \"green\"\n",
    "\n",
    "[[2]][[2]]\n",
    "[1] \"blue\"\n",
    "``` "
   ]
  },
  {
   "cell_type": "code",
   "execution_count": null,
   "metadata": {
    "id": "kxDIdj1ndilW"
   },
   "outputs": [],
   "source": [
    "my_list <- list(numbers = 1:5,\n",
    "                colors = c(\"red\", \"green\", \"blue\", \"yellow\", \"orange\"),\n",
    "                logicals = c(TRUE, FALSE, TRUE, TRUE))\n",
    "\n",
    "numbers_2nd <- my_list$numbers[2]\n",
    "numbers_4th <- my_list$numbers[4]\n",
    "colors_2nd <- my_list$colors[2]\n",
    "colors_3rd <- my_list$colors[3]\n",
    "\n",
    "new_list <- list(list(numbers_2nd, numbers_4th), list(colors_2nd, colors_3rd))\n"
   ]
  },
  {
   "cell_type": "markdown",
   "metadata": {
    "id": "_6wU67gVeSng"
   },
   "source": [
    "## Question 5\n",
    "\n",
    "Let's create a randomly generated list of numeric vectors as such:\n",
    "\n",
    "```R\n",
    "RNGversion(\"3.3.1\")\n",
    "set.seed(20)\n",
    "listx <- split(sample(100, 20, replace = T), sample(sample(3:5, 1), 20, replace = T))\n",
    "listx\n",
    "\n",
    "$`1`\n",
    "[1] 88 28 97  8  1\n",
    "\n",
    "$`2`\n",
    "[1] 77 53 38 72 20 46 29\n",
    "\n",
    "$`3`\n",
    "[1] 33 75 11 82\n",
    "\n",
    "$`4`\n",
    "[1] 99 10 76 33\n",
    "```\n",
    "\n",
    "Write a function called **first**, that takes a single argument **lst**, a list object, and returns the first element of each vector item as such: \n",
    "\n",
    "```R\n",
    "first(lst = listx)\n",
    "\n",
    " 1  2  3  4 \n",
    "88 77 33 99 \n",
    "\n",
    "```\n",
    "*Hint: You can use the ``sapply()`` function and the ``function(x)`` notation inside ``sapply()``.*"
   ]
  },
  {
   "cell_type": "code",
   "execution_count": null,
   "metadata": {
    "id": "YnWdlQ7MeX63"
   },
   "outputs": [],
   "source": [
    "first <- function(lst) {\n",
    "     sapply(lst, function(x) x[1])\n",
    "}"
   ]
  },
  {
   "cell_type": "markdown",
   "metadata": {
    "id": "0AuUWHYVeYRT"
   },
   "source": [
    "## QUESTION 6\n",
    "\n",
    "Suppose a reading assignment is given as a mixture of single page numbers and ranges of page numbers (two item vectors). e.g. \"Read page 1, pages 3 to 5, page 7, and pages 13 to 16\".\n",
    "\n",
    "\n",
    "You can store this assignment as a list of vectors where:\n",
    "\n",
    "- Single page numbers are denoted as one itemed vectors.\n",
    "- Ranges of page numbers are denoted as two itemed vectors. Note that the page numbers implied by the range are a sequence from the smaller value to the larger value. \n",
    "\n",
    "Your task is to write a general function called **ranges_to_numbers** that takes a single argument  **L**, a list described as above and returns a vector of integers combining the numbers and intervals.\n",
    "\n",
    "Here is an example:\n",
    "\n",
    "```R\n",
    "L1 <- list(1, c(3,5), 7, c(13, 16))\n",
    "\n",
    "ranges_to_numbers(L = L1)\n",
    "\n",
    "[1] 1 3 4 5 7 13 14 15 16 \n",
    "```\n",
    "The function should be general, that is, it should handle lists of any length. You can assume that list elements are either single integers, or integer vectors of length 2. You can also assume that the second element of range vectors is always larger.\n",
    "\n",
    "The output should be sorted and there should be no duplicates.\n"
   ]
  },
  {
   "cell_type": "code",
   "execution_count": null,
   "metadata": {
    "id": "fzutjZZOecWp"
   },
   "outputs": [],
   "source": [
    "ranges_to_numbers <- function(L) {\n",
    "  numbers <- unlist(L)\n",
    "  ranges <- numbers[lengths(L) == 2]\n",
    "  sequence <- lapply(ranges, function(x) seq(x[1], x[2]))\n",
    "  unlist(c(numbers[!lengths(L) == 2], sequence))\n",
    "}"
   ]
  },
  {
   "cell_type": "markdown",
   "metadata": {
    "id": "PZgDekhZYUxw"
   },
   "source": [
    "## Question 7\n",
    "\n",
    "Write R function count_objects(lst) to count number of objects in a given list lst.\n",
    "\n",
    "lst could contain either lists and vectors\n",
    "\n",
    "Example:\n",
    "```\n",
    "> lst <- list(1, c(2,3), list(\"a\", \"b\", list(3, 4)), list(5, 6), 7)\n",
    "> count_objects(lst)\n",
    "[1] 10\n",
    "```"
   ]
  },
  {
   "cell_type": "code",
   "execution_count": null,
   "metadata": {
    "id": "r00k7IyGYV7c"
   },
   "outputs": [],
   "source": [
    "count_objects <- function(lst) {\n",
    "    count <- 0\n",
    "    \n",
    "    for (i in 1:length(lst)) {\n",
    "        if (is.list(lst[[i]])) {\n",
    "            count <- count + count_objects(lst[[i]])\n",
    "        } else {\n",
    "            count <- count + length(lst[[i]])\n",
    "        }\n",
    "    }\n",
    "    \n",
    "    return(count)\n",
    "}"
   ]
  },
  {
   "cell_type": "markdown",
   "metadata": {
    "id": "etYupUzdcix9"
   },
   "source": [
    "## Question 8\n",
    "\n",
    "Suppose you have a list of names, where each name is a string. Your task is to split the names into sublists based on the first letter of each name. For example, all names starting with \"A\" will be in one sublist, all names starting with \"B\" will be in another sublist, and so on.\n",
    "\n",
    "Write a function called split_names that takes a single argument names, a character vector of names, and returns a list of sublists, where each sublist contains all names starting with the same letter. \n",
    "\n",
    "You should use the split() and substr() functions to split the names.\n",
    "\n",
    "Here's an example of how to use this function:\n",
    "\n",
    "```\n",
    "> names <- c(\"Alice\", \"Bob\", \"Charlie\", \"Alex\", \"Ben\", \"Claire\")\n",
    "> split_names(names)\n",
    "$A\n",
    "[1] \"Alice\" \"Alex\" \n",
    "\n",
    "$B\n",
    "[1] \"Bob\" \"Ben\"\n",
    "\n",
    "$C\n",
    "[1] \"Charlie\" \"Claire\"\n",
    "```"
   ]
  },
  {
   "cell_type": "code",
   "execution_count": null,
   "metadata": {
    "id": "ZcFzg879cvsf"
   },
   "outputs": [],
   "source": [
    "split_names <- function(names) {\n",
    "  split(names, substr(names, 1, 1))\n",
    "}\n",
    "\n"
   ]
  },
  {
   "cell_type": "markdown",
   "metadata": {
    "id": "jFqH_j7_pKMO"
   },
   "source": [
    "## Question 9\n",
    "\n",
    "Write the function dup(str) that gives repeated words more than once in a string named str. \n",
    "\n",
    "\n",
    "The function shouldn't be case sensitive but assume all strings will be lower case.\n",
    "\n",
    "```\n",
    "> dup(\"home sweet home\")\n",
    "[1] \"home\"\n",
    "```\n",
    "\n"
   ]
  },
  {
   "cell_type": "code",
   "execution_count": null,
   "metadata": {
    "id": "n0FucI4-pKXu"
   },
   "outputs": [],
   "source": [
    "dup <- function(str){\n",
    "    words <- strsplit(\" \")[[1]]\n",
    "    res <- unique(words[duplicated(words)])\n",
    "    return res\n",
    "}"
   ]
  }
 ],
 "metadata": {
  "colab": {
   "provenance": []
  },
  "kernelspec": {
   "display_name": "Python 3 (ipykernel)",
   "language": "python",
   "name": "python3"
  },
  "language_info": {
   "codemirror_mode": {
    "name": "ipython",
    "version": 3
   },
   "file_extension": ".py",
   "mimetype": "text/x-python",
   "name": "python",
   "nbconvert_exporter": "python",
   "pygments_lexer": "ipython3",
   "version": "3.7.1"
  }
 },
 "nbformat": 4,
 "nbformat_minor": 1
}
