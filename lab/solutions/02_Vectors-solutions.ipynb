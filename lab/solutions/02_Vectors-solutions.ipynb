{
 "cells": [
  {
   "cell_type": "code",
   "execution_count": null,
   "metadata": {},
   "outputs": [],
   "source": [
    "options(jupyter.rich_display = FALSE)"
   ]
  },
  {
   "cell_type": "markdown",
   "metadata": {},
   "source": [
    "# LAB 02 - VECTORS"
   ]
  },
  {
   "cell_type": "markdown",
   "metadata": {},
   "source": [
    "## Warm Up"
   ]
  },
  {
   "cell_type": "markdown",
   "metadata": {},
   "source": [
    "Given the variables\n",
    "\n",
    "```r\n",
    "account_balance <- 1000\n",
    "interest_rate <-  0.10\n",
    "```\n",
    " \n",
    " update the variable **account_balance** by adding the interest and print the updated value."
   ]
  },
  {
   "cell_type": "code",
   "execution_count": null,
   "metadata": {},
   "outputs": [],
   "source": [
    "# write your code lines below\n",
    "\n",
    "account_balance <- 1000\n",
    "interest_rate <- 0.10\n",
    "\n",
    "account_balance <- account_balance + (account_balance * 0.10)\n",
    "account_balance \n",
    "\n",
    "# end of your code"
   ]
  },
  {
   "cell_type": "markdown",
   "metadata": {},
   "source": [
    "An employee wants to calculate the raise in dollar amount and in percent (%) she got last week. \n",
    "\n",
    "```r\n",
    "previous_salary <- 5000\n",
    "current_salary <- 5200\n",
    "```\n",
    "\n",
    "show the raise (in dollars) and (in percent)."
   ]
  },
  {
   "cell_type": "code",
   "execution_count": null,
   "metadata": {
    "scrolled": true
   },
   "outputs": [],
   "source": [
    "previous_salary <- 5000\n",
    "current_salary <- 5200\n",
    "\n",
    "raise_indollars <- current_salary - previous_salary\n",
    "raise_inpercent <- (raise_indollars/previous_salary) * 100\n",
    "\n",
    "raise_indollars\n",
    "raise_inpercent"
   ]
  },
  {
   "cell_type": "markdown",
   "metadata": {},
   "source": [
    "#  Vectors"
   ]
  },
  {
   "cell_type": "markdown",
   "metadata": {},
   "source": [
    "## Initialization, Arithmetics & Functions"
   ]
  },
  {
   "cell_type": "markdown",
   "metadata": {},
   "source": [
    "Let's initalize two vectors where **A** has 4, 6, 7 and **B** has 2, 14, 9.\n",
    "\n",
    "Find the the results for: \n",
    "\n",
    "```r\n",
    "A + B, \n",
    "A - B, \n",
    "A * B, \n",
    "A / B, \n",
    "2 * (A + B) - 3\n",
    "```"
   ]
  },
  {
   "cell_type": "code",
   "execution_count": null,
   "metadata": {},
   "outputs": [],
   "source": [
    "# write your code lines below\n",
    "\n",
    "A <- c(4, 6, 7)\n",
    "B <- c(2, 14, 9)\n",
    "\n",
    "A + B\n",
    "A - B\n",
    "A * B\n",
    "A / B\n",
    "2 * (A + B) - 3\n",
    "\n",
    "# end of your code"
   ]
  },
  {
   "cell_type": "markdown",
   "metadata": {},
   "source": [
    "Let's initialize vector **C** with values 5, 8, 11, 5, 2, 1\n",
    "\n",
    "Find the results for:\n",
    "\n",
    "```r\n",
    "C > A\n",
    "C + A\n",
    "C + (B * 3)\n",
    "```"
   ]
  },
  {
   "cell_type": "code",
   "execution_count": null,
   "metadata": {},
   "outputs": [],
   "source": [
    "# write your code lines below\n",
    "C <- c(5, 8, 11, 5, 2, 1)\n",
    "\n",
    "C > A\n",
    "C + A\n",
    "C + (B *3)\n",
    "# end of your code"
   ]
  },
  {
   "cell_type": "markdown",
   "metadata": {},
   "source": [
    "Let's:\n",
    "\n",
    " 1. add up all elements in **A**\n",
    " 2. multiply all elements in **B**\n",
    "\n",
    "_(hint: use built-in functions, `sum()` and `prod()`)_"
   ]
  },
  {
   "cell_type": "code",
   "execution_count": null,
   "metadata": {},
   "outputs": [],
   "source": [
    "# write your code lines below\n",
    "A\n",
    "sum(A)\n",
    "cumsum(A)\n",
    "\n",
    "B\n",
    "prod(B)\n",
    "cumprod(B)\n",
    "# end of your code"
   ]
  },
  {
   "cell_type": "markdown",
   "metadata": {},
   "source": [
    "## Vector Indexing"
   ]
  },
  {
   "cell_type": "markdown",
   "metadata": {},
   "source": [
    "Let's initialize vector for the **students** of Beacon Hills High School (Jason, Lydia, Scott and Stiles) and print the vector."
   ]
  },
  {
   "cell_type": "code",
   "execution_count": null,
   "metadata": {},
   "outputs": [],
   "source": [
    "# write your code lines below\n",
    "\n",
    "students <- c(\"Jason\", \"Lydia\", \"Scott\", \"Stiles\")\n",
    "students\n",
    "\n",
    "students \n",
    "# end of your code"
   ]
  },
  {
   "cell_type": "markdown",
   "metadata": {},
   "source": [
    "Then add a new transfer student **\"Allison\"** to the vector and print the updated vector."
   ]
  },
  {
   "cell_type": "code",
   "execution_count": null,
   "metadata": {},
   "outputs": [],
   "source": [
    "# write your code lines below\n",
    "\n",
    "students <- c(students, \"Allison\")\n",
    "students\n",
    "# end of your code"
   ]
  },
  {
   "cell_type": "markdown",
   "metadata": {},
   "source": [
    "Finally show the number of students.\n",
    "\n",
    "_Hint: You can use `length()` function_"
   ]
  },
  {
   "cell_type": "code",
   "execution_count": null,
   "metadata": {},
   "outputs": [],
   "source": [
    "# write your code lines below\n",
    "\n",
    "length(students)\n",
    "\n",
    "# end of your code"
   ]
  },
  {
   "cell_type": "markdown",
   "metadata": {},
   "source": [
    "Now, let's list the students:\n",
    "\n",
    " 1. 1st student\n",
    " 2. 3rd student \n",
    " 3. 2nd and 4th students\n",
    " 4. from 2nd to 4th student"
   ]
  },
  {
   "cell_type": "code",
   "execution_count": null,
   "metadata": {},
   "outputs": [],
   "source": [
    "# write your code lines below\n",
    "\n",
    "students[1]\n",
    "students[3]\n",
    "students[c(2,4)]\n",
    "students[2:4]\n",
    "\n",
    "# end of your code"
   ]
  },
  {
   "cell_type": "markdown",
   "metadata": {},
   "source": [
    "Now, list the students by excluding: \n",
    " \n",
    " 1. 5th student\n",
    " 2. 2nd and 3rd students"
   ]
  },
  {
   "cell_type": "code",
   "execution_count": null,
   "metadata": {},
   "outputs": [],
   "source": [
    "# write your code lines below\n",
    "\n",
    "students[-5]\n",
    "students[c(-2, -3)]\n",
    "\n",
    "# end of your code"
   ]
  },
  {
   "cell_type": "markdown",
   "metadata": {},
   "source": [
    "use `TRUE` and `FALSE` statements to list the students:\n",
    "\n",
    " - 2nd and 4th students"
   ]
  },
  {
   "cell_type": "code",
   "execution_count": null,
   "metadata": {},
   "outputs": [],
   "source": [
    "# write your code lines below\n",
    "students[c(F,T,F,T,F)]\n",
    "# OR\n",
    "students[c(F,T)]\n",
    "# end of your code"
   ]
  },
  {
   "cell_type": "markdown",
   "metadata": {},
   "source": [
    "## Question 1\n",
    "\n",
    "Suppose you have two vectors x and y with the following data:\n",
    "\n",
    "```r\n",
    "x <- c(1, 2, 3, 4, 5)\n",
    "\n",
    "y <- c(2, 3, 5, 6, 7)\n",
    "\n",
    "```\n",
    "\n",
    "What is the dot product of x and y?\n",
    "\n",
    "Your output should be:\n",
    "\n",
    "\n",
    "```r\n",
    "82\n",
    "\n",
    "```\n",
    "\n",
    "**Solution:**\n",
    "\n",
    "The dot product of two vectors x and y is defined as the sum of the products of corresponding entries in the vectors. In other words:\n",
    "\n",
    "x . y = x1 * y1 + x2 * y2 + ... + xn * yn\n",
    "\n",
    "So the solve this we can use the \"sum\" function with vectorized multiplication."
   ]
  },
  {
   "cell_type": "code",
   "execution_count": 6,
   "metadata": {},
   "outputs": [
    {
     "data": {
      "text/html": [
       "82"
      ],
      "text/latex": [
       "82"
      ],
      "text/markdown": [
       "82"
      ],
      "text/plain": [
       "[1] 82"
      ]
     },
     "metadata": {},
     "output_type": "display_data"
    }
   ],
   "source": [
    "x <- c(1, 2, 3, 4, 5)\n",
    "y <- c(2, 3, 5, 6, 7)\n",
    "dot_prod <- sum(x * y)\n",
    "dot_prod"
   ]
  },
  {
   "cell_type": "markdown",
   "metadata": {},
   "source": [
    "## Named vectors"
   ]
  },
  {
   "cell_type": "markdown",
   "metadata": {},
   "source": [
    "Let's create a new \n",
    "vector for the grades of the students in Beacon Hills High for the subject Math.\n",
    "\n",
    "|Name|Grade|\n",
    "|:---|:---:|\n",
    "|Jason|46|\n",
    "|Lydia|98|\n",
    "|Scott|51|\n",
    "|Stiles|84|\n",
    "|Allison|unknown (because she just transferred)|\n",
    "\n",
    "_Hint: You can use `names()` to assign names to a vector_"
   ]
  },
  {
   "cell_type": "code",
   "execution_count": null,
   "metadata": {},
   "outputs": [],
   "source": [
    "# write your code lines below\n",
    "\n",
    "#grades <- c(Jason=46, Lydia = 98, Scott = 51, Stiles = 84, Allison = NA)\n",
    "#grades\n",
    "\n",
    "grades <- c(46, 98, 51, 84, NA)\n",
    "people <- c(\"Jason\", \"Lydia\", \"Scott\", \"Stiles\", \"Allison\")\n",
    "\n",
    "names(grades) <- people\n",
    "\n",
    "grades\n",
    "people\n",
    "# end of your code"
   ]
  },
  {
   "cell_type": "markdown",
   "metadata": {},
   "source": [
    "Now retrieve the grades of **Stiles** and **Scott**."
   ]
  },
  {
   "cell_type": "code",
   "execution_count": null,
   "metadata": {},
   "outputs": [],
   "source": [
    "# write your code lines below\n",
    "\n",
    "grades[3]\n",
    "grades[\"Scott\"]\n",
    "\n",
    "grades[c(\"Scott\", \"Stiles\")]\n",
    "# end of your code"
   ]
  },
  {
   "cell_type": "markdown",
   "metadata": {},
   "source": [
    "Let's assign a grade for **\"Allison\"** now that she took her first Math exam in Beacon Hills High which is **76**.\n",
    "\n",
    "Show the grades vector **before** and **after** updating Allison's grade."
   ]
  },
  {
   "cell_type": "code",
   "execution_count": null,
   "metadata": {},
   "outputs": [],
   "source": [
    "# write your code lines below\n",
    "grades\n",
    "grades[\"Allison\"] <- 76\n",
    "grades\n",
    "# end of your code"
   ]
  },
  {
   "cell_type": "markdown",
   "metadata": {},
   "source": [
    "Now, let's find out the students that got grades **higher than 60** and their grades.\n"
   ]
  },
  {
   "cell_type": "code",
   "execution_count": null,
   "metadata": {},
   "outputs": [],
   "source": [
    "# write your code lines below\n",
    "\n",
    "grades > 60\n",
    "\n",
    "grades[grades>60]\n",
    "\n",
    "# end of your code"
   ]
  },
  {
   "cell_type": "markdown",
   "metadata": {},
   "source": [
    "Suddenly, Math Proffessor decides to add up **5** points to students whose grades are lower than **60** for the sake of motivation for the next exam.\n",
    "\n",
    "Show grades vector before and after updating it  accordingly."
   ]
  },
  {
   "cell_type": "code",
   "execution_count": null,
   "metadata": {},
   "outputs": [],
   "source": [
    "# write your code lines below\n",
    "grades\n",
    "grades[grades<60] <- grades[grades<60] + 5\n",
    "grades\n",
    "\n",
    "# end of your code"
   ]
  },
  {
   "cell_type": "markdown",
   "metadata": {},
   "source": [
    "Now Let's try to sort the grades vector in descending order.\n",
    "\n",
    "_Hint: We will use another built-in function, `sort()`_"
   ]
  },
  {
   "cell_type": "code",
   "execution_count": null,
   "metadata": {},
   "outputs": [],
   "source": [
    "# write your code lines below\n",
    "\n",
    "sort(grades)\n",
    "sort(grades, decreasing=TRUE)\n",
    "grades\n",
    "\n",
    "#grades <- sort(grades, decreasing=TRUE)\n",
    "grades\n",
    "# end of your code"
   ]
  },
  {
   "cell_type": "markdown",
   "metadata": {},
   "source": [
    "How about sorting grades vector based on students desk numbers?\n",
    "\n",
    "First create a new vector for desk numbers.\n",
    "\n",
    "|Name|desk number|\n",
    "|:---|:---:|\n",
    "|Jason|2|\n",
    "|Lydia|1|\n",
    "|Scott|5|\n",
    "|Stiles|5|\n",
    "|Allison|3|\n",
    "\n",
    "Then use this new vector to sort **grades** vector.\n",
    "\n",
    "_Hint: Use `order()` function._"
   ]
  },
  {
   "cell_type": "code",
   "execution_count": null,
   "metadata": {},
   "outputs": [],
   "source": [
    "# write your code lines below\n",
    "\n",
    "desk_numbers <- c(Jason=2, Lydia=1, Scott=5, Stiles = 5, Allison = 3)\n",
    "\n",
    "order(desk_numbers)\n",
    "desk_numbers\n",
    "grades[order(desk_numbers)]\n",
    "\n",
    "# end of your code"
   ]
  },
  {
   "cell_type": "markdown",
   "metadata": {},
   "source": [
    "Finally, let's remove **Scott** from the grades vector, because he decides to be a wanderer werewolf - no longer a student.\n",
    "\n",
    "Show grades vector before and after removing **Scott**."
   ]
  },
  {
   "cell_type": "code",
   "execution_count": null,
   "metadata": {},
   "outputs": [],
   "source": [
    "# write your code lines below\n",
    "grades\n",
    "grades <- grades[-3] #[\"Scott\"]\n",
    "grades\n",
    "# end of your code"
   ]
  },
  {
   "cell_type": "markdown",
   "metadata": {},
   "source": [
    "## Question 2\n",
    "\n",
    "In order to convert a weight from kilograms to pounds, you need to use a conversion factor of 2.20462. This factor is used because there are approximately 2.20462 pounds in one kilogram. With using that information ;\n",
    "\n",
    "```r\n",
    "\n",
    "kilograms <- c(80, 93, 147, 53, 71, 18, 140)\n",
    "\n",
    "```\n",
    "\n",
    "Convert these measurements to pounds.\n",
    "\n",
    "Your output should be:\n",
    "\n",
    "\n",
    "```r\n",
    "176.36960 205.02966 324.07914 116.84486 156.52802  39.68316 308.64680\n",
    "\n",
    "```"
   ]
  },
  {
   "cell_type": "code",
   "execution_count": 8,
   "metadata": {},
   "outputs": [
    {
     "data": {
      "text/html": [
       "<ol class=list-inline>\n",
       "\t<li>176.3696</li>\n",
       "\t<li>205.02966</li>\n",
       "\t<li>324.07914</li>\n",
       "\t<li>116.84486</li>\n",
       "\t<li>156.52802</li>\n",
       "\t<li>39.68316</li>\n",
       "\t<li>308.6468</li>\n",
       "</ol>\n"
      ],
      "text/latex": [
       "\\begin{enumerate*}\n",
       "\\item 176.3696\n",
       "\\item 205.02966\n",
       "\\item 324.07914\n",
       "\\item 116.84486\n",
       "\\item 156.52802\n",
       "\\item 39.68316\n",
       "\\item 308.6468\n",
       "\\end{enumerate*}\n"
      ],
      "text/markdown": [
       "1. 176.3696\n",
       "2. 205.02966\n",
       "3. 324.07914\n",
       "4. 116.84486\n",
       "5. 156.52802\n",
       "6. 39.68316\n",
       "7. 308.6468\n",
       "\n",
       "\n"
      ],
      "text/plain": [
       "[1] 176.36960 205.02966 324.07914 116.84486 156.52802  39.68316 308.64680"
      ]
     },
     "metadata": {},
     "output_type": "display_data"
    }
   ],
   "source": [
    "kilograms <- c(80, 93, 147, 53, 71, 18, 140)\n",
    "pounds <- kilograms * 2.20462\n",
    "pounds"
   ]
  },
  {
   "cell_type": "markdown",
   "metadata": {},
   "source": [
    "## Generating sequences"
   ]
  },
  {
   "cell_type": "markdown",
   "metadata": {},
   "source": [
    "Create and store a sequence of values from 25 to 90 (increase by 1) by:\n",
    "\n",
    "Use `seq()` function and `:` operator"
   ]
  },
  {
   "cell_type": "code",
   "execution_count": null,
   "metadata": {},
   "outputs": [],
   "source": [
    "# write your code lines below\n",
    "\n",
    "s1 <- seq(25, 90, 1)\n",
    "s2 <- 25:90\n",
    "\n",
    "s1\n",
    "s2\n",
    "\n",
    "# end of your code"
   ]
  },
  {
   "cell_type": "markdown",
   "metadata": {},
   "source": [
    "Create and store a sequence of values from 5 to −11 that progresses in steps of 0.3."
   ]
  },
  {
   "cell_type": "code",
   "execution_count": null,
   "metadata": {},
   "outputs": [],
   "source": [
    "# write your code lines below\n",
    "\n",
    "s3 <- seq(from=5, to=-11, by=-0.3)\n",
    "s3\n",
    "\n",
    "# end of your code"
   ]
  },
  {
   "cell_type": "markdown",
   "metadata": {},
   "source": [
    "## Exercises from Lecture"
   ]
  },
  {
   "cell_type": "markdown",
   "metadata": {},
   "source": [
    "A set of temperature measurements are given in Fahrenheit scale as follows:\n",
    "\n",
    "```r\n",
    "    temperatures <- c(87, 89, 101, 91, 86, 71, 76)\n",
    "```\n",
    "\n",
    "Convert these measurements to Celsius scale."
   ]
  },
  {
   "cell_type": "code",
   "execution_count": null,
   "metadata": {},
   "outputs": [],
   "source": [
    "# write your code lines below\n",
    "\n",
    "# T(°C) = (T(°F) - 32) / 1.8\n",
    "temperatures <- c(87, 89, 101, 91, 86, 71, 76)\n",
    "celcius <- (temperatures - 32 ) / 1.8\n",
    "\n",
    "celcius\n",
    "\n",
    "# end of your code"
   ]
  },
  {
   "cell_type": "markdown",
   "metadata": {},
   "source": [
    "Consider the following data\n",
    "\n",
    "|Country|Area|Population|\n",
    "|------|------|------|\n",
    "|Russia|17,098,242|142,257,519|\n",
    "|United States|9,833,517|326,625,791|\n",
    "|China|9,596,960|1,379,302,771|                                    \n",
    "|Brazil|8,515,770|207,353,391|                \n",
    "|Australia|7,741,220|23,232,413|\n",
    "|India|3,287,263|1,281,935,911|\n",
    "|Turkey|783,562|80,845,215|\n",
    "|France|643,801|67,106,161|\n",
    "|Japan|377,915|126,451,398|\n",
    "|United Kingdom|243,610|65,648,100|\n",
    "\n",
    "1. Create two vectors **area** and **population** that hold the data in the respective columns. Label the elements in each vector with the country name.\n",
    "\n",
    "2. Create a new vector called **density** that holds the population density of the countries.\n",
    "\n",
    "3. Print the names of countries sorted by population density, in descending order (from highest to lowest)."
   ]
  },
  {
   "cell_type": "code",
   "execution_count": null,
   "metadata": {},
   "outputs": [],
   "source": [
    "# write your code lines below\n",
    "\n",
    "# 1\n",
    "area <- c(Russia=17098242, UnitedStates=9833517, China=9596960,\n",
    "          Brazil=8515770, Australia=7741220, India=3287263,\n",
    "          Turkey=783562, Japan=377915, UnitedKingdom=243610)\n",
    "\n",
    "\n",
    "population <- c(Russia=142257519, UnitedStates=326625791, China=1379302771,\n",
    "                Brazil=207353391, Australia=23232413, India=1281935911,\n",
    "                Turkey=80845215, Japan=126451398,  UnitedKingdom=65648100)\n",
    "\n",
    "# 2\n",
    "\n",
    "density <- population / area\n",
    "density\n",
    "\n",
    "# 3\n",
    "\n",
    "sort(density, decreasing=TRUE)\n",
    "names(sort(density, decreasing=TRUE))\n",
    "\n",
    "# end of your code"
   ]
  },
  {
   "cell_type": "markdown",
   "metadata": {},
   "source": [
    "## Question 3\n",
    " MGM's one week weather estimations are respectively 15,16,13,15,14,14,17 C° from Sunday to Saturday. Measured temperatures for that week are 17 C° for each day.\n",
    " First assign the estimated values of MGM to vector named \"estimations\" and compare to the real values.\n",
    " For comparison, what is the mean difference between estimations and real values?\n",
    " Which days are coincide with forecast?\n",
    "\n"
   ]
  },
  {
   "cell_type": "code",
   "execution_count": 9,
   "metadata": {
    "scrolled": true
   },
   "outputs": [
    {
     "data": {
      "text/html": [
       "<dl class=dl-horizontal>\n",
       "\t<dt>Sunday</dt>\n",
       "\t\t<dd>15</dd>\n",
       "\t<dt>Monday</dt>\n",
       "\t\t<dd>16</dd>\n",
       "\t<dt>Tuesday</dt>\n",
       "\t\t<dd>13</dd>\n",
       "\t<dt>Wednesday</dt>\n",
       "\t\t<dd>15</dd>\n",
       "\t<dt>Thursday</dt>\n",
       "\t\t<dd>14</dd>\n",
       "\t<dt>Friday</dt>\n",
       "\t\t<dd>14</dd>\n",
       "\t<dt>Saturday</dt>\n",
       "\t\t<dd>17</dd>\n",
       "</dl>\n"
      ],
      "text/latex": [
       "\\begin{description*}\n",
       "\\item[Sunday] 15\n",
       "\\item[Monday] 16\n",
       "\\item[Tuesday] 13\n",
       "\\item[Wednesday] 15\n",
       "\\item[Thursday] 14\n",
       "\\item[Friday] 14\n",
       "\\item[Saturday] 17\n",
       "\\end{description*}\n"
      ],
      "text/markdown": [
       "Sunday\n",
       ":   15Monday\n",
       ":   16Tuesday\n",
       ":   13Wednesday\n",
       ":   15Thursday\n",
       ":   14Friday\n",
       ":   14Saturday\n",
       ":   17\n",
       "\n"
      ],
      "text/plain": [
       "   Sunday    Monday   Tuesday Wednesday  Thursday    Friday  Saturday \n",
       "       15        16        13        15        14        14        17 "
      ]
     },
     "metadata": {},
     "output_type": "display_data"
    },
    {
     "data": {
      "text/html": [
       "-2.14285714285714"
      ],
      "text/latex": [
       "-2.14285714285714"
      ],
      "text/markdown": [
       "-2.14285714285714"
      ],
      "text/plain": [
       "[1] -2.142857"
      ]
     },
     "metadata": {},
     "output_type": "display_data"
    },
    {
     "data": {
      "text/html": [
       "<strong>Saturday:</strong> 17"
      ],
      "text/latex": [
       "\\textbf{Saturday:} 17"
      ],
      "text/markdown": [
       "**Saturday:** 17"
      ],
      "text/plain": [
       "Saturday \n",
       "      17 "
      ]
     },
     "metadata": {},
     "output_type": "display_data"
    }
   ],
   "source": [
    "estimations <- c(Sunday=15, Monday=16, Tuesday=13, Wednesday=15, Thursday=14, Friday=14, Saturday=17)\n",
    "estimations\n",
    "mean_error <- mean(estimations - 17)\n",
    "mean_error\n",
    "estimations[estimations-17 == 0]"
   ]
  },
  {
   "cell_type": "markdown",
   "metadata": {},
   "source": [
    "## Question 4\n",
    "\n",
    "In the first 18 seasons of \"Family Guy,\" there are a total of 1008 episodes. The show features a large cast of characters, including the Griffin family (Peter, Lois, Meg, Chris, and Stewie), their neighbors (Quagmire, Cleveland, and Joe), and other recurring characters (such as Brian, the family dog).\n",
    "\n",
    "Based on available data, we know that:\n",
    "\n",
    "On average, each episode is approximately 30 minutes long.\n",
    "\n",
    "The average speaking rate of a character on the show is approximately 120 words per minute.\n",
    "\n",
    "Assuming that the main characters( Peter, Lois, Meg, Chris, Stewie and Brian) talks twice as much as the side characters(Quagmire, Cleveland, and Joe) in an episode. %20 Quagmire’s words get censored since they were offensive. Using the following information, estimate the total number of words spoken by Peter and Quagmire in the show.\n",
    "\n",
    "Your output should be:\n",
    "\n",
    "\n",
    "```r\n",
    "570240\n",
    "\n",
    "```"
   ]
  },
  {
   "cell_type": "code",
   "execution_count": 1,
   "metadata": {},
   "outputs": [
    {
     "data": {
      "text/html": [
       "570240"
      ],
      "text/latex": [
       "570240"
      ],
      "text/markdown": [
       "570240"
      ],
      "text/plain": [
       "[1] 570240"
      ]
     },
     "metadata": {},
     "output_type": "display_data"
    }
   ],
   "source": [
    "Episode_Length<-30\n",
    "Side_length<- Episode_Length/15\n",
    "Main_length<- Side_length*2\n",
    "total_words_Peter <- Main_length*120 \n",
    "total_words_Quagmire<- Side_length*120/5\n",
    "Total<-(total_words_Quagmire+total_words_Peter)*1080\n",
    "Total"
   ]
  },
  {
   "cell_type": "markdown",
   "metadata": {},
   "source": [
    "## Question 5\n",
    "\n",
    "Elif Sude and Berkay are students of economics in Boğaziçi University. They are conducting a research on their EC208 class, about developing countries. They have a dataset, given below, about some countries' national currency units exchange rate vs US Dollars and the subcontinents they are on. Elif Sude wants to study countries only in Asia and her mission is to decreasingly sort the Asian countries' exchange rates/USD.\n",
    "\n",
    "- Singapore - 1.4 - Southeast Asia\n",
    "- Albania - 113.0 - Eastern Europe\n",
    "- Argentina\t- 130.6 - South America\n",
    "- Hong Kong\t- 7.8 - East Asia\n",
    "- Portugal - 0.9 - Southern Europe\n",
    "- Korea\t- 1291.4 - East Asia\n",
    "- Madagascar - 4096.1 - East Africa\n",
    "- Morocco\t- 10.2 - North Africa\n",
    "- Indonesia\t- 14849.9 - Southeast Asia\n",
    "- Saudi Arabia - 3.8 - Middle East (Asia)\n",
    "\n",
    "To do what she wants,\n",
    "Firstly, Elif Sude should put the exchange rates into a vector.\n",
    "Then, Elif Sude will assign the exchange rates their countries.\n",
    "And lastly, Elif Sude should subset the vector, so that she has only Asian countries left and then she should sort them decreasingly.\n",
    "\n",
    "Your output should be,\n",
    "\n",
    "```r\n",
    "\n",
    "Indonesia   Korea   Hong Kong   Saudi Arabia   Singapore \n",
    "  14849.9  1291.4         7.8            3.8         1.4 \n",
    "\n",
    "```"
   ]
  },
  {
   "cell_type": "code",
   "execution_count": 2,
   "metadata": {},
   "outputs": [
    {
     "data": {
      "text/html": [
       "<dl class=dl-horizontal>\n",
       "\t<dt>Indonesia</dt>\n",
       "\t\t<dd>14849.9</dd>\n",
       "\t<dt>Korea</dt>\n",
       "\t\t<dd>1291.4</dd>\n",
       "\t<dt>Hong Kong</dt>\n",
       "\t\t<dd>7.8</dd>\n",
       "\t<dt>Saudi Arabia</dt>\n",
       "\t\t<dd>3.8</dd>\n",
       "\t<dt>Singapore</dt>\n",
       "\t\t<dd>1.4</dd>\n",
       "</dl>\n"
      ],
      "text/latex": [
       "\\begin{description*}\n",
       "\\item[Indonesia] 14849.9\n",
       "\\item[Korea] 1291.4\n",
       "\\item[Hong Kong] 7.8\n",
       "\\item[Saudi Arabia] 3.8\n",
       "\\item[Singapore] 1.4\n",
       "\\end{description*}\n"
      ],
      "text/markdown": [
       "Indonesia\n",
       ":   14849.9Korea\n",
       ":   1291.4Hong Kong\n",
       ":   7.8Saudi Arabia\n",
       ":   3.8Singapore\n",
       ":   1.4\n",
       "\n"
      ],
      "text/plain": [
       "   Indonesia        Korea    Hong Kong Saudi Arabia    Singapore \n",
       "     14849.9       1291.4          7.8          3.8          1.4 "
      ]
     },
     "metadata": {},
     "output_type": "display_data"
    }
   ],
   "source": [
    "exchange_rates <- c(1.4, 113, 130.6, 7.8, 0.9, 1291.4, 4096.1, 10.2, 14849.9, 3.8)\n",
    "names(exchange_rates) <- c(\"Singapore\", \"Albania\", \"Argentina\", \"Hong Kong\", \"Portugal\", \"Korea\", \"Madagascar\", \"Morocco\", \"Indonesia\", \"Saudi Arabia\")\n",
    "asian_exchange_rates <- exchange_rates[c(1, 4, 6, 9, 10)]\n",
    "sort(asian_exchange_rates, decreasing = TRUE)"
   ]
  },
  {
   "cell_type": "markdown",
   "metadata": {},
   "source": [
    "## Question 6\n",
    "\n",
    "Ali, Hilal, Yunus, Ayten, Yasin and Azra applied to a company's internship announcement. This company will invite the three people with the highest GPA for an interview. The GPA of these 6 people is 3.92 , 2.78 , 3.84 , 3.11 , 2.97 , 3.55 respectively\n",
    "Find out which students the company will select and the students' GPA.\n",
    "\n",
    "Your output should be:\n",
    "\n",
    "\n",
    "```r\n",
    " Ali Yunus  Azra \n",
    " 3.92  3.84  3.55 \n",
    "\n",
    "```\n"
   ]
  },
  {
   "cell_type": "code",
   "execution_count": 7,
   "metadata": {},
   "outputs": [
    {
     "data": {
      "text/html": [
       "<dl class=dl-horizontal>\n",
       "\t<dt>Ali</dt>\n",
       "\t\t<dd>3.92</dd>\n",
       "\t<dt>Hilal</dt>\n",
       "\t\t<dd>2.78</dd>\n",
       "\t<dt>Yunus</dt>\n",
       "\t\t<dd>3.84</dd>\n",
       "\t<dt>Ayten</dt>\n",
       "\t\t<dd>3.11</dd>\n",
       "\t<dt>Yasin</dt>\n",
       "\t\t<dd>2.97</dd>\n",
       "\t<dt>Azra</dt>\n",
       "\t\t<dd>3.55</dd>\n",
       "</dl>\n"
      ],
      "text/latex": [
       "\\begin{description*}\n",
       "\\item[Ali] 3.92\n",
       "\\item[Hilal] 2.78\n",
       "\\item[Yunus] 3.84\n",
       "\\item[Ayten] 3.11\n",
       "\\item[Yasin] 2.97\n",
       "\\item[Azra] 3.55\n",
       "\\end{description*}\n"
      ],
      "text/markdown": [
       "Ali\n",
       ":   3.92Hilal\n",
       ":   2.78Yunus\n",
       ":   3.84Ayten\n",
       ":   3.11Yasin\n",
       ":   2.97Azra\n",
       ":   3.55\n",
       "\n"
      ],
      "text/plain": [
       "  Ali Hilal Yunus Ayten Yasin  Azra \n",
       " 3.92  2.78  3.84  3.11  2.97  3.55 "
      ]
     },
     "metadata": {},
     "output_type": "display_data"
    },
    {
     "data": {
      "text/html": [
       "<dl class=dl-horizontal>\n",
       "\t<dt>Ali</dt>\n",
       "\t\t<dd>3.92</dd>\n",
       "\t<dt>Yunus</dt>\n",
       "\t\t<dd>3.84</dd>\n",
       "\t<dt>Azra</dt>\n",
       "\t\t<dd>3.55</dd>\n",
       "</dl>\n"
      ],
      "text/latex": [
       "\\begin{description*}\n",
       "\\item[Ali] 3.92\n",
       "\\item[Yunus] 3.84\n",
       "\\item[Azra] 3.55\n",
       "\\end{description*}\n"
      ],
      "text/markdown": [
       "Ali\n",
       ":   3.92Yunus\n",
       ":   3.84Azra\n",
       ":   3.55\n",
       "\n"
      ],
      "text/plain": [
       "  Ali Yunus  Azra \n",
       " 3.92  3.84  3.55 "
      ]
     },
     "metadata": {},
     "output_type": "display_data"
    }
   ],
   "source": [
    "gpa<-c(3.92 , 2.78 , 3.84 , 3.11 , 2.97 , 3.55)\n",
    "names(gpa)<-c(\"Ali\",\"Hilal\",\"Yunus\",\"Ayten\",\"Yasin\",\"Azra\")\n",
    "gpa\n",
    "\n",
    "x <- sort(gpa,decreasing = T)\n",
    "x[1:3]"
   ]
  }
 ],
 "metadata": {
  "kernelspec": {
   "display_name": "R",
   "language": "R",
   "name": "ir"
  },
  "language_info": {
   "codemirror_mode": "r",
   "file_extension": ".r",
   "mimetype": "text/x-r-source",
   "name": "R",
   "pygments_lexer": "r",
   "version": "3.6.1"
  },
  "toc": {
   "nav_menu": {},
   "number_sections": true,
   "sideBar": true,
   "skip_h1_title": false,
   "title_cell": "Table of Contents",
   "title_sidebar": "Contents",
   "toc_cell": false,
   "toc_position": {},
   "toc_section_display": true,
   "toc_window_display": false
  },
  "varInspector": {
   "cols": {
    "lenName": 16,
    "lenType": 16,
    "lenVar": 40
   },
   "kernels_config": {
    "python": {
     "delete_cmd_postfix": "",
     "delete_cmd_prefix": "del ",
     "library": "var_list.py",
     "varRefreshCmd": "print(var_dic_list())"
    },
    "r": {
     "delete_cmd_postfix": ") ",
     "delete_cmd_prefix": "rm(",
     "library": "var_list.r",
     "varRefreshCmd": "cat(var_dic_list()) "
    }
   },
   "types_to_exclude": [
    "module",
    "function",
    "builtin_function_or_method",
    "instance",
    "_Feature"
   ],
   "window_display": false
  }
 },
 "nbformat": 4,
 "nbformat_minor": 4
}
