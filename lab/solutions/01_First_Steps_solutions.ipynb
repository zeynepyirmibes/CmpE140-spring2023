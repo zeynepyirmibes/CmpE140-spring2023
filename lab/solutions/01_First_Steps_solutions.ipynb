{
 "cells": [
  {
   "cell_type": "markdown",
   "metadata": {},
   "source": [
    "# First steps in R"
   ]
  },
  {
   "cell_type": "markdown",
   "metadata": {
    "slideshow": {
     "slide_type": "slide"
    }
   },
   "source": [
    "### Lab Exercise 1\n",
    "\n",
    "Given the variables\n",
    "\n",
    "    A <- 13\n",
    "    B <- 27\n",
    "    C <- 14\n",
    "\n",
    "find the sum, mean and product of the three numbers. "
   ]
  },
  {
   "cell_type": "code",
   "execution_count": 1,
   "metadata": {},
   "outputs": [
    {
     "data": {
      "text/html": [
       "54"
      ],
      "text/latex": [
       "54"
      ],
      "text/markdown": [
       "54"
      ],
      "text/plain": [
       "[1] 54"
      ]
     },
     "metadata": {},
     "output_type": "display_data"
    },
    {
     "data": {
      "text/html": [
       "18"
      ],
      "text/latex": [
       "18"
      ],
      "text/markdown": [
       "18"
      ],
      "text/plain": [
       "[1] 18"
      ]
     },
     "metadata": {},
     "output_type": "display_data"
    },
    {
     "data": {
      "text/html": [
       "4914"
      ],
      "text/latex": [
       "4914"
      ],
      "text/markdown": [
       "4914"
      ],
      "text/plain": [
       "[1] 4914"
      ]
     },
     "metadata": {},
     "output_type": "display_data"
    }
   ],
   "source": [
    "A <- 13\n",
    "B <- 27\n",
    "C <- 14\n",
    "\n",
    "sum <- A + B + C\n",
    "mean <- sum / 3\n",
    "product <- A * B * C\n",
    "\n",
    "sum\n",
    "mean\n",
    "product"
   ]
  },
  {
   "cell_type": "markdown",
   "metadata": {},
   "source": [
    "### Lab Exercise 2\n",
    "\n",
    "Given the variables\n",
    "\n",
    "    num1 <- 13\n",
    "    num2 <- 5\n",
    "\n",
    "find the difference, power and remainder of the two numbers. "
   ]
  },
  {
   "cell_type": "code",
   "execution_count": 3,
   "metadata": {},
   "outputs": [
    {
     "data": {
      "text/html": [
       "8"
      ],
      "text/latex": [
       "8"
      ],
      "text/markdown": [
       "8"
      ],
      "text/plain": [
       "[1] 8"
      ]
     },
     "metadata": {},
     "output_type": "display_data"
    },
    {
     "data": {
      "text/html": [
       "371293"
      ],
      "text/latex": [
       "371293"
      ],
      "text/markdown": [
       "371293"
      ],
      "text/plain": [
       "[1] 371293"
      ]
     },
     "metadata": {},
     "output_type": "display_data"
    },
    {
     "data": {
      "text/html": [
       "3"
      ],
      "text/latex": [
       "3"
      ],
      "text/markdown": [
       "3"
      ],
      "text/plain": [
       "[1] 3"
      ]
     },
     "metadata": {},
     "output_type": "display_data"
    }
   ],
   "source": [
    "num1 <- 13\n",
    "num2 <- 5\n",
    "\n",
    "diff <- num1 - num2\n",
    "power <- num1 ^ num2\n",
    "remainder <- num1 %% num2\n",
    "\n",
    "diff\n",
    "power\n",
    "remainder"
   ]
  },
  {
   "cell_type": "markdown",
   "metadata": {},
   "source": [
    "### Lab Exercise 3\n",
    "\n",
    "Using the formula below of compound interest, take the principal amount (A), interest rate (i) (per month) and duration (n) (months) and print the final amount.\n",
    "\n",
    "<img src=\"https://render.githubusercontent.com/render/math?math=\\large S = A * (1 %2B i/100)^{n}\">\n",
    "\n",
    "| Input     | Output  |\n",
    "| --------- | ------- |\n",
    "| 1000 12 5 | 1762.34 |\n",
    "| 500 12 5  | 881.17  |"
   ]
  },
  {
   "cell_type": "code",
   "execution_count": 4,
   "metadata": {},
   "outputs": [
    {
     "data": {
      "text/html": [
       "1762.3416832"
      ],
      "text/latex": [
       "1762.3416832"
      ],
      "text/markdown": [
       "1762.3416832"
      ],
      "text/plain": [
       "[1] 1762.342"
      ]
     },
     "metadata": {},
     "output_type": "display_data"
    }
   ],
   "source": [
    "A <- 1000\n",
    "i <- 12\n",
    "n <- 5\n",
    "\n",
    "S <- A * (1 + i / 100) ^ n\n",
    "S"
   ]
  },
  {
   "cell_type": "markdown",
   "metadata": {},
   "source": [
    "### Lab Exercise 4\n",
    "\n",
    "How many seconds are there in 5 years, 2 months, 4 days, 3 hours and 2 minutes?\n",
    "\n",
    "* 1 year = 365 days\n",
    "* 1 month = 30 days"
   ]
  },
  {
   "cell_type": "code",
   "execution_count": 5,
   "metadata": {},
   "outputs": [
    {
     "data": {
      "text/html": [
       "163220520"
      ],
      "text/latex": [
       "163220520"
      ],
      "text/markdown": [
       "163220520"
      ],
      "text/plain": [
       "[1] 163220520"
      ]
     },
     "metadata": {},
     "output_type": "display_data"
    }
   ],
   "source": [
    "years <- 5\n",
    "months <- 2\n",
    "days <- 4\n",
    "hours <- 3\n",
    "minutes <- 2\n",
    "\n",
    "total_days <- years * 365 + months * 30 + days\n",
    "total_hours <- total_days * 24 + hours\n",
    "total_minutes <- total_hours * 60 + minutes\n",
    "total_seconds <- total_minutes * 60\n",
    "\n",
    "total_seconds"
   ]
  },
  {
   "cell_type": "markdown",
   "metadata": {},
   "source": [
    "### Lab Exercise 5\n",
    "\n",
    "In economics, the formula for calculating future value (FV) of a present sum of money is given by FV = PV * (1 + r)^n, where PV is the present value of the money, r is the interest rate, and n is the number of periods.\n",
    "\n",
    "Calculate the future value of $1000 in 5 years, with an annual interest rate of 8% using the above formula."
   ]
  },
  {
   "cell_type": "code",
   "execution_count": 1,
   "metadata": {},
   "outputs": [
    {
     "data": {
      "text/html": [
       "1469.3280768"
      ],
      "text/latex": [
       "1469.3280768"
      ],
      "text/markdown": [
       "1469.3280768"
      ],
      "text/plain": [
       "[1] 1469.328"
      ]
     },
     "metadata": {},
     "output_type": "display_data"
    }
   ],
   "source": [
    "PV <- 1000\n",
    "FV <- PV * (1 + 0.08)^5\n",
    "FV"
   ]
  },
  {
   "cell_type": "markdown",
   "metadata": {},
   "source": [
    "### Lab Exercise 6\n",
    "\n",
    "Find the square, square root, floor and ceiling of pi number sequantially and then multiply them all together.\n"
   ]
  },
  {
   "cell_type": "code",
   "execution_count": 2,
   "metadata": {},
   "outputs": [
    {
     "data": {
      "text/html": [
       "9.86960440108936"
      ],
      "text/latex": [
       "9.86960440108936"
      ],
      "text/markdown": [
       "9.86960440108936"
      ],
      "text/plain": [
       "[1] 9.869604"
      ]
     },
     "metadata": {},
     "output_type": "display_data"
    },
    {
     "data": {
      "text/html": [
       "1.77245385090552"
      ],
      "text/latex": [
       "1.77245385090552"
      ],
      "text/markdown": [
       "1.77245385090552"
      ],
      "text/plain": [
       "[1] 1.772454"
      ]
     },
     "metadata": {},
     "output_type": "display_data"
    },
    {
     "data": {
      "text/html": [
       "3"
      ],
      "text/latex": [
       "3"
      ],
      "text/markdown": [
       "3"
      ],
      "text/plain": [
       "[1] 3"
      ]
     },
     "metadata": {},
     "output_type": "display_data"
    },
    {
     "data": {
      "text/html": [
       "4"
      ],
      "text/latex": [
       "4"
      ],
      "text/markdown": [
       "4"
      ],
      "text/plain": [
       "[1] 4"
      ]
     },
     "metadata": {},
     "output_type": "display_data"
    },
    {
     "data": {
      "text/html": [
       "209.921019931498"
      ],
      "text/latex": [
       "209.921019931498"
      ],
      "text/markdown": [
       "209.921019931498"
      ],
      "text/plain": [
       "[1] 209.921"
      ]
     },
     "metadata": {},
     "output_type": "display_data"
    }
   ],
   "source": [
    "x <- pi^2\n",
    "y <- sqrt(pi)\n",
    "z <- floor(pi)\n",
    "v <- ceiling(pi)\n",
    "x\n",
    "y\n",
    "z\n",
    "v\n",
    "x*y*z*v"
   ]
  },
  {
   "cell_type": "markdown",
   "metadata": {},
   "source": [
    "### Lab Exercise 7\n",
    "\n",
    "Ece’s grandmother has a wall clock that lost time when it was out of battery. Thus, her grandmother wants her to correct it. When Ece asked how many hours it has lost, her grandmother answered that it has lost 50000 seconds to make fun of her. Now, Ece wants to correct the clock, but she does not want to move the wheel that changes the second 50000 times. Find how many hours, minutes and seconds 50000 has so that she can correct it easily.\n"
   ]
  },
  {
   "cell_type": "code",
   "execution_count": 3,
   "metadata": {},
   "outputs": [
    {
     "data": {
      "text/html": [
       "13"
      ],
      "text/latex": [
       "13"
      ],
      "text/markdown": [
       "13"
      ],
      "text/plain": [
       "[1] 13"
      ]
     },
     "metadata": {},
     "output_type": "display_data"
    },
    {
     "data": {
      "text/html": [
       "53"
      ],
      "text/latex": [
       "53"
      ],
      "text/markdown": [
       "53"
      ],
      "text/plain": [
       "[1] 53"
      ]
     },
     "metadata": {},
     "output_type": "display_data"
    },
    {
     "data": {
      "text/html": [
       "20"
      ],
      "text/latex": [
       "20"
      ],
      "text/markdown": [
       "20"
      ],
      "text/plain": [
       "[1] 20"
      ]
     },
     "metadata": {},
     "output_type": "display_data"
    }
   ],
   "source": [
    "hour <- floor(50000/3600)\n",
    "minute <- (floor(50000/60))%%60\n",
    "second <- 50000%%60\n",
    "\n",
    "hour\n",
    "minute\n",
    "second"
   ]
  },
  {
   "cell_type": "markdown",
   "metadata": {},
   "source": [
    "### Lab Exercise 8\n",
    "\n",
    "Happy Cows Milk Company seeks to make an investment with past years' profit which is $100.000 . The manager of the company, Mrs. Nickelman, wants to decide which type of investment should they make. They have 2 options:\n",
    "\n",
    "1) Expanding the existing production lines\n",
    "2) Creating new production lines\n",
    "\n",
    "To decide, Mrs. Nickelman wants to use *\"Profitability Index\"* of both investments which is found by <br>\n",
    "<br>\n",
    "$\\ Profitability\\ Index(PI)\\ = \\frac{Present\\ Value(PV)\\ of\\ future\\ cash\\ flow}{Initial\\ Investment}$ <br>\n",
    "<br>\n",
    "formula. <br>\n",
    "\n",
    "The company's finance team calculated the PV's for both investments which are respectively $150.000 and $124.000 . According to this data, which investment should Mrs. Nickelman choose to make ? <br>\n",
    "\n",
    "(Hint: Mrs. Nickelman will choose the investment with a higher PI)"
   ]
  },
  {
   "cell_type": "code",
   "execution_count": 4,
   "metadata": {},
   "outputs": [
    {
     "data": {
      "text/html": [
       "1.5"
      ],
      "text/latex": [
       "1.5"
      ],
      "text/markdown": [
       "1.5"
      ],
      "text/plain": [
       "[1] 1.5"
      ]
     },
     "metadata": {},
     "output_type": "display_data"
    },
    {
     "data": {
      "text/html": [
       "1.24"
      ],
      "text/latex": [
       "1.24"
      ],
      "text/markdown": [
       "1.24"
      ],
      "text/plain": [
       "[1] 1.24"
      ]
     },
     "metadata": {},
     "output_type": "display_data"
    }
   ],
   "source": [
    "initial <- 100000\n",
    "\n",
    "PV1 <- 150000\n",
    "PV2 <- 124000\n",
    "\n",
    "PI1 <- PV1/initial\n",
    "PI2 <- PV2/initial\n",
    "\n",
    "PI1\n",
    "PI2"
   ]
  },
  {
   "cell_type": "markdown",
   "metadata": {},
   "source": [
    "**OR**"
   ]
  },
  {
   "cell_type": "code",
   "execution_count": 6,
   "metadata": {},
   "outputs": [
    {
     "data": {
      "text/html": [
       "1.5"
      ],
      "text/latex": [
       "1.5"
      ],
      "text/markdown": [
       "1.5"
      ],
      "text/plain": [
       "[1] 1.5"
      ]
     },
     "metadata": {},
     "output_type": "display_data"
    },
    {
     "data": {
      "text/html": [
       "1.24"
      ],
      "text/latex": [
       "1.24"
      ],
      "text/markdown": [
       "1.24"
      ],
      "text/plain": [
       "[1] 1.24"
      ]
     },
     "metadata": {},
     "output_type": "display_data"
    }
   ],
   "source": [
    "PI1 <- 150000/100000\n",
    "PI2 <- 124000/100000\n",
    "\n",
    "PI1\n",
    "PI2"
   ]
  },
  {
   "cell_type": "markdown",
   "metadata": {},
   "source": [
    "### Lab Exercise 9\n",
    "\n",
    "Ilgın is a nutritionist and he is trying to create a program to help his clients calculate their daily calorie intake based on their lifestyle and activity level. Create a program that should calculate the daily calorie intake for the client using the following formula:\n",
    "\n",
    "For males: BMR = (10 × weight in kg) + (6.25 × height in cm) - (5 × age in years) + 5\n",
    "\n",
    "For females: BMR = (10 × weight in kg) + (6.25 × height in cm) - (5 × age in years) - 161\n",
    "\n",
    "Daily Calorie Intake for Sedentary Person: BMR × 1.2\n",
    "Daily Calorie Intake for Active Person: BMR × 1.725\n",
    "\n",
    "\n",
    "What is the daily calorie intake for a 40-year-old male who weighs 80kg and is 175cm tall and leads an active lifestyle?\n",
    "\n",
    "What is the daily calorie intake for a 26-year-old female who weighs 63kg and is 168 tall and leads an sedentary lifestyle?"
   ]
  },
  {
   "cell_type": "code",
   "execution_count": 7,
   "metadata": {},
   "outputs": [
    {
     "data": {
      "text/html": [
       "2930.34375"
      ],
      "text/latex": [
       "2930.34375"
      ],
      "text/markdown": [
       "2930.34375"
      ],
      "text/plain": [
       "[1] 2930.344"
      ]
     },
     "metadata": {},
     "output_type": "display_data"
    },
    {
     "data": {
      "text/html": [
       "1666.8"
      ],
      "text/latex": [
       "1666.8"
      ],
      "text/markdown": [
       "1666.8"
      ],
      "text/plain": [
       "[1] 1666.8"
      ]
     },
     "metadata": {},
     "output_type": "display_data"
    }
   ],
   "source": [
    "bmr_1 = (10 * 80) + (6.25 * 175) - (5 * 40) + 5 \n",
    "\n",
    "daily_calorie_intake_1 = bmr_1 * 1.725\n",
    "\n",
    "daily_calorie_intake_1\n",
    "\n",
    "bmr_2 = (10 * 63) + (6.25 * 168) - (5 * 26) - 161\n",
    "\n",
    "daily_calorie_intake_2 = bmr_2 * 1.2\n",
    "\n",
    "daily_calorie_intake_2"
   ]
  }
 ],
 "metadata": {
  "kernelspec": {
   "display_name": "R",
   "language": "R",
   "name": "ir"
  },
  "language_info": {
   "codemirror_mode": "r",
   "file_extension": ".r",
   "mimetype": "text/x-r-source",
   "name": "R",
   "pygments_lexer": "r",
   "version": "3.6.1"
  }
 },
 "nbformat": 4,
 "nbformat_minor": 4
}
