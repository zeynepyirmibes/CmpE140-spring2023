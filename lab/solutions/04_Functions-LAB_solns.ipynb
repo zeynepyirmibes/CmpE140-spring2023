{
 "cells": [
  {
   "cell_type": "markdown",
   "id": "oezOu8wrgbZI",
   "metadata": {
    "id": "oezOu8wrgbZI"
   },
   "source": [
    "## Q1\n",
    "\n",
    "Write a function with the name \"FtoC\" that takes a temperature measurement in degrees Fahrenheit, and returns the equivalent value in degrees Celsius. Make sure that your function works with vector input, too.\n",
    "\n",
    "**Answer:**"
   ]
  },
  {
   "cell_type": "code",
   "execution_count": 5,
   "id": "Vvcz_F1Ugeve",
   "metadata": {
    "id": "Vvcz_F1Ugeve"
   },
   "outputs": [],
   "source": [
    "FtoC <- function(x) {\n",
    "    celsius <- (x-32)* (5/9)\n",
    "    return(celsius)\n",
    "}   "
   ]
  },
  {
   "cell_type": "code",
   "execution_count": 6,
   "id": "b2334406-121e-4f97-92af-504e433b616b",
   "metadata": {},
   "outputs": [
    {
     "data": {
      "text/html": [
       "1.66666666666667"
      ],
      "text/latex": [
       "1.66666666666667"
      ],
      "text/markdown": [
       "1.66666666666667"
      ],
      "text/plain": [
       "[1] 1.666667"
      ]
     },
     "metadata": {},
     "output_type": "display_data"
    },
    {
     "data": {
      "text/html": [
       "<ol class=list-inline>\n",
       "\t<li>5.55555555555556</li>\n",
       "\t<li>20</li>\n",
       "\t<li>36.1111111111111</li>\n",
       "\t<li>5.55555555555556</li>\n",
       "</ol>\n"
      ],
      "text/latex": [
       "\\begin{enumerate*}\n",
       "\\item 5.55555555555556\n",
       "\\item 20\n",
       "\\item 36.1111111111111\n",
       "\\item 5.55555555555556\n",
       "\\end{enumerate*}\n"
      ],
      "text/markdown": [
       "1. 5.55555555555556\n",
       "2. 20\n",
       "3. 36.1111111111111\n",
       "4. 5.55555555555556\n",
       "\n",
       "\n"
      ],
      "text/plain": [
       "[1]  5.555556 20.000000 36.111111  5.555556"
      ]
     },
     "metadata": {},
     "output_type": "display_data"
    }
   ],
   "source": [
    "FtoC(35)\n",
    "FtoC(c(42,68,97,42))"
   ]
  },
  {
   "cell_type": "markdown",
   "id": "GFFVZvXigffG",
   "metadata": {
    "id": "GFFVZvXigffG"
   },
   "source": [
    "## Q2\n",
    "\n",
    "Write a function with the name bmi that takes two arguments, height and weight, and returns the body-mass index calculated with these argument values. The function should work with vector input, too.\n",
    "\n",
    "**Answer:**"
   ]
  },
  {
   "cell_type": "code",
   "execution_count": 7,
   "id": "BTeVkie1ghYL",
   "metadata": {
    "id": "BTeVkie1ghYL"
   },
   "outputs": [
    {
     "data": {
      "text/html": [
       "26.2345679012346"
      ],
      "text/latex": [
       "26.2345679012346"
      ],
      "text/markdown": [
       "26.2345679012346"
      ],
      "text/plain": [
       "[1] 26.23457"
      ]
     },
     "metadata": {},
     "output_type": "display_data"
    }
   ],
   "source": [
    "bmi <- function(height, weight) {\n",
    "    bmi <- weight / (height ^ 2)\n",
    "    return(bmi)\n",
    "}\n",
    "\n",
    "bmi(1.8, 85)"
   ]
  },
  {
   "cell_type": "markdown",
   "id": "PfJfxL2ygiCc",
   "metadata": {
    "id": "PfJfxL2ygiCc"
   },
   "source": [
    "## Q3\n",
    "\n",
    "Write a function named range that takes a vector of numbers, and returns the difference between its minimum and the maximum elements. Test your function with some randomly-generated vectors.\n",
    "\n",
    "\n",
    "**Answer:**"
   ]
  },
  {
   "cell_type": "code",
   "execution_count": 8,
   "id": "W4joB_XWgj31",
   "metadata": {
    "id": "W4joB_XWgj31"
   },
   "outputs": [],
   "source": [
    "range <- function(vector) {\n",
    "    range_output <- max(vector) - min(vector)\n",
    "    return(range_output)\n",
    "}"
   ]
  },
  {
   "cell_type": "code",
   "execution_count": 9,
   "id": "d5caf3c8-39e5-4842-b63f-5806bbcc491d",
   "metadata": {
    "id": "W4joB_XWgj31"
   },
   "outputs": [
    {
     "data": {
      "text/html": [
       "828207"
      ],
      "text/latex": [
       "828207"
      ],
      "text/markdown": [
       "828207"
      ],
      "text/plain": [
       "[1] 828207"
      ]
     },
     "metadata": {},
     "output_type": "display_data"
    }
   ],
   "source": [
    "range(c(2,43,2323,828209,13))"
   ]
  },
  {
   "cell_type": "markdown",
   "id": "NWwcQV5xgkG7",
   "metadata": {
    "id": "NWwcQV5xgkG7"
   },
   "source": [
    "## Question 4\n",
    "\n",
    "In the movie La La Land, there is a scene where Sebastian plays the piano in a jazz club and get fired afterwards . Suppose we want to analyze the notes that Sebastian plays during this scene, and identify the actual notes based on the piano keys. Every time Sebastion plays the piano there will be a new group of 6 notes.Write a function called saving_sebastian and try to make him play 2 different songs. Maybe this time he will not get fired.\n",
    "\n",
    "-\t You should assign numbers from 1 to 7. These numbers represent the amount of each note played during the scene\n",
    "-\tYou can use noquote function in order to get all the values as desired\n",
    "-\tYou need to take the notes as follows: C, C#, D, D#, E, F\n",
    "\n",
    "\n",
    "\n",
    "**Answer:**"
   ]
  },
  {
   "cell_type": "code",
   "execution_count": 2,
   "id": "M0hKnlUwgmcp",
   "metadata": {
    "id": "M0hKnlUwgmcp"
   },
   "outputs": [
    {
     "data": {
      "text/plain": [
       "song_1      C     C#      D     D#      E      F song_2      C     C#      D \n",
       "            1      3      5      6      6      5             6      5      6 \n",
       "    D#      E      F \n",
       "     2      1      3 "
      ]
     },
     "metadata": {},
     "output_type": "display_data"
    }
   ],
   "source": [
    "saving_sebastian <- function() {\n",
    "    notes_1 <- c(\"song_1\",\"C\", \"C#\", \"D\", \"D#\", \"E\", \"F\")\n",
    "    amount_1 <- sample(1:7, 7,replace=TRUE)\n",
    "    names(amount_1) <- notes_1\n",
    "\n",
    "    notes_2 <- c(\"song_2\",\"C\", \"C#\", \"D\", \"D#\", \"E\", \"F\")\n",
    "    amount_2 <- sample(1:7, 7,replace=TRUE)\n",
    "    names(amount_2) <- notes_2\n",
    "    output <- c(amount_1, amount_2)\n",
    "    output[names(output) == \"song_1\"] <- \"\"\n",
    "    output[names(output) == \"song_2\"] <- \"\"\n",
    "    return(noquote(output))\n",
    "}\n",
    "saving_sebastian()"
   ]
  },
  {
   "cell_type": "markdown",
   "id": "65ae3fc6",
   "metadata": {},
   "source": [
    "**Alternative solution:**"
   ]
  },
  {
   "cell_type": "code",
   "execution_count": 4,
   "id": "2df6933c",
   "metadata": {},
   "outputs": [
    {
     "name": "stdout",
     "output_type": "stream",
     "text": [
      "Song 1"
     ]
    },
    {
     "data": {
      "text/plain": [
       " C C#  D D#  E  F \n",
       " 2  1  3  4  3  7 "
      ]
     },
     "metadata": {},
     "output_type": "display_data"
    },
    {
     "name": "stdout",
     "output_type": "stream",
     "text": [
      "Song 2"
     ]
    },
    {
     "data": {
      "text/plain": [
       " C C#  D D#  E  F \n",
       " 3  5  6  4  5  7 "
      ]
     },
     "metadata": {},
     "output_type": "display_data"
    }
   ],
   "source": [
    "saving_sebastian <- function() {\n",
    "    notes <- c(\"C\", \"C#\", \"D\", \"D#\", \"E\", \"F\")\n",
    "    amount <- sample(1:7, 6, replace=TRUE)\n",
    "    names(amount) <- notes\n",
    "\n",
    "    return(noquote(amount))\n",
    "}\n",
    "cat(\"Song 1\")\n",
    "saving_sebastian()\n",
    "cat(\"Song 2\")\n",
    "saving_sebastian()"
   ]
  },
  {
   "cell_type": "markdown",
   "id": "jJ4h30HvgsTt",
   "metadata": {
    "id": "jJ4h30HvgsTt"
   },
   "source": [
    "## Question 5\n",
    "\n",
    "A businesswoman is looking for new investing opportunities. She wants to create a tool that would calculate FCFF(Free Cash Flow to the Firm) model -  a measurement of a company's profitability. Create a function called FCFF, which takes the company's financial indicators as inputs, and returns its FCFF. Assume a tax rate to be 30%.\n",
    "\n",
    "Formula for calculating FCFF: $$FCFF=CFO+(IE×(1−TR))−CAPEX$$\n",
    "where:\n",
    "- CFO: Cash flow from operations\n",
    "- IE: Interest Expense\n",
    "- CAPEX: Capital expenditures\n",
    "\n",
    "The companies for evaluation:\n",
    "- Company A: \n",
    " - $8.519 billion (operating cash flow), \n",
    "\n",
    " - $3.349 billion (capital expenditure), \n",
    "\n",
    " - $300 million (interest)\n",
    "\n",
    "- Company B: \n",
    "  - $9.236 billion (operating cash flow),\n",
    "\n",
    "  - $5.936 billion (capital expenditure),\n",
    "\n",
    "  - $500 million (interest)\n",
    "\n",
    "Which company should she invest to?\n",
    "\n",
    "**Answer:**"
   ]
  },
  {
   "cell_type": "code",
   "execution_count": 10,
   "id": "TaNbsNCjinmK",
   "metadata": {
    "id": "TaNbsNCjinmK"
   },
   "outputs": [
    {
     "data": {
      "text/html": [
       "5380"
      ],
      "text/latex": [
       "5380"
      ],
      "text/markdown": [
       "5380"
      ],
      "text/plain": [
       "[1] 5380"
      ]
     },
     "metadata": {},
     "output_type": "display_data"
    },
    {
     "data": {
      "text/html": [
       "3650"
      ],
      "text/latex": [
       "3650"
      ],
      "text/markdown": [
       "3650"
      ],
      "text/plain": [
       "[1] 3650"
      ]
     },
     "metadata": {},
     "output_type": "display_data"
    }
   ],
   "source": [
    "FCFF <- function(cfo, ie, capex, tr=0.3) {\n",
    "    \n",
    "    return(cfo + (ie * (1-tr)) - capex)\n",
    "    \n",
    "}\n",
    "\n",
    "Company_A <- FCFF(8519, 300, 3349)\n",
    "Company_B <- FCFF(9236, 500, 5936)\n",
    "\n",
    "Company_A\n",
    "Company_B"
   ]
  },
  {
   "cell_type": "markdown",
   "id": "D_97HSZCiomP",
   "metadata": {
    "id": "D_97HSZCiomP"
   },
   "source": [
    "## Question 6\n",
    "\n",
    "Tayyip is an investor wanting to diversify his portfolio, and when he invests in a company, he wants to see the return rate in real terms. As a result, he chooses to write a function with two parameters: \"inflation\" and \"return\". Write Tayyip's function for him. You should provide an example real return value for a stock with a nominal return of 6% and inflation of 9%.\n",
    "\n",
    "A stock's real return rate is computed by subtracting inflation from the nominal return.\n",
    "\n",
    "**Answer:**"
   ]
  },
  {
   "cell_type": "code",
   "execution_count": 11,
   "id": "wa0uaYwuirjk",
   "metadata": {
    "id": "wa0uaYwuirjk"
   },
   "outputs": [
    {
     "data": {
      "text/html": [
       "-3"
      ],
      "text/latex": [
       "-3"
      ],
      "text/markdown": [
       "-3"
      ],
      "text/plain": [
       "[1] -3"
      ]
     },
     "metadata": {},
     "output_type": "display_data"
    }
   ],
   "source": [
    "tayyip_function<-function(inflation,return)\n",
    "{real_return<-return-inflation\n",
    " return(real_return)\n",
    " }\n",
    "tayyip_function(9,6)"
   ]
  },
  {
   "cell_type": "markdown",
   "id": "kMKql9YfirrE",
   "metadata": {
    "id": "kMKql9YfirrE"
   },
   "source": [
    "## Question 7\n",
    "\n",
    " Ayse wants to create a function for the savings system they have set for herself and her sister. According to this, they will first take the square root of the pocket money that is more than 100 TL and round it to the nearest integer, then multiply it by 5 and put it in the money box. Ayse and her sister collected 348 and 273 TL, respectively, during the feast. Accordingly, write the function that Ayse should create separately to find the amount they will put into the money box after the feast. \n",
    " \n",
    " (Don't worry about a number that falls in the middle of two integers, the round() function rounds .5 to the nearest top value)\n",
    "\n",
    "**Answer:**"
   ]
  },
  {
   "cell_type": "code",
   "execution_count": 12,
   "id": "64v8TLXoit1I",
   "metadata": {
    "id": "64v8TLXoit1I"
   },
   "outputs": [],
   "source": [
    "saving_system <- function(x) {\n",
    "    savings <- round(sqrt(x)) * 5\n",
    "    return(savings)\n",
    "    }"
   ]
  },
  {
   "cell_type": "code",
   "execution_count": 13,
   "id": "348e8071-94f4-4d33-ad28-e2e98fc715cf",
   "metadata": {
    "id": "64v8TLXoit1I"
   },
   "outputs": [
    {
     "data": {
      "text/html": [
       "95"
      ],
      "text/latex": [
       "95"
      ],
      "text/markdown": [
       "95"
      ],
      "text/plain": [
       "[1] 95"
      ]
     },
     "metadata": {},
     "output_type": "display_data"
    },
    {
     "data": {
      "text/html": [
       "85"
      ],
      "text/latex": [
       "85"
      ],
      "text/markdown": [
       "85"
      ],
      "text/plain": [
       "[1] 85"
      ]
     },
     "metadata": {},
     "output_type": "display_data"
    }
   ],
   "source": [
    "saving_system(348)\n",
    "saving_system(273)"
   ]
  },
  {
   "cell_type": "markdown",
   "id": "XOCZQVzPivhu",
   "metadata": {
    "id": "XOCZQVzPivhu"
   },
   "source": [
    "## Question 8\n",
    "\n",
    "2 friends, Gizem and Esra, want to go to Antalya from Istanbul. Gizem suggests that they should go through Balıkesir but Esra thinks going through Kutahya is more economical. \n",
    "\n",
    "If they go through Balikesir, they have to travel 714 km and if they go through Kutahya, they will travel 692 km. However, their car would use 6.5 liters oil per 100 kilometers through Balıkesir and 6.6 liters oil per 100 km through Kutahya. \n",
    "\n",
    "Write a function that calculates how much these routes would cost them with different prices of oil. For instance, currently 1 liter of oil is 21.28 tl and if you put 21.28 as input your output should be:\n",
    "\n",
    "\n",
    "```r\n",
    "[1] \"Cost of choosing Balikesir is 987.6048 TL and cost of choosing Kutahya is 971.90016 TL\"\n",
    "```\n",
    "\n",
    "**Answer:**\n",
    "\n"
   ]
  },
  {
   "cell_type": "code",
   "execution_count": 15,
   "id": "shhS2bXNi8JB",
   "metadata": {
    "id": "shhS2bXNi8JB"
   },
   "outputs": [
    {
     "data": {
      "text/html": [
       "'Cost of choosing Balikesir is 987.6048 TL, cost of choosing Kutahya is 971.90016 TL'"
      ],
      "text/latex": [
       "'Cost of choosing Balikesir is 987.6048 TL, cost of choosing Kutahya is 971.90016 TL'"
      ],
      "text/markdown": [
       "'Cost of choosing Balikesir is 987.6048 TL, cost of choosing Kutahya is 971.90016 TL'"
      ],
      "text/plain": [
       "[1] \"Cost of choosing Balikesir is 987.6048 TL, cost of choosing Kutahya is 971.90016 TL\""
      ]
     },
     "metadata": {},
     "output_type": "display_data"
    }
   ],
   "source": [
    "economy = function(cost){\n",
    "    x = (714 * 6.5 * cost) / 100\n",
    "    y = (692 * 6.6 * cost) / 100\n",
    "    z = paste(\"Cost of choosing Balikesir is\", x , \"TL, cost of choosing Kutahya is\", y ,\"TL\")\n",
    "    return (z)\n",
    "}\n",
    "economy(21.28)"
   ]
  },
  {
   "cell_type": "markdown",
   "id": "m6oA0JEOjHU4",
   "metadata": {
    "id": "m6oA0JEOjHU4"
   },
   "source": [
    "## Question 9\n",
    "\n",
    "Create a function that will swap _only_ the first and second values of a vector\n",
    "\n",
    "Examples:\n",
    "\n",
    "```r\n",
    "vec1 <- c(1,2,3,4,5,6)\n",
    "vec2 <- c('first', 'second', 'third', 'fourth')\n",
    "\n",
    "Outputs:\n",
    "1 2 3 4 5 6\n",
    "\"first\"  \"second\" \"third\"  \"fourth\"\n",
    "```\n",
    "```r\n",
    "swap(vec1)\n",
    "swap(vec2)\n",
    "\n",
    "Outputs:\n",
    "2 1 3 4 5 6\n",
    "\"second\" \"first\"  \"third\"  \"fourth\"\n",
    "```\n",
    "\n",
    "**Answer:**"
   ]
  },
  {
   "cell_type": "code",
   "execution_count": 16,
   "id": "XISgpAYHjKo3",
   "metadata": {
    "id": "XISgpAYHjKo3"
   },
   "outputs": [
    {
     "data": {
      "text/html": [
       "<ol class=list-inline>\n",
       "\t<li>2</li>\n",
       "\t<li>1</li>\n",
       "\t<li>3</li>\n",
       "\t<li>4</li>\n",
       "\t<li>5</li>\n",
       "\t<li>6</li>\n",
       "</ol>\n"
      ],
      "text/latex": [
       "\\begin{enumerate*}\n",
       "\\item 2\n",
       "\\item 1\n",
       "\\item 3\n",
       "\\item 4\n",
       "\\item 5\n",
       "\\item 6\n",
       "\\end{enumerate*}\n"
      ],
      "text/markdown": [
       "1. 2\n",
       "2. 1\n",
       "3. 3\n",
       "4. 4\n",
       "5. 5\n",
       "6. 6\n",
       "\n",
       "\n"
      ],
      "text/plain": [
       "[1] 2 1 3 4 5 6"
      ]
     },
     "metadata": {},
     "output_type": "display_data"
    },
    {
     "data": {
      "text/html": [
       "<ol class=list-inline>\n",
       "\t<li>'second'</li>\n",
       "\t<li>'first'</li>\n",
       "\t<li>'third'</li>\n",
       "\t<li>'fourth'</li>\n",
       "</ol>\n"
      ],
      "text/latex": [
       "\\begin{enumerate*}\n",
       "\\item 'second'\n",
       "\\item 'first'\n",
       "\\item 'third'\n",
       "\\item 'fourth'\n",
       "\\end{enumerate*}\n"
      ],
      "text/markdown": [
       "1. 'second'\n",
       "2. 'first'\n",
       "3. 'third'\n",
       "4. 'fourth'\n",
       "\n",
       "\n"
      ],
      "text/plain": [
       "[1] \"second\" \"first\"  \"third\"  \"fourth\""
      ]
     },
     "metadata": {},
     "output_type": "display_data"
    }
   ],
   "source": [
    "swap <- function(vec) {\n",
    "    vec[1:2] <- vec[2:1]\n",
    "    return(vec)\n",
    "}\n",
    "vec1 <- c(1,2,3,4,5,6)\n",
    "vec2 <- c('first', 'second', 'third', 'fourth')\n",
    "\n",
    "swap(vec1)\n",
    "swap(vec2)"
   ]
  },
  {
   "cell_type": "markdown",
   "id": "6iswZsEimHva",
   "metadata": {
    "id": "6iswZsEimHva"
   },
   "source": [
    "## Question 10\n",
    "\n",
    "Create a function to calculate break even amount of units to sold when fixed cost(FC) is 100 TL and variable cost(VC) per unit is 1.4 TL.\n",
    "\n",
    "Function should take price, fixed cost, variable cost as arguments and return the number of units to sold. \n",
    "\n",
    "$$ Price \\times Unit = Revenue$$\n",
    "$$FC + VC \\times Unit = Cost$$\n",
    "$$Profit = Revenue - Cost$$\n",
    "\n",
    "Run the function with different prices\n",
    "\n",
    "*break-even: zero profit"
   ]
  },
  {
   "cell_type": "code",
   "execution_count": 17,
   "id": "FCGfDplpm-Uo",
   "metadata": {
    "id": "FCGfDplpm-Uo"
   },
   "outputs": [
    {
     "data": {
      "text/html": [
       "11.6279069767442"
      ],
      "text/latex": [
       "11.6279069767442"
      ],
      "text/markdown": [
       "11.6279069767442"
      ],
      "text/plain": [
       "[1] 11.62791"
      ]
     },
     "metadata": {},
     "output_type": "display_data"
    }
   ],
   "source": [
    "break_even <- function(price, fc=100, vc=1.4) {\n",
    "    \n",
    "    # zero profit means: \n",
    "    # cost = revenue\n",
    "    # fc + vc * unit = price * unit\n",
    "    # fc = (price - vc) * unit\n",
    "    \n",
    "    unit = fc / (price - vc)\n",
    "    \n",
    "    return(unit)\n",
    "    \n",
    "    }\n",
    "\n",
    "break_even(10)"
   ]
  },
  {
   "cell_type": "markdown",
   "id": "QnnigFM6siBt",
   "metadata": {
    "id": "QnnigFM6siBt"
   },
   "source": [
    "## Question 11\n",
    "\n",
    "Write an R function, number.sequence(n), that returns a vector that has the form $2^2,3^2,4^2,\\dots$ and has exactly n terms, as the sample output below suggests.\n",
    "\n",
    "```r\n",
    "> number.sequence(5)\n",
    "[1] 4 9 16 25 36\n",
    "```"
   ]
  },
  {
   "cell_type": "code",
   "execution_count": 18,
   "id": "px3YlL7Os6Pb",
   "metadata": {
    "id": "px3YlL7Os6Pb"
   },
   "outputs": [
    {
     "data": {
      "text/html": [
       "<ol class=list-inline>\n",
       "\t<li>4</li>\n",
       "\t<li>9</li>\n",
       "\t<li>16</li>\n",
       "\t<li>25</li>\n",
       "\t<li>36</li>\n",
       "</ol>\n"
      ],
      "text/latex": [
       "\\begin{enumerate*}\n",
       "\\item 4\n",
       "\\item 9\n",
       "\\item 16\n",
       "\\item 25\n",
       "\\item 36\n",
       "\\end{enumerate*}\n"
      ],
      "text/markdown": [
       "1. 4\n",
       "2. 9\n",
       "3. 16\n",
       "4. 25\n",
       "5. 36\n",
       "\n",
       "\n"
      ],
      "text/plain": [
       "[1]  4  9 16 25 36"
      ]
     },
     "metadata": {},
     "output_type": "display_data"
    }
   ],
   "source": [
    "number.sequence<-function(n){\n",
    "    seq<-(1:n+1)^2\n",
    "    return(seq)}\n",
    "number.sequence(5)"
   ]
  },
  {
   "cell_type": "code",
   "execution_count": null,
   "id": "9a354a3e",
   "metadata": {},
   "outputs": [],
   "source": []
  }
 ],
 "metadata": {
  "colab": {
   "provenance": []
  },
  "gpuClass": "standard",
  "kernelspec": {
   "display_name": "R",
   "language": "R",
   "name": "ir"
  },
  "language_info": {
   "codemirror_mode": "r",
   "file_extension": ".r",
   "mimetype": "text/x-r-source",
   "name": "R",
   "pygments_lexer": "r",
   "version": "3.6.1"
  }
 },
 "nbformat": 4,
 "nbformat_minor": 5
}
