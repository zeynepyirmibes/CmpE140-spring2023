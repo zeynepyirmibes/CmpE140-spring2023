{
 "cells": [
  {
   "cell_type": "code",
   "execution_count": 9,
   "metadata": {},
   "outputs": [],
   "source": [
    "options(repr.plot.width=5, repr.plot.height=4)\n",
    "options(jupyter.rich_display = FALSE)"
   ]
  },
  {
   "cell_type": "markdown",
   "metadata": {},
   "source": [
    "# SEQUENCES, REPETITIONS AND RANDOM NUMBER GENERATION"
   ]
  },
  {
   "cell_type": "markdown",
   "metadata": {},
   "source": [
    "## SEQUENCES"
   ]
  },
  {
   "cell_type": "markdown",
   "metadata": {},
   "source": [
    "First take a look at the help of `seq()` function"
   ]
  },
  {
   "cell_type": "code",
   "execution_count": null,
   "metadata": {},
   "outputs": [],
   "source": [
    "?seq"
   ]
  },
  {
   "cell_type": "markdown",
   "metadata": {},
   "source": [
    "```r\n",
    "seq(from = 1, to = 1, by = ((to - from)/(length.out - 1)), length.out = NULL)\n",
    "```\n",
    "\n",
    "You can use any two or three of the \"from\", \"to\", \"by\" and \"length.out\" arguments"
   ]
  },
  {
   "cell_type": "markdown",
   "metadata": {},
   "source": [
    "### QUESTION 1"
   ]
  },
  {
   "cell_type": "markdown",
   "metadata": {},
   "source": [
    "Create:\n",
    "- A sequence of values from 1, of 20 values (length.out) and with steps of 3 (by), save in **seq_1** as such:\n",
    "\n",
    "```r\n",
    "> seq_1\n",
    "\n",
    "[1]  1  4  7 10 13 16 19 22 25 28 31 34 37 40 43 46 49 52 55 58\n",
    "```\n",
    "\n",
    "- A sequence of values from 1 to 134 with steps of 7, save in **seq_2** as such:\n",
    "\n",
    "```r\n",
    "> seq_2\n",
    "\n",
    "[1]   1   8  15  22  29  36  43  50  57  64  71  78  85  92  99 106 113 120 127\n",
    "[20] 134\n",
    "```\n",
    "\n",
    "- A sequence of values to from 42 to 150 with 10 elements, save in **seq_3** as such:\n",
    "\n",
    "```r\n",
    "> seq_3\n",
    "\n",
    "[1]  42  54  66  78  90 102 114 126 138 150\n",
    "```"
   ]
  },
  {
   "cell_type": "markdown",
   "metadata": {},
   "source": [
    "### ANSWER 1"
   ]
  },
  {
   "cell_type": "code",
   "execution_count": 6,
   "metadata": {
    "scrolled": true
   },
   "outputs": [
    {
     "data": {
      "text/html": [
       "<ol class=list-inline>\n",
       "\t<li>1</li>\n",
       "\t<li>4</li>\n",
       "\t<li>7</li>\n",
       "\t<li>10</li>\n",
       "\t<li>13</li>\n",
       "\t<li>16</li>\n",
       "\t<li>19</li>\n",
       "\t<li>22</li>\n",
       "\t<li>25</li>\n",
       "\t<li>28</li>\n",
       "\t<li>31</li>\n",
       "\t<li>34</li>\n",
       "\t<li>37</li>\n",
       "\t<li>40</li>\n",
       "\t<li>43</li>\n",
       "\t<li>46</li>\n",
       "\t<li>49</li>\n",
       "\t<li>52</li>\n",
       "\t<li>55</li>\n",
       "\t<li>58</li>\n",
       "</ol>\n"
      ],
      "text/latex": [
       "\\begin{enumerate*}\n",
       "\\item 1\n",
       "\\item 4\n",
       "\\item 7\n",
       "\\item 10\n",
       "\\item 13\n",
       "\\item 16\n",
       "\\item 19\n",
       "\\item 22\n",
       "\\item 25\n",
       "\\item 28\n",
       "\\item 31\n",
       "\\item 34\n",
       "\\item 37\n",
       "\\item 40\n",
       "\\item 43\n",
       "\\item 46\n",
       "\\item 49\n",
       "\\item 52\n",
       "\\item 55\n",
       "\\item 58\n",
       "\\end{enumerate*}\n"
      ],
      "text/markdown": [
       "1. 1\n",
       "2. 4\n",
       "3. 7\n",
       "4. 10\n",
       "5. 13\n",
       "6. 16\n",
       "7. 19\n",
       "8. 22\n",
       "9. 25\n",
       "10. 28\n",
       "11. 31\n",
       "12. 34\n",
       "13. 37\n",
       "14. 40\n",
       "15. 43\n",
       "16. 46\n",
       "17. 49\n",
       "18. 52\n",
       "19. 55\n",
       "20. 58\n",
       "\n",
       "\n"
      ],
      "text/plain": [
       " [1]  1  4  7 10 13 16 19 22 25 28 31 34 37 40 43 46 49 52 55 58"
      ]
     },
     "metadata": {},
     "output_type": "display_data"
    },
    {
     "data": {
      "text/html": [
       "<ol class=list-inline>\n",
       "\t<li>1</li>\n",
       "\t<li>8</li>\n",
       "\t<li>15</li>\n",
       "\t<li>22</li>\n",
       "\t<li>29</li>\n",
       "\t<li>36</li>\n",
       "\t<li>43</li>\n",
       "\t<li>50</li>\n",
       "\t<li>57</li>\n",
       "\t<li>64</li>\n",
       "\t<li>71</li>\n",
       "\t<li>78</li>\n",
       "\t<li>85</li>\n",
       "\t<li>92</li>\n",
       "\t<li>99</li>\n",
       "\t<li>106</li>\n",
       "\t<li>113</li>\n",
       "\t<li>120</li>\n",
       "\t<li>127</li>\n",
       "\t<li>134</li>\n",
       "</ol>\n"
      ],
      "text/latex": [
       "\\begin{enumerate*}\n",
       "\\item 1\n",
       "\\item 8\n",
       "\\item 15\n",
       "\\item 22\n",
       "\\item 29\n",
       "\\item 36\n",
       "\\item 43\n",
       "\\item 50\n",
       "\\item 57\n",
       "\\item 64\n",
       "\\item 71\n",
       "\\item 78\n",
       "\\item 85\n",
       "\\item 92\n",
       "\\item 99\n",
       "\\item 106\n",
       "\\item 113\n",
       "\\item 120\n",
       "\\item 127\n",
       "\\item 134\n",
       "\\end{enumerate*}\n"
      ],
      "text/markdown": [
       "1. 1\n",
       "2. 8\n",
       "3. 15\n",
       "4. 22\n",
       "5. 29\n",
       "6. 36\n",
       "7. 43\n",
       "8. 50\n",
       "9. 57\n",
       "10. 64\n",
       "11. 71\n",
       "12. 78\n",
       "13. 85\n",
       "14. 92\n",
       "15. 99\n",
       "16. 106\n",
       "17. 113\n",
       "18. 120\n",
       "19. 127\n",
       "20. 134\n",
       "\n",
       "\n"
      ],
      "text/plain": [
       " [1]   1   8  15  22  29  36  43  50  57  64  71  78  85  92  99 106 113 120 127\n",
       "[20] 134"
      ]
     },
     "metadata": {},
     "output_type": "display_data"
    },
    {
     "data": {
      "text/html": [
       "<ol class=list-inline>\n",
       "\t<li>42</li>\n",
       "\t<li>54</li>\n",
       "\t<li>66</li>\n",
       "\t<li>78</li>\n",
       "\t<li>90</li>\n",
       "\t<li>102</li>\n",
       "\t<li>114</li>\n",
       "\t<li>126</li>\n",
       "\t<li>138</li>\n",
       "\t<li>150</li>\n",
       "</ol>\n"
      ],
      "text/latex": [
       "\\begin{enumerate*}\n",
       "\\item 42\n",
       "\\item 54\n",
       "\\item 66\n",
       "\\item 78\n",
       "\\item 90\n",
       "\\item 102\n",
       "\\item 114\n",
       "\\item 126\n",
       "\\item 138\n",
       "\\item 150\n",
       "\\end{enumerate*}\n"
      ],
      "text/markdown": [
       "1. 42\n",
       "2. 54\n",
       "3. 66\n",
       "4. 78\n",
       "5. 90\n",
       "6. 102\n",
       "7. 114\n",
       "8. 126\n",
       "9. 138\n",
       "10. 150\n",
       "\n",
       "\n"
      ],
      "text/plain": [
       " [1]  42  54  66  78  90 102 114 126 138 150"
      ]
     },
     "metadata": {},
     "output_type": "display_data"
    }
   ],
   "source": [
    "seq_1 <- seq(1, by = 3, length.out = 20)\n",
    "seq_1\n",
    "\n",
    "seq_2 <- seq(1, 134, by = 7)\n",
    "seq_2\n",
    "\n",
    "seq_3 <- seq(42, 150, length.out = 10)\n",
    "seq_3"
   ]
  },
  {
   "cell_type": "markdown",
   "metadata": {},
   "source": [
    "## REPETITIONS"
   ]
  },
  {
   "cell_type": "markdown",
   "metadata": {},
   "source": [
    "Take a look at the help of function `rep()`"
   ]
  },
  {
   "cell_type": "code",
   "execution_count": null,
   "metadata": {},
   "outputs": [],
   "source": [
    "?rep"
   ]
  },
  {
   "cell_type": "markdown",
   "metadata": {},
   "source": [
    "### QUESTION 2"
   ]
  },
  {
   "cell_type": "markdown",
   "metadata": {},
   "source": [
    "Repeat:\n",
    "\n",
    "- **seq_3** twice and save into object **seq_3a** as such:\n",
    "\n",
    "```r\n",
    "> seq_3\n",
    "\n",
    "[1]  42  54  66  78  90 102 114 126 138 150  42  54  66  78  90 102 114 126 138\n",
    "[20] 150\n",
    "```\n",
    "\n",
    "\n",
    "- each item of **seq_3** twice and save into object **seq_3b** as such:\n",
    "\n",
    "```r\n",
    "> seq_3b\n",
    "\n",
    "[1]  42  42  54  54  66  66  78  78  90  90 102 102 114 114 126 126 138 138 150\n",
    "[20] 150\n",
    "```"
   ]
  },
  {
   "cell_type": "markdown",
   "metadata": {},
   "source": [
    "### ANSWER 2"
   ]
  },
  {
   "cell_type": "code",
   "execution_count": 7,
   "metadata": {},
   "outputs": [
    {
     "data": {
      "text/html": [
       "<ol class=list-inline>\n",
       "\t<li>42</li>\n",
       "\t<li>54</li>\n",
       "\t<li>66</li>\n",
       "\t<li>78</li>\n",
       "\t<li>90</li>\n",
       "\t<li>102</li>\n",
       "\t<li>114</li>\n",
       "\t<li>126</li>\n",
       "\t<li>138</li>\n",
       "\t<li>150</li>\n",
       "\t<li>42</li>\n",
       "\t<li>54</li>\n",
       "\t<li>66</li>\n",
       "\t<li>78</li>\n",
       "\t<li>90</li>\n",
       "\t<li>102</li>\n",
       "\t<li>114</li>\n",
       "\t<li>126</li>\n",
       "\t<li>138</li>\n",
       "\t<li>150</li>\n",
       "</ol>\n"
      ],
      "text/latex": [
       "\\begin{enumerate*}\n",
       "\\item 42\n",
       "\\item 54\n",
       "\\item 66\n",
       "\\item 78\n",
       "\\item 90\n",
       "\\item 102\n",
       "\\item 114\n",
       "\\item 126\n",
       "\\item 138\n",
       "\\item 150\n",
       "\\item 42\n",
       "\\item 54\n",
       "\\item 66\n",
       "\\item 78\n",
       "\\item 90\n",
       "\\item 102\n",
       "\\item 114\n",
       "\\item 126\n",
       "\\item 138\n",
       "\\item 150\n",
       "\\end{enumerate*}\n"
      ],
      "text/markdown": [
       "1. 42\n",
       "2. 54\n",
       "3. 66\n",
       "4. 78\n",
       "5. 90\n",
       "6. 102\n",
       "7. 114\n",
       "8. 126\n",
       "9. 138\n",
       "10. 150\n",
       "11. 42\n",
       "12. 54\n",
       "13. 66\n",
       "14. 78\n",
       "15. 90\n",
       "16. 102\n",
       "17. 114\n",
       "18. 126\n",
       "19. 138\n",
       "20. 150\n",
       "\n",
       "\n"
      ],
      "text/plain": [
       " [1]  42  54  66  78  90 102 114 126 138 150  42  54  66  78  90 102 114 126 138\n",
       "[20] 150"
      ]
     },
     "metadata": {},
     "output_type": "display_data"
    },
    {
     "data": {
      "text/html": [
       "<ol class=list-inline>\n",
       "\t<li>42</li>\n",
       "\t<li>42</li>\n",
       "\t<li>54</li>\n",
       "\t<li>54</li>\n",
       "\t<li>66</li>\n",
       "\t<li>66</li>\n",
       "\t<li>78</li>\n",
       "\t<li>78</li>\n",
       "\t<li>90</li>\n",
       "\t<li>90</li>\n",
       "\t<li>102</li>\n",
       "\t<li>102</li>\n",
       "\t<li>114</li>\n",
       "\t<li>114</li>\n",
       "\t<li>126</li>\n",
       "\t<li>126</li>\n",
       "\t<li>138</li>\n",
       "\t<li>138</li>\n",
       "\t<li>150</li>\n",
       "\t<li>150</li>\n",
       "</ol>\n"
      ],
      "text/latex": [
       "\\begin{enumerate*}\n",
       "\\item 42\n",
       "\\item 42\n",
       "\\item 54\n",
       "\\item 54\n",
       "\\item 66\n",
       "\\item 66\n",
       "\\item 78\n",
       "\\item 78\n",
       "\\item 90\n",
       "\\item 90\n",
       "\\item 102\n",
       "\\item 102\n",
       "\\item 114\n",
       "\\item 114\n",
       "\\item 126\n",
       "\\item 126\n",
       "\\item 138\n",
       "\\item 138\n",
       "\\item 150\n",
       "\\item 150\n",
       "\\end{enumerate*}\n"
      ],
      "text/markdown": [
       "1. 42\n",
       "2. 42\n",
       "3. 54\n",
       "4. 54\n",
       "5. 66\n",
       "6. 66\n",
       "7. 78\n",
       "8. 78\n",
       "9. 90\n",
       "10. 90\n",
       "11. 102\n",
       "12. 102\n",
       "13. 114\n",
       "14. 114\n",
       "15. 126\n",
       "16. 126\n",
       "17. 138\n",
       "18. 138\n",
       "19. 150\n",
       "20. 150\n",
       "\n",
       "\n"
      ],
      "text/plain": [
       " [1]  42  42  54  54  66  66  78  78  90  90 102 102 114 114 126 126 138 138 150\n",
       "[20] 150"
      ]
     },
     "metadata": {},
     "output_type": "display_data"
    }
   ],
   "source": [
    "seq_3a <- rep(seq_3, 2)\n",
    "seq_3a\n",
    "\n",
    "seq_3b <- rep(seq_3, each = 2)\n",
    "seq_3b"
   ]
  },
  {
   "cell_type": "markdown",
   "metadata": {},
   "source": [
    "## RANDOM SAMPLES"
   ]
  },
  {
   "cell_type": "markdown",
   "metadata": {},
   "source": [
    "Take a look at the help of `sample()` function:"
   ]
  },
  {
   "cell_type": "code",
   "execution_count": null,
   "metadata": {},
   "outputs": [],
   "source": [
    "?sample"
   ]
  },
  {
   "cell_type": "markdown",
   "metadata": {},
   "source": [
    "### QUESTION 3"
   ]
  },
  {
   "cell_type": "markdown",
   "metadata": {},
   "source": [
    "First run:\n",
    "```r\n",
    "RNGversion(\"3.3.1\")\n",
    "```\n",
    "\n",
    "- Set seed to 1923 with `set.seed(1923)`. Get a random sample of 10 items out of **seq_1**, without repetition, save into **samp_1** as such:\n",
    "\n",
    "```r\n",
    "> samp_1\n",
    "\n",
    "[1] 16  1 28  4 40 43 37 46 52 10\n",
    "```\n",
    "\n",
    "- Set seed to 1977 with `set.seed(1977)`. Get a random sample of 10 items out of **seq_2**, with repetition, save into **samp_2** as such:\n",
    "\n",
    "```r\n",
    "> samp_2\n",
    "\n",
    "[1]  64  71  92  15  57 127  50  57  29  57\n",
    "```"
   ]
  },
  {
   "cell_type": "markdown",
   "metadata": {},
   "source": [
    "### ANSWER 3"
   ]
  },
  {
   "cell_type": "code",
   "execution_count": 8,
   "metadata": {},
   "outputs": [
    {
     "name": "stderr",
     "output_type": "stream",
     "text": [
      "Warning message in RNGkind(\"Mersenne-Twister\", \"Inversion\", \"Rounding\"):\n",
      "\"non-uniform 'Rounding' sampler used\""
     ]
    },
    {
     "data": {
      "text/html": [
       "<ol class=list-inline>\n",
       "\t<li>16</li>\n",
       "\t<li>1</li>\n",
       "\t<li>28</li>\n",
       "\t<li>4</li>\n",
       "\t<li>40</li>\n",
       "\t<li>43</li>\n",
       "\t<li>37</li>\n",
       "\t<li>46</li>\n",
       "\t<li>52</li>\n",
       "\t<li>10</li>\n",
       "</ol>\n"
      ],
      "text/latex": [
       "\\begin{enumerate*}\n",
       "\\item 16\n",
       "\\item 1\n",
       "\\item 28\n",
       "\\item 4\n",
       "\\item 40\n",
       "\\item 43\n",
       "\\item 37\n",
       "\\item 46\n",
       "\\item 52\n",
       "\\item 10\n",
       "\\end{enumerate*}\n"
      ],
      "text/markdown": [
       "1. 16\n",
       "2. 1\n",
       "3. 28\n",
       "4. 4\n",
       "5. 40\n",
       "6. 43\n",
       "7. 37\n",
       "8. 46\n",
       "9. 52\n",
       "10. 10\n",
       "\n",
       "\n"
      ],
      "text/plain": [
       " [1] 16  1 28  4 40 43 37 46 52 10"
      ]
     },
     "metadata": {},
     "output_type": "display_data"
    },
    {
     "name": "stderr",
     "output_type": "stream",
     "text": [
      "Warning message in RNGkind(\"Mersenne-Twister\", \"Inversion\", \"Rounding\"):\n",
      "\"non-uniform 'Rounding' sampler used\""
     ]
    },
    {
     "data": {
      "text/html": [
       "<ol class=list-inline>\n",
       "\t<li>64</li>\n",
       "\t<li>71</li>\n",
       "\t<li>92</li>\n",
       "\t<li>15</li>\n",
       "\t<li>57</li>\n",
       "\t<li>127</li>\n",
       "\t<li>50</li>\n",
       "\t<li>57</li>\n",
       "\t<li>29</li>\n",
       "\t<li>57</li>\n",
       "</ol>\n"
      ],
      "text/latex": [
       "\\begin{enumerate*}\n",
       "\\item 64\n",
       "\\item 71\n",
       "\\item 92\n",
       "\\item 15\n",
       "\\item 57\n",
       "\\item 127\n",
       "\\item 50\n",
       "\\item 57\n",
       "\\item 29\n",
       "\\item 57\n",
       "\\end{enumerate*}\n"
      ],
      "text/markdown": [
       "1. 64\n",
       "2. 71\n",
       "3. 92\n",
       "4. 15\n",
       "5. 57\n",
       "6. 127\n",
       "7. 50\n",
       "8. 57\n",
       "9. 29\n",
       "10. 57\n",
       "\n",
       "\n"
      ],
      "text/plain": [
       " [1]  64  71  92  15  57 127  50  57  29  57"
      ]
     },
     "metadata": {},
     "output_type": "display_data"
    }
   ],
   "source": [
    "RNGversion(\"3.3.1\")\n",
    "set.seed(1923)\n",
    "samp_1 <- sample(seq_1, 10)\n",
    "samp_1\n",
    "\n",
    "RNGversion(\"3.3.1\")\n",
    "set.seed(1977)\n",
    "samp_2 <- sample(seq_2, 10, replace = T)\n",
    "samp_2"
   ]
  },
  {
   "cell_type": "markdown",
   "metadata": {},
   "source": [
    "# NAMES"
   ]
  },
  {
   "cell_type": "markdown",
   "metadata": {},
   "source": [
    "## QUESTION 4"
   ]
  },
  {
   "cell_type": "markdown",
   "metadata": {},
   "source": [
    "Name **samp_1** and **samp_2** with the first 10 letters (use built-in **letters** vector and `names()` function) as such:\n",
    "\n",
    "```r\n",
    "> samp_1\n",
    "\n",
    " a  b  c  d  e  f  g  h  i  j \n",
    "16  1 28  4 40 43 37 46 52 10 \n",
    "\n",
    "> samp_2\n",
    "\n",
    "  a   b   c   d   e   f   g   h   i   j \n",
    " 64  71  92  15  57 127  50  57  29  57 \n",
    "```\n"
   ]
  },
  {
   "cell_type": "markdown",
   "metadata": {},
   "source": [
    "## ANSWER 4"
   ]
  },
  {
   "cell_type": "code",
   "execution_count": 9,
   "metadata": {
    "scrolled": true
   },
   "outputs": [
    {
     "data": {
      "text/html": [
       "<dl class=dl-horizontal>\n",
       "\t<dt>a</dt>\n",
       "\t\t<dd>16</dd>\n",
       "\t<dt>b</dt>\n",
       "\t\t<dd>1</dd>\n",
       "\t<dt>c</dt>\n",
       "\t\t<dd>28</dd>\n",
       "\t<dt>d</dt>\n",
       "\t\t<dd>4</dd>\n",
       "\t<dt>e</dt>\n",
       "\t\t<dd>40</dd>\n",
       "\t<dt>f</dt>\n",
       "\t\t<dd>43</dd>\n",
       "\t<dt>g</dt>\n",
       "\t\t<dd>37</dd>\n",
       "\t<dt>h</dt>\n",
       "\t\t<dd>46</dd>\n",
       "\t<dt>i</dt>\n",
       "\t\t<dd>52</dd>\n",
       "\t<dt>j</dt>\n",
       "\t\t<dd>10</dd>\n",
       "</dl>\n"
      ],
      "text/latex": [
       "\\begin{description*}\n",
       "\\item[a] 16\n",
       "\\item[b] 1\n",
       "\\item[c] 28\n",
       "\\item[d] 4\n",
       "\\item[e] 40\n",
       "\\item[f] 43\n",
       "\\item[g] 37\n",
       "\\item[h] 46\n",
       "\\item[i] 52\n",
       "\\item[j] 10\n",
       "\\end{description*}\n"
      ],
      "text/markdown": [
       "a\n",
       ":   16b\n",
       ":   1c\n",
       ":   28d\n",
       ":   4e\n",
       ":   40f\n",
       ":   43g\n",
       ":   37h\n",
       ":   46i\n",
       ":   52j\n",
       ":   10\n",
       "\n"
      ],
      "text/plain": [
       " a  b  c  d  e  f  g  h  i  j \n",
       "16  1 28  4 40 43 37 46 52 10 "
      ]
     },
     "metadata": {},
     "output_type": "display_data"
    },
    {
     "data": {
      "text/html": [
       "<dl class=dl-horizontal>\n",
       "\t<dt>a</dt>\n",
       "\t\t<dd>64</dd>\n",
       "\t<dt>b</dt>\n",
       "\t\t<dd>71</dd>\n",
       "\t<dt>c</dt>\n",
       "\t\t<dd>92</dd>\n",
       "\t<dt>d</dt>\n",
       "\t\t<dd>15</dd>\n",
       "\t<dt>e</dt>\n",
       "\t\t<dd>57</dd>\n",
       "\t<dt>f</dt>\n",
       "\t\t<dd>127</dd>\n",
       "\t<dt>g</dt>\n",
       "\t\t<dd>50</dd>\n",
       "\t<dt>h</dt>\n",
       "\t\t<dd>57</dd>\n",
       "\t<dt>i</dt>\n",
       "\t\t<dd>29</dd>\n",
       "\t<dt>j</dt>\n",
       "\t\t<dd>57</dd>\n",
       "</dl>\n"
      ],
      "text/latex": [
       "\\begin{description*}\n",
       "\\item[a] 64\n",
       "\\item[b] 71\n",
       "\\item[c] 92\n",
       "\\item[d] 15\n",
       "\\item[e] 57\n",
       "\\item[f] 127\n",
       "\\item[g] 50\n",
       "\\item[h] 57\n",
       "\\item[i] 29\n",
       "\\item[j] 57\n",
       "\\end{description*}\n"
      ],
      "text/markdown": [
       "a\n",
       ":   64b\n",
       ":   71c\n",
       ":   92d\n",
       ":   15e\n",
       ":   57f\n",
       ":   127g\n",
       ":   50h\n",
       ":   57i\n",
       ":   29j\n",
       ":   57\n",
       "\n"
      ],
      "text/plain": [
       "  a   b   c   d   e   f   g   h   i   j \n",
       " 64  71  92  15  57 127  50  57  29  57 "
      ]
     },
     "metadata": {},
     "output_type": "display_data"
    }
   ],
   "source": [
    "names(samp_1) <- letters[1:10]\n",
    "samp_1\n",
    "\n",
    "names(samp_2) <- letters[1:10]\n",
    "samp_2"
   ]
  },
  {
   "cell_type": "markdown",
   "metadata": {},
   "source": [
    "# ORDER AND SORT"
   ]
  },
  {
   "cell_type": "markdown",
   "metadata": {},
   "source": [
    "## ORDER"
   ]
  },
  {
   "cell_type": "markdown",
   "metadata": {},
   "source": [
    "### QUESTION 5"
   ]
  },
  {
   "cell_type": "markdown",
   "metadata": {},
   "source": [
    "Get the ascending and descending orders of **samp_1** and save into **samp_1_asc** and **samp_1_desc** as such:\n",
    "\n",
    "```r\n",
    "> samp_1_asc\n",
    "\n",
    " [1]  2  4 10  1  3  7  5  6  8  9\n",
    "\n",
    "> samp_1_desc\n",
    "\n",
    " [1]  9  8  6  5  7  3  1 10  4  2\n",
    "```"
   ]
  },
  {
   "cell_type": "markdown",
   "metadata": {},
   "source": [
    "##### ANSWER 5"
   ]
  },
  {
   "cell_type": "code",
   "execution_count": 10,
   "metadata": {},
   "outputs": [
    {
     "data": {
      "text/html": [
       "<dl class=dl-horizontal>\n",
       "\t<dt>a</dt>\n",
       "\t\t<dd>16</dd>\n",
       "\t<dt>b</dt>\n",
       "\t\t<dd>1</dd>\n",
       "\t<dt>c</dt>\n",
       "\t\t<dd>28</dd>\n",
       "\t<dt>d</dt>\n",
       "\t\t<dd>4</dd>\n",
       "\t<dt>e</dt>\n",
       "\t\t<dd>40</dd>\n",
       "\t<dt>f</dt>\n",
       "\t\t<dd>43</dd>\n",
       "\t<dt>g</dt>\n",
       "\t\t<dd>37</dd>\n",
       "\t<dt>h</dt>\n",
       "\t\t<dd>46</dd>\n",
       "\t<dt>i</dt>\n",
       "\t\t<dd>52</dd>\n",
       "\t<dt>j</dt>\n",
       "\t\t<dd>10</dd>\n",
       "</dl>\n"
      ],
      "text/latex": [
       "\\begin{description*}\n",
       "\\item[a] 16\n",
       "\\item[b] 1\n",
       "\\item[c] 28\n",
       "\\item[d] 4\n",
       "\\item[e] 40\n",
       "\\item[f] 43\n",
       "\\item[g] 37\n",
       "\\item[h] 46\n",
       "\\item[i] 52\n",
       "\\item[j] 10\n",
       "\\end{description*}\n"
      ],
      "text/markdown": [
       "a\n",
       ":   16b\n",
       ":   1c\n",
       ":   28d\n",
       ":   4e\n",
       ":   40f\n",
       ":   43g\n",
       ":   37h\n",
       ":   46i\n",
       ":   52j\n",
       ":   10\n",
       "\n"
      ],
      "text/plain": [
       " a  b  c  d  e  f  g  h  i  j \n",
       "16  1 28  4 40 43 37 46 52 10 "
      ]
     },
     "metadata": {},
     "output_type": "display_data"
    },
    {
     "data": {
      "text/html": [
       "<ol class=list-inline>\n",
       "\t<li>2</li>\n",
       "\t<li>4</li>\n",
       "\t<li>10</li>\n",
       "\t<li>1</li>\n",
       "\t<li>3</li>\n",
       "\t<li>7</li>\n",
       "\t<li>5</li>\n",
       "\t<li>6</li>\n",
       "\t<li>8</li>\n",
       "\t<li>9</li>\n",
       "</ol>\n"
      ],
      "text/latex": [
       "\\begin{enumerate*}\n",
       "\\item 2\n",
       "\\item 4\n",
       "\\item 10\n",
       "\\item 1\n",
       "\\item 3\n",
       "\\item 7\n",
       "\\item 5\n",
       "\\item 6\n",
       "\\item 8\n",
       "\\item 9\n",
       "\\end{enumerate*}\n"
      ],
      "text/markdown": [
       "1. 2\n",
       "2. 4\n",
       "3. 10\n",
       "4. 1\n",
       "5. 3\n",
       "6. 7\n",
       "7. 5\n",
       "8. 6\n",
       "9. 8\n",
       "10. 9\n",
       "\n",
       "\n"
      ],
      "text/plain": [
       " [1]  2  4 10  1  3  7  5  6  8  9"
      ]
     },
     "metadata": {},
     "output_type": "display_data"
    },
    {
     "data": {
      "text/html": [
       "<ol class=list-inline>\n",
       "\t<li>9</li>\n",
       "\t<li>8</li>\n",
       "\t<li>6</li>\n",
       "\t<li>5</li>\n",
       "\t<li>7</li>\n",
       "\t<li>3</li>\n",
       "\t<li>1</li>\n",
       "\t<li>10</li>\n",
       "\t<li>4</li>\n",
       "\t<li>2</li>\n",
       "</ol>\n"
      ],
      "text/latex": [
       "\\begin{enumerate*}\n",
       "\\item 9\n",
       "\\item 8\n",
       "\\item 6\n",
       "\\item 5\n",
       "\\item 7\n",
       "\\item 3\n",
       "\\item 1\n",
       "\\item 10\n",
       "\\item 4\n",
       "\\item 2\n",
       "\\end{enumerate*}\n"
      ],
      "text/markdown": [
       "1. 9\n",
       "2. 8\n",
       "3. 6\n",
       "4. 5\n",
       "5. 7\n",
       "6. 3\n",
       "7. 1\n",
       "8. 10\n",
       "9. 4\n",
       "10. 2\n",
       "\n",
       "\n"
      ],
      "text/plain": [
       " [1]  9  8  6  5  7  3  1 10  4  2"
      ]
     },
     "metadata": {},
     "output_type": "display_data"
    }
   ],
   "source": [
    "samp_1\n",
    "samp_1_asc <- order(samp_1)\n",
    "samp_1_asc\n",
    "\n",
    "samp_1_desc <- order(samp_1, decreasing = T)\n",
    "samp_1_desc"
   ]
  },
  {
   "cell_type": "markdown",
   "metadata": {},
   "source": [
    "### QUESTION 6"
   ]
  },
  {
   "cell_type": "markdown",
   "metadata": {},
   "source": [
    "Subset **samp_1** using the **samp_1_asc** and **samp_1_desc** vectors as indices as such:\n",
    "\n",
    "```r\n",
    "> # Your code here\n",
    "\n",
    " b  d  j  a  c  g  e  f  h  i \n",
    " 1  4 10 16 28 37 40 43 46 52 \n",
    "```"
   ]
  },
  {
   "cell_type": "markdown",
   "metadata": {},
   "source": [
    "### ANSWER 6"
   ]
  },
  {
   "cell_type": "code",
   "execution_count": 11,
   "metadata": {},
   "outputs": [
    {
     "data": {
      "text/html": [
       "<dl class=dl-horizontal>\n",
       "\t<dt>b</dt>\n",
       "\t\t<dd>1</dd>\n",
       "\t<dt>d</dt>\n",
       "\t\t<dd>4</dd>\n",
       "\t<dt>j</dt>\n",
       "\t\t<dd>10</dd>\n",
       "\t<dt>a</dt>\n",
       "\t\t<dd>16</dd>\n",
       "\t<dt>c</dt>\n",
       "\t\t<dd>28</dd>\n",
       "\t<dt>g</dt>\n",
       "\t\t<dd>37</dd>\n",
       "\t<dt>e</dt>\n",
       "\t\t<dd>40</dd>\n",
       "\t<dt>f</dt>\n",
       "\t\t<dd>43</dd>\n",
       "\t<dt>h</dt>\n",
       "\t\t<dd>46</dd>\n",
       "\t<dt>i</dt>\n",
       "\t\t<dd>52</dd>\n",
       "</dl>\n"
      ],
      "text/latex": [
       "\\begin{description*}\n",
       "\\item[b] 1\n",
       "\\item[d] 4\n",
       "\\item[j] 10\n",
       "\\item[a] 16\n",
       "\\item[c] 28\n",
       "\\item[g] 37\n",
       "\\item[e] 40\n",
       "\\item[f] 43\n",
       "\\item[h] 46\n",
       "\\item[i] 52\n",
       "\\end{description*}\n"
      ],
      "text/markdown": [
       "b\n",
       ":   1d\n",
       ":   4j\n",
       ":   10a\n",
       ":   16c\n",
       ":   28g\n",
       ":   37e\n",
       ":   40f\n",
       ":   43h\n",
       ":   46i\n",
       ":   52\n",
       "\n"
      ],
      "text/plain": [
       " b  d  j  a  c  g  e  f  h  i \n",
       " 1  4 10 16 28 37 40 43 46 52 "
      ]
     },
     "metadata": {},
     "output_type": "display_data"
    },
    {
     "data": {
      "text/html": [
       "<dl class=dl-horizontal>\n",
       "\t<dt>i</dt>\n",
       "\t\t<dd>52</dd>\n",
       "\t<dt>h</dt>\n",
       "\t\t<dd>46</dd>\n",
       "\t<dt>f</dt>\n",
       "\t\t<dd>43</dd>\n",
       "\t<dt>e</dt>\n",
       "\t\t<dd>40</dd>\n",
       "\t<dt>g</dt>\n",
       "\t\t<dd>37</dd>\n",
       "\t<dt>c</dt>\n",
       "\t\t<dd>28</dd>\n",
       "\t<dt>a</dt>\n",
       "\t\t<dd>16</dd>\n",
       "\t<dt>j</dt>\n",
       "\t\t<dd>10</dd>\n",
       "\t<dt>d</dt>\n",
       "\t\t<dd>4</dd>\n",
       "\t<dt>b</dt>\n",
       "\t\t<dd>1</dd>\n",
       "</dl>\n"
      ],
      "text/latex": [
       "\\begin{description*}\n",
       "\\item[i] 52\n",
       "\\item[h] 46\n",
       "\\item[f] 43\n",
       "\\item[e] 40\n",
       "\\item[g] 37\n",
       "\\item[c] 28\n",
       "\\item[a] 16\n",
       "\\item[j] 10\n",
       "\\item[d] 4\n",
       "\\item[b] 1\n",
       "\\end{description*}\n"
      ],
      "text/markdown": [
       "i\n",
       ":   52h\n",
       ":   46f\n",
       ":   43e\n",
       ":   40g\n",
       ":   37c\n",
       ":   28a\n",
       ":   16j\n",
       ":   10d\n",
       ":   4b\n",
       ":   1\n",
       "\n"
      ],
      "text/plain": [
       " i  h  f  e  g  c  a  j  d  b \n",
       "52 46 43 40 37 28 16 10  4  1 "
      ]
     },
     "metadata": {},
     "output_type": "display_data"
    }
   ],
   "source": [
    "samp_1[samp_1_asc]\n",
    "samp_1[samp_1_desc]"
   ]
  },
  {
   "cell_type": "markdown",
   "metadata": {},
   "source": [
    "## ORDER BY A DIFFERENT VECTOR"
   ]
  },
  {
   "cell_type": "markdown",
   "metadata": {},
   "source": [
    "### QUESTION 7"
   ]
  },
  {
   "cell_type": "markdown",
   "metadata": {},
   "source": [
    "Subset **samp_2** with the ascending order of **samp_1** vector (you can reuse **samp_1_asc**) as such:\n",
    "\n",
    "```r\n",
    "> # Your code here\n",
    "\n",
    " b   d   j   a   c   g   e   f   h   i \n",
    " 71  15  57  64  92  50  57 127  57  29\n",
    "```"
   ]
  },
  {
   "cell_type": "markdown",
   "metadata": {},
   "source": [
    "### ANSWER 7"
   ]
  },
  {
   "cell_type": "code",
   "execution_count": 12,
   "metadata": {},
   "outputs": [
    {
     "data": {
      "text/html": [
       "<dl class=dl-horizontal>\n",
       "\t<dt>b</dt>\n",
       "\t\t<dd>71</dd>\n",
       "\t<dt>d</dt>\n",
       "\t\t<dd>15</dd>\n",
       "\t<dt>j</dt>\n",
       "\t\t<dd>57</dd>\n",
       "\t<dt>a</dt>\n",
       "\t\t<dd>64</dd>\n",
       "\t<dt>c</dt>\n",
       "\t\t<dd>92</dd>\n",
       "\t<dt>g</dt>\n",
       "\t\t<dd>50</dd>\n",
       "\t<dt>e</dt>\n",
       "\t\t<dd>57</dd>\n",
       "\t<dt>f</dt>\n",
       "\t\t<dd>127</dd>\n",
       "\t<dt>h</dt>\n",
       "\t\t<dd>57</dd>\n",
       "\t<dt>i</dt>\n",
       "\t\t<dd>29</dd>\n",
       "</dl>\n"
      ],
      "text/latex": [
       "\\begin{description*}\n",
       "\\item[b] 71\n",
       "\\item[d] 15\n",
       "\\item[j] 57\n",
       "\\item[a] 64\n",
       "\\item[c] 92\n",
       "\\item[g] 50\n",
       "\\item[e] 57\n",
       "\\item[f] 127\n",
       "\\item[h] 57\n",
       "\\item[i] 29\n",
       "\\end{description*}\n"
      ],
      "text/markdown": [
       "b\n",
       ":   71d\n",
       ":   15j\n",
       ":   57a\n",
       ":   64c\n",
       ":   92g\n",
       ":   50e\n",
       ":   57f\n",
       ":   127h\n",
       ":   57i\n",
       ":   29\n",
       "\n"
      ],
      "text/plain": [
       "  b   d   j   a   c   g   e   f   h   i \n",
       " 71  15  57  64  92  50  57 127  57  29 "
      ]
     },
     "metadata": {},
     "output_type": "display_data"
    }
   ],
   "source": [
    "samp_2[samp_1_asc]"
   ]
  },
  {
   "cell_type": "markdown",
   "metadata": {},
   "source": [
    "# SUBSET BY CONDITION"
   ]
  },
  {
   "cell_type": "markdown",
   "metadata": {},
   "source": [
    "## QUESTION 8"
   ]
  },
  {
   "cell_type": "markdown",
   "metadata": {},
   "source": [
    "- Create a boolean vector of T/F values for whether **samp_1** values are **greater than 30** as such:\n",
    "\n",
    "```r\n",
    "> # Your code here\n",
    "\n",
    "    a     b     c     d     e     f     g     h     i     j \n",
    "FALSE FALSE FALSE FALSE  TRUE  TRUE  TRUE  TRUE  TRUE FALSE \n",
    "```\n",
    "\n",
    "- Subset **samp_1** values **greater than 30** as such:\n",
    "\n",
    "```r\n",
    "> # Your code here\n",
    "\n",
    " e  f  g  h  i \n",
    "40 43 37 46 52 \n",
    "```\n",
    "\n",
    "- Subset **samp_2** with the condition where **samp_1** values are **greater than 30** (Hint: subset **samp_2** using the condition in the above step!) as such:\n",
    "\n",
    "```r\n",
    "> # Your code here\n",
    "\n",
    " e   f   g   h   i \n",
    " 57 127  50  57  29 \n",
    "```"
   ]
  },
  {
   "cell_type": "markdown",
   "metadata": {},
   "source": [
    "## ANSWER 8"
   ]
  },
  {
   "cell_type": "code",
   "execution_count": 13,
   "metadata": {},
   "outputs": [
    {
     "data": {
      "text/html": [
       "<dl class=dl-horizontal>\n",
       "\t<dt>a</dt>\n",
       "\t\t<dd>16</dd>\n",
       "\t<dt>b</dt>\n",
       "\t\t<dd>1</dd>\n",
       "\t<dt>c</dt>\n",
       "\t\t<dd>28</dd>\n",
       "\t<dt>d</dt>\n",
       "\t\t<dd>4</dd>\n",
       "\t<dt>e</dt>\n",
       "\t\t<dd>40</dd>\n",
       "\t<dt>f</dt>\n",
       "\t\t<dd>43</dd>\n",
       "\t<dt>g</dt>\n",
       "\t\t<dd>37</dd>\n",
       "\t<dt>h</dt>\n",
       "\t\t<dd>46</dd>\n",
       "\t<dt>i</dt>\n",
       "\t\t<dd>52</dd>\n",
       "\t<dt>j</dt>\n",
       "\t\t<dd>10</dd>\n",
       "</dl>\n"
      ],
      "text/latex": [
       "\\begin{description*}\n",
       "\\item[a] 16\n",
       "\\item[b] 1\n",
       "\\item[c] 28\n",
       "\\item[d] 4\n",
       "\\item[e] 40\n",
       "\\item[f] 43\n",
       "\\item[g] 37\n",
       "\\item[h] 46\n",
       "\\item[i] 52\n",
       "\\item[j] 10\n",
       "\\end{description*}\n"
      ],
      "text/markdown": [
       "a\n",
       ":   16b\n",
       ":   1c\n",
       ":   28d\n",
       ":   4e\n",
       ":   40f\n",
       ":   43g\n",
       ":   37h\n",
       ":   46i\n",
       ":   52j\n",
       ":   10\n",
       "\n"
      ],
      "text/plain": [
       " a  b  c  d  e  f  g  h  i  j \n",
       "16  1 28  4 40 43 37 46 52 10 "
      ]
     },
     "metadata": {},
     "output_type": "display_data"
    },
    {
     "data": {
      "text/html": [
       "<dl class=dl-horizontal>\n",
       "\t<dt>a</dt>\n",
       "\t\t<dd>FALSE</dd>\n",
       "\t<dt>b</dt>\n",
       "\t\t<dd>FALSE</dd>\n",
       "\t<dt>c</dt>\n",
       "\t\t<dd>FALSE</dd>\n",
       "\t<dt>d</dt>\n",
       "\t\t<dd>FALSE</dd>\n",
       "\t<dt>e</dt>\n",
       "\t\t<dd>TRUE</dd>\n",
       "\t<dt>f</dt>\n",
       "\t\t<dd>TRUE</dd>\n",
       "\t<dt>g</dt>\n",
       "\t\t<dd>TRUE</dd>\n",
       "\t<dt>h</dt>\n",
       "\t\t<dd>TRUE</dd>\n",
       "\t<dt>i</dt>\n",
       "\t\t<dd>TRUE</dd>\n",
       "\t<dt>j</dt>\n",
       "\t\t<dd>FALSE</dd>\n",
       "</dl>\n"
      ],
      "text/latex": [
       "\\begin{description*}\n",
       "\\item[a] FALSE\n",
       "\\item[b] FALSE\n",
       "\\item[c] FALSE\n",
       "\\item[d] FALSE\n",
       "\\item[e] TRUE\n",
       "\\item[f] TRUE\n",
       "\\item[g] TRUE\n",
       "\\item[h] TRUE\n",
       "\\item[i] TRUE\n",
       "\\item[j] FALSE\n",
       "\\end{description*}\n"
      ],
      "text/markdown": [
       "a\n",
       ":   FALSEb\n",
       ":   FALSEc\n",
       ":   FALSEd\n",
       ":   FALSEe\n",
       ":   TRUEf\n",
       ":   TRUEg\n",
       ":   TRUEh\n",
       ":   TRUEi\n",
       ":   TRUEj\n",
       ":   FALSE\n",
       "\n"
      ],
      "text/plain": [
       "    a     b     c     d     e     f     g     h     i     j \n",
       "FALSE FALSE FALSE FALSE  TRUE  TRUE  TRUE  TRUE  TRUE FALSE "
      ]
     },
     "metadata": {},
     "output_type": "display_data"
    },
    {
     "data": {
      "text/html": [
       "<dl class=dl-horizontal>\n",
       "\t<dt>e</dt>\n",
       "\t\t<dd>40</dd>\n",
       "\t<dt>f</dt>\n",
       "\t\t<dd>43</dd>\n",
       "\t<dt>g</dt>\n",
       "\t\t<dd>37</dd>\n",
       "\t<dt>h</dt>\n",
       "\t\t<dd>46</dd>\n",
       "\t<dt>i</dt>\n",
       "\t\t<dd>52</dd>\n",
       "</dl>\n"
      ],
      "text/latex": [
       "\\begin{description*}\n",
       "\\item[e] 40\n",
       "\\item[f] 43\n",
       "\\item[g] 37\n",
       "\\item[h] 46\n",
       "\\item[i] 52\n",
       "\\end{description*}\n"
      ],
      "text/markdown": [
       "e\n",
       ":   40f\n",
       ":   43g\n",
       ":   37h\n",
       ":   46i\n",
       ":   52\n",
       "\n"
      ],
      "text/plain": [
       " e  f  g  h  i \n",
       "40 43 37 46 52 "
      ]
     },
     "metadata": {},
     "output_type": "display_data"
    },
    {
     "data": {
      "text/html": [
       "<dl class=dl-horizontal>\n",
       "\t<dt>e</dt>\n",
       "\t\t<dd>57</dd>\n",
       "\t<dt>f</dt>\n",
       "\t\t<dd>127</dd>\n",
       "\t<dt>g</dt>\n",
       "\t\t<dd>50</dd>\n",
       "\t<dt>h</dt>\n",
       "\t\t<dd>57</dd>\n",
       "\t<dt>i</dt>\n",
       "\t\t<dd>29</dd>\n",
       "</dl>\n"
      ],
      "text/latex": [
       "\\begin{description*}\n",
       "\\item[e] 57\n",
       "\\item[f] 127\n",
       "\\item[g] 50\n",
       "\\item[h] 57\n",
       "\\item[i] 29\n",
       "\\end{description*}\n"
      ],
      "text/markdown": [
       "e\n",
       ":   57f\n",
       ":   127g\n",
       ":   50h\n",
       ":   57i\n",
       ":   29\n",
       "\n"
      ],
      "text/plain": [
       "  e   f   g   h   i \n",
       " 57 127  50  57  29 "
      ]
     },
     "metadata": {},
     "output_type": "display_data"
    }
   ],
   "source": [
    "samp_1\n",
    "samp_1 > 30\n",
    "\n",
    "samp_1[samp_1 > 30]\n",
    "\n",
    "samp_2[samp_1 > 30]"
   ]
  },
  {
   "cell_type": "markdown",
   "metadata": {},
   "source": [
    "## QUESTION 9"
   ]
  },
  {
   "cell_type": "markdown",
   "metadata": {},
   "source": [
    "Create **names** and corresponding **cities** vectors:"
   ]
  },
  {
   "cell_type": "code",
   "execution_count": 14,
   "metadata": {},
   "outputs": [
    {
     "data": {
      "text/html": [
       "<ol class=list-inline>\n",
       "\t<li>'ahmet'</li>\n",
       "\t<li>'fatma'</li>\n",
       "\t<li>'mehmet'</li>\n",
       "</ol>\n"
      ],
      "text/latex": [
       "\\begin{enumerate*}\n",
       "\\item 'ahmet'\n",
       "\\item 'fatma'\n",
       "\\item 'mehmet'\n",
       "\\end{enumerate*}\n"
      ],
      "text/markdown": [
       "1. 'ahmet'\n",
       "2. 'fatma'\n",
       "3. 'mehmet'\n",
       "\n",
       "\n"
      ],
      "text/plain": [
       "[1] \"ahmet\"  \"fatma\"  \"mehmet\""
      ]
     },
     "metadata": {},
     "output_type": "display_data"
    },
    {
     "data": {
      "text/html": [
       "<ol class=list-inline>\n",
       "\t<li>'izmir'</li>\n",
       "\t<li>'izmir'</li>\n",
       "\t<li>'istanbul'</li>\n",
       "</ol>\n"
      ],
      "text/latex": [
       "\\begin{enumerate*}\n",
       "\\item 'izmir'\n",
       "\\item 'izmir'\n",
       "\\item 'istanbul'\n",
       "\\end{enumerate*}\n"
      ],
      "text/markdown": [
       "1. 'izmir'\n",
       "2. 'izmir'\n",
       "3. 'istanbul'\n",
       "\n",
       "\n"
      ],
      "text/plain": [
       "[1] \"izmir\"    \"izmir\"    \"istanbul\""
      ]
     },
     "metadata": {},
     "output_type": "display_data"
    }
   ],
   "source": [
    "names <- c(\"ahmet\", \"fatma\", \"mehmet\")\n",
    "cities <- c(\"izmir\", \"izmir\", \"istanbul\")\n",
    "names\n",
    "cities"
   ]
  },
  {
   "cell_type": "markdown",
   "metadata": {},
   "source": [
    "Subset names that matches **\"izmir\"** in cities vector as such:\n",
    "\n",
    "```r\n",
    "> # Your code here\n",
    "\n",
    "[1] \"ahmet\" \"fatma\"\n",
    "```"
   ]
  },
  {
   "cell_type": "markdown",
   "metadata": {},
   "source": [
    "## ANSWER 9"
   ]
  },
  {
   "cell_type": "code",
   "execution_count": 15,
   "metadata": {},
   "outputs": [
    {
     "data": {
      "text/html": [
       "<ol class=list-inline>\n",
       "\t<li>'ahmet'</li>\n",
       "\t<li>'fatma'</li>\n",
       "</ol>\n"
      ],
      "text/latex": [
       "\\begin{enumerate*}\n",
       "\\item 'ahmet'\n",
       "\\item 'fatma'\n",
       "\\end{enumerate*}\n"
      ],
      "text/markdown": [
       "1. 'ahmet'\n",
       "2. 'fatma'\n",
       "\n",
       "\n"
      ],
      "text/plain": [
       "[1] \"ahmet\" \"fatma\""
      ]
     },
     "metadata": {},
     "output_type": "display_data"
    }
   ],
   "source": [
    "names[cities == \"izmir\"]"
   ]
  },
  {
   "cell_type": "markdown",
   "metadata": {},
   "source": [
    "# BASIC PLOTS"
   ]
  },
  {
   "cell_type": "markdown",
   "metadata": {},
   "source": [
    "## Question 10 \n",
    "\n",
    "GPA's of a graduating class of economics students are given in a normal distribution, with a mean of 2.94 and a standart deviation of 0.31. There are 79 students in total.  Draw a histogram of GPA's with 0.2 GPA per break. Make sure to show the limits of x axis clearly.\n",
    "\n",
    "Hint : You should use the \"xlim\" parameter to specify the x axis limits.\n",
    "\n",
    "\n",
    "Your output should be,\n",
    "<img src=\"https://user-images.githubusercontent.com/116463479/224458684-7a84e085-7639-4d23-b4b0-53386d570b3e.png\"  width=\"60%\">"
   ]
  },
  {
   "cell_type": "code",
   "execution_count": 16,
   "metadata": {},
   "outputs": [
    {
     "name": "stderr",
     "output_type": "stream",
     "text": [
      "Warning message in RNGkind(\"Mersenne-Twister\", \"Inversion\", \"Rounding\"):\n",
      "\"non-uniform 'Rounding' sampler used\""
     ]
    },
    {
     "data": {
      "image/png": "[encoded data removed]",
      "text/plain": [
       "Plot with title \"Histogram of gpa_list\""
      ]
     },
     "metadata": {},
     "output_type": "display_data"
    }
   ],
   "source": [
    "RNGversion(\"3.3.1\")\n",
    "set.seed(2023)\n",
    "gpa_list <- rnorm(79, mean = 2.94, sd = 0.31)\n",
    "hist(gpa_list, breaks = (max(gpa_list) - min(gpa_list)) / 0.2, xlim = c(2,4))"
   ]
  },
  {
   "cell_type": "markdown",
   "metadata": {},
   "source": [
    "## Question 11\n",
    "\n",
    "- Generate a vector of 12 random integers (between 1 and 30) that represent the number of baby rabbits born in each month over one year period\n",
    "\n",
    "- Create a vector of month names\n",
    "\n",
    "- Plot a bar chart of the rabbit births\n",
    "\n",
    "- Set the x-axis limits to include all months\n",
    "\n",
    "- Use name.args() function in order to show months\n",
    "\n",
    "- Set las=3 to see all the month names that you have\n",
    "\n",
    "- Set the seed to 1907\n",
    "\n",
    "Your output should look like:\n",
    "\n",
    "<img src=\"https://user-images.githubusercontent.com/115809121/224556032-15e0710b-a15b-48a5-92f2-ea9b774ff05b.png\"  width=\"60%\">\n"
   ]
  },
  {
   "cell_type": "code",
   "execution_count": 17,
   "metadata": {},
   "outputs": [
    {
     "name": "stderr",
     "output_type": "stream",
     "text": [
      "Warning message in RNGkind(\"Mersenne-Twister\", \"Inversion\", \"Rounding\"):\n",
      "\"non-uniform 'Rounding' sampler used\""
     ]
    },
    {
     "data": {
      "image/png": "[encoded data removed]",
      "text/plain": [
       "Plot with title \"Rabbit Births by Month\""
      ]
     },
     "metadata": {},
     "output_type": "display_data"
    }
   ],
   "source": [
    "RNGversion(\"3.3.1\")\n",
    "set.seed(1907)\n",
    "rabbit_births <- sample(1:30, 12, replace=TRUE)\n",
    "months <- c(\"Jan\", \"Feb\", \"Mar\", \"Apr\", \"May\", \"Jun\", \"Jul\", \"Aug\", \"Sep\", \"Oct\", \"Nov\", \"Dec\")\n",
    "barplot(rabbit_births, names.arg = months, xlab = \"Month\", ylab = \"Number of Rabbit Births\", main = \"Rabbit Births by Month\", las = 3)"
   ]
  },
  {
   "cell_type": "markdown",
   "metadata": {},
   "source": [
    "## Question 12\n",
    "\n",
    "Imagine you are doing a research about the life expectancy of people, your respondents are 60 adults of full age. According to statictics, in 2020, life expectancy for women in Turkey was about 79 years, while life expectancy at birth for men was about 73 years on average.\n",
    "\n",
    "Part 1:\n",
    "\n",
    "  - Set the seed to 3 and use RNGversion \"3.3.1\".\n",
    "  - Create two variables called \"male\" and \"female\", containing 30 random numbers representing the ages of people. \n",
    "  - Plot the relationship between Male and Female Life Expectancy as a scatter plot. e.g. Male on the x axis and Female on the y axis. \n",
    "  - Name the plot \"Male and Female Life Expectancy\". Name the axis accordingly. *Hint: main, xlab and ylab arguments are responsible for the labels\n",
    "  - Represent male observations as blue circles and female observations as red squares.\n",
    "\n",
    "Part 2:\n",
    "\n",
    "*Additional task*. Visualise the Male and Female life expectancy on a barplot side by side. You can do it by adding beside = T argument to the function. Which plot (scatter or barplot) displays the data in a better way?\n",
    "*Hint: you can use cbind() function to combine male and female samples\n",
    "\n",
    "Your output should look like:\n",
    "<img src=\"https://user-images.githubusercontent.com/126676056/225077584-8a980256-8111-40cc-8986-c697776a7511.png\"  width=\"60%\">\n",
    "\n"
   ]
  },
  {
   "cell_type": "code",
   "execution_count": 2,
   "metadata": {},
   "outputs": [
    {
     "name": "stderr",
     "output_type": "stream",
     "text": [
      "Warning message in RNGkind(\"Mersenne-Twister\", \"Inversion\", \"Rounding\"):\n",
      "\"non-uniform 'Rounding' sampler used\""
     ]
    },
    {
     "data": {
      "image/png": "[encoded data removed]",
      "text/plain": [
       "Plot with title \"Male and Female Life Expectancy\""
      ]
     },
     "metadata": {},
     "output_type": "display_data"
    },
    {
     "data": {
      "image/png": "[encoded data removed]",
      "text/plain": [
       "Plot with title \"Male VS Female Life Expectancy\""
      ]
     },
     "metadata": {},
     "output_type": "display_data"
    }
   ],
   "source": [
    "RNGversion(\"3.3.1\")\n",
    "set.seed(3)\n",
    "male <- sample(18:73, 30)\n",
    "female <- sample(18:79, 30)\n",
    "plot(male, female, main = \"Male and Female Life Expectancy\", xlab = \"Male\", ylab = \"Female\", col = c(\"blue\",\"red\"), pch = c(16,15) )\n",
    "\n",
    "\n",
    "data <- cbind(sort(male), sort(female))\n",
    "barplot(data, beside=T, main=\"Male VS Female Life Expectancy\")\n"
   ]
  },
  {
   "cell_type": "markdown",
   "metadata": {},
   "source": [
    "\n",
    "## Question 13\n",
    "\n",
    "In a 2005 study, researchers tried to figure out possible muscular growth differences between individuals who performed the same exercises. Total of 243 males and 342 females have examined. Let's try to replicate the research on R. \n",
    "\n",
    "Steps:\n",
    "1. Set RNGversion to \"3.3.1\" and seed to 1234\n",
    "2. Create a **histogram** for males, which consists of 243 normally distibuted numbers with a mean of 20 and standard deviation of 10\n",
    "3. Create a **histogram** for females, which consists of 342 normally distibuted numbers with a mean of 10 and standard deviation of 7\n",
    " \n",
    "4. Plot males' histogram with given specifications:<br>\n",
    "    - color: rgb(0,0,1,1/4)<br>\n",
    "    - x axis boundaries: from -20 to 60<br>\n",
    "    - y axis boundaries: from 0 to 100<br>\n",
    "    - plot name: \"Variability\"<br>\n",
    "    - x axis name: CSA Change (%)<br>\n",
    "    - y axis name: Subjects\n",
    "    \n",
    "5. Plot females' histogram, set color to _rgb(1,0,0,1/4)_ <br>\n",
    "\n",
    "    _(Hint: to add both histograms on the same plot, set \"add=TRUE\" in females' plot)_\n",
    "\n",
    "Your output should look like this:<br>\n",
    "<br>\n",
    "<img src=\"https://user-images.githubusercontent.com/77977634/225111005-3fb99643-193e-4564-bc5e-e4e3e8217293.png\"  width=\"60%\">\n"
   ]
  },
  {
   "cell_type": "code",
   "execution_count": 18,
   "metadata": {},
   "outputs": [
    {
     "name": "stderr",
     "output_type": "stream",
     "text": [
      "Warning message in RNGkind(\"Mersenne-Twister\", \"Inversion\", \"Rounding\"):\n",
      "\"non-uniform 'Rounding' sampler used\""
     ]
    },
    {
     "data": {
      "image/png": "[encoded data removed]",
      "text/plain": [
       "Plot with title \"Histogram of rnorm(243, mean = 20, sd = 10)\""
      ]
     },
     "metadata": {},
     "output_type": "display_data"
    },
    {
     "data": {
      "image/png": "[encoded data removed]",
      "text/plain": [
       "Plot with title \"Histogram of rnorm(342, mean = 10, sd = 7)\""
      ]
     },
     "metadata": {},
     "output_type": "display_data"
    },
    {
     "data": {
      "image/png": "[encoded data removed]",
      "text/plain": [
       "Plot with title \"Variability\""
      ]
     },
     "metadata": {},
     "output_type": "display_data"
    }
   ],
   "source": [
    "RNGversion(\"3.3.1\")\n",
    "set.seed(1234)\n",
    "\n",
    "males <- hist(rnorm(243, mean=20, sd=10))\n",
    "females <- hist(rnorm(342, mean=10, sd=7))\n",
    "\n",
    "plot(males, col=rgb(0,0,1,1/4), xlim=c(-20, 60), ylim=c(0,100), main=\"Variability\", xlab=\"CSA Change (%)\", ylab=\"Subjects\")\n",
    "plot(females, col=rgb(1,0,0,1/4), add=TRUE)"
   ]
  },
  {
   "cell_type": "markdown",
   "metadata": {},
   "source": [
    "## Question 14\n",
    "#set.seed(1923) and RNGversion(\"3.3.1\"),\n",
    "Create an uniformal distrubated vector which is between 1 and 30, and contains 15 elements. Sample 10 elements out of this vector.\n",
    "Then, find the elements which are higher than 10, and delete them from the vector.\n",
    "Show the last version of your vector.\n",
    "\n",
    "Your solution should be: </br>[1] 1.825429 9.701460"
   ]
  },
  {
   "cell_type": "code",
   "execution_count": 19,
   "metadata": {},
   "outputs": [
    {
     "name": "stderr",
     "output_type": "stream",
     "text": [
      "Warning message in RNGkind(\"Mersenne-Twister\", \"Inversion\", \"Rounding\"):\n",
      "\"non-uniform 'Rounding' sampler used\""
     ]
    },
    {
     "data": {
      "text/html": [
       "<ol class=list-inline>\n",
       "\t<li>1.82542926771566</li>\n",
       "\t<li>28.9936568147969</li>\n",
       "\t<li>28.9419827156235</li>\n",
       "\t<li>12.4680216668639</li>\n",
       "\t<li>9.70145965437405</li>\n",
       "\t<li>25.3037591753528</li>\n",
       "\t<li>10.0530206144322</li>\n",
       "\t<li>12.6714462579694</li>\n",
       "\t<li>16.0107149078976</li>\n",
       "\t<li>21.0424714544788</li>\n",
       "</ol>\n"
      ],
      "text/latex": [
       "\\begin{enumerate*}\n",
       "\\item 1.82542926771566\n",
       "\\item 28.9936568147969\n",
       "\\item 28.9419827156235\n",
       "\\item 12.4680216668639\n",
       "\\item 9.70145965437405\n",
       "\\item 25.3037591753528\n",
       "\\item 10.0530206144322\n",
       "\\item 12.6714462579694\n",
       "\\item 16.0107149078976\n",
       "\\item 21.0424714544788\n",
       "\\end{enumerate*}\n"
      ],
      "text/markdown": [
       "1. 1.82542926771566\n",
       "2. 28.9936568147969\n",
       "3. 28.9419827156235\n",
       "4. 12.4680216668639\n",
       "5. 9.70145965437405\n",
       "6. 25.3037591753528\n",
       "7. 10.0530206144322\n",
       "8. 12.6714462579694\n",
       "9. 16.0107149078976\n",
       "10. 21.0424714544788\n",
       "\n",
       "\n"
      ],
      "text/plain": [
       " [1]  1.825429 28.993657 28.941983 12.468022  9.701460 25.303759 10.053021\n",
       " [8] 12.671446 16.010715 21.042471"
      ]
     },
     "metadata": {},
     "output_type": "display_data"
    },
    {
     "data": {
      "text/html": [
       "<ol class=list-inline>\n",
       "\t<li>1.82542926771566</li>\n",
       "\t<li>9.70145965437405</li>\n",
       "</ol>\n"
      ],
      "text/latex": [
       "\\begin{enumerate*}\n",
       "\\item 1.82542926771566\n",
       "\\item 9.70145965437405\n",
       "\\end{enumerate*}\n"
      ],
      "text/markdown": [
       "1. 1.82542926771566\n",
       "2. 9.70145965437405\n",
       "\n",
       "\n"
      ],
      "text/plain": [
       "[1] 1.825429 9.701460"
      ]
     },
     "metadata": {},
     "output_type": "display_data"
    }
   ],
   "source": [
    "set.seed(1923)\n",
    "RNGversion(\"3.3.1\")\n",
    "x <- runif(15,1,30)\n",
    "y <- sample(x,10)\n",
    "y\n",
    "z <- y[y<=10]\n",
    "z"
   ]
  },
  {
   "attachments": {},
   "cell_type": "markdown",
   "metadata": {},
   "source": [
    "## Question 15\n",
    "\n",
    "In a roulette game, there are 37 slots which are from 0 to 36. 0 is painted by green, odd numbers are painted by red and even numbers are painted by black. For each turn,  croupier starts the wheel spinning and ball falls and comes to rest between any two metal portions of the wheel and it marks the winning number and color. Simulate a roulette game 100 times. Then draw a histogram of simulation and show how many times each number won. Change the color of breaks according to their roulette color. Set the seed to 100, and set RNGversion(\"3.3.1\")\n",
    "\n",
    "Your output should be:\n",
    "\n",
    "<img src=\"https://user-images.githubusercontent.com/126677248/225126378-c94de7c7-cf0f-49d6-a8e3-8a3b39c61208.png\"  width=\"60%\">\n",
    "\n"
   ]
  },
  {
   "cell_type": "code",
   "execution_count": 21,
   "metadata": {
    "scrolled": true
   },
   "outputs": [
    {
     "name": "stderr",
     "output_type": "stream",
     "text": [
      "Warning message in RNGkind(\"Mersenne-Twister\", \"Inversion\", \"Rounding\"):\n",
      "\"non-uniform 'Rounding' sampler used\""
     ]
    },
    {
     "data": {
      "image/png": "[encoded data removed]",
      "text/plain": [
       "Plot with title \"Roulette\""
      ]
     },
     "metadata": {},
     "output_type": "display_data"
    }
   ],
   "source": [
    "RNGversion(\"3.3.1\")\n",
    "set.seed(100)\n",
    "x <- 0:36\n",
    "roulette <- sample(x,100,TRUE)\n",
    "roulette_colors <- c()\n",
    "roulette_colors[x %% 2 == 0] <- \"Black\"\n",
    "roulette_colors[x %% 2 == 1] <- \"Red\"\n",
    "roulette_colors[x == 0] <- \"Green\"\n",
    "hist(roulette,breaks=length(x),col=roulette_colors,xlab= \"Slots\",main = \"Roulette\")"
   ]
  }
 ],
 "metadata": {
  "kernelspec": {
   "display_name": "R",
   "language": "R",
   "name": "ir"
  },
  "language_info": {
   "codemirror_mode": "r",
   "file_extension": ".r",
   "mimetype": "text/x-r-source",
   "name": "R",
   "pygments_lexer": "r",
   "version": "3.6.1"
  },
  "toc": {
   "nav_menu": {},
   "number_sections": true,
   "sideBar": true,
   "skip_h1_title": false,
   "title_cell": "Table of Contents",
   "title_sidebar": "Contents",
   "toc_cell": false,
   "toc_position": {
    "height": "calc(100% - 180px)",
    "left": "10px",
    "top": "150px",
    "width": "256px"
   },
   "toc_section_display": "block",
   "toc_window_display": true
  },
  "varInspector": {
   "cols": {
    "lenName": 16,
    "lenType": 16,
    "lenVar": 40
   },
   "kernels_config": {
    "python": {
     "delete_cmd_postfix": "",
     "delete_cmd_prefix": "del ",
     "library": "var_list.py",
     "varRefreshCmd": "print(var_dic_list())"
    },
    "r": {
     "delete_cmd_postfix": ") ",
     "delete_cmd_prefix": "rm(",
     "library": "var_list.r",
     "varRefreshCmd": "cat(var_dic_list()) "
    }
   },
   "types_to_exclude": [
    "module",
    "function",
    "builtin_function_or_method",
    "instance",
    "_Feature"
   ],
   "window_display": false
  }
 },
 "nbformat": 4,
 "nbformat_minor": 4
}
