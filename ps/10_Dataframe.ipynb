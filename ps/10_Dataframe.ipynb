{
 "cells": [
  {
   "cell_type": "code",
   "execution_count": null,
   "metadata": {},
   "outputs": [],
   "source": [
    "options(jupyter.rich_display = FALSE)"
   ]
  },
  {
   "cell_type": "markdown",
   "metadata": {},
   "source": [
    "# WRANGLING IRIS DATA FRAME\n",
    "\n",
    "**by Serhat Çevikel**"
   ]
  },
  {
   "cell_type": "markdown",
   "metadata": {},
   "source": [
    "## Summarizing a data frame with aggregate()"
   ]
  },
  {
   "cell_type": "markdown",
   "metadata": {},
   "source": [
    "iris is a famous database and is a built-in one in R:"
   ]
  },
  {
   "cell_type": "code",
   "execution_count": null,
   "metadata": {},
   "outputs": [],
   "source": [
    "iris"
   ]
  },
  {
   "cell_type": "markdown",
   "metadata": {},
   "source": [
    "Info on iris:"
   ]
  },
  {
   "cell_type": "code",
   "execution_count": null,
   "metadata": {},
   "outputs": [],
   "source": [
    "?iris"
   ]
  },
  {
   "cell_type": "markdown",
   "metadata": {},
   "source": [
    "```\n",
    "Format\n",
    "iris is a data frame with 150 cases (rows) and 5 variables (columns) named Sepal.Length, Sepal.Width, Petal.Length, Petal.Width, and Species.\n",
    "\n",
    "iris3 gives the same data arranged as a 3-dimensional array of size 50 by 4 by 3, as represented by S-PLUS. The first dimension gives the case number within the species subsample, the second the measurements with names Sepal L., Sepal W., Petal L., and Petal W., and the third the species.\n",
    "```"
   ]
  },
  {
   "cell_type": "markdown",
   "metadata": {},
   "source": [
    "See the unique values of species:"
   ]
  },
  {
   "cell_type": "code",
   "execution_count": null,
   "metadata": {},
   "outputs": [],
   "source": [
    "unique(iris$Species)"
   ]
  },
  {
   "cell_type": "markdown",
   "metadata": {},
   "source": [
    "And let's get the average\n",
    "\n",
    "- Sepal.Length\n",
    "- Sepal.Width\n",
    "- Petal.Length\n",
    "- Petal.Width\n",
    "\n",
    "values of each of the species"
   ]
  },
  {
   "cell_type": "markdown",
   "metadata": {},
   "source": [
    "First the long way:"
   ]
  },
  {
   "cell_type": "markdown",
   "metadata": {},
   "source": [
    "First split the data frame into a list across species:"
   ]
  },
  {
   "cell_type": "code",
   "execution_count": null,
   "metadata": {},
   "outputs": [],
   "source": [
    "iris_split <- split(iris[,-5], iris[,5])\n",
    "iris_split"
   ]
  },
  {
   "cell_type": "code",
   "execution_count": null,
   "metadata": {},
   "outputs": [],
   "source": [
    "str(iris_split)"
   ]
  },
  {
   "cell_type": "markdown",
   "metadata": {},
   "source": [
    "For each list item, we will get the mean of each column:"
   ]
  },
  {
   "cell_type": "code",
   "execution_count": null,
   "metadata": {},
   "outputs": [],
   "source": [
    "sapply(iris_split$setosa, mean)"
   ]
  },
  {
   "cell_type": "markdown",
   "metadata": {},
   "source": [
    "Now repeat this for each list item:"
   ]
  },
  {
   "cell_type": "code",
   "execution_count": null,
   "metadata": {},
   "outputs": [],
   "source": [
    "t(sapply(iris_split, function(x) sapply(x, mean)))"
   ]
  },
  {
   "cell_type": "markdown",
   "metadata": {},
   "source": [
    "Now let's do this with the aggregate function:"
   ]
  },
  {
   "cell_type": "code",
   "execution_count": null,
   "metadata": {},
   "outputs": [],
   "source": [
    "?aggregate"
   ]
  },
  {
   "cell_type": "markdown",
   "metadata": {},
   "source": [
    "```\n",
    "## S3 method for class 'data.frame'\n",
    "aggregate(x, by, FUN, ..., simplify = TRUE, drop = TRUE)\n",
    "\n",
    "Arguments\n",
    "x\t\n",
    "an R object.\n",
    "\n",
    "by\t\n",
    "a list of grouping elements, each as long as the variables in the data frame x. The elements are coerced to factors before use.\n",
    "\n",
    "FUN\t\n",
    "a function to compute the summary statistics which can be applied to all data subsets.\n",
    "\n",
    "simplify\t\n",
    "a logical indicating whether results should be simplified to a vector or matrix if possible.\n",
    "\n",
    "drop\t\n",
    "a logical indicating whether to drop unused combinations of grouping values. The non-default case drop=FALSE has been amended for R 3.5.0 to drop unused combinations.\n",
    "\n",
    "formula\t\n",
    "a formula, such as y ~ x or cbind(y1, y2) ~ x1 + x2, where the y variables are numeric data to be split into groups according to the grouping x variables (usually factors).\n",
    "\n",
    "data\t\n",
    "a data frame (or list) from which the variables in formula should be taken.\n",
    "```"
   ]
  },
  {
   "cell_type": "code",
   "execution_count": null,
   "metadata": {},
   "outputs": [],
   "source": [
    "averages <- aggregate(iris[,-5], by = list(iris[,5]), FUN = mean)"
   ]
  },
  {
   "cell_type": "code",
   "execution_count": null,
   "metadata": {},
   "outputs": [],
   "source": [
    "averages"
   ]
  },
  {
   "cell_type": "markdown",
   "metadata": {},
   "source": [
    "See that, average values of all four variables differ across the species"
   ]
  },
  {
   "cell_type": "markdown",
   "metadata": {},
   "source": [
    "## merge data frames"
   ]
  },
  {
   "cell_type": "markdown",
   "metadata": {},
   "source": [
    "Now let's merge the average values back into the original iris df"
   ]
  },
  {
   "cell_type": "code",
   "execution_count": null,
   "metadata": {},
   "outputs": [],
   "source": [
    "iris_avs <- merge(iris, averages, by.x = \"Species\", by.y = \"Group.1\")\n",
    "iris_avs"
   ]
  },
  {
   "cell_type": "markdown",
   "metadata": {},
   "source": [
    "Columns with x are the original values while columns with y are the average values"
   ]
  },
  {
   "cell_type": "markdown",
   "metadata": {},
   "source": [
    "Now let's get the difference from average values for all species and columns:"
   ]
  },
  {
   "cell_type": "code",
   "execution_count": null,
   "metadata": {},
   "outputs": [],
   "source": [
    "data.frame(iris$Species, iris_avs[,2:5] - iris_avs[,6:9])"
   ]
  },
  {
   "cell_type": "markdown",
   "metadata": {},
   "source": [
    "### merge types"
   ]
  },
  {
   "cell_type": "markdown",
   "metadata": {},
   "source": [
    "Now let's create a small sample: just the first rows of each species:"
   ]
  },
  {
   "cell_type": "code",
   "execution_count": null,
   "metadata": {},
   "outputs": [],
   "source": [
    "sample1 <- aggregate(iris[,-5], by = list(iris[,5]), FUN = head, 1)\n",
    "sample1"
   ]
  },
  {
   "cell_type": "markdown",
   "metadata": {},
   "source": [
    "Let's delete the virginica row from sample1 "
   ]
  },
  {
   "cell_type": "code",
   "execution_count": null,
   "metadata": {},
   "outputs": [],
   "source": [
    "sample2 <- sample1[-3,]\n",
    "sample2"
   ]
  },
  {
   "cell_type": "markdown",
   "metadata": {},
   "source": [
    "And from the averages df, let's delete the setosa row:"
   ]
  },
  {
   "cell_type": "code",
   "execution_count": null,
   "metadata": {},
   "outputs": [],
   "source": [
    "averages2 <- averages[-1,]\n",
    "averages2"
   ]
  },
  {
   "cell_type": "markdown",
   "metadata": {},
   "source": [
    "#### Left join"
   ]
  },
  {
   "cell_type": "markdown",
   "metadata": {},
   "source": [
    "Join the sepal lengths on species, keep all species categories on the LEFT df:"
   ]
  },
  {
   "cell_type": "code",
   "execution_count": null,
   "metadata": {},
   "outputs": [],
   "source": [
    "merge(sample2[,1:2], averages2[,1:2], by = \"Group.1\", all.x = T)"
   ]
  },
  {
   "cell_type": "markdown",
   "metadata": {},
   "source": [
    "#### Right join"
   ]
  },
  {
   "cell_type": "markdown",
   "metadata": {},
   "source": [
    "Now keep all species on the RIGHT df:"
   ]
  },
  {
   "cell_type": "code",
   "execution_count": null,
   "metadata": {},
   "outputs": [],
   "source": [
    "merge(sample2[,1:2], averages2[,1:2], by = \"Group.1\", all.y = T)"
   ]
  },
  {
   "cell_type": "markdown",
   "metadata": {},
   "source": [
    "#### Full outer join"
   ]
  },
  {
   "cell_type": "markdown",
   "metadata": {},
   "source": [
    "Take the union of species on either df:"
   ]
  },
  {
   "cell_type": "code",
   "execution_count": null,
   "metadata": {},
   "outputs": [],
   "source": [
    "merge(sample2[,1:2], averages2[,1:2], by = \"Group.1\", all = T)"
   ]
  },
  {
   "cell_type": "markdown",
   "metadata": {},
   "source": [
    "#### Inner join"
   ]
  },
  {
   "cell_type": "markdown",
   "metadata": {},
   "source": [
    "Keep only the common species:"
   ]
  },
  {
   "cell_type": "code",
   "execution_count": null,
   "metadata": {},
   "outputs": [],
   "source": [
    "merge(sample2[,1:2], averages2[,1:2], by = \"Group.1\", all = F)"
   ]
  },
  {
   "cell_type": "markdown",
   "metadata": {},
   "source": [
    "## Reshape data frames"
   ]
  },
  {
   "cell_type": "markdown",
   "metadata": {},
   "source": [
    "Now let's calculate both min and max values for each column and each species:"
   ]
  },
  {
   "cell_type": "code",
   "execution_count": null,
   "metadata": {},
   "outputs": [],
   "source": [
    "agg1 <- aggregate(iris[,1:4],\n",
    "                  by = list(iris[,5]),\n",
    "                  FUN = function(x) c(min = min(x), max = max(x)))"
   ]
  },
  {
   "cell_type": "code",
   "execution_count": null,
   "metadata": {},
   "outputs": [],
   "source": [
    "str(agg1)"
   ]
  },
  {
   "cell_type": "markdown",
   "metadata": {},
   "source": [
    "The aggregate output for each column is an embedded matrix.\n",
    "\n",
    "We combine all of them into a single data frame as such:"
   ]
  },
  {
   "cell_type": "code",
   "execution_count": null,
   "metadata": {},
   "outputs": [],
   "source": [
    "agg2 <- do.call(data.frame, unclass(agg1))\n",
    "agg2"
   ]
  },
  {
   "cell_type": "markdown",
   "metadata": {},
   "source": [
    "That's too many columns.\n",
    "\n",
    "We may have four value columns and max and min values might be inseparate rows for each species"
   ]
  },
  {
   "cell_type": "markdown",
   "metadata": {},
   "source": [
    "The reshape() function will be used:"
   ]
  },
  {
   "cell_type": "code",
   "execution_count": null,
   "metadata": {},
   "outputs": [],
   "source": [
    "?reshape"
   ]
  },
  {
   "cell_type": "markdown",
   "metadata": {},
   "source": [
    "```\n",
    "data: a data frame\n",
    "\n",
    " varying: names of sets of variables in the wide format that correspond\n",
    "          to single variables in long format (‘time-varying’).  This is\n",
    "          canonically a list of vectors of variable names, but it can\n",
    "          optionally be a matrix of names, or a single vector of names.\n",
    "          In each case, the names can be replaced by indices which are\n",
    "          interpreted as referring to ‘names(data)’.  See ‘Details’ for\n",
    "          more details and options.\n",
    "\n",
    " v.names: names of variables in the long format that correspond to\n",
    "          multiple variables in the wide format.  See ‘Details’.\n",
    "\n",
    " timevar: the variable in long format that differentiates multiple\n",
    "          records from the same group or individual.  If more than one\n",
    "          record matches, the first will be taken (with a warning).\n",
    "\n",
    "   idvar: Names of one or more variables in long format that identify\n",
    "          multiple records from the same group/individual.  These\n",
    "          variables may also be present in wide format.\n",
    "\n",
    "     ids: the values to use for a newly created ‘idvar’ variable in\n",
    "          long format.\n",
    "\n",
    "   times: the values to use for a newly created ‘timevar’ variable in\n",
    "          long format.  See ‘Details’.\n",
    "\n",
    "    drop: a vector of names of variables to drop before reshaping.\n",
    "\n",
    "direction: character string, partially matched to either ‘\"wide\"’ to\n",
    "          reshape to wide format, or ‘\"long\"’ to reshape to long\n",
    "          format.\n",
    "```"
   ]
  },
  {
   "cell_type": "markdown",
   "metadata": {},
   "source": [
    "### melt data frame"
   ]
  },
  {
   "cell_type": "markdown",
   "metadata": {},
   "source": [
    "We melt all value columns so that each original row becomes 8 rows and column headers become a separate column:"
   ]
  },
  {
   "cell_type": "code",
   "execution_count": null,
   "metadata": {},
   "outputs": [],
   "source": [
    "cols <- names(agg2)[-1]\n",
    "\n",
    "iris_long <- reshape(agg2,\n",
    "                      idvar = c(\"Group.1\"),\n",
    "                      varying = cols,\n",
    "                        times = cols,\n",
    "                      v.name = \"value\",\n",
    "                      direction = \"long\")"
   ]
  },
  {
   "cell_type": "markdown",
   "metadata": {},
   "source": [
    "Flush rownames for a better view:"
   ]
  },
  {
   "cell_type": "code",
   "execution_count": null,
   "metadata": {},
   "outputs": [],
   "source": [
    "rownames(iris_long) <- NULL\n",
    "iris_long"
   ]
  },
  {
   "cell_type": "markdown",
   "metadata": {},
   "source": [
    "It is better that we have two columns as such:\n",
    "\n",
    "- Sepal.Length, Sepal.Width, Petal.Length and Petal.Width in one column\n",
    "- min and max in the other:"
   ]
  },
  {
   "cell_type": "code",
   "execution_count": null,
   "metadata": {},
   "outputs": [],
   "source": [
    "split1 <- sapply(iris_long$time, strsplit, split = \"\\\\.\")\n",
    "split1"
   ]
  },
  {
   "cell_type": "code",
   "execution_count": null,
   "metadata": {},
   "outputs": [],
   "source": [
    "split2 <- t(sapply(unname(split1),\n",
    "                   function(x) c(paste(x[1], x[2], sep = \".\"), x[3])))\n",
    "split2"
   ]
  },
  {
   "cell_type": "code",
   "execution_count": null,
   "metadata": {},
   "outputs": [],
   "source": [
    "iris_long2 <- data.frame(iris_long[,-2], split2)\n",
    "iris_long2"
   ]
  },
  {
   "cell_type": "markdown",
   "metadata": {},
   "source": [
    "### cast data frame"
   ]
  },
  {
   "cell_type": "markdown",
   "metadata": {},
   "source": [
    "Now let's keep Group.1 and X2 columns and convert each unique string in X1 into a separate column. The \"value\" column will be the values in each cell of the new columns:"
   ]
  },
  {
   "cell_type": "code",
   "execution_count": null,
   "metadata": {},
   "outputs": [],
   "source": [
    "iris_wide <- reshape(iris_long2,\n",
    "                      idvar = c(\"Group.1\", \"X2\"),\n",
    "                      v.names = \"value\",\n",
    "                      timevar = \"X1\",\n",
    "                      direction = \"wide\")"
   ]
  },
  {
   "cell_type": "code",
   "execution_count": null,
   "metadata": {},
   "outputs": [],
   "source": [
    "colnames(iris_wide)[3:6] <- colnames(iris)[1:4]\n",
    "iris_wide"
   ]
  },
  {
   "cell_type": "code",
   "execution_count": null,
   "metadata": {},
   "outputs": [],
   "source": []
  }
 ],
 "metadata": {
  "kernelspec": {
   "display_name": "R",
   "language": "R",
   "name": "ir"
  },
  "language_info": {
   "codemirror_mode": "r",
   "file_extension": ".r",
   "mimetype": "text/x-r-source",
   "name": "R",
   "pygments_lexer": "r",
   "version": "3.5.2"
  },
  "toc": {
   "nav_menu": {},
   "number_sections": true,
   "sideBar": true,
   "skip_h1_title": false,
   "title_cell": "Table of Contents",
   "title_sidebar": "Contents",
   "toc_cell": false,
   "toc_position": {},
   "toc_section_display": "block",
   "toc_window_display": false
  },
  "varInspector": {
   "cols": {
    "lenName": 16,
    "lenType": 16,
    "lenVar": 40
   },
   "kernels_config": {
    "python": {
     "delete_cmd_postfix": "",
     "delete_cmd_prefix": "del ",
     "library": "var_list.py",
     "varRefreshCmd": "print(var_dic_list())"
    },
    "r": {
     "delete_cmd_postfix": ") ",
     "delete_cmd_prefix": "rm(",
     "library": "var_list.r",
     "varRefreshCmd": "cat(var_dic_list()) "
    }
   },
   "types_to_exclude": [
    "module",
    "function",
    "builtin_function_or_method",
    "instance",
    "_Feature"
   ],
   "window_display": false
  }
 },
 "nbformat": 4,
 "nbformat_minor": 2
}
