{
 "cells": [
  {
   "cell_type": "code",
   "execution_count": null,
   "metadata": {},
   "outputs": [],
   "source": [
    "options(jupyter.rich_display = F)"
   ]
  },
  {
   "cell_type": "markdown",
   "metadata": {},
   "source": [
    "# Let's harvest some number of our own!\n",
    "**by Serhat Çevikel**"
   ]
  },
  {
   "cell_type": "markdown",
   "metadata": {},
   "source": [
    "For basic simulation, exercise and visualization purposes, it is better that we have mechanisms to create our own data series out of nothing!"
   ]
  },
  {
   "cell_type": "markdown",
   "metadata": {},
   "source": [
    "## Sequences with seq()"
   ]
  },
  {
   "cell_type": "markdown",
   "metadata": {},
   "source": [
    "Colon operator `:` creates simple sequences as \"from\" to \"to\" with 1 increments. Suppose we want to have more complex sequences. Such as, with different increments or providing a length or using non integer values"
   ]
  },
  {
   "cell_type": "code",
   "execution_count": null,
   "metadata": {},
   "outputs": [],
   "source": [
    "?seq"
   ]
  },
  {
   "cell_type": "markdown",
   "metadata": {},
   "source": [
    "Get the Fahrenheit equivalent of celcius values as a sequence"
   ]
  },
  {
   "cell_type": "code",
   "execution_count": null,
   "metadata": {},
   "outputs": [],
   "source": [
    "seq(32, 212, length.out = 101)"
   ]
  },
  {
   "cell_type": "markdown",
   "metadata": {},
   "source": [
    "Get values from 1 to 11 in increments of 3:"
   ]
  },
  {
   "cell_type": "code",
   "execution_count": null,
   "metadata": {},
   "outputs": [],
   "source": [
    "seq(1, 11, 3)"
   ]
  },
  {
   "cell_type": "markdown",
   "metadata": {},
   "source": [
    "**EXERCISE 1:**\n",
    "\n",
    "Get the leap years in 21th century. Two questions:\n",
    "\n",
    "- Is 2000 a part of 21st century?\n",
    "- Is 2100 a leap year?"
   ]
  },
  {
   "cell_type": "code",
   "execution_count": null,
   "metadata": {},
   "outputs": [],
   "source": []
  },
  {
   "cell_type": "markdown",
   "metadata": {
    "solution2": "hidden",
    "solution2_first": true
   },
   "source": [
    "**SOLUTION 1:**"
   ]
  },
  {
   "cell_type": "code",
   "execution_count": null,
   "metadata": {
    "solution2": "hidden"
   },
   "outputs": [],
   "source": [
    "seq(2004, 2100, 4)"
   ]
  },
  {
   "cell_type": "markdown",
   "metadata": {},
   "source": [
    "## Uniform numeric values within a range"
   ]
  },
  {
   "cell_type": "code",
   "execution_count": null,
   "metadata": {},
   "outputs": [],
   "source": [
    "runif(10)"
   ]
  },
  {
   "cell_type": "code",
   "execution_count": null,
   "metadata": {},
   "outputs": [],
   "source": [
    "runif(20, -1, 1)"
   ]
  },
  {
   "cell_type": "markdown",
   "metadata": {},
   "source": [
    "## Random out of normal distribution"
   ]
  },
  {
   "cell_type": "markdown",
   "metadata": {},
   "source": [
    "By default mean is 0, sd is 1:"
   ]
  },
  {
   "cell_type": "code",
   "execution_count": null,
   "metadata": {},
   "outputs": [],
   "source": [
    "rnorm(10, 10, 10)"
   ]
  },
  {
   "cell_type": "markdown",
   "metadata": {},
   "source": [
    "## Randomly select out of a set"
   ]
  },
  {
   "cell_type": "code",
   "execution_count": null,
   "metadata": {},
   "outputs": [],
   "source": [
    "sample(1:2, 10, replace = T)"
   ]
  },
  {
   "cell_type": "code",
   "execution_count": null,
   "metadata": {},
   "outputs": [],
   "source": [
    "sample(1:10, 10, replace = F)"
   ]
  },
  {
   "cell_type": "markdown",
   "metadata": {},
   "source": [
    "## Deterministic randomness"
   ]
  },
  {
   "cell_type": "markdown",
   "metadata": {},
   "source": [
    "The random numbers we create are not truly random but pseudo-random: The random sequences are created by following a modulo operator starting with a seed value. If we provide the starting \"seed\", the sequence will always be deterministic and reproducible!"
   ]
  },
  {
   "cell_type": "code",
   "execution_count": null,
   "metadata": {},
   "outputs": [],
   "source": [
    "set.seed(1000)\n",
    "runif(10)"
   ]
  },
  {
   "cell_type": "code",
   "execution_count": null,
   "metadata": {},
   "outputs": [],
   "source": [
    "set.seed(1000)\n",
    "runif(10)"
   ]
  },
  {
   "cell_type": "code",
   "execution_count": null,
   "metadata": {},
   "outputs": [],
   "source": [
    "set.seed(1000)\n",
    "runif(10)"
   ]
  },
  {
   "cell_type": "markdown",
   "metadata": {},
   "source": [
    "# Let's visualize"
   ]
  },
  {
   "cell_type": "markdown",
   "metadata": {},
   "source": [
    "Now that we can create our own datasets, let's visualize the data in a simplistic way"
   ]
  },
  {
   "cell_type": "code",
   "execution_count": null,
   "metadata": {},
   "outputs": [],
   "source": [
    "set.seed(1000)\n",
    "series_1 <- runif(100, -10, 10)\n",
    "series_1"
   ]
  },
  {
   "cell_type": "code",
   "execution_count": null,
   "metadata": {},
   "outputs": [],
   "source": [
    "set.seed(1200)\n",
    "series_2 <- runif(100, -10, 10)\n",
    "series_2"
   ]
  },
  {
   "cell_type": "code",
   "execution_count": null,
   "metadata": {},
   "outputs": [],
   "source": [
    "series_3 <- series_1 + series_2"
   ]
  },
  {
   "cell_type": "code",
   "execution_count": null,
   "metadata": {},
   "outputs": [],
   "source": [
    "plot(series_1)"
   ]
  },
  {
   "cell_type": "markdown",
   "metadata": {},
   "source": [
    "Now make a scatterplot between **series_1** and **series_3**:"
   ]
  },
  {
   "cell_type": "code",
   "execution_count": null,
   "metadata": {
    "scrolled": false
   },
   "outputs": [],
   "source": [
    "plot(series_1, series_3)"
   ]
  },
  {
   "cell_type": "markdown",
   "metadata": {},
   "source": [
    "We may change the labs, the plot title, color of markers and type of markers:"
   ]
  },
  {
   "cell_type": "code",
   "execution_count": null,
   "metadata": {},
   "outputs": [],
   "source": [
    "plot(series_1, series_3, pch=5, col=\"blue\", xlab=\"x observations\", ylab=\"y observations\")\n",
    "title(\"Weight vs. height\")"
   ]
  },
  {
   "cell_type": "markdown",
   "metadata": {},
   "source": [
    "## Line plots"
   ]
  },
  {
   "cell_type": "markdown",
   "metadata": {},
   "source": [
    "Let's generate our own stock price sequence\n",
    "\n",
    "First log returns:"
   ]
  },
  {
   "cell_type": "code",
   "execution_count": null,
   "metadata": {},
   "outputs": [],
   "source": [
    "logret <- rnorm(100, 0, 0.01)\n",
    "logret"
   ]
  },
  {
   "cell_type": "markdown",
   "metadata": {},
   "source": [
    "Convert to $e^x$:"
   ]
  },
  {
   "cell_type": "code",
   "execution_count": null,
   "metadata": {},
   "outputs": [],
   "source": [
    "logexp <- exp(logret)\n",
    "logexp"
   ]
  },
  {
   "cell_type": "markdown",
   "metadata": {},
   "source": [
    "Get cumulative products:"
   ]
  },
  {
   "cell_type": "code",
   "execution_count": null,
   "metadata": {},
   "outputs": [],
   "source": [
    "logcum <- cumprod(logexp)\n",
    "logcum"
   ]
  },
  {
   "cell_type": "markdown",
   "metadata": {},
   "source": [
    "And let's plot:"
   ]
  },
  {
   "cell_type": "code",
   "execution_count": null,
   "metadata": {},
   "outputs": [],
   "source": [
    "plot(1:100, logcum, type = \"l\")"
   ]
  },
  {
   "cell_type": "markdown",
   "metadata": {},
   "source": [
    "Seems to walk not so randomly!"
   ]
  },
  {
   "cell_type": "markdown",
   "metadata": {},
   "source": [
    "## Histograms"
   ]
  },
  {
   "cell_type": "markdown",
   "metadata": {},
   "source": [
    "Create normal distributed numbers:"
   ]
  },
  {
   "cell_type": "code",
   "execution_count": null,
   "metadata": {},
   "outputs": [],
   "source": [
    "set.seed(2000)\n",
    "vec_norm <- rnorm(100, 10, 2)"
   ]
  },
  {
   "cell_type": "markdown",
   "metadata": {},
   "source": [
    "Create a histogram:"
   ]
  },
  {
   "cell_type": "code",
   "execution_count": null,
   "metadata": {},
   "outputs": [],
   "source": [
    "hist(vec_norm)"
   ]
  },
  {
   "cell_type": "markdown",
   "metadata": {},
   "source": [
    "Default breaks are 6 to 14 in wholenumbers\n",
    "\n",
    "We may instruct to create fewer or more bins by bin count:"
   ]
  },
  {
   "cell_type": "code",
   "execution_count": null,
   "metadata": {},
   "outputs": [],
   "source": [
    "hist(vec_norm, 5)"
   ]
  },
  {
   "cell_type": "code",
   "execution_count": null,
   "metadata": {},
   "outputs": [],
   "source": [
    "hist(vec_norm, 20)"
   ]
  },
  {
   "cell_type": "markdown",
   "metadata": {},
   "source": [
    "Or explicitly tell the cutting points of bins:\n",
    "\n",
    "Note that bin range should include all the data interval. If you change seed to 1000 and generate **vec_norm** again, resulted vector should include numbers bigger than 15 which will result in an error with `hist` function.\n",
    "\n",
    ">  <span style=\"color:red\">Error in hist.default(vec_norm, seq(5, 15, by = 0.5)): some 'x' not counted; maybe 'breaks' do not span range of 'x'</span>\n",
    "\n",
    "Read documentation with `?hist` for further information"
   ]
  },
  {
   "cell_type": "code",
   "execution_count": null,
   "metadata": {},
   "outputs": [],
   "source": [
    "hist(vec_norm, seq(5, 15, by = 0.5))"
   ]
  },
  {
   "cell_type": "markdown",
   "metadata": {},
   "source": [
    "# Exercises"
   ]
  },
  {
   "cell_type": "markdown",
   "metadata": {},
   "source": [
    "**EXERCISE 2:**\n",
    "\n",
    "Write an R expression that simulates the outcome of the 6/49 Lottery (Sayısal Loto), where one draws 6 numbers from 1, 2, ..., 49. Note that the same number cannot appear twice in one drawing."
   ]
  },
  {
   "cell_type": "markdown",
   "metadata": {
    "solution2": "hidden",
    "solution2_first": true
   },
   "source": [
    "**SOLUTION 2:**"
   ]
  },
  {
   "cell_type": "code",
   "execution_count": null,
   "metadata": {
    "solution2": "hidden"
   },
   "outputs": [],
   "source": [
    "sample(49, 6, replace = F)"
   ]
  },
  {
   "cell_type": "markdown",
   "metadata": {},
   "source": [
    "**EXERCISE 3:**\n",
    "\n",
    "Generate 1000 random numbers, drawn from the normal distribution with standard deviation 2, and another 1000 with standard deviation 0.5.\n",
    "\n",
    "Plot the histogram for each set of numbers. What can you say about the effect of the standard deviation?"
   ]
  },
  {
   "cell_type": "code",
   "execution_count": null,
   "metadata": {},
   "outputs": [],
   "source": []
  },
  {
   "cell_type": "markdown",
   "metadata": {
    "solution2": "hidden",
    "solution2_first": true
   },
   "source": [
    "**SOLUTION 3:**"
   ]
  },
  {
   "cell_type": "code",
   "execution_count": null,
   "metadata": {
    "solution2": "hidden"
   },
   "outputs": [],
   "source": [
    "dist1 <- rnorm(1000, sd = 2)\n",
    "dist2 <- rnorm(1000, sd = 0.5)\n",
    "\n",
    "hist(dist1)\n",
    "hist(dist2)"
   ]
  },
  {
   "cell_type": "markdown",
   "metadata": {},
   "source": [
    "**EXERCISE 4:**\n",
    "\n",
    "Throw 10 coins and count the number of heads.\n",
    "\n",
    "Repeat this experiment ten times, and find the mean of the number of heads."
   ]
  },
  {
   "cell_type": "code",
   "execution_count": null,
   "metadata": {},
   "outputs": [],
   "source": []
  },
  {
   "cell_type": "markdown",
   "metadata": {
    "solution2": "hidden",
    "solution2_first": true
   },
   "source": [
    "**SOLUTION 4:**"
   ]
  },
  {
   "cell_type": "markdown",
   "metadata": {
    "solution2": "hidden"
   },
   "source": [
    "If we take T as **Heads** and F as **Tails**;\n",
    "\n",
    "|Explanation|Code|\n",
    "|:---|---:|\n",
    "|10 coin toss|`sample(c(T, F), 10, replace = T)`|\n",
    "|Head count|`sum(sample(c(T, F), 10, replace = T))`|\n",
    "|Repeating this 10 times|`replicate(10, sum(sample(c(T, F), 10, replace = T)))`|\n",
    "|Getting the mean|`mean(replicate(10, sum(sample(c(T, F), 10, replace = T))))`|"
   ]
  },
  {
   "cell_type": "code",
   "execution_count": null,
   "metadata": {
    "solution2": "hidden"
   },
   "outputs": [],
   "source": [
    "mean(replicate(10, sum(sample(c(T, F), 10, replace = T))))"
   ]
  },
  {
   "cell_type": "markdown",
   "metadata": {},
   "source": [
    "**EXERCISE 5:**\n",
    "\n",
    "Throw 3 dice 10000 times. Plot the histogram of the outcomes (outcomes should be between 3 and 18)."
   ]
  },
  {
   "cell_type": "markdown",
   "metadata": {
    "solution2": "hidden",
    "solution2_first": true
   },
   "source": [
    "**SOLUTION 5:**"
   ]
  },
  {
   "cell_type": "markdown",
   "metadata": {
    "solution2": "hidden"
   },
   "source": [
    "|Explanation|Code|\n",
    "|:---|---:|\n",
    "|Rolling three dice experiment|`sum(sample(6, 3, replace = T))  `|\n",
    "|Repeat experiment 10000 times|`replicate(10000, sum(sample(6, 3, replace = T))) `|\n",
    "|Getting histogram|`hist(replicate(10000, sum(sample(6, 3, replace = T))))`|"
   ]
  },
  {
   "cell_type": "code",
   "execution_count": null,
   "metadata": {
    "solution2": "hidden"
   },
   "outputs": [],
   "source": [
    "hist(replicate(10000, sum(sample(6, 3, replace = T))))"
   ]
  },
  {
   "cell_type": "code",
   "execution_count": null,
   "metadata": {},
   "outputs": [],
   "source": []
  },
  {
   "cell_type": "markdown",
   "metadata": {},
   "source": [
    "**EXERCISE 6:**\n",
    "\n",
    "Create a sample of uniformly generated numbers between 0 and 1 with size 8! = 40320. Assign to run1\n",
    "\n",
    "Now create vectors run2 to run8, such as:\n",
    "- run2 is a vector of 8! / 2 items, each a sum of 2 uniformly generated numbers\n",
    "- run3 is a vector of 8! / 3 items, each a sum of 3 uniformly generated numbers\n",
    "...\n",
    "\n",
    "and continue the pattern until run8\n",
    "\n",
    "Now:\n",
    "\n",
    "1) Plot the histograms of run1 to run8, do you see the pattern, what is that?\n",
    "\n",
    "2) Get the five point statistical summaries of run1 to run8 using `summary()` function. What is the pattern you see?"
   ]
  },
  {
   "cell_type": "markdown",
   "metadata": {
    "solution2": "hidden",
    "solution2_first": true
   },
   "source": [
    "**SOLUTION 6: (LONG WAY)**"
   ]
  },
  {
   "cell_type": "code",
   "execution_count": null,
   "metadata": {
    "solution2": "hidden"
   },
   "outputs": [],
   "source": [
    "run1 <- runif(factorial(8))\n",
    "runcount <- length(run1)\n",
    "\n",
    "run2 <- run1[1:runcount %% 2 == 0] + run1[1:runcount %% 2 == 1]\n",
    "\n",
    "run3 <- run1[1:runcount %% 3 == 0] +\n",
    "run1[1:runcount %% 3 == 1] +\n",
    "run1[1:runcount %% 3 == 2]\n",
    "\n",
    "run4 <- run1[1:runcount %% 4 == 0] +\n",
    "run1[1:runcount %% 4 == 1] +\n",
    "run1[1:runcount %% 4 == 2] +\n",
    "run1[1:runcount %% 4 == 3]\n",
    "\n",
    "run5 <- run1[1:runcount %% 5 == 0] +\n",
    "run1[1:runcount %% 5 == 1] +\n",
    "run1[1:runcount %% 5 == 2] +\n",
    "run1[1:runcount %% 5 == 3] +\n",
    "run1[1:runcount %% 5 == 4]\n",
    "\n",
    "run6 <- run1[1:runcount %% 6 == 0] +\n",
    "run1[1:runcount %% 6 == 1] +\n",
    "run1[1:runcount %% 6 == 2] +\n",
    "run1[1:runcount %% 6 == 3] +\n",
    "run1[1:runcount %% 6 == 4] +\n",
    "run1[1:runcount %% 6 == 5]\n",
    "\n",
    "run7 <- run1[1:runcount %% 7 == 0] +\n",
    "run1[1:runcount %% 7 == 1] +\n",
    "run1[1:runcount %% 7 == 2] +\n",
    "run1[1:runcount %% 7 == 3] +\n",
    "run1[1:runcount %% 7 == 4] +\n",
    "run1[1:runcount %% 7 == 5] +\n",
    "run1[1:runcount %% 7 == 6]\n",
    "\n",
    "run8 <- run1[1:runcount %% 8 == 0] +\n",
    "run1[1:runcount %% 8 == 1] +\n",
    "run1[1:runcount %% 8 == 2] +\n",
    "run1[1:runcount %% 8 == 3] +\n",
    "run1[1:runcount %% 8 == 4] +\n",
    "run1[1:runcount %% 8 == 5] +\n",
    "run1[1:runcount %% 8 == 6] +\n",
    "run1[1:runcount %% 8 == 7]\n",
    "\n",
    "hist(run1)\n",
    "hist(run2)\n",
    "hist(run3)\n",
    "hist(run4)\n",
    "hist(run5)\n",
    "hist(run6)\n",
    "hist(run7)\n",
    "hist(run8)\n",
    "\n",
    "summary(run1)\n",
    "summary(run2)\n",
    "summary(run3)\n",
    "summary(run4)\n",
    "summary(run5)\n",
    "summary(run6)\n",
    "summary(run7)\n",
    "summary(run8)"
   ]
  },
  {
   "cell_type": "markdown",
   "metadata": {
    "solution2": "hidden",
    "solution2_first": true
   },
   "source": [
    "**SOLUTION 6: (SHORT WAY)**"
   ]
  },
  {
   "cell_type": "code",
   "execution_count": null,
   "metadata": {
    "solution2": "hidden"
   },
   "outputs": [],
   "source": [
    "runcount <- factorial(8)\n",
    "run1 <- runif(runcount)\n",
    "run2 <- replicate(runcount / 2, sum(runif(2)))\n",
    "run3 <- replicate(runcount / 3, sum(runif(3)))\n",
    "run4 <- replicate(runcount / 4, sum(runif(4)))\n",
    "run5 <- replicate(runcount / 5, sum(runif(5)))\n",
    "run6 <- replicate(runcount / 6, sum(runif(6)))\n",
    "run7 <- replicate(runcount / 7, sum(runif(7)))\n",
    "run7 <- replicate(runcount / 8, sum(runif(8)))\n",
    "\n",
    "hist(run1)\n",
    "hist(run2)\n",
    "hist(run3)\n",
    "hist(run4)\n",
    "hist(run5)\n",
    "hist(run6)\n",
    "hist(run7)\n",
    "hist(run8)\n",
    "\n",
    "summary(run1)\n",
    "summary(run2)\n",
    "summary(run3)\n",
    "summary(run4)\n",
    "summary(run5)\n",
    "summary(run6)\n",
    "summary(run7)\n",
    "summary(run8)"
   ]
  },
  {
   "cell_type": "code",
   "execution_count": null,
   "metadata": {},
   "outputs": [],
   "source": []
  },
  {
   "cell_type": "markdown",
   "metadata": {},
   "source": [
    "**EXERCISE 7:**\n",
    "\n",
    "Randomly assign number 1 to 5 to a sample of 1000 cases - each can be regarded as a category of observations\n",
    "\n",
    "Now create normally distributed 1000 numbers each:\n",
    "- with a standard deviation equal to one third of the category value (1/3 for category 1 and so on)\n",
    "- and mean equal to the half of the category value (0.5 for category 1 and so on)\n",
    "\n",
    "**Hint:** First create a sample of standart normally distributed values\n",
    "\n",
    "\n",
    "- Now first plot the histogram of the overall sample, how does it look?\n",
    "- Then plot the histogram of the values for each category, how do they look?"
   ]
  },
  {
   "cell_type": "code",
   "execution_count": null,
   "metadata": {},
   "outputs": [],
   "source": []
  },
  {
   "cell_type": "markdown",
   "metadata": {
    "solution2": "hidden",
    "solution2_first": true
   },
   "source": [
    "**SOLUTION 7:**"
   ]
  },
  {
   "cell_type": "code",
   "execution_count": null,
   "metadata": {
    "solution2": "hidden"
   },
   "outputs": [],
   "source": [
    "categories <- sample(5, 10000, replace = T)\n",
    "zscores <- rnorm(10000)\n",
    "values <- categories/2 + zscores * categories/3\n",
    "\n",
    "hist(values)\n",
    "\n",
    "hist(values[categories == 1])\n",
    "hist(values[categories == 2])\n",
    "hist(values[categories == 3])\n",
    "hist(values[categories == 4])\n",
    "hist(values[categories == 5])"
   ]
  },
  {
   "cell_type": "code",
   "execution_count": null,
   "metadata": {},
   "outputs": [],
   "source": []
  },
  {
   "cell_type": "markdown",
   "metadata": {},
   "source": [
    "**EXERCISE 8:**\n",
    "\n",
    "Suppose a stock price falls to 5 from 10 and bounces back. Geometric returns are:\n",
    "\n",
    "```r\n",
    "5/10 - 1\n",
    "10/5 - 1\n",
    "\n",
    "[1] -0.5\n",
    "[1] 1\n",
    "```\n",
    "\n",
    "Now let's calculate the logarithmic returns with the same values:\n",
    "\n",
    "```r\n",
    "log(5/10)\n",
    "log(10/5)\n",
    "\n",
    "[1] -0.6931472\n",
    "[1] 0.6931472\n",
    "```\n",
    "\n",
    "See the symmetry now. exp() is the inverse of log():\n",
    "\n",
    "```r\n",
    "10 * exp(log(5 / 10)) * exp(log(10 / 5))\n",
    "[1] 10\n",
    "```\n",
    "\n",
    "First create a sample of 5000 of values with a mean of 0.05 and sd of 0.5. These may be regarded as **LOGARITHMIC** stock returns at a very highly volatile stock market, plot its histogram.\n",
    "\n",
    "Now calculate the price series starting with 1\n",
    "\n",
    "Then calculate the geometric returns of this synthetic series, plot those returns' histogram.\n",
    "\n",
    "Compare the histograms and five point summaries of both return series and comment on the results"
   ]
  },
  {
   "cell_type": "code",
   "execution_count": null,
   "metadata": {},
   "outputs": [],
   "source": []
  },
  {
   "cell_type": "markdown",
   "metadata": {
    "solution2": "hidden",
    "solution2_first": true
   },
   "source": [
    "**SOLUTION 8:**"
   ]
  },
  {
   "cell_type": "code",
   "execution_count": null,
   "metadata": {
    "solution2": "hidden"
   },
   "outputs": [],
   "source": [
    "returns_ln <- rnorm(5000, mean = 0.05, sd = 0.5)\n",
    "hist(returns_ln)\n",
    "\n",
    "prices <- c(1, cumprod(exp(returns_ln)))\n",
    "returns_geo <- prices[-1] / prices[-length(prices)] - 1\n",
    "hist(returns_geo)\n",
    "\n",
    "summary(returns_ln)\n",
    "summary(returns_geo)"
   ]
  }
 ],
 "metadata": {
  "kernelspec": {
   "display_name": "R",
   "language": "R",
   "name": "ir"
  },
  "language_info": {
   "codemirror_mode": "r",
   "file_extension": ".r",
   "mimetype": "text/x-r-source",
   "name": "R",
   "pygments_lexer": "r",
   "version": "3.6.3"
  },
  "toc": {
   "base_numbering": 1,
   "nav_menu": {},
   "number_sections": true,
   "sideBar": true,
   "skip_h1_title": false,
   "title_cell": "Table of Contents",
   "title_sidebar": "Contents",
   "toc_cell": false,
   "toc_position": {},
   "toc_section_display": "block",
   "toc_window_display": false
  },
  "varInspector": {
   "cols": {
    "lenName": 16,
    "lenType": 16,
    "lenVar": 40
   },
   "kernels_config": {
    "python": {
     "delete_cmd_postfix": "",
     "delete_cmd_prefix": "del ",
     "library": "var_list.py",
     "varRefreshCmd": "print(var_dic_list())"
    },
    "r": {
     "delete_cmd_postfix": ") ",
     "delete_cmd_prefix": "rm(",
     "library": "var_list.r",
     "varRefreshCmd": "cat(var_dic_list()) "
    }
   },
   "types_to_exclude": [
    "module",
    "function",
    "builtin_function_or_method",
    "instance",
    "_Feature"
   ],
   "window_display": false
  }
 },
 "nbformat": 4,
 "nbformat_minor": 2
}
