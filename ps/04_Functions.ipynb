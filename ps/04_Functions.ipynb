{
 "cells": [
  {
   "cell_type": "markdown",
   "metadata": {},
   "source": [
    "# Functions"
   ]
  },
  {
   "cell_type": "markdown",
   "metadata": {},
   "source": [
    "**by Serhat Çevikel**"
   ]
  },
  {
   "cell_type": "markdown",
   "metadata": {},
   "source": [
    "A great resource to answer why we need functions in R and how we write functions in R is the \"Functions\" chapter from \"R for Data science book:\n",
    "\n",
    "http://r4ds.had.co.nz/functions.html\n",
    "\n",
    "```\n",
    "One of the best ways to improve your reach as a data scientist is to write functions. Functions allow you to automate common tasks in a more powerful and general way than copy-and-pasting. Writing a function has three big advantages over using copy-and-paste:\n",
    "\n",
    "You can give a function an evocative name that makes your code easier to understand.\n",
    "\n",
    "As requirements change, you only need to update code in one place, instead of many.\n",
    "\n",
    "You eliminate the chance of making incidental mistakes when you copy and paste (i.e. updating a variable name in one place, but not in another).\n",
    "\n",
    "...\n",
    "\n",
    "One of the best ways to improve your reach as a data scientist is to write functions. Functions allow you to automate common tasks in a more powerful and general way than copy-and-pasting. Writing a function has three big advantages over using copy-and-paste:\n",
    "\n",
    "You can give a function an evocative name that makes your code easier to understand.\n",
    "\n",
    "As requirements change, you only need to update code in one place, instead of many.\n",
    "\n",
    "You eliminate the chance of making incidental mistakes when you copy and paste (i.e. updating a variable name in one place, but not in another).\n",
    "\n",
    "...\n",
    "\n",
    "There are three key steps to creating a new function:\n",
    "\n",
    "You need to pick a name for the function. Here I’ve used rescale01 because this function rescales a vector to lie between 0 and 1.\n",
    "\n",
    "You list the inputs, or arguments, to the function inside function. Here we have just one argument. If we had more the call would look like function(x, y, z).\n",
    "\n",
    "You place the code you have developed in body of the function, a { block that immediately follows function(...).\n",
    "\n",
    "```"
   ]
  },
  {
   "cell_type": "markdown",
   "metadata": {},
   "source": [
    "We declare a function with the following syntax\n",
    "\n",
    "```R\n",
    "function(arguments) code body\n",
    "```\n",
    "\n",
    "However the main reason to write a function is its reusability. So we better assign this function to a named object (remember functions are also objects in R)\n",
    "\n",
    "```R\n",
    "function name <- function(arguments) code body\n",
    "```\n",
    "\n",
    "However most of the time our function will be longer than a one-liner. So we should wrap the code body inside a block with curly braces:\n",
    "\n",
    "```R\n",
    "function name <- function(arguments)\n",
    "{\n",
    "    code body\n",
    "    some more code body\n",
    "}\n",
    "```\n",
    "\n",
    "And it is good practice to always end your code block with a return statement for the return value of the function.\n",
    "\n",
    "```R\n",
    "function name <- function(arguments)\n",
    "{\n",
    "    code body\n",
    "    some more code body\n",
    "    return(some value or object)\n",
    "}\n",
    "```\n",
    "\n",
    "NOTE THAT RETURN ENDS A FUNCTION!\n"
   ]
  },
  {
   "cell_type": "markdown",
   "metadata": {},
   "source": [
    "## Function with no parameters"
   ]
  },
  {
   "cell_type": "markdown",
   "metadata": {},
   "source": [
    "Let's start with a simple one, a one-liner function that accepts no parameters: "
   ]
  },
  {
   "cell_type": "code",
   "execution_count": null,
   "metadata": {},
   "outputs": [],
   "source": [
    "hello_world <- function() return(\"Hello World\")"
   ]
  },
  {
   "cell_type": "markdown",
   "metadata": {},
   "source": [
    "Let's see what is inside the hello_world() function:"
   ]
  },
  {
   "cell_type": "code",
   "execution_count": null,
   "metadata": {},
   "outputs": [],
   "source": [
    "hello_world"
   ]
  },
  {
   "cell_type": "markdown",
   "metadata": {},
   "source": [
    "And let's call it with \"()\":"
   ]
  },
  {
   "cell_type": "code",
   "execution_count": null,
   "metadata": {},
   "outputs": [],
   "source": [
    "hello_world()"
   ]
  },
  {
   "cell_type": "markdown",
   "metadata": {},
   "source": [
    "Let's see the challenge of \"Jack Torrance\" from the Shining:\n",
    "\n",
    "[![Dull boy](https://img.youtube.com/vi/4lQ_MjU4QHw/0.jpg)](https://www.youtube.com/watch?v=4lQ_MjU4QHw)\n",
    "\n",
    "\n",
    "He is obsessed with writing this sentence:\n",
    "\n",
    "\"All work and no play makes Jack a dull boy\"\n",
    "\n",
    "thousands of times, let's help him:"
   ]
  },
  {
   "cell_type": "code",
   "execution_count": null,
   "metadata": {},
   "outputs": [],
   "source": [
    "dull_boy <- function()\n",
    "{\n",
    "    return(\"All work and no play makes Jack a dull boy\")\n",
    "}"
   ]
  },
  {
   "cell_type": "markdown",
   "metadata": {},
   "source": [
    "Now let's call it, any number of times we want:"
   ]
  },
  {
   "cell_type": "code",
   "execution_count": null,
   "metadata": {},
   "outputs": [],
   "source": [
    "dull_boy()"
   ]
  },
  {
   "cell_type": "markdown",
   "metadata": {},
   "source": [
    "## Function with a single parameter"
   ]
  },
  {
   "cell_type": "markdown",
   "metadata": {},
   "source": [
    "This automated and eased Jack's work. But most of the time, we may need our function to respond to changes to some input - so return different values accordingly:"
   ]
  },
  {
   "cell_type": "markdown",
   "metadata": {},
   "source": [
    "Let's write a function that returns the value $$x^2 + 2x + 1$$"
   ]
  },
  {
   "cell_type": "markdown",
   "metadata": {},
   "source": [
    "It has one input named x, and the name of the function is plus1squared\n",
    "\n",
    "**WE SHOULD ALWAYS NAME PARAMETERS!**"
   ]
  },
  {
   "cell_type": "code",
   "execution_count": null,
   "metadata": {},
   "outputs": [],
   "source": [
    "plus1squared <- function(x)\n",
    "{\n",
    "    return(x^2 + 2*x + 1)\n",
    "}"
   ]
  },
  {
   "cell_type": "markdown",
   "metadata": {},
   "source": [
    "Or more concisely:"
   ]
  },
  {
   "cell_type": "code",
   "execution_count": null,
   "metadata": {},
   "outputs": [],
   "source": [
    "plus1squared <- function(x)\n",
    "{\n",
    "    return((x + 1)^2)\n",
    "}"
   ]
  },
  {
   "cell_type": "markdown",
   "metadata": {},
   "source": [
    "Now call it for a single value:"
   ]
  },
  {
   "cell_type": "code",
   "execution_count": null,
   "metadata": {},
   "outputs": [],
   "source": [
    "plus1squared(3)"
   ]
  },
  {
   "cell_type": "markdown",
   "metadata": {},
   "source": [
    "And call it for a vector:"
   ]
  },
  {
   "cell_type": "code",
   "execution_count": null,
   "metadata": {},
   "outputs": [],
   "source": [
    "plus1squared(0:4)"
   ]
  },
  {
   "cell_type": "markdown",
   "metadata": {},
   "source": [
    "\n",
    "Since all the operators/functions we use inside the body are vectorized (^, +, \\*), function can also operate on vectors"
   ]
  },
  {
   "cell_type": "markdown",
   "metadata": {},
   "source": [
    "## Parameters with default values"
   ]
  },
  {
   "cell_type": "markdown",
   "metadata": {},
   "source": [
    "Now let's not provide a value for the x parameter"
   ]
  },
  {
   "cell_type": "code",
   "execution_count": null,
   "metadata": {},
   "outputs": [],
   "source": [
    "plus1squared()"
   ]
  },
  {
   "cell_type": "markdown",
   "metadata": {},
   "source": [
    "\"With no default\" it says, and function needs an x value so that the body can calculate\n",
    "\n",
    "We can provide a default value to an argument, that the function may assume in case no value is provided for that argument"
   ]
  },
  {
   "cell_type": "code",
   "execution_count": null,
   "metadata": {},
   "outputs": [],
   "source": [
    "plus1squared <- function(x = 1)\n",
    "{\n",
    "    return(x^2 + 2*x + 1)\n",
    "}"
   ]
  },
  {
   "cell_type": "markdown",
   "metadata": {},
   "source": [
    "Now call it with no values for x:"
   ]
  },
  {
   "cell_type": "code",
   "execution_count": null,
   "metadata": {},
   "outputs": [],
   "source": [
    "plus1squared()"
   ]
  },
  {
   "cell_type": "markdown",
   "metadata": {},
   "source": [
    "And call it with 1"
   ]
  },
  {
   "cell_type": "code",
   "execution_count": null,
   "metadata": {},
   "outputs": [],
   "source": [
    "plus1squared(1)"
   ]
  },
  {
   "cell_type": "markdown",
   "metadata": {},
   "source": [
    "So the function assumed the default value of 1 when we did not provide one"
   ]
  },
  {
   "cell_type": "markdown",
   "metadata": {},
   "source": [
    "## Functions with multiple line bodies"
   ]
  },
  {
   "cell_type": "markdown",
   "metadata": {},
   "source": [
    "Let's say we want to do more things inside the function body:\n",
    "\n",
    "- First calculate the (x+1)^2 value and assign to a variable named \"interim\"\n",
    "- Decrement the interim value by three and return it\n",
    "- Name of function will be square_and_decrement"
   ]
  },
  {
   "cell_type": "code",
   "execution_count": null,
   "metadata": {},
   "outputs": [],
   "source": [
    "square_and_decrement <- function(x = 1)\n",
    "{\n",
    "    interim <- x^2 + 2*x + 1\n",
    "    return(interim - 3)\n",
    "}"
   ]
  },
  {
   "cell_type": "code",
   "execution_count": null,
   "metadata": {},
   "outputs": [],
   "source": [
    "square_and_decrement(1)"
   ]
  },
  {
   "cell_type": "markdown",
   "metadata": {},
   "source": [
    "And let's assign \"interim - 3\" to a variable named \"decremented\"\n",
    "And then get the square root of decremented and return it\n",
    "\n",
    "name the function \"square_decrement_root\""
   ]
  },
  {
   "cell_type": "code",
   "execution_count": null,
   "metadata": {},
   "outputs": [],
   "source": [
    "square_decrement_root <- function(x = 1)\n",
    "{\n",
    "    interim <- x^2 + 2*x + 1\n",
    "    decremented <- interim - 3\n",
    "    return(sqrt(decremented))\n",
    "}"
   ]
  },
  {
   "cell_type": "markdown",
   "metadata": {},
   "source": [
    "Now call:\n",
    "\n",
    "- plus1squared()\n",
    "- square_and_decrement()\n",
    "- square_decrement_root()\n",
    "\n",
    "for x = 5"
   ]
  },
  {
   "cell_type": "code",
   "execution_count": null,
   "metadata": {},
   "outputs": [],
   "source": [
    "plus1squared(5)\n",
    "square_and_decrement(5)\n",
    "square_decrement_root(5)"
   ]
  },
  {
   "cell_type": "markdown",
   "metadata": {},
   "source": [
    "## Scope of function "
   ]
  },
  {
   "cell_type": "markdown",
   "metadata": {},
   "source": [
    "Let's view the code for function square_decrement_root():"
   ]
  },
  {
   "cell_type": "code",
   "execution_count": null,
   "metadata": {},
   "outputs": [],
   "source": [
    "square_decrement_root <- function(x = 1)\n",
    "{\n",
    "    interim <- x^2 + 2*x + 1\n",
    "    decremented <- interim - 3\n",
    "    return(sqrt(decremented))\n",
    "}"
   ]
  },
  {
   "cell_type": "markdown",
   "metadata": {},
   "source": [
    "Let's be more parametric. Your function may be a part of a larger body of code. The input value for x argument may be passed by an assigned object, and the return value may be assigned to another object\n",
    "\n",
    "- Let's call square_decrement_root with a variable named var_1 with value of 5\n",
    "- Assign the return value of the function to a variable named var_2\n",
    "- Print var_1 and var_2"
   ]
  },
  {
   "cell_type": "code",
   "execution_count": null,
   "metadata": {},
   "outputs": [],
   "source": [
    "var_1 <- 5\n",
    "var_2 <- square_decrement_root(var_1)\n",
    "\n",
    "var_1\n",
    "var_2"
   ]
  },
  {
   "cell_type": "markdown",
   "metadata": {},
   "source": [
    "Good, we can access var_1 and var_2\n",
    "\n",
    "How about interim and decremented?"
   ]
  },
  {
   "cell_type": "code",
   "execution_count": null,
   "metadata": {},
   "outputs": [],
   "source": [
    "interim"
   ]
  },
  {
   "cell_type": "code",
   "execution_count": null,
   "metadata": {},
   "outputs": [],
   "source": [
    "decremented"
   ]
  },
  {
   "cell_type": "markdown",
   "metadata": {},
   "source": [
    "They were assigned inside the function but do not exist?\n",
    "\n",
    "Why?"
   ]
  },
  {
   "cell_type": "markdown",
   "metadata": {},
   "source": [
    "Because those variables are NOT GLOBAL. THEY ONLY EXIST WITHIN THE SCOPE OF THE FUNCTION\n",
    "\n",
    "THEY CAN BE PRINTED FROM INSIDE THE FUNCTION"
   ]
  },
  {
   "cell_type": "code",
   "execution_count": null,
   "metadata": {},
   "outputs": [],
   "source": [
    "square_decrement_print_root <- function(x = 1)\n",
    "{\n",
    "    interim <- x^2 + 2*x + 1\n",
    "    print(\"interim value is:\")\n",
    "    print(interim)\n",
    "    \n",
    "    decremented <- interim - 3\n",
    "    print(\"decremented value is:\")\n",
    "    print(decremented)\n",
    "    \n",
    "    return(sqrt(decremented))\n",
    "}"
   ]
  },
  {
   "cell_type": "markdown",
   "metadata": {},
   "source": [
    "Now use var_3, and var_4 for the same task above"
   ]
  },
  {
   "cell_type": "code",
   "execution_count": null,
   "metadata": {},
   "outputs": [],
   "source": [
    "var_3 <- 5\n",
    "var_4 <- square_decrement_print_root(var_3)\n",
    "\n",
    "var_3\n",
    "var_4"
   ]
  },
  {
   "cell_type": "markdown",
   "metadata": {},
   "source": [
    "The printed values are not captured as the return value, they can be used for debugging purposes.\n",
    "\n",
    "Here we used print to demonstrate that variables created inside a function existonly inside the scope of the function, not outside.\n",
    "\n",
    "We pass inputs into function with arguments and save outputs of the function with the return() call"
   ]
  },
  {
   "cell_type": "markdown",
   "metadata": {},
   "source": [
    "## Multiple arguments"
   ]
  },
  {
   "cell_type": "markdown",
   "metadata": {},
   "source": [
    "Now let's say, we want our code to be more general.\n",
    "\n",
    "Apart from reusability, another advantage of using functions is to write more general code that can respond to more scenarios "
   ]
  },
  {
   "cell_type": "markdown",
   "metadata": {},
   "source": [
    "Let's say our function square_decrement_root decrements the interim value but \"3\" is converted to another parameters as \"decr\" with no default value\n",
    "\n",
    "Let's name it square_decrement_multi"
   ]
  },
  {
   "cell_type": "code",
   "execution_count": null,
   "metadata": {},
   "outputs": [],
   "source": [
    "square_decrement_multi <- function(x = 1, decr)\n",
    "{\n",
    "    interim <- x^2 + 2*x + 1\n",
    "    decremented <- interim - decr\n",
    "    return(sqrt(decremented))\n",
    "}"
   ]
  },
  {
   "cell_type": "markdown",
   "metadata": {},
   "source": [
    "Call it with 5 for x and 4 for decr"
   ]
  },
  {
   "cell_type": "code",
   "execution_count": null,
   "metadata": {},
   "outputs": [],
   "source": [
    "square_decrement_multi(5, 4)"
   ]
  },
  {
   "cell_type": "markdown",
   "metadata": {},
   "source": [
    "And with 5 for x and 7 for decr"
   ]
  },
  {
   "cell_type": "code",
   "execution_count": null,
   "metadata": {},
   "outputs": [],
   "source": [
    "square_decrement_multi(5,7)"
   ]
  },
  {
   "cell_type": "markdown",
   "metadata": {},
   "source": [
    "So we can use the function more generally"
   ]
  },
  {
   "cell_type": "markdown",
   "metadata": {},
   "source": [
    "## Order of arguments and named arguments"
   ]
  },
  {
   "cell_type": "markdown",
   "metadata": {},
   "source": [
    "When we don't provide the name of the arguments to the function call, the argument values are taken as positional:\n",
    "\n",
    "First value goes for the first argument, second values goes for the second, etc. So the values must be in the same order they are defined in the function code\n",
    "\n",
    "First value is x and second value is decr\n",
    "\n",
    "Let's we only want to define a value for decr as 3 , but take the default value for x (1 in our code) as granted\n",
    "\n",
    "If we use positional parameters:"
   ]
  },
  {
   "cell_type": "code",
   "execution_count": null,
   "metadata": {},
   "outputs": [],
   "source": [
    "square_decrement_multi(3)"
   ]
  },
  {
   "cell_type": "markdown",
   "metadata": {},
   "source": [
    "The 3 value is taken for x and since no value for decr is declared and no default value exists for decr, it throws an error\n",
    "\n",
    "Now make the same call, but pass 3 explicitly to decr argument"
   ]
  },
  {
   "cell_type": "code",
   "execution_count": null,
   "metadata": {},
   "outputs": [],
   "source": [
    "square_decrement_multi(decr = 3)"
   ]
  },
  {
   "cell_type": "markdown",
   "metadata": {},
   "source": [
    "It is the same as providing 1 and 3 values respectively for x and decr"
   ]
  },
  {
   "cell_type": "code",
   "execution_count": null,
   "metadata": {},
   "outputs": [],
   "source": [
    "square_decrement_multi(1, 3)"
   ]
  },
  {
   "cell_type": "markdown",
   "metadata": {},
   "source": [
    "We can change the order the arguments are provided to the call when we pass them with names"
   ]
  },
  {
   "cell_type": "code",
   "execution_count": null,
   "metadata": {},
   "outputs": [],
   "source": [
    "square_decrement_multi(decr = 3, x = 1)"
   ]
  },
  {
   "cell_type": "markdown",
   "metadata": {},
   "source": [
    "**NOTE THAT EQUAL SIGN IS USED WHEN PARAMETER VALUES ARE PASSED TO FUNCTION CALLS OR DEFAULT VALUES ARE DEFINED FOR PARAMETERS IN FUNCTION DECLARATIONS**\n",
    "\n",
    "It is good practice to pass arguments by pass whenever possible for clarity and debugging purposes (otherwise you should always go back to function declaration to understand what each positional parameter stands for in a function call)"
   ]
  },
  {
   "cell_type": "markdown",
   "metadata": {},
   "source": [
    "## Importance of return"
   ]
  },
  {
   "cell_type": "markdown",
   "metadata": {},
   "source": [
    "Now take square_decrement_multi again:"
   ]
  },
  {
   "cell_type": "code",
   "execution_count": null,
   "metadata": {},
   "outputs": [],
   "source": [
    "square_decrement_multi <- function(x = 1, decr)\n",
    "{\n",
    "    interim <- x^2 + 2*x + 1\n",
    "    decremented <- interim - decr\n",
    "    return(sqrt(decremented))\n",
    "}"
   ]
  },
  {
   "cell_type": "markdown",
   "metadata": {},
   "source": [
    "Let's create a new version:\n",
    "\n",
    "The sqrt(decremented) statement is assigned to root_1 but no return statement exists\n",
    "\n",
    "The name of the function is square_decrement_noreturn"
   ]
  },
  {
   "cell_type": "code",
   "execution_count": null,
   "metadata": {},
   "outputs": [],
   "source": [
    "square_decrement_noreturn <- function(x = 1, decr)\n",
    "{\n",
    "    interim <- x^2 + 2*x + 1\n",
    "    decremented <- interim - decr\n",
    "    root_1 <- sqrt(decremented)\n",
    "}"
   ]
  },
  {
   "cell_type": "markdown",
   "metadata": {},
   "source": [
    "Now call it with 7, 7"
   ]
  },
  {
   "cell_type": "code",
   "execution_count": null,
   "metadata": {},
   "outputs": [],
   "source": [
    "square_decrement_noreturn(7,7)"
   ]
  },
  {
   "cell_type": "markdown",
   "metadata": {},
   "source": [
    "Nothing is returned? Why?\n",
    "\n",
    "Because we did not instruct the R interpreter to do so!\n",
    "\n",
    "Now let's rewrite it again so that last line returns root_1\n",
    "\n",
    "Name it square_decrement_root_1"
   ]
  },
  {
   "cell_type": "code",
   "execution_count": null,
   "metadata": {},
   "outputs": [],
   "source": [
    "square_decrement_root_1 <- function(x = 1, decr)\n",
    "{\n",
    "    interim <- x^2 + 2*x + 1\n",
    "    decremented <- interim - decr\n",
    "    root_1 <- sqrt(decremented)\n",
    "    return(root_1)\n",
    "}"
   ]
  },
  {
   "cell_type": "markdown",
   "metadata": {},
   "source": [
    "Call both square_decrement_multi() and square_decrement_root_1() with named parameters x = 10, decr = 6, in any order"
   ]
  },
  {
   "cell_type": "code",
   "execution_count": null,
   "metadata": {},
   "outputs": [],
   "source": [
    "square_decrement_root_1(x = 10, decr = 6)\n",
    "square_decrement_multi(decr = 6, x = 10)"
   ]
  },
  {
   "cell_type": "markdown",
   "metadata": {},
   "source": [
    "They do the same thing under the hood. However, with a one more step, it is easier to debug square_decrement_root_1, and see what it does in each step. We may need this feature in the future with more complex code"
   ]
  },
  {
   "cell_type": "markdown",
   "metadata": {},
   "source": [
    "**IMPORTANT NOTICE FOR RETURN()**\n",
    "\n",
    "- In different contexts, a function may use **print()** or **cat()** functions: For example print() may be used to provide debug or progress messages during execution or cat can be used when an R script is called from the operating system's shell and the output is required to have a certain format (such as tab separated values). So it is good that you have seen some examples using these functions.\n",
    "\n",
    "**- HOWEVER IN THE CONTEXT OF CMPE140 QUIZZES OR EXAMS NEVER USE print() or cat() INSIDE YOUR FUNCTION SINCE THEY DO NOT CAPTURE THE RETURN VALUE AS AN R OBJECT AND WE CANNOT TEST THE OUTPUT FROM THESE FUNCTIONS**"
   ]
  },
  {
   "cell_type": "markdown",
   "metadata": {},
   "source": [
    "## Multiple return values"
   ]
  },
  {
   "cell_type": "markdown",
   "metadata": {},
   "source": [
    "Now we want our square_decrement_root_1 function to return two values: negative square root and positive square root\n",
    "\n",
    "Let's name it square_decrement_roots"
   ]
  },
  {
   "cell_type": "code",
   "execution_count": null,
   "metadata": {},
   "outputs": [],
   "source": [
    "square_decrement_roots <- function(x = 1, decr)\n",
    "{\n",
    "    interim <- x^2 + 2*x + 1\n",
    "    decremented <- interim - decr\n",
    "    root_1 <- sqrt(decremented)\n",
    "    root_2 <- -root_1\n",
    "    return(root_1, root_2)\n",
    "}"
   ]
  },
  {
   "cell_type": "markdown",
   "metadata": {},
   "source": [
    "And call it with x = 9, decr = 3"
   ]
  },
  {
   "cell_type": "code",
   "execution_count": null,
   "metadata": {},
   "outputs": [],
   "source": [
    "square_decrement_roots(x = 9, decr = 3)"
   ]
  },
  {
   "cell_type": "markdown",
   "metadata": {},
   "source": [
    "```\n",
    "Error in return(root_1, root_2): multi-argument returns are not permitted\n",
    "Traceback:\n",
    "```\n",
    "\n",
    "Why?\n",
    "\n",
    "Because a function can return only one object! And we called return with two parameters, return can only take one!"
   ]
  },
  {
   "cell_type": "code",
   "execution_count": null,
   "metadata": {},
   "outputs": [],
   "source": [
    "?return"
   ]
  },
  {
   "cell_type": "markdown",
   "metadata": {},
   "source": [
    "```\n",
    "Usage\n",
    "function( arglist ) expr\n",
    "return(value)\n",
    "Arguments\n",
    "arglist\t\n",
    "Empty or one or more name or name=expression terms.\n",
    "\n",
    "expr\t\n",
    "An expression.\n",
    "\n",
    "value\t\n",
    "An expression.\n",
    "\n",
    "Details\n",
    "The names in an argument list can be back-quoted non-standard names (see ‘backquote’).\n",
    "\n",
    "If value is missing, NULL is returned. If it is a single expression, the value of the evaluated expression is returned. (The expression is evaluated as soon as return is called, in the evaluation frame of the function and before any on.exit expression is evaluated.)\n",
    "\n",
    "If the end of a function is reached without calling return, the value of the last evaluated expression is returned.\n",
    "```"
   ]
  },
  {
   "cell_type": "markdown",
   "metadata": {},
   "source": [
    "Note two things:\n",
    "\n",
    "- Return takes only \"value\", a single argument\n",
    "- \"If the end of a function is reached without calling return, the value of the last evaluated expression is returned.\"\n",
    "\n",
    "In our noreturn version, since the last evaluated expression was an assignment and since assignments are slient (they return nothing), the function did not return anything"
   ]
  },
  {
   "cell_type": "markdown",
   "metadata": {},
   "source": [
    "So what can we de two return both the + and - root?"
   ]
  },
  {
   "cell_type": "markdown",
   "metadata": {},
   "source": [
    "We can return only single object but it can have multiple values!\n",
    "\n",
    "For example we can concatenate both values into a single vector!"
   ]
  },
  {
   "cell_type": "code",
   "execution_count": null,
   "metadata": {},
   "outputs": [],
   "source": [
    "square_decrement_roots <- function(x = 1, decr)\n",
    "{\n",
    "    interim <- x^2 + 2*x + 1\n",
    "    decremented <- interim - decr\n",
    "    root_1 <- sqrt(decremented)\n",
    "    root_2 <- -root_1\n",
    "    return(c(root_1, root_2))\n",
    "}"
   ]
  },
  {
   "cell_type": "code",
   "execution_count": null,
   "metadata": {},
   "outputs": [],
   "source": [
    "square_decrement_roots(x = 9, decr = 3)"
   ]
  },
  {
   "cell_type": "markdown",
   "metadata": {},
   "source": [
    "Or we can name the concatenated vector and return it by name:"
   ]
  },
  {
   "cell_type": "code",
   "execution_count": null,
   "metadata": {},
   "outputs": [],
   "source": [
    "square_decrement_roots <- function(x = 1, decr)\n",
    "{\n",
    "    interim <- x^2 + 2*x + 1\n",
    "    decremented <- interim - decr\n",
    "    root_1 <- sqrt(decremented)\n",
    "    root_2 <- -root_1\n",
    "    roots <- c(root_1, root_2)\n",
    "    return(roots)\n",
    "}"
   ]
  },
  {
   "cell_type": "markdown",
   "metadata": {},
   "source": [
    "## Apres \"return\" le déluge "
   ]
  },
  {
   "cell_type": "markdown",
   "metadata": {},
   "source": [
    "Let's make our function return some value and do more things:"
   ]
  },
  {
   "cell_type": "code",
   "execution_count": null,
   "metadata": {},
   "outputs": [],
   "source": [
    "square_decrement_more <- function(x = 1, decr)\n",
    "{\n",
    "    interim <- x^2 + 2*x + 1\n",
    "    decremented <- interim - decr\n",
    "    root_1 <- sqrt(decremented)\n",
    "    root_2 <- -root_1\n",
    "    roots <- c(root_1, root_2)\n",
    "    return(roots)\n",
    "    roots <- roots + 10\n",
    "    return(c(\"I did more after return, added 10 to roots now roots are:\", roots))\n",
    "}"
   ]
  },
  {
   "cell_type": "markdown",
   "metadata": {},
   "source": [
    "Call our function with the same parameters.\n",
    "\n",
    "We expect the function to return the last expression:"
   ]
  },
  {
   "cell_type": "code",
   "execution_count": null,
   "metadata": {},
   "outputs": [],
   "source": [
    "square_decrement_more(x = 9, decr = 3)"
   ]
  },
  {
   "cell_type": "markdown",
   "metadata": {},
   "source": [
    "Seems, the function disregarded the things we did after the first return statement.\n",
    "\n",
    "**THE FUNCTION TERMINATES AT FIRST RETURN() CALL IT ENCOUNTERS**"
   ]
  },
  {
   "cell_type": "markdown",
   "metadata": {},
   "source": [
    "To work it as expected, we should delete or comment out (so it doesn't execute anymore) the first return statement:"
   ]
  },
  {
   "cell_type": "code",
   "execution_count": null,
   "metadata": {},
   "outputs": [],
   "source": [
    "square_decrement_more <- function(x = 1, decr)\n",
    "{\n",
    "    interim <- x^2 + 2*x + 1\n",
    "    decremented <- interim - decr\n",
    "    root_1 <- sqrt(decremented)\n",
    "    root_2 <- -root_1\n",
    "    roots <- c(root_1, root_2)\n",
    "    #return(roots)\n",
    "    roots <- roots + 10\n",
    "    return(c(\"I did more after return, added 10 to roots now roots are:\", roots))\n",
    "}"
   ]
  },
  {
   "cell_type": "code",
   "execution_count": null,
   "metadata": {},
   "outputs": [],
   "source": [
    "square_decrement_more(x = 9, decr = 3)"
   ]
  },
  {
   "cell_type": "markdown",
   "metadata": {},
   "source": [
    "## Functions that take two vectors"
   ]
  },
  {
   "cell_type": "markdown",
   "metadata": {},
   "source": [
    "We know even single values are vectors, vector is the atomic (indivisible) object type in R. Now let's follow the lab exercise and write a function that orders the first vector according to the descending order of the second vector  "
   ]
  },
  {
   "cell_type": "code",
   "execution_count": null,
   "metadata": {},
   "outputs": [],
   "source": [
    "vec_1 <- sample(seq(from = 3, to =5, length.out = 20), 10)\n",
    "vec_1"
   ]
  },
  {
   "cell_type": "code",
   "execution_count": null,
   "metadata": {},
   "outputs": [],
   "source": [
    "vec_2 <- sample(seq(to = 1000, by = 7, length.out = 30 ), 10)\n",
    "vec_2"
   ]
  },
  {
   "cell_type": "code",
   "execution_count": null,
   "metadata": {},
   "outputs": [],
   "source": [
    "ordervecs <- function(vector1, vector2)\n",
    "{\n",
    "    order2 <- order(vector2, decreasing = T)\n",
    "    ordered1 <- vector1[order2]\n",
    "    return(ordered1)\n",
    "}"
   ]
  },
  {
   "cell_type": "markdown",
   "metadata": {},
   "source": [
    "Let's call it with vec_1 and vec_2 inputs"
   ]
  },
  {
   "cell_type": "code",
   "execution_count": null,
   "metadata": {},
   "outputs": [],
   "source": [
    "ordervecs(vector1 = vec_1, vector2 = vec_2)"
   ]
  },
  {
   "cell_type": "markdown",
   "metadata": {},
   "source": [
    "Note that, \"vector1\" is the name of the first argument to the function ordervecs(), vec_1 is the value/object we pass to that argument\n",
    "\"vector2\" is the name of the second argument to the function ordervecs(), vec_2 is the value/object we pass to that argument\n",
    "\n",
    "**IT IS GOOD PRACTICE NOT TO USE THE SAME NAME FOR THE ARGUMENT AND THE OBJECT WE PASS INTO**"
   ]
  },
  {
   "cell_type": "markdown",
   "metadata": {},
   "source": [
    "## YOUR FUNCTION BODY SHOULD NOT REFER TO A GLOBAL OBJECT"
   ]
  },
  {
   "cell_type": "markdown",
   "metadata": {},
   "source": [
    "A global object is an object we define at the global environment, not inside a function for example.\n",
    "\n",
    "vec_1 and vec_2 are global objects"
   ]
  },
  {
   "cell_type": "code",
   "execution_count": null,
   "metadata": {},
   "outputs": [],
   "source": [
    "vec_1\n",
    "vec_2"
   ]
  },
  {
   "cell_type": "markdown",
   "metadata": {},
   "source": [
    "vector1 and vector2 are local objects that exist inside the scope of ordervecs function"
   ]
  },
  {
   "cell_type": "code",
   "execution_count": null,
   "metadata": {},
   "outputs": [],
   "source": [
    "vector1"
   ]
  },
  {
   "cell_type": "code",
   "execution_count": null,
   "metadata": {},
   "outputs": [],
   "source": [
    "vector2"
   ]
  },
  {
   "cell_type": "markdown",
   "metadata": {},
   "source": [
    "They don't exist in the global environment unless we instruct to do so"
   ]
  },
  {
   "cell_type": "markdown",
   "metadata": {},
   "source": [
    "Now let's we did a mistake and confused vector1 (the named argument and the local object created with that argument) with vec_1 (the object that we want to pass to vector1 argument as a value)"
   ]
  },
  {
   "cell_type": "code",
   "execution_count": null,
   "metadata": {},
   "outputs": [],
   "source": [
    "ordervecs_global <- function(vector1, vector2)\n",
    "{\n",
    "    order2 <- order(vector2, decreasing = T)\n",
    "    ordered1 <- vec_1[order2]\n",
    "    return(ordered1)\n",
    "}"
   ]
  },
  {
   "cell_type": "markdown",
   "metadata": {},
   "source": [
    "When we have vec_1 and vec_2 in our global environment and they appear in the code as intended, we may not feel the difference:"
   ]
  },
  {
   "cell_type": "code",
   "execution_count": null,
   "metadata": {},
   "outputs": [],
   "source": [
    "ordervecs_global(vector1 = vec_1, vector2 = vec_2)"
   ]
  },
  {
   "cell_type": "markdown",
   "metadata": {},
   "source": [
    "Now let's create a new vector to pass into vector1 argument, named as vec_1a:"
   ]
  },
  {
   "cell_type": "code",
   "execution_count": null,
   "metadata": {},
   "outputs": [],
   "source": [
    "vec_1a <- sample(seq(from = 7, to = 1000, by = 5), 10)\n",
    "vec_1a"
   ]
  },
  {
   "cell_type": "markdown",
   "metadata": {},
   "source": [
    "And delete the original vec_1 object!"
   ]
  },
  {
   "cell_type": "code",
   "execution_count": null,
   "metadata": {},
   "outputs": [],
   "source": [
    "rm(vec_1)\n",
    "vec_1"
   ]
  },
  {
   "cell_type": "markdown",
   "metadata": {},
   "source": [
    "We do not have vec_1 anymore. That may be the case when a collaborator uses your code inside her own R session where vec_1 was never defined"
   ]
  },
  {
   "cell_type": "markdown",
   "metadata": {},
   "source": [
    "Now try to call ordervecs_global with vec_1a and vec_2"
   ]
  },
  {
   "cell_type": "code",
   "execution_count": null,
   "metadata": {},
   "outputs": [],
   "source": [
    "ordervecs_global(vector1 = vec_1a, vector2 = vec_2)"
   ]
  },
  {
   "cell_type": "markdown",
   "metadata": {},
   "source": [
    "That's a major source of bug in quiz responses with functions!\n",
    "\n",
    "**DO NOT USE GLOBAL OBJECT, DEFINED OUTSIDE THE SCOPE OF THE FUNCTION, INSIDE THE FUNCTION CODE BODY!**\n",
    "\n",
    "\n",
    "**ONLY INTERACTION BETWEEN THE GLOBAL OBJECTS AND YOUR FUNCTION SHOULD BE WHEN PASSING GLOBAL OBJECTS AS VALUES TO ARGUMENTS**"
   ]
  },
  {
   "cell_type": "markdown",
   "metadata": {},
   "source": [
    "Note that we test you submissions in our own environments with test inputs that we create ourselves.\n",
    "\n",
    "If your code refers to global objects, the code cannot find it when run in our environment, and throw an error, rendering your submission wrong!"
   ]
  }
 ],
 "metadata": {
  "kernelspec": {
   "display_name": "R",
   "language": "R",
   "name": "ir"
  },
  "language_info": {
   "codemirror_mode": "r",
   "file_extension": ".r",
   "mimetype": "text/x-r-source",
   "name": "R",
   "pygments_lexer": "r",
   "version": "3.5.2"
  },
  "toc": {
   "nav_menu": {},
   "number_sections": true,
   "sideBar": true,
   "skip_h1_title": false,
   "title_cell": "Table of Contents",
   "title_sidebar": "Contents",
   "toc_cell": false,
   "toc_position": {},
   "toc_section_display": "block",
   "toc_window_display": true
  },
  "varInspector": {
   "cols": {
    "lenName": 16,
    "lenType": 16,
    "lenVar": 40
   },
   "kernels_config": {
    "python": {
     "delete_cmd_postfix": "",
     "delete_cmd_prefix": "del ",
     "library": "var_list.py",
     "varRefreshCmd": "print(var_dic_list())"
    },
    "r": {
     "delete_cmd_postfix": ") ",
     "delete_cmd_prefix": "rm(",
     "library": "var_list.r",
     "varRefreshCmd": "cat(var_dic_list()) "
    }
   },
   "types_to_exclude": [
    "module",
    "function",
    "builtin_function_or_method",
    "instance",
    "_Feature"
   ],
   "window_display": false
  }
 },
 "nbformat": 4,
 "nbformat_minor": 2
}
