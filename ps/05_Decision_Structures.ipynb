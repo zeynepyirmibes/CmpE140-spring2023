{
 "cells": [
  {
   "cell_type": "code",
   "execution_count": null,
   "metadata": {},
   "outputs": [],
   "source": [
    "options(jupyter.rich_display = FALSE)"
   ]
  },
  {
   "cell_type": "markdown",
   "metadata": {},
   "source": [
    "# CONDITIONALS\n",
    "**by Serhat Çevikel**"
   ]
  },
  {
   "cell_type": "markdown",
   "metadata": {},
   "source": [
    "What makes a computer distinct from a calculator is that, a computer has a conditional branch operation: Executes different operations whether a condition is met\n",
    "\n",
    "Let's create a conditional pseudocode:"
   ]
  },
  {
   "cell_type": "markdown",
   "metadata": {},
   "source": [
    "```\n",
    "sugarornot <- answer_to_question_\"do_you_want_sugar_for_your_tea\"\n",
    "\n",
    "if ( sugarornot == \"yes\")\n",
    "{\n",
    "    put_a_sugar_cube_into_the_tea_and_serve\n",
    "}\n",
    "else\n",
    "{\n",
    "    serve_the_tea_as_is_\"ohne_zucker\"\n",
    "}\n",
    "```"
   ]
  },
  {
   "cell_type": "markdown",
   "metadata": {},
   "source": [
    "else part is optional\n",
    "\n",
    "the syntax for a conditional in R is as such:\n",
    "\n",
    "```R\n",
    "if (conditional)\n",
    "{\n",
    "    do_sth_when_TRUE\n",
    "    do_sth_else_when_TRUE\n",
    "}\n",
    "else\n",
    "{\n",
    "    do_sth_when_FALSE\n",
    "    do_sth_else_when_FALSE\n",
    "}\n",
    "```"
   ]
  },
  {
   "cell_type": "markdown",
   "metadata": {},
   "source": [
    "Let's create a very simple conditional statement\n",
    "\n",
    "When the input is TRUE print \"input is true\", else \"input is false\""
   ]
  },
  {
   "cell_type": "code",
   "execution_count": null,
   "metadata": {},
   "outputs": [],
   "source": [
    "if (T)\n",
    "{\n",
    "    print(\"Input is TRUE\")\n",
    "} else {\n",
    "    print(\"Input is FALSE\")\n",
    "}"
   ]
  },
  {
   "cell_type": "code",
   "execution_count": null,
   "metadata": {},
   "outputs": [],
   "source": [
    "if (F)\n",
    "{\n",
    "    print(\"Input is TRUE\")\n",
    "} else\n",
    "{\n",
    "    print(\"Input is FALSE\")\n",
    "}"
   ]
  },
  {
   "cell_type": "markdown",
   "metadata": {},
   "source": [
    "Now let's put some conditional test that may return T or F"
   ]
  },
  {
   "cell_type": "code",
   "execution_count": null,
   "metadata": {},
   "outputs": [],
   "source": [
    "input <- as.integer(readline(\"Enter some number:\"))\n",
    "\n",
    "if (input > 5)\n",
    "{\n",
    "    print(\"Input is greater than 5\")\n",
    "} else\n",
    "{\n",
    "    print(\"Input is NOT greater than 5\")\n",
    "}"
   ]
  },
  {
   "cell_type": "markdown",
   "metadata": {},
   "source": [
    "Now let's do multiple things in the first and/or second block "
   ]
  },
  {
   "cell_type": "code",
   "execution_count": null,
   "metadata": {},
   "outputs": [],
   "source": [
    "inputx <- as.integer(readline(\"Enter some number:\"))\n",
    "\n",
    "if (inputx > 5)\n",
    "{\n",
    "    print(\"Input is greater than 5\")\n",
    "    print(\"The difference is\")\n",
    "    inputx - 5\n",
    "} else\n",
    "{\n",
    "    print(\"Input is NOT greater than 5\")\n",
    "    print(\"The difference is\")\n",
    "    5 - inputx\n",
    "}"
   ]
  },
  {
   "cell_type": "markdown",
   "metadata": {},
   "source": [
    "**EXERCISE 1:**\n",
    "\n",
    "Using `sqrt()` and round `right()` function that returns whether a number is a square number (square of an integer)"
   ]
  },
  {
   "cell_type": "code",
   "execution_count": null,
   "metadata": {},
   "outputs": [],
   "source": []
  },
  {
   "cell_type": "markdown",
   "metadata": {
    "solution2": "hidden",
    "solution2_first": true
   },
   "source": [
    "**SOLUTION 1:**"
   ]
  },
  {
   "cell_type": "code",
   "execution_count": null,
   "metadata": {
    "solution2": "hidden"
   },
   "outputs": [],
   "source": [
    "inputx <- as.integer(readline(\"Enter some number:\"))\n",
    "sqrtx <- sqrt(inputx)\n",
    "\n",
    "if (sqrtx == round(sqrtx))\n",
    "{\n",
    "    print(inputx)\n",
    "    print(\"is the square of\")\n",
    "    print(sqrtx)\n",
    "} else\n",
    "{\n",
    "    print(inputx)\n",
    "    print(\"is not a square number\")\n",
    "}"
   ]
  },
  {
   "cell_type": "markdown",
   "metadata": {
    "solution2": "hidden"
   },
   "source": [
    "## Conditionals inside function"
   ]
  },
  {
   "cell_type": "markdown",
   "metadata": {},
   "source": [
    "Develop a habit to write your code inside functions to better debug"
   ]
  },
  {
   "cell_type": "markdown",
   "metadata": {},
   "source": [
    "Let's put our conditional into a function: pass arguments and return an object"
   ]
  },
  {
   "cell_type": "code",
   "execution_count": null,
   "metadata": {},
   "outputs": [],
   "source": [
    "is_square <- function(inputx)\n",
    "{\n",
    "    sqrtx <- sqrt(inputx)\n",
    "\n",
    "    if (sqrtx == round(sqrtx))\n",
    "    {\n",
    "        print(inputx)\n",
    "        print(\"is the square of\")\n",
    "        print(sqrtx)\n",
    "    } else\n",
    "    {\n",
    "        print(inputx)\n",
    "        print(\"is not a square number\")\n",
    "    }\n",
    "}"
   ]
  },
  {
   "cell_type": "code",
   "execution_count": null,
   "metadata": {},
   "outputs": [],
   "source": [
    "inputx <- as.integer(readline(\"Enter some number:\"))\n",
    "is_square(inputx)"
   ]
  },
  {
   "cell_type": "markdown",
   "metadata": {},
   "source": [
    "Develop a habit to write your code inside your functions"
   ]
  },
  {
   "cell_type": "markdown",
   "metadata": {},
   "source": [
    "## Multiple inputs, vectorized conditionals"
   ]
  },
  {
   "cell_type": "markdown",
   "metadata": {},
   "source": [
    "Let's say we have more than one input values two test, see how our conditional reacts:"
   ]
  },
  {
   "cell_type": "code",
   "execution_count": null,
   "metadata": {},
   "outputs": [],
   "source": [
    "set.seed(20181024)\n",
    "input_vec <- sample(1:10, 6)\n",
    "input_vec"
   ]
  },
  {
   "cell_type": "code",
   "execution_count": null,
   "metadata": {},
   "outputs": [],
   "source": [
    "sqrtx <- sqrt(input_vec)\n",
    "sqrtx == round(sqrtx)"
   ]
  },
  {
   "cell_type": "markdown",
   "metadata": {},
   "source": [
    "Let's put our conditional into a function: pass arguments and return an object (let's say return T for square, F for not)"
   ]
  },
  {
   "cell_type": "code",
   "execution_count": null,
   "metadata": {},
   "outputs": [],
   "source": [
    "is_square <- function(inputx)\n",
    "{\n",
    "    sqrtx <- sqrt(inputx)\n",
    "\n",
    "    if (sqrtx == round(sqrtx))\n",
    "    {\n",
    "        return(T)\n",
    "    } else\n",
    "    {\n",
    "        return(F)\n",
    "    }\n",
    "}"
   ]
  },
  {
   "cell_type": "code",
   "execution_count": null,
   "metadata": {
    "scrolled": true
   },
   "outputs": [],
   "source": [
    "set.seed(20181024)\n",
    "input_vec <- sample(1:10, 6)\n",
    "input_vec"
   ]
  },
  {
   "cell_type": "code",
   "execution_count": null,
   "metadata": {},
   "outputs": [],
   "source": [
    "is_square(input_vec)"
   ]
  },
  {
   "cell_type": "markdown",
   "metadata": {},
   "source": [
    "Function worked but with a warning: Condition has multiple values, only the first one is used\n",
    "\n",
    "How are we going to get the return values for all of them?"
   ]
  },
  {
   "cell_type": "markdown",
   "metadata": {},
   "source": [
    "We will use ifelse() function:"
   ]
  },
  {
   "cell_type": "code",
   "execution_count": null,
   "metadata": {},
   "outputs": [],
   "source": [
    "?ifelse"
   ]
  },
  {
   "cell_type": "markdown",
   "metadata": {},
   "source": [
    "`ifelse` is:\n",
    "\n",
    "```\n",
    "ifelse(logicaltest,\n",
    "things to do when test result is T,\n",
    "things to do when test result is F)\n",
    "```\n",
    "\n",
    "You can use it as a single-liner but when your code gets complicated, it is better to split arguments into separate lines to better track the logical flow of your code"
   ]
  },
  {
   "cell_type": "code",
   "execution_count": null,
   "metadata": {},
   "outputs": [],
   "source": [
    "is_square_vec <- function(inputx)\n",
    "{\n",
    "    sqrtx <- sqrt(inputx)\n",
    "    result <- ifelse(sqrtx == round(sqrtx), \"T\", \"F\")\n",
    "    return(result)\n",
    "}"
   ]
  },
  {
   "cell_type": "code",
   "execution_count": null,
   "metadata": {},
   "outputs": [],
   "source": [
    "is_square_vec(input_vec)"
   ]
  },
  {
   "cell_type": "markdown",
   "metadata": {},
   "source": [
    "`ifelse` is the vectorized version of if and can work on multiple values\n",
    "\n",
    "Of course when the return value is simply **T** or **F** you can have a shortcut as such:"
   ]
  },
  {
   "cell_type": "code",
   "execution_count": null,
   "metadata": {},
   "outputs": [],
   "source": [
    "is_square_vec2 <- function(inputx)\n",
    "{\n",
    "    sqrtx <- sqrt(inputx)\n",
    "    return(sqrtx == round(sqrtx))\n",
    "}"
   ]
  },
  {
   "cell_type": "code",
   "execution_count": null,
   "metadata": {},
   "outputs": [],
   "source": [
    "is_square_vec2(input_vec)"
   ]
  },
  {
   "cell_type": "markdown",
   "metadata": {},
   "source": [
    "## Joint conditions"
   ]
  },
  {
   "cell_type": "markdown",
   "metadata": {},
   "source": [
    "Let's write a function that accepts three inputs **val**, **range_min**, **range_max**. The function will return whether the value is within the range **range_min** to **range_max**."
   ]
  },
  {
   "cell_type": "code",
   "execution_count": null,
   "metadata": {},
   "outputs": [],
   "source": [
    "is_within <- function(val, range_min, range_max)\n",
    "{\n",
    "    if (val >= range_min && val <= range_max)\n",
    "    {\n",
    "        return(T)\n",
    "    }\n",
    "    else\n",
    "    {\n",
    "        return(F)\n",
    "    }\n",
    "}"
   ]
  },
  {
   "cell_type": "code",
   "execution_count": null,
   "metadata": {},
   "outputs": [],
   "source": [
    "is_within(4, 1, 10)"
   ]
  },
  {
   "cell_type": "code",
   "execution_count": null,
   "metadata": {},
   "outputs": [],
   "source": [
    "is_within(12, 1, 10)"
   ]
  },
  {
   "cell_type": "markdown",
   "metadata": {},
   "source": [
    "Note that, **range_min** should be smaller than **range_max** in this simple example. The code cannot handle otherwise.\n",
    "\n",
    "Now we will test whether the value is outside the range"
   ]
  },
  {
   "cell_type": "code",
   "execution_count": null,
   "metadata": {},
   "outputs": [],
   "source": [
    "is_outside <- function(val, range_min, range_max)\n",
    "{\n",
    "    if (val < range_min || val > range_max)\n",
    "    {\n",
    "        return(T)\n",
    "    }\n",
    "    else\n",
    "    {\n",
    "        return(F)\n",
    "    }\n",
    "}"
   ]
  },
  {
   "cell_type": "code",
   "execution_count": null,
   "metadata": {},
   "outputs": [],
   "source": [
    "is_outside(4, 1, 10)"
   ]
  },
  {
   "cell_type": "code",
   "execution_count": null,
   "metadata": {},
   "outputs": [],
   "source": [
    "is_outside(12, 1, 10)"
   ]
  },
  {
   "cell_type": "markdown",
   "metadata": {
    "solution2": "hidden",
    "solution2_first": true
   },
   "source": [
    "## Nested loops and superman\n",
    "\n",
    "I always wonder, why the first guy that thinks the flying object is a regular bird is so excited! :)\n",
    "\n",
    "[![Bird, plane, superman!](https://img.youtube.com/vi/ySvAs5ppkRw/0.jpg)](https://www.youtube.com/watch?v=ySvAs5ppkRw)\n",
    "\n",
    "Let's say there are only three options for a flying object: Bird, plane, superman, mutually exclusive\n",
    "\n",
    "The function **is_superman** accepts two boolean inputs: **is_bird**, **is_plane**"
   ]
  },
  {
   "cell_type": "code",
   "execution_count": null,
   "metadata": {
    "solution2": "hidden"
   },
   "outputs": [],
   "source": [
    "is_superman <- function(is_bird, is_plane)\n",
    "{\n",
    "    if (is_bird) # if1\n",
    "    {\n",
    "        return(\"it's a bird\")\n",
    "    }\n",
    "    else # else1\n",
    "    {\n",
    "        if (is_plane) # if2\n",
    "        {\n",
    "            return(\"it's a plane\")\n",
    "        }\n",
    "        else # else2\n",
    "        {\n",
    "            return(\"it's superman\")\n",
    "\n",
    "        } # close else2\n",
    "    } # close else1\n",
    "}"
   ]
  },
  {
   "cell_type": "code",
   "execution_count": null,
   "metadata": {},
   "outputs": [],
   "source": [
    "is_superman(is_bird = T, is_plane = F)"
   ]
  },
  {
   "cell_type": "code",
   "execution_count": null,
   "metadata": {},
   "outputs": [],
   "source": [
    "is_superman(is_bird = F, is_plane = T)"
   ]
  },
  {
   "cell_type": "code",
   "execution_count": null,
   "metadata": {},
   "outputs": [],
   "source": [
    "is_superman(is_bird = F, is_plane = F)"
   ]
  },
  {
   "cell_type": "markdown",
   "metadata": {},
   "source": [
    "You should track your indent levels not to mess up with your code"
   ]
  },
  {
   "cell_type": "markdown",
   "metadata": {
    "solution2": "hidden",
    "solution2_first": true
   },
   "source": [
    "What if we can have a plane of bird as such:\n",
    "\n",
    "![plane of bird](https://www.geek.com/wp-content/uploads/2017/01/flintstones-pterodactyl-airplne.jpg)"
   ]
  },
  {
   "cell_type": "code",
   "execution_count": null,
   "metadata": {
    "solution2": "hidden"
   },
   "outputs": [],
   "source": [
    "is_superman_2 <- function(is_bird, is_plane)\n",
    "{\n",
    "    if (is_bird) # if1, bird = T\n",
    "    {\n",
    "        if (is_plane) # if2, bird = T, plane=T \n",
    "        {\n",
    "            return(\"it's a bird-plane\")\n",
    "        }\n",
    "        else # else1, bird = T, plane = F\n",
    "        {\n",
    "            return(\"it's a bird\")\n",
    "        }\n",
    "    }\n",
    "    else # else2, bird = F\n",
    "    {\n",
    "        if (is_plane) # if3, bird = F, plane = T\n",
    "        {\n",
    "            return(\"it's a plane\")\n",
    "        }\n",
    "        else # else3, bird = F, plane = F\n",
    "        {\n",
    "            return(\"it's superman\")\n",
    "\n",
    "        } # close else3\n",
    "    } # close else2\n",
    "}"
   ]
  },
  {
   "cell_type": "code",
   "execution_count": null,
   "metadata": {},
   "outputs": [],
   "source": [
    "is_superman_2(is_bird = T, is_plane = T)"
   ]
  },
  {
   "cell_type": "markdown",
   "metadata": {},
   "source": [
    "Now let's vectorize this function so that it can accept multiple valued vectors for each argument"
   ]
  },
  {
   "cell_type": "markdown",
   "metadata": {},
   "source": [
    "### Vectorize with ifelse()"
   ]
  },
  {
   "cell_type": "code",
   "execution_count": null,
   "metadata": {},
   "outputs": [],
   "source": [
    "is_superman_vec <- function(is_bird, is_plane)\n",
    "{\n",
    "    result_vector <- ifelse (is_bird, # ifelse1, bird = T\n",
    "                             \n",
    "            ifelse(is_plane, # ifelse 2 inside ifelse1, bird = T, plane = T \n",
    "                   \"it's a bird-plane\", # bird = T, plane = T\n",
    "                   \"it's a bird\" # bird = T, plane = F\n",
    "                  ), # close ifelse2\n",
    "            \n",
    "           ifelse(is_plane, # ifelse3 inside ifelse1, bird = F, plane = T\n",
    "                  \"it's a plane\", # bird = F, plane = T\n",
    "                  \"it's superman\" # bird = F, plane = F\n",
    "                 )\n",
    "           )\n",
    "    \n",
    "    return(result_vector)\n",
    "}"
   ]
  },
  {
   "cell_type": "code",
   "execution_count": null,
   "metadata": {},
   "outputs": [],
   "source": [
    "set.seed(1111)\n",
    "bird_bool <- sample(c(T, F), 10, replace = T)\n",
    "plane_bool <- sample(c(T, F), 10, replace = T)\n",
    "bird_bool\n",
    "plane_bool\n",
    "\n",
    "is_superman_vec(bird_bool, plane_bool)"
   ]
  },
  {
   "cell_type": "markdown",
   "metadata": {},
   "source": [
    "## Vectorize with Vectorize()"
   ]
  },
  {
   "cell_type": "markdown",
   "metadata": {},
   "source": [
    "Vectorize() takes a function as input as returns another function which can iterate through input vectors with multiple values without problem"
   ]
  },
  {
   "cell_type": "markdown",
   "metadata": {},
   "source": [
    "First let's see how the original is_superman_2 function reacts the input vectors with multiple values:"
   ]
  },
  {
   "cell_type": "code",
   "execution_count": null,
   "metadata": {},
   "outputs": [],
   "source": [
    "is_superman_2(bird_bool, plane_bool)"
   ]
  },
  {
   "cell_type": "markdown",
   "metadata": {},
   "source": [
    "Now let's vectorize the function without ifelse"
   ]
  },
  {
   "cell_type": "code",
   "execution_count": null,
   "metadata": {},
   "outputs": [],
   "source": [
    "?Vectorize"
   ]
  },
  {
   "cell_type": "code",
   "execution_count": null,
   "metadata": {},
   "outputs": [],
   "source": [
    "is_superman_vec2 <- Vectorize(is_superman_2)"
   ]
  },
  {
   "cell_type": "code",
   "execution_count": null,
   "metadata": {},
   "outputs": [],
   "source": [
    "is_superman_vec2(bird_bool, plane_bool)"
   ]
  },
  {
   "cell_type": "markdown",
   "metadata": {},
   "source": [
    "## Exercise"
   ]
  },
  {
   "cell_type": "markdown",
   "metadata": {},
   "source": [
    "A famous anonymous Chinese, Arabic or Persian proverb:\n",
    "\n",
    "```\n",
    "He who knows not, and knows not that he knows not, is a fool... shun him.\n",
    "He who knows not, and knows that he knows not, is willing... teach him.\n",
    "He who knows, and knows not that he knows, is asleep... awaken him.\n",
    "He who knows, and knows that he knows, is wise... follow him.\n",
    "```"
   ]
  },
  {
   "cell_type": "markdown",
   "metadata": {},
   "source": [
    "We will convert this proverb into a function called **is_wise**. We have two inputs that takes \"yes\" or \"no\": **know_real** (for the firstpart), **know_himself** (for the second part).\n",
    "\n",
    "The output will be a two item character vector as such: \"fool\", shun\"\n",
    "\n",
    "Use regular if condition not ifelse\n",
    "\n",
    "You can follow any order provided that you cover all cases"
   ]
  },
  {
   "cell_type": "markdown",
   "metadata": {
    "solution2": "hidden",
    "solution2_first": true
   },
   "source": [
    "**EXERCISE 2:**"
   ]
  },
  {
   "cell_type": "code",
   "execution_count": null,
   "metadata": {
    "solution2": "hidden"
   },
   "outputs": [],
   "source": [
    "is_wise <- function(know_real, know_himself)\n",
    "{\n",
    "    if (know_real == \"no\") # if1, \"He who knows not\"\n",
    "    {\n",
    "        if (know_himself == \"no\") # if2, \"and knows not that he knows not\" \n",
    "        {\n",
    "            return(c(\"fool\", \"shun\"))\n",
    "        }\n",
    "        else # else1, \"and knows that he knows not\"\n",
    "        {\n",
    "            return(c(\"willing\", \"teach\"))\n",
    "        }\n",
    "    }\n",
    "    else # else2, \"He who knows\"\n",
    "    {\n",
    "        if (know_himself == \"no\") # if3, \"and knows not that he knows\"\n",
    "        {\n",
    "            return(c(\"asleep\", \"awaken\"))\n",
    "        }\n",
    "        else # else3, \"and knows that he knows\"\n",
    "        {\n",
    "            return(c(\"wise\", \"follow\"))\n",
    "\n",
    "        } # close else3\n",
    "    } # close else2\n",
    "}"
   ]
  },
  {
   "cell_type": "code",
   "execution_count": null,
   "metadata": {},
   "outputs": [],
   "source": [
    "is_wise(know_real = \"no\", know_himself = \"no\")"
   ]
  },
  {
   "cell_type": "code",
   "execution_count": null,
   "metadata": {},
   "outputs": [],
   "source": [
    "is_wise(know_real = \"no\", know_himself = \"yes\")"
   ]
  },
  {
   "cell_type": "code",
   "execution_count": null,
   "metadata": {},
   "outputs": [],
   "source": [
    "is_wise(know_real = \"yes\", know_himself = \"no\")"
   ]
  },
  {
   "cell_type": "code",
   "execution_count": null,
   "metadata": {},
   "outputs": [],
   "source": [
    "is_wise(know_real = \"yes\", know_himself = \"yes\")"
   ]
  }
 ],
 "metadata": {
  "kernelspec": {
   "display_name": "R",
   "language": "R",
   "name": "ir"
  },
  "language_info": {
   "codemirror_mode": "r",
   "file_extension": ".r",
   "mimetype": "text/x-r-source",
   "name": "R",
   "pygments_lexer": "r",
   "version": "3.5.2"
  },
  "toc": {
   "nav_menu": {},
   "number_sections": true,
   "sideBar": true,
   "skip_h1_title": false,
   "title_cell": "Table of Contents",
   "title_sidebar": "Contents",
   "toc_cell": false,
   "toc_position": {},
   "toc_section_display": "block",
   "toc_window_display": false
  },
  "varInspector": {
   "cols": {
    "lenName": 16,
    "lenType": 16,
    "lenVar": 40
   },
   "kernels_config": {
    "python": {
     "delete_cmd_postfix": "",
     "delete_cmd_prefix": "del ",
     "library": "var_list.py",
     "varRefreshCmd": "print(var_dic_list())"
    },
    "r": {
     "delete_cmd_postfix": ") ",
     "delete_cmd_prefix": "rm(",
     "library": "var_list.r",
     "varRefreshCmd": "cat(var_dic_list()) "
    }
   },
   "types_to_exclude": [
    "module",
    "function",
    "builtin_function_or_method",
    "instance",
    "_Feature"
   ],
   "window_display": false
  }
 },
 "nbformat": 4,
 "nbformat_minor": 2
}
