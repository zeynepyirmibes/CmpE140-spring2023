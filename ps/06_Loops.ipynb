{
 "cells": [
  {
   "cell_type": "markdown",
   "metadata": {},
   "source": [
    "# LOOPS IN R\n",
    "\n",
    "**by SERHAT ÇEVİKEL**"
   ]
  },
  {
   "cell_type": "markdown",
   "metadata": {},
   "source": [
    " There are two constructs in R for looping:\n",
    " \n",
    " - for loops\n",
    " - while loops"
   ]
  },
  {
   "cell_type": "markdown",
   "metadata": {},
   "source": [
    "## \"for\" loop: when you know the # of iterations"
   ]
  },
  {
   "cell_type": "markdown",
   "metadata": {},
   "source": [
    "The basic syntax for a \"for\" loop is as follows:\n",
    "\n",
    "```R\n",
    "for(var in a_vector)\n",
    "{\n",
    "    some_code_that_uses_var\n",
    "}\n",
    "```\n",
    "\n",
    "- Here \"var\" is a new variable created for the \"for\" loop\n",
    "- a_vector is a vector that var iterates through\n",
    "\n",
    "In each iteration of the loop, var takes the next value from the vector and the code inside the loop is executed again with the new value of var"
   ]
  },
  {
   "cell_type": "markdown",
   "metadata": {},
   "source": [
    "### Iterate through a vector"
   ]
  },
  {
   "cell_type": "markdown",
   "metadata": {},
   "source": [
    "Let's see in action:\n",
    "\n",
    "First create a vector of random numbers and iterate through it to print its value"
   ]
  },
  {
   "cell_type": "code",
   "execution_count": null,
   "metadata": {},
   "outputs": [],
   "source": [
    "vec_1 <- sample(seq(-10,10), 10)\n",
    "\n",
    "for (element in vec_1)\n",
    "{\n",
    "    print(element)\n",
    "}"
   ]
  },
  {
   "cell_type": "markdown",
   "metadata": {},
   "source": [
    "Let's put this code inside a function to step into using debug()"
   ]
  },
  {
   "cell_type": "code",
   "execution_count": null,
   "metadata": {},
   "outputs": [],
   "source": [
    "vec_1 <- sample(seq(-10,10), 10)\n",
    "\n",
    "\n",
    "for_1 <- function(vecc = vec_1)\n",
    "{\n",
    "\n",
    "    for (i in vecc)\n",
    "    {\n",
    "        print(i)\n",
    "    }\n",
    "\n",
    "}\n",
    "\n",
    "for_1(vec_1)"
   ]
  },
  {
   "cell_type": "markdown",
   "metadata": {},
   "source": [
    "### Iterate through the indices of a vector"
   ]
  },
  {
   "cell_type": "markdown",
   "metadata": {},
   "source": [
    "Let's say we have two vectors height and weight and iterate through both vectors simultaneously\n",
    "\n",
    "Instead of iterating through the vectors themselves, we may iterate through indices:"
   ]
  },
  {
   "cell_type": "code",
   "execution_count": null,
   "metadata": {},
   "outputs": [],
   "source": [
    "set.seed(12345)\n",
    "height1 <- rnorm(5, mean = 170, sd = 8)\n",
    "weight1 <- rnorm(5, mean = 75, sd = 11)\n",
    "\n",
    "height1\n",
    "weight1\n",
    "\n",
    "height_and_weight1 <- function(heights = height1, weights = weight1)\n",
    "{\n",
    "\n",
    "    indices <- seq_along(heights)\n",
    "    \n",
    "    for (i in indices)\n",
    "    {\n",
    "        text1 <- sprintf(\"For the person %s, height is %s, weight is %s\",\n",
    "               i,\n",
    "               heights[i],\n",
    "               weights[i])\n",
    "        print(text1)\n",
    "    }\n",
    "\n",
    "}\n",
    "\n",
    "height_and_weight1()"
   ]
  },
  {
   "cell_type": "markdown",
   "metadata": {},
   "source": [
    "### Collect values by appending to a vector"
   ]
  },
  {
   "cell_type": "markdown",
   "metadata": {},
   "source": [
    "Now instead of printing the values, let's create a character vector and append the text values\n",
    "\n",
    "Return the vector"
   ]
  },
  {
   "cell_type": "code",
   "execution_count": null,
   "metadata": {},
   "outputs": [],
   "source": [
    "set.seed(12345)\n",
    "height1 <- rnorm(5, mean = 170, sd = 8)\n",
    "weight1 <- rnorm(5, mean = 75, sd = 11)\n",
    "\n",
    "height1\n",
    "weight1\n",
    "\n",
    "height_and_weight2 <- function(heights = height1, weights = weight1)\n",
    "{\n",
    "\n",
    "    indices <- seq_along(heights)\n",
    "    character_vector <- NULL\n",
    "    \n",
    "    for (i in indices)\n",
    "    {\n",
    "        text1 <- sprintf(\"For the person %s, height is %s, weight is %s\",\n",
    "               i,\n",
    "               heights[i],\n",
    "               weights[i])\n",
    "        character_vector <- c(character_vector, text1)\n",
    "    }\n",
    "\n",
    "    return(character_vector)\n",
    "    \n",
    "}\n",
    "\n",
    "height_and_weight2()"
   ]
  },
  {
   "cell_type": "markdown",
   "metadata": {},
   "source": [
    "### Collect values by creating an empty vector of size n"
   ]
  },
  {
   "cell_type": "markdown",
   "metadata": {},
   "source": [
    "This option is OK for lower count of iterations. As the number of iterations go up - such as 1e6 - it may perform poorly.\n",
    "\n",
    "This is another option:"
   ]
  },
  {
   "cell_type": "code",
   "execution_count": null,
   "metadata": {},
   "outputs": [],
   "source": [
    "set.seed(12345)\n",
    "height1 <- rnorm(5, mean = 170, sd = 8)\n",
    "weight1 <- rnorm(5, mean = 75, sd = 11)\n",
    "\n",
    "height1\n",
    "weight1\n",
    "\n",
    "height_and_weight3 <- function(heights = height1, weights = weight1)\n",
    "{\n",
    "\n",
    "    indices <- seq_along(heights)\n",
    "    character_vector <- character(length = length(heights))\n",
    "    \n",
    "    for (i in indices)\n",
    "    {\n",
    "        text1 <- sprintf(\"For the person %s, height is %s, weight is %s\",\n",
    "               i,\n",
    "               heights[i],\n",
    "               weights[i])\n",
    "        character_vector[i] <- text1\n",
    "    }\n",
    "\n",
    "    return(character_vector)\n",
    "    \n",
    "}\n",
    "\n",
    "height_and_weight3()"
   ]
  },
  {
   "cell_type": "markdown",
   "metadata": {},
   "source": [
    "### Conditional inside a for loop"
   ]
  },
  {
   "cell_type": "markdown",
   "metadata": {},
   "source": [
    "Now let'say we throw a warning when the height or weight of the person is above average:"
   ]
  },
  {
   "cell_type": "code",
   "execution_count": null,
   "metadata": {},
   "outputs": [],
   "source": [
    "set.seed(12345)\n",
    "height1 <- rnorm(5, mean = 170, sd = 8)\n",
    "\n",
    "height1\n",
    "\n",
    "height_and_average <- function(heights = height1)\n",
    "{\n",
    "\n",
    "    indices <- seq_along(heights)\n",
    "    character_vector <- NULL\n",
    "    av_height <- mean(heights)\n",
    "    \n",
    "    for (i in indices)\n",
    "    {\n",
    "        height_i <- heights[i]\n",
    "        \n",
    "        if (height_i > av_height)\n",
    "        {\n",
    "            text_x <- sprintf(\"Height of person %s of %s is above average\", i, height_i)\n",
    "            character_vector <- c(character_vector, text_x)\n",
    "        }\n",
    "        \n",
    "    }\n",
    "\n",
    "    return(character_vector)\n",
    "    \n",
    "}\n",
    "\n",
    "\n",
    "height_and_average()"
   ]
  },
  {
   "cell_type": "markdown",
   "metadata": {},
   "source": [
    "### Break statement inside a for loop"
   ]
  },
  {
   "cell_type": "markdown",
   "metadata": {},
   "source": [
    "Now let's break out of a loop when a condition is met"
   ]
  },
  {
   "cell_type": "code",
   "execution_count": null,
   "metadata": {},
   "outputs": [],
   "source": [
    "height1 <- rnorm(5, mean = 170, sd = 12)\n",
    "\n",
    "height1\n",
    "\n",
    "height_and_average_break <- function(heights = height1)\n",
    "{\n",
    "\n",
    "    indices <- seq_along(heights)\n",
    "    character_vector <- NULL\n",
    "    av_height <- mean(heights)\n",
    "    \n",
    "    for (i in indices)\n",
    "    {\n",
    "        height_i <- heights[i]\n",
    "        \n",
    "        if (height_i > av_height)\n",
    "        {\n",
    "            text_x <- sprintf(\"Height of person %s of %s is above average and iterate no more\", i, height_i)\n",
    "            break\n",
    "        }\n",
    "        \n",
    "    }\n",
    "\n",
    "    return(text_x)\n",
    "    \n",
    "}\n",
    "\n",
    "\n",
    "height_and_average_break()"
   ]
  },
  {
   "cell_type": "markdown",
   "metadata": {},
   "source": [
    "### Next statement inside a for loop"
   ]
  },
  {
   "cell_type": "code",
   "execution_count": null,
   "metadata": {},
   "outputs": [],
   "source": [
    "height1 <- rnorm(5, mean = 170, sd = 12)\n",
    "\n",
    "height1\n",
    "\n",
    "height_and_average_next <- function(heights = height1)\n",
    "{\n",
    "\n",
    "    indices <- seq_along(heights)\n",
    "    character_vector <- NULL\n",
    "    av_height <- mean(heights)\n",
    "    \n",
    "    for (i in indices)\n",
    "    {\n",
    "        height_i <- heights[i]\n",
    "        \n",
    "        if (height_i > av_height)\n",
    "        {\n",
    "            text_y <- sprintf(\"Height of person %s of %s is above average and skip the rest of iteration\", i, height_i)\n",
    "            character_vector <- c(character_vector, text_y)\n",
    "            next\n",
    "        }\n",
    "        \n",
    "        text_x <- sprintf(\"Height of person %s is %s\", i, height_i)\n",
    "        character_vector <- c(character_vector, text_x)\n",
    "    }\n",
    "\n",
    "    return(character_vector)\n",
    "    \n",
    "}\n",
    "\n",
    "\n",
    "height_and_average_next()"
   ]
  },
  {
   "cell_type": "markdown",
   "metadata": {},
   "source": [
    "### Nested for loop"
   ]
  },
  {
   "cell_type": "markdown",
   "metadata": {},
   "source": [
    "Let's say we have a vector of negative and positive values\n",
    "\n",
    "We want to find the start and end indices of the segment with the maximum sum"
   ]
  },
  {
   "cell_type": "code",
   "execution_count": null,
   "metadata": {},
   "outputs": [],
   "source": [
    "random_vec <- sample(seq(-5, 5), 5)\n",
    "\n",
    "random_vec\n",
    "\n",
    "find_max_seg <- function(values = random_vec)\n",
    "{\n",
    "    max_sum <- -Inf # initiate a register for the max sum\n",
    "    max_i <- NULL # register for start index of segment with max sum\n",
    "    max_j <- NULL # register for end index of segment with max sum\n",
    "    lenv <- length(values)\n",
    "    \n",
    "    # for1: start index of segment\n",
    "    for (i in 1:lenv)\n",
    "    {\n",
    "        # for2: end index of segment. end cannot be last than start, so iteration starts at i!\n",
    "        for (j in i:lenv)\n",
    "        {\n",
    "            sum_val <- sum(values[i:j]) # sum of the current segment\n",
    "            \n",
    "            if (sum_val > max_sum) # if a new max is reached\n",
    "            {\n",
    "                max_sum <- sum_val # update the max\n",
    "                max_i <- i # update start index\n",
    "                max_j <- j # update end index\n",
    "            } # close if\n",
    "        } # close for1\n",
    "    } # close for2\n",
    "    \n",
    "    # create the return text\n",
    "    text_return <- sprintf(\"Segment with maximum sum starts from index %s ends at %s and has a sum of %s\",\n",
    "                          max_i,\n",
    "                          max_j,\n",
    "                          max_sum)\n",
    "    return(text_return)\n",
    "}\n",
    "\n",
    "\n",
    "find_max_seg()"
   ]
  },
  {
   "cell_type": "markdown",
   "metadata": {},
   "source": [
    "## \"while loop\": when you don't know the number of iterations"
   ]
  },
  {
   "cell_type": "markdown",
   "metadata": {},
   "source": [
    "Let's say we are rolling two dices. We will continue until we have a \"duses\" or \"6 + 6\", the return value will be the count of iteration at that moment\n",
    "\n",
    "**NOTE THAT ANY VARIABLES IN THE WHILE CONDITION MUST ALREADY HAVE BEEN CREATED!**\n",
    "\n",
    "**IN FOR LOOP, THE ITERATOR VARIABLE IS CREATED AT THAT MOMENT**"
   ]
  },
  {
   "cell_type": "code",
   "execution_count": null,
   "metadata": {},
   "outputs": [],
   "source": [
    "duses_count <- function()\n",
    "{\n",
    "    dice_vals <- 1:6 # possible outcomes\n",
    "    sum_val <- -Inf # initiate a sum value. anything != 12 is ok\n",
    "    iter <- 0 # initiate an iterator to return\n",
    "    \n",
    "    # as long as sum is not 12, continue, note that sum-val is already initiated\n",
    "    while (sum_val != 12)\n",
    "    {\n",
    "        iter <- iter + 1 # increment iteration\n",
    "        new_roll <- sample(dice_vals, 2, replace = T) # roll the dices\n",
    "        sum_val <- sum(new_roll) # get the sum\n",
    "    }\n",
    "    \n",
    "    return_text <- sprintf(\"At iteration %s, we got duses\", iter)\n",
    "    return(return_text)\n",
    "}\n",
    "\n",
    "duses_count()"
   ]
  },
  {
   "cell_type": "markdown",
   "metadata": {},
   "source": [
    "### While loop with exit shortcut"
   ]
  },
  {
   "cell_type": "markdown",
   "metadata": {},
   "source": [
    "We can limit the total number of rolls:"
   ]
  },
  {
   "cell_type": "code",
   "execution_count": null,
   "metadata": {},
   "outputs": [],
   "source": [
    "duses_count_limit <- function(maxroll = 10)\n",
    "{\n",
    "    dice_vals <- 1:6\n",
    "    sum_val <- -Inf\n",
    "    iter <- 0\n",
    "    \n",
    "    while (sum_val != 12) # as long as sum is not 12, continue\n",
    "    {\n",
    "        iter <- iter + 1 # increment iteration\n",
    "        new_roll <- sample(dice_vals, 2, replace = T) # roll the dices\n",
    "        sum_val <- sum(new_roll) # get the sum\n",
    "        \n",
    "        # if: combine two conditions, iteration reaches maximum and sum val is not 12, then stop!\n",
    "        if (iter >= maxroll & sum_val != 12) \n",
    "        {\n",
    "            return_text <- sprintf(\"No duses in %s rolls, stop!\", maxroll)\n",
    "            return(return_text)\n",
    "        }\n",
    "    }\n",
    "    \n",
    "    return_text <- sprintf(\"At iteration %s, we got duses\", iter)\n",
    "    return(return_text)\n",
    "}\n",
    "\n",
    "duses_count_limit()"
   ]
  },
  {
   "cell_type": "markdown",
   "metadata": {},
   "source": [
    "In contrast to \"break\" which breaks out of the current loop, \"return\" stops the execution of the function, since a function stops at the point where it encounters the first \"return\" statement! Here the last return statement outside the while loop is not executed.\n",
    "\n",
    "Now let's BREAK the while loop, so the last \"return\" statement outside the loop is executed:"
   ]
  },
  {
   "cell_type": "code",
   "execution_count": null,
   "metadata": {},
   "outputs": [],
   "source": [
    "duses_count_limit2 <- function(maxroll = 10)\n",
    "{\n",
    "    dice_vals <- 1:6\n",
    "    sum_val <- -Inf\n",
    "    iter <- 0\n",
    "    \n",
    "    while (sum_val != 12) # as long as sum is not 12, continue\n",
    "    {\n",
    "        iter <- iter + 1 # increment iteration\n",
    "        new_roll <- sample(dice_vals, 2, replace = T) # roll the dices\n",
    "        sum_val <- sum(new_roll) # get the sum\n",
    "        \n",
    "        # if: combine two conditions, iteration reaches maximum and sum val is not 12, then stop!\n",
    "        if (iter >= maxroll & sum_val != 12) \n",
    "        {\n",
    "            return_text <- sprintf(\"No duses in %s rolls, stop!\", maxroll)\n",
    "            break\n",
    "        }\n",
    "        else\n",
    "        {\n",
    "            return_text <- sprintf(\"At iteration %s, we got duses\", iter)\n",
    "        }\n",
    "    }\n",
    "    \n",
    "\n",
    "    return(return_text)\n",
    "}\n",
    "\n",
    "duses_count_limit2()"
   ]
  }
 ],
 "metadata": {
  "kernelspec": {
   "display_name": "R",
   "language": "R",
   "name": "ir"
  },
  "language_info": {
   "codemirror_mode": "r",
   "file_extension": ".r",
   "mimetype": "text/x-r-source",
   "name": "R",
   "pygments_lexer": "r",
   "version": "3.5.2"
  },
  "toc": {
   "nav_menu": {},
   "number_sections": true,
   "sideBar": true,
   "skip_h1_title": false,
   "title_cell": "Table of Contents",
   "title_sidebar": "Contents",
   "toc_cell": false,
   "toc_position": {},
   "toc_section_display": "block",
   "toc_window_display": true
  },
  "varInspector": {
   "cols": {
    "lenName": 16,
    "lenType": 16,
    "lenVar": 40
   },
   "kernels_config": {
    "python": {
     "delete_cmd_postfix": "",
     "delete_cmd_prefix": "del ",
     "library": "var_list.py",
     "varRefreshCmd": "print(var_dic_list())"
    },
    "r": {
     "delete_cmd_postfix": ") ",
     "delete_cmd_prefix": "rm(",
     "library": "var_list.r",
     "varRefreshCmd": "cat(var_dic_list()) "
    }
   },
   "types_to_exclude": [
    "module",
    "function",
    "builtin_function_or_method",
    "instance",
    "_Feature"
   ],
   "window_display": false
  }
 },
 "nbformat": 4,
 "nbformat_minor": 2
}
