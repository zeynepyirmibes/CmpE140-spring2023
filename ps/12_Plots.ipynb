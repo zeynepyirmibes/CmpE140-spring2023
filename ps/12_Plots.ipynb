{
 "cells": [
  {
   "cell_type": "markdown",
   "metadata": {},
   "source": [
    "# COMPOSITE PLOTS"
   ]
  },
  {
   "cell_type": "markdown",
   "metadata": {},
   "source": [
    "Let's create enhanced plots with some data ..."
   ]
  },
  {
   "cell_type": "markdown",
   "metadata": {},
   "source": [
    "First let's read the data .. Some quiz results"
   ]
  },
  {
   "cell_type": "markdown",
   "metadata": {},
   "source": [
    "Read data from file \"grades.csv\"\n",
    "\n",
    "Values are seperated by \",\"(comma) and file includes header"
   ]
  },
  {
   "cell_type": "code",
   "execution_count": null,
   "metadata": {},
   "outputs": [],
   "source": [
    "datax <- read.table(\n",
    "    \"~/file/grades.csv\",\n",
    "    sep=\",\",\n",
    "    header=T)"
   ]
  },
  {
   "cell_type": "code",
   "execution_count": null,
   "metadata": {},
   "outputs": [],
   "source": [
    "head(datax)"
   ]
  },
  {
   "cell_type": "markdown",
   "metadata": {},
   "source": [
    "You are supposed to perform the following tasks:\n",
    "- Divide the screen into 14 grids: 2 rows and 7 columns\n",
    "- Top row: draw quiz scores of people (Up to quiz 7, one plot for each quiz)\n",
    "- Color of people with M1 score larger than 70 should be red\n",
    "- Color of people with M1 score smaller than 70 should be blue\n",
    "- Bottom row, columns 1-6: draw histograms of QAll\n",
    "- With increasing detail (More bins)\n",
    "- Give title to each histogram\n"
   ]
  },
  {
   "cell_type": "markdown",
   "metadata": {},
   "source": [
    "To format the plot \"canvas\", we will use the \"par\" function:"
   ]
  },
  {
   "cell_type": "markdown",
   "metadata": {},
   "source": [
    "par {graphics}\n",
    "\n",
    "Set or Query Graphical Parameters\n",
    "\n",
    "par can be used to set or query graphical parameters.\n",
    "\n",
    "Parameters can be set by specifying them as arguments to par in tag = value form, or by passing them as a list of tagged values."
   ]
  },
  {
   "cell_type": "markdown",
   "metadata": {},
   "source": [
    "Before the tasks, we are given the following line to format the margins of the plots with the \"mar\" argument to \"par\" function:"
   ]
  },
  {
   "cell_type": "markdown",
   "metadata": {},
   "source": [
    "mar\n",
    "\n",
    "A numerical vector of the form c(bottom, left, top, right) which gives the number of lines of margin to be specified on the four sides of the plot.\n",
    "\n",
    "The default is c(5, 4, 4, 2) + 0.1."
   ]
  },
  {
   "cell_type": "code",
   "execution_count": null,
   "metadata": {},
   "outputs": [],
   "source": [
    "par(mar=c(1.5,1.5,2.5,2.5))"
   ]
  },
  {
   "cell_type": "markdown",
   "metadata": {},
   "source": [
    "Now, let's divide the screen into 14 grids in row major order (first left then down) using \"mfrow\" argument to \"par\":"
   ]
  },
  {
   "cell_type": "markdown",
   "metadata": {},
   "source": [
    "mfcol, mfrow\n",
    "\n",
    "A vector of the form c(nr, nc).\n",
    "\n",
    "Subsequent figures will be drawn in an nr-by-nc array on the device by columns (mfcol), or rows (mfrow), respectively."
   ]
  },
  {
   "cell_type": "code",
   "execution_count": null,
   "metadata": {},
   "outputs": [],
   "source": [
    "par(mfrow=c(2,7))"
   ]
  },
  {
   "cell_type": "markdown",
   "metadata": {},
   "source": [
    "Top row: draw quiz scores of people (Up to quiz 7, one plot for each quiz)\n",
    "\n",
    "Color of people with M1 score larger than 70 should be red\n",
    "\n",
    "Color of people with M1 score smaller than 70 should be blue"
   ]
  },
  {
   "cell_type": "markdown",
   "metadata": {},
   "source": [
    "Check the colnames:"
   ]
  },
  {
   "cell_type": "code",
   "execution_count": null,
   "metadata": {},
   "outputs": [],
   "source": [
    "names(datax)"
   ]
  },
  {
   "cell_type": "markdown",
   "metadata": {},
   "source": [
    "See that quizes start from the second column. So first quiz stands on the second column and so on"
   ]
  },
  {
   "cell_type": "markdown",
   "metadata": {},
   "source": [
    "For example the plot the first quiz (without coloring):"
   ]
  },
  {
   "cell_type": "code",
   "execution_count": null,
   "metadata": {},
   "outputs": [],
   "source": [
    "plot(datax[[\"Q1\"]])"
   ]
  },
  {
   "cell_type": "markdown",
   "metadata": {},
   "source": [
    "But we need a coloring scheme:\n",
    "\n",
    "M1 score larger than 70 should be red\n",
    "\n",
    "M1 score smaller than 70 should be blue:"
   ]
  },
  {
   "cell_type": "code",
   "execution_count": null,
   "metadata": {},
   "outputs": [],
   "source": [
    "ifelse(datax$M1>70,\"red\",\"blue\")"
   ]
  },
  {
   "cell_type": "markdown",
   "metadata": {},
   "source": [
    "Now let's pass the coloring scheme via \"col\" argument to \"plot\" function"
   ]
  },
  {
   "cell_type": "code",
   "execution_count": null,
   "metadata": {},
   "outputs": [],
   "source": [
    "plot(datax$Q1,col=ifelse(datax$M1>70,\"red\",\"blue\"))"
   ]
  },
  {
   "cell_type": "markdown",
   "metadata": {},
   "source": [
    "But we should plot the first 7 quizzes. Let's put all of them into a loop:"
   ]
  },
  {
   "cell_type": "code",
   "execution_count": null,
   "metadata": {},
   "outputs": [],
   "source": [
    "for (i in c(1:7)){\n",
    "  varx <- paste(\"Q\", i, sep = \"\")\n",
    "  plot(datax[[varx]],col=ifelse(datax$M1>70,\"red\",\"blue\"), ylab = varx) \n",
    "}"
   ]
  },
  {
   "cell_type": "markdown",
   "metadata": {},
   "source": [
    "Let's combine them:"
   ]
  },
  {
   "cell_type": "code",
   "execution_count": null,
   "metadata": {},
   "outputs": [],
   "source": [
    "par(mar=c(1.5,1.5,2.5,2.5))\n",
    "\n",
    "par(mfrow=c(2,7))\n",
    "\n",
    "for (i in c(1:7)){\n",
    "  varx <- paste(\"Q\", i, sep = \"\")\n",
    "  plot(datax[[varx]],col=ifelse(datax$M1>70,\"red\",\"blue\"), ylab = varx) \n",
    "}"
   ]
  },
  {
   "cell_type": "markdown",
   "metadata": {},
   "source": [
    "Now, the second row:"
   ]
  },
  {
   "cell_type": "markdown",
   "metadata": {},
   "source": [
    "bottom row, columns 1-6: draw histograms of QAll\n",
    "\n",
    "with increasing detail (More bins)\n",
    "\n",
    "give title to each histogram\n"
   ]
  },
  {
   "cell_type": "markdown",
   "metadata": {},
   "source": [
    "Let's make the bins start with 4 categories, upto 14\n",
    "\n",
    "You can pass the \"main\" title of the histogram with the \"main\" argument\n",
    "\n",
    "Let's make the main title as such \"xxx bins\"\n",
    "\n",
    "First the 4 bin version:\n",
    "\n"
   ]
  },
  {
   "cell_type": "code",
   "execution_count": null,
   "metadata": {},
   "outputs": [],
   "source": [
    "hist(datax$QAll,breaks = 4, main = paste(4,\"bins\"))"
   ]
  },
  {
   "cell_type": "markdown",
   "metadata": {},
   "source": [
    "And let's put it into a loop for number of bins:"
   ]
  },
  {
   "cell_type": "code",
   "execution_count": null,
   "metadata": {},
   "outputs": [],
   "source": [
    "for (i in c(2:7)){\n",
    "  hist(datax$QAll,breaks=i*2,main=paste(i*2,\"bins\"))\n",
    "}"
   ]
  },
  {
   "cell_type": "markdown",
   "metadata": {},
   "source": [
    "Let's combine them:"
   ]
  },
  {
   "cell_type": "code",
   "execution_count": null,
   "metadata": {},
   "outputs": [],
   "source": [
    "par(mar=c(1.5,1.5,2.5,2.5))\n",
    "\n",
    "par(mfrow=c(2,7))\n",
    "\n",
    "for (i in c(1:7)){\n",
    "  varx <- paste(\"Q\", i, sep = \"\")\n",
    "  plot(datax[[varx]],col=ifelse(datax$M1>70,\"red\",\"blue\"), ylab = varx) \n",
    "}\n",
    "\n",
    "for (i in c(2:7)){\n",
    "  hist(datax$QAll,breaks=i*2,main=paste(i*2,\"bins\"))\n",
    "}"
   ]
  },
  {
   "cell_type": "markdown",
   "metadata": {},
   "source": [
    "Now the last part:\n",
    "\n",
    "bottom row, last column: draw a pie chart that shows the ratio of\n",
    "\n",
    "number of quizes, midterms and projects\n"
   ]
  },
  {
   "cell_type": "markdown",
   "metadata": {},
   "source": [
    "Check the names again:"
   ]
  },
  {
   "cell_type": "code",
   "execution_count": null,
   "metadata": {},
   "outputs": [],
   "source": [
    "names(datax)"
   ]
  },
  {
   "cell_type": "markdown",
   "metadata": {},
   "source": [
    "Mx denotes midterms, Qx denotes quizzes and Px denotes projects\n",
    "\n",
    "So there are 10 quizzes, 4 projects and one midterm:"
   ]
  },
  {
   "cell_type": "code",
   "execution_count": null,
   "metadata": {},
   "outputs": [],
   "source": [
    "newD <- c(quizes = 10, projects = 4, midterms = 1)\n",
    "newD"
   ]
  },
  {
   "cell_type": "markdown",
   "metadata": {},
   "source": [
    "And draw the pie chart:"
   ]
  },
  {
   "cell_type": "code",
   "execution_count": null,
   "metadata": {},
   "outputs": [],
   "source": [
    "pie(newD)"
   ]
  },
  {
   "cell_type": "markdown",
   "metadata": {},
   "source": [
    "Let's put them all together (and don't forget to reset the mfrow argument of par to c(1,1) ):"
   ]
  },
  {
   "cell_type": "code",
   "execution_count": null,
   "metadata": {},
   "outputs": [],
   "source": [
    "par(mar=c(1.5,1.5,2.5,2.5))\n",
    "\n",
    "par(mfrow=c(2,7))\n",
    "\n",
    "for (i in c(1:7)){\n",
    "  varx <- paste(\"Q\", i, sep = \"\")\n",
    "  plot(datax[[varx]],col=ifelse(datax$M1>70,\"red\",\"blue\"), ylab = varx) \n",
    "}\n",
    "\n",
    "for (i in c(2:7)){\n",
    "  hist(datax$QAll,breaks=i*2,main=paste(i*2,\"bins\"))\n",
    "}\n",
    "\n",
    "newD <- c(quizes = 10, projects = 4, midterms = 1)\n",
    "\n",
    "pie(newD)\n",
    "\n",
    "par(mfrow=c(1,1))"
   ]
  },
  {
   "cell_type": "markdown",
   "metadata": {},
   "source": [
    "# BOX PLOTS"
   ]
  },
  {
   "cell_type": "markdown",
   "metadata": {},
   "source": [
    "First create a data frame of standart normal distributed random numbers:\n",
    "- First column including both negative and positive numbers\n",
    "- Second column including just positive numbers"
   ]
  },
  {
   "cell_type": "code",
   "execution_count": null,
   "metadata": {},
   "outputs": [],
   "source": [
    "rnumbers <- data.frame(rnorm1000 = rnorm(1000),\n",
    "                      pos_rnorm1000 = abs(rnorm(1000)))\n",
    "head(rnumbers)"
   ]
  },
  {
   "cell_type": "markdown",
   "metadata": {},
   "source": [
    "Get structure and summary info"
   ]
  },
  {
   "cell_type": "code",
   "execution_count": null,
   "metadata": {},
   "outputs": [],
   "source": [
    "str(rnumbers)"
   ]
  },
  {
   "cell_type": "code",
   "execution_count": null,
   "metadata": {},
   "outputs": [],
   "source": [
    "summary(rnumbers)"
   ]
  },
  {
   "cell_type": "code",
   "execution_count": null,
   "metadata": {},
   "outputs": [],
   "source": [
    "boxplot(rnumbers$rnorm1000)"
   ]
  },
  {
   "cell_type": "markdown",
   "metadata": {},
   "source": [
    "See that lower and upper bounds of the box correspond to 1st and 3rd quartiles.\n",
    "\n",
    "The bold line in the middle is the median "
   ]
  },
  {
   "cell_type": "code",
   "execution_count": null,
   "metadata": {},
   "outputs": [],
   "source": [
    "boxplot(rnumbers$pos_rnorm1000)"
   ]
  },
  {
   "cell_type": "markdown",
   "metadata": {},
   "source": [
    "Let's combine them into a single plot:"
   ]
  },
  {
   "cell_type": "code",
   "execution_count": null,
   "metadata": {},
   "outputs": [],
   "source": [
    "par(mfrow = c(1,2))\n",
    "boxplot(rnumbers$rnorm1000)\n",
    "boxplot(rnumbers$pos_rnorm1000)\n",
    "par(mfrow = c(1,1))"
   ]
  },
  {
   "cell_type": "markdown",
   "metadata": {},
   "source": [
    "See, that the x axes have different scales. We should coerce both x axes to the same scale"
   ]
  },
  {
   "cell_type": "markdown",
   "metadata": {},
   "source": [
    "First get the min and max values of both"
   ]
  },
  {
   "cell_type": "code",
   "execution_count": null,
   "metadata": {},
   "outputs": [],
   "source": [
    "rangex <- sapply(rnumbers, function(x) c(min(x), max(x)))\n",
    "rangex"
   ]
  },
  {
   "cell_type": "markdown",
   "metadata": {},
   "source": [
    "A range of -4,+4 will suffice"
   ]
  },
  {
   "cell_type": "markdown",
   "metadata": {},
   "source": [
    "We pass the limits of y axis with \"ylim\" argument:"
   ]
  },
  {
   "cell_type": "code",
   "execution_count": null,
   "metadata": {},
   "outputs": [],
   "source": [
    "par(mfrow = c(1,2))\n",
    "boxplot(rnumbers$rnorm1000, ylim = c(-4, 4))\n",
    "boxplot(rnumbers$pos_rnorm1000, ylim = c(-4, 4))\n",
    "par(mfrow = c(1,1))"
   ]
  },
  {
   "cell_type": "markdown",
   "metadata": {},
   "source": [
    "A second method is to plot them with a single command so that axes are aligned:"
   ]
  },
  {
   "cell_type": "code",
   "execution_count": null,
   "metadata": {},
   "outputs": [],
   "source": [
    "boxplot(rnumbers$rnorm1000, rnumbers$pos_rnorm1000)"
   ]
  },
  {
   "cell_type": "markdown",
   "metadata": {},
   "source": [
    "# STRIPCHARTS"
   ]
  },
  {
   "cell_type": "markdown",
   "metadata": {},
   "source": [
    "\"stripchart produces one dimensional scatter plots (or dot plots) of the given data.\n",
    "\n",
    "These plots are a good alternative to boxplots when sample sizes are small.\""
   ]
  },
  {
   "cell_type": "code",
   "execution_count": null,
   "metadata": {},
   "outputs": [],
   "source": [
    "stripchart(list(rnumbers$rnorm1000,\n",
    "               rnumbers$pos_rnorm1000))"
   ]
  },
  {
   "cell_type": "markdown",
   "metadata": {},
   "source": [
    "This is done with default \"overplot\" method\n",
    "\n",
    "Let's redo it with \"jitter\" method:"
   ]
  },
  {
   "cell_type": "code",
   "execution_count": null,
   "metadata": {},
   "outputs": [],
   "source": [
    "stripchart(list(rnumbers$rnorm1000,\n",
    "               rnumbers$pos_rnorm1000),\n",
    "          method = \"jitter\")"
   ]
  },
  {
   "cell_type": "markdown",
   "metadata": {},
   "source": [
    "Now let's differentiate the colors"
   ]
  },
  {
   "cell_type": "code",
   "execution_count": null,
   "metadata": {},
   "outputs": [],
   "source": [
    "stripchart(list(rnumbers$rnorm1000,\n",
    "               rnumbers$pos_rnorm1000),\n",
    "          method = \"jitter\", col = c(\"red\", \"blue\"))"
   ]
  }
 ],
 "metadata": {
  "kernelspec": {
   "display_name": "R",
   "language": "R",
   "name": "ir"
  },
  "language_info": {
   "codemirror_mode": "r",
   "file_extension": ".r",
   "mimetype": "text/x-r-source",
   "name": "R",
   "pygments_lexer": "r",
   "version": "4.1.2"
  }
 },
 "nbformat": 4,
 "nbformat_minor": 4
}
