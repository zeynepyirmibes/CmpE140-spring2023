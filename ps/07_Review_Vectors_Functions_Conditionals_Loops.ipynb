{
 "cells": [
  {
   "cell_type": "markdown",
   "metadata": {},
   "source": [
    "# GENERAL REVIEW ON VECTORS, FUNCTIONS, CONDITIONALS AND LOOPS"
   ]
  },
  {
   "cell_type": "markdown",
   "metadata": {},
   "source": [
    "**Serhat Çevikel and Bengü Nur Özdemir**"
   ]
  },
  {
   "cell_type": "markdown",
   "metadata": {},
   "source": [
    "## Reversing a number"
   ]
  },
  {
   "cell_type": "markdown",
   "metadata": {},
   "source": [
    "Using simple arithmetic we can reverse the order of the digits of a number.\n",
    "\n",
    "So 123 becomes 321.\n",
    "\n",
    "Let's write a function for this:"
   ]
  },
  {
   "cell_type": "markdown",
   "metadata": {},
   "source": [
    "First of all, remember modulo and floor divison operators:"
   ]
  },
  {
   "cell_type": "code",
   "execution_count": null,
   "metadata": {},
   "outputs": [],
   "source": [
    "123 %/% 10"
   ]
  },
  {
   "cell_type": "code",
   "execution_count": null,
   "metadata": {},
   "outputs": [],
   "source": [
    "123 %% 10"
   ]
  },
  {
   "cell_type": "markdown",
   "metadata": {},
   "source": [
    "Now the function:"
   ]
  },
  {
   "cell_type": "code",
   "execution_count": null,
   "metadata": {},
   "outputs": [],
   "source": [
    "number_reverse <- function(num)\n",
    "{\n",
    "    rev_num <- 0 # create an object to collect reversed digits\n",
    "    \n",
    "    while(num > 0) # as long as we have more digits\n",
    "    {    \n",
    "        last_digit <- num %% 10 # extract the last digit\n",
    "        rev_num <- rev_num * 10 + last_digit # update the reversed number\n",
    "        num <- num %/% 10 # delete the rightmost digit from the original number\n",
    "    }\n",
    "    \n",
    "    return(rev_num)\n",
    "\n",
    "}"
   ]
  },
  {
   "cell_type": "markdown",
   "metadata": {},
   "source": [
    "Now let's check:"
   ]
  },
  {
   "cell_type": "code",
   "execution_count": null,
   "metadata": {},
   "outputs": [],
   "source": [
    "number_reverse(123)"
   ]
  },
  {
   "cell_type": "markdown",
   "metadata": {},
   "source": [
    "## Get palindromic numbers"
   ]
  },
  {
   "cell_type": "markdown",
   "metadata": {},
   "source": [
    "A palindromic number reads the same both ways so it is a number that is equal to its reverse"
   ]
  },
  {
   "cell_type": "markdown",
   "metadata": {},
   "source": [
    "Suppose we want to find the maximum palindromic number that is the product of two x digit numbers (adapted from Projecteuler problem 4)"
   ]
  },
  {
   "cell_type": "code",
   "execution_count": null,
   "metadata": {},
   "outputs": [],
   "source": [
    "max_palindrome <- function(digs)\n",
    "{\n",
    "    max_pal <- -Inf # Initiate the register for maximum palindrome\n",
    "    \n",
    "    min_num <- 10^(digs - 1) # min digs digit number\n",
    "    max_num <- 10^(digs) - 1 # max digs digit number\n",
    "    seq_digs <- max_num:min_num # sequence of digs digit numbers\n",
    "    \n",
    "    for (num1 in seq_digs) # outer loop, first number\n",
    "    {\n",
    "        \n",
    "        for (num2 in seq_digs) # inner loop, second number\n",
    "        {\n",
    "            num12 <- num1 * num2 # product of two numbers\n",
    "            \n",
    "            # if num12 is a palindrome and larger than the max palindrome recorded so far \n",
    "            if (num12 == number_reverse(num12) && num12 > max_pal)\n",
    "            {\n",
    "                max_pal <- num12 # update the maximum palindrom\n",
    "            }\n",
    "        }\n",
    "        \n",
    "    }\n",
    "\n",
    "    return(max_pal)\n",
    "}"
   ]
  },
  {
   "cell_type": "code",
   "execution_count": null,
   "metadata": {},
   "outputs": [],
   "source": [
    "max_palindrome(2)"
   ]
  },
  {
   "cell_type": "markdown",
   "metadata": {},
   "source": [
    "Although that works for our purpose, the code is not optimal:\n",
    "\n",
    "The loops iterate down from the largest x digit number. When an iteration results in:\n",
    "\n",
    "- A number less than the largest palindrome so far (whether it is a palindrome itself)\n",
    "- Both current factors are smaller than both factors of the max palindrome so far (Hence larger of the current factors is less than the smaller of the factors of the largest palindrome so far)\n",
    "\n",
    "That means we cannot have a better combination in the remaining iterations. We can terminate the code returning the largest palindrome so far.\n",
    "\n",
    "In order to do that, we have to keep track of both factors of the largest palindrome"
   ]
  },
  {
   "cell_type": "code",
   "execution_count": null,
   "metadata": {},
   "outputs": [],
   "source": [
    "max_palindrome2 <- function(digs)\n",
    "{\n",
    "    max_pal <- -Inf # Initiate the register for maximum palindrome\n",
    "    max_num1 <- NULL # Initiate the first factor of max_pal\n",
    "    max_num2 <- NULL # Initiate the second factor of max_pal\n",
    "    \n",
    "    min_num <- 10^(digs - 1) # min digs digit number\n",
    "    max_num <- 10^(digs) - 1 # max digs digit number\n",
    "    \n",
    "    for (num1 in max_num:min_num) # outer loop, first number\n",
    "    {\n",
    "        \n",
    "        for (num2 in num1:min_num) # inner loop, second number (only lower triangle, on and below main diagonal)\n",
    "        {\n",
    "            num12 <- num1 * num2 # product of two numbers\n",
    "            \n",
    "            # if num12 is a palindrome and larger than the max palindrome recorded so far \n",
    "            if (num12 == number_reverse(num12) && num12 > max_pal)\n",
    "            {\n",
    "                max_pal <- num12 # update the maximum palindrom\n",
    "                max_num1 <- num1\n",
    "                max_num2 <- num2\n",
    "            }\n",
    "            else\n",
    "            {\n",
    "                \n",
    "                # number is less than the max so far, and both factors are less than the factors of max so far\n",
    "                if (num12 < max_pal && max(num1, num2) < min(max_num1, max_num2))\n",
    "                {\n",
    "                    return(max_pal)\n",
    "                } # close inner if\n",
    "                \n",
    "            } # close else\n",
    "        } # close inner for\n",
    "        \n",
    "    } # close outer for\n",
    "\n",
    "    return(max_pal)\n",
    "}"
   ]
  },
  {
   "cell_type": "code",
   "execution_count": null,
   "metadata": {},
   "outputs": [],
   "source": [
    "max_palindrome(3)"
   ]
  },
  {
   "cell_type": "code",
   "execution_count": null,
   "metadata": {},
   "outputs": [],
   "source": [
    "max_palindrome2(3)"
   ]
  },
  {
   "cell_type": "markdown",
   "metadata": {},
   "source": [
    "Let's compare the performances:"
   ]
  },
  {
   "cell_type": "code",
   "execution_count": null,
   "metadata": {},
   "outputs": [],
   "source": [
    "system.time(max_palindrome2(2))\n",
    "system.time(max_palindrome(2))"
   ]
  },
  {
   "cell_type": "code",
   "execution_count": null,
   "metadata": {},
   "outputs": [],
   "source": [
    "system.time(max_palindrome2(3))\n",
    "system.time(max_palindrome(3))"
   ]
  },
  {
   "cell_type": "markdown",
   "metadata": {},
   "source": [
    "## Collect prime numbers"
   ]
  },
  {
   "cell_type": "markdown",
   "metadata": {},
   "source": [
    "A prime number is a number that is only divisible by 1 and itself\n",
    "\n",
    "In order to collect prime numbers up to some limit, we will check whether it is a composite number:\n",
    "\n",
    "A composite number should have a factor at most equal to its square root (think about why)\n",
    "\n",
    "If a number is not divisible by prime numbers until it square root, it is a prime number itself!\n",
    "\n",
    "We will use this fact.\n",
    "\n",
    "For simplicity, we will assume that the max number is > 2"
   ]
  },
  {
   "cell_type": "code",
   "execution_count": null,
   "metadata": {},
   "outputs": [],
   "source": [
    "prime_collect <- function(maxnum)\n",
    "{\n",
    "    primes <- 2 # initiate the vector of primes with 2\n",
    "    \n",
    "    for (num in 3:maxnum) # iterate across numbers from 3 to maxnum\n",
    "    {    \n",
    "        limitn <- ceiling(sqrt(num)) # get the checking limit\n",
    "        isprime <- T # start with the assumption that number is prime\n",
    "        \n",
    "        for (pr in primes[primes <= limitn]) # iterate across primes up to the square root of num\n",
    "        {\n",
    "            if (num %% pr == 0) # if the number is divisible\n",
    "            { \n",
    "                isprime <- F # toggle the prime boolean, number is composite\n",
    "                break # break out of inner loop\n",
    "            }                        \n",
    "        }\n",
    "        \n",
    "        if (isprime) # if prime boolean is still true, the number had no divisors so is prime\n",
    "        {\n",
    "            primes <- c(primes, num) # append the number as a prime\n",
    "        } # close i\n",
    "\n",
    "    }\n",
    "\n",
    "    return(primes)\n",
    "}"
   ]
  },
  {
   "cell_type": "code",
   "execution_count": null,
   "metadata": {},
   "outputs": [],
   "source": [
    "prime_collect(100)"
   ]
  },
  {
   "cell_type": "markdown",
   "metadata": {},
   "source": [
    "## Prime factorize"
   ]
  },
  {
   "cell_type": "markdown",
   "metadata": {},
   "source": [
    "In order to get the prime factors of a number, first we will get all the primes up to the square root of the number and try for divisibility\n",
    "\n",
    "For each prime, we will update our original number by dividing with that prime as long as it is divisible\n",
    "\n",
    "If any time the updated number becomes 1, we have ran out of all factors (nothing more to divide) and so it is time to stop\n",
    "\n",
    "If we tried all primes up to square root and still have an updated number above 1, that is also a prime factor so we add that to the end of factors"
   ]
  },
  {
   "cell_type": "code",
   "execution_count": null,
   "metadata": {},
   "outputs": [],
   "source": [
    "prime_factors <- function(num)\n",
    "{\n",
    "    primes <- prime_collect(ceiling(sqrt(num))) # get primes up to the square root of number\n",
    "    factors <- NULL # initiate factors vector\n",
    "    \n",
    "    \n",
    "    for (pr in primes) # across primes\n",
    "    {\n",
    "        while (num %% pr == 0) # as long as the number is divisible by the factor \n",
    "        {\n",
    "            num <- num / pr # divide and update our number\n",
    "            factors <- c(factors, pr) # append the prime to the factors\n",
    "            \n",
    "            if (num == 1) # if num becomes zero, nothing more to check\n",
    "            {\n",
    "                return(factors) # return the factors\n",
    "            }\n",
    "        }\n",
    "    }\n",
    "    \n",
    "    return(c(factors, num)) # add what remains as the last factor and return the factors\n",
    "    \n",
    "}"
   ]
  },
  {
   "cell_type": "markdown",
   "metadata": {},
   "source": [
    "Check whether it holds.\n",
    "\n",
    "Let's create a number with many prime factors:"
   ]
  },
  {
   "cell_type": "code",
   "execution_count": null,
   "metadata": {},
   "outputs": [],
   "source": [
    "num2 <- prod(c(2,3,5)^c(3,4,5))\n",
    "num2"
   ]
  },
  {
   "cell_type": "markdown",
   "metadata": {},
   "source": [
    "And see whether function can extract all factors"
   ]
  },
  {
   "cell_type": "code",
   "execution_count": null,
   "metadata": {},
   "outputs": [],
   "source": [
    "prime_factors(num2)"
   ]
  },
  {
   "cell_type": "markdown",
   "metadata": {},
   "source": [
    "See whether it can detect a prime:"
   ]
  },
  {
   "cell_type": "code",
   "execution_count": null,
   "metadata": {},
   "outputs": [],
   "source": [
    "primex <- max(prime_collect(1e4))\n",
    "primex"
   ]
  },
  {
   "cell_type": "code",
   "execution_count": null,
   "metadata": {},
   "outputs": [],
   "source": [
    "prime_factors(primex)"
   ]
  }
 ],
 "metadata": {
  "kernelspec": {
   "display_name": "R",
   "language": "R",
   "name": "ir"
  },
  "language_info": {
   "codemirror_mode": "r",
   "file_extension": ".r",
   "mimetype": "text/x-r-source",
   "name": "R",
   "pygments_lexer": "r",
   "version": "3.5.2"
  },
  "toc": {
   "nav_menu": {},
   "number_sections": true,
   "sideBar": true,
   "skip_h1_title": false,
   "title_cell": "Table of Contents",
   "title_sidebar": "Contents",
   "toc_cell": false,
   "toc_position": {},
   "toc_section_display": "block",
   "toc_window_display": false
  },
  "varInspector": {
   "cols": {
    "lenName": 16,
    "lenType": 16,
    "lenVar": 40
   },
   "kernels_config": {
    "python": {
     "delete_cmd_postfix": "",
     "delete_cmd_prefix": "del ",
     "library": "var_list.py",
     "varRefreshCmd": "print(var_dic_list())"
    },
    "r": {
     "delete_cmd_postfix": ") ",
     "delete_cmd_prefix": "rm(",
     "library": "var_list.r",
     "varRefreshCmd": "cat(var_dic_list()) "
    }
   },
   "types_to_exclude": [
    "module",
    "function",
    "builtin_function_or_method",
    "instance",
    "_Feature"
   ],
   "window_display": false
  }
 },
 "nbformat": 4,
 "nbformat_minor": 2
}
