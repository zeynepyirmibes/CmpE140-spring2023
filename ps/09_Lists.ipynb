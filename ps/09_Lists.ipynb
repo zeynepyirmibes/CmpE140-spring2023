{
 "cells": [
  {
   "cell_type": "code",
   "execution_count": 6,
   "metadata": {},
   "outputs": [],
   "source": [
    "options(jupyter.rich_display = F)"
   ]
  },
  {
   "cell_type": "markdown",
   "metadata": {},
   "source": [
    "# LISTS\n",
    "\n",
    "**By Serhat Çevikel**"
   ]
  },
  {
   "cell_type": "markdown",
   "metadata": {},
   "source": [
    "## Quick word count"
   ]
  },
  {
   "cell_type": "markdown",
   "metadata": {},
   "source": [
    "Let's have a sentence with many repeated words:"
   ]
  },
  {
   "cell_type": "code",
   "execution_count": null,
   "metadata": {},
   "outputs": [],
   "source": [
    "sentence <- \"Peter Piper picked a peck of pickled peppers A peck of pickled peppers Peter Piper picked If Peter Piper picked a peck of pickled peppers Where is the peck of pickled peppers Peter Piper picked?\""
   ]
  },
  {
   "cell_type": "code",
   "execution_count": null,
   "metadata": {},
   "outputs": [],
   "source": [
    "sentence"
   ]
  },
  {
   "cell_type": "markdown",
   "metadata": {},
   "source": [
    "Let's first change case to lower, and split into words:"
   ]
  },
  {
   "cell_type": "code",
   "execution_count": null,
   "metadata": {},
   "outputs": [],
   "source": [
    "words <- unlist(strsplit(tolower(sentence), split = \" \"))"
   ]
  },
  {
   "cell_type": "code",
   "execution_count": null,
   "metadata": {},
   "outputs": [],
   "source": [
    "str(words)"
   ]
  },
  {
   "cell_type": "markdown",
   "metadata": {},
   "source": [
    "The easiest way to create a wordlist is to use the split() function:"
   ]
  },
  {
   "cell_type": "code",
   "execution_count": null,
   "metadata": {},
   "outputs": [],
   "source": [
    "words_list <- split(1:length(words), words)"
   ]
  },
  {
   "cell_type": "code",
   "execution_count": null,
   "metadata": {},
   "outputs": [],
   "source": [
    "words_list"
   ]
  },
  {
   "cell_type": "markdown",
   "metadata": {},
   "source": [
    "What is does:\n",
    "\n",
    "It first creates a sequence across the words, and splits those indices in the sequences by words: A separate list item holding the indices is created for each unique word, main task of word list example!"
   ]
  },
  {
   "cell_type": "markdown",
   "metadata": {},
   "source": [
    "Now let's get the frequencies of each word:"
   ]
  },
  {
   "cell_type": "code",
   "execution_count": null,
   "metadata": {},
   "outputs": [],
   "source": [
    "frequencies <- sapply(words_list, length)\n",
    "frequencies"
   ]
  },
  {
   "cell_type": "markdown",
   "metadata": {},
   "source": [
    "Let's get the barplot sorted by frequencies:"
   ]
  },
  {
   "cell_type": "code",
   "execution_count": null,
   "metadata": {},
   "outputs": [],
   "source": [
    "barplot(sort(frequencies, decreasing = T))"
   ]
  },
  {
   "cell_type": "markdown",
   "metadata": {},
   "source": [
    "And let's get the positions of the first and last occurences of each word:"
   ]
  },
  {
   "cell_type": "code",
   "execution_count": null,
   "metadata": {},
   "outputs": [],
   "source": [
    "t(sapply(words_list, function(x) c(min(x), max(x))))"
   ]
  },
  {
   "cell_type": "markdown",
   "metadata": {},
   "source": [
    "Let's do something more complicated using a function:\n",
    "\n",
    "For a given word position, return the number of unique words that appeared until that position:"
   ]
  },
  {
   "cell_type": "code",
   "execution_count": null,
   "metadata": {},
   "outputs": [],
   "source": [
    "words_appeared <- function(lst, pos)\n",
    "{\n",
    "    bool <- sapply(lst, function(x) any(x <= pos))\n",
    "    return(sum(bool))\n",
    "}"
   ]
  },
  {
   "cell_type": "code",
   "execution_count": null,
   "metadata": {},
   "outputs": [],
   "source": [
    "words_appeared(words_list, 10)"
   ]
  },
  {
   "cell_type": "markdown",
   "metadata": {},
   "source": [
    "And for each position from 1 to the length of words vector, let's get the count of unique words that appeared so far:"
   ]
  },
  {
   "cell_type": "code",
   "execution_count": null,
   "metadata": {},
   "outputs": [],
   "source": [
    "cum_count <- sapply(1:length(words), function(x) words_appeared(words_list, x))\n",
    "cum_count"
   ]
  },
  {
   "cell_type": "markdown",
   "metadata": {},
   "source": [
    "And draw a lineplot for it:"
   ]
  },
  {
   "cell_type": "code",
   "execution_count": null,
   "metadata": {},
   "outputs": [],
   "source": [
    "plot(cum_count, type = \"l\")"
   ]
  },
  {
   "cell_type": "markdown",
   "metadata": {},
   "source": [
    "## Pascal's triangle"
   ]
  },
  {
   "cell_type": "markdown",
   "metadata": {},
   "source": [
    "choose(n, r) function returns the number of distinct combinations of r values from a set of n values"
   ]
  },
  {
   "cell_type": "markdown",
   "metadata": {},
   "source": [
    "Pascal triangle shows the coefficients of polynomials ${(x+1)}^n$ for each value of n.\n",
    "\n",
    "For example ${(x+1)}^2 = x^2 + 2x + 1$\n",
    "\n",
    "The coefficients are: C(2,0), C(2,1), C(2,2)"
   ]
  },
  {
   "cell_type": "code",
   "execution_count": null,
   "metadata": {},
   "outputs": [],
   "source": [
    "lapply(1:10, function(x) choose(x, 0:x))"
   ]
  },
  {
   "cell_type": "markdown",
   "metadata": {},
   "source": [
    "## Factorisation revisited and divisors"
   ]
  },
  {
   "cell_type": "markdown",
   "metadata": {},
   "source": [
    "Remember the prime factorisation example from the review session. Let's revisit it so that we collect the prime factors of number up to n:"
   ]
  },
  {
   "cell_type": "markdown",
   "metadata": {},
   "source": [
    "First we need the prime sieve again:"
   ]
  },
  {
   "cell_type": "code",
   "execution_count": null,
   "metadata": {},
   "outputs": [],
   "source": [
    "prime_collect <- function(maxnum)\n",
    "{\n",
    "    primes <- 2 # initiate the vector of primes with 2\n",
    "    \n",
    "    for (num in 3:maxnum) # iterate across numbers from 3 to maxnum\n",
    "    {    \n",
    "        limitn <- ceiling(sqrt(num)) # get the checking limit\n",
    "        isprime <- T # start with the assumption that number is prime\n",
    "        \n",
    "        for (pr in primes[primes <= limitn]) # iterate across primes up to the square root of num\n",
    "        {\n",
    "            if (num %% pr == 0) # if the number is divisible\n",
    "            { \n",
    "                isprime <- F # toggle the prime boolean, number is composite\n",
    "                break # break out of inner loop\n",
    "            }                        \n",
    "        }\n",
    "        \n",
    "        if (isprime) # if prime boolean is still true, the number had no divisors so is prime\n",
    "        {\n",
    "            primes <- c(primes, num) # append the number as a prime\n",
    "        } # close i\n",
    "\n",
    "    }\n",
    "\n",
    "    return(primes)\n",
    "}"
   ]
  },
  {
   "cell_type": "markdown",
   "metadata": {},
   "source": [
    "And we need the prime_factors() function. However, if we extract the prime numbers for the last value n, we can reuse it:"
   ]
  },
  {
   "cell_type": "code",
   "execution_count": null,
   "metadata": {},
   "outputs": [],
   "source": [
    "prime_factors <- function(num, primes_all)\n",
    "{\n",
    "    primes <- primes_all[primes_all <= ceiling(sqrt(num))] # get primes up to the square root of number\n",
    "    factors <- NULL # initiate factors vector\n",
    "    \n",
    "    \n",
    "    for (pr in primes) # across primes\n",
    "    {\n",
    "        while (num %% pr == 0) # as long as the number is divisible by the factor \n",
    "        {\n",
    "            num <- num / pr # divide and update our number\n",
    "            factors <- c(factors, pr) # append the prime to the factors\n",
    "            \n",
    "            if (num == 1) # if num becomes zero, nothing more to check\n",
    "            {\n",
    "                return(factors) # return the factors\n",
    "            }\n",
    "        }\n",
    "    }\n",
    "    \n",
    "    return(c(factors, num)) # add what remains as the last factor and return the factors\n",
    "    \n",
    "}"
   ]
  },
  {
   "cell_type": "code",
   "execution_count": null,
   "metadata": {},
   "outputs": [],
   "source": [
    "collect_factors <- function(n)\n",
    "{\n",
    "    primes <- prime_collect(ceiling(sqrt(n)))\n",
    "    lapply(1:n, prime_factors, primes)\n",
    "}"
   ]
  },
  {
   "cell_type": "code",
   "execution_count": null,
   "metadata": {},
   "outputs": [],
   "source": [
    "factors30 <- collect_factors(30)\n",
    "factors30"
   ]
  },
  {
   "cell_type": "markdown",
   "metadata": {},
   "source": [
    "How about number of divisors?\n",
    "\n",
    "For example for 4 we have 1,2,4 so 3 divisors\n",
    "\n",
    "For 12 we have 1,2,3,4,6,12 so 6 divisors"
   ]
  },
  {
   "cell_type": "markdown",
   "metadata": {},
   "source": [
    "The generalized rule is that, the number of divisors is the product of the 1 + power of each prime factor\n",
    "\n",
    "So for 4, we have $2^2$ so $2+1=3$\n",
    "\n",
    "For 12, we have $2^2 * 3^1$ So $(2+1)*(1+1)=6$"
   ]
  },
  {
   "cell_type": "markdown",
   "metadata": {},
   "source": [
    "Let's create a function that takes a list of prime factors of numbers up to n and returns the number of divisors along with the numbers themselves in a matrix.\n",
    "\n",
    "Note that since 1 has no prime factors number of divisors is $0+1=1$"
   ]
  },
  {
   "cell_type": "markdown",
   "metadata": {},
   "source": [
    "For example for 12:"
   ]
  },
  {
   "cell_type": "code",
   "execution_count": null,
   "metadata": {},
   "outputs": [],
   "source": [
    "prod(table(factors30[[12]]) + 1)"
   ]
  },
  {
   "cell_type": "code",
   "execution_count": null,
   "metadata": {},
   "outputs": [],
   "source": [
    "num_divisors <- function(lst_f)\n",
    "{\n",
    "    divisors <- sapply(lst_f, function(x) prod(table(x) + 1))\n",
    "    mat_div <- cbind(number = 1:length(lst_f), divisors)\n",
    "    mat_div[1,2] <- 1\n",
    "    return(mat_div)\n",
    "}"
   ]
  },
  {
   "cell_type": "code",
   "execution_count": null,
   "metadata": {},
   "outputs": [],
   "source": [
    "num_divisors(factors30)"
   ]
  },
  {
   "cell_type": "markdown",
   "metadata": {},
   "source": [
    "On primes, the number drops to 2, as expected"
   ]
  },
  {
   "cell_type": "code",
   "execution_count": null,
   "metadata": {},
   "outputs": [],
   "source": []
  }
 ],
 "metadata": {
  "kernelspec": {
   "display_name": "R",
   "language": "R",
   "name": "ir"
  },
  "language_info": {
   "codemirror_mode": "r",
   "file_extension": ".r",
   "mimetype": "text/x-r-source",
   "name": "R",
   "pygments_lexer": "r",
   "version": "3.5.2"
  },
  "toc": {
   "nav_menu": {},
   "number_sections": true,
   "sideBar": true,
   "skip_h1_title": false,
   "title_cell": "Table of Contents",
   "title_sidebar": "Contents",
   "toc_cell": false,
   "toc_position": {},
   "toc_section_display": "block",
   "toc_window_display": false
  },
  "varInspector": {
   "cols": {
    "lenName": 16,
    "lenType": 16,
    "lenVar": 40
   },
   "kernels_config": {
    "python": {
     "delete_cmd_postfix": "",
     "delete_cmd_prefix": "del ",
     "library": "var_list.py",
     "varRefreshCmd": "print(var_dic_list())"
    },
    "r": {
     "delete_cmd_postfix": ") ",
     "delete_cmd_prefix": "rm(",
     "library": "var_list.r",
     "varRefreshCmd": "cat(var_dic_list()) "
    }
   },
   "types_to_exclude": [
    "module",
    "function",
    "builtin_function_or_method",
    "instance",
    "_Feature"
   ],
   "window_display": false
  }
 },
 "nbformat": 4,
 "nbformat_minor": 2
}
